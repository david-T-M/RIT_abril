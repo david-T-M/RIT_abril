{
 "cells": [
  {
   "cell_type": "code",
   "execution_count": 1,
   "metadata": {},
   "outputs": [
    {
     "name": "stderr",
     "output_type": "stream",
     "text": [
      "/home/david/anaconda3/envs/rit/lib/python3.9/site-packages/torch/cuda/__init__.py:138: UserWarning: CUDA initialization: The NVIDIA driver on your system is too old (found version 11060). Please update your GPU driver by downloading and installing a new version from the URL: http://www.nvidia.com/Download/index.aspx Alternatively, go to: https://pytorch.org to install a PyTorch version that has been compiled with your version of the CUDA driver. (Triggered internally at ../c10/cuda/CUDAFunctions.cpp:108.)\n",
      "  return torch._C._cuda_getDeviceCount() > 0\n"
     ]
    }
   ],
   "source": [
    "import pandas as pd\n",
    "import numpy as np\n",
    "import utils as ut # esta librería tiene funciones para poder obtener un procesamiento del <T,H>\n",
    "import spacy\n",
    "import mutual_info as mi\n",
    "import time\n",
    "from scipy.stats import wasserstein_distance,entropy\n",
    "import sys\n",
    "from math import floor"
   ]
  },
  {
   "cell_type": "code",
   "execution_count": 2,
   "metadata": {},
   "outputs": [],
   "source": [
    "import conceptnet_lite\n",
    "conceptnet_lite.connect(\"../OPENAI/data/conceptnet.db\")\n",
    "from conceptnet_lite import Label, edges_for, edges_between"
   ]
  },
  {
   "cell_type": "code",
   "execution_count": 3,
   "metadata": {},
   "outputs": [],
   "source": [
    "def obtener_distancia(texto_v,hipotesis_v,texto_t,texto_h,b_col,b_index):\n",
    "    lista_l=[]\n",
    "    for i in range(len(texto_t)):\n",
    "        lista=[]\n",
    "        for j in range(len(texto_h)):\n",
    "            lista.append(np.linalg.norm(texto_v[i] - hipotesis_v[j]))#*wasserstein_distance(texto_2[i],hipotesis_2[j]))\n",
    "        lista_l.append(lista)\n",
    "    df_distEuc=pd.DataFrame(lista_l,index=texto_t,columns=texto_h)\n",
    "    df_distEuc=df_distEuc.drop(b_col[1:],axis=1)\n",
    "    df_distEuc=df_distEuc.drop(b_index[1:],axis=0)\n",
    "    return df_distEuc"
   ]
  },
  {
   "cell_type": "code",
   "execution_count": 4,
   "metadata": {},
   "outputs": [],
   "source": [
    "def wasserstein_mutual_inf(texto_v,hipotesis_v,texto_t,texto_h):  \n",
    "    lista_l=[]\n",
    "    lista_muinfor=[]   \n",
    "    for i in range(len(texto_t)):\n",
    "        lista=[]\n",
    "        lista_mu=[]\n",
    "        for j in range(len(texto_h)):\n",
    "            lista.append(wasserstein_distance(texto_v[i],hipotesis_v[j]))\n",
    "            lista_mu.append(mi.mutual_information_2d(np.array(texto_v[i]),np.array(hipotesis_v[j])))\n",
    "        lista_l.append(lista)\n",
    "        lista_muinfor.append(lista_mu)\n",
    "    DFmearth=pd.DataFrame(lista_l,index=texto_t,columns=texto_h)\n",
    "    DFmutual_inf=pd.DataFrame(lista_muinfor,index=texto_t,columns=texto_h)\n",
    "    return DFmearth,DFmutual_inf"
   ]
  },
  {
   "cell_type": "code",
   "execution_count": 5,
   "metadata": {},
   "outputs": [],
   "source": [
    "def entropia(X):\n",
    "    \"\"\"Devuelve el valor de entropia de una muestra de datos\"\"\" \n",
    "    probs = [np.mean(X == valor) for valor in set(X)]\n",
    "    print(\"Valores para entropia\",set(X))\n",
    "    print(\"Probabilidades\",probs)\n",
    "    #return round(sum(-p * np.log2(p) for p in probs), 3)\n",
    "    return entropy(probs,base=2)"
   ]
  },
  {
   "cell_type": "code",
   "execution_count": 6,
   "metadata": {},
   "outputs": [
    {
     "name": "stdout",
     "output_type": "stream",
     "text": [
      "Valores para entropia {0, 1, 2, 3}\n",
      "Probabilidades [0.09090909090909091, 0.09090909090909091, 0.7272727272727273, 0.09090909090909091]\n"
     ]
    },
    {
     "data": {
      "text/plain": [
       "1.2776134368191157"
      ]
     },
     "execution_count": 6,
     "metadata": {},
     "output_type": "execute_result"
    }
   ],
   "source": [
    "entropia(np.array([1,2,2,2,2,2,2,2,2,0,3]))"
   ]
  },
  {
   "cell_type": "code",
   "execution_count": 7,
   "metadata": {},
   "outputs": [],
   "source": [
    "def kullback_leibler(X,Y):\n",
    "    \"\"\"Devuelve el valor de entropia de una muestra de datos\"\"\" \n",
    "    probsX = [np.mean(X == valor) for valor in set(X)]\n",
    "    print(\"Valores para entropia\",set(X))\n",
    "    print(\"Probabilidades\",probsX)\n",
    "    probsY = [np.mean(Y == valor) for valor in set(X)]\n",
    "    print(\"Valores para entropia\",set(X))\n",
    "    print(\"Probabilidades\",probsY)\n",
    "    #return round(sum(-p * np.log2(p) for p in probs), 3)\n",
    "    return entropy(probsY,probsX,base=2)"
   ]
  },
  {
   "cell_type": "code",
   "execution_count": 8,
   "metadata": {},
   "outputs": [
    {
     "name": "stdout",
     "output_type": "stream",
     "text": [
      "Valores para entropia {1, 2, 3}\n",
      "Probabilidades [0.2, 0.6, 0.2]\n",
      "Valores para entropia {1, 2, 3}\n",
      "Probabilidades [0.25, 0.75, 0.0]\n"
     ]
    },
    {
     "data": {
      "text/plain": [
       "0.32192809488736235"
      ]
     },
     "execution_count": 8,
     "metadata": {},
     "output_type": "execute_result"
    }
   ],
   "source": [
    "kullback_leibler(np.array([1,2,2,2,3]),np.array([1,2,2,2]))"
   ]
  },
  {
   "cell_type": "code",
   "execution_count": 9,
   "metadata": {},
   "outputs": [],
   "source": [
    "relaciones_generales=[\"is_a\",\"part_of\",\"used_for\", \"capable_of\", \"at_location\",\"etymologically_related_to\",\"manner_of\",\"has_a\",\"derived_from\",\"has_property\",\"form_of\",\"causes\",\"has_prerequisite\",\"has_subevent\",\"has_first_subevent\"]\n",
    "relaciones_especificas=[\"is_a\",\"manner_of\",\"has_a\",\"derived_from\",\"has_property\",\"form_of\",\"causes\",\"has_prerequisite\",\"has_subevent\",\"has_first_subevent\"]"
   ]
  },
  {
   "cell_type": "code",
   "execution_count": 10,
   "metadata": {},
   "outputs": [],
   "source": [
    "def bag_of_synonyms(word):\n",
    "    sinonimos=set()\n",
    "    try:\n",
    "        for e in edges_for(Label.get(text=word, language='en').concepts, same_language=True):\n",
    "            if e.relation.name == \"synonym\":\n",
    "                if word== e.start.text:\n",
    "                    sinonimos.add(e.end.text)\n",
    "                elif word== e.end.text:\n",
    "                    sinonimos.add(e.start.text)\n",
    "    except:\n",
    "        pass\n",
    "    sinonimos.add(word)\n",
    "    return sinonimos\n",
    "\n",
    "def bag_of_antonyms(word):\n",
    "    antonimos=set()\n",
    "    try:\n",
    "        for e in edges_for(Label.get(text=word, language='en').concepts, same_language=True):\n",
    "            if e.relation.name in [\"antonym\",\"distinc_from\"]:\n",
    "                if word== e.start.text:\n",
    "                    antonimos.add(e.end.text)\n",
    "                elif word== e.end.text:\n",
    "                    antonimos.add(e.start.text)\n",
    "    except:\n",
    "        pass\n",
    "    return antonimos\n",
    "\n",
    "def bag_of_hyperonyms(word):\n",
    "    hiperonimos=set()\n",
    "    try:\n",
    "        for e in edges_for(Label.get(text=word, language='en').concepts, same_language=True):\n",
    "            if e.relation.name in relaciones_generales:\n",
    "                if word== e.start.text:\n",
    "                    hiperonimos.add(e.end.text)\n",
    "    except:\n",
    "        pass\n",
    "    return hiperonimos\n",
    "\n",
    "def bag_of_hyponyms(word):\n",
    "    hiponimos=set()\n",
    "    try:\n",
    "        for e in edges_for(Label.get(text=word, language='en').concepts, same_language=True):\n",
    "            if e.relation.name in relaciones_especificas:\n",
    "                if word== e.end.text:\n",
    "                    hiponimos.add(e.start.text)\n",
    "                    #print(e.relation.name,e.start.text)\n",
    "    except:\n",
    "        pass\n",
    "    return hiponimos"
   ]
  },
  {
   "cell_type": "code",
   "execution_count": 11,
   "metadata": {},
   "outputs": [],
   "source": [
    "def jaro_distance(s1, s2,sinT,sinH,HipT,hipH) :\n",
    "    bandera=True\n",
    "\n",
    "    # Length of two strings\n",
    "    len1 = len(s1)\n",
    "    len2 = len(s2)\n",
    "\n",
    "    # If the listas de tokens are equal \n",
    "    if len1==len2:\n",
    "        for i in range(len1):\n",
    "            if s1[i]!=s2[i]:\n",
    "                bandera=False\n",
    "                break\n",
    "        if (bandera):\n",
    "            return 1.0; \n",
    " \n",
    "    if (len1 == 0 or len2 == 0) :\n",
    "        return 0.0; \n",
    " \n",
    "    # Maximum distance upto which matching \n",
    "    # is allowed \n",
    "    max_dist = (max(len(s1), len(s2)) // 2 )-1 ; \n",
    " \n",
    "    # Count of matches \n",
    "    match = 0; \n",
    " \n",
    "    # Hash for matches \n",
    "    hash_s1 = [0] * len(s1)\n",
    "    hash_s2 = [0] * len(s2)\n",
    " \n",
    "    # Traverse through the first string \n",
    "    for i in range(len1):\n",
    " \n",
    "        # Check if there is any matches\n",
    "        for j in range(max(0, i - max_dist), \n",
    "                       min(len2, i + max_dist + 1)):\n",
    "            print(s1[i],s2[j])\n",
    "            # If there is a match or is contain in a bag of sinomys of tk\n",
    "            if ((s1[i] == s2[j] or s1[i] in sinH[j] or s2[j] in sinT[i]) and hash_s2[j] == 0) : \n",
    "                print(s1[i],s2[j],\"sinonimos\")\n",
    "                hash_s1[i] += 1; \n",
    "                hash_s2[j] += 1; \n",
    "                match += 1; \n",
    "                break\n",
    "            elif ((s1[i] in hipH[j] or len((sinT[i]).intersection(hipH[j]))>0) and hash_s2[j] == 0):\n",
    "                print(\"hiponimos\",s2[j],s1[i],(sinT[i]).intersection(hipH[j]))\n",
    "                hash_s1[i] += 1; \n",
    "                hash_s2[j] += 1; \n",
    "                match += 1; \n",
    "                break\n",
    "            elif ((s2[j] in HipT[i] or len((sinH[j]).intersection(HipT[i]))>0) and hash_s2[j] == 0): \n",
    "                print(\"hiperonimos sobre sinonimos\",s2[j],s1[i])\n",
    "                hash_s1[i] += 1; \n",
    "                hash_s2[j] += 1; \n",
    "                match += 1; \n",
    "                break\n",
    "            # elif len((hipH[j]).intersection(HipT[i]))>0 and hash_s2[j] == 0: \n",
    "            #     print(\"hiperonimos3\",s2[j],s1[i],(hipH[j]).intersection(HipT[i]))\n",
    "            #     hash_s1[i] += 1; \n",
    "            #     hash_s2[j] += 1; \n",
    "            #     match += 1; \n",
    "            #     break\n",
    "            \n",
    "    print(hash_s1)\n",
    "    print(hash_s2)\n",
    "    print(match)\n",
    "    # If there is no match \n",
    "    if (match == 0) :\n",
    "        return 0.0; \n",
    " \n",
    "    # Number of transpositions \n",
    "    t = 0; \n",
    " \n",
    "    point = 0; \n",
    " \n",
    "    # Count number of occurrences \n",
    "    # where two characters match but \n",
    "    # there is a third matched character \n",
    "    # in between the indices \n",
    "    for i in range(len1) : \n",
    "        if (hash_s1[i]) :\n",
    "            # Find the next matched character \n",
    "            # in second string \n",
    "            while (hash_s2[point] == 0) :\n",
    "                point += 1; \n",
    " \n",
    "            if (s1[i] != s2[point]) :\n",
    "                point += 1\n",
    "                t += 1\n",
    "            else :\n",
    "                point += 1    \n",
    "    t /= 2; \n",
    "    #Return the Jaro Similarity \n",
    "    return match / len2; "
   ]
  },
  {
   "cell_type": "code",
   "execution_count": 12,
   "metadata": {},
   "outputs": [],
   "source": [
    "def relacion_entailment(wt,wh):\n",
    "    try:\n",
    "        concepts_wt = Label.get(text=wt, language='en').concepts\n",
    "        concepts_wh = Label.get(text=wh, language='en').concepts\n",
    "        for e in edges_between(concepts_wt, concepts_wh):\n",
    "            if wt == e.start.text and e.relation.name in relaciones_generales:\n",
    "                print(e.start.text, \"-\", e.end.text, \"|\", e.relation.name,e)\n",
    "                return True\n",
    "    except:\n",
    "        pass\n",
    "    return False\n",
    "\n",
    "def relacion_noentailment(wt,wh):\n",
    "    try:\n",
    "        concepts_wt = Label.get(text=wt, language='en').concepts\n",
    "        concepts_wh = Label.get(text=wh, language='en').concepts\n",
    "        for e in edges_between(concepts_wt, concepts_wh):\n",
    "            if wt == e.start.text and e.relation.name in [\"distinct_from\",\"antonym\"]:\n",
    "                print(e.start.text, \"-\", e.end.text, \"|\", e.relation.name,e)\n",
    "                return True\n",
    "    except:\n",
    "        pass\n",
    "    return False\n",
    "\n",
    "def relacion_conceptual(wt,wh):\n",
    "    try:\n",
    "        concepts_wt = Label.get(text=wt, language='en').concepts\n",
    "        concepts_wh = Label.get(text=wh, language='en').concepts\n",
    "        for e in edges_between(concepts_wt, concepts_wh,two_way=True):\n",
    "            if wt==e.end.text and e.relation.name in relaciones_generales:\n",
    "                print(e.start.text, \"-\", e.end.text, \"|\", e.relation.name,e)\n",
    "                return True\n",
    "            elif e.relation.name in [\"related_to\",\"similar_to\"]:\n",
    "                print(e.start.text, \"-\", e.end.text, \"|\", e.relation.name,e)\n",
    "                return True\n",
    "    except:\n",
    "        pass\n",
    "    return False"
   ]
  },
  {
   "cell_type": "code",
   "execution_count": 13,
   "metadata": {},
   "outputs": [],
   "source": [
    "def negacion(nlp,texto):\n",
    "    b=1.0\n",
    "    if (type(texto)==type(b) or texto==\"\" or texto==\"n/a\" or texto==\"nan\"):\n",
    "        return 0,\"\"\n",
    "    doc = nlp(texto.lower())\n",
    "    for token in doc:\n",
    "        if(token.dep_==\"neg\"):\n",
    "            return 1, token.head.lemma_\n",
    "    return 0,\"\"\n",
    "\n",
    "def representacion_entidades(nlp,texto):\n",
    "    dir_sust=dict()\n",
    "    palabras=[]\n",
    "    b=1.0\n",
    "    if (type(texto)==type(b) or texto==\"\" or texto==\"n/a\" or texto==\"nan\"):\n",
    "        return dir_sust,palabras\n",
    "    doc =nlp(texto.lower())\n",
    "    for token in doc:\n",
    "        if token.dep_ in tags:\n",
    "            #print(token.text, token.lemma_, token.pos_,token.dep_,token.head.text,token.head.lemma_, token.head.pos_,\n",
    "            #    [child for child in token.children])\n",
    "            #sustantivos.append(token.head.lemma_)\n",
    "            if token.head.lemma_ in dir_sust:\n",
    "                if dir_sust[token.head.lemma_]==\"NA\":\n",
    "                    dir_sust[token.head.lemma_]=token.lemma_\n",
    "                    if token.head not in palabras:\n",
    "                        palabras.append(token.head)\n",
    "                else:\n",
    "                    dir_sust[token.head.lemma_]=dir_sust[token.head.lemma_]+\",\"+token.lemma_\n",
    "                    if token.head not in palabras:\n",
    "                        palabras.append(token.head)\n",
    "            else:\n",
    "                dir_sust[token.head.lemma_]=token.lemma_\n",
    "                if token.head not in palabras:\n",
    "                    palabras.append(token.head)\n",
    "        elif token.pos_ in [\"NOUN\",\"PROPN\"]:\n",
    "            #print(token.text,token.lemma_, token.pos_,token.dep_)\n",
    "            #sustantivos.append(token.lemma_)\n",
    "            if token.lemma_ not in dir_sust:\n",
    "                dir_sust[token.lemma_]=\"NA\"\n",
    "                if token not in palabras:\n",
    "                    palabras.append(token)\n",
    "        elif token.pos_ in [\"VERB\"]:\n",
    "            #print(token.text, token.lemma_,token.pos_,token.dep_)\n",
    "            #sustantivos.append(token.lemma_)\n",
    "            if token.lemma_ not in dir_sust:\n",
    "                dir_sust[token.lemma_]=\"NA\"\n",
    "                if token not in palabras:\n",
    "                    palabras.append(token)\n",
    "        else:\n",
    "            print(token.text)\n",
    "    return dir_sust,palabras\n",
    "\n",
    "def representacion2(nlp,texto):\n",
    "    doc = nlp(texto.lower())\n",
    "    dir_sust=dict()\n",
    "    palabras=[]\n",
    "    noun_phrase= [chunk.lemma_ for chunk in doc.noun_chunks]\n",
    "    verbs = [token.lemma_ for token in doc if token.pos_ == \"VERB\"]\n",
    "    for chunk in doc.noun_chunks:\n",
    "        if chunk.root.lemma_!=chunk.lemma_:\n",
    "            dir_sust[chunk.root.lemma_]=','.join(chunk.lemma_.split()[:-1])\n",
    "        else:\n",
    "            dir_sust[chunk.root.lemma_]=\"NA\"\n",
    "    palabras.extend([chunk.root.lemma_ for chunk in doc.noun_chunks])\n",
    "    palabras.extend(verbs)\n",
    "    return dir_sust,palabras\n",
    "\n",
    "deps_tags=[\"relcl\",\"prep\",\"amod\",\"compound\",\"pobj\",\"conj\",\"nsubj\",\"advcl\",\"dobj\",\"neg\",'acomp',\"attr\", 'nummod',\"oprd\",\"npadvmod\"]\n",
    "palabras_no=[\"wear\",\"dress\",\"clothe\"]\n",
    "def representacion(nlp,texto):\n",
    "    dir_sust=dict()\n",
    "    palabras=[]\n",
    "    b=1.0\n",
    "    if (type(texto)==type(b) or texto==\"\" or texto==\"n/a\" or texto==\"nan\"):\n",
    "        return dir_sust,palabras\n",
    "    doc =nlp(texto)\n",
    "    # poses=[]\n",
    "    # tokens=[]\n",
    "    # lemmas=[]\n",
    "    # children=[]\n",
    "    # verb_vincu=[]\n",
    "    # deps=[]\n",
    "    dir_sust=dict()\n",
    "    palabras=[]\n",
    "    frase=\"\"\n",
    "    anterior=\"det\"\n",
    "    nsubj=\"\"\n",
    "    for token in doc:\n",
    "        #print(token.text, token.dep_, token.head.text, token.head.pos_,\n",
    "        #    [child for child in token.children])\n",
    "        # poses.append(token.pos_)\n",
    "        # tokens.append(token.text)\n",
    "        # lemmas.append(token.lemma_)\n",
    "        # verb_vincu.append(token.head.lemma_)\n",
    "        # deps.append(token.dep_)\n",
    "        # children.append([child for child in token.children])\n",
    "        # print(token.text,token.pos_,token.dep_)\n",
    "        if token.lemma_ not in palabras_no:\n",
    "            if token.dep_ in deps_tags or (token.dep_==\"ROOT\" and token.pos_==\"NOUN\"):\n",
    "                if token.dep_==\"nsubj\": \n",
    "                    if nsubj==\"\":\n",
    "                        frase= frase + \" \" + token.lemma_ \n",
    "                        nsubj=token.lemma_\n",
    "                    else:\n",
    "                        if frase!=\"\":\n",
    "                            palabras.append(frase.split()[-1])\n",
    "                            if len(frase.split())>1:\n",
    "                                dir_sust[frase.split()[-1]]=','.join(frase.split()[0:-1])\n",
    "                            else:\n",
    "                                dir_sust[frase.split()[-1]]=\"NA\"\n",
    "                        frase=\"\"\n",
    "                elif token.dep_==\"prep\":\n",
    "                    if token.lemma_ not in [\"in\",\"at\",\"on\",\"with\",\"from\",\"to\",\"for\",\"since\"]:    \n",
    "                        frase= frase + token.lemma_ + \" \"\n",
    "                    else:\n",
    "                        if frase!=\"\":\n",
    "                            palabras.append(frase.split()[-1])\n",
    "                            if len(frase.split())>1:\n",
    "                                dir_sust[frase.split()[-1]]=','.join(frase.split()[0:-1])\n",
    "                            else:\n",
    "                                dir_sust[frase.split()[-1]]=\"NA\"\n",
    "                        frase=\"\"\n",
    "                elif token.dep_==\"neg\":\n",
    "                    frase= frase + \" \"+ token.lemma_\n",
    "                else:\n",
    "                    \n",
    "                    frase= frase + \" \"+ token.lemma_\n",
    "            elif token.dep_ in [\"ROOT\"] and token.pos_ in [\"VERB\"] and anterior==\"NUM\":\n",
    "                #palabras.append(frase+\" \"+token.lemma_)\n",
    "                palabras.append(token.lemma_)\n",
    "                frase=\"\"\n",
    "            elif token.dep_ in [\"ROOT\"] and token.pos_ in [\"VERB\"]:\n",
    "                if frase!=\"\":\n",
    "                    palabras.append(frase.split()[-1])\n",
    "                    if len(frase.split())>1:\n",
    "                        dir_sust[frase.split()[-1]]=','.join(frase.split()[0:-1])\n",
    "                    else:\n",
    "                        dir_sust[frase.split()[-1]]=\"NA\"\n",
    "                    palabras.append(token.lemma_)\n",
    "                    dir_sust[token.lemma_]=\"NA\"\n",
    "                else:\n",
    "                    palabras.append(token.lemma_)\n",
    "                    dir_sust[token.lemma_]=\"NA\"\n",
    "                frase=\"\"\n",
    "            else:\n",
    "                #print(frase)\n",
    "                if frase!=\"\":\n",
    "                    palabras.append(frase.split()[-1])\n",
    "                    if len(frase.split())>1:\n",
    "                        dir_sust[frase.split()[-1]]=','.join(frase.split()[0:-1])\n",
    "                    else:\n",
    "                        dir_sust[frase.split()[-1]]=\"NA\"\n",
    "                frase=\"\"\n",
    "        anterior=token.pos_\n",
    "    if frase!=\"\":\n",
    "        palabras.append(frase.split()[-1])\n",
    "        if len(frase.split())>1:\n",
    "            dir_sust[frase.split()[-1]]=','.join(frase.split()[0:-1])\n",
    "        else:\n",
    "            dir_sust[frase.split()[-1]]=\"NA\"\n",
    "    # poses.append(\"<F>\")\n",
    "    # tokens.append(\"</F>\")\n",
    "    # lemmas.append(\"</F>\")\n",
    "    # children.append(\"</F>\")\n",
    "    # verb_vincu.append(\"</F>\")\n",
    "    # deps.append(\"</F>\")\n",
    "    # print(\"tokens\",tokens)\n",
    "    # print(\"poses\",poses)\n",
    "    # print(\"lemmas\",lemmas)#\n",
    "    # print(\"children\",children)\n",
    "    # print(\"verbos_vinculantes\",verb_vincu)#\n",
    "    # print(\"deps\",deps)\n",
    "    return dir_sust,palabras"
   ]
  },
  {
   "cell_type": "code",
   "execution_count": 14,
   "metadata": {},
   "outputs": [],
   "source": [
    "\n",
    "tags=[ 'acl',\n",
    " 'acomp',\n",
    " 'advcl',\n",
    " 'advmod',\n",
    " 'amod',\n",
    " 'appos',\n",
    " 'ccomp',\n",
    " 'complm',\n",
    " 'compound',\n",
    " 'conj',\n",
    " 'infmod',\n",
    " 'meta',\n",
    " 'neg',\n",
    " 'nmod',\n",
    " 'nn',\n",
    " 'npadvmod',\n",
    " 'nounmod',\n",
    " 'npmod',\n",
    " 'num',\n",
    " 'number',\n",
    " 'nummod',\n",
    " 'partmod',\n",
    " 'pcomp',\n",
    " 'poss',\n",
    " 'possessive',\n",
    " 'prep',\n",
    " 'quantmod',\n",
    " 'rcmod',\n",
    " 'relcl',\n",
    " 'xcomp',\n",
    " 'adc',\n",
    " 'avc',\n",
    " 'mnr',\n",
    " 'mo',\n",
    " 'ng',\n",
    " 'nmc'\n",
    "]"
   ]
  },
  {
   "cell_type": "code",
   "execution_count": 15,
   "metadata": {},
   "outputs": [],
   "source": [
    "nlp = spacy.load(\"en_core_web_md\") # modelo de nlp\n",
    "\n",
    "#ut.load_vectors_in_lang(nlp,\"../OPENAI/data/glove.840B.300d.txt\") # carga de vectores en nlp.wv\n",
    "ut.load_vectors_in_lang(nlp,\"./data/numberbatch-en-17.04b.txt\") # carga de vectores en nlp.wv\n"
   ]
  },
  {
   "cell_type": "code",
   "execution_count": 16,
   "metadata": {},
   "outputs": [],
   "source": [
    "# lista de listas para dataframe\n",
    "new_data = { 'distancias' : [], 'entropia_total' : [],'entropias' : [],\n",
    "            'mutinf' : [], 'mearts' : [], 'max_info' : [], 'sumas' : [],\n",
    "            'mutinf_t' : [], 'mearts_t' : [], 'max_info_t' : [], 'sumas_t' : [],\n",
    "            'entail':[],'contra':[],'neutral':[],'no_match':[],'rel_conceptuales':[],\n",
    "            'list_comp' : [], 'diferencias' :[], 'list_incomp':[], 'entropia_relaciones':[],\n",
    "            'list_M' : [], 'list_m' : [], 'list_T' : [], 'Jaro-Winkler_rit':[], 'KL_divergence':[],\n",
    "            'negT' : [], 'verbT' : [], 'negH' : [], 'verbH':[], 'overlap_ent':[],'clases' : []}"
   ]
  },
  {
   "cell_type": "code",
   "execution_count": 17,
   "metadata": {},
   "outputs": [],
   "source": [
    "# cargar los conjuntos de sinonimos, hyperonimos e hyponimos\n",
    "diccionario_sinonimos=dict()\n",
    "diccionario_hiperonimos=dict()\n",
    "diccionario_hyponimos=dict()\n",
    "#diccionario_antonimos=dict()\n",
    "\n",
    "df_temp=pd.read_pickle(\"salida/nuevo4a/Synonyms.pickle\")\n",
    "for index,strings in df_temp.iterrows():\n",
    "    diccionario_sinonimos[strings['word']]=strings['Synonym']\n",
    "\n",
    "df_temp=pd.read_pickle(\"salida/nuevo4a/Hyperonyms.pickle\")\n",
    "for index,strings in df_temp.iterrows():\n",
    "    diccionario_hiperonimos[strings['word']]=strings['Hyperonym']\n",
    "\n",
    "df_temp=pd.read_pickle(\"salida/nuevo4a/Hyponyms.pickle\")\n",
    "for index,strings in df_temp.iterrows():\n",
    "    diccionario_hyponimos[strings['word']]=strings['Hyponym']"
   ]
  },
  {
   "cell_type": "code",
   "execution_count": 22,
   "metadata": {},
   "outputs": [],
   "source": [
    "textos=[\"A person in orange clothing rests above a metro entrance.\"]\n",
    "hipotesis= [\"Someone is standing near a metro station\"]"
   ]
  },
  {
   "cell_type": "code",
   "execution_count": 74,
   "metadata": {},
   "outputs": [],
   "source": [
    "# from sentence_transformers import SentenceTransformer,util\n",
    "# modelSB = SentenceTransformer('all-MiniLM-L6-v2')"
   ]
  },
  {
   "cell_type": "code",
   "execution_count": 75,
   "metadata": {},
   "outputs": [
    {
     "name": "stdout",
     "output_type": "stream",
     "text": [
      "0.4859835207462311\n"
     ]
    }
   ],
   "source": [
    "# emb1 = modelSB.encode(\"station\")\n",
    "# emb2 = modelSB.encode(\"metro\")\n",
    "# #Get the cosine similarity score between sentences\n",
    "# cos_sim = util.cos_sim(emb1, emb2)\n",
    "# print(float(cos_sim[0][0]))\n",
    "# #agregar esta parte"
   ]
  },
  {
   "cell_type": "code",
   "execution_count": 23,
   "metadata": {},
   "outputs": [
    {
     "name": "stdout",
     "output_type": "stream",
     "text": [
      "0\n",
      "A person in orange clothing rests above a metro entrance.\n",
      "Someone is standing near a metro station\n",
      "['person', 'entrance', 'clothing', 'orange', 'rest', 'metro']\n",
      "['station', 'metro', 'stand']\n",
      "person station\n",
      "person metro\n",
      "person stand\n",
      "entrance station\n",
      "entrance metro\n",
      "entrance stand\n",
      "clothing station\n",
      "clothing metro\n",
      "clothing stand\n",
      "orange metro\n",
      "orange stand\n",
      "rest stand\n",
      "[0, 0, 0, 0, 0, 0]\n",
      "[0, 0, 0]\n",
      "0\n",
      "Valores para entropia {0.0, 0.1, 0.5, 0.2, -0.1, 1.0}\n",
      "Probabilidades [0.5, 0.2222222222222222, 0.05555555555555555, 0.1111111111111111, 0.05555555555555555, 0.05555555555555555]\n",
      "           station     metro     stand\n",
      "person    0.038627  0.017240  0.053521\n",
      "entrance  0.198481  0.110864  0.083514\n",
      "clothing -0.008238 -0.026447 -0.031997\n",
      "orange    0.021178  0.112946 -0.059310\n",
      "rest     -0.012533 -0.031303  0.173322\n",
      "metro     0.504996  1.000000  0.040170\n",
      "proceso de obtención de generalidad\n",
      "           station     stand\n",
      "person    0.038627  0.053521\n",
      "entrance  0.198481  0.083514\n",
      "clothing -0.008238 -0.031997\n",
      "orange    0.021178 -0.059310\n",
      "rest     -0.012533  0.173322\n",
      "metro     0.504996  0.040170 Index(['station', 'stand'], dtype='object')\n",
      "columna a checar station\n",
      "acces station metro 0.50499636\n",
      "Proceso de conjuntos\n",
      "acces station entrance 0.1984811\n",
      "Proceso de conjuntos\n",
      "acces station person 0.038627442\n",
      "Proceso de conjuntos\n",
      "columna a checar stand\n",
      "acces stand rest 0.17332184\n",
      "Proceso de conjuntos\n",
      "acces stand entrance 0.083513685\n",
      "Proceso de conjuntos\n",
      "acces stand person 0.053521227\n",
      "Proceso de conjuntos\n",
      "proceso de obtención de contradiction\n",
      "           station     stand\n",
      "person    0.038627  0.053521\n",
      "entrance  0.198481  0.083514\n",
      "clothing -0.008238 -0.031997\n",
      "orange    0.021178 -0.059310\n",
      "rest     -0.012533  0.173322\n",
      "metro     0.504996  0.040170 Index(['station', 'stand'], dtype='object')\n",
      "columna a checar para contradicción station\n",
      "acces station metro 0.50499636\n",
      "acces station entrance 0.1984811\n",
      "acces station person 0.038627442\n",
      "columna a checar para contradicción stand\n",
      "acces stand rest 0.17332184\n",
      "acces stand entrance 0.083513685\n",
      "acces stand person 0.053521227\n",
      "proceso de obtención de especificidad y conceptuales\n",
      "           station     stand\n",
      "person    0.038627  0.053521\n",
      "entrance  0.198481  0.083514\n",
      "clothing -0.008238 -0.031997\n",
      "orange    0.021178 -0.059310\n",
      "rest     -0.012533  0.173322\n",
      "metro     0.504996  0.040170 Index(['station', 'stand'], dtype='object')\n",
      "columna a checar para especificidad station\n",
      "accesar a checar conceptuales station metro 0.50499636\n",
      "accesar a checar conceptuales station entrance 0.1984811\n",
      "accesar a checar conceptuales station person 0.038627442\n",
      "columna a checar para especificidad stand\n",
      "accesar a checar conceptuales stand rest 0.17332184\n",
      "stand - rest | manner_of /a/[/r/manner_of/,/c/en/stand/v/wn/contact/,/c/en/rest/v/wn/contact/]\n",
      "proceso de obtención de no relaciones\n",
      "           station\n",
      "person    0.038627\n",
      "entrance  0.198481\n",
      "clothing -0.008238\n",
      "orange    0.021178\n",
      "rest     -0.012533\n",
      "metro     0.504996 Index(['station'], dtype='object')\n",
      "rel [1 2 3]\n",
      "Valores para entropia {1, 2, 3}\n",
      "Probabilidades [0.3333333333333333, 0.3333333333333333, 0.3333333333333333]\n",
      "entropia final 1.584962500721156\n",
      "Valores para entropia {1, 2, 3}\n",
      "Probabilidades [0.3333333333333333, 0.3333333333333333, 0.3333333333333333]\n",
      "Valores para entropia {0.0, 0.2, 0.5}\n",
      "Probabilidades [0.6666666666666666, 0.16666666666666666, 0.16666666666666666]\n",
      "Valores para entropia {0.0, 0.1, 0.5, 0.2, -0.1, 1.0}\n",
      "Probabilidades [0.5, 0.2222222222222222, 0.05555555555555555, 0.1111111111111111, 0.05555555555555555, 0.05555555555555555]\n",
      "Valores para entropia {0.0, 0.1, 0.5, 0.2, -0.1, 1.0}\n",
      "Probabilidades [0.6666666666666666, 0.0, 0.16666666666666666, 0.16666666666666666, 0.0, 0.0]\n",
      "           station\n",
      "person    0.038627\n",
      "entrance  0.198481\n",
      "clothing -0.008238\n",
      "orange    0.021178\n",
      "rest     -0.012533\n",
      "metro     0.504996\n",
      "Tiempo que se llevo: 0.21  segundos\n"
     ]
    }
   ],
   "source": [
    "inicio = time.time()\n",
    "for i in range(len(textos)):\n",
    "#for i in range(4):\n",
    "    print(i)\n",
    "    print(textos[i])\n",
    "    r_t,t_clean_m=representacion_entidades(nlp,textos[i])\n",
    "    # #r_t,t_clean_m=representacion2(nlp,textos[i])\n",
    "    #r_t,t_clean_m=representacion(nlp,textos[i])\n",
    "    neg_t,negadat=negacion(nlp,textos[i])\n",
    "    new_data['negT'].append(neg_t)\n",
    "    new_data['verbT'].append(negadat)\n",
    "    # #print(list(r_t.keys()))\n",
    "    # for clave in r_t.keys():\n",
    "    #     print(\"texto\",clave,r_t[clave])\n",
    "    print(hipotesis[i])\n",
    "    r_h,h_clean_m = representacion_entidades(nlp,hipotesis[i])\n",
    "    # #r_h,h_clean_m = representacion2(nlp,hipotesis[i])\n",
    "    #r_h,h_clean_m = representacion(nlp,hipotesis[i])\n",
    "    neg_h,negadah=negacion(nlp,hipotesis[i])\n",
    "    new_data['negH'].append(neg_h)\n",
    "    new_data['verbH'].append(negadah)\n",
    "    # for clave in r_h.keys():\n",
    "    #     print(\"hipotesis\",clave,r_h[clave])\n",
    "    if len(set(h_clean_m))!=0 and len(set(t_clean_m))!=0:\n",
    "        new_data['overlap_ent'].append(len(set(t_clean_m).intersection(set(h_clean_m)))/len(set(h_clean_m)))\n",
    "    else:\n",
    "        new_data['overlap_ent'].append(0)\n",
    "    t_lem=list(set(ut.get_lemmas_(textos[i],nlp)))\n",
    "    h_lem=list(set(ut.get_lemmas_(hipotesis[i],nlp)))\n",
    "    t_vectors=ut.get_matrix_rep2(t_lem, nlp, normed=False)\n",
    "    h_vectors=ut.get_matrix_rep2(h_lem, nlp, normed=False)\n",
    "    t_vectors_n=ut.get_matrix_rep2(t_lem, nlp, normed=True)\n",
    "    h_vectors_n=ut.get_matrix_rep2(h_lem, nlp, normed=True)\n",
    "    \n",
    "    # print(t_vectors)\n",
    "    # print(h_vectors)\n",
    "    # print(t_clean_m,h_clean_m)\n",
    "    \n",
    "    # s1=t_clean_m.split()\n",
    "    # s2=h_clean_m.split()\n",
    "    for t in t_lem:\n",
    "        if t not in diccionario_sinonimos:\n",
    "            diccionario_sinonimos[t]=bag_of_synonyms(t)\n",
    "        if t not in diccionario_hiperonimos:\n",
    "            diccionario_hiperonimos[t]=bag_of_hyperonyms(t)\n",
    "        if t not in diccionario_hyponimos:\n",
    "            diccionario_hyponimos[t]=bag_of_hyponyms(t)\n",
    "        # if t not in diccionario_antonimos:\n",
    "        #     diccionario_antonimos[t]=bag_of_antonyms(t)\n",
    "    for t in h_lem:\n",
    "        if t not in diccionario_sinonimos:\n",
    "            diccionario_sinonimos[t]=bag_of_synonyms(t)\n",
    "        if t not in diccionario_hiperonimos:\n",
    "            diccionario_hiperonimos[t]=bag_of_hyperonyms(t)\n",
    "        if t not in diccionario_hyponimos:\n",
    "            diccionario_hyponimos[t]=bag_of_hyponyms(t)\n",
    "        # if t not in diccionario_antonimos:\n",
    "        #     diccionario_antonimos[t]=bag_of_antonyms(t)\n",
    "\n",
    "    s1=t_lem\n",
    "    s2=h_lem\n",
    "    \n",
    "    sinT=[]\n",
    "    antT=[]\n",
    "    HipT=[]\n",
    "    sinH=[]\n",
    "    antH=[]\n",
    "    HipH=[]\n",
    "    hipH=[]\n",
    "    \n",
    "    # # encontrar bolsa de sinonimos de cada token\n",
    "    for t in s1:\n",
    "        sinT.append(diccionario_sinonimos[t])\n",
    "        HipT.append(diccionario_hiperonimos[t])\n",
    "\n",
    "    for h in s2:\n",
    "        sinH.append(diccionario_sinonimos[h])\n",
    "        hipH.append(diccionario_hyponimos[h])\n",
    "\n",
    "    print(t_lem)\n",
    "    print(h_lem)\n",
    "    tp1=jaro_distance(t_lem, h_lem,sinT,sinH,HipT,hipH)\n",
    "    new_data['Jaro-Winkler_rit'].append(tp1)\n",
    "\n",
    "    # # Obtencion de matriz de alineamiento, matriz de move earth y mutual information\n",
    "    ma=np.dot(t_vectors_n,h_vectors_n.T)\n",
    "    #print(t_clean,h_clean)\n",
    "    #print(len(t_vectors_n),len(h_vectors_n),len(t_clean),len(h_clean))\n",
    "    m_earth,m_mi=wasserstein_mutual_inf(t_vectors_n,h_vectors_n,t_lem,h_lem)\n",
    "    ma=pd.DataFrame(ma,index=t_lem,columns=h_lem)\n",
    "    #print(ma)\n",
    "    new_data['max_info_t'].append(ma.max().sum()/(ma.shape[1]))#\n",
    "    new_data['sumas_t'].append(ma.sum().sum()/((ma.shape[1]*(ma.shape[0]))))#\n",
    "    new_data['mearts_t'].append(m_earth.min().sum()/(ma.shape[1]))# \n",
    "    new_data['mutinf_t'].append(m_mi.max().sum()/(ma.shape[1]))# \n",
    "    # # Calculamos la entropia inicial de la matriz de distancias coseno sobre tokens de T y H\n",
    "    distX = ma.round(1).values.flatten()\n",
    "    new_data['entropia_total'].append(entropia(distX)) \n",
    "\n",
    "    # ###### BORRADO DE COSAS QUE NO OCUPO, SOLO NOS QUEDAMOS CON INFORMACIÓN DE TIPOS DE PALABRA: NOUN, VERB, ADJ Y ADV\n",
    "    # # TAMBIÉN OMITIMOS EL VERBO BE DEBIDO A QUE POR LO REGULAR SE UTILIZA COMO AUXILIAR Y ES UN VERBO COPULATIVO\n",
    "    # # sirve para construir la llamada predicación nominal del sujeto de una oración: \n",
    "    # # #el sujeto se une con este verbo a un complemento obligatorio llamado atributo que por lo general determina \n",
    "    # # alguna propiedad, estado o equivalencia del mismo, por ejemplo: \"Este plato es bueno\". \"Juan está casado\".\n",
    "    c_compatibilidad=0\n",
    "    c_incompatibilidad=0\n",
    "    c_rel_concep=0\n",
    "    b_col=[0]\n",
    "\n",
    "    new_data['list_T'].append(ma.shape[0])\n",
    "    new_data['list_M'].append(ma.shape[1])\n",
    "    print(ma)\n",
    "    # val=ma.max().values\n",
    "    # print(\"valores maximos\",val.round(1))\n",
    "    # print(\"entropias de valores maximos\",entropia(val.round(1)))\n",
    "\n",
    "    #procesamiento de cosas que son la misma entidad\n",
    "    borrar=list(set(t_lem).intersection(set(h_lem)))\n",
    "    ma = ma.drop(borrar,axis=1)\n",
    "    m_earth = m_earth.drop(borrar,axis=1)\n",
    "    m_mi = m_mi.drop(borrar,axis=1)\n",
    "    b_col.extend(borrar)\n",
    "\n",
    "    #Como son palabras iguales entonces se agregan como uno que significa una realcion de entailment\n",
    "    #calculo de relaciones con entropia\n",
    "    rel_entropia=[]\n",
    "    for b_c in borrar:\n",
    "        rel_entropia.append(1)\n",
    "\n",
    "    # a = ma.idxmax().values\n",
    "    # b = ma.columns\n",
    "    top_k=3\n",
    "    # # #PARA REVISAR SI EXISTEN RELACIONES DE SIMILITUD SEMÁNTICA A TRAVÉS DEL USO DE CONCEPNET\n",
    "    print(\"proceso de obtención de generalidad\")\n",
    "    print(ma,ma.columns)\n",
    "    for c_c in ma.columns:\n",
    "        print(\"columna a checar\",c_c)\n",
    "        # filtrar el top 3 de los mejores similitud coseno para cada token de H vs tokens de T que sean mayores a 0\n",
    "        # una vez que encontremos quien se sale del ciclo\n",
    "        temp=ma[c_c].sort_values(ascending=False)\n",
    "        ranks=list(temp[:top_k].index)\n",
    "        valranks=list(temp[:top_k].values)\n",
    "        for r_i in range(len(ranks)):\n",
    "            borrar=[]\n",
    "            print(\"acces\",c_c,ranks[r_i],valranks[r_i])\n",
    "            if valranks[r_i]>0:\n",
    "                r_wt=str(ranks[r_i])\n",
    "                r_wh=str(c_c)\n",
    "                if(relacion_entailment(r_wt,r_wh)):\n",
    "                    borrar.append(r_wh)\n",
    "                    rel_entropia.append(1)\n",
    "                    c_compatibilidad+=1\n",
    "                    break\n",
    "                else:\n",
    "                    print(\"Proceso de conjuntos\")\n",
    "                    sin1=diccionario_sinonimos[r_wt]\n",
    "                    sin2=diccionario_sinonimos[r_wh]\n",
    "                    if len(sin1.intersection(sin2))>0:\n",
    "                        borrar.append(r_wh)\n",
    "                        c_compatibilidad+=1\n",
    "                        rel_entropia.append(1)\n",
    "                        break\n",
    "                    else:\n",
    "                        Hip1=set()\n",
    "                        for e in list(sin1):\n",
    "                            if e in diccionario_hiperonimos:\n",
    "                                Hip1=Hip1.union(diccionario_hiperonimos[e])\n",
    "                            else:\n",
    "                                b_H=bag_of_hyperonyms(e)\n",
    "                                Hip1=Hip1.union(b_H)\n",
    "                                diccionario_hiperonimos[e]=b_H\n",
    "                        if len(Hip1.intersection(sin2))>0:\n",
    "                            borrar.append(r_wh)\n",
    "                            c_compatibilidad+=1\n",
    "                            rel_entropia.append(1)\n",
    "                            break\n",
    "                        else:\n",
    "                            hip2=set()\n",
    "                            for e in list(sin2):\n",
    "                                if e in diccionario_hyponimos:\n",
    "                                    hip2=hip2.union(diccionario_hyponimos[e])\n",
    "                                else:\n",
    "                                    b_H=bag_of_hyponyms(e)\n",
    "                                    hip2=hip2.union(b_H)\n",
    "                                    diccionario_hyponimos[e]=b_H                                \n",
    "                            if len(sin1.intersection(hip2))>0:   \n",
    "                                borrar.append(r_wh)\n",
    "                                c_compatibilidad+=1\n",
    "                                rel_entropia.append(1)\n",
    "                                break\n",
    "        ma = ma.drop(borrar,axis=1)\n",
    "        m_earth = m_earth.drop(borrar,axis=1)\n",
    "        m_mi = m_mi.drop(borrar,axis=1)\n",
    "        n_columns = ma.shape[1]\n",
    "        b_col.extend(borrar)\n",
    "\n",
    "    # proceso para saber si hay contradiction en los que faltan\n",
    "    print(\"proceso de obtención de contradiction\")\n",
    "    print(ma,ma.columns)\n",
    "    for c_c in ma.columns:\n",
    "        print(\"columna a checar para contradicción\",c_c)\n",
    "        # filtrar el top 3 de los mejores similitud coseno para cada token de H vs tokens de T que sean mayores a 0\n",
    "        # una vez que encontremos quien se sale del ciclo\n",
    "        temp=ma[c_c].sort_values(ascending=False)\n",
    "        ranks=list(temp[:top_k].index)\n",
    "        valranks=list(temp[:top_k].values)\n",
    "        for r_i in range(len(ranks)):\n",
    "            borrar=[]\n",
    "            print(\"acces\",c_c,ranks[r_i],valranks[r_i])\n",
    "            if valranks[r_i]>0:\n",
    "                r_wt=str(ranks[r_i])\n",
    "                r_wh=str(c_c)\n",
    "                if(relacion_noentailment(r_wt,r_wh)):\n",
    "                    c_incompatibilidad+=1\n",
    "                    rel_entropia.append(0)\n",
    "                    borrar.append(r_wh)\n",
    "                    break\n",
    "                #else:\n",
    "                    # sin1=diccionario_sinonimos[r_wt]\n",
    "                    # sin2=diccionario_sinonimos[r_wh]\n",
    "                    # Hip1=set()\n",
    "                    # for e in list(sin1):\n",
    "                    #     if e in diccionario_hiperonimos:\n",
    "                    #         Hip1=Hip1.union(diccionario_hiperonimos[e])\n",
    "                    #     else:\n",
    "                    #         b_H=bag_of_hyperonyms(e)\n",
    "                    #         Hip1=Hip1.union(b_H)\n",
    "                    #         diccionario_hiperonimos[e]=b_H\n",
    "                    # Hip2=set()\n",
    "                    # for e in list(sin2):\n",
    "                    #     if e in diccionario_hiperonimos:\n",
    "                    #         Hip2=Hip2.union(diccionario_hiperonimos[e])\n",
    "                    #     else:\n",
    "                    #         b_H=bag_of_hyperonyms(e)\n",
    "                    #         Hip2=Hip2.union(b_H)\n",
    "                    #         diccionario_hiperonimos[e]=b_H\n",
    "                    # Hip1=diccionario_hiperonimos[r_wt]\n",
    "                    # Hip2=diccionario_hiperonimos[r_wh]\n",
    "                    # if len(Hip1.intersection(Hip2))>0:\n",
    "                    #     c_incompatibilidad+=1\n",
    "                    #     rel_entropia.append(0)\n",
    "                    #     borrar.append(r_wh)\n",
    "                    #     break\n",
    "\n",
    "        ma = ma.drop(borrar,axis=1)\n",
    "        m_earth = m_earth.drop(borrar,axis=1)\n",
    "        m_mi = m_mi.drop(borrar,axis=1)\n",
    "        n_columns = ma.shape[1]\n",
    "        b_col.extend(borrar)\n",
    "\n",
    "    #proceso para checar las relaciones conceptuales que existen\n",
    "    print(\"proceso de obtención de especificidad y conceptuales\")\n",
    "    print(ma,ma.columns)\n",
    "    for c_c in ma.columns:\n",
    "        print(\"columna a checar para especificidad\",c_c)\n",
    "        # filtrar el top 3 de los mejores similitud coseno para cada token de H vs tokens de T que sean mayores a 0\n",
    "        # una vez que encontremos quien se sale del ciclo\n",
    "        temp=ma[c_c].sort_values(ascending=False)\n",
    "        ranks=list(temp[:top_k].index)\n",
    "        valranks=list(temp[:top_k].values)\n",
    "        for r_i in range(len(ranks)):\n",
    "            borrar=[]\n",
    "            print(\"accesar a checar conceptuales\",c_c,ranks[r_i],valranks[r_i])\n",
    "            if valranks[r_i]>0:\n",
    "                r_wt=str(ranks[r_i])\n",
    "                r_wh=str(c_c)                \n",
    "                if (relacion_conceptual(r_wt,r_wh)):\n",
    "                    rel_entropia.append(2)\n",
    "                    c_rel_concep+=1\n",
    "                    borrar.append(r_wh)\n",
    "                    break\n",
    "        ma = ma.drop(borrar,axis=1)\n",
    "        m_earth = m_earth.drop(borrar,axis=1)\n",
    "        m_mi = m_mi.drop(borrar,axis=1)\n",
    "        n_columns = ma.shape[1]\n",
    "        b_col.extend(borrar)\n",
    "    b_index=[0]\n",
    "    #proceso para checar las no relaciones que existen\n",
    "    print(\"proceso de obtención de no relaciones\")\n",
    "    print(ma,ma.columns)\n",
    "    for c_c in ma.columns:\n",
    "        rel_entropia.append(3)\n",
    "\n",
    "    print(\"rel\",np.array(rel_entropia).round(1))\n",
    "    print(\"entropia final\",entropia(np.array(rel_entropia).round(1)))\n",
    "\n",
    "    new_data['entail'].append(rel_entropia.count(1)/len(rel_entropia))\n",
    "    new_data['contra'].append(rel_entropia.count(0)/len(rel_entropia))\n",
    "    new_data['neutral'].append(rel_entropia.count(2)/len(rel_entropia))\n",
    "    new_data['no_match'].append(rel_entropia.count(3)/len(rel_entropia))\n",
    "    new_data['entropia_relaciones'].append(entropia(np.array(rel_entropia).round(1)))\n",
    "    # #   ALMACENAMIENTO DE TODA LA INFORMACIÓN PROCESADA DE CARACTERÍSTICAS\n",
    "    m_distancia = obtener_distancia(t_vectors,h_vectors,t_lem,h_lem,b_col,b_index)\n",
    "    m_earth=m_earth*m_distancia\n",
    "    if ma.shape[1]==0:\n",
    "        new_data['entropias'].append(0)\n",
    "        new_data['KL_divergence'].append(0)\n",
    "        new_data['max_info'].append(0)\n",
    "        new_data['sumas'].append(0)\n",
    "        new_data['mearts'].append(0)\n",
    "        new_data['mutinf'].append(0)\n",
    "        new_data['diferencias'].append(0)\n",
    "        new_data['distancias'].append(0)\n",
    "    else:\n",
    "        distY = ma.round(1).values.flatten()\n",
    "        new_data['entropias'].append(entropia(distY))\n",
    "        new_data['KL_divergence'].append(kullback_leibler(distX,distY))\n",
    "        new_data['max_info'].append(ma.max().sum()/(ma.shape[1]))#\n",
    "        new_data['sumas'].append(ma.sum().sum()/((ma.shape[1]*(ma.shape[0]))))#\n",
    "        new_data['mearts'].append(m_earth.min().sum()/(ma.shape[1]))# \n",
    "        new_data['mutinf'].append(m_mi.max().sum()/(ma.shape[1]))# \n",
    "        new_data['diferencias'].append(len(ma.columns)/len(ma.index))\n",
    "        new_data['distancias'].append(m_distancia.min().sum()/(ma.shape[1])) #cambie de maximas a sumas\n",
    "\n",
    "    new_data['list_comp'].append(c_compatibilidad)\n",
    "    new_data['list_incomp'].append(c_incompatibilidad)\n",
    "    new_data['rel_conceptuales'].append(c_rel_concep)\n",
    "    new_data['list_m'].append(ma.shape[1])\n",
    "    new_data['clases'].append(1)\n",
    "    print(ma)\n",
    "\n",
    "fin = time.time()\n",
    "print(\"Tiempo que se llevo:\",round(fin-inicio,2),\" segundos\")"
   ]
  },
  {
   "cell_type": "markdown",
   "metadata": {},
   "source": [
    "# verificar la función de creación de entidades"
   ]
  },
  {
   "cell_type": "code",
   "execution_count": 34,
   "metadata": {},
   "outputs": [],
   "source": [
    "def representacion_entidades_F(nlp,texto):\n",
    "    dir_sust=dict()\n",
    "    palabras=[]\n",
    "    b=1.0\n",
    "    if (type(texto)==type(b) or texto==\"\" or texto==\"n/a\" or texto==\"nan\"):\n",
    "        return dir_sust,palabras\n",
    "    doc =nlp(texto.lower())\n",
    "    for token in doc:\n",
    "        if token.dep_ in tags:\n",
    "            print(token.text, token.lemma_, token.pos_,token.dep_,token.head.text,token.head.lemma_, token.head.pos_,\n",
    "                [child for child in token.children])\n",
    "            #sustantivos.append(token.head.lemma_)\n",
    "            if token.head.lemma_ in dir_sust:\n",
    "                if dir_sust[token.head.lemma_]==\"NA\":\n",
    "                    dir_sust[token.head.lemma_]=token.lemma_\n",
    "                    if token.head not in palabras:\n",
    "                        palabras.append(token.head)\n",
    "                else:\n",
    "                    dir_sust[token.head.lemma_]=dir_sust[token.head.lemma_]+\",\"+token.lemma_\n",
    "                    if token.head not in palabras:\n",
    "                        palabras.append(token.head)\n",
    "            else:\n",
    "                dir_sust[token.head.lemma_]=token.lemma_\n",
    "                if token.head not in palabras:\n",
    "                    palabras.append(token.head)\n",
    "        elif token.pos_ in [\"NOUN\",\"PROPN\",\"PRON\"]:\n",
    "            #print(token.text,token.lemma_, token.pos_,token.dep_)\n",
    "            #sustantivos.append(token.lemma_)\n",
    "            if token.lemma_ not in dir_sust:\n",
    "                dir_sust[token.lemma_]=\"NA\"\n",
    "                if token not in palabras:\n",
    "                    palabras.append(token)\n",
    "        elif token.pos_ in [\"VERB\"]:\n",
    "            #print(token.text, token.lemma_,token.pos_,token.dep_)\n",
    "            #sustantivos.append(token.lemma_)\n",
    "            if token.lemma_ not in dir_sust:\n",
    "                dir_sust[token.lemma_]=\"NA\"\n",
    "                if token not in palabras:\n",
    "                    palabras.append(token)\n",
    "        else:\n",
    "            print(token.text,token.pos_)\n",
    "    return dir_sust,palabras\n"
   ]
  },
  {
   "cell_type": "code",
   "execution_count": 35,
   "metadata": {},
   "outputs": [
    {
     "name": "stdout",
     "output_type": "stream",
     "text": [
      "a DET\n",
      "in in ADP prep person person NOUN [clothing]\n",
      "orange orange ADJ compound clothing clothing NOUN []\n",
      "above above ADP prep rests rest VERB [entrance]\n",
      "a DET\n",
      "metro metro NOUN compound entrance entrance NOUN []\n",
      ". PUNCT\n"
     ]
    },
    {
     "data": {
      "text/plain": [
       "({'person': 'in', 'clothing': 'orange', 'rest': 'above', 'entrance': 'metro'},\n",
       " [person, clothing, rests, entrance])"
      ]
     },
     "execution_count": 35,
     "metadata": {},
     "output_type": "execute_result"
    }
   ],
   "source": [
    "representacion_entidades_F(nlp,\"A person in orange clothing rests above a metro entrance.\")"
   ]
  },
  {
   "cell_type": "code",
   "execution_count": 37,
   "metadata": {},
   "outputs": [
    {
     "name": "stdout",
     "output_type": "stream",
     "text": [
      "is AUX\n",
      "near near ADP prep standing stand VERB [station]\n",
      "a DET\n",
      "metro metro NOUN compound station station NOUN []\n",
      ". PUNCT\n"
     ]
    },
    {
     "data": {
      "text/plain": [
       "({'someone': 'NA', 'stand': 'near', 'station': 'metro'},\n",
       " [someone, standing, station])"
      ]
     },
     "execution_count": 37,
     "metadata": {},
     "output_type": "execute_result"
    }
   ],
   "source": [
    "representacion_entidades_F(nlp,\"Someone is standing near a metro station.\")"
   ]
  },
  {
   "cell_type": "code",
   "execution_count": 64,
   "metadata": {},
   "outputs": [
    {
     "data": {
      "text/plain": [
       "False"
      ]
     },
     "execution_count": 64,
     "metadata": {},
     "output_type": "execute_result"
    }
   ],
   "source": [
    "relacion_entailment(\"rest\",\"stand\")"
   ]
  },
  {
   "cell_type": "code",
   "execution_count": 65,
   "metadata": {},
   "outputs": [
    {
     "data": {
      "text/plain": [
       "False"
      ]
     },
     "execution_count": 65,
     "metadata": {},
     "output_type": "execute_result"
    }
   ],
   "source": [
    "relacion_conceptual(\"talk\",\"dinner\")"
   ]
  },
  {
   "cell_type": "code",
   "execution_count": 66,
   "metadata": {},
   "outputs": [
    {
     "ename": "ValueError",
     "evalue": "All arrays must be of the same length",
     "output_type": "error",
     "traceback": [
      "\u001b[0;31m---------------------------------------------------------------------------\u001b[0m",
      "\u001b[0;31mValueError\u001b[0m                                Traceback (most recent call last)",
      "Cell \u001b[0;32mIn[66], line 1\u001b[0m\n\u001b[0;32m----> 1\u001b[0m df_resultados \u001b[38;5;241m=\u001b[39m \u001b[43mpd\u001b[49m\u001b[38;5;241;43m.\u001b[39;49m\u001b[43mDataFrame\u001b[49m\u001b[43m(\u001b[49m\u001b[43mnew_data\u001b[49m\u001b[43m)\u001b[49m\n\u001b[1;32m      2\u001b[0m df_resultados\n",
      "File \u001b[0;32m~/anaconda3/envs/rit/lib/python3.9/site-packages/pandas/core/frame.py:733\u001b[0m, in \u001b[0;36mDataFrame.__init__\u001b[0;34m(self, data, index, columns, dtype, copy)\u001b[0m\n\u001b[1;32m    727\u001b[0m     mgr \u001b[38;5;241m=\u001b[39m \u001b[38;5;28mself\u001b[39m\u001b[38;5;241m.\u001b[39m_init_mgr(\n\u001b[1;32m    728\u001b[0m         data, axes\u001b[38;5;241m=\u001b[39m{\u001b[38;5;124m\"\u001b[39m\u001b[38;5;124mindex\u001b[39m\u001b[38;5;124m\"\u001b[39m: index, \u001b[38;5;124m\"\u001b[39m\u001b[38;5;124mcolumns\u001b[39m\u001b[38;5;124m\"\u001b[39m: columns}, dtype\u001b[38;5;241m=\u001b[39mdtype, copy\u001b[38;5;241m=\u001b[39mcopy\n\u001b[1;32m    729\u001b[0m     )\n\u001b[1;32m    731\u001b[0m \u001b[38;5;28;01melif\u001b[39;00m \u001b[38;5;28misinstance\u001b[39m(data, \u001b[38;5;28mdict\u001b[39m):\n\u001b[1;32m    732\u001b[0m     \u001b[38;5;66;03m# GH#38939 de facto copy defaults to False only in non-dict cases\u001b[39;00m\n\u001b[0;32m--> 733\u001b[0m     mgr \u001b[38;5;241m=\u001b[39m \u001b[43mdict_to_mgr\u001b[49m\u001b[43m(\u001b[49m\u001b[43mdata\u001b[49m\u001b[43m,\u001b[49m\u001b[43m \u001b[49m\u001b[43mindex\u001b[49m\u001b[43m,\u001b[49m\u001b[43m \u001b[49m\u001b[43mcolumns\u001b[49m\u001b[43m,\u001b[49m\u001b[43m \u001b[49m\u001b[43mdtype\u001b[49m\u001b[38;5;241;43m=\u001b[39;49m\u001b[43mdtype\u001b[49m\u001b[43m,\u001b[49m\u001b[43m \u001b[49m\u001b[43mcopy\u001b[49m\u001b[38;5;241;43m=\u001b[39;49m\u001b[43mcopy\u001b[49m\u001b[43m,\u001b[49m\u001b[43m \u001b[49m\u001b[43mtyp\u001b[49m\u001b[38;5;241;43m=\u001b[39;49m\u001b[43mmanager\u001b[49m\u001b[43m)\u001b[49m\n\u001b[1;32m    734\u001b[0m \u001b[38;5;28;01melif\u001b[39;00m \u001b[38;5;28misinstance\u001b[39m(data, ma\u001b[38;5;241m.\u001b[39mMaskedArray):\n\u001b[1;32m    735\u001b[0m     \u001b[38;5;28;01mfrom\u001b[39;00m \u001b[38;5;21;01mnumpy\u001b[39;00m\u001b[38;5;21;01m.\u001b[39;00m\u001b[38;5;21;01mma\u001b[39;00m \u001b[38;5;28;01mimport\u001b[39;00m mrecords\n",
      "File \u001b[0;32m~/anaconda3/envs/rit/lib/python3.9/site-packages/pandas/core/internals/construction.py:503\u001b[0m, in \u001b[0;36mdict_to_mgr\u001b[0;34m(data, index, columns, dtype, typ, copy)\u001b[0m\n\u001b[1;32m    499\u001b[0m     \u001b[38;5;28;01melse\u001b[39;00m:\n\u001b[1;32m    500\u001b[0m         \u001b[38;5;66;03m# dtype check to exclude e.g. range objects, scalars\u001b[39;00m\n\u001b[1;32m    501\u001b[0m         arrays \u001b[38;5;241m=\u001b[39m [x\u001b[38;5;241m.\u001b[39mcopy() \u001b[38;5;28;01mif\u001b[39;00m \u001b[38;5;28mhasattr\u001b[39m(x, \u001b[38;5;124m\"\u001b[39m\u001b[38;5;124mdtype\u001b[39m\u001b[38;5;124m\"\u001b[39m) \u001b[38;5;28;01melse\u001b[39;00m x \u001b[38;5;28;01mfor\u001b[39;00m x \u001b[38;5;129;01min\u001b[39;00m arrays]\n\u001b[0;32m--> 503\u001b[0m \u001b[38;5;28;01mreturn\u001b[39;00m \u001b[43marrays_to_mgr\u001b[49m\u001b[43m(\u001b[49m\u001b[43marrays\u001b[49m\u001b[43m,\u001b[49m\u001b[43m \u001b[49m\u001b[43mcolumns\u001b[49m\u001b[43m,\u001b[49m\u001b[43m \u001b[49m\u001b[43mindex\u001b[49m\u001b[43m,\u001b[49m\u001b[43m \u001b[49m\u001b[43mdtype\u001b[49m\u001b[38;5;241;43m=\u001b[39;49m\u001b[43mdtype\u001b[49m\u001b[43m,\u001b[49m\u001b[43m \u001b[49m\u001b[43mtyp\u001b[49m\u001b[38;5;241;43m=\u001b[39;49m\u001b[43mtyp\u001b[49m\u001b[43m,\u001b[49m\u001b[43m \u001b[49m\u001b[43mconsolidate\u001b[49m\u001b[38;5;241;43m=\u001b[39;49m\u001b[43mcopy\u001b[49m\u001b[43m)\u001b[49m\n",
      "File \u001b[0;32m~/anaconda3/envs/rit/lib/python3.9/site-packages/pandas/core/internals/construction.py:114\u001b[0m, in \u001b[0;36marrays_to_mgr\u001b[0;34m(arrays, columns, index, dtype, verify_integrity, typ, consolidate)\u001b[0m\n\u001b[1;32m    111\u001b[0m \u001b[38;5;28;01mif\u001b[39;00m verify_integrity:\n\u001b[1;32m    112\u001b[0m     \u001b[38;5;66;03m# figure out the index, if necessary\u001b[39;00m\n\u001b[1;32m    113\u001b[0m     \u001b[38;5;28;01mif\u001b[39;00m index \u001b[38;5;129;01mis\u001b[39;00m \u001b[38;5;28;01mNone\u001b[39;00m:\n\u001b[0;32m--> 114\u001b[0m         index \u001b[38;5;241m=\u001b[39m \u001b[43m_extract_index\u001b[49m\u001b[43m(\u001b[49m\u001b[43marrays\u001b[49m\u001b[43m)\u001b[49m\n\u001b[1;32m    115\u001b[0m     \u001b[38;5;28;01melse\u001b[39;00m:\n\u001b[1;32m    116\u001b[0m         index \u001b[38;5;241m=\u001b[39m ensure_index(index)\n",
      "File \u001b[0;32m~/anaconda3/envs/rit/lib/python3.9/site-packages/pandas/core/internals/construction.py:677\u001b[0m, in \u001b[0;36m_extract_index\u001b[0;34m(data)\u001b[0m\n\u001b[1;32m    675\u001b[0m lengths \u001b[38;5;241m=\u001b[39m \u001b[38;5;28mlist\u001b[39m(\u001b[38;5;28mset\u001b[39m(raw_lengths))\n\u001b[1;32m    676\u001b[0m \u001b[38;5;28;01mif\u001b[39;00m \u001b[38;5;28mlen\u001b[39m(lengths) \u001b[38;5;241m>\u001b[39m \u001b[38;5;241m1\u001b[39m:\n\u001b[0;32m--> 677\u001b[0m     \u001b[38;5;28;01mraise\u001b[39;00m \u001b[38;5;167;01mValueError\u001b[39;00m(\u001b[38;5;124m\"\u001b[39m\u001b[38;5;124mAll arrays must be of the same length\u001b[39m\u001b[38;5;124m\"\u001b[39m)\n\u001b[1;32m    679\u001b[0m \u001b[38;5;28;01mif\u001b[39;00m have_dicts:\n\u001b[1;32m    680\u001b[0m     \u001b[38;5;28;01mraise\u001b[39;00m \u001b[38;5;167;01mValueError\u001b[39;00m(\n\u001b[1;32m    681\u001b[0m         \u001b[38;5;124m\"\u001b[39m\u001b[38;5;124mMixing dicts with non-Series may lead to ambiguous ordering.\u001b[39m\u001b[38;5;124m\"\u001b[39m\n\u001b[1;32m    682\u001b[0m     )\n",
      "\u001b[0;31mValueError\u001b[0m: All arrays must be of the same length"
     ]
    }
   ],
   "source": [
    "df_resultados = pd.DataFrame(new_data)\n",
    "df_resultados"
   ]
  },
  {
   "cell_type": "code",
   "execution_count": null,
   "metadata": {},
   "outputs": [
    {
     "data": {
      "text/plain": [
       "Index(['distancias', 'entropia_total', 'entropias', 'mutinf', 'mearts',\n",
       "       'max_info', 'sumas', 'mutinf_t', 'mearts_t', 'max_info_t', 'sumas_t',\n",
       "       'entail', 'contra', 'neutral', 'no_match', 'rel_conceptuales',\n",
       "       'list_comp', 'diferencias', 'list_incomp', 'entropia_relaciones',\n",
       "       'list_M', 'list_m', 'list_T', 'Jaro-Winkler_rit', 'KL_divergence',\n",
       "       'negT', 'verbT', 'negH', 'verbH', 'overlap_ent', 'clases'],\n",
       "      dtype='object')"
      ]
     },
     "execution_count": 44,
     "metadata": {},
     "output_type": "execute_result"
    }
   ],
   "source": [
    "df_resultados.columns"
   ]
  },
  {
   "cell_type": "code",
   "execution_count": null,
   "metadata": {},
   "outputs": [
    {
     "data": {
      "text/plain": [
       "array([[<Axes: title={'center': 'entail'}, xlabel='clases'>,\n",
       "        <Axes: title={'center': 'contra'}, xlabel='clases'>],\n",
       "       [<Axes: title={'center': 'neutral'}, xlabel='clases'>,\n",
       "        <Axes: title={'center': 'no_match'}, xlabel='clases'>],\n",
       "       [<Axes: title={'center': 'rel_conceptuales'}, xlabel='clases'>,\n",
       "        <Axes: >]], dtype=object)"
      ]
     },
     "execution_count": 45,
     "metadata": {},
     "output_type": "execute_result"
    },
    {
     "data": {
      "image/png": "[encoded data removed]",
      "text/plain": [
       "<Figure size 640x480 with 6 Axes>"
      ]
     },
     "metadata": {},
     "output_type": "display_data"
    }
   ],
   "source": [
    "df_resultados.boxplot(by=\"clases\",column=['entail', 'contra', 'neutral', 'no_match', 'rel_conceptuales'])"
   ]
  },
  {
   "cell_type": "markdown",
   "metadata": {},
   "source": [
    "# proceos"
   ]
  },
  {
   "cell_type": "code",
   "execution_count": 67,
   "metadata": {},
   "outputs": [
    {
     "data": {
      "text/html": [
       "<div>\n",
       "<style scoped>\n",
       "    .dataframe tbody tr th:only-of-type {\n",
       "        vertical-align: middle;\n",
       "    }\n",
       "\n",
       "    .dataframe tbody tr th {\n",
       "        vertical-align: top;\n",
       "    }\n",
       "\n",
       "    .dataframe thead th {\n",
       "        text-align: right;\n",
       "    }\n",
       "</style>\n",
       "<table border=\"1\" class=\"dataframe\">\n",
       "  <thead>\n",
       "    <tr style=\"text-align: right;\">\n",
       "      <th></th>\n",
       "      <th>station</th>\n",
       "      <th>table</th>\n",
       "      <th>cluband</th>\n",
       "    </tr>\n",
       "  </thead>\n",
       "  <tbody>\n",
       "    <tr>\n",
       "      <th>clothing</th>\n",
       "      <td>-0.008238</td>\n",
       "      <td>0.022620</td>\n",
       "      <td>0.0</td>\n",
       "    </tr>\n",
       "    <tr>\n",
       "      <th>orange</th>\n",
       "      <td>0.021178</td>\n",
       "      <td>-0.083560</td>\n",
       "      <td>0.0</td>\n",
       "    </tr>\n",
       "    <tr>\n",
       "      <th>metro</th>\n",
       "      <td>0.504996</td>\n",
       "      <td>-0.058719</td>\n",
       "      <td>0.0</td>\n",
       "    </tr>\n",
       "    <tr>\n",
       "      <th>person</th>\n",
       "      <td>0.038627</td>\n",
       "      <td>0.051114</td>\n",
       "      <td>0.0</td>\n",
       "    </tr>\n",
       "    <tr>\n",
       "      <th>entrance</th>\n",
       "      <td>0.198481</td>\n",
       "      <td>0.061389</td>\n",
       "      <td>0.0</td>\n",
       "    </tr>\n",
       "    <tr>\n",
       "      <th>rest</th>\n",
       "      <td>-0.012533</td>\n",
       "      <td>0.090798</td>\n",
       "      <td>0.0</td>\n",
       "    </tr>\n",
       "  </tbody>\n",
       "</table>\n",
       "</div>"
      ],
      "text/plain": [
       "           station     table  cluband\n",
       "clothing -0.008238  0.022620      0.0\n",
       "orange    0.021178 -0.083560      0.0\n",
       "metro     0.504996 -0.058719      0.0\n",
       "person    0.038627  0.051114      0.0\n",
       "entrance  0.198481  0.061389      0.0\n",
       "rest     -0.012533  0.090798      0.0"
      ]
     },
     "execution_count": 67,
     "metadata": {},
     "output_type": "execute_result"
    }
   ],
   "source": [
    "ma"
   ]
  },
  {
   "cell_type": "code",
   "execution_count": 68,
   "metadata": {},
   "outputs": [
    {
     "name": "stdout",
     "output_type": "stream",
     "text": [
      "station [0.50499636 0.1984811  0.03862744]\n",
      "station metro 0.50499636\n",
      "station entrance 0.1984811\n",
      "station person 0.038627442\n"
     ]
    }
   ],
   "source": [
    "#temp=ma.copy()\n",
    "for c in ma.columns:\n",
    "    temp=ma[c][1:].sort_values(ascending=False)\n",
    "    print(c,temp[:3].values)\n",
    "    ranks=list(temp[:3].index)\n",
    "    valranks=list(temp[:3].values)\n",
    "    for r_i in range(len(ranks)):\n",
    "        print(c,ranks[r_i],valranks[r_i])\n",
    "    break\n"
   ]
  },
  {
   "cell_type": "code",
   "execution_count": 70,
   "metadata": {},
   "outputs": [
    {
     "data": {
      "text/plain": [
       "'metro rest clothing'"
      ]
     },
     "execution_count": 70,
     "metadata": {},
     "output_type": "execute_result"
    }
   ],
   "source": [
    "\" \".join(ma.idxmax().values)"
   ]
  },
  {
   "cell_type": "code",
   "execution_count": 72,
   "metadata": {},
   "outputs": [
    {
     "data": {
      "text/plain": [
       "'station table cluband'"
      ]
     },
     "execution_count": 72,
     "metadata": {},
     "output_type": "execute_result"
    }
   ],
   "source": [
    "\" \".join(ma.columns.values)"
   ]
  },
  {
   "cell_type": "code",
   "execution_count": 83,
   "metadata": {},
   "outputs": [],
   "source": [
    "frase1=\"Some squirrels are mammals.\"\n",
    "frase2=\"No squirrels are mammals.\""
   ]
  },
  {
   "cell_type": "code",
   "execution_count": 84,
   "metadata": {},
   "outputs": [
    {
     "name": "stdout",
     "output_type": "stream",
     "text": [
      "0.7555228471755981\n"
     ]
    }
   ],
   "source": [
    "emb1 = modelSB.encode(frase1)\n",
    "emb2 = modelSB.encode(frase2)\n",
    "#Get the cosine similarity score between sentences\n",
    "cos_sim = util.cos_sim(emb1, emb2)\n",
    "print(float(cos_sim[0][0]))\n",
    "#agregar esta parte"
   ]
  },
  {
   "cell_type": "code",
   "execution_count": 139,
   "metadata": {},
   "outputs": [],
   "source": [
    "frase1=\"The cat sat on the mat\"\n",
    "frase2=\"The animal sat on the mat\""
   ]
  },
  {
   "cell_type": "code",
   "execution_count": 140,
   "metadata": {},
   "outputs": [
    {
     "name": "stdout",
     "output_type": "stream",
     "text": [
      "0.7351410984992981\n"
     ]
    }
   ],
   "source": [
    "emb1 = modelSB.encode(frase1)\n",
    "emb2 = modelSB.encode(frase2)\n",
    "#Get the cosine similarity score between sentences\n",
    "cos_sim = util.cos_sim(emb1, emb2)\n",
    "print(float(cos_sim[0][0]))\n",
    "#agregar esta parte"
   ]
  },
  {
   "cell_type": "code",
   "execution_count": 141,
   "metadata": {},
   "outputs": [
    {
     "name": "stdout",
     "output_type": "stream",
     "text": [
      "0.9700795397036415\n"
     ]
    }
   ],
   "source": [
    "doc1 = nlp(frase1)\n",
    "doc2 = nlp(frase2)\n",
    "print(doc1.similarity(doc2))\n",
    "#\n",
    "#    bien_me.append(getWDM(st,sh))\n",
    "#elif st!=\"\" and sh==\"\":\n",
    "#    similitud_faltantes.append(1)\n",
    "#    bien_me.append(0)\n",
    "#else:\n",
    "#    similitud_faltantes.append(0)\n",
    "#    bien_me.append(0)\n",
    "# 0.8528367657386307"
   ]
  },
  {
   "cell_type": "markdown",
   "metadata": {},
   "source": [
    "# mutual information"
   ]
  },
  {
   "cell_type": "code",
   "execution_count": 116,
   "metadata": {},
   "outputs": [
    {
     "data": {
      "text/html": [
       "<div>\n",
       "<style scoped>\n",
       "    .dataframe tbody tr th:only-of-type {\n",
       "        vertical-align: middle;\n",
       "    }\n",
       "\n",
       "    .dataframe tbody tr th {\n",
       "        vertical-align: top;\n",
       "    }\n",
       "\n",
       "    .dataframe thead th {\n",
       "        text-align: right;\n",
       "    }\n",
       "</style>\n",
       "<table border=\"1\" class=\"dataframe\">\n",
       "  <thead>\n",
       "    <tr style=\"text-align: right;\">\n",
       "      <th></th>\n",
       "      <th>station</th>\n",
       "      <th>table</th>\n",
       "      <th>cluband</th>\n",
       "    </tr>\n",
       "  </thead>\n",
       "  <tbody>\n",
       "    <tr>\n",
       "      <th>clothing</th>\n",
       "      <td>-0.008238</td>\n",
       "      <td>0.022620</td>\n",
       "      <td>0.0</td>\n",
       "    </tr>\n",
       "    <tr>\n",
       "      <th>orange</th>\n",
       "      <td>0.021178</td>\n",
       "      <td>-0.083560</td>\n",
       "      <td>0.0</td>\n",
       "    </tr>\n",
       "    <tr>\n",
       "      <th>metro</th>\n",
       "      <td>0.504996</td>\n",
       "      <td>-0.058719</td>\n",
       "      <td>0.0</td>\n",
       "    </tr>\n",
       "    <tr>\n",
       "      <th>person</th>\n",
       "      <td>0.038627</td>\n",
       "      <td>0.051114</td>\n",
       "      <td>0.0</td>\n",
       "    </tr>\n",
       "    <tr>\n",
       "      <th>entrance</th>\n",
       "      <td>0.198481</td>\n",
       "      <td>0.061389</td>\n",
       "      <td>0.0</td>\n",
       "    </tr>\n",
       "    <tr>\n",
       "      <th>rest</th>\n",
       "      <td>-0.012533</td>\n",
       "      <td>0.090798</td>\n",
       "      <td>0.0</td>\n",
       "    </tr>\n",
       "  </tbody>\n",
       "</table>\n",
       "</div>"
      ],
      "text/plain": [
       "           station     table  cluband\n",
       "clothing -0.008238  0.022620      0.0\n",
       "orange    0.021178 -0.083560      0.0\n",
       "metro     0.504996 -0.058719      0.0\n",
       "person    0.038627  0.051114      0.0\n",
       "entrance  0.198481  0.061389      0.0\n",
       "rest     -0.012533  0.090798      0.0"
      ]
     },
     "execution_count": 116,
     "metadata": {},
     "output_type": "execute_result"
    }
   ],
   "source": [
    "ma"
   ]
  },
  {
   "cell_type": "code",
   "execution_count": 114,
   "metadata": {},
   "outputs": [
    {
     "data": {
      "text/html": [
       "<div>\n",
       "<style scoped>\n",
       "    .dataframe tbody tr th:only-of-type {\n",
       "        vertical-align: middle;\n",
       "    }\n",
       "\n",
       "    .dataframe tbody tr th {\n",
       "        vertical-align: top;\n",
       "    }\n",
       "\n",
       "    .dataframe thead th {\n",
       "        text-align: right;\n",
       "    }\n",
       "</style>\n",
       "<table border=\"1\" class=\"dataframe\">\n",
       "  <thead>\n",
       "    <tr style=\"text-align: right;\">\n",
       "      <th></th>\n",
       "      <th>station</th>\n",
       "      <th>table</th>\n",
       "      <th>cluband</th>\n",
       "    </tr>\n",
       "  </thead>\n",
       "  <tbody>\n",
       "    <tr>\n",
       "      <th>clothing</th>\n",
       "      <td>3.549515</td>\n",
       "      <td>3.586446</td>\n",
       "      <td>8.135714e-13</td>\n",
       "    </tr>\n",
       "    <tr>\n",
       "      <th>orange</th>\n",
       "      <td>3.628371</td>\n",
       "      <td>3.660681</td>\n",
       "      <td>7.656098e-13</td>\n",
       "    </tr>\n",
       "    <tr>\n",
       "      <th>metro</th>\n",
       "      <td>3.694917</td>\n",
       "      <td>3.736469</td>\n",
       "      <td>7.345236e-13</td>\n",
       "    </tr>\n",
       "    <tr>\n",
       "      <th>person</th>\n",
       "      <td>3.803109</td>\n",
       "      <td>3.830798</td>\n",
       "      <td>6.474821e-13</td>\n",
       "    </tr>\n",
       "    <tr>\n",
       "      <th>entrance</th>\n",
       "      <td>3.740643</td>\n",
       "      <td>3.796058</td>\n",
       "      <td>6.936673e-13</td>\n",
       "    </tr>\n",
       "    <tr>\n",
       "      <th>rest</th>\n",
       "      <td>3.770016</td>\n",
       "      <td>3.797705</td>\n",
       "      <td>6.714629e-13</td>\n",
       "    </tr>\n",
       "  </tbody>\n",
       "</table>\n",
       "</div>"
      ],
      "text/plain": [
       "           station     table       cluband\n",
       "clothing  3.549515  3.586446  8.135714e-13\n",
       "orange    3.628371  3.660681  7.656098e-13\n",
       "metro     3.694917  3.736469  7.345236e-13\n",
       "person    3.803109  3.830798  6.474821e-13\n",
       "entrance  3.740643  3.796058  6.936673e-13\n",
       "rest      3.770016  3.797705  6.714629e-13"
      ]
     },
     "execution_count": 114,
     "metadata": {},
     "output_type": "execute_result"
    }
   ],
   "source": [
    "m_mi"
   ]
  },
  {
   "cell_type": "code",
   "execution_count": 115,
   "metadata": {},
   "outputs": [
    {
     "data": {
      "text/plain": [
       "station      person\n",
       "table        person\n",
       "cluband    clothing\n",
       "dtype: object"
      ]
     },
     "execution_count": 115,
     "metadata": {},
     "output_type": "execute_result"
    }
   ],
   "source": [
    "m_mi.idxmax()"
   ]
  },
  {
   "cell_type": "markdown",
   "metadata": {},
   "source": [
    "# move earts"
   ]
  },
  {
   "cell_type": "code",
   "execution_count": 117,
   "metadata": {},
   "outputs": [
    {
     "data": {
      "text/html": [
       "<div>\n",
       "<style scoped>\n",
       "    .dataframe tbody tr th:only-of-type {\n",
       "        vertical-align: middle;\n",
       "    }\n",
       "\n",
       "    .dataframe tbody tr th {\n",
       "        vertical-align: top;\n",
       "    }\n",
       "\n",
       "    .dataframe thead th {\n",
       "        text-align: right;\n",
       "    }\n",
       "</style>\n",
       "<table border=\"1\" class=\"dataframe\">\n",
       "  <thead>\n",
       "    <tr style=\"text-align: right;\">\n",
       "      <th></th>\n",
       "      <th>station</th>\n",
       "      <th>table</th>\n",
       "      <th>cluband</th>\n",
       "    </tr>\n",
       "  </thead>\n",
       "  <tbody>\n",
       "    <tr>\n",
       "      <th>clothing</th>\n",
       "      <td>0.007409</td>\n",
       "      <td>0.008844</td>\n",
       "      <td>0.043478</td>\n",
       "    </tr>\n",
       "    <tr>\n",
       "      <th>orange</th>\n",
       "      <td>0.006650</td>\n",
       "      <td>0.011922</td>\n",
       "      <td>0.045438</td>\n",
       "    </tr>\n",
       "    <tr>\n",
       "      <th>metro</th>\n",
       "      <td>0.006159</td>\n",
       "      <td>0.005172</td>\n",
       "      <td>0.045585</td>\n",
       "    </tr>\n",
       "    <tr>\n",
       "      <th>person</th>\n",
       "      <td>0.007354</td>\n",
       "      <td>0.011560</td>\n",
       "      <td>0.045378</td>\n",
       "    </tr>\n",
       "    <tr>\n",
       "      <th>entrance</th>\n",
       "      <td>0.006094</td>\n",
       "      <td>0.005811</td>\n",
       "      <td>0.045739</td>\n",
       "    </tr>\n",
       "    <tr>\n",
       "      <th>rest</th>\n",
       "      <td>0.005140</td>\n",
       "      <td>0.005931</td>\n",
       "      <td>0.045659</td>\n",
       "    </tr>\n",
       "  </tbody>\n",
       "</table>\n",
       "</div>"
      ],
      "text/plain": [
       "           station     table   cluband\n",
       "clothing  0.007409  0.008844  0.043478\n",
       "orange    0.006650  0.011922  0.045438\n",
       "metro     0.006159  0.005172  0.045585\n",
       "person    0.007354  0.011560  0.045378\n",
       "entrance  0.006094  0.005811  0.045739\n",
       "rest      0.005140  0.005931  0.045659"
      ]
     },
     "execution_count": 117,
     "metadata": {},
     "output_type": "execute_result"
    }
   ],
   "source": [
    "m_earth"
   ]
  },
  {
   "cell_type": "code",
   "execution_count": 120,
   "metadata": {},
   "outputs": [
    {
     "data": {
      "text/plain": [
       "station        rest\n",
       "table         metro\n",
       "cluband    clothing\n",
       "dtype: object"
      ]
     },
     "execution_count": 120,
     "metadata": {},
     "output_type": "execute_result"
    }
   ],
   "source": [
    "m_earth.idxmin()"
   ]
  }
 ],
 "metadata": {
  "kernelspec": {
   "display_name": "rit",
   "language": "python",
   "name": "python3"
  },
  "language_info": {
   "codemirror_mode": {
    "name": "ipython",
    "version": 3
   },
   "file_extension": ".py",
   "mimetype": "text/x-python",
   "name": "python",
   "nbconvert_exporter": "python",
   "pygments_lexer": "ipython3",
   "version": "3.9.13"
  }
 },
 "nbformat": 4,
 "nbformat_minor": 2
}
