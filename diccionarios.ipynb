{
 "cells": [
  {
   "cell_type": "code",
   "execution_count": 1,
   "metadata": {},
   "outputs": [],
   "source": [
    "import pandas as pd"
   ]
  },
  {
   "cell_type": "markdown",
   "metadata": {},
   "source": [
    "# obtener sinonimos"
   ]
  },
  {
   "cell_type": "code",
   "execution_count": 7,
   "metadata": {},
   "outputs": [],
   "source": [
    "synonyms=dict()"
   ]
  },
  {
   "cell_type": "code",
   "execution_count": 8,
   "metadata": {},
   "outputs": [],
   "source": [
    "for i in range(8):\n",
    "    if i==0:\n",
    "        df_syn = pd.read_pickle('salida/nuevo3/RTE3/DEV_'+str(i+1)+'.csv_Synonym.pickle')\n",
    "    else:\n",
    "        try:\n",
    "            temp = pd.read_pickle('salida/nuevo3/RTE3/DEV_'+str(i+1)+'.csv_Synonym.pickle')\n",
    "            df_syn=pd.concat([df_syn,temp])\n",
    "        except:\n",
    "            pass"
   ]
  },
  {
   "cell_type": "code",
   "execution_count": 9,
   "metadata": {},
   "outputs": [],
   "source": [
    "for i in range(8):\n",
    "    try:\n",
    "        temp = pd.read_pickle('salida/nuevo3/RTE3/TEST_'+str(i+1)+'.csv_Synonym.pickle')\n",
    "        df_syn=pd.concat([df_syn,temp])\n",
    "    except:\n",
    "        pass"
   ]
  },
  {
   "cell_type": "code",
   "execution_count": 10,
   "metadata": {},
   "outputs": [],
   "source": [
    "for i in range(8):\n",
    "    try:\n",
    "        temp = pd.read_pickle('salida/nuevo3/GHS/GHS_'+str(i+1)+'.csv_Synonym.pickle')\n",
    "        df_syn=pd.concat([df_syn,temp])\n",
    "    except:\n",
    "        pass"
   ]
  },
  {
   "cell_type": "code",
   "execution_count": 11,
   "metadata": {},
   "outputs": [],
   "source": [
    "for i in range(5):\n",
    "    try:\n",
    "        temp = pd.read_pickle('salida/nuevo3/SICK/DEV_'+str(i+1)+'.csv_Synonym.pickle')\n",
    "        df_syn=pd.concat([df_syn,temp])\n",
    "    except:\n",
    "        pass"
   ]
  },
  {
   "cell_type": "code",
   "execution_count": 12,
   "metadata": {},
   "outputs": [],
   "source": [
    "for i in range(45):\n",
    "    try:\n",
    "        temp = pd.read_pickle('salida/nuevo3/SICK/TRAIN_'+str(i+1)+'.csv_Synonym.pickle')\n",
    "        df_syn=pd.concat([df_syn,temp])\n",
    "    except:\n",
    "        pass"
   ]
  },
  {
   "cell_type": "code",
   "execution_count": 13,
   "metadata": {},
   "outputs": [],
   "source": [
    "for i in range(50):\n",
    "    try:\n",
    "        temp = pd.read_pickle('salida/nuevo3/SICK/TEST_'+str(i+1)+'.csv_Synonym.pickle')\n",
    "        df_syn=pd.concat([df_syn,temp])\n",
    "    except:\n",
    "        pass"
   ]
  },
  {
   "cell_type": "code",
   "execution_count": 14,
   "metadata": {},
   "outputs": [
    {
     "data": {
      "text/html": [
       "<div>\n",
       "<style scoped>\n",
       "    .dataframe tbody tr th:only-of-type {\n",
       "        vertical-align: middle;\n",
       "    }\n",
       "\n",
       "    .dataframe tbody tr th {\n",
       "        vertical-align: top;\n",
       "    }\n",
       "\n",
       "    .dataframe thead th {\n",
       "        text-align: right;\n",
       "    }\n",
       "</style>\n",
       "<table border=\"1\" class=\"dataframe\">\n",
       "  <thead>\n",
       "    <tr style=\"text-align: right;\">\n",
       "      <th></th>\n",
       "      <th>word</th>\n",
       "      <th>Synonym</th>\n",
       "    </tr>\n",
       "  </thead>\n",
       "  <tbody>\n",
       "    <tr>\n",
       "      <th>0</th>\n",
       "      <td>sale</td>\n",
       "      <td>{sale, sales_agreement, sales_event, cut_rate_...</td>\n",
       "    </tr>\n",
       "    <tr>\n",
       "      <th>1</th>\n",
       "      <td>make</td>\n",
       "      <td>{relieve_oneself, produce, urinate, pretend, p...</td>\n",
       "    </tr>\n",
       "    <tr>\n",
       "      <th>2</th>\n",
       "      <td>pay</td>\n",
       "      <td>{pay_up, ante_up, compensate, fee, remuneratio...</td>\n",
       "    </tr>\n",
       "    <tr>\n",
       "      <th>3</th>\n",
       "      <td>yukos</td>\n",
       "      <td>{yukos}</td>\n",
       "    </tr>\n",
       "    <tr>\n",
       "      <th>4</th>\n",
       "      <td>27</td>\n",
       "      <td>{27, twenty_seven, xxvii}</td>\n",
       "    </tr>\n",
       "    <tr>\n",
       "      <th>...</th>\n",
       "      <td>...</td>\n",
       "      <td>...</td>\n",
       "    </tr>\n",
       "    <tr>\n",
       "      <th>98153</th>\n",
       "      <td>wall</td>\n",
       "      <td>{wall, chandelier, paries, rampart, surround, ...</td>\n",
       "    </tr>\n",
       "    <tr>\n",
       "      <th>98154</th>\n",
       "      <td>snowboarder</td>\n",
       "      <td>{snowboarder}</td>\n",
       "    </tr>\n",
       "    <tr>\n",
       "      <th>98155</th>\n",
       "      <td>leap</td>\n",
       "      <td>{saltation, pronk, jump_off, bound, leaping, p...</td>\n",
       "    </tr>\n",
       "    <tr>\n",
       "      <th>98156</th>\n",
       "      <td>fearlessly</td>\n",
       "      <td>{dauntlessly, intrepidly, fearlessly}</td>\n",
       "    </tr>\n",
       "    <tr>\n",
       "      <th>98157</th>\n",
       "      <td>snow</td>\n",
       "      <td>{blow, snowfall, snow, coke, charlie, baron_sn...</td>\n",
       "    </tr>\n",
       "  </tbody>\n",
       "</table>\n",
       "<p>98158 rows × 2 columns</p>\n",
       "</div>"
      ],
      "text/plain": [
       "              word                                            Synonym\n",
       "0             sale  {sale, sales_agreement, sales_event, cut_rate_...\n",
       "1             make  {relieve_oneself, produce, urinate, pretend, p...\n",
       "2              pay  {pay_up, ante_up, compensate, fee, remuneratio...\n",
       "3            yukos                                            {yukos}\n",
       "4               27                          {27, twenty_seven, xxvii}\n",
       "...            ...                                                ...\n",
       "98153         wall  {wall, chandelier, paries, rampart, surround, ...\n",
       "98154  snowboarder                                      {snowboarder}\n",
       "98155         leap  {saltation, pronk, jump_off, bound, leaping, p...\n",
       "98156   fearlessly              {dauntlessly, intrepidly, fearlessly}\n",
       "98157         snow  {blow, snowfall, snow, coke, charlie, baron_sn...\n",
       "\n",
       "[98158 rows x 2 columns]"
      ]
     },
     "execution_count": 14,
     "metadata": {},
     "output_type": "execute_result"
    }
   ],
   "source": [
    "df_syn = df_syn.reset_index(drop=True)\n",
    "df_syn"
   ]
  },
  {
   "cell_type": "code",
   "execution_count": 15,
   "metadata": {},
   "outputs": [],
   "source": [
    "for index,strings in df_syn.iterrows():\n",
    "    synonyms[strings['word']]=strings['Synonym']"
   ]
  },
  {
   "cell_type": "code",
   "execution_count": 16,
   "metadata": {},
   "outputs": [
    {
     "data": {
      "text/plain": [
       "25181"
      ]
     },
     "execution_count": 16,
     "metadata": {},
     "output_type": "execute_result"
    }
   ],
   "source": [
    "len(synonyms)"
   ]
  },
  {
   "cell_type": "code",
   "execution_count": 17,
   "metadata": {},
   "outputs": [],
   "source": [
    "df = pd.DataFrame([[key, synonyms[key]] for key in synonyms.keys()], columns=['word', 'Synonym'])\n",
    "df.to_pickle(\"salida/nuevo3/Synonyms.pickle\")"
   ]
  },
  {
   "cell_type": "markdown",
   "metadata": {},
   "source": [
    "# Creación de pickle con hiperonimos"
   ]
  },
  {
   "cell_type": "code",
   "execution_count": 58,
   "metadata": {},
   "outputs": [],
   "source": [
    "hyperonimos=dict()"
   ]
  },
  {
   "cell_type": "code",
   "execution_count": 59,
   "metadata": {},
   "outputs": [],
   "source": [
    "for i in range(8):\n",
    "    if i==0:\n",
    "        df_syn = pd.read_pickle('salida/nuevo3/RTE3/DEV_'+str(i+1)+'.csv_Hyperonym.pickle')\n",
    "    else:\n",
    "        try:\n",
    "            temp = pd.read_pickle('salida/nuevo3/RTE3/DEV_'+str(i+1)+'.csv_Hyperonym.pickle')\n",
    "            df_syn=pd.concat([df_syn,temp])\n",
    "        except:\n",
    "            pass"
   ]
  },
  {
   "cell_type": "code",
   "execution_count": 60,
   "metadata": {},
   "outputs": [],
   "source": [
    "for i in range(8):\n",
    "    try:\n",
    "        temp = pd.read_pickle('salida/nuevo3/RTE3/TEST_'+str(i+1)+'.csv_Hyperonym.pickle')\n",
    "        df_syn=pd.concat([df_syn,temp])\n",
    "    except:\n",
    "        pass"
   ]
  },
  {
   "cell_type": "code",
   "execution_count": 61,
   "metadata": {},
   "outputs": [],
   "source": [
    "for i in range(8):\n",
    "    try:\n",
    "        temp = pd.read_pickle('salida/nuevo3/GHS/GHS_'+str(i+1)+'.csv_Hyperonym.pickle')\n",
    "        df_syn=pd.concat([df_syn,temp])\n",
    "    except:\n",
    "        pass"
   ]
  },
  {
   "cell_type": "code",
   "execution_count": 62,
   "metadata": {},
   "outputs": [],
   "source": [
    "for i in range(5):\n",
    "    try:\n",
    "        temp = pd.read_pickle('salida/nuevo3/SICK/DEV_'+str(i+1)+'.csv_Hyperonym.pickle')\n",
    "        df_syn=pd.concat([df_syn,temp])\n",
    "    except:\n",
    "        pass"
   ]
  },
  {
   "cell_type": "code",
   "execution_count": 63,
   "metadata": {},
   "outputs": [],
   "source": [
    "for i in range(45):\n",
    "    try:\n",
    "        temp = pd.read_pickle('salida/nuevo3/SICK/TRAIN_'+str(i+1)+'.csv_Hyperonym.pickle')\n",
    "        df_syn=pd.concat([df_syn,temp])\n",
    "    except:\n",
    "        pass"
   ]
  },
  {
   "cell_type": "code",
   "execution_count": 64,
   "metadata": {},
   "outputs": [],
   "source": [
    "for i in range(50):\n",
    "    try:\n",
    "        temp = pd.read_pickle('salida/nuevo3/SICK/TEST_'+str(i+1)+'.csv_Hyperonympickle')\n",
    "        df_syn=pd.concat([df_syn,temp])\n",
    "    except:\n",
    "        pass"
   ]
  },
  {
   "cell_type": "code",
   "execution_count": 65,
   "metadata": {},
   "outputs": [
    {
     "data": {
      "text/html": [
       "<div>\n",
       "<style scoped>\n",
       "    .dataframe tbody tr th:only-of-type {\n",
       "        vertical-align: middle;\n",
       "    }\n",
       "\n",
       "    .dataframe tbody tr th {\n",
       "        vertical-align: top;\n",
       "    }\n",
       "\n",
       "    .dataframe thead th {\n",
       "        text-align: right;\n",
       "    }\n",
       "</style>\n",
       "<table border=\"1\" class=\"dataframe\">\n",
       "  <thead>\n",
       "    <tr style=\"text-align: right;\">\n",
       "      <th></th>\n",
       "      <th>word</th>\n",
       "      <th>Hyperonym</th>\n",
       "    </tr>\n",
       "  </thead>\n",
       "  <tbody>\n",
       "    <tr>\n",
       "      <th>0</th>\n",
       "      <td>sale</td>\n",
       "      <td>{reduced_price, cheap_products, agreement, sto...</td>\n",
       "    </tr>\n",
       "    <tr>\n",
       "      <th>1</th>\n",
       "      <td>make</td>\n",
       "      <td>{kind, identification, doing, brand, utility, ...</td>\n",
       "    </tr>\n",
       "    <tr>\n",
       "      <th>2</th>\n",
       "      <td>pay</td>\n",
       "      <td>{money_owed, agreement, job_check, employee_mo...</td>\n",
       "    </tr>\n",
       "    <tr>\n",
       "      <th>3</th>\n",
       "      <td>yukos</td>\n",
       "      <td>{yuko, company}</td>\n",
       "    </tr>\n",
       "    <tr>\n",
       "      <th>4</th>\n",
       "      <td>27</td>\n",
       "      <td>{}</td>\n",
       "    </tr>\n",
       "    <tr>\n",
       "      <th>...</th>\n",
       "      <td>...</td>\n",
       "      <td>...</td>\n",
       "    </tr>\n",
       "    <tr>\n",
       "      <th>104934</th>\n",
       "      <td>lave</td>\n",
       "      <td>{launder, pour, hang, rest, crowd, belive, lad...</td>\n",
       "    </tr>\n",
       "    <tr>\n",
       "      <th>104935</th>\n",
       "      <td>remain</td>\n",
       "      <td>{still_here, human_being, await, still, whats,...</td>\n",
       "    </tr>\n",
       "    <tr>\n",
       "      <th>104936</th>\n",
       "      <td>take_breather</td>\n",
       "      <td>{pause, relax, catch_one's_breath, get_some_ai...</td>\n",
       "    </tr>\n",
       "    <tr>\n",
       "      <th>104937</th>\n",
       "      <td>eternal_rest</td>\n",
       "      <td>{}</td>\n",
       "    </tr>\n",
       "    <tr>\n",
       "      <th>104938</th>\n",
       "      <td>remaining</td>\n",
       "      <td>{remain, remnant}</td>\n",
       "    </tr>\n",
       "  </tbody>\n",
       "</table>\n",
       "<p>104939 rows × 2 columns</p>\n",
       "</div>"
      ],
      "text/plain": [
       "                 word                                          Hyperonym\n",
       "0                sale  {reduced_price, cheap_products, agreement, sto...\n",
       "1                make  {kind, identification, doing, brand, utility, ...\n",
       "2                 pay  {money_owed, agreement, job_check, employee_mo...\n",
       "3               yukos                                    {yuko, company}\n",
       "4                  27                                                 {}\n",
       "...               ...                                                ...\n",
       "104934           lave  {launder, pour, hang, rest, crowd, belive, lad...\n",
       "104935         remain  {still_here, human_being, await, still, whats,...\n",
       "104936  take_breather  {pause, relax, catch_one's_breath, get_some_ai...\n",
       "104937   eternal_rest                                                 {}\n",
       "104938      remaining                                  {remain, remnant}\n",
       "\n",
       "[104939 rows x 2 columns]"
      ]
     },
     "execution_count": 65,
     "metadata": {},
     "output_type": "execute_result"
    }
   ],
   "source": [
    "df_syn = df_syn.reset_index(drop=True)\n",
    "df_syn"
   ]
  },
  {
   "cell_type": "code",
   "execution_count": 66,
   "metadata": {},
   "outputs": [],
   "source": [
    "for index,strings in df_syn.iterrows():\n",
    "    hyperonimos[strings['word']]=strings['Hyperonym']"
   ]
  },
  {
   "cell_type": "code",
   "execution_count": 67,
   "metadata": {},
   "outputs": [
    {
     "data": {
      "text/plain": [
       "22365"
      ]
     },
     "execution_count": 67,
     "metadata": {},
     "output_type": "execute_result"
    }
   ],
   "source": [
    "len(hyperonimos)"
   ]
  },
  {
   "cell_type": "code",
   "execution_count": 68,
   "metadata": {},
   "outputs": [],
   "source": [
    "df = pd.DataFrame([[key, hyperonimos[key]] for key in hyperonimos.keys()], columns=['word', 'Hyperonym'])\n",
    "df.to_pickle(\"salida/nuevo3/Hyperonyms.pickle\")"
   ]
  },
  {
   "cell_type": "markdown",
   "metadata": {},
   "source": [
    "# Hyponyms"
   ]
  },
  {
   "cell_type": "code",
   "execution_count": 69,
   "metadata": {},
   "outputs": [],
   "source": [
    "hyponyms=dict()"
   ]
  },
  {
   "cell_type": "code",
   "execution_count": 70,
   "metadata": {},
   "outputs": [],
   "source": [
    "for i in range(8):\n",
    "    if i==0:\n",
    "        df_syn = pd.read_pickle('salida/nuevo3/RTE3/DEV_'+str(i+1)+'.csv_Hyponym.pickle')\n",
    "    else:\n",
    "        try:\n",
    "            temp = pd.read_pickle('salida/nuevo3/RTE3/DEV_'+str(i+1)+'.csv_Hyponym.pickle')\n",
    "            df_syn=pd.concat([df_syn,temp])\n",
    "        except:\n",
    "            pass"
   ]
  },
  {
   "cell_type": "code",
   "execution_count": 71,
   "metadata": {},
   "outputs": [],
   "source": [
    "for i in range(8):\n",
    "    try:\n",
    "        temp = pd.read_pickle('salida/nuevo3/RTE3/TEST_'+str(i+1)+'.csv_Hyponym.pickle')\n",
    "        df_syn=pd.concat([df_syn,temp])\n",
    "    except:\n",
    "        pass"
   ]
  },
  {
   "cell_type": "code",
   "execution_count": 72,
   "metadata": {},
   "outputs": [],
   "source": [
    "for i in range(8):\n",
    "    try:\n",
    "        temp = pd.read_pickle('salida/nuevo3/GHS/GHS_'+str(i+1)+'.csv_Hyponym.pickle')\n",
    "        df_syn=pd.concat([df_syn,temp])\n",
    "    except:\n",
    "        pass"
   ]
  },
  {
   "cell_type": "code",
   "execution_count": 73,
   "metadata": {},
   "outputs": [],
   "source": [
    "for i in range(5):\n",
    "    try:\n",
    "        temp = pd.read_pickle('salida/nuevo3/SICK/DEV_'+str(i+1)+'.csv_Hyponym.pickle')\n",
    "        df_syn=pd.concat([df_syn,temp])\n",
    "    except:\n",
    "        pass"
   ]
  },
  {
   "cell_type": "code",
   "execution_count": 74,
   "metadata": {},
   "outputs": [],
   "source": [
    "for i in range(45):\n",
    "    try:\n",
    "        temp = pd.read_pickle('salida/nuevo3/SICK/TRAIN_'+str(i+1)+'.csv_Hyponym.pickle')\n",
    "        df_syn=pd.concat([df_syn,temp])\n",
    "    except:\n",
    "        pass"
   ]
  },
  {
   "cell_type": "code",
   "execution_count": 75,
   "metadata": {},
   "outputs": [],
   "source": [
    "for i in range(50):\n",
    "    try:\n",
    "        temp = pd.read_pickle('salida/nuevo3/SICK/TEST_'+str(i+1)+'.csv_Hyponym.pickle')\n",
    "        df_syn=pd.concat([df_syn,temp])\n",
    "    except:\n",
    "        pass"
   ]
  },
  {
   "cell_type": "code",
   "execution_count": 76,
   "metadata": {},
   "outputs": [
    {
     "data": {
      "text/html": [
       "<div>\n",
       "<style scoped>\n",
       "    .dataframe tbody tr th:only-of-type {\n",
       "        vertical-align: middle;\n",
       "    }\n",
       "\n",
       "    .dataframe tbody tr th {\n",
       "        vertical-align: top;\n",
       "    }\n",
       "\n",
       "    .dataframe thead th {\n",
       "        text-align: right;\n",
       "    }\n",
       "</style>\n",
       "<table border=\"1\" class=\"dataframe\">\n",
       "  <thead>\n",
       "    <tr style=\"text-align: right;\">\n",
       "      <th></th>\n",
       "      <th>word</th>\n",
       "      <th>Hyponym</th>\n",
       "    </tr>\n",
       "  </thead>\n",
       "  <tbody>\n",
       "    <tr>\n",
       "      <th>0</th>\n",
       "      <td>sale</td>\n",
       "      <td>{presale, upsale, nonsale, salesperson, condit...</td>\n",
       "    </tr>\n",
       "    <tr>\n",
       "      <th>1</th>\n",
       "      <td>make</td>\n",
       "      <td>{matchless, makable, make_king, create_by_ment...</td>\n",
       "    </tr>\n",
       "    <tr>\n",
       "      <th>2</th>\n",
       "      <td>pay</td>\n",
       "      <td>{go_for_haircut, payware, paypal, keep_things_...</td>\n",
       "    </tr>\n",
       "    <tr>\n",
       "      <th>3</th>\n",
       "      <td>yukos</td>\n",
       "      <td>{}</td>\n",
       "    </tr>\n",
       "    <tr>\n",
       "      <th>4</th>\n",
       "      <td>27</td>\n",
       "      <td>{}</td>\n",
       "    </tr>\n",
       "    <tr>\n",
       "      <th>...</th>\n",
       "      <td>...</td>\n",
       "      <td>...</td>\n",
       "    </tr>\n",
       "    <tr>\n",
       "      <th>115052</th>\n",
       "      <td>baron_snow_of_leicester</td>\n",
       "      <td>{}</td>\n",
       "    </tr>\n",
       "    <tr>\n",
       "      <th>115053</th>\n",
       "      <td>snowfall</td>\n",
       "      <td>{snowfalls}</td>\n",
       "    </tr>\n",
       "    <tr>\n",
       "      <th>115054</th>\n",
       "      <td>coke</td>\n",
       "      <td>{coky, cokehead, biocoke, cokeless, mexicoke, ...</td>\n",
       "    </tr>\n",
       "    <tr>\n",
       "      <th>115055</th>\n",
       "      <td>bamboozle</td>\n",
       "      <td>{bamboozled, bamboozling, bamboozles, bamboozl...</td>\n",
       "    </tr>\n",
       "    <tr>\n",
       "      <th>115056</th>\n",
       "      <td>charlie</td>\n",
       "      <td>{charley, charlieplexing, charlies, charley_ho...</td>\n",
       "    </tr>\n",
       "  </tbody>\n",
       "</table>\n",
       "<p>115057 rows × 2 columns</p>\n",
       "</div>"
      ],
      "text/plain": [
       "                           word  \\\n",
       "0                          sale   \n",
       "1                          make   \n",
       "2                           pay   \n",
       "3                         yukos   \n",
       "4                            27   \n",
       "...                         ...   \n",
       "115052  baron_snow_of_leicester   \n",
       "115053                 snowfall   \n",
       "115054                     coke   \n",
       "115055                bamboozle   \n",
       "115056                  charlie   \n",
       "\n",
       "                                                  Hyponym  \n",
       "0       {presale, upsale, nonsale, salesperson, condit...  \n",
       "1       {matchless, makable, make_king, create_by_ment...  \n",
       "2       {go_for_haircut, payware, paypal, keep_things_...  \n",
       "3                                                      {}  \n",
       "4                                                      {}  \n",
       "...                                                   ...  \n",
       "115052                                                 {}  \n",
       "115053                                        {snowfalls}  \n",
       "115054  {coky, cokehead, biocoke, cokeless, mexicoke, ...  \n",
       "115055  {bamboozled, bamboozling, bamboozles, bamboozl...  \n",
       "115056  {charley, charlieplexing, charlies, charley_ho...  \n",
       "\n",
       "[115057 rows x 2 columns]"
      ]
     },
     "execution_count": 76,
     "metadata": {},
     "output_type": "execute_result"
    }
   ],
   "source": [
    "df_syn = df_syn.reset_index(drop=True)\n",
    "df_syn"
   ]
  },
  {
   "cell_type": "code",
   "execution_count": 77,
   "metadata": {},
   "outputs": [],
   "source": [
    "for index,strings in df_syn.iterrows():\n",
    "    hyponyms[strings['word']]=strings['Hyponym']"
   ]
  },
  {
   "cell_type": "code",
   "execution_count": 78,
   "metadata": {},
   "outputs": [
    {
     "data": {
      "text/plain": [
       "23424"
      ]
     },
     "execution_count": 78,
     "metadata": {},
     "output_type": "execute_result"
    }
   ],
   "source": [
    "len(hyponyms)"
   ]
  },
  {
   "cell_type": "code",
   "execution_count": 79,
   "metadata": {},
   "outputs": [],
   "source": [
    "df = pd.DataFrame([[key, hyponyms[key]] for key in hyponyms.keys()], columns=['word', 'Hyponym'])\n",
    "df.to_pickle(\"salida/nuevo3/Hyponyms.pickle\")"
   ]
  },
  {
   "cell_type": "code",
   "execution_count": null,
   "metadata": {},
   "outputs": [],
   "source": []
  },
  {
   "cell_type": "markdown",
   "metadata": {},
   "source": [
    "# cargar los conjuntos de sinonimia"
   ]
  },
  {
   "cell_type": "code",
   "execution_count": 18,
   "metadata": {},
   "outputs": [],
   "source": [
    "dict_syns = dict()"
   ]
  },
  {
   "cell_type": "code",
   "execution_count": 19,
   "metadata": {},
   "outputs": [
    {
     "data": {
      "text/html": [
       "<div>\n",
       "<style scoped>\n",
       "    .dataframe tbody tr th:only-of-type {\n",
       "        vertical-align: middle;\n",
       "    }\n",
       "\n",
       "    .dataframe tbody tr th {\n",
       "        vertical-align: top;\n",
       "    }\n",
       "\n",
       "    .dataframe thead th {\n",
       "        text-align: right;\n",
       "    }\n",
       "</style>\n",
       "<table border=\"1\" class=\"dataframe\">\n",
       "  <thead>\n",
       "    <tr style=\"text-align: right;\">\n",
       "      <th></th>\n",
       "      <th>word</th>\n",
       "      <th>Synonym</th>\n",
       "    </tr>\n",
       "  </thead>\n",
       "  <tbody>\n",
       "    <tr>\n",
       "      <th>0</th>\n",
       "      <td>sale</td>\n",
       "      <td>{sale, sales_agreement, sales_event, cut_rate_...</td>\n",
       "    </tr>\n",
       "    <tr>\n",
       "      <th>1</th>\n",
       "      <td>make</td>\n",
       "      <td>{relieve_oneself, produce, urinate, pretend, p...</td>\n",
       "    </tr>\n",
       "    <tr>\n",
       "      <th>2</th>\n",
       "      <td>pay</td>\n",
       "      <td>{ante_up, compensate, pay_up, fee, remuneratio...</td>\n",
       "    </tr>\n",
       "    <tr>\n",
       "      <th>3</th>\n",
       "      <td>yukos</td>\n",
       "      <td>{yukos}</td>\n",
       "    </tr>\n",
       "    <tr>\n",
       "      <th>4</th>\n",
       "      <td>27</td>\n",
       "      <td>{xxvii, 27, twenty_seven}</td>\n",
       "    </tr>\n",
       "    <tr>\n",
       "      <th>...</th>\n",
       "      <td>...</td>\n",
       "      <td>...</td>\n",
       "    </tr>\n",
       "    <tr>\n",
       "      <th>25176</th>\n",
       "      <td>hospice</td>\n",
       "      <td>{hospice}</td>\n",
       "    </tr>\n",
       "    <tr>\n",
       "      <th>25177</th>\n",
       "      <td>prformance</td>\n",
       "      <td>{prformance}</td>\n",
       "    </tr>\n",
       "    <tr>\n",
       "      <th>25178</th>\n",
       "      <td>interlace</td>\n",
       "      <td>{interlace, intertwine, lock}</td>\n",
       "    </tr>\n",
       "    <tr>\n",
       "      <th>25179</th>\n",
       "      <td>chilldren</td>\n",
       "      <td>{chilldren}</td>\n",
       "    </tr>\n",
       "    <tr>\n",
       "      <th>25180</th>\n",
       "      <td>absentmindedly</td>\n",
       "      <td>{inattentively, absently, absentmindedly, abst...</td>\n",
       "    </tr>\n",
       "  </tbody>\n",
       "</table>\n",
       "<p>25181 rows × 2 columns</p>\n",
       "</div>"
      ],
      "text/plain": [
       "                 word                                            Synonym\n",
       "0                sale  {sale, sales_agreement, sales_event, cut_rate_...\n",
       "1                make  {relieve_oneself, produce, urinate, pretend, p...\n",
       "2                 pay  {ante_up, compensate, pay_up, fee, remuneratio...\n",
       "3               yukos                                            {yukos}\n",
       "4                  27                          {xxvii, 27, twenty_seven}\n",
       "...               ...                                                ...\n",
       "25176         hospice                                          {hospice}\n",
       "25177      prformance                                       {prformance}\n",
       "25178       interlace                      {interlace, intertwine, lock}\n",
       "25179       chilldren                                        {chilldren}\n",
       "25180  absentmindedly  {inattentively, absently, absentmindedly, abst...\n",
       "\n",
       "[25181 rows x 2 columns]"
      ]
     },
     "execution_count": 19,
     "metadata": {},
     "output_type": "execute_result"
    }
   ],
   "source": [
    "df_sinonimos=pd.read_pickle(\"salida/nuevo3/Synonyms.pickle\")\n",
    "df_sinonimos"
   ]
  },
  {
   "cell_type": "code",
   "execution_count": 20,
   "metadata": {},
   "outputs": [],
   "source": [
    "for index,strings in df_sinonimos.iterrows():\n",
    "    dict_syns[strings['word']]=strings['Synonym']"
   ]
  },
  {
   "cell_type": "code",
   "execution_count": 21,
   "metadata": {},
   "outputs": [
    {
     "data": {
      "text/plain": [
       "25181"
      ]
     },
     "execution_count": 21,
     "metadata": {},
     "output_type": "execute_result"
    }
   ],
   "source": [
    "len(dict_syns)"
   ]
  },
  {
   "cell_type": "markdown",
   "metadata": {},
   "source": [
    "# agregar diccionario de sinonimos del SNLI DEV y TEST"
   ]
  },
  {
   "cell_type": "code",
   "execution_count": 22,
   "metadata": {},
   "outputs": [],
   "source": [
    "for i in range(10):\n",
    "    if i==0:\n",
    "        df_syn = pd.read_pickle('salida/nuevo3/SNLI/DEV/DEV_'+str(i+1)+'.csv_Synonym.pickle')\n",
    "    else:\n",
    "        try:\n",
    "            temp = pd.read_pickle('salida/nuevo3/SNLI/DEV/DEV_'+str(i+1)+'.csv_Synonym.pickle')\n",
    "            df_syn=pd.concat([df_syn,temp])\n",
    "        except:\n",
    "            pass"
   ]
  },
  {
   "cell_type": "code",
   "execution_count": 23,
   "metadata": {},
   "outputs": [],
   "source": [
    "for i in range(10):\n",
    "    try:\n",
    "        temp = pd.read_pickle('salida/nuevo3/SNLI/TEST/TEST_'+str(i+1)+'.csv_Synonym.pickle')\n",
    "        df_syn=pd.concat([df_syn,temp])\n",
    "    except:\n",
    "        pass"
   ]
  },
  {
   "cell_type": "code",
   "execution_count": 24,
   "metadata": {},
   "outputs": [
    {
     "data": {
      "text/html": [
       "<div>\n",
       "<style scoped>\n",
       "    .dataframe tbody tr th:only-of-type {\n",
       "        vertical-align: middle;\n",
       "    }\n",
       "\n",
       "    .dataframe tbody tr th {\n",
       "        vertical-align: top;\n",
       "    }\n",
       "\n",
       "    .dataframe thead th {\n",
       "        text-align: right;\n",
       "    }\n",
       "</style>\n",
       "<table border=\"1\" class=\"dataframe\">\n",
       "  <thead>\n",
       "    <tr style=\"text-align: right;\">\n",
       "      <th></th>\n",
       "      <th>word</th>\n",
       "      <th>Synonym</th>\n",
       "    </tr>\n",
       "  </thead>\n",
       "  <tbody>\n",
       "    <tr>\n",
       "      <th>0</th>\n",
       "      <td>sale</td>\n",
       "      <td>{sale, sales_agreement, sales_event, cut_rate_...</td>\n",
       "    </tr>\n",
       "    <tr>\n",
       "      <th>1</th>\n",
       "      <td>make</td>\n",
       "      <td>{relieve_oneself, produce, urinate, pretend, p...</td>\n",
       "    </tr>\n",
       "    <tr>\n",
       "      <th>2</th>\n",
       "      <td>pay</td>\n",
       "      <td>{pay_up, compensate, ante_up, fee, remuneratio...</td>\n",
       "    </tr>\n",
       "    <tr>\n",
       "      <th>3</th>\n",
       "      <td>yukos</td>\n",
       "      <td>{yukos}</td>\n",
       "    </tr>\n",
       "    <tr>\n",
       "      <th>4</th>\n",
       "      <td>27</td>\n",
       "      <td>{27, twenty_seven, xxvii}</td>\n",
       "    </tr>\n",
       "    <tr>\n",
       "      <th>...</th>\n",
       "      <td>...</td>\n",
       "      <td>...</td>\n",
       "    </tr>\n",
       "    <tr>\n",
       "      <th>236374</th>\n",
       "      <td>gondola</td>\n",
       "      <td>{car, gondola, cable_car, gondola_car}</td>\n",
       "    </tr>\n",
       "    <tr>\n",
       "      <th>236375</th>\n",
       "      <td>ragged</td>\n",
       "      <td>{mean, ragged, shabby}</td>\n",
       "    </tr>\n",
       "    <tr>\n",
       "      <th>236376</th>\n",
       "      <td>accompaniment</td>\n",
       "      <td>{accessory, accompaniment, co_occurrence, ento...</td>\n",
       "    </tr>\n",
       "    <tr>\n",
       "      <th>236377</th>\n",
       "      <td>dishevel</td>\n",
       "      <td>{tousle, dishevel, jostle, tangle, ruffle, dis...</td>\n",
       "    </tr>\n",
       "    <tr>\n",
       "      <th>236378</th>\n",
       "      <td>kite</td>\n",
       "      <td>{kite, sentry}</td>\n",
       "    </tr>\n",
       "  </tbody>\n",
       "</table>\n",
       "<p>236379 rows × 2 columns</p>\n",
       "</div>"
      ],
      "text/plain": [
       "                 word                                            Synonym\n",
       "0                sale  {sale, sales_agreement, sales_event, cut_rate_...\n",
       "1                make  {relieve_oneself, produce, urinate, pretend, p...\n",
       "2                 pay  {pay_up, compensate, ante_up, fee, remuneratio...\n",
       "3               yukos                                            {yukos}\n",
       "4                  27                          {27, twenty_seven, xxvii}\n",
       "...               ...                                                ...\n",
       "236374        gondola             {car, gondola, cable_car, gondola_car}\n",
       "236375         ragged                             {mean, ragged, shabby}\n",
       "236376  accompaniment  {accessory, accompaniment, co_occurrence, ento...\n",
       "236377       dishevel  {tousle, dishevel, jostle, tangle, ruffle, dis...\n",
       "236378           kite                                     {kite, sentry}\n",
       "\n",
       "[236379 rows x 2 columns]"
      ]
     },
     "execution_count": 24,
     "metadata": {},
     "output_type": "execute_result"
    }
   ],
   "source": [
    "df_syn = df_syn.reset_index(drop=True)\n",
    "df_syn"
   ]
  },
  {
   "cell_type": "code",
   "execution_count": 25,
   "metadata": {},
   "outputs": [],
   "source": [
    "for index,strings in df_syn.iterrows():\n",
    "    dict_syns[strings['word']]=strings['Synonym']"
   ]
  },
  {
   "cell_type": "code",
   "execution_count": 26,
   "metadata": {},
   "outputs": [
    {
     "data": {
      "text/plain": [
       "25181"
      ]
     },
     "execution_count": 26,
     "metadata": {},
     "output_type": "execute_result"
    }
   ],
   "source": [
    "len(dict_syns)"
   ]
  },
  {
   "cell_type": "code",
   "execution_count": 27,
   "metadata": {},
   "outputs": [],
   "source": [
    "# actualizamos el dataframe de los conjuntos\n",
    "df = pd.DataFrame([[key, dict_syns[key]] for key in dict_syns.keys()], columns=['word', 'Synonym'])\n",
    "df.to_pickle(\"salida/nuevo3/Synonyms.pickle\")"
   ]
  },
  {
   "cell_type": "markdown",
   "metadata": {},
   "source": [
    "# actualizar hyperonimos con SNLI DEV y TEST"
   ]
  },
  {
   "cell_type": "code",
   "execution_count": 43,
   "metadata": {},
   "outputs": [],
   "source": [
    "hyperonimos=dict()"
   ]
  },
  {
   "cell_type": "code",
   "execution_count": 44,
   "metadata": {},
   "outputs": [
    {
     "data": {
      "text/html": [
       "<div>\n",
       "<style scoped>\n",
       "    .dataframe tbody tr th:only-of-type {\n",
       "        vertical-align: middle;\n",
       "    }\n",
       "\n",
       "    .dataframe tbody tr th {\n",
       "        vertical-align: top;\n",
       "    }\n",
       "\n",
       "    .dataframe thead th {\n",
       "        text-align: right;\n",
       "    }\n",
       "</style>\n",
       "<table border=\"1\" class=\"dataframe\">\n",
       "  <thead>\n",
       "    <tr style=\"text-align: right;\">\n",
       "      <th></th>\n",
       "      <th>word</th>\n",
       "      <th>Hyperonym</th>\n",
       "    </tr>\n",
       "  </thead>\n",
       "  <tbody>\n",
       "    <tr>\n",
       "      <th>0</th>\n",
       "      <td>sale</td>\n",
       "      <td>{off, cheap_prices, on_offer, in_shops, bargai...</td>\n",
       "    </tr>\n",
       "    <tr>\n",
       "      <th>1</th>\n",
       "      <td>make</td>\n",
       "      <td>{move, means_manufacture, name, excrete, trave...</td>\n",
       "    </tr>\n",
       "    <tr>\n",
       "      <th>2</th>\n",
       "      <td>pay</td>\n",
       "      <td>{monies, give_fee, exchange_money, work_money,...</td>\n",
       "    </tr>\n",
       "    <tr>\n",
       "      <th>3</th>\n",
       "      <td>yukos</td>\n",
       "      <td>{company, yuko}</td>\n",
       "    </tr>\n",
       "    <tr>\n",
       "      <th>4</th>\n",
       "      <td>27</td>\n",
       "      <td>{}</td>\n",
       "    </tr>\n",
       "    <tr>\n",
       "      <th>...</th>\n",
       "      <td>...</td>\n",
       "      <td>...</td>\n",
       "    </tr>\n",
       "    <tr>\n",
       "      <th>22360</th>\n",
       "      <td>okra_plant</td>\n",
       "      <td>{vegetable_plant, crop_plant, mallow_order}</td>\n",
       "    </tr>\n",
       "    <tr>\n",
       "      <th>22361</th>\n",
       "      <td>hibiscus_esculentus</td>\n",
       "      <td>{}</td>\n",
       "    </tr>\n",
       "    <tr>\n",
       "      <th>22362</th>\n",
       "      <td>gumbo</td>\n",
       "      <td>{vegetable, capsule, edible, okra, soil, plant...</td>\n",
       "    </tr>\n",
       "    <tr>\n",
       "      <th>22363</th>\n",
       "      <td>lady's_finger</td>\n",
       "      <td>{branchia, potato, kidney_vetch, cake, lobster...</td>\n",
       "    </tr>\n",
       "    <tr>\n",
       "      <th>22364</th>\n",
       "      <td>bhindi</td>\n",
       "      <td>{edible, capsule, plant}</td>\n",
       "    </tr>\n",
       "  </tbody>\n",
       "</table>\n",
       "<p>22365 rows × 2 columns</p>\n",
       "</div>"
      ],
      "text/plain": [
       "                      word                                          Hyperonym\n",
       "0                     sale  {off, cheap_prices, on_offer, in_shops, bargai...\n",
       "1                     make  {move, means_manufacture, name, excrete, trave...\n",
       "2                      pay  {monies, give_fee, exchange_money, work_money,...\n",
       "3                    yukos                                    {company, yuko}\n",
       "4                       27                                                 {}\n",
       "...                    ...                                                ...\n",
       "22360           okra_plant        {vegetable_plant, crop_plant, mallow_order}\n",
       "22361  hibiscus_esculentus                                                 {}\n",
       "22362                gumbo  {vegetable, capsule, edible, okra, soil, plant...\n",
       "22363        lady's_finger  {branchia, potato, kidney_vetch, cake, lobster...\n",
       "22364               bhindi                           {edible, capsule, plant}\n",
       "\n",
       "[22365 rows x 2 columns]"
      ]
     },
     "execution_count": 44,
     "metadata": {},
     "output_type": "execute_result"
    }
   ],
   "source": [
    "df_hyp=pd.read_pickle(\"salida/nuevo3/Hyperonyms.pickle\")\n",
    "df_hyp"
   ]
  },
  {
   "cell_type": "code",
   "execution_count": 46,
   "metadata": {},
   "outputs": [],
   "source": [
    "for index,strings in df_hyp.iterrows():\n",
    "    hyperonimos[strings['word']]=strings['Hyperonym']"
   ]
  },
  {
   "cell_type": "code",
   "execution_count": 47,
   "metadata": {},
   "outputs": [
    {
     "data": {
      "text/plain": [
       "22365"
      ]
     },
     "execution_count": 47,
     "metadata": {},
     "output_type": "execute_result"
    }
   ],
   "source": [
    "len(hyperonimos)"
   ]
  },
  {
   "cell_type": "code",
   "execution_count": 48,
   "metadata": {},
   "outputs": [],
   "source": [
    "for i in range(10):\n",
    "    if i==0:\n",
    "        df_syn = pd.read_pickle('salida/nuevo3/SNLI/DEV/DEV_'+str(i+1)+'.csv_Hyperonym.pickle')\n",
    "    else:\n",
    "        try:\n",
    "            temp = pd.read_pickle('salida/nuevo3/SNLI/DEV/DEV_'+str(i+1)+'.csv_Hyperonym.pickle')\n",
    "            df_syn=pd.concat([df_syn,temp])\n",
    "        except:\n",
    "            pass"
   ]
  },
  {
   "cell_type": "code",
   "execution_count": 49,
   "metadata": {},
   "outputs": [],
   "source": [
    "for i in range(10):\n",
    "    try:\n",
    "        temp = pd.read_pickle('salida/nuevo3/SNLI/TEST/TEST_'+str(i+1)+'.csv_Hyperonym.pickle')\n",
    "        df_syn=pd.concat([df_syn,temp])\n",
    "    except:\n",
    "        pass"
   ]
  },
  {
   "cell_type": "code",
   "execution_count": 50,
   "metadata": {},
   "outputs": [
    {
     "data": {
      "text/html": [
       "<div>\n",
       "<style scoped>\n",
       "    .dataframe tbody tr th:only-of-type {\n",
       "        vertical-align: middle;\n",
       "    }\n",
       "\n",
       "    .dataframe tbody tr th {\n",
       "        vertical-align: top;\n",
       "    }\n",
       "\n",
       "    .dataframe thead th {\n",
       "        text-align: right;\n",
       "    }\n",
       "</style>\n",
       "<table border=\"1\" class=\"dataframe\">\n",
       "  <thead>\n",
       "    <tr style=\"text-align: right;\">\n",
       "      <th></th>\n",
       "      <th>word</th>\n",
       "      <th>Hyperonym</th>\n",
       "    </tr>\n",
       "  </thead>\n",
       "  <tbody>\n",
       "    <tr>\n",
       "      <th>0</th>\n",
       "      <td>sale</td>\n",
       "      <td>{off, cheap_prices, on_offer, in_shops, bargai...</td>\n",
       "    </tr>\n",
       "    <tr>\n",
       "      <th>1</th>\n",
       "      <td>make</td>\n",
       "      <td>{move, means_manufacture, name, excrete, trave...</td>\n",
       "    </tr>\n",
       "    <tr>\n",
       "      <th>2</th>\n",
       "      <td>pay</td>\n",
       "      <td>{monies, give_fee, exchange_money, work_money,...</td>\n",
       "    </tr>\n",
       "    <tr>\n",
       "      <th>3</th>\n",
       "      <td>yukos</td>\n",
       "      <td>{company, yuko}</td>\n",
       "    </tr>\n",
       "    <tr>\n",
       "      <th>4</th>\n",
       "      <td>27</td>\n",
       "      <td>{}</td>\n",
       "    </tr>\n",
       "    <tr>\n",
       "      <th>...</th>\n",
       "      <td>...</td>\n",
       "      <td>...</td>\n",
       "    </tr>\n",
       "    <tr>\n",
       "      <th>459035</th>\n",
       "      <td>social_dancer</td>\n",
       "      <td>{}</td>\n",
       "    </tr>\n",
       "    <tr>\n",
       "      <th>459036</th>\n",
       "      <td>terpsichorean</td>\n",
       "      <td>{terpsichore, dance, dancing}</td>\n",
       "    </tr>\n",
       "    <tr>\n",
       "      <th>459037</th>\n",
       "      <td>exotic_dancer</td>\n",
       "      <td>{belly_dancer, exotic, pole_dancer, stripper}</td>\n",
       "    </tr>\n",
       "    <tr>\n",
       "      <th>459038</th>\n",
       "      <td>terpsichore</td>\n",
       "      <td>{muses, dramatic, dance, mnemosyne, chorus, as...</td>\n",
       "    </tr>\n",
       "    <tr>\n",
       "      <th>459039</th>\n",
       "      <td>kite</td>\n",
       "      <td>{soar, flier, deben, has_string, brill, child,...</td>\n",
       "    </tr>\n",
       "  </tbody>\n",
       "</table>\n",
       "<p>459040 rows × 2 columns</p>\n",
       "</div>"
      ],
      "text/plain": [
       "                 word                                          Hyperonym\n",
       "0                sale  {off, cheap_prices, on_offer, in_shops, bargai...\n",
       "1                make  {move, means_manufacture, name, excrete, trave...\n",
       "2                 pay  {monies, give_fee, exchange_money, work_money,...\n",
       "3               yukos                                    {company, yuko}\n",
       "4                  27                                                 {}\n",
       "...               ...                                                ...\n",
       "459035  social_dancer                                                 {}\n",
       "459036  terpsichorean                      {terpsichore, dance, dancing}\n",
       "459037  exotic_dancer      {belly_dancer, exotic, pole_dancer, stripper}\n",
       "459038    terpsichore  {muses, dramatic, dance, mnemosyne, chorus, as...\n",
       "459039           kite  {soar, flier, deben, has_string, brill, child,...\n",
       "\n",
       "[459040 rows x 2 columns]"
      ]
     },
     "execution_count": 50,
     "metadata": {},
     "output_type": "execute_result"
    }
   ],
   "source": [
    "df_syn = df_syn.reset_index(drop=True)\n",
    "df_syn"
   ]
  },
  {
   "cell_type": "code",
   "execution_count": 51,
   "metadata": {},
   "outputs": [],
   "source": [
    "for index,strings in df_syn.iterrows():\n",
    "    hyperonimos[strings['word']]=strings['Hyperonym']"
   ]
  },
  {
   "cell_type": "code",
   "execution_count": 52,
   "metadata": {},
   "outputs": [
    {
     "data": {
      "text/plain": [
       "27765"
      ]
     },
     "execution_count": 52,
     "metadata": {},
     "output_type": "execute_result"
    }
   ],
   "source": [
    "len(hyperonimos)"
   ]
  },
  {
   "cell_type": "code",
   "execution_count": 53,
   "metadata": {},
   "outputs": [],
   "source": [
    "# actualizamos el dataframe de los conjuntos\n",
    "df = pd.DataFrame([[key, hyperonimos[key]] for key in hyperonimos.keys()], columns=['word', 'Hyperonym'])\n",
    "df.to_pickle(\"salida/nuevo3/Hyperonyms.pickle\")"
   ]
  },
  {
   "cell_type": "markdown",
   "metadata": {},
   "source": [
    "# Actualizar Hyponyms con SNLI TEST y DEV"
   ]
  },
  {
   "cell_type": "code",
   "execution_count": 54,
   "metadata": {},
   "outputs": [],
   "source": [
    "hyponimos=dict()"
   ]
  },
  {
   "cell_type": "code",
   "execution_count": 55,
   "metadata": {},
   "outputs": [
    {
     "data": {
      "text/html": [
       "<div>\n",
       "<style scoped>\n",
       "    .dataframe tbody tr th:only-of-type {\n",
       "        vertical-align: middle;\n",
       "    }\n",
       "\n",
       "    .dataframe tbody tr th {\n",
       "        vertical-align: top;\n",
       "    }\n",
       "\n",
       "    .dataframe thead th {\n",
       "        text-align: right;\n",
       "    }\n",
       "</style>\n",
       "<table border=\"1\" class=\"dataframe\">\n",
       "  <thead>\n",
       "    <tr style=\"text-align: right;\">\n",
       "      <th></th>\n",
       "      <th>word</th>\n",
       "      <th>Hyponym</th>\n",
       "    </tr>\n",
       "  </thead>\n",
       "  <tbody>\n",
       "    <tr>\n",
       "      <th>0</th>\n",
       "      <td>sale</td>\n",
       "      <td>{rummage_sale, salesbook, for_sale, saleabilit...</td>\n",
       "    </tr>\n",
       "    <tr>\n",
       "      <th>1</th>\n",
       "      <td>make</td>\n",
       "      <td>{makeweight, fashion, lay_down, incorporate, m...</td>\n",
       "    </tr>\n",
       "    <tr>\n",
       "      <th>2</th>\n",
       "      <td>pay</td>\n",
       "      <td>{paidest, paysite, spend, prepay, underpay, re...</td>\n",
       "    </tr>\n",
       "    <tr>\n",
       "      <th>3</th>\n",
       "      <td>yukos</td>\n",
       "      <td>{}</td>\n",
       "    </tr>\n",
       "    <tr>\n",
       "      <th>4</th>\n",
       "      <td>27</td>\n",
       "      <td>{}</td>\n",
       "    </tr>\n",
       "    <tr>\n",
       "      <th>...</th>\n",
       "      <td>...</td>\n",
       "      <td>...</td>\n",
       "    </tr>\n",
       "    <tr>\n",
       "      <th>23419</th>\n",
       "      <td>inform_on</td>\n",
       "      <td>{}</td>\n",
       "    </tr>\n",
       "    <tr>\n",
       "      <th>23420</th>\n",
       "      <td>fingerbang</td>\n",
       "      <td>{fingerbangs, fingerbanging, fingerbanged, fin...</td>\n",
       "    </tr>\n",
       "    <tr>\n",
       "      <th>23421</th>\n",
       "      <td>heyday</td>\n",
       "      <td>{heydays, heydey, hayday}</td>\n",
       "    </tr>\n",
       "    <tr>\n",
       "      <th>23422</th>\n",
       "      <td>king_of_insects</td>\n",
       "      <td>{}</td>\n",
       "    </tr>\n",
       "    <tr>\n",
       "      <th>23423</th>\n",
       "      <td>bee_block</td>\n",
       "      <td>{}</td>\n",
       "    </tr>\n",
       "  </tbody>\n",
       "</table>\n",
       "<p>23424 rows × 2 columns</p>\n",
       "</div>"
      ],
      "text/plain": [
       "                  word                                            Hyponym\n",
       "0                 sale  {rummage_sale, salesbook, for_sale, saleabilit...\n",
       "1                 make  {makeweight, fashion, lay_down, incorporate, m...\n",
       "2                  pay  {paidest, paysite, spend, prepay, underpay, re...\n",
       "3                yukos                                                 {}\n",
       "4                   27                                                 {}\n",
       "...                ...                                                ...\n",
       "23419        inform_on                                                 {}\n",
       "23420       fingerbang  {fingerbangs, fingerbanging, fingerbanged, fin...\n",
       "23421           heyday                          {heydays, heydey, hayday}\n",
       "23422  king_of_insects                                                 {}\n",
       "23423        bee_block                                                 {}\n",
       "\n",
       "[23424 rows x 2 columns]"
      ]
     },
     "execution_count": 55,
     "metadata": {},
     "output_type": "execute_result"
    }
   ],
   "source": [
    "df_hyp=pd.read_pickle(\"salida/nuevo3/Hyponyms.pickle\")\n",
    "df_hyp"
   ]
  },
  {
   "cell_type": "code",
   "execution_count": 56,
   "metadata": {},
   "outputs": [],
   "source": [
    "for index,strings in df_hyp.iterrows():\n",
    "    hyponimos[strings['word']]=strings['Hyponym']"
   ]
  },
  {
   "cell_type": "code",
   "execution_count": 57,
   "metadata": {},
   "outputs": [
    {
     "data": {
      "text/plain": [
       "23424"
      ]
     },
     "execution_count": 57,
     "metadata": {},
     "output_type": "execute_result"
    }
   ],
   "source": [
    "len(hyponimos)"
   ]
  },
  {
   "cell_type": "code",
   "execution_count": 58,
   "metadata": {},
   "outputs": [],
   "source": [
    "for i in range(10):\n",
    "    if i==0:\n",
    "        df_syn = pd.read_pickle('salida/nuevo3/SNLI/DEV/DEV_'+str(i+1)+'.csv_Hyponym.pickle')\n",
    "    else:\n",
    "        try:\n",
    "            temp = pd.read_pickle('salida/nuevo3/SNLI/DEV/DEV_'+str(i+1)+'.csv_Hyponym.pickle')\n",
    "            df_syn=pd.concat([df_syn,temp])\n",
    "        except:\n",
    "            pass"
   ]
  },
  {
   "cell_type": "code",
   "execution_count": 59,
   "metadata": {},
   "outputs": [],
   "source": [
    "for i in range(10):\n",
    "    try:\n",
    "        temp = pd.read_pickle('salida/nuevo3/SNLI/TEST/TEST_'+str(i+1)+'.csv_Hyponym.pickle')\n",
    "        df_syn=pd.concat([df_syn,temp])\n",
    "    except:\n",
    "        pass"
   ]
  },
  {
   "cell_type": "code",
   "execution_count": 60,
   "metadata": {},
   "outputs": [
    {
     "data": {
      "text/html": [
       "<div>\n",
       "<style scoped>\n",
       "    .dataframe tbody tr th:only-of-type {\n",
       "        vertical-align: middle;\n",
       "    }\n",
       "\n",
       "    .dataframe tbody tr th {\n",
       "        vertical-align: top;\n",
       "    }\n",
       "\n",
       "    .dataframe thead th {\n",
       "        text-align: right;\n",
       "    }\n",
       "</style>\n",
       "<table border=\"1\" class=\"dataframe\">\n",
       "  <thead>\n",
       "    <tr style=\"text-align: right;\">\n",
       "      <th></th>\n",
       "      <th>word</th>\n",
       "      <th>Hyponym</th>\n",
       "    </tr>\n",
       "  </thead>\n",
       "  <tbody>\n",
       "    <tr>\n",
       "      <th>0</th>\n",
       "      <td>sale</td>\n",
       "      <td>{rummage_sale, salesbook, for_sale, saleabilit...</td>\n",
       "    </tr>\n",
       "    <tr>\n",
       "      <th>1</th>\n",
       "      <td>make</td>\n",
       "      <td>{makeweight, fashion, lay_down, incorporate, m...</td>\n",
       "    </tr>\n",
       "    <tr>\n",
       "      <th>2</th>\n",
       "      <td>pay</td>\n",
       "      <td>{paidest, paysite, spend, prepay, underpay, re...</td>\n",
       "    </tr>\n",
       "    <tr>\n",
       "      <th>3</th>\n",
       "      <td>yukos</td>\n",
       "      <td>{}</td>\n",
       "    </tr>\n",
       "    <tr>\n",
       "      <th>4</th>\n",
       "      <td>27</td>\n",
       "      <td>{}</td>\n",
       "    </tr>\n",
       "    <tr>\n",
       "      <th>...</th>\n",
       "      <td>...</td>\n",
       "      <td>...</td>\n",
       "    </tr>\n",
       "    <tr>\n",
       "      <th>483592</th>\n",
       "      <td>romantically</td>\n",
       "      <td>{}</td>\n",
       "    </tr>\n",
       "    <tr>\n",
       "      <th>483593</th>\n",
       "      <td>teal</td>\n",
       "      <td>{bluewing, garganey, tealness, teals, greenwing}</td>\n",
       "    </tr>\n",
       "    <tr>\n",
       "      <th>483594</th>\n",
       "      <td>busker</td>\n",
       "      <td>{buskers}</td>\n",
       "    </tr>\n",
       "    <tr>\n",
       "      <th>483595</th>\n",
       "      <td>tousle</td>\n",
       "      <td>{touzle, tousled, untousle, tousles, tousle_he...</td>\n",
       "    </tr>\n",
       "    <tr>\n",
       "      <th>483596</th>\n",
       "      <td>kite</td>\n",
       "      <td>{kitefin, parakite, check_kiting, sport_kite, ...</td>\n",
       "    </tr>\n",
       "  </tbody>\n",
       "</table>\n",
       "<p>483597 rows × 2 columns</p>\n",
       "</div>"
      ],
      "text/plain": [
       "                word                                            Hyponym\n",
       "0               sale  {rummage_sale, salesbook, for_sale, saleabilit...\n",
       "1               make  {makeweight, fashion, lay_down, incorporate, m...\n",
       "2                pay  {paidest, paysite, spend, prepay, underpay, re...\n",
       "3              yukos                                                 {}\n",
       "4                 27                                                 {}\n",
       "...              ...                                                ...\n",
       "483592  romantically                                                 {}\n",
       "483593          teal   {bluewing, garganey, tealness, teals, greenwing}\n",
       "483594        busker                                          {buskers}\n",
       "483595        tousle  {touzle, tousled, untousle, tousles, tousle_he...\n",
       "483596          kite  {kitefin, parakite, check_kiting, sport_kite, ...\n",
       "\n",
       "[483597 rows x 2 columns]"
      ]
     },
     "execution_count": 60,
     "metadata": {},
     "output_type": "execute_result"
    }
   ],
   "source": [
    "df_syn = df_syn.reset_index(drop=True)\n",
    "df_syn"
   ]
  },
  {
   "cell_type": "code",
   "execution_count": 61,
   "metadata": {},
   "outputs": [],
   "source": [
    "for index,strings in df_syn.iterrows():\n",
    "    hyponimos[strings['word']]=strings['Hyponym']"
   ]
  },
  {
   "cell_type": "code",
   "execution_count": 62,
   "metadata": {},
   "outputs": [
    {
     "data": {
      "text/plain": [
       "30514"
      ]
     },
     "execution_count": 62,
     "metadata": {},
     "output_type": "execute_result"
    }
   ],
   "source": [
    "len(hyponimos)"
   ]
  },
  {
   "cell_type": "code",
   "execution_count": 63,
   "metadata": {},
   "outputs": [],
   "source": [
    "# actualizamos el dataframe de los conjuntos\n",
    "df = pd.DataFrame([[key, hyponimos[key]] for key in hyponimos.keys()], columns=['word', 'Hyponym'])\n",
    "df.to_pickle(\"salida/nuevo3/Hyponyms.pickle\")"
   ]
  },
  {
   "cell_type": "markdown",
   "metadata": {},
   "source": [
    "# agregar sinonimos del TRAIN SNLI"
   ]
  },
  {
   "cell_type": "code",
   "execution_count": 2,
   "metadata": {
    "metadata": {}
   },
   "outputs": [],
   "source": [
    "dict_syns=dict()"
   ]
  },
  {
   "cell_type": "code",
   "execution_count": 3,
   "metadata": {},
   "outputs": [
    {
     "data": {
      "text/html": [
       "<div>\n",
       "<style scoped>\n",
       "    .dataframe tbody tr th:only-of-type {\n",
       "        vertical-align: middle;\n",
       "    }\n",
       "\n",
       "    .dataframe tbody tr th {\n",
       "        vertical-align: top;\n",
       "    }\n",
       "\n",
       "    .dataframe thead th {\n",
       "        text-align: right;\n",
       "    }\n",
       "</style>\n",
       "<table border=\"1\" class=\"dataframe\">\n",
       "  <thead>\n",
       "    <tr style=\"text-align: right;\">\n",
       "      <th></th>\n",
       "      <th>word</th>\n",
       "      <th>Synonym</th>\n",
       "    </tr>\n",
       "  </thead>\n",
       "  <tbody>\n",
       "    <tr>\n",
       "      <th>0</th>\n",
       "      <td>sale</td>\n",
       "      <td>{cut_rate_sale, sales_agreement, sales_event, ...</td>\n",
       "    </tr>\n",
       "    <tr>\n",
       "      <th>1</th>\n",
       "      <td>make</td>\n",
       "      <td>{name, render, urinate, draw, brand, productio...</td>\n",
       "    </tr>\n",
       "    <tr>\n",
       "      <th>2</th>\n",
       "      <td>pay</td>\n",
       "      <td>{ante_up, compensate, remuneration, pay_up, wa...</td>\n",
       "    </tr>\n",
       "    <tr>\n",
       "      <th>3</th>\n",
       "      <td>yukos</td>\n",
       "      <td>{yukos}</td>\n",
       "    </tr>\n",
       "    <tr>\n",
       "      <th>4</th>\n",
       "      <td>27</td>\n",
       "      <td>{xxvii, twenty_seven, 27}</td>\n",
       "    </tr>\n",
       "    <tr>\n",
       "      <th>...</th>\n",
       "      <td>...</td>\n",
       "      <td>...</td>\n",
       "    </tr>\n",
       "    <tr>\n",
       "      <th>61066</th>\n",
       "      <td>snaps'weather</td>\n",
       "      <td>{snaps'weather}</td>\n",
       "    </tr>\n",
       "    <tr>\n",
       "      <th>61067</th>\n",
       "      <td>sku'the</td>\n",
       "      <td>{sku'the}</td>\n",
       "    </tr>\n",
       "    <tr>\n",
       "      <th>61068</th>\n",
       "      <td>disabilities'we</td>\n",
       "      <td>{disabilities'we}</td>\n",
       "    </tr>\n",
       "    <tr>\n",
       "      <th>61069</th>\n",
       "      <td>parts'hence</td>\n",
       "      <td>{parts'hence}</td>\n",
       "    </tr>\n",
       "    <tr>\n",
       "      <th>61070</th>\n",
       "      <td>icfundrzr@aol</td>\n",
       "      <td>{icfundrzr@aol}</td>\n",
       "    </tr>\n",
       "  </tbody>\n",
       "</table>\n",
       "<p>61071 rows × 2 columns</p>\n",
       "</div>"
      ],
      "text/plain": [
       "                  word                                            Synonym\n",
       "0                 sale  {cut_rate_sale, sales_agreement, sales_event, ...\n",
       "1                 make  {name, render, urinate, draw, brand, productio...\n",
       "2                  pay  {ante_up, compensate, remuneration, pay_up, wa...\n",
       "3                yukos                                            {yukos}\n",
       "4                   27                          {xxvii, twenty_seven, 27}\n",
       "...                ...                                                ...\n",
       "61066    snaps'weather                                    {snaps'weather}\n",
       "61067          sku'the                                          {sku'the}\n",
       "61068  disabilities'we                                  {disabilities'we}\n",
       "61069      parts'hence                                      {parts'hence}\n",
       "61070    icfundrzr@aol                                    {icfundrzr@aol}\n",
       "\n",
       "[61071 rows x 2 columns]"
      ]
     },
     "execution_count": 3,
     "metadata": {},
     "output_type": "execute_result"
    }
   ],
   "source": [
    "df_sinonimos=pd.read_pickle(\"salida/nuevo3/Synonyms.pickle\")\n",
    "df_sinonimos"
   ]
  },
  {
   "cell_type": "code",
   "execution_count": 4,
   "metadata": {},
   "outputs": [],
   "source": [
    "for index,strings in df_sinonimos.iterrows():\n",
    "    dict_syns[strings['word']]=strings['Synonym']"
   ]
  },
  {
   "cell_type": "code",
   "execution_count": 9,
   "metadata": {
    "metadata": {}
   },
   "outputs": [],
   "source": [
    "for i in range(55):\n",
    "    if i==0:\n",
    "        df_syn = pd.read_pickle('salida/nuevo7/SNLI/TRAIN10000/TRAIN_'+str(i+1)+'.csv_Synonym.pickle')\n",
    "    else:\n",
    "        try:\n",
    "            temp = pd.read_pickle('salida/nuevo7/SNLI/TRAIN10000/TRAIN_'+str(i+1)+'.csv_Synonym.pickle')\n",
    "            df_syn=pd.concat([df_syn,temp])\n",
    "        except:\n",
    "            pass"
   ]
  },
  {
   "cell_type": "code",
   "execution_count": 10,
   "metadata": {
    "metadata": {}
   },
   "outputs": [
    {
     "data": {
      "text/html": [
       "<div>\n",
       "<style scoped>\n",
       "    .dataframe tbody tr th:only-of-type {\n",
       "        vertical-align: middle;\n",
       "    }\n",
       "\n",
       "    .dataframe tbody tr th {\n",
       "        vertical-align: top;\n",
       "    }\n",
       "\n",
       "    .dataframe thead th {\n",
       "        text-align: right;\n",
       "    }\n",
       "</style>\n",
       "<table border=\"1\" class=\"dataframe\">\n",
       "  <thead>\n",
       "    <tr style=\"text-align: right;\">\n",
       "      <th></th>\n",
       "      <th>word</th>\n",
       "      <th>Synonym</th>\n",
       "    </tr>\n",
       "  </thead>\n",
       "  <tbody>\n",
       "    <tr>\n",
       "      <th>0</th>\n",
       "      <td>sale</td>\n",
       "      <td>{cut_rate_sale, sales_agreement, sales_event, ...</td>\n",
       "    </tr>\n",
       "    <tr>\n",
       "      <th>1</th>\n",
       "      <td>make</td>\n",
       "      <td>{name, render, urinate, draw, brand, productio...</td>\n",
       "    </tr>\n",
       "    <tr>\n",
       "      <th>2</th>\n",
       "      <td>pay</td>\n",
       "      <td>{compensate, ante_up, remuneration, pay_up, wa...</td>\n",
       "    </tr>\n",
       "    <tr>\n",
       "      <th>3</th>\n",
       "      <td>yukos</td>\n",
       "      <td>{yukos}</td>\n",
       "    </tr>\n",
       "    <tr>\n",
       "      <th>4</th>\n",
       "      <td>27</td>\n",
       "      <td>{xxvii, twenty_seven, 27}</td>\n",
       "    </tr>\n",
       "    <tr>\n",
       "      <th>...</th>\n",
       "      <td>...</td>\n",
       "      <td>...</td>\n",
       "    </tr>\n",
       "    <tr>\n",
       "      <th>1685521</th>\n",
       "      <td>;</td>\n",
       "      <td>{;}</td>\n",
       "    </tr>\n",
       "    <tr>\n",
       "      <th>1685522</th>\n",
       "      <td>(</td>\n",
       "      <td>{(}</td>\n",
       "    </tr>\n",
       "    <tr>\n",
       "      <th>1685523</th>\n",
       "      <td>)</td>\n",
       "      <td>{)}</td>\n",
       "    </tr>\n",
       "    <tr>\n",
       "      <th>1685524</th>\n",
       "      <td>froma</td>\n",
       "      <td>{froma}</td>\n",
       "    </tr>\n",
       "    <tr>\n",
       "      <th>1685525</th>\n",
       "      <td>themself</td>\n",
       "      <td>{hirself, himself, emself, thonself, theirself...</td>\n",
       "    </tr>\n",
       "  </tbody>\n",
       "</table>\n",
       "<p>1685526 rows × 2 columns</p>\n",
       "</div>"
      ],
      "text/plain": [
       "             word                                            Synonym\n",
       "0            sale  {cut_rate_sale, sales_agreement, sales_event, ...\n",
       "1            make  {name, render, urinate, draw, brand, productio...\n",
       "2             pay  {compensate, ante_up, remuneration, pay_up, wa...\n",
       "3           yukos                                            {yukos}\n",
       "4              27                          {xxvii, twenty_seven, 27}\n",
       "...           ...                                                ...\n",
       "1685521         ;                                                {;}\n",
       "1685522         (                                                {(}\n",
       "1685523         )                                                {)}\n",
       "1685524     froma                                            {froma}\n",
       "1685525  themself  {hirself, himself, emself, thonself, theirself...\n",
       "\n",
       "[1685526 rows x 2 columns]"
      ]
     },
     "execution_count": 10,
     "metadata": {},
     "output_type": "execute_result"
    }
   ],
   "source": [
    "df_syn = df_syn.reset_index(drop=True)\n",
    "df_syn"
   ]
  },
  {
   "cell_type": "code",
   "execution_count": 11,
   "metadata": {
    "metadata": {}
   },
   "outputs": [],
   "source": [
    "for index,strings in df_syn.iterrows():\n",
    "    dict_syns[strings['word']]=strings['Synonym']"
   ]
  },
  {
   "cell_type": "code",
   "execution_count": 13,
   "metadata": {
    "metadata": {}
   },
   "outputs": [
    {
     "data": {
      "text/plain": [
       "64561"
      ]
     },
     "execution_count": 13,
     "metadata": {},
     "output_type": "execute_result"
    }
   ],
   "source": [
    "len(dict_syns)"
   ]
  },
  {
   "cell_type": "code",
   "execution_count": 14,
   "metadata": {
    "metadata": {}
   },
   "outputs": [],
   "source": [
    "# actualizamos el dataframe de los conjuntos\n",
    "df = pd.DataFrame([[key, dict_syns[key]] for key in dict_syns.keys()], columns=['word', 'Synonym'])\n",
    "df.to_pickle(\"salida/nuevo3/Synonyms.pickle\")"
   ]
  },
  {
   "cell_type": "markdown",
   "metadata": {},
   "source": [
    "# actualizar hiperonimos de SNLI TRAIN"
   ]
  },
  {
   "cell_type": "code",
   "execution_count": 15,
   "metadata": {
    "metadata": {}
   },
   "outputs": [],
   "source": [
    "hyperonimos=dict()"
   ]
  },
  {
   "cell_type": "code",
   "execution_count": 16,
   "metadata": {
    "metadata": {}
   },
   "outputs": [
    {
     "data": {
      "text/html": [
       "<div>\n",
       "<style scoped>\n",
       "    .dataframe tbody tr th:only-of-type {\n",
       "        vertical-align: middle;\n",
       "    }\n",
       "\n",
       "    .dataframe tbody tr th {\n",
       "        vertical-align: top;\n",
       "    }\n",
       "\n",
       "    .dataframe thead th {\n",
       "        text-align: right;\n",
       "    }\n",
       "</style>\n",
       "<table border=\"1\" class=\"dataframe\">\n",
       "  <thead>\n",
       "    <tr style=\"text-align: right;\">\n",
       "      <th></th>\n",
       "      <th>word</th>\n",
       "      <th>Hyperonym</th>\n",
       "    </tr>\n",
       "  </thead>\n",
       "  <tbody>\n",
       "    <tr>\n",
       "      <th>0</th>\n",
       "      <td>sale</td>\n",
       "      <td>{stores_offer, liquidation, cheaper, shops, pr...</td>\n",
       "    </tr>\n",
       "    <tr>\n",
       "      <th>1</th>\n",
       "      <td>make</td>\n",
       "      <td>{recognise, software, appendix:collocations_of...</td>\n",
       "    </tr>\n",
       "    <tr>\n",
       "      <th>2</th>\n",
       "      <td>pay</td>\n",
       "      <td>{salary, monetary, remunerate, person_now_paid...</td>\n",
       "    </tr>\n",
       "    <tr>\n",
       "      <th>3</th>\n",
       "      <td>yukos</td>\n",
       "      <td>{company, yuko}</td>\n",
       "    </tr>\n",
       "    <tr>\n",
       "      <th>4</th>\n",
       "      <td>27</td>\n",
       "      <td>{}</td>\n",
       "    </tr>\n",
       "    <tr>\n",
       "      <th>...</th>\n",
       "      <td>...</td>\n",
       "      <td>...</td>\n",
       "    </tr>\n",
       "    <tr>\n",
       "      <th>83575</th>\n",
       "      <td>mashup</td>\n",
       "      <td>{music_genre, mash_up, mash}</td>\n",
       "    </tr>\n",
       "    <tr>\n",
       "      <th>83576</th>\n",
       "      <td>hanji</td>\n",
       "      <td>{}</td>\n",
       "    </tr>\n",
       "    <tr>\n",
       "      <th>83577</th>\n",
       "      <td>consise</td>\n",
       "      <td>{}</td>\n",
       "    </tr>\n",
       "    <tr>\n",
       "      <th>83578</th>\n",
       "      <td>overqualifie</td>\n",
       "      <td>{}</td>\n",
       "    </tr>\n",
       "    <tr>\n",
       "      <th>83579</th>\n",
       "      <td>capital_of_indiana</td>\n",
       "      <td>{}</td>\n",
       "    </tr>\n",
       "  </tbody>\n",
       "</table>\n",
       "<p>83580 rows × 2 columns</p>\n",
       "</div>"
      ],
      "text/plain": [
       "                     word                                          Hyperonym\n",
       "0                    sale  {stores_offer, liquidation, cheaper, shops, pr...\n",
       "1                    make  {recognise, software, appendix:collocations_of...\n",
       "2                     pay  {salary, monetary, remunerate, person_now_paid...\n",
       "3                   yukos                                    {company, yuko}\n",
       "4                      27                                                 {}\n",
       "...                   ...                                                ...\n",
       "83575              mashup                       {music_genre, mash_up, mash}\n",
       "83576               hanji                                                 {}\n",
       "83577             consise                                                 {}\n",
       "83578        overqualifie                                                 {}\n",
       "83579  capital_of_indiana                                                 {}\n",
       "\n",
       "[83580 rows x 2 columns]"
      ]
     },
     "execution_count": 16,
     "metadata": {},
     "output_type": "execute_result"
    }
   ],
   "source": [
    "df_hyp=pd.read_pickle(\"salida/nuevo3/Hyperonyms.pickle\")\n",
    "df_hyp"
   ]
  },
  {
   "cell_type": "code",
   "execution_count": 17,
   "metadata": {
    "metadata": {}
   },
   "outputs": [],
   "source": [
    "for index,strings in df_hyp.iterrows():\n",
    "    hyperonimos[strings['word']]=strings['Hyperonym']"
   ]
  },
  {
   "cell_type": "code",
   "execution_count": 18,
   "metadata": {
    "metadata": {}
   },
   "outputs": [
    {
     "data": {
      "text/plain": [
       "83580"
      ]
     },
     "execution_count": 18,
     "metadata": {},
     "output_type": "execute_result"
    }
   ],
   "source": [
    "len(hyperonimos)"
   ]
  },
  {
   "cell_type": "code",
   "execution_count": 19,
   "metadata": {
    "metadata": {}
   },
   "outputs": [],
   "source": [
    "for i in range(55):\n",
    "    if i==0:\n",
    "        df_syn = pd.read_pickle('salida/nuevo7/SNLI/TRAIN10000/TRAIN_'+str(i+1)+'.csv_Hyperonym.pickle')\n",
    "    else:\n",
    "        try:\n",
    "            temp = pd.read_pickle('salida/nuevo7/SNLI/TRAIN10000/TRAIN_'+str(i+1)+'.csv_Hyperonym.pickle')\n",
    "            df_syn=pd.concat([df_syn,temp])\n",
    "        except:\n",
    "            pass"
   ]
  },
  {
   "cell_type": "code",
   "execution_count": 21,
   "metadata": {
    "metadata": {}
   },
   "outputs": [
    {
     "data": {
      "text/html": [
       "<div>\n",
       "<style scoped>\n",
       "    .dataframe tbody tr th:only-of-type {\n",
       "        vertical-align: middle;\n",
       "    }\n",
       "\n",
       "    .dataframe tbody tr th {\n",
       "        vertical-align: top;\n",
       "    }\n",
       "\n",
       "    .dataframe thead th {\n",
       "        text-align: right;\n",
       "    }\n",
       "</style>\n",
       "<table border=\"1\" class=\"dataframe\">\n",
       "  <thead>\n",
       "    <tr style=\"text-align: right;\">\n",
       "      <th></th>\n",
       "      <th>word</th>\n",
       "      <th>Hyperonym</th>\n",
       "    </tr>\n",
       "  </thead>\n",
       "  <tbody>\n",
       "    <tr>\n",
       "      <th>0</th>\n",
       "      <td>sale</td>\n",
       "      <td>{stores_offer, liquidation, cheaper, shops, pr...</td>\n",
       "    </tr>\n",
       "    <tr>\n",
       "      <th>1</th>\n",
       "      <td>make</td>\n",
       "      <td>{recognise, software, appendix:collocations_of...</td>\n",
       "    </tr>\n",
       "    <tr>\n",
       "      <th>2</th>\n",
       "      <td>pay</td>\n",
       "      <td>{salary, monetary, remunerate, person_now_paid...</td>\n",
       "    </tr>\n",
       "    <tr>\n",
       "      <th>3</th>\n",
       "      <td>yukos</td>\n",
       "      <td>{yuko, company}</td>\n",
       "    </tr>\n",
       "    <tr>\n",
       "      <th>4</th>\n",
       "      <td>27</td>\n",
       "      <td>{}</td>\n",
       "    </tr>\n",
       "    <tr>\n",
       "      <th>...</th>\n",
       "      <td>...</td>\n",
       "      <td>...</td>\n",
       "    </tr>\n",
       "    <tr>\n",
       "      <th>2486513</th>\n",
       "      <td>surjective</td>\n",
       "      <td>{}</td>\n",
       "    </tr>\n",
       "    <tr>\n",
       "      <th>2486514</th>\n",
       "      <td>(</td>\n",
       "      <td>{}</td>\n",
       "    </tr>\n",
       "    <tr>\n",
       "      <th>2486515</th>\n",
       "      <td>)</td>\n",
       "      <td>{}</td>\n",
       "    </tr>\n",
       "    <tr>\n",
       "      <th>2486516</th>\n",
       "      <td>from_each_one</td>\n",
       "      <td>{}</td>\n",
       "    </tr>\n",
       "    <tr>\n",
       "      <th>2486517</th>\n",
       "      <td>froma</td>\n",
       "      <td>{}</td>\n",
       "    </tr>\n",
       "  </tbody>\n",
       "</table>\n",
       "<p>2486518 rows × 2 columns</p>\n",
       "</div>"
      ],
      "text/plain": [
       "                  word                                          Hyperonym\n",
       "0                 sale  {stores_offer, liquidation, cheaper, shops, pr...\n",
       "1                 make  {recognise, software, appendix:collocations_of...\n",
       "2                  pay  {salary, monetary, remunerate, person_now_paid...\n",
       "3                yukos                                    {yuko, company}\n",
       "4                   27                                                 {}\n",
       "...                ...                                                ...\n",
       "2486513     surjective                                                 {}\n",
       "2486514              (                                                 {}\n",
       "2486515              )                                                 {}\n",
       "2486516  from_each_one                                                 {}\n",
       "2486517          froma                                                 {}\n",
       "\n",
       "[2486518 rows x 2 columns]"
      ]
     },
     "execution_count": 21,
     "metadata": {},
     "output_type": "execute_result"
    }
   ],
   "source": [
    "df_syn = df_syn.reset_index(drop=True)\n",
    "df_syn"
   ]
  },
  {
   "cell_type": "code",
   "execution_count": 22,
   "metadata": {
    "metadata": {}
   },
   "outputs": [],
   "source": [
    "for index,strings in df_syn.iterrows():\n",
    "    hyperonimos[strings['word']]=strings['Hyperonym']"
   ]
  },
  {
   "cell_type": "code",
   "execution_count": 23,
   "metadata": {
    "metadata": {}
   },
   "outputs": [
    {
     "data": {
      "text/plain": [
       "87423"
      ]
     },
     "execution_count": 23,
     "metadata": {},
     "output_type": "execute_result"
    }
   ],
   "source": [
    "len(hyperonimos)"
   ]
  },
  {
   "cell_type": "code",
   "execution_count": 24,
   "metadata": {
    "metadata": {}
   },
   "outputs": [],
   "source": [
    "# actualizamos el dataframe de los conjuntos\n",
    "df = pd.DataFrame([[key, hyperonimos[key]] for key in hyperonimos.keys()], columns=['word', 'Hyperonym'])\n",
    "df.to_pickle(\"salida/nuevo3/Hyperonyms.pickle\")"
   ]
  },
  {
   "cell_type": "markdown",
   "metadata": {},
   "source": [
    "# agregar hiponimos del SNLI TRAIN"
   ]
  },
  {
   "cell_type": "code",
   "execution_count": 25,
   "metadata": {
    "metadata": {}
   },
   "outputs": [],
   "source": [
    "hyponimos=dict()"
   ]
  },
  {
   "cell_type": "code",
   "execution_count": 26,
   "metadata": {
    "metadata": {}
   },
   "outputs": [
    {
     "data": {
      "text/html": [
       "<div>\n",
       "<style scoped>\n",
       "    .dataframe tbody tr th:only-of-type {\n",
       "        vertical-align: middle;\n",
       "    }\n",
       "\n",
       "    .dataframe tbody tr th {\n",
       "        vertical-align: top;\n",
       "    }\n",
       "\n",
       "    .dataframe thead th {\n",
       "        text-align: right;\n",
       "    }\n",
       "</style>\n",
       "<table border=\"1\" class=\"dataframe\">\n",
       "  <thead>\n",
       "    <tr style=\"text-align: right;\">\n",
       "      <th></th>\n",
       "      <th>word</th>\n",
       "      <th>Hyponym</th>\n",
       "    </tr>\n",
       "  </thead>\n",
       "  <tbody>\n",
       "    <tr>\n",
       "      <th>0</th>\n",
       "      <td>sale</td>\n",
       "      <td>{auction, sale_proof, saleroom, postsale, nons...</td>\n",
       "    </tr>\n",
       "    <tr>\n",
       "      <th>1</th>\n",
       "      <td>make</td>\n",
       "      <td>{copy, incorporate, beget, re_create, generate...</td>\n",
       "    </tr>\n",
       "    <tr>\n",
       "      <th>2</th>\n",
       "      <td>pay</td>\n",
       "      <td>{pays, autopay, going_for_haircut, payback, pa...</td>\n",
       "    </tr>\n",
       "    <tr>\n",
       "      <th>3</th>\n",
       "      <td>yukos</td>\n",
       "      <td>{}</td>\n",
       "    </tr>\n",
       "    <tr>\n",
       "      <th>4</th>\n",
       "      <td>27</td>\n",
       "      <td>{}</td>\n",
       "    </tr>\n",
       "    <tr>\n",
       "      <th>...</th>\n",
       "      <td>...</td>\n",
       "      <td>...</td>\n",
       "    </tr>\n",
       "    <tr>\n",
       "      <th>85020</th>\n",
       "      <td>mashup</td>\n",
       "      <td>{mashable, mashups}</td>\n",
       "    </tr>\n",
       "    <tr>\n",
       "      <th>85021</th>\n",
       "      <td>hanji</td>\n",
       "      <td>{}</td>\n",
       "    </tr>\n",
       "    <tr>\n",
       "      <th>85022</th>\n",
       "      <td>consise</td>\n",
       "      <td>{}</td>\n",
       "    </tr>\n",
       "    <tr>\n",
       "      <th>85023</th>\n",
       "      <td>overqualifie</td>\n",
       "      <td>{}</td>\n",
       "    </tr>\n",
       "    <tr>\n",
       "      <th>85024</th>\n",
       "      <td>wahey</td>\n",
       "      <td>{}</td>\n",
       "    </tr>\n",
       "  </tbody>\n",
       "</table>\n",
       "<p>85025 rows × 2 columns</p>\n",
       "</div>"
      ],
      "text/plain": [
       "               word                                            Hyponym\n",
       "0              sale  {auction, sale_proof, saleroom, postsale, nons...\n",
       "1              make  {copy, incorporate, beget, re_create, generate...\n",
       "2               pay  {pays, autopay, going_for_haircut, payback, pa...\n",
       "3             yukos                                                 {}\n",
       "4                27                                                 {}\n",
       "...             ...                                                ...\n",
       "85020        mashup                                {mashable, mashups}\n",
       "85021         hanji                                                 {}\n",
       "85022       consise                                                 {}\n",
       "85023  overqualifie                                                 {}\n",
       "85024         wahey                                                 {}\n",
       "\n",
       "[85025 rows x 2 columns]"
      ]
     },
     "execution_count": 26,
     "metadata": {},
     "output_type": "execute_result"
    }
   ],
   "source": [
    "df_hyp=pd.read_pickle(\"salida/nuevo3/Hyponyms.pickle\")\n",
    "df_hyp"
   ]
  },
  {
   "cell_type": "code",
   "execution_count": 27,
   "metadata": {
    "metadata": {}
   },
   "outputs": [],
   "source": [
    "for index,strings in df_hyp.iterrows():\n",
    "    hyponimos[strings['word']]=strings['Hyponym']"
   ]
  },
  {
   "cell_type": "code",
   "execution_count": 28,
   "metadata": {
    "metadata": {}
   },
   "outputs": [
    {
     "data": {
      "text/plain": [
       "85025"
      ]
     },
     "execution_count": 28,
     "metadata": {},
     "output_type": "execute_result"
    }
   ],
   "source": [
    "len(hyponimos)"
   ]
  },
  {
   "cell_type": "code",
   "execution_count": 29,
   "metadata": {
    "metadata": {}
   },
   "outputs": [],
   "source": [
    "for i in range(55):\n",
    "    if i==0:\n",
    "        df_syn = pd.read_pickle('salida/nuevo7/SNLI/TRAIN10000/TRAIN_'+str(i+1)+'.csv_Hyponym.pickle')\n",
    "    else:\n",
    "        try:\n",
    "            temp = pd.read_pickle('salida/nuevo7/SNLI/TRAIN10000/TRAIN_'+str(i+1)+'.csv_Hyponym.pickle')\n",
    "            df_syn=pd.concat([df_syn,temp])\n",
    "        except:\n",
    "            pass"
   ]
  },
  {
   "cell_type": "code",
   "execution_count": 30,
   "metadata": {
    "metadata": {}
   },
   "outputs": [
    {
     "data": {
      "text/html": [
       "<div>\n",
       "<style scoped>\n",
       "    .dataframe tbody tr th:only-of-type {\n",
       "        vertical-align: middle;\n",
       "    }\n",
       "\n",
       "    .dataframe tbody tr th {\n",
       "        vertical-align: top;\n",
       "    }\n",
       "\n",
       "    .dataframe thead th {\n",
       "        text-align: right;\n",
       "    }\n",
       "</style>\n",
       "<table border=\"1\" class=\"dataframe\">\n",
       "  <thead>\n",
       "    <tr style=\"text-align: right;\">\n",
       "      <th></th>\n",
       "      <th>word</th>\n",
       "      <th>Hyponym</th>\n",
       "    </tr>\n",
       "  </thead>\n",
       "  <tbody>\n",
       "    <tr>\n",
       "      <th>0</th>\n",
       "      <td>sale</td>\n",
       "      <td>{auction, sale_proof, saleroom, postsale, nons...</td>\n",
       "    </tr>\n",
       "    <tr>\n",
       "      <th>1</th>\n",
       "      <td>make</td>\n",
       "      <td>{copy, incorporate, beget, re_create, generate...</td>\n",
       "    </tr>\n",
       "    <tr>\n",
       "      <th>2</th>\n",
       "      <td>pay</td>\n",
       "      <td>{pays, autopay, going_for_haircut, payback, pa...</td>\n",
       "    </tr>\n",
       "    <tr>\n",
       "      <th>3</th>\n",
       "      <td>yukos</td>\n",
       "      <td>{}</td>\n",
       "    </tr>\n",
       "    <tr>\n",
       "      <th>4</th>\n",
       "      <td>27</td>\n",
       "      <td>{}</td>\n",
       "    </tr>\n",
       "    <tr>\n",
       "      <th>...</th>\n",
       "      <td>...</td>\n",
       "      <td>...</td>\n",
       "    </tr>\n",
       "    <tr>\n",
       "      <th>2789102</th>\n",
       "      <td>why_not</td>\n",
       "      <td>{}</td>\n",
       "    </tr>\n",
       "    <tr>\n",
       "      <th>2789103</th>\n",
       "      <td>how_come</td>\n",
       "      <td>{}</td>\n",
       "    </tr>\n",
       "    <tr>\n",
       "      <th>2789104</th>\n",
       "      <td>wherefore</td>\n",
       "      <td>{wherefores, wherefor, whys_and_wherefores}</td>\n",
       "    </tr>\n",
       "    <tr>\n",
       "      <th>2789105</th>\n",
       "      <td>what_for</td>\n",
       "      <td>{what_fors}</td>\n",
       "    </tr>\n",
       "    <tr>\n",
       "      <th>2789106</th>\n",
       "      <td>what's_up_with</td>\n",
       "      <td>{}</td>\n",
       "    </tr>\n",
       "  </tbody>\n",
       "</table>\n",
       "<p>2789107 rows × 2 columns</p>\n",
       "</div>"
      ],
      "text/plain": [
       "                   word                                            Hyponym\n",
       "0                  sale  {auction, sale_proof, saleroom, postsale, nons...\n",
       "1                  make  {copy, incorporate, beget, re_create, generate...\n",
       "2                   pay  {pays, autopay, going_for_haircut, payback, pa...\n",
       "3                 yukos                                                 {}\n",
       "4                    27                                                 {}\n",
       "...                 ...                                                ...\n",
       "2789102         why_not                                                 {}\n",
       "2789103        how_come                                                 {}\n",
       "2789104       wherefore        {wherefores, wherefor, whys_and_wherefores}\n",
       "2789105        what_for                                        {what_fors}\n",
       "2789106  what's_up_with                                                 {}\n",
       "\n",
       "[2789107 rows x 2 columns]"
      ]
     },
     "execution_count": 30,
     "metadata": {},
     "output_type": "execute_result"
    }
   ],
   "source": [
    "df_syn = df_syn.reset_index(drop=True)\n",
    "df_syn"
   ]
  },
  {
   "cell_type": "code",
   "execution_count": 31,
   "metadata": {
    "metadata": {}
   },
   "outputs": [],
   "source": [
    "for index,strings in df_syn.iterrows():\n",
    "    hyponimos[strings['word']]=strings['Hyponym']"
   ]
  },
  {
   "cell_type": "code",
   "execution_count": 32,
   "metadata": {
    "metadata": {}
   },
   "outputs": [
    {
     "data": {
      "text/plain": [
       "89425"
      ]
     },
     "execution_count": 32,
     "metadata": {},
     "output_type": "execute_result"
    }
   ],
   "source": [
    "len(hyponimos)"
   ]
  },
  {
   "cell_type": "code",
   "execution_count": 33,
   "metadata": {
    "metadata": {}
   },
   "outputs": [],
   "source": [
    "# actualizamos el dataframe de los conjuntos\n",
    "df = pd.DataFrame([[key, hyponimos[key]] for key in hyponimos.keys()], columns=['word', 'Hyponym'])\n",
    "df.to_pickle(\"salida/nuevo3/Hyponyms.pickle\")"
   ]
  },
  {
   "cell_type": "markdown",
   "metadata": {},
   "source": [
    "# Agregar sinonimos del corpus RTEGLUE"
   ]
  },
  {
   "cell_type": "code",
   "execution_count": 31,
   "metadata": {},
   "outputs": [],
   "source": [
    "dict_syns=dict()"
   ]
  },
  {
   "cell_type": "code",
   "execution_count": 32,
   "metadata": {},
   "outputs": [
    {
     "data": {
      "text/html": [
       "<div>\n",
       "<style scoped>\n",
       "    .dataframe tbody tr th:only-of-type {\n",
       "        vertical-align: middle;\n",
       "    }\n",
       "\n",
       "    .dataframe tbody tr th {\n",
       "        vertical-align: top;\n",
       "    }\n",
       "\n",
       "    .dataframe thead th {\n",
       "        text-align: right;\n",
       "    }\n",
       "</style>\n",
       "<table border=\"1\" class=\"dataframe\">\n",
       "  <thead>\n",
       "    <tr style=\"text-align: right;\">\n",
       "      <th></th>\n",
       "      <th>word</th>\n",
       "      <th>Synonym</th>\n",
       "    </tr>\n",
       "  </thead>\n",
       "  <tbody>\n",
       "    <tr>\n",
       "      <th>0</th>\n",
       "      <td>sale</td>\n",
       "      <td>{sales_agreement, sale, cut_rate_sale, sales_e...</td>\n",
       "    </tr>\n",
       "    <tr>\n",
       "      <th>1</th>\n",
       "      <td>make</td>\n",
       "      <td>{manufacture, nauseate, pass_water, produce, n...</td>\n",
       "    </tr>\n",
       "    <tr>\n",
       "      <th>2</th>\n",
       "      <td>pay</td>\n",
       "      <td>{ante_up, pay_off, compensation, fee, compensa...</td>\n",
       "    </tr>\n",
       "    <tr>\n",
       "      <th>3</th>\n",
       "      <td>yukos</td>\n",
       "      <td>{yukos}</td>\n",
       "    </tr>\n",
       "    <tr>\n",
       "      <th>4</th>\n",
       "      <td>27</td>\n",
       "      <td>{twenty_seven, xxvii, 27}</td>\n",
       "    </tr>\n",
       "    <tr>\n",
       "      <th>...</th>\n",
       "      <td>...</td>\n",
       "      <td>...</td>\n",
       "    </tr>\n",
       "    <tr>\n",
       "      <th>29181</th>\n",
       "      <td>ourselves</td>\n",
       "      <td>{ourselves}</td>\n",
       "    </tr>\n",
       "    <tr>\n",
       "      <th>29182</th>\n",
       "      <td>another</td>\n",
       "      <td>{another, some_other, someone_else}</td>\n",
       "    </tr>\n",
       "    <tr>\n",
       "      <th>29183</th>\n",
       "      <td>drew</td>\n",
       "      <td>{drew, john_drew, tight}</td>\n",
       "    </tr>\n",
       "    <tr>\n",
       "      <th>29184</th>\n",
       "      <td>whichever</td>\n",
       "      <td>{whichever}</td>\n",
       "    </tr>\n",
       "    <tr>\n",
       "      <th>29185</th>\n",
       "      <td>blithe</td>\n",
       "      <td>{light_hearted, blithe}</td>\n",
       "    </tr>\n",
       "  </tbody>\n",
       "</table>\n",
       "<p>29186 rows × 2 columns</p>\n",
       "</div>"
      ],
      "text/plain": [
       "            word                                            Synonym\n",
       "0           sale  {sales_agreement, sale, cut_rate_sale, sales_e...\n",
       "1           make  {manufacture, nauseate, pass_water, produce, n...\n",
       "2            pay  {ante_up, pay_off, compensation, fee, compensa...\n",
       "3          yukos                                            {yukos}\n",
       "4             27                          {twenty_seven, xxvii, 27}\n",
       "...          ...                                                ...\n",
       "29181  ourselves                                        {ourselves}\n",
       "29182    another                {another, some_other, someone_else}\n",
       "29183       drew                           {drew, john_drew, tight}\n",
       "29184  whichever                                        {whichever}\n",
       "29185     blithe                            {light_hearted, blithe}\n",
       "\n",
       "[29186 rows x 2 columns]"
      ]
     },
     "execution_count": 32,
     "metadata": {},
     "output_type": "execute_result"
    }
   ],
   "source": [
    "df_sinonimos=pd.read_pickle(\"salida/nuevo3/Synonyms.pickle\")\n",
    "df_sinonimos"
   ]
  },
  {
   "cell_type": "code",
   "execution_count": 33,
   "metadata": {},
   "outputs": [],
   "source": [
    "for index,strings in df_sinonimos.iterrows():\n",
    "    dict_syns[strings['word']]=strings['Synonym']"
   ]
  },
  {
   "cell_type": "code",
   "execution_count": 34,
   "metadata": {},
   "outputs": [],
   "source": [
    "for i in range(1):\n",
    "    if i==0:\n",
    "        df_syn = pd.read_pickle('salida/nuevo6/RTEGLUE/TRAIN_'+str(i+1)+'.csv_Synonym.pickle')\n",
    "    else:\n",
    "        try:\n",
    "            temp = pd.read_pickle('salida/nuevo6/RTEGLUE/TRAIN_'+str(i+1)+'.csv_Synonym.pickle')\n",
    "            df_syn=pd.concat([df_syn,temp])\n",
    "        except:\n",
    "            pass"
   ]
  },
  {
   "cell_type": "code",
   "execution_count": 35,
   "metadata": {},
   "outputs": [],
   "source": [
    "for i in range(1):\n",
    "    try:\n",
    "        temp = pd.read_pickle('salida/nuevo6/RTEGLUE/DEV_'+str(i+1)+'.csv_Synonym.pickle')\n",
    "        df_syn=pd.concat([df_syn,temp])\n",
    "    except:\n",
    "        pass"
   ]
  },
  {
   "cell_type": "code",
   "execution_count": 36,
   "metadata": {},
   "outputs": [
    {
     "data": {
      "text/html": [
       "<div>\n",
       "<style scoped>\n",
       "    .dataframe tbody tr th:only-of-type {\n",
       "        vertical-align: middle;\n",
       "    }\n",
       "\n",
       "    .dataframe tbody tr th {\n",
       "        vertical-align: top;\n",
       "    }\n",
       "\n",
       "    .dataframe thead th {\n",
       "        text-align: right;\n",
       "    }\n",
       "</style>\n",
       "<table border=\"1\" class=\"dataframe\">\n",
       "  <thead>\n",
       "    <tr style=\"text-align: right;\">\n",
       "      <th></th>\n",
       "      <th>word</th>\n",
       "      <th>Synonym</th>\n",
       "    </tr>\n",
       "  </thead>\n",
       "  <tbody>\n",
       "    <tr>\n",
       "      <th>0</th>\n",
       "      <td>sale</td>\n",
       "      <td>{sales_agreement, sale, cut_rate_sale, sales_e...</td>\n",
       "    </tr>\n",
       "    <tr>\n",
       "      <th>1</th>\n",
       "      <td>make</td>\n",
       "      <td>{manufacture, nauseate, pass_water, produce, b...</td>\n",
       "    </tr>\n",
       "    <tr>\n",
       "      <th>2</th>\n",
       "      <td>pay</td>\n",
       "      <td>{ante_up, pay_off, compensation, fee, compensa...</td>\n",
       "    </tr>\n",
       "    <tr>\n",
       "      <th>3</th>\n",
       "      <td>yukos</td>\n",
       "      <td>{yukos}</td>\n",
       "    </tr>\n",
       "    <tr>\n",
       "      <th>4</th>\n",
       "      <td>27</td>\n",
       "      <td>{twenty_seven, xxvii, 27}</td>\n",
       "    </tr>\n",
       "    <tr>\n",
       "      <th>...</th>\n",
       "      <td>...</td>\n",
       "      <td>...</td>\n",
       "    </tr>\n",
       "    <tr>\n",
       "      <th>58337</th>\n",
       "      <td>unless</td>\n",
       "      <td>{at_least_if, unless}</td>\n",
       "    </tr>\n",
       "    <tr>\n",
       "      <th>58338</th>\n",
       "      <td>although</td>\n",
       "      <td>{although, notwithstanding, though, even_though}</td>\n",
       "    </tr>\n",
       "    <tr>\n",
       "      <th>58339</th>\n",
       "      <td>blithe</td>\n",
       "      <td>{light_hearted, blithe}</td>\n",
       "    </tr>\n",
       "    <tr>\n",
       "      <th>58340</th>\n",
       "      <td>why</td>\n",
       "      <td>{what_for, why_not, what's_up_with, how_come, ...</td>\n",
       "    </tr>\n",
       "    <tr>\n",
       "      <th>58341</th>\n",
       "      <td>whereas</td>\n",
       "      <td>{whereas}</td>\n",
       "    </tr>\n",
       "  </tbody>\n",
       "</table>\n",
       "<p>58342 rows × 2 columns</p>\n",
       "</div>"
      ],
      "text/plain": [
       "           word                                            Synonym\n",
       "0          sale  {sales_agreement, sale, cut_rate_sale, sales_e...\n",
       "1          make  {manufacture, nauseate, pass_water, produce, b...\n",
       "2           pay  {ante_up, pay_off, compensation, fee, compensa...\n",
       "3         yukos                                            {yukos}\n",
       "4            27                          {twenty_seven, xxvii, 27}\n",
       "...         ...                                                ...\n",
       "58337    unless                              {at_least_if, unless}\n",
       "58338  although   {although, notwithstanding, though, even_though}\n",
       "58339    blithe                            {light_hearted, blithe}\n",
       "58340       why  {what_for, why_not, what's_up_with, how_come, ...\n",
       "58341   whereas                                          {whereas}\n",
       "\n",
       "[58342 rows x 2 columns]"
      ]
     },
     "execution_count": 36,
     "metadata": {},
     "output_type": "execute_result"
    }
   ],
   "source": [
    "df_syn = df_syn.reset_index(drop=True)\n",
    "df_syn"
   ]
  },
  {
   "cell_type": "code",
   "execution_count": 37,
   "metadata": {},
   "outputs": [],
   "source": [
    "for index,strings in df_syn.iterrows():\n",
    "    dict_syns[strings['word']]=strings['Synonym']"
   ]
  },
  {
   "cell_type": "code",
   "execution_count": 38,
   "metadata": {},
   "outputs": [
    {
     "data": {
      "text/plain": [
       "29186"
      ]
     },
     "execution_count": 38,
     "metadata": {},
     "output_type": "execute_result"
    }
   ],
   "source": [
    "len(dict_syns)"
   ]
  },
  {
   "cell_type": "code",
   "execution_count": 10,
   "metadata": {},
   "outputs": [],
   "source": [
    "# actualizamos el dataframe de los conjuntos\n",
    "df = pd.DataFrame([[key, dict_syns[key]] for key in dict_syns.keys()], columns=['word', 'Synonym'])\n",
    "df.to_pickle(\"salida/nuevo3/Synonyms.pickle\")"
   ]
  },
  {
   "cell_type": "markdown",
   "metadata": {},
   "source": [
    "# Agregar hiperonimos del RTEGLUE"
   ]
  },
  {
   "cell_type": "code",
   "execution_count": 11,
   "metadata": {},
   "outputs": [],
   "source": [
    "hyperonimos=dict()"
   ]
  },
  {
   "cell_type": "code",
   "execution_count": 12,
   "metadata": {},
   "outputs": [
    {
     "data": {
      "text/html": [
       "<div>\n",
       "<style scoped>\n",
       "    .dataframe tbody tr th:only-of-type {\n",
       "        vertical-align: middle;\n",
       "    }\n",
       "\n",
       "    .dataframe tbody tr th {\n",
       "        vertical-align: top;\n",
       "    }\n",
       "\n",
       "    .dataframe thead th {\n",
       "        text-align: right;\n",
       "    }\n",
       "</style>\n",
       "<table border=\"1\" class=\"dataframe\">\n",
       "  <thead>\n",
       "    <tr style=\"text-align: right;\">\n",
       "      <th></th>\n",
       "      <th>word</th>\n",
       "      <th>Hyperonym</th>\n",
       "    </tr>\n",
       "  </thead>\n",
       "  <tbody>\n",
       "    <tr>\n",
       "      <th>0</th>\n",
       "      <td>sale</td>\n",
       "      <td>{bargain_shopping, discount_event, at_market, ...</td>\n",
       "    </tr>\n",
       "    <tr>\n",
       "      <th>1</th>\n",
       "      <td>make</td>\n",
       "      <td>{establish, constitute, pass, perpetrate, craf...</td>\n",
       "    </tr>\n",
       "    <tr>\n",
       "      <th>2</th>\n",
       "      <td>pay</td>\n",
       "      <td>{credit, shelling, earned_income, earnings_wag...</td>\n",
       "    </tr>\n",
       "    <tr>\n",
       "      <th>3</th>\n",
       "      <td>yukos</td>\n",
       "      <td>{yuko, company}</td>\n",
       "    </tr>\n",
       "    <tr>\n",
       "      <th>4</th>\n",
       "      <td>27</td>\n",
       "      <td>{}</td>\n",
       "    </tr>\n",
       "    <tr>\n",
       "      <th>...</th>\n",
       "      <td>...</td>\n",
       "      <td>...</td>\n",
       "    </tr>\n",
       "    <tr>\n",
       "      <th>46519</th>\n",
       "      <td>peptic</td>\n",
       "      <td>{agent, digestion, pepsin, promote, digestive,...</td>\n",
       "    </tr>\n",
       "    <tr>\n",
       "      <th>46520</th>\n",
       "      <td>ofttimes</td>\n",
       "      <td>{frequently, oft, times, often}</td>\n",
       "    </tr>\n",
       "    <tr>\n",
       "      <th>46521</th>\n",
       "      <td>as_often_as_not</td>\n",
       "      <td>{frequently, always, more_often_than_not, more...</td>\n",
       "    </tr>\n",
       "    <tr>\n",
       "      <th>46522</th>\n",
       "      <td>ljubljana</td>\n",
       "      <td>{slovenia, city}</td>\n",
       "    </tr>\n",
       "    <tr>\n",
       "      <th>46523</th>\n",
       "      <td>parkin</td>\n",
       "      <td>{parkins, protein, mutation, per, parkinson, t...</td>\n",
       "    </tr>\n",
       "  </tbody>\n",
       "</table>\n",
       "<p>46524 rows × 2 columns</p>\n",
       "</div>"
      ],
      "text/plain": [
       "                  word                                          Hyperonym\n",
       "0                 sale  {bargain_shopping, discount_event, at_market, ...\n",
       "1                 make  {establish, constitute, pass, perpetrate, craf...\n",
       "2                  pay  {credit, shelling, earned_income, earnings_wag...\n",
       "3                yukos                                    {yuko, company}\n",
       "4                   27                                                 {}\n",
       "...                ...                                                ...\n",
       "46519           peptic  {agent, digestion, pepsin, promote, digestive,...\n",
       "46520         ofttimes                    {frequently, oft, times, often}\n",
       "46521  as_often_as_not  {frequently, always, more_often_than_not, more...\n",
       "46522        ljubljana                                   {slovenia, city}\n",
       "46523           parkin  {parkins, protein, mutation, per, parkinson, t...\n",
       "\n",
       "[46524 rows x 2 columns]"
      ]
     },
     "execution_count": 12,
     "metadata": {},
     "output_type": "execute_result"
    }
   ],
   "source": [
    "df_hyp=pd.read_pickle(\"salida/nuevo3/Hyperonyms.pickle\")\n",
    "df_hyp"
   ]
  },
  {
   "cell_type": "code",
   "execution_count": 13,
   "metadata": {},
   "outputs": [],
   "source": [
    "for index,strings in df_hyp.iterrows():\n",
    "    hyperonimos[strings['word']]=strings['Hyperonym']"
   ]
  },
  {
   "cell_type": "code",
   "execution_count": 14,
   "metadata": {},
   "outputs": [
    {
     "data": {
      "text/plain": [
       "46524"
      ]
     },
     "execution_count": 14,
     "metadata": {},
     "output_type": "execute_result"
    }
   ],
   "source": [
    "len(hyperonimos)"
   ]
  },
  {
   "cell_type": "code",
   "execution_count": 15,
   "metadata": {},
   "outputs": [],
   "source": [
    "for i in range(1):\n",
    "    if i==0:\n",
    "        df_syn = pd.read_pickle('salida/nuevo6/RTEGLUE/TRAIN_'+str(i+1)+'.csv_Hyperonym.pickle')\n",
    "    else:\n",
    "        try:\n",
    "            temp = pd.read_pickle('salida/nuevo6/RTEGLUE/TRAIN_'+str(i+1)+'.csv_Hyperonym.pickle')\n",
    "            df_syn=pd.concat([df_syn,temp])\n",
    "        except:\n",
    "            pass"
   ]
  },
  {
   "cell_type": "code",
   "execution_count": 16,
   "metadata": {},
   "outputs": [],
   "source": [
    "for i in range(1):\n",
    "    try:\n",
    "        temp = pd.read_pickle('salida/nuevo6/RTEGLUE/DEV_'+str(i+1)+'.csv_Hyperonym.pickle')\n",
    "        df_syn=pd.concat([df_syn,temp])\n",
    "    except:\n",
    "        pass"
   ]
  },
  {
   "cell_type": "code",
   "execution_count": 17,
   "metadata": {},
   "outputs": [
    {
     "data": {
      "text/html": [
       "<div>\n",
       "<style scoped>\n",
       "    .dataframe tbody tr th:only-of-type {\n",
       "        vertical-align: middle;\n",
       "    }\n",
       "\n",
       "    .dataframe tbody tr th {\n",
       "        vertical-align: top;\n",
       "    }\n",
       "\n",
       "    .dataframe thead th {\n",
       "        text-align: right;\n",
       "    }\n",
       "</style>\n",
       "<table border=\"1\" class=\"dataframe\">\n",
       "  <thead>\n",
       "    <tr style=\"text-align: right;\">\n",
       "      <th></th>\n",
       "      <th>word</th>\n",
       "      <th>Hyperonym</th>\n",
       "    </tr>\n",
       "  </thead>\n",
       "  <tbody>\n",
       "    <tr>\n",
       "      <th>0</th>\n",
       "      <td>sale</td>\n",
       "      <td>{bargain_shopping, discount_event, at_market, ...</td>\n",
       "    </tr>\n",
       "    <tr>\n",
       "      <th>1</th>\n",
       "      <td>make</td>\n",
       "      <td>{establish, constitute, pass, perpetrate, craf...</td>\n",
       "    </tr>\n",
       "    <tr>\n",
       "      <th>2</th>\n",
       "      <td>pay</td>\n",
       "      <td>{credit, shelling, earned_income, earnings_wag...</td>\n",
       "    </tr>\n",
       "    <tr>\n",
       "      <th>3</th>\n",
       "      <td>yukos</td>\n",
       "      <td>{yuko, company}</td>\n",
       "    </tr>\n",
       "    <tr>\n",
       "      <th>4</th>\n",
       "      <td>27</td>\n",
       "      <td>{}</td>\n",
       "    </tr>\n",
       "    <tr>\n",
       "      <th>...</th>\n",
       "      <td>...</td>\n",
       "      <td>...</td>\n",
       "    </tr>\n",
       "    <tr>\n",
       "      <th>93330</th>\n",
       "      <td>blithe</td>\n",
       "      <td>{bliss}</td>\n",
       "    </tr>\n",
       "    <tr>\n",
       "      <th>93331</th>\n",
       "      <td>why</td>\n",
       "      <td>{reason, thy, eurovision_song_contest_entry, a...</td>\n",
       "    </tr>\n",
       "    <tr>\n",
       "      <th>93332</th>\n",
       "      <td>per_annum</td>\n",
       "      <td>{}</td>\n",
       "    </tr>\n",
       "    <tr>\n",
       "      <th>93333</th>\n",
       "      <td>whereas</td>\n",
       "      <td>{where}</td>\n",
       "    </tr>\n",
       "    <tr>\n",
       "      <th>93334</th>\n",
       "      <td>for_because</td>\n",
       "      <td>{}</td>\n",
       "    </tr>\n",
       "  </tbody>\n",
       "</table>\n",
       "<p>93335 rows × 2 columns</p>\n",
       "</div>"
      ],
      "text/plain": [
       "              word                                          Hyperonym\n",
       "0             sale  {bargain_shopping, discount_event, at_market, ...\n",
       "1             make  {establish, constitute, pass, perpetrate, craf...\n",
       "2              pay  {credit, shelling, earned_income, earnings_wag...\n",
       "3            yukos                                    {yuko, company}\n",
       "4               27                                                 {}\n",
       "...            ...                                                ...\n",
       "93330       blithe                                            {bliss}\n",
       "93331          why  {reason, thy, eurovision_song_contest_entry, a...\n",
       "93332    per_annum                                                 {}\n",
       "93333      whereas                                            {where}\n",
       "93334  for_because                                                 {}\n",
       "\n",
       "[93335 rows x 2 columns]"
      ]
     },
     "execution_count": 17,
     "metadata": {},
     "output_type": "execute_result"
    }
   ],
   "source": [
    "df_syn = df_syn.reset_index(drop=True)\n",
    "df_syn"
   ]
  },
  {
   "cell_type": "code",
   "execution_count": 18,
   "metadata": {},
   "outputs": [],
   "source": [
    "for index,strings in df_syn.iterrows():\n",
    "    hyperonimos[strings['word']]=strings['Hyperonym']"
   ]
  },
  {
   "cell_type": "code",
   "execution_count": 19,
   "metadata": {},
   "outputs": [
    {
     "data": {
      "text/plain": [
       "46744"
      ]
     },
     "execution_count": 19,
     "metadata": {},
     "output_type": "execute_result"
    }
   ],
   "source": [
    "len(hyperonimos)"
   ]
  },
  {
   "cell_type": "code",
   "execution_count": 20,
   "metadata": {},
   "outputs": [],
   "source": [
    "# actualizamos el dataframe de los conjuntos\n",
    "df = pd.DataFrame([[key, hyperonimos[key]] for key in hyperonimos.keys()], columns=['word', 'Hyperonym'])\n",
    "df.to_pickle(\"salida/nuevo3/Hyperonyms.pickle\")"
   ]
  },
  {
   "cell_type": "markdown",
   "metadata": {},
   "source": [
    "# agregar hiponimos del RTEGLUE"
   ]
  },
  {
   "cell_type": "code",
   "execution_count": 21,
   "metadata": {},
   "outputs": [],
   "source": [
    "hyponimos=dict()"
   ]
  },
  {
   "cell_type": "code",
   "execution_count": 22,
   "metadata": {},
   "outputs": [
    {
     "data": {
      "text/html": [
       "<div>\n",
       "<style scoped>\n",
       "    .dataframe tbody tr th:only-of-type {\n",
       "        vertical-align: middle;\n",
       "    }\n",
       "\n",
       "    .dataframe tbody tr th {\n",
       "        vertical-align: top;\n",
       "    }\n",
       "\n",
       "    .dataframe thead th {\n",
       "        text-align: right;\n",
       "    }\n",
       "</style>\n",
       "<table border=\"1\" class=\"dataframe\">\n",
       "  <thead>\n",
       "    <tr style=\"text-align: right;\">\n",
       "      <th></th>\n",
       "      <th>word</th>\n",
       "      <th>Hyponym</th>\n",
       "    </tr>\n",
       "  </thead>\n",
       "  <tbody>\n",
       "    <tr>\n",
       "      <th>0</th>\n",
       "      <td>sale</td>\n",
       "      <td>{fire_sale, upsale, auction, telesale, white_s...</td>\n",
       "    </tr>\n",
       "    <tr>\n",
       "      <th>1</th>\n",
       "      <td>make</td>\n",
       "      <td>{establish, upmake, meck, derive, matchmake, y...</td>\n",
       "    </tr>\n",
       "    <tr>\n",
       "      <th>2</th>\n",
       "      <td>pay</td>\n",
       "      <td>{buy_for_loved_one, postpay, go_for_haircut, p...</td>\n",
       "    </tr>\n",
       "    <tr>\n",
       "      <th>3</th>\n",
       "      <td>yukos</td>\n",
       "      <td>{}</td>\n",
       "    </tr>\n",
       "    <tr>\n",
       "      <th>4</th>\n",
       "      <td>27</td>\n",
       "      <td>{}</td>\n",
       "    </tr>\n",
       "    <tr>\n",
       "      <th>...</th>\n",
       "      <td>...</td>\n",
       "      <td>...</td>\n",
       "    </tr>\n",
       "    <tr>\n",
       "      <th>52305</th>\n",
       "      <td>zikuski</td>\n",
       "      <td>{}</td>\n",
       "    </tr>\n",
       "    <tr>\n",
       "      <th>52306</th>\n",
       "      <td>disjointed</td>\n",
       "      <td>{nondisjointed, disjointedly, disjointedness}</td>\n",
       "    </tr>\n",
       "    <tr>\n",
       "      <th>52307</th>\n",
       "      <td>peptic</td>\n",
       "      <td>{bradypeptic, acidopeptic, peptics, eupeptic, ...</td>\n",
       "    </tr>\n",
       "    <tr>\n",
       "      <th>52308</th>\n",
       "      <td>ljubljana</td>\n",
       "      <td>{ljubljanan, lyublyana}</td>\n",
       "    </tr>\n",
       "    <tr>\n",
       "      <th>52309</th>\n",
       "      <td>parkin</td>\n",
       "      <td>{parkins}</td>\n",
       "    </tr>\n",
       "  </tbody>\n",
       "</table>\n",
       "<p>52310 rows × 2 columns</p>\n",
       "</div>"
      ],
      "text/plain": [
       "             word                                            Hyponym\n",
       "0            sale  {fire_sale, upsale, auction, telesale, white_s...\n",
       "1            make  {establish, upmake, meck, derive, matchmake, y...\n",
       "2             pay  {buy_for_loved_one, postpay, go_for_haircut, p...\n",
       "3           yukos                                                 {}\n",
       "4              27                                                 {}\n",
       "...           ...                                                ...\n",
       "52305     zikuski                                                 {}\n",
       "52306  disjointed      {nondisjointed, disjointedly, disjointedness}\n",
       "52307      peptic  {bradypeptic, acidopeptic, peptics, eupeptic, ...\n",
       "52308   ljubljana                            {ljubljanan, lyublyana}\n",
       "52309      parkin                                          {parkins}\n",
       "\n",
       "[52310 rows x 2 columns]"
      ]
     },
     "execution_count": 22,
     "metadata": {},
     "output_type": "execute_result"
    }
   ],
   "source": [
    "df_hyp=pd.read_pickle(\"salida/nuevo3/Hyponyms.pickle\")\n",
    "df_hyp"
   ]
  },
  {
   "cell_type": "code",
   "execution_count": 23,
   "metadata": {},
   "outputs": [],
   "source": [
    "for index,strings in df_hyp.iterrows():\n",
    "    hyponimos[strings['word']]=strings['Hyponym']"
   ]
  },
  {
   "cell_type": "code",
   "execution_count": 24,
   "metadata": {},
   "outputs": [
    {
     "data": {
      "text/plain": [
       "52310"
      ]
     },
     "execution_count": 24,
     "metadata": {},
     "output_type": "execute_result"
    }
   ],
   "source": [
    "len(hyponimos)"
   ]
  },
  {
   "cell_type": "code",
   "execution_count": 25,
   "metadata": {},
   "outputs": [],
   "source": [
    "for i in range(1):\n",
    "    if i==0:\n",
    "        df_syn = pd.read_pickle('salida/nuevo6/RTEGLUE/TRAIN_'+str(i+1)+'.csv_Hyponym.pickle')\n",
    "    else:\n",
    "        try:\n",
    "            temp = pd.read_pickle('salida/nuevo6/RTEGLUE/TRAIN_'+str(i+1)+'.csv_Hyponym.pickle')\n",
    "            df_syn=pd.concat([df_syn,temp])\n",
    "        except:\n",
    "            pass"
   ]
  },
  {
   "cell_type": "code",
   "execution_count": 26,
   "metadata": {},
   "outputs": [],
   "source": [
    "for i in range(1):\n",
    "    try:\n",
    "        temp = pd.read_pickle('salida/nuevo6/RTEGLUE/DEV_'+str(i+1)+'.csv_Hyponym.pickle')\n",
    "        df_syn=pd.concat([df_syn,temp])\n",
    "    except:\n",
    "        pass"
   ]
  },
  {
   "cell_type": "code",
   "execution_count": 27,
   "metadata": {},
   "outputs": [
    {
     "data": {
      "text/html": [
       "<div>\n",
       "<style scoped>\n",
       "    .dataframe tbody tr th:only-of-type {\n",
       "        vertical-align: middle;\n",
       "    }\n",
       "\n",
       "    .dataframe tbody tr th {\n",
       "        vertical-align: top;\n",
       "    }\n",
       "\n",
       "    .dataframe thead th {\n",
       "        text-align: right;\n",
       "    }\n",
       "</style>\n",
       "<table border=\"1\" class=\"dataframe\">\n",
       "  <thead>\n",
       "    <tr style=\"text-align: right;\">\n",
       "      <th></th>\n",
       "      <th>word</th>\n",
       "      <th>Hyponym</th>\n",
       "    </tr>\n",
       "  </thead>\n",
       "  <tbody>\n",
       "    <tr>\n",
       "      <th>0</th>\n",
       "      <td>sale</td>\n",
       "      <td>{fire_sale, upsale, auction, telesale, white_s...</td>\n",
       "    </tr>\n",
       "    <tr>\n",
       "      <th>1</th>\n",
       "      <td>make</td>\n",
       "      <td>{establish, upmake, derive, matchmake, meck, y...</td>\n",
       "    </tr>\n",
       "    <tr>\n",
       "      <th>2</th>\n",
       "      <td>pay</td>\n",
       "      <td>{buy_for_loved_one, postpay, go_for_haircut, p...</td>\n",
       "    </tr>\n",
       "    <tr>\n",
       "      <th>3</th>\n",
       "      <td>yukos</td>\n",
       "      <td>{}</td>\n",
       "    </tr>\n",
       "    <tr>\n",
       "      <th>4</th>\n",
       "      <td>27</td>\n",
       "      <td>{}</td>\n",
       "    </tr>\n",
       "    <tr>\n",
       "      <th>...</th>\n",
       "      <td>...</td>\n",
       "      <td>...</td>\n",
       "    </tr>\n",
       "    <tr>\n",
       "      <th>104750</th>\n",
       "      <td>yinz</td>\n",
       "      <td>{yins, yinzer}</td>\n",
       "    </tr>\n",
       "    <tr>\n",
       "      <th>104751</th>\n",
       "      <td>blithe</td>\n",
       "      <td>{blitheful, blither, blitheness, blithen, blit...</td>\n",
       "    </tr>\n",
       "    <tr>\n",
       "      <th>104752</th>\n",
       "      <td>why</td>\n",
       "      <td>{whies, whyness, why_in_god's_name, why_not, s...</td>\n",
       "    </tr>\n",
       "    <tr>\n",
       "      <th>104753</th>\n",
       "      <td>whereas</td>\n",
       "      <td>{whereases}</td>\n",
       "    </tr>\n",
       "    <tr>\n",
       "      <th>104754</th>\n",
       "      <td>compared_with</td>\n",
       "      <td>{}</td>\n",
       "    </tr>\n",
       "  </tbody>\n",
       "</table>\n",
       "<p>104755 rows × 2 columns</p>\n",
       "</div>"
      ],
      "text/plain": [
       "                 word                                            Hyponym\n",
       "0                sale  {fire_sale, upsale, auction, telesale, white_s...\n",
       "1                make  {establish, upmake, derive, matchmake, meck, y...\n",
       "2                 pay  {buy_for_loved_one, postpay, go_for_haircut, p...\n",
       "3               yukos                                                 {}\n",
       "4                  27                                                 {}\n",
       "...               ...                                                ...\n",
       "104750           yinz                                     {yins, yinzer}\n",
       "104751         blithe  {blitheful, blither, blitheness, blithen, blit...\n",
       "104752            why  {whies, whyness, why_in_god's_name, why_not, s...\n",
       "104753        whereas                                        {whereases}\n",
       "104754  compared_with                                                 {}\n",
       "\n",
       "[104755 rows x 2 columns]"
      ]
     },
     "execution_count": 27,
     "metadata": {},
     "output_type": "execute_result"
    }
   ],
   "source": [
    "df_syn = df_syn.reset_index(drop=True)\n",
    "df_syn"
   ]
  },
  {
   "cell_type": "code",
   "execution_count": 28,
   "metadata": {},
   "outputs": [],
   "source": [
    "for index,strings in df_syn.iterrows():\n",
    "    hyponimos[strings['word']]=strings['Hyponym']"
   ]
  },
  {
   "cell_type": "code",
   "execution_count": 29,
   "metadata": {},
   "outputs": [
    {
     "data": {
      "text/plain": [
       "52399"
      ]
     },
     "execution_count": 29,
     "metadata": {},
     "output_type": "execute_result"
    }
   ],
   "source": [
    "len(hyponimos)"
   ]
  },
  {
   "cell_type": "code",
   "execution_count": 30,
   "metadata": {},
   "outputs": [],
   "source": [
    "# actualizamos el dataframe de los conjuntos\n",
    "df = pd.DataFrame([[key, hyponimos[key]] for key in hyponimos.keys()], columns=['word', 'Hyponym'])\n",
    "df.to_pickle(\"salida/nuevo3/Hyponyms.pickle\")"
   ]
  },
  {
   "cell_type": "markdown",
   "metadata": {},
   "source": [
    "# agregar sinonimos de MultiNLI"
   ]
  },
  {
   "cell_type": "code",
   "execution_count": 2,
   "metadata": {},
   "outputs": [],
   "source": [
    "dict_syns=dict()"
   ]
  },
  {
   "cell_type": "code",
   "execution_count": 3,
   "metadata": {},
   "outputs": [
    {
     "data": {
      "text/html": [
       "<div>\n",
       "<style scoped>\n",
       "    .dataframe tbody tr th:only-of-type {\n",
       "        vertical-align: middle;\n",
       "    }\n",
       "\n",
       "    .dataframe tbody tr th {\n",
       "        vertical-align: top;\n",
       "    }\n",
       "\n",
       "    .dataframe thead th {\n",
       "        text-align: right;\n",
       "    }\n",
       "</style>\n",
       "<table border=\"1\" class=\"dataframe\">\n",
       "  <thead>\n",
       "    <tr style=\"text-align: right;\">\n",
       "      <th></th>\n",
       "      <th>word</th>\n",
       "      <th>Synonym</th>\n",
       "    </tr>\n",
       "  </thead>\n",
       "  <tbody>\n",
       "    <tr>\n",
       "      <th>0</th>\n",
       "      <td>sale</td>\n",
       "      <td>{sales_event, cut_rate_sale, sale, sales_agree...</td>\n",
       "    </tr>\n",
       "    <tr>\n",
       "      <th>1</th>\n",
       "      <td>make</td>\n",
       "      <td>{construct, puddle, fabricate, make_into, pass...</td>\n",
       "    </tr>\n",
       "    <tr>\n",
       "      <th>2</th>\n",
       "      <td>pay</td>\n",
       "      <td>{give, fee, ante_up, compensation, wage, pay_u...</td>\n",
       "    </tr>\n",
       "    <tr>\n",
       "      <th>3</th>\n",
       "      <td>yukos</td>\n",
       "      <td>{yukos}</td>\n",
       "    </tr>\n",
       "    <tr>\n",
       "      <th>4</th>\n",
       "      <td>27</td>\n",
       "      <td>{27, xxvii, twenty_seven}</td>\n",
       "    </tr>\n",
       "    <tr>\n",
       "      <th>...</th>\n",
       "      <td>...</td>\n",
       "      <td>...</td>\n",
       "    </tr>\n",
       "    <tr>\n",
       "      <th>31677</th>\n",
       "      <td>hanji</td>\n",
       "      <td>{hanji}</td>\n",
       "    </tr>\n",
       "    <tr>\n",
       "      <th>31678</th>\n",
       "      <td>consise</td>\n",
       "      <td>{consise}</td>\n",
       "    </tr>\n",
       "    <tr>\n",
       "      <th>31679</th>\n",
       "      <td>overqualifie</td>\n",
       "      <td>{overqualifie}</td>\n",
       "    </tr>\n",
       "    <tr>\n",
       "      <th>31680</th>\n",
       "      <td>dreg</td>\n",
       "      <td>{dreg}</td>\n",
       "    </tr>\n",
       "    <tr>\n",
       "      <th>31681</th>\n",
       "      <td>untimely</td>\n",
       "      <td>{untimely, premature, early, inopportune, prem...</td>\n",
       "    </tr>\n",
       "  </tbody>\n",
       "</table>\n",
       "<p>31682 rows × 2 columns</p>\n",
       "</div>"
      ],
      "text/plain": [
       "               word                                            Synonym\n",
       "0              sale  {sales_event, cut_rate_sale, sale, sales_agree...\n",
       "1              make  {construct, puddle, fabricate, make_into, pass...\n",
       "2               pay  {give, fee, ante_up, compensation, wage, pay_u...\n",
       "3             yukos                                            {yukos}\n",
       "4                27                          {27, xxvii, twenty_seven}\n",
       "...             ...                                                ...\n",
       "31677         hanji                                            {hanji}\n",
       "31678       consise                                          {consise}\n",
       "31679  overqualifie                                     {overqualifie}\n",
       "31680          dreg                                             {dreg}\n",
       "31681      untimely  {untimely, premature, early, inopportune, prem...\n",
       "\n",
       "[31682 rows x 2 columns]"
      ]
     },
     "execution_count": 3,
     "metadata": {},
     "output_type": "execute_result"
    }
   ],
   "source": [
    "df_sinonimos=pd.read_pickle(\"salida/nuevo3/Synonyms.pickle\")\n",
    "df_sinonimos"
   ]
  },
  {
   "cell_type": "code",
   "execution_count": 4,
   "metadata": {},
   "outputs": [],
   "source": [
    "for index,strings in df_sinonimos.iterrows():\n",
    "    dict_syns[strings['word']]=strings['Synonym']"
   ]
  },
  {
   "cell_type": "code",
   "execution_count": 8,
   "metadata": {},
   "outputs": [],
   "source": [
    "for i in range(2,40,1):\n",
    "    if i==2:\n",
    "        df_syn = pd.read_pickle('salida/nuevo7/MultiNLI/TRAIN/TRAIN_'+str(i+1)+'.csv_Synonym.pickle')\n",
    "    else:\n",
    "        try:\n",
    "            temp = pd.read_pickle('salida/nuevo7/MultiNLI/TRAIN/TRAIN_'+str(i+1)+'.csv_Synonym.pickle')\n",
    "            df_syn=pd.concat([df_syn,temp])\n",
    "        except:\n",
    "            pass"
   ]
  },
  {
   "cell_type": "code",
   "execution_count": 9,
   "metadata": {},
   "outputs": [],
   "source": [
    "for i in range(1):\n",
    "    try:\n",
    "        temp = pd.read_pickle('salida/nuevo7/MultiNLI/DEVMM/DEV_'+str(i+1)+'.csv_Synonym.pickle')\n",
    "        df_syn=pd.concat([df_syn,temp])\n",
    "    except:\n",
    "        pass"
   ]
  },
  {
   "cell_type": "code",
   "execution_count": 10,
   "metadata": {},
   "outputs": [
    {
     "data": {
      "text/html": [
       "<div>\n",
       "<style scoped>\n",
       "    .dataframe tbody tr th:only-of-type {\n",
       "        vertical-align: middle;\n",
       "    }\n",
       "\n",
       "    .dataframe tbody tr th {\n",
       "        vertical-align: top;\n",
       "    }\n",
       "\n",
       "    .dataframe thead th {\n",
       "        text-align: right;\n",
       "    }\n",
       "</style>\n",
       "<table border=\"1\" class=\"dataframe\">\n",
       "  <thead>\n",
       "    <tr style=\"text-align: right;\">\n",
       "      <th></th>\n",
       "      <th>word</th>\n",
       "      <th>Synonym</th>\n",
       "    </tr>\n",
       "  </thead>\n",
       "  <tbody>\n",
       "    <tr>\n",
       "      <th>0</th>\n",
       "      <td>sale</td>\n",
       "      <td>{sale, cut_rate_sale, sales_event, sales_agree...</td>\n",
       "    </tr>\n",
       "    <tr>\n",
       "      <th>1</th>\n",
       "      <td>make</td>\n",
       "      <td>{construct, puddle, fabricate, make_into, pass...</td>\n",
       "    </tr>\n",
       "    <tr>\n",
       "      <th>2</th>\n",
       "      <td>pay</td>\n",
       "      <td>{give, fee, compensation, wage, ante_up, pay_u...</td>\n",
       "    </tr>\n",
       "    <tr>\n",
       "      <th>3</th>\n",
       "      <td>yukos</td>\n",
       "      <td>{yukos}</td>\n",
       "    </tr>\n",
       "    <tr>\n",
       "      <th>4</th>\n",
       "      <td>27</td>\n",
       "      <td>{27, xxvii, twenty_seven}</td>\n",
       "    </tr>\n",
       "    <tr>\n",
       "      <th>...</th>\n",
       "      <td>...</td>\n",
       "      <td>...</td>\n",
       "    </tr>\n",
       "    <tr>\n",
       "      <th>588925</th>\n",
       "      <td>disabilities'we</td>\n",
       "      <td>{disabilities'we}</td>\n",
       "    </tr>\n",
       "    <tr>\n",
       "      <th>588926</th>\n",
       "      <td>parts'hence</td>\n",
       "      <td>{parts'hence}</td>\n",
       "    </tr>\n",
       "    <tr>\n",
       "      <th>588927</th>\n",
       "      <td>icfundrzr@aol</td>\n",
       "      <td>{icfundrzr@aol}</td>\n",
       "    </tr>\n",
       "    <tr>\n",
       "      <th>588928</th>\n",
       "      <td>&gt;</td>\n",
       "      <td>{&gt;}</td>\n",
       "    </tr>\n",
       "    <tr>\n",
       "      <th>588929</th>\n",
       "      <td>eh</td>\n",
       "      <td>{eh}</td>\n",
       "    </tr>\n",
       "  </tbody>\n",
       "</table>\n",
       "<p>588930 rows × 2 columns</p>\n",
       "</div>"
      ],
      "text/plain": [
       "                   word                                            Synonym\n",
       "0                  sale  {sale, cut_rate_sale, sales_event, sales_agree...\n",
       "1                  make  {construct, puddle, fabricate, make_into, pass...\n",
       "2                   pay  {give, fee, compensation, wage, ante_up, pay_u...\n",
       "3                 yukos                                            {yukos}\n",
       "4                    27                          {27, xxvii, twenty_seven}\n",
       "...                 ...                                                ...\n",
       "588925  disabilities'we                                  {disabilities'we}\n",
       "588926      parts'hence                                      {parts'hence}\n",
       "588927    icfundrzr@aol                                    {icfundrzr@aol}\n",
       "588928                >                                                {>}\n",
       "588929               eh                                               {eh}\n",
       "\n",
       "[588930 rows x 2 columns]"
      ]
     },
     "execution_count": 10,
     "metadata": {},
     "output_type": "execute_result"
    }
   ],
   "source": [
    "df_syn = df_syn.reset_index(drop=True)\n",
    "df_syn"
   ]
  },
  {
   "cell_type": "code",
   "execution_count": 11,
   "metadata": {},
   "outputs": [],
   "source": [
    "for index,strings in df_syn.iterrows():\n",
    "    dict_syns[strings['word']]=strings['Synonym']"
   ]
  },
  {
   "cell_type": "code",
   "execution_count": 12,
   "metadata": {},
   "outputs": [
    {
     "data": {
      "text/plain": [
       "61071"
      ]
     },
     "execution_count": 12,
     "metadata": {},
     "output_type": "execute_result"
    }
   ],
   "source": [
    "len(dict_syns)"
   ]
  },
  {
   "cell_type": "code",
   "execution_count": 13,
   "metadata": {},
   "outputs": [],
   "source": [
    "# actualizamos el dataframe de los conjuntos\n",
    "df = pd.DataFrame([[key, dict_syns[key]] for key in dict_syns.keys()], columns=['word', 'Synonym'])\n",
    "df.to_pickle(\"salida/nuevo3/Synonyms.pickle\")"
   ]
  },
  {
   "cell_type": "markdown",
   "metadata": {},
   "source": [
    "# hiperonimos de MUlitNLI"
   ]
  },
  {
   "cell_type": "code",
   "execution_count": 4,
   "metadata": {},
   "outputs": [],
   "source": [
    "hyperonimos=dict()"
   ]
  },
  {
   "cell_type": "code",
   "execution_count": 5,
   "metadata": {},
   "outputs": [
    {
     "data": {
      "text/html": [
       "<div>\n",
       "<style scoped>\n",
       "    .dataframe tbody tr th:only-of-type {\n",
       "        vertical-align: middle;\n",
       "    }\n",
       "\n",
       "    .dataframe tbody tr th {\n",
       "        vertical-align: top;\n",
       "    }\n",
       "\n",
       "    .dataframe thead th {\n",
       "        text-align: right;\n",
       "    }\n",
       "</style>\n",
       "<table border=\"1\" class=\"dataframe\">\n",
       "  <thead>\n",
       "    <tr style=\"text-align: right;\">\n",
       "      <th></th>\n",
       "      <th>word</th>\n",
       "      <th>Hyperonym</th>\n",
       "    </tr>\n",
       "  </thead>\n",
       "  <tbody>\n",
       "    <tr>\n",
       "      <th>0</th>\n",
       "      <td>sale</td>\n",
       "      <td>{temporary, big, commercial_transaction, store...</td>\n",
       "    </tr>\n",
       "    <tr>\n",
       "      <th>1</th>\n",
       "      <td>make</td>\n",
       "      <td>{creating_action, constitute, short, construct...</td>\n",
       "    </tr>\n",
       "    <tr>\n",
       "      <th>2</th>\n",
       "      <td>pay</td>\n",
       "      <td>{monies, monetary_attraction, getting_somethin...</td>\n",
       "    </tr>\n",
       "    <tr>\n",
       "      <th>3</th>\n",
       "      <td>yukos</td>\n",
       "      <td>{company, yuko}</td>\n",
       "    </tr>\n",
       "    <tr>\n",
       "      <th>4</th>\n",
       "      <td>27</td>\n",
       "      <td>{}</td>\n",
       "    </tr>\n",
       "    <tr>\n",
       "      <th>...</th>\n",
       "      <td>...</td>\n",
       "      <td>...</td>\n",
       "    </tr>\n",
       "    <tr>\n",
       "      <th>46739</th>\n",
       "      <td>sir_james_augustus_henry_murray</td>\n",
       "      <td>{}</td>\n",
       "    </tr>\n",
       "    <tr>\n",
       "      <th>46740</th>\n",
       "      <td>murray_river</td>\n",
       "      <td>{river}</td>\n",
       "    </tr>\n",
       "    <tr>\n",
       "      <th>46741</th>\n",
       "      <td>argentinean</td>\n",
       "      <td>{argentina, argentine}</td>\n",
       "    </tr>\n",
       "    <tr>\n",
       "      <th>46742</th>\n",
       "      <td>blithe</td>\n",
       "      <td>{bliss}</td>\n",
       "    </tr>\n",
       "    <tr>\n",
       "      <th>46743</th>\n",
       "      <td>per_annum</td>\n",
       "      <td>{}</td>\n",
       "    </tr>\n",
       "  </tbody>\n",
       "</table>\n",
       "<p>46744 rows × 2 columns</p>\n",
       "</div>"
      ],
      "text/plain": [
       "                                  word  \\\n",
       "0                                 sale   \n",
       "1                                 make   \n",
       "2                                  pay   \n",
       "3                                yukos   \n",
       "4                                   27   \n",
       "...                                ...   \n",
       "46739  sir_james_augustus_henry_murray   \n",
       "46740                     murray_river   \n",
       "46741                      argentinean   \n",
       "46742                           blithe   \n",
       "46743                        per_annum   \n",
       "\n",
       "                                               Hyperonym  \n",
       "0      {temporary, big, commercial_transaction, store...  \n",
       "1      {creating_action, constitute, short, construct...  \n",
       "2      {monies, monetary_attraction, getting_somethin...  \n",
       "3                                        {company, yuko}  \n",
       "4                                                     {}  \n",
       "...                                                  ...  \n",
       "46739                                                 {}  \n",
       "46740                                            {river}  \n",
       "46741                             {argentina, argentine}  \n",
       "46742                                            {bliss}  \n",
       "46743                                                 {}  \n",
       "\n",
       "[46744 rows x 2 columns]"
      ]
     },
     "execution_count": 5,
     "metadata": {},
     "output_type": "execute_result"
    }
   ],
   "source": [
    "df_hyp=pd.read_pickle(\"salida/nuevo3/Hyperonyms.pickle\")\n",
    "df_hyp"
   ]
  },
  {
   "cell_type": "code",
   "execution_count": 6,
   "metadata": {},
   "outputs": [],
   "source": [
    "for index,strings in df_hyp.iterrows():\n",
    "    hyperonimos[strings['word']]=strings['Hyperonym']"
   ]
  },
  {
   "cell_type": "code",
   "execution_count": 7,
   "metadata": {},
   "outputs": [
    {
     "data": {
      "text/plain": [
       "46744"
      ]
     },
     "execution_count": 7,
     "metadata": {},
     "output_type": "execute_result"
    }
   ],
   "source": [
    "len(hyperonimos)"
   ]
  },
  {
   "cell_type": "code",
   "execution_count": 9,
   "metadata": {},
   "outputs": [],
   "source": [
    "for i in range(2,40,1):\n",
    "    if i==2:\n",
    "        df_syn = pd.read_pickle('salida/nuevo7/MultiNLI/TRAIN/TRAIN_'+str(i+1)+'.csv_Hyperonym.pickle')\n",
    "    else:\n",
    "        try:\n",
    "            temp = pd.read_pickle('salida/nuevo7/MultiNLI/TRAIN/TRAIN_'+str(i+1)+'.csv_Hyperonym.pickle')\n",
    "            df_syn=pd.concat([df_syn,temp])\n",
    "        except:\n",
    "            pass"
   ]
  },
  {
   "cell_type": "code",
   "execution_count": 10,
   "metadata": {},
   "outputs": [],
   "source": [
    "for i in range(1):\n",
    "    try:\n",
    "        temp = pd.read_pickle('salida/nuevo7/MultiNLI/DEVMM/DEV_'+str(i+1)+'.csv_Hyperonym.pickle')\n",
    "        df_syn=pd.concat([df_syn,temp])\n",
    "    except:\n",
    "        pass"
   ]
  },
  {
   "cell_type": "code",
   "execution_count": 11,
   "metadata": {},
   "outputs": [
    {
     "data": {
      "text/html": [
       "<div>\n",
       "<style scoped>\n",
       "    .dataframe tbody tr th:only-of-type {\n",
       "        vertical-align: middle;\n",
       "    }\n",
       "\n",
       "    .dataframe tbody tr th {\n",
       "        vertical-align: top;\n",
       "    }\n",
       "\n",
       "    .dataframe thead th {\n",
       "        text-align: right;\n",
       "    }\n",
       "</style>\n",
       "<table border=\"1\" class=\"dataframe\">\n",
       "  <thead>\n",
       "    <tr style=\"text-align: right;\">\n",
       "      <th></th>\n",
       "      <th>word</th>\n",
       "      <th>Hyperonym</th>\n",
       "    </tr>\n",
       "  </thead>\n",
       "  <tbody>\n",
       "    <tr>\n",
       "      <th>0</th>\n",
       "      <td>sale</td>\n",
       "      <td>{temporary, big, commercial_transaction, store...</td>\n",
       "    </tr>\n",
       "    <tr>\n",
       "      <th>1</th>\n",
       "      <td>make</td>\n",
       "      <td>{creating_action, constitute, short, construct...</td>\n",
       "    </tr>\n",
       "    <tr>\n",
       "      <th>2</th>\n",
       "      <td>pay</td>\n",
       "      <td>{monies, monetary_attraction, getting_somethin...</td>\n",
       "    </tr>\n",
       "    <tr>\n",
       "      <th>3</th>\n",
       "      <td>yukos</td>\n",
       "      <td>{company, yuko}</td>\n",
       "    </tr>\n",
       "    <tr>\n",
       "      <th>4</th>\n",
       "      <td>27</td>\n",
       "      <td>{}</td>\n",
       "    </tr>\n",
       "    <tr>\n",
       "      <th>...</th>\n",
       "      <td>...</td>\n",
       "      <td>...</td>\n",
       "    </tr>\n",
       "    <tr>\n",
       "      <th>856832</th>\n",
       "      <td>instantaneous</td>\n",
       "      <td>{eous}</td>\n",
       "    </tr>\n",
       "    <tr>\n",
       "      <th>856833</th>\n",
       "      <td>new_york_minute</td>\n",
       "      <td>{minute, new_york}</td>\n",
       "    </tr>\n",
       "    <tr>\n",
       "      <th>856834</th>\n",
       "      <td>inst</td>\n",
       "      <td>{}</td>\n",
       "    </tr>\n",
       "    <tr>\n",
       "      <th>856835</th>\n",
       "      <td>dreg</td>\n",
       "      <td>{small_indefinite_quantity}</td>\n",
       "    </tr>\n",
       "    <tr>\n",
       "      <th>856836</th>\n",
       "      <td>capital_of_indiana</td>\n",
       "      <td>{}</td>\n",
       "    </tr>\n",
       "  </tbody>\n",
       "</table>\n",
       "<p>856837 rows × 2 columns</p>\n",
       "</div>"
      ],
      "text/plain": [
       "                      word                                          Hyperonym\n",
       "0                     sale  {temporary, big, commercial_transaction, store...\n",
       "1                     make  {creating_action, constitute, short, construct...\n",
       "2                      pay  {monies, monetary_attraction, getting_somethin...\n",
       "3                    yukos                                    {company, yuko}\n",
       "4                       27                                                 {}\n",
       "...                    ...                                                ...\n",
       "856832       instantaneous                                             {eous}\n",
       "856833     new_york_minute                                 {minute, new_york}\n",
       "856834                inst                                                 {}\n",
       "856835                dreg                        {small_indefinite_quantity}\n",
       "856836  capital_of_indiana                                                 {}\n",
       "\n",
       "[856837 rows x 2 columns]"
      ]
     },
     "execution_count": 11,
     "metadata": {},
     "output_type": "execute_result"
    }
   ],
   "source": [
    "df_syn = df_syn.reset_index(drop=True)\n",
    "df_syn"
   ]
  },
  {
   "cell_type": "code",
   "execution_count": 12,
   "metadata": {},
   "outputs": [],
   "source": [
    "for index,strings in df_syn.iterrows():\n",
    "    hyperonimos[strings['word']]=strings['Hyperonym']"
   ]
  },
  {
   "cell_type": "code",
   "execution_count": 13,
   "metadata": {},
   "outputs": [
    {
     "data": {
      "text/plain": [
       "83580"
      ]
     },
     "execution_count": 13,
     "metadata": {},
     "output_type": "execute_result"
    }
   ],
   "source": [
    "len(hyperonimos)"
   ]
  },
  {
   "cell_type": "code",
   "execution_count": 14,
   "metadata": {},
   "outputs": [],
   "source": [
    "# actualizamos el dataframe de los conjuntos\n",
    "df = pd.DataFrame([[key, hyperonimos[key]] for key in hyperonimos.keys()], columns=['word', 'Hyperonym'])\n",
    "df.to_pickle(\"salida/nuevo3/Hyperonyms.pickle\")"
   ]
  },
  {
   "cell_type": "markdown",
   "metadata": {},
   "source": [
    "# hyponym de MUltNLI"
   ]
  },
  {
   "cell_type": "code",
   "execution_count": 15,
   "metadata": {},
   "outputs": [],
   "source": [
    "hyponimos=dict()"
   ]
  },
  {
   "cell_type": "code",
   "execution_count": 16,
   "metadata": {},
   "outputs": [
    {
     "data": {
      "text/html": [
       "<div>\n",
       "<style scoped>\n",
       "    .dataframe tbody tr th:only-of-type {\n",
       "        vertical-align: middle;\n",
       "    }\n",
       "\n",
       "    .dataframe tbody tr th {\n",
       "        vertical-align: top;\n",
       "    }\n",
       "\n",
       "    .dataframe thead th {\n",
       "        text-align: right;\n",
       "    }\n",
       "</style>\n",
       "<table border=\"1\" class=\"dataframe\">\n",
       "  <thead>\n",
       "    <tr style=\"text-align: right;\">\n",
       "      <th></th>\n",
       "      <th>word</th>\n",
       "      <th>Hyponym</th>\n",
       "    </tr>\n",
       "  </thead>\n",
       "  <tbody>\n",
       "    <tr>\n",
       "      <th>0</th>\n",
       "      <td>sale</td>\n",
       "      <td>{telesale, selloff, supersale, clearance_sale,...</td>\n",
       "    </tr>\n",
       "    <tr>\n",
       "      <th>1</th>\n",
       "      <td>make</td>\n",
       "      <td>{newmake, twine, choreograph, makegood, ymaked...</td>\n",
       "    </tr>\n",
       "    <tr>\n",
       "      <th>2</th>\n",
       "      <td>pay</td>\n",
       "      <td>{payout, payability, paymistress, paybook, get...</td>\n",
       "    </tr>\n",
       "    <tr>\n",
       "      <th>3</th>\n",
       "      <td>yukos</td>\n",
       "      <td>{}</td>\n",
       "    </tr>\n",
       "    <tr>\n",
       "      <th>4</th>\n",
       "      <td>27</td>\n",
       "      <td>{}</td>\n",
       "    </tr>\n",
       "    <tr>\n",
       "      <th>...</th>\n",
       "      <td>...</td>\n",
       "      <td>...</td>\n",
       "    </tr>\n",
       "    <tr>\n",
       "      <th>52394</th>\n",
       "      <td>yens</td>\n",
       "      <td>{}</td>\n",
       "    </tr>\n",
       "    <tr>\n",
       "      <th>52395</th>\n",
       "      <td>you_gals</td>\n",
       "      <td>{}</td>\n",
       "    </tr>\n",
       "    <tr>\n",
       "      <th>52396</th>\n",
       "      <td>allyou</td>\n",
       "      <td>{}</td>\n",
       "    </tr>\n",
       "    <tr>\n",
       "      <th>52397</th>\n",
       "      <td>yinz</td>\n",
       "      <td>{yinzer, yins}</td>\n",
       "    </tr>\n",
       "    <tr>\n",
       "      <th>52398</th>\n",
       "      <td>blithe</td>\n",
       "      <td>{blithen, blitheless, blitheness, blithest, bl...</td>\n",
       "    </tr>\n",
       "  </tbody>\n",
       "</table>\n",
       "<p>52399 rows × 2 columns</p>\n",
       "</div>"
      ],
      "text/plain": [
       "           word                                            Hyponym\n",
       "0          sale  {telesale, selloff, supersale, clearance_sale,...\n",
       "1          make  {newmake, twine, choreograph, makegood, ymaked...\n",
       "2           pay  {payout, payability, paymistress, paybook, get...\n",
       "3         yukos                                                 {}\n",
       "4            27                                                 {}\n",
       "...         ...                                                ...\n",
       "52394      yens                                                 {}\n",
       "52395  you_gals                                                 {}\n",
       "52396    allyou                                                 {}\n",
       "52397      yinz                                     {yinzer, yins}\n",
       "52398    blithe  {blithen, blitheless, blitheness, blithest, bl...\n",
       "\n",
       "[52399 rows x 2 columns]"
      ]
     },
     "execution_count": 16,
     "metadata": {},
     "output_type": "execute_result"
    }
   ],
   "source": [
    "df_hyp=pd.read_pickle(\"salida/nuevo3/Hyponyms.pickle\")\n",
    "df_hyp"
   ]
  },
  {
   "cell_type": "code",
   "execution_count": 18,
   "metadata": {},
   "outputs": [],
   "source": [
    "for index,strings in df_hyp.iterrows():\n",
    "    hyponimos[strings['word']]=strings['Hyponym']"
   ]
  },
  {
   "cell_type": "code",
   "execution_count": 19,
   "metadata": {},
   "outputs": [
    {
     "data": {
      "text/plain": [
       "52399"
      ]
     },
     "execution_count": 19,
     "metadata": {},
     "output_type": "execute_result"
    }
   ],
   "source": [
    "len(hyponimos)"
   ]
  },
  {
   "cell_type": "code",
   "execution_count": 20,
   "metadata": {},
   "outputs": [],
   "source": [
    "for i in range(2,40,1):\n",
    "    if i==2:\n",
    "        df_syn = pd.read_pickle('salida/nuevo7/MultiNLI/TRAIN/TRAIN_'+str(i+1)+'.csv_Hyponym.pickle')\n",
    "    else:\n",
    "        try:\n",
    "            temp = pd.read_pickle('salida/nuevo7/MultiNLI/TRAIN/TRAIN_'+str(i+1)+'.csv_Hyponym.pickle')\n",
    "            df_syn=pd.concat([df_syn,temp])\n",
    "        except:\n",
    "            pass"
   ]
  },
  {
   "cell_type": "code",
   "execution_count": 21,
   "metadata": {},
   "outputs": [],
   "source": [
    "for i in range(1):\n",
    "    try:\n",
    "        temp = pd.read_pickle('salida/nuevo7/MultiNLI/DEVMM/DEV_'+str(i+1)+'.csv_Hyponym.pickle')\n",
    "        df_syn=pd.concat([df_syn,temp])\n",
    "    except:\n",
    "        pass"
   ]
  },
  {
   "cell_type": "code",
   "execution_count": 22,
   "metadata": {},
   "outputs": [
    {
     "data": {
      "text/html": [
       "<div>\n",
       "<style scoped>\n",
       "    .dataframe tbody tr th:only-of-type {\n",
       "        vertical-align: middle;\n",
       "    }\n",
       "\n",
       "    .dataframe tbody tr th {\n",
       "        vertical-align: top;\n",
       "    }\n",
       "\n",
       "    .dataframe thead th {\n",
       "        text-align: right;\n",
       "    }\n",
       "</style>\n",
       "<table border=\"1\" class=\"dataframe\">\n",
       "  <thead>\n",
       "    <tr style=\"text-align: right;\">\n",
       "      <th></th>\n",
       "      <th>word</th>\n",
       "      <th>Hyponym</th>\n",
       "    </tr>\n",
       "  </thead>\n",
       "  <tbody>\n",
       "    <tr>\n",
       "      <th>0</th>\n",
       "      <td>sale</td>\n",
       "      <td>{telesale, selloff, supersale, clearance_sale,...</td>\n",
       "    </tr>\n",
       "    <tr>\n",
       "      <th>1</th>\n",
       "      <td>make</td>\n",
       "      <td>{newmake, twine, choreograph, makegood, drive,...</td>\n",
       "    </tr>\n",
       "    <tr>\n",
       "      <th>2</th>\n",
       "      <td>pay</td>\n",
       "      <td>{payability, payout, paymistress, paybook, get...</td>\n",
       "    </tr>\n",
       "    <tr>\n",
       "      <th>3</th>\n",
       "      <td>yukos</td>\n",
       "      <td>{}</td>\n",
       "    </tr>\n",
       "    <tr>\n",
       "      <th>4</th>\n",
       "      <td>27</td>\n",
       "      <td>{}</td>\n",
       "    </tr>\n",
       "    <tr>\n",
       "      <th>...</th>\n",
       "      <td>...</td>\n",
       "      <td>...</td>\n",
       "    </tr>\n",
       "    <tr>\n",
       "      <th>927275</th>\n",
       "      <td>consise</td>\n",
       "      <td>{}</td>\n",
       "    </tr>\n",
       "    <tr>\n",
       "      <th>927276</th>\n",
       "      <td>fly_high</td>\n",
       "      <td>{}</td>\n",
       "    </tr>\n",
       "    <tr>\n",
       "      <th>927277</th>\n",
       "      <td>overqualifie</td>\n",
       "      <td>{}</td>\n",
       "    </tr>\n",
       "    <tr>\n",
       "      <th>927278</th>\n",
       "      <td>dreg</td>\n",
       "      <td>{dreggish, dreggy}</td>\n",
       "    </tr>\n",
       "    <tr>\n",
       "      <th>927279</th>\n",
       "      <td>wahey</td>\n",
       "      <td>{}</td>\n",
       "    </tr>\n",
       "  </tbody>\n",
       "</table>\n",
       "<p>927280 rows × 2 columns</p>\n",
       "</div>"
      ],
      "text/plain": [
       "                word                                            Hyponym\n",
       "0               sale  {telesale, selloff, supersale, clearance_sale,...\n",
       "1               make  {newmake, twine, choreograph, makegood, drive,...\n",
       "2                pay  {payability, payout, paymistress, paybook, get...\n",
       "3              yukos                                                 {}\n",
       "4                 27                                                 {}\n",
       "...              ...                                                ...\n",
       "927275       consise                                                 {}\n",
       "927276      fly_high                                                 {}\n",
       "927277  overqualifie                                                 {}\n",
       "927278          dreg                                 {dreggish, dreggy}\n",
       "927279         wahey                                                 {}\n",
       "\n",
       "[927280 rows x 2 columns]"
      ]
     },
     "execution_count": 22,
     "metadata": {},
     "output_type": "execute_result"
    }
   ],
   "source": [
    "df_syn = df_syn.reset_index(drop=True)\n",
    "df_syn"
   ]
  },
  {
   "cell_type": "code",
   "execution_count": 23,
   "metadata": {},
   "outputs": [],
   "source": [
    "for index,strings in df_syn.iterrows():\n",
    "    hyponimos[strings['word']]=strings['Hyponym']"
   ]
  },
  {
   "cell_type": "code",
   "execution_count": 24,
   "metadata": {},
   "outputs": [
    {
     "data": {
      "text/plain": [
       "85025"
      ]
     },
     "execution_count": 24,
     "metadata": {},
     "output_type": "execute_result"
    }
   ],
   "source": [
    "len(hyponimos)"
   ]
  },
  {
   "cell_type": "code",
   "execution_count": 25,
   "metadata": {},
   "outputs": [],
   "source": [
    "# actualizamos el dataframe de los conjuntos\n",
    "df = pd.DataFrame([[key, hyponimos[key]] for key in hyponimos.keys()], columns=['word', 'Hyponym'])\n",
    "df.to_pickle(\"salida/nuevo3/Hyponyms.pickle\")"
   ]
  }
 ],
 "metadata": {
  "kernelspec": {
   "display_name": "rit",
   "language": "python",
   "name": "python3"
  },
  "language_info": {
   "codemirror_mode": {
    "name": "ipython",
    "version": 3
   },
   "file_extension": ".py",
   "mimetype": "text/x-python",
   "name": "python",
   "nbconvert_exporter": "python",
   "pygments_lexer": "ipython3",
   "version": "3.9.13"
  }
 },
 "nbformat": 4,
 "nbformat_minor": 2
}
