{
 "cells": [
  {
   "cell_type": "code",
   "execution_count": 6,
   "metadata": {},
   "outputs": [],
   "source": [
    "import pandas as pd"
   ]
  },
  {
   "cell_type": "markdown",
   "metadata": {},
   "source": [
    "# obtener sinonimos"
   ]
  },
  {
   "cell_type": "code",
   "execution_count": 7,
   "metadata": {},
   "outputs": [],
   "source": [
    "synonyms=dict()"
   ]
  },
  {
   "cell_type": "code",
   "execution_count": 8,
   "metadata": {},
   "outputs": [],
   "source": [
    "for i in range(8):\n",
    "    if i==0:\n",
    "        df_syn = pd.read_pickle('salida/nuevo3/RTE3/DEV_'+str(i+1)+'.csv_Synonym.pickle')\n",
    "    else:\n",
    "        try:\n",
    "            temp = pd.read_pickle('salida/nuevo3/RTE3/DEV_'+str(i+1)+'.csv_Synonym.pickle')\n",
    "            df_syn=pd.concat([df_syn,temp])\n",
    "        except:\n",
    "            pass"
   ]
  },
  {
   "cell_type": "code",
   "execution_count": 9,
   "metadata": {},
   "outputs": [],
   "source": [
    "for i in range(8):\n",
    "    try:\n",
    "        temp = pd.read_pickle('salida/nuevo3/RTE3/TEST_'+str(i+1)+'.csv_Synonym.pickle')\n",
    "        df_syn=pd.concat([df_syn,temp])\n",
    "    except:\n",
    "        pass"
   ]
  },
  {
   "cell_type": "code",
   "execution_count": 10,
   "metadata": {},
   "outputs": [],
   "source": [
    "for i in range(8):\n",
    "    try:\n",
    "        temp = pd.read_pickle('salida/nuevo3/GHS/GHS_'+str(i+1)+'.csv_Synonym.pickle')\n",
    "        df_syn=pd.concat([df_syn,temp])\n",
    "    except:\n",
    "        pass"
   ]
  },
  {
   "cell_type": "code",
   "execution_count": 11,
   "metadata": {},
   "outputs": [],
   "source": [
    "for i in range(5):\n",
    "    try:\n",
    "        temp = pd.read_pickle('salida/nuevo3/SICK/DEV_'+str(i+1)+'.csv_Synonym.pickle')\n",
    "        df_syn=pd.concat([df_syn,temp])\n",
    "    except:\n",
    "        pass"
   ]
  },
  {
   "cell_type": "code",
   "execution_count": 12,
   "metadata": {},
   "outputs": [],
   "source": [
    "for i in range(45):\n",
    "    try:\n",
    "        temp = pd.read_pickle('salida/nuevo3/SICK/TRAIN_'+str(i+1)+'.csv_Synonym.pickle')\n",
    "        df_syn=pd.concat([df_syn,temp])\n",
    "    except:\n",
    "        pass"
   ]
  },
  {
   "cell_type": "code",
   "execution_count": 13,
   "metadata": {},
   "outputs": [],
   "source": [
    "for i in range(50):\n",
    "    try:\n",
    "        temp = pd.read_pickle('salida/nuevo3/SICK/TEST_'+str(i+1)+'.csv_Synonym.pickle')\n",
    "        df_syn=pd.concat([df_syn,temp])\n",
    "    except:\n",
    "        pass"
   ]
  },
  {
   "cell_type": "code",
   "execution_count": 14,
   "metadata": {},
   "outputs": [
    {
     "data": {
      "text/html": [
       "<div>\n",
       "<style scoped>\n",
       "    .dataframe tbody tr th:only-of-type {\n",
       "        vertical-align: middle;\n",
       "    }\n",
       "\n",
       "    .dataframe tbody tr th {\n",
       "        vertical-align: top;\n",
       "    }\n",
       "\n",
       "    .dataframe thead th {\n",
       "        text-align: right;\n",
       "    }\n",
       "</style>\n",
       "<table border=\"1\" class=\"dataframe\">\n",
       "  <thead>\n",
       "    <tr style=\"text-align: right;\">\n",
       "      <th></th>\n",
       "      <th>word</th>\n",
       "      <th>Synonym</th>\n",
       "    </tr>\n",
       "  </thead>\n",
       "  <tbody>\n",
       "    <tr>\n",
       "      <th>0</th>\n",
       "      <td>sale</td>\n",
       "      <td>{sale, sales_agreement, sales_event, cut_rate_...</td>\n",
       "    </tr>\n",
       "    <tr>\n",
       "      <th>1</th>\n",
       "      <td>make</td>\n",
       "      <td>{relieve_oneself, produce, urinate, pretend, p...</td>\n",
       "    </tr>\n",
       "    <tr>\n",
       "      <th>2</th>\n",
       "      <td>pay</td>\n",
       "      <td>{pay_up, ante_up, compensate, fee, remuneratio...</td>\n",
       "    </tr>\n",
       "    <tr>\n",
       "      <th>3</th>\n",
       "      <td>yukos</td>\n",
       "      <td>{yukos}</td>\n",
       "    </tr>\n",
       "    <tr>\n",
       "      <th>4</th>\n",
       "      <td>27</td>\n",
       "      <td>{27, twenty_seven, xxvii}</td>\n",
       "    </tr>\n",
       "    <tr>\n",
       "      <th>...</th>\n",
       "      <td>...</td>\n",
       "      <td>...</td>\n",
       "    </tr>\n",
       "    <tr>\n",
       "      <th>98153</th>\n",
       "      <td>wall</td>\n",
       "      <td>{wall, chandelier, paries, rampart, surround, ...</td>\n",
       "    </tr>\n",
       "    <tr>\n",
       "      <th>98154</th>\n",
       "      <td>snowboarder</td>\n",
       "      <td>{snowboarder}</td>\n",
       "    </tr>\n",
       "    <tr>\n",
       "      <th>98155</th>\n",
       "      <td>leap</td>\n",
       "      <td>{saltation, pronk, jump_off, bound, leaping, p...</td>\n",
       "    </tr>\n",
       "    <tr>\n",
       "      <th>98156</th>\n",
       "      <td>fearlessly</td>\n",
       "      <td>{dauntlessly, intrepidly, fearlessly}</td>\n",
       "    </tr>\n",
       "    <tr>\n",
       "      <th>98157</th>\n",
       "      <td>snow</td>\n",
       "      <td>{blow, snowfall, snow, coke, charlie, baron_sn...</td>\n",
       "    </tr>\n",
       "  </tbody>\n",
       "</table>\n",
       "<p>98158 rows × 2 columns</p>\n",
       "</div>"
      ],
      "text/plain": [
       "              word                                            Synonym\n",
       "0             sale  {sale, sales_agreement, sales_event, cut_rate_...\n",
       "1             make  {relieve_oneself, produce, urinate, pretend, p...\n",
       "2              pay  {pay_up, ante_up, compensate, fee, remuneratio...\n",
       "3            yukos                                            {yukos}\n",
       "4               27                          {27, twenty_seven, xxvii}\n",
       "...            ...                                                ...\n",
       "98153         wall  {wall, chandelier, paries, rampart, surround, ...\n",
       "98154  snowboarder                                      {snowboarder}\n",
       "98155         leap  {saltation, pronk, jump_off, bound, leaping, p...\n",
       "98156   fearlessly              {dauntlessly, intrepidly, fearlessly}\n",
       "98157         snow  {blow, snowfall, snow, coke, charlie, baron_sn...\n",
       "\n",
       "[98158 rows x 2 columns]"
      ]
     },
     "execution_count": 14,
     "metadata": {},
     "output_type": "execute_result"
    }
   ],
   "source": [
    "df_syn = df_syn.reset_index(drop=True)\n",
    "df_syn"
   ]
  },
  {
   "cell_type": "code",
   "execution_count": 15,
   "metadata": {},
   "outputs": [],
   "source": [
    "for index,strings in df_syn.iterrows():\n",
    "    synonyms[strings['word']]=strings['Synonym']"
   ]
  },
  {
   "cell_type": "code",
   "execution_count": 16,
   "metadata": {},
   "outputs": [
    {
     "data": {
      "text/plain": [
       "25181"
      ]
     },
     "execution_count": 16,
     "metadata": {},
     "output_type": "execute_result"
    }
   ],
   "source": [
    "len(synonyms)"
   ]
  },
  {
   "cell_type": "code",
   "execution_count": 17,
   "metadata": {},
   "outputs": [],
   "source": [
    "df = pd.DataFrame([[key, synonyms[key]] for key in synonyms.keys()], columns=['word', 'Synonym'])\n",
    "df.to_pickle(\"salida/nuevo3/Synonyms.pickle\")"
   ]
  },
  {
   "cell_type": "markdown",
   "metadata": {},
   "source": [
    "# Creación de pickle con hiperonimos"
   ]
  },
  {
   "cell_type": "code",
   "execution_count": 58,
   "metadata": {},
   "outputs": [],
   "source": [
    "hyperonimos=dict()"
   ]
  },
  {
   "cell_type": "code",
   "execution_count": 59,
   "metadata": {},
   "outputs": [],
   "source": [
    "for i in range(8):\n",
    "    if i==0:\n",
    "        df_syn = pd.read_pickle('salida/nuevo3/RTE3/DEV_'+str(i+1)+'.csv_Hyperonym.pickle')\n",
    "    else:\n",
    "        try:\n",
    "            temp = pd.read_pickle('salida/nuevo3/RTE3/DEV_'+str(i+1)+'.csv_Hyperonym.pickle')\n",
    "            df_syn=pd.concat([df_syn,temp])\n",
    "        except:\n",
    "            pass"
   ]
  },
  {
   "cell_type": "code",
   "execution_count": 60,
   "metadata": {},
   "outputs": [],
   "source": [
    "for i in range(8):\n",
    "    try:\n",
    "        temp = pd.read_pickle('salida/nuevo3/RTE3/TEST_'+str(i+1)+'.csv_Hyperonym.pickle')\n",
    "        df_syn=pd.concat([df_syn,temp])\n",
    "    except:\n",
    "        pass"
   ]
  },
  {
   "cell_type": "code",
   "execution_count": 61,
   "metadata": {},
   "outputs": [],
   "source": [
    "for i in range(8):\n",
    "    try:\n",
    "        temp = pd.read_pickle('salida/nuevo3/GHS/GHS_'+str(i+1)+'.csv_Hyperonym.pickle')\n",
    "        df_syn=pd.concat([df_syn,temp])\n",
    "    except:\n",
    "        pass"
   ]
  },
  {
   "cell_type": "code",
   "execution_count": 62,
   "metadata": {},
   "outputs": [],
   "source": [
    "for i in range(5):\n",
    "    try:\n",
    "        temp = pd.read_pickle('salida/nuevo3/SICK/DEV_'+str(i+1)+'.csv_Hyperonym.pickle')\n",
    "        df_syn=pd.concat([df_syn,temp])\n",
    "    except:\n",
    "        pass"
   ]
  },
  {
   "cell_type": "code",
   "execution_count": 63,
   "metadata": {},
   "outputs": [],
   "source": [
    "for i in range(45):\n",
    "    try:\n",
    "        temp = pd.read_pickle('salida/nuevo3/SICK/TRAIN_'+str(i+1)+'.csv_Hyperonym.pickle')\n",
    "        df_syn=pd.concat([df_syn,temp])\n",
    "    except:\n",
    "        pass"
   ]
  },
  {
   "cell_type": "code",
   "execution_count": 64,
   "metadata": {},
   "outputs": [],
   "source": [
    "for i in range(50):\n",
    "    try:\n",
    "        temp = pd.read_pickle('salida/nuevo3/SICK/TEST_'+str(i+1)+'.csv_Hyperonympickle')\n",
    "        df_syn=pd.concat([df_syn,temp])\n",
    "    except:\n",
    "        pass"
   ]
  },
  {
   "cell_type": "code",
   "execution_count": 65,
   "metadata": {},
   "outputs": [
    {
     "data": {
      "text/html": [
       "<div>\n",
       "<style scoped>\n",
       "    .dataframe tbody tr th:only-of-type {\n",
       "        vertical-align: middle;\n",
       "    }\n",
       "\n",
       "    .dataframe tbody tr th {\n",
       "        vertical-align: top;\n",
       "    }\n",
       "\n",
       "    .dataframe thead th {\n",
       "        text-align: right;\n",
       "    }\n",
       "</style>\n",
       "<table border=\"1\" class=\"dataframe\">\n",
       "  <thead>\n",
       "    <tr style=\"text-align: right;\">\n",
       "      <th></th>\n",
       "      <th>word</th>\n",
       "      <th>Hyperonym</th>\n",
       "    </tr>\n",
       "  </thead>\n",
       "  <tbody>\n",
       "    <tr>\n",
       "      <th>0</th>\n",
       "      <td>sale</td>\n",
       "      <td>{reduced_price, cheap_products, agreement, sto...</td>\n",
       "    </tr>\n",
       "    <tr>\n",
       "      <th>1</th>\n",
       "      <td>make</td>\n",
       "      <td>{kind, identification, doing, brand, utility, ...</td>\n",
       "    </tr>\n",
       "    <tr>\n",
       "      <th>2</th>\n",
       "      <td>pay</td>\n",
       "      <td>{money_owed, agreement, job_check, employee_mo...</td>\n",
       "    </tr>\n",
       "    <tr>\n",
       "      <th>3</th>\n",
       "      <td>yukos</td>\n",
       "      <td>{yuko, company}</td>\n",
       "    </tr>\n",
       "    <tr>\n",
       "      <th>4</th>\n",
       "      <td>27</td>\n",
       "      <td>{}</td>\n",
       "    </tr>\n",
       "    <tr>\n",
       "      <th>...</th>\n",
       "      <td>...</td>\n",
       "      <td>...</td>\n",
       "    </tr>\n",
       "    <tr>\n",
       "      <th>104934</th>\n",
       "      <td>lave</td>\n",
       "      <td>{launder, pour, hang, rest, crowd, belive, lad...</td>\n",
       "    </tr>\n",
       "    <tr>\n",
       "      <th>104935</th>\n",
       "      <td>remain</td>\n",
       "      <td>{still_here, human_being, await, still, whats,...</td>\n",
       "    </tr>\n",
       "    <tr>\n",
       "      <th>104936</th>\n",
       "      <td>take_breather</td>\n",
       "      <td>{pause, relax, catch_one's_breath, get_some_ai...</td>\n",
       "    </tr>\n",
       "    <tr>\n",
       "      <th>104937</th>\n",
       "      <td>eternal_rest</td>\n",
       "      <td>{}</td>\n",
       "    </tr>\n",
       "    <tr>\n",
       "      <th>104938</th>\n",
       "      <td>remaining</td>\n",
       "      <td>{remain, remnant}</td>\n",
       "    </tr>\n",
       "  </tbody>\n",
       "</table>\n",
       "<p>104939 rows × 2 columns</p>\n",
       "</div>"
      ],
      "text/plain": [
       "                 word                                          Hyperonym\n",
       "0                sale  {reduced_price, cheap_products, agreement, sto...\n",
       "1                make  {kind, identification, doing, brand, utility, ...\n",
       "2                 pay  {money_owed, agreement, job_check, employee_mo...\n",
       "3               yukos                                    {yuko, company}\n",
       "4                  27                                                 {}\n",
       "...               ...                                                ...\n",
       "104934           lave  {launder, pour, hang, rest, crowd, belive, lad...\n",
       "104935         remain  {still_here, human_being, await, still, whats,...\n",
       "104936  take_breather  {pause, relax, catch_one's_breath, get_some_ai...\n",
       "104937   eternal_rest                                                 {}\n",
       "104938      remaining                                  {remain, remnant}\n",
       "\n",
       "[104939 rows x 2 columns]"
      ]
     },
     "execution_count": 65,
     "metadata": {},
     "output_type": "execute_result"
    }
   ],
   "source": [
    "df_syn = df_syn.reset_index(drop=True)\n",
    "df_syn"
   ]
  },
  {
   "cell_type": "code",
   "execution_count": 66,
   "metadata": {},
   "outputs": [],
   "source": [
    "for index,strings in df_syn.iterrows():\n",
    "    hyperonimos[strings['word']]=strings['Hyperonym']"
   ]
  },
  {
   "cell_type": "code",
   "execution_count": 67,
   "metadata": {},
   "outputs": [
    {
     "data": {
      "text/plain": [
       "22365"
      ]
     },
     "execution_count": 67,
     "metadata": {},
     "output_type": "execute_result"
    }
   ],
   "source": [
    "len(hyperonimos)"
   ]
  },
  {
   "cell_type": "code",
   "execution_count": 68,
   "metadata": {},
   "outputs": [],
   "source": [
    "df = pd.DataFrame([[key, hyperonimos[key]] for key in hyperonimos.keys()], columns=['word', 'Hyperonym'])\n",
    "df.to_pickle(\"salida/nuevo3/Hyperonyms.pickle\")"
   ]
  },
  {
   "cell_type": "markdown",
   "metadata": {},
   "source": [
    "# Hyponyms"
   ]
  },
  {
   "cell_type": "code",
   "execution_count": 69,
   "metadata": {},
   "outputs": [],
   "source": [
    "hyponyms=dict()"
   ]
  },
  {
   "cell_type": "code",
   "execution_count": 70,
   "metadata": {},
   "outputs": [],
   "source": [
    "for i in range(8):\n",
    "    if i==0:\n",
    "        df_syn = pd.read_pickle('salida/nuevo3/RTE3/DEV_'+str(i+1)+'.csv_Hyponym.pickle')\n",
    "    else:\n",
    "        try:\n",
    "            temp = pd.read_pickle('salida/nuevo3/RTE3/DEV_'+str(i+1)+'.csv_Hyponym.pickle')\n",
    "            df_syn=pd.concat([df_syn,temp])\n",
    "        except:\n",
    "            pass"
   ]
  },
  {
   "cell_type": "code",
   "execution_count": 71,
   "metadata": {},
   "outputs": [],
   "source": [
    "for i in range(8):\n",
    "    try:\n",
    "        temp = pd.read_pickle('salida/nuevo3/RTE3/TEST_'+str(i+1)+'.csv_Hyponym.pickle')\n",
    "        df_syn=pd.concat([df_syn,temp])\n",
    "    except:\n",
    "        pass"
   ]
  },
  {
   "cell_type": "code",
   "execution_count": 72,
   "metadata": {},
   "outputs": [],
   "source": [
    "for i in range(8):\n",
    "    try:\n",
    "        temp = pd.read_pickle('salida/nuevo3/GHS/GHS_'+str(i+1)+'.csv_Hyponym.pickle')\n",
    "        df_syn=pd.concat([df_syn,temp])\n",
    "    except:\n",
    "        pass"
   ]
  },
  {
   "cell_type": "code",
   "execution_count": 73,
   "metadata": {},
   "outputs": [],
   "source": [
    "for i in range(5):\n",
    "    try:\n",
    "        temp = pd.read_pickle('salida/nuevo3/SICK/DEV_'+str(i+1)+'.csv_Hyponym.pickle')\n",
    "        df_syn=pd.concat([df_syn,temp])\n",
    "    except:\n",
    "        pass"
   ]
  },
  {
   "cell_type": "code",
   "execution_count": 74,
   "metadata": {},
   "outputs": [],
   "source": [
    "for i in range(45):\n",
    "    try:\n",
    "        temp = pd.read_pickle('salida/nuevo3/SICK/TRAIN_'+str(i+1)+'.csv_Hyponym.pickle')\n",
    "        df_syn=pd.concat([df_syn,temp])\n",
    "    except:\n",
    "        pass"
   ]
  },
  {
   "cell_type": "code",
   "execution_count": 75,
   "metadata": {},
   "outputs": [],
   "source": [
    "for i in range(50):\n",
    "    try:\n",
    "        temp = pd.read_pickle('salida/nuevo3/SICK/TEST_'+str(i+1)+'.csv_Hyponym.pickle')\n",
    "        df_syn=pd.concat([df_syn,temp])\n",
    "    except:\n",
    "        pass"
   ]
  },
  {
   "cell_type": "code",
   "execution_count": 76,
   "metadata": {},
   "outputs": [
    {
     "data": {
      "text/html": [
       "<div>\n",
       "<style scoped>\n",
       "    .dataframe tbody tr th:only-of-type {\n",
       "        vertical-align: middle;\n",
       "    }\n",
       "\n",
       "    .dataframe tbody tr th {\n",
       "        vertical-align: top;\n",
       "    }\n",
       "\n",
       "    .dataframe thead th {\n",
       "        text-align: right;\n",
       "    }\n",
       "</style>\n",
       "<table border=\"1\" class=\"dataframe\">\n",
       "  <thead>\n",
       "    <tr style=\"text-align: right;\">\n",
       "      <th></th>\n",
       "      <th>word</th>\n",
       "      <th>Hyponym</th>\n",
       "    </tr>\n",
       "  </thead>\n",
       "  <tbody>\n",
       "    <tr>\n",
       "      <th>0</th>\n",
       "      <td>sale</td>\n",
       "      <td>{presale, upsale, nonsale, salesperson, condit...</td>\n",
       "    </tr>\n",
       "    <tr>\n",
       "      <th>1</th>\n",
       "      <td>make</td>\n",
       "      <td>{matchless, makable, make_king, create_by_ment...</td>\n",
       "    </tr>\n",
       "    <tr>\n",
       "      <th>2</th>\n",
       "      <td>pay</td>\n",
       "      <td>{go_for_haircut, payware, paypal, keep_things_...</td>\n",
       "    </tr>\n",
       "    <tr>\n",
       "      <th>3</th>\n",
       "      <td>yukos</td>\n",
       "      <td>{}</td>\n",
       "    </tr>\n",
       "    <tr>\n",
       "      <th>4</th>\n",
       "      <td>27</td>\n",
       "      <td>{}</td>\n",
       "    </tr>\n",
       "    <tr>\n",
       "      <th>...</th>\n",
       "      <td>...</td>\n",
       "      <td>...</td>\n",
       "    </tr>\n",
       "    <tr>\n",
       "      <th>115052</th>\n",
       "      <td>baron_snow_of_leicester</td>\n",
       "      <td>{}</td>\n",
       "    </tr>\n",
       "    <tr>\n",
       "      <th>115053</th>\n",
       "      <td>snowfall</td>\n",
       "      <td>{snowfalls}</td>\n",
       "    </tr>\n",
       "    <tr>\n",
       "      <th>115054</th>\n",
       "      <td>coke</td>\n",
       "      <td>{coky, cokehead, biocoke, cokeless, mexicoke, ...</td>\n",
       "    </tr>\n",
       "    <tr>\n",
       "      <th>115055</th>\n",
       "      <td>bamboozle</td>\n",
       "      <td>{bamboozled, bamboozling, bamboozles, bamboozl...</td>\n",
       "    </tr>\n",
       "    <tr>\n",
       "      <th>115056</th>\n",
       "      <td>charlie</td>\n",
       "      <td>{charley, charlieplexing, charlies, charley_ho...</td>\n",
       "    </tr>\n",
       "  </tbody>\n",
       "</table>\n",
       "<p>115057 rows × 2 columns</p>\n",
       "</div>"
      ],
      "text/plain": [
       "                           word  \\\n",
       "0                          sale   \n",
       "1                          make   \n",
       "2                           pay   \n",
       "3                         yukos   \n",
       "4                            27   \n",
       "...                         ...   \n",
       "115052  baron_snow_of_leicester   \n",
       "115053                 snowfall   \n",
       "115054                     coke   \n",
       "115055                bamboozle   \n",
       "115056                  charlie   \n",
       "\n",
       "                                                  Hyponym  \n",
       "0       {presale, upsale, nonsale, salesperson, condit...  \n",
       "1       {matchless, makable, make_king, create_by_ment...  \n",
       "2       {go_for_haircut, payware, paypal, keep_things_...  \n",
       "3                                                      {}  \n",
       "4                                                      {}  \n",
       "...                                                   ...  \n",
       "115052                                                 {}  \n",
       "115053                                        {snowfalls}  \n",
       "115054  {coky, cokehead, biocoke, cokeless, mexicoke, ...  \n",
       "115055  {bamboozled, bamboozling, bamboozles, bamboozl...  \n",
       "115056  {charley, charlieplexing, charlies, charley_ho...  \n",
       "\n",
       "[115057 rows x 2 columns]"
      ]
     },
     "execution_count": 76,
     "metadata": {},
     "output_type": "execute_result"
    }
   ],
   "source": [
    "df_syn = df_syn.reset_index(drop=True)\n",
    "df_syn"
   ]
  },
  {
   "cell_type": "code",
   "execution_count": 77,
   "metadata": {},
   "outputs": [],
   "source": [
    "for index,strings in df_syn.iterrows():\n",
    "    hyponyms[strings['word']]=strings['Hyponym']"
   ]
  },
  {
   "cell_type": "code",
   "execution_count": 78,
   "metadata": {},
   "outputs": [
    {
     "data": {
      "text/plain": [
       "23424"
      ]
     },
     "execution_count": 78,
     "metadata": {},
     "output_type": "execute_result"
    }
   ],
   "source": [
    "len(hyponyms)"
   ]
  },
  {
   "cell_type": "code",
   "execution_count": 79,
   "metadata": {},
   "outputs": [],
   "source": [
    "df = pd.DataFrame([[key, hyponyms[key]] for key in hyponyms.keys()], columns=['word', 'Hyponym'])\n",
    "df.to_pickle(\"salida/nuevo3/Hyponyms.pickle\")"
   ]
  },
  {
   "cell_type": "code",
   "execution_count": null,
   "metadata": {},
   "outputs": [],
   "source": []
  },
  {
   "cell_type": "markdown",
   "metadata": {},
   "source": [
    "# cargar los conjuntos de sinonimia"
   ]
  },
  {
   "cell_type": "code",
   "execution_count": 18,
   "metadata": {},
   "outputs": [],
   "source": [
    "dict_syns = dict()"
   ]
  },
  {
   "cell_type": "code",
   "execution_count": 19,
   "metadata": {},
   "outputs": [
    {
     "data": {
      "text/html": [
       "<div>\n",
       "<style scoped>\n",
       "    .dataframe tbody tr th:only-of-type {\n",
       "        vertical-align: middle;\n",
       "    }\n",
       "\n",
       "    .dataframe tbody tr th {\n",
       "        vertical-align: top;\n",
       "    }\n",
       "\n",
       "    .dataframe thead th {\n",
       "        text-align: right;\n",
       "    }\n",
       "</style>\n",
       "<table border=\"1\" class=\"dataframe\">\n",
       "  <thead>\n",
       "    <tr style=\"text-align: right;\">\n",
       "      <th></th>\n",
       "      <th>word</th>\n",
       "      <th>Synonym</th>\n",
       "    </tr>\n",
       "  </thead>\n",
       "  <tbody>\n",
       "    <tr>\n",
       "      <th>0</th>\n",
       "      <td>sale</td>\n",
       "      <td>{sale, sales_agreement, sales_event, cut_rate_...</td>\n",
       "    </tr>\n",
       "    <tr>\n",
       "      <th>1</th>\n",
       "      <td>make</td>\n",
       "      <td>{relieve_oneself, produce, urinate, pretend, p...</td>\n",
       "    </tr>\n",
       "    <tr>\n",
       "      <th>2</th>\n",
       "      <td>pay</td>\n",
       "      <td>{ante_up, compensate, pay_up, fee, remuneratio...</td>\n",
       "    </tr>\n",
       "    <tr>\n",
       "      <th>3</th>\n",
       "      <td>yukos</td>\n",
       "      <td>{yukos}</td>\n",
       "    </tr>\n",
       "    <tr>\n",
       "      <th>4</th>\n",
       "      <td>27</td>\n",
       "      <td>{xxvii, 27, twenty_seven}</td>\n",
       "    </tr>\n",
       "    <tr>\n",
       "      <th>...</th>\n",
       "      <td>...</td>\n",
       "      <td>...</td>\n",
       "    </tr>\n",
       "    <tr>\n",
       "      <th>25176</th>\n",
       "      <td>hospice</td>\n",
       "      <td>{hospice}</td>\n",
       "    </tr>\n",
       "    <tr>\n",
       "      <th>25177</th>\n",
       "      <td>prformance</td>\n",
       "      <td>{prformance}</td>\n",
       "    </tr>\n",
       "    <tr>\n",
       "      <th>25178</th>\n",
       "      <td>interlace</td>\n",
       "      <td>{interlace, intertwine, lock}</td>\n",
       "    </tr>\n",
       "    <tr>\n",
       "      <th>25179</th>\n",
       "      <td>chilldren</td>\n",
       "      <td>{chilldren}</td>\n",
       "    </tr>\n",
       "    <tr>\n",
       "      <th>25180</th>\n",
       "      <td>absentmindedly</td>\n",
       "      <td>{inattentively, absently, absentmindedly, abst...</td>\n",
       "    </tr>\n",
       "  </tbody>\n",
       "</table>\n",
       "<p>25181 rows × 2 columns</p>\n",
       "</div>"
      ],
      "text/plain": [
       "                 word                                            Synonym\n",
       "0                sale  {sale, sales_agreement, sales_event, cut_rate_...\n",
       "1                make  {relieve_oneself, produce, urinate, pretend, p...\n",
       "2                 pay  {ante_up, compensate, pay_up, fee, remuneratio...\n",
       "3               yukos                                            {yukos}\n",
       "4                  27                          {xxvii, 27, twenty_seven}\n",
       "...               ...                                                ...\n",
       "25176         hospice                                          {hospice}\n",
       "25177      prformance                                       {prformance}\n",
       "25178       interlace                      {interlace, intertwine, lock}\n",
       "25179       chilldren                                        {chilldren}\n",
       "25180  absentmindedly  {inattentively, absently, absentmindedly, abst...\n",
       "\n",
       "[25181 rows x 2 columns]"
      ]
     },
     "execution_count": 19,
     "metadata": {},
     "output_type": "execute_result"
    }
   ],
   "source": [
    "df_sinonimos=pd.read_pickle(\"salida/nuevo3/Synonyms.pickle\")\n",
    "df_sinonimos"
   ]
  },
  {
   "cell_type": "code",
   "execution_count": 20,
   "metadata": {},
   "outputs": [],
   "source": [
    "for index,strings in df_sinonimos.iterrows():\n",
    "    dict_syns[strings['word']]=strings['Synonym']"
   ]
  },
  {
   "cell_type": "code",
   "execution_count": 21,
   "metadata": {},
   "outputs": [
    {
     "data": {
      "text/plain": [
       "25181"
      ]
     },
     "execution_count": 21,
     "metadata": {},
     "output_type": "execute_result"
    }
   ],
   "source": [
    "len(dict_syns)"
   ]
  },
  {
   "cell_type": "markdown",
   "metadata": {},
   "source": [
    "# agregar diccionario de sinonimos del SNLI DEV y TEST"
   ]
  },
  {
   "cell_type": "code",
   "execution_count": 22,
   "metadata": {},
   "outputs": [],
   "source": [
    "for i in range(10):\n",
    "    if i==0:\n",
    "        df_syn = pd.read_pickle('salida/nuevo3/SNLI/DEV/DEV_'+str(i+1)+'.csv_Synonym.pickle')\n",
    "    else:\n",
    "        try:\n",
    "            temp = pd.read_pickle('salida/nuevo3/SNLI/DEV/DEV_'+str(i+1)+'.csv_Synonym.pickle')\n",
    "            df_syn=pd.concat([df_syn,temp])\n",
    "        except:\n",
    "            pass"
   ]
  },
  {
   "cell_type": "code",
   "execution_count": 23,
   "metadata": {},
   "outputs": [],
   "source": [
    "for i in range(10):\n",
    "    try:\n",
    "        temp = pd.read_pickle('salida/nuevo3/SNLI/TEST/TEST_'+str(i+1)+'.csv_Synonym.pickle')\n",
    "        df_syn=pd.concat([df_syn,temp])\n",
    "    except:\n",
    "        pass"
   ]
  },
  {
   "cell_type": "code",
   "execution_count": 24,
   "metadata": {},
   "outputs": [
    {
     "data": {
      "text/html": [
       "<div>\n",
       "<style scoped>\n",
       "    .dataframe tbody tr th:only-of-type {\n",
       "        vertical-align: middle;\n",
       "    }\n",
       "\n",
       "    .dataframe tbody tr th {\n",
       "        vertical-align: top;\n",
       "    }\n",
       "\n",
       "    .dataframe thead th {\n",
       "        text-align: right;\n",
       "    }\n",
       "</style>\n",
       "<table border=\"1\" class=\"dataframe\">\n",
       "  <thead>\n",
       "    <tr style=\"text-align: right;\">\n",
       "      <th></th>\n",
       "      <th>word</th>\n",
       "      <th>Synonym</th>\n",
       "    </tr>\n",
       "  </thead>\n",
       "  <tbody>\n",
       "    <tr>\n",
       "      <th>0</th>\n",
       "      <td>sale</td>\n",
       "      <td>{sale, sales_agreement, sales_event, cut_rate_...</td>\n",
       "    </tr>\n",
       "    <tr>\n",
       "      <th>1</th>\n",
       "      <td>make</td>\n",
       "      <td>{relieve_oneself, produce, urinate, pretend, p...</td>\n",
       "    </tr>\n",
       "    <tr>\n",
       "      <th>2</th>\n",
       "      <td>pay</td>\n",
       "      <td>{pay_up, compensate, ante_up, fee, remuneratio...</td>\n",
       "    </tr>\n",
       "    <tr>\n",
       "      <th>3</th>\n",
       "      <td>yukos</td>\n",
       "      <td>{yukos}</td>\n",
       "    </tr>\n",
       "    <tr>\n",
       "      <th>4</th>\n",
       "      <td>27</td>\n",
       "      <td>{27, twenty_seven, xxvii}</td>\n",
       "    </tr>\n",
       "    <tr>\n",
       "      <th>...</th>\n",
       "      <td>...</td>\n",
       "      <td>...</td>\n",
       "    </tr>\n",
       "    <tr>\n",
       "      <th>236374</th>\n",
       "      <td>gondola</td>\n",
       "      <td>{car, gondola, cable_car, gondola_car}</td>\n",
       "    </tr>\n",
       "    <tr>\n",
       "      <th>236375</th>\n",
       "      <td>ragged</td>\n",
       "      <td>{mean, ragged, shabby}</td>\n",
       "    </tr>\n",
       "    <tr>\n",
       "      <th>236376</th>\n",
       "      <td>accompaniment</td>\n",
       "      <td>{accessory, accompaniment, co_occurrence, ento...</td>\n",
       "    </tr>\n",
       "    <tr>\n",
       "      <th>236377</th>\n",
       "      <td>dishevel</td>\n",
       "      <td>{tousle, dishevel, jostle, tangle, ruffle, dis...</td>\n",
       "    </tr>\n",
       "    <tr>\n",
       "      <th>236378</th>\n",
       "      <td>kite</td>\n",
       "      <td>{kite, sentry}</td>\n",
       "    </tr>\n",
       "  </tbody>\n",
       "</table>\n",
       "<p>236379 rows × 2 columns</p>\n",
       "</div>"
      ],
      "text/plain": [
       "                 word                                            Synonym\n",
       "0                sale  {sale, sales_agreement, sales_event, cut_rate_...\n",
       "1                make  {relieve_oneself, produce, urinate, pretend, p...\n",
       "2                 pay  {pay_up, compensate, ante_up, fee, remuneratio...\n",
       "3               yukos                                            {yukos}\n",
       "4                  27                          {27, twenty_seven, xxvii}\n",
       "...               ...                                                ...\n",
       "236374        gondola             {car, gondola, cable_car, gondola_car}\n",
       "236375         ragged                             {mean, ragged, shabby}\n",
       "236376  accompaniment  {accessory, accompaniment, co_occurrence, ento...\n",
       "236377       dishevel  {tousle, dishevel, jostle, tangle, ruffle, dis...\n",
       "236378           kite                                     {kite, sentry}\n",
       "\n",
       "[236379 rows x 2 columns]"
      ]
     },
     "execution_count": 24,
     "metadata": {},
     "output_type": "execute_result"
    }
   ],
   "source": [
    "df_syn = df_syn.reset_index(drop=True)\n",
    "df_syn"
   ]
  },
  {
   "cell_type": "code",
   "execution_count": 25,
   "metadata": {},
   "outputs": [],
   "source": [
    "for index,strings in df_syn.iterrows():\n",
    "    dict_syns[strings['word']]=strings['Synonym']"
   ]
  },
  {
   "cell_type": "code",
   "execution_count": 26,
   "metadata": {},
   "outputs": [
    {
     "data": {
      "text/plain": [
       "25181"
      ]
     },
     "execution_count": 26,
     "metadata": {},
     "output_type": "execute_result"
    }
   ],
   "source": [
    "len(dict_syns)"
   ]
  },
  {
   "cell_type": "code",
   "execution_count": 27,
   "metadata": {},
   "outputs": [],
   "source": [
    "# actualizamos el dataframe de los conjuntos\n",
    "df = pd.DataFrame([[key, dict_syns[key]] for key in dict_syns.keys()], columns=['word', 'Synonym'])\n",
    "df.to_pickle(\"salida/nuevo3/Synonyms.pickle\")"
   ]
  },
  {
   "cell_type": "markdown",
   "metadata": {},
   "source": [
    "# actualizar hyperonimos con SNLI DEV y TEST"
   ]
  },
  {
   "cell_type": "code",
   "execution_count": 43,
   "metadata": {},
   "outputs": [],
   "source": [
    "hyperonimos=dict()"
   ]
  },
  {
   "cell_type": "code",
   "execution_count": 44,
   "metadata": {},
   "outputs": [
    {
     "data": {
      "text/html": [
       "<div>\n",
       "<style scoped>\n",
       "    .dataframe tbody tr th:only-of-type {\n",
       "        vertical-align: middle;\n",
       "    }\n",
       "\n",
       "    .dataframe tbody tr th {\n",
       "        vertical-align: top;\n",
       "    }\n",
       "\n",
       "    .dataframe thead th {\n",
       "        text-align: right;\n",
       "    }\n",
       "</style>\n",
       "<table border=\"1\" class=\"dataframe\">\n",
       "  <thead>\n",
       "    <tr style=\"text-align: right;\">\n",
       "      <th></th>\n",
       "      <th>word</th>\n",
       "      <th>Hyperonym</th>\n",
       "    </tr>\n",
       "  </thead>\n",
       "  <tbody>\n",
       "    <tr>\n",
       "      <th>0</th>\n",
       "      <td>sale</td>\n",
       "      <td>{off, cheap_prices, on_offer, in_shops, bargai...</td>\n",
       "    </tr>\n",
       "    <tr>\n",
       "      <th>1</th>\n",
       "      <td>make</td>\n",
       "      <td>{move, means_manufacture, name, excrete, trave...</td>\n",
       "    </tr>\n",
       "    <tr>\n",
       "      <th>2</th>\n",
       "      <td>pay</td>\n",
       "      <td>{monies, give_fee, exchange_money, work_money,...</td>\n",
       "    </tr>\n",
       "    <tr>\n",
       "      <th>3</th>\n",
       "      <td>yukos</td>\n",
       "      <td>{company, yuko}</td>\n",
       "    </tr>\n",
       "    <tr>\n",
       "      <th>4</th>\n",
       "      <td>27</td>\n",
       "      <td>{}</td>\n",
       "    </tr>\n",
       "    <tr>\n",
       "      <th>...</th>\n",
       "      <td>...</td>\n",
       "      <td>...</td>\n",
       "    </tr>\n",
       "    <tr>\n",
       "      <th>22360</th>\n",
       "      <td>okra_plant</td>\n",
       "      <td>{vegetable_plant, crop_plant, mallow_order}</td>\n",
       "    </tr>\n",
       "    <tr>\n",
       "      <th>22361</th>\n",
       "      <td>hibiscus_esculentus</td>\n",
       "      <td>{}</td>\n",
       "    </tr>\n",
       "    <tr>\n",
       "      <th>22362</th>\n",
       "      <td>gumbo</td>\n",
       "      <td>{vegetable, capsule, edible, okra, soil, plant...</td>\n",
       "    </tr>\n",
       "    <tr>\n",
       "      <th>22363</th>\n",
       "      <td>lady's_finger</td>\n",
       "      <td>{branchia, potato, kidney_vetch, cake, lobster...</td>\n",
       "    </tr>\n",
       "    <tr>\n",
       "      <th>22364</th>\n",
       "      <td>bhindi</td>\n",
       "      <td>{edible, capsule, plant}</td>\n",
       "    </tr>\n",
       "  </tbody>\n",
       "</table>\n",
       "<p>22365 rows × 2 columns</p>\n",
       "</div>"
      ],
      "text/plain": [
       "                      word                                          Hyperonym\n",
       "0                     sale  {off, cheap_prices, on_offer, in_shops, bargai...\n",
       "1                     make  {move, means_manufacture, name, excrete, trave...\n",
       "2                      pay  {monies, give_fee, exchange_money, work_money,...\n",
       "3                    yukos                                    {company, yuko}\n",
       "4                       27                                                 {}\n",
       "...                    ...                                                ...\n",
       "22360           okra_plant        {vegetable_plant, crop_plant, mallow_order}\n",
       "22361  hibiscus_esculentus                                                 {}\n",
       "22362                gumbo  {vegetable, capsule, edible, okra, soil, plant...\n",
       "22363        lady's_finger  {branchia, potato, kidney_vetch, cake, lobster...\n",
       "22364               bhindi                           {edible, capsule, plant}\n",
       "\n",
       "[22365 rows x 2 columns]"
      ]
     },
     "execution_count": 44,
     "metadata": {},
     "output_type": "execute_result"
    }
   ],
   "source": [
    "df_hyp=pd.read_pickle(\"salida/nuevo3/Hyperonyms.pickle\")\n",
    "df_hyp"
   ]
  },
  {
   "cell_type": "code",
   "execution_count": 46,
   "metadata": {},
   "outputs": [],
   "source": [
    "for index,strings in df_hyp.iterrows():\n",
    "    hyperonimos[strings['word']]=strings['Hyperonym']"
   ]
  },
  {
   "cell_type": "code",
   "execution_count": 47,
   "metadata": {},
   "outputs": [
    {
     "data": {
      "text/plain": [
       "22365"
      ]
     },
     "execution_count": 47,
     "metadata": {},
     "output_type": "execute_result"
    }
   ],
   "source": [
    "len(hyperonimos)"
   ]
  },
  {
   "cell_type": "code",
   "execution_count": 48,
   "metadata": {},
   "outputs": [],
   "source": [
    "for i in range(10):\n",
    "    if i==0:\n",
    "        df_syn = pd.read_pickle('salida/nuevo3/SNLI/DEV/DEV_'+str(i+1)+'.csv_Hyperonym.pickle')\n",
    "    else:\n",
    "        try:\n",
    "            temp = pd.read_pickle('salida/nuevo3/SNLI/DEV/DEV_'+str(i+1)+'.csv_Hyperonym.pickle')\n",
    "            df_syn=pd.concat([df_syn,temp])\n",
    "        except:\n",
    "            pass"
   ]
  },
  {
   "cell_type": "code",
   "execution_count": 49,
   "metadata": {},
   "outputs": [],
   "source": [
    "for i in range(10):\n",
    "    try:\n",
    "        temp = pd.read_pickle('salida/nuevo3/SNLI/TEST/TEST_'+str(i+1)+'.csv_Hyperonym.pickle')\n",
    "        df_syn=pd.concat([df_syn,temp])\n",
    "    except:\n",
    "        pass"
   ]
  },
  {
   "cell_type": "code",
   "execution_count": 50,
   "metadata": {},
   "outputs": [
    {
     "data": {
      "text/html": [
       "<div>\n",
       "<style scoped>\n",
       "    .dataframe tbody tr th:only-of-type {\n",
       "        vertical-align: middle;\n",
       "    }\n",
       "\n",
       "    .dataframe tbody tr th {\n",
       "        vertical-align: top;\n",
       "    }\n",
       "\n",
       "    .dataframe thead th {\n",
       "        text-align: right;\n",
       "    }\n",
       "</style>\n",
       "<table border=\"1\" class=\"dataframe\">\n",
       "  <thead>\n",
       "    <tr style=\"text-align: right;\">\n",
       "      <th></th>\n",
       "      <th>word</th>\n",
       "      <th>Hyperonym</th>\n",
       "    </tr>\n",
       "  </thead>\n",
       "  <tbody>\n",
       "    <tr>\n",
       "      <th>0</th>\n",
       "      <td>sale</td>\n",
       "      <td>{off, cheap_prices, on_offer, in_shops, bargai...</td>\n",
       "    </tr>\n",
       "    <tr>\n",
       "      <th>1</th>\n",
       "      <td>make</td>\n",
       "      <td>{move, means_manufacture, name, excrete, trave...</td>\n",
       "    </tr>\n",
       "    <tr>\n",
       "      <th>2</th>\n",
       "      <td>pay</td>\n",
       "      <td>{monies, give_fee, exchange_money, work_money,...</td>\n",
       "    </tr>\n",
       "    <tr>\n",
       "      <th>3</th>\n",
       "      <td>yukos</td>\n",
       "      <td>{company, yuko}</td>\n",
       "    </tr>\n",
       "    <tr>\n",
       "      <th>4</th>\n",
       "      <td>27</td>\n",
       "      <td>{}</td>\n",
       "    </tr>\n",
       "    <tr>\n",
       "      <th>...</th>\n",
       "      <td>...</td>\n",
       "      <td>...</td>\n",
       "    </tr>\n",
       "    <tr>\n",
       "      <th>459035</th>\n",
       "      <td>social_dancer</td>\n",
       "      <td>{}</td>\n",
       "    </tr>\n",
       "    <tr>\n",
       "      <th>459036</th>\n",
       "      <td>terpsichorean</td>\n",
       "      <td>{terpsichore, dance, dancing}</td>\n",
       "    </tr>\n",
       "    <tr>\n",
       "      <th>459037</th>\n",
       "      <td>exotic_dancer</td>\n",
       "      <td>{belly_dancer, exotic, pole_dancer, stripper}</td>\n",
       "    </tr>\n",
       "    <tr>\n",
       "      <th>459038</th>\n",
       "      <td>terpsichore</td>\n",
       "      <td>{muses, dramatic, dance, mnemosyne, chorus, as...</td>\n",
       "    </tr>\n",
       "    <tr>\n",
       "      <th>459039</th>\n",
       "      <td>kite</td>\n",
       "      <td>{soar, flier, deben, has_string, brill, child,...</td>\n",
       "    </tr>\n",
       "  </tbody>\n",
       "</table>\n",
       "<p>459040 rows × 2 columns</p>\n",
       "</div>"
      ],
      "text/plain": [
       "                 word                                          Hyperonym\n",
       "0                sale  {off, cheap_prices, on_offer, in_shops, bargai...\n",
       "1                make  {move, means_manufacture, name, excrete, trave...\n",
       "2                 pay  {monies, give_fee, exchange_money, work_money,...\n",
       "3               yukos                                    {company, yuko}\n",
       "4                  27                                                 {}\n",
       "...               ...                                                ...\n",
       "459035  social_dancer                                                 {}\n",
       "459036  terpsichorean                      {terpsichore, dance, dancing}\n",
       "459037  exotic_dancer      {belly_dancer, exotic, pole_dancer, stripper}\n",
       "459038    terpsichore  {muses, dramatic, dance, mnemosyne, chorus, as...\n",
       "459039           kite  {soar, flier, deben, has_string, brill, child,...\n",
       "\n",
       "[459040 rows x 2 columns]"
      ]
     },
     "execution_count": 50,
     "metadata": {},
     "output_type": "execute_result"
    }
   ],
   "source": [
    "df_syn = df_syn.reset_index(drop=True)\n",
    "df_syn"
   ]
  },
  {
   "cell_type": "code",
   "execution_count": 51,
   "metadata": {},
   "outputs": [],
   "source": [
    "for index,strings in df_syn.iterrows():\n",
    "    hyperonimos[strings['word']]=strings['Hyperonym']"
   ]
  },
  {
   "cell_type": "code",
   "execution_count": 52,
   "metadata": {},
   "outputs": [
    {
     "data": {
      "text/plain": [
       "27765"
      ]
     },
     "execution_count": 52,
     "metadata": {},
     "output_type": "execute_result"
    }
   ],
   "source": [
    "len(hyperonimos)"
   ]
  },
  {
   "cell_type": "code",
   "execution_count": 53,
   "metadata": {},
   "outputs": [],
   "source": [
    "# actualizamos el dataframe de los conjuntos\n",
    "df = pd.DataFrame([[key, hyperonimos[key]] for key in hyperonimos.keys()], columns=['word', 'Hyperonym'])\n",
    "df.to_pickle(\"salida/nuevo3/Hyperonyms.pickle\")"
   ]
  },
  {
   "cell_type": "markdown",
   "metadata": {},
   "source": [
    "# Actualizar Hyponyms con SNLI TEST y DEV"
   ]
  },
  {
   "cell_type": "code",
   "execution_count": 54,
   "metadata": {},
   "outputs": [],
   "source": [
    "hyponimos=dict()"
   ]
  },
  {
   "cell_type": "code",
   "execution_count": 55,
   "metadata": {},
   "outputs": [
    {
     "data": {
      "text/html": [
       "<div>\n",
       "<style scoped>\n",
       "    .dataframe tbody tr th:only-of-type {\n",
       "        vertical-align: middle;\n",
       "    }\n",
       "\n",
       "    .dataframe tbody tr th {\n",
       "        vertical-align: top;\n",
       "    }\n",
       "\n",
       "    .dataframe thead th {\n",
       "        text-align: right;\n",
       "    }\n",
       "</style>\n",
       "<table border=\"1\" class=\"dataframe\">\n",
       "  <thead>\n",
       "    <tr style=\"text-align: right;\">\n",
       "      <th></th>\n",
       "      <th>word</th>\n",
       "      <th>Hyponym</th>\n",
       "    </tr>\n",
       "  </thead>\n",
       "  <tbody>\n",
       "    <tr>\n",
       "      <th>0</th>\n",
       "      <td>sale</td>\n",
       "      <td>{rummage_sale, salesbook, for_sale, saleabilit...</td>\n",
       "    </tr>\n",
       "    <tr>\n",
       "      <th>1</th>\n",
       "      <td>make</td>\n",
       "      <td>{makeweight, fashion, lay_down, incorporate, m...</td>\n",
       "    </tr>\n",
       "    <tr>\n",
       "      <th>2</th>\n",
       "      <td>pay</td>\n",
       "      <td>{paidest, paysite, spend, prepay, underpay, re...</td>\n",
       "    </tr>\n",
       "    <tr>\n",
       "      <th>3</th>\n",
       "      <td>yukos</td>\n",
       "      <td>{}</td>\n",
       "    </tr>\n",
       "    <tr>\n",
       "      <th>4</th>\n",
       "      <td>27</td>\n",
       "      <td>{}</td>\n",
       "    </tr>\n",
       "    <tr>\n",
       "      <th>...</th>\n",
       "      <td>...</td>\n",
       "      <td>...</td>\n",
       "    </tr>\n",
       "    <tr>\n",
       "      <th>23419</th>\n",
       "      <td>inform_on</td>\n",
       "      <td>{}</td>\n",
       "    </tr>\n",
       "    <tr>\n",
       "      <th>23420</th>\n",
       "      <td>fingerbang</td>\n",
       "      <td>{fingerbangs, fingerbanging, fingerbanged, fin...</td>\n",
       "    </tr>\n",
       "    <tr>\n",
       "      <th>23421</th>\n",
       "      <td>heyday</td>\n",
       "      <td>{heydays, heydey, hayday}</td>\n",
       "    </tr>\n",
       "    <tr>\n",
       "      <th>23422</th>\n",
       "      <td>king_of_insects</td>\n",
       "      <td>{}</td>\n",
       "    </tr>\n",
       "    <tr>\n",
       "      <th>23423</th>\n",
       "      <td>bee_block</td>\n",
       "      <td>{}</td>\n",
       "    </tr>\n",
       "  </tbody>\n",
       "</table>\n",
       "<p>23424 rows × 2 columns</p>\n",
       "</div>"
      ],
      "text/plain": [
       "                  word                                            Hyponym\n",
       "0                 sale  {rummage_sale, salesbook, for_sale, saleabilit...\n",
       "1                 make  {makeweight, fashion, lay_down, incorporate, m...\n",
       "2                  pay  {paidest, paysite, spend, prepay, underpay, re...\n",
       "3                yukos                                                 {}\n",
       "4                   27                                                 {}\n",
       "...                ...                                                ...\n",
       "23419        inform_on                                                 {}\n",
       "23420       fingerbang  {fingerbangs, fingerbanging, fingerbanged, fin...\n",
       "23421           heyday                          {heydays, heydey, hayday}\n",
       "23422  king_of_insects                                                 {}\n",
       "23423        bee_block                                                 {}\n",
       "\n",
       "[23424 rows x 2 columns]"
      ]
     },
     "execution_count": 55,
     "metadata": {},
     "output_type": "execute_result"
    }
   ],
   "source": [
    "df_hyp=pd.read_pickle(\"salida/nuevo3/Hyponyms.pickle\")\n",
    "df_hyp"
   ]
  },
  {
   "cell_type": "code",
   "execution_count": 56,
   "metadata": {},
   "outputs": [],
   "source": [
    "for index,strings in df_hyp.iterrows():\n",
    "    hyponimos[strings['word']]=strings['Hyponym']"
   ]
  },
  {
   "cell_type": "code",
   "execution_count": 57,
   "metadata": {},
   "outputs": [
    {
     "data": {
      "text/plain": [
       "23424"
      ]
     },
     "execution_count": 57,
     "metadata": {},
     "output_type": "execute_result"
    }
   ],
   "source": [
    "len(hyponimos)"
   ]
  },
  {
   "cell_type": "code",
   "execution_count": 58,
   "metadata": {},
   "outputs": [],
   "source": [
    "for i in range(10):\n",
    "    if i==0:\n",
    "        df_syn = pd.read_pickle('salida/nuevo3/SNLI/DEV/DEV_'+str(i+1)+'.csv_Hyponym.pickle')\n",
    "    else:\n",
    "        try:\n",
    "            temp = pd.read_pickle('salida/nuevo3/SNLI/DEV/DEV_'+str(i+1)+'.csv_Hyponym.pickle')\n",
    "            df_syn=pd.concat([df_syn,temp])\n",
    "        except:\n",
    "            pass"
   ]
  },
  {
   "cell_type": "code",
   "execution_count": 59,
   "metadata": {},
   "outputs": [],
   "source": [
    "for i in range(10):\n",
    "    try:\n",
    "        temp = pd.read_pickle('salida/nuevo3/SNLI/TEST/TEST_'+str(i+1)+'.csv_Hyponym.pickle')\n",
    "        df_syn=pd.concat([df_syn,temp])\n",
    "    except:\n",
    "        pass"
   ]
  },
  {
   "cell_type": "code",
   "execution_count": 60,
   "metadata": {},
   "outputs": [
    {
     "data": {
      "text/html": [
       "<div>\n",
       "<style scoped>\n",
       "    .dataframe tbody tr th:only-of-type {\n",
       "        vertical-align: middle;\n",
       "    }\n",
       "\n",
       "    .dataframe tbody tr th {\n",
       "        vertical-align: top;\n",
       "    }\n",
       "\n",
       "    .dataframe thead th {\n",
       "        text-align: right;\n",
       "    }\n",
       "</style>\n",
       "<table border=\"1\" class=\"dataframe\">\n",
       "  <thead>\n",
       "    <tr style=\"text-align: right;\">\n",
       "      <th></th>\n",
       "      <th>word</th>\n",
       "      <th>Hyponym</th>\n",
       "    </tr>\n",
       "  </thead>\n",
       "  <tbody>\n",
       "    <tr>\n",
       "      <th>0</th>\n",
       "      <td>sale</td>\n",
       "      <td>{rummage_sale, salesbook, for_sale, saleabilit...</td>\n",
       "    </tr>\n",
       "    <tr>\n",
       "      <th>1</th>\n",
       "      <td>make</td>\n",
       "      <td>{makeweight, fashion, lay_down, incorporate, m...</td>\n",
       "    </tr>\n",
       "    <tr>\n",
       "      <th>2</th>\n",
       "      <td>pay</td>\n",
       "      <td>{paidest, paysite, spend, prepay, underpay, re...</td>\n",
       "    </tr>\n",
       "    <tr>\n",
       "      <th>3</th>\n",
       "      <td>yukos</td>\n",
       "      <td>{}</td>\n",
       "    </tr>\n",
       "    <tr>\n",
       "      <th>4</th>\n",
       "      <td>27</td>\n",
       "      <td>{}</td>\n",
       "    </tr>\n",
       "    <tr>\n",
       "      <th>...</th>\n",
       "      <td>...</td>\n",
       "      <td>...</td>\n",
       "    </tr>\n",
       "    <tr>\n",
       "      <th>483592</th>\n",
       "      <td>romantically</td>\n",
       "      <td>{}</td>\n",
       "    </tr>\n",
       "    <tr>\n",
       "      <th>483593</th>\n",
       "      <td>teal</td>\n",
       "      <td>{bluewing, garganey, tealness, teals, greenwing}</td>\n",
       "    </tr>\n",
       "    <tr>\n",
       "      <th>483594</th>\n",
       "      <td>busker</td>\n",
       "      <td>{buskers}</td>\n",
       "    </tr>\n",
       "    <tr>\n",
       "      <th>483595</th>\n",
       "      <td>tousle</td>\n",
       "      <td>{touzle, tousled, untousle, tousles, tousle_he...</td>\n",
       "    </tr>\n",
       "    <tr>\n",
       "      <th>483596</th>\n",
       "      <td>kite</td>\n",
       "      <td>{kitefin, parakite, check_kiting, sport_kite, ...</td>\n",
       "    </tr>\n",
       "  </tbody>\n",
       "</table>\n",
       "<p>483597 rows × 2 columns</p>\n",
       "</div>"
      ],
      "text/plain": [
       "                word                                            Hyponym\n",
       "0               sale  {rummage_sale, salesbook, for_sale, saleabilit...\n",
       "1               make  {makeweight, fashion, lay_down, incorporate, m...\n",
       "2                pay  {paidest, paysite, spend, prepay, underpay, re...\n",
       "3              yukos                                                 {}\n",
       "4                 27                                                 {}\n",
       "...              ...                                                ...\n",
       "483592  romantically                                                 {}\n",
       "483593          teal   {bluewing, garganey, tealness, teals, greenwing}\n",
       "483594        busker                                          {buskers}\n",
       "483595        tousle  {touzle, tousled, untousle, tousles, tousle_he...\n",
       "483596          kite  {kitefin, parakite, check_kiting, sport_kite, ...\n",
       "\n",
       "[483597 rows x 2 columns]"
      ]
     },
     "execution_count": 60,
     "metadata": {},
     "output_type": "execute_result"
    }
   ],
   "source": [
    "df_syn = df_syn.reset_index(drop=True)\n",
    "df_syn"
   ]
  },
  {
   "cell_type": "code",
   "execution_count": 61,
   "metadata": {},
   "outputs": [],
   "source": [
    "for index,strings in df_syn.iterrows():\n",
    "    hyponimos[strings['word']]=strings['Hyponym']"
   ]
  },
  {
   "cell_type": "code",
   "execution_count": 62,
   "metadata": {},
   "outputs": [
    {
     "data": {
      "text/plain": [
       "30514"
      ]
     },
     "execution_count": 62,
     "metadata": {},
     "output_type": "execute_result"
    }
   ],
   "source": [
    "len(hyponimos)"
   ]
  },
  {
   "cell_type": "code",
   "execution_count": 63,
   "metadata": {},
   "outputs": [],
   "source": [
    "# actualizamos el dataframe de los conjuntos\n",
    "df = pd.DataFrame([[key, hyponimos[key]] for key in hyponimos.keys()], columns=['word', 'Hyponym'])\n",
    "df.to_pickle(\"salida/nuevo3/Hyponyms.pickle\")"
   ]
  },
  {
   "cell_type": "markdown",
   "metadata": {},
   "source": [
    "# agregar sinonimos del TRAIN SNLI"
   ]
  },
  {
   "cell_type": "code",
   "execution_count": 28,
   "metadata": {
    "metadata": {}
   },
   "outputs": [],
   "source": [
    "dict_syns=dict()"
   ]
  },
  {
   "cell_type": "code",
   "execution_count": 29,
   "metadata": {},
   "outputs": [
    {
     "data": {
      "text/html": [
       "<div>\n",
       "<style scoped>\n",
       "    .dataframe tbody tr th:only-of-type {\n",
       "        vertical-align: middle;\n",
       "    }\n",
       "\n",
       "    .dataframe tbody tr th {\n",
       "        vertical-align: top;\n",
       "    }\n",
       "\n",
       "    .dataframe thead th {\n",
       "        text-align: right;\n",
       "    }\n",
       "</style>\n",
       "<table border=\"1\" class=\"dataframe\">\n",
       "  <thead>\n",
       "    <tr style=\"text-align: right;\">\n",
       "      <th></th>\n",
       "      <th>word</th>\n",
       "      <th>Synonym</th>\n",
       "    </tr>\n",
       "  </thead>\n",
       "  <tbody>\n",
       "    <tr>\n",
       "      <th>0</th>\n",
       "      <td>sale</td>\n",
       "      <td>{sale, sales_agreement, sales_event, cut_rate_...</td>\n",
       "    </tr>\n",
       "    <tr>\n",
       "      <th>1</th>\n",
       "      <td>make</td>\n",
       "      <td>{relieve_oneself, produce, urinate, pretend, p...</td>\n",
       "    </tr>\n",
       "    <tr>\n",
       "      <th>2</th>\n",
       "      <td>pay</td>\n",
       "      <td>{ante_up, compensate, pay_up, fee, remuneratio...</td>\n",
       "    </tr>\n",
       "    <tr>\n",
       "      <th>3</th>\n",
       "      <td>yukos</td>\n",
       "      <td>{yukos}</td>\n",
       "    </tr>\n",
       "    <tr>\n",
       "      <th>4</th>\n",
       "      <td>27</td>\n",
       "      <td>{27, twenty_seven, xxvii}</td>\n",
       "    </tr>\n",
       "    <tr>\n",
       "      <th>...</th>\n",
       "      <td>...</td>\n",
       "      <td>...</td>\n",
       "    </tr>\n",
       "    <tr>\n",
       "      <th>25176</th>\n",
       "      <td>hospice</td>\n",
       "      <td>{hospice}</td>\n",
       "    </tr>\n",
       "    <tr>\n",
       "      <th>25177</th>\n",
       "      <td>prformance</td>\n",
       "      <td>{prformance}</td>\n",
       "    </tr>\n",
       "    <tr>\n",
       "      <th>25178</th>\n",
       "      <td>interlace</td>\n",
       "      <td>{interlace, intertwine, lock}</td>\n",
       "    </tr>\n",
       "    <tr>\n",
       "      <th>25179</th>\n",
       "      <td>chilldren</td>\n",
       "      <td>{chilldren}</td>\n",
       "    </tr>\n",
       "    <tr>\n",
       "      <th>25180</th>\n",
       "      <td>absentmindedly</td>\n",
       "      <td>{inattentively, absently, absentmindedly, abst...</td>\n",
       "    </tr>\n",
       "  </tbody>\n",
       "</table>\n",
       "<p>25181 rows × 2 columns</p>\n",
       "</div>"
      ],
      "text/plain": [
       "                 word                                            Synonym\n",
       "0                sale  {sale, sales_agreement, sales_event, cut_rate_...\n",
       "1                make  {relieve_oneself, produce, urinate, pretend, p...\n",
       "2                 pay  {ante_up, compensate, pay_up, fee, remuneratio...\n",
       "3               yukos                                            {yukos}\n",
       "4                  27                          {27, twenty_seven, xxvii}\n",
       "...               ...                                                ...\n",
       "25176         hospice                                          {hospice}\n",
       "25177      prformance                                       {prformance}\n",
       "25178       interlace                      {interlace, intertwine, lock}\n",
       "25179       chilldren                                        {chilldren}\n",
       "25180  absentmindedly  {inattentively, absently, absentmindedly, abst...\n",
       "\n",
       "[25181 rows x 2 columns]"
      ]
     },
     "execution_count": 29,
     "metadata": {},
     "output_type": "execute_result"
    }
   ],
   "source": [
    "df_sinonimos=pd.read_pickle(\"salida/nuevo3/Synonyms.pickle\")\n",
    "df_sinonimos"
   ]
  },
  {
   "cell_type": "code",
   "execution_count": 30,
   "metadata": {},
   "outputs": [],
   "source": [
    "for index,strings in df_sinonimos.iterrows():\n",
    "    dict_syns[strings['word']]=strings['Synonym']"
   ]
  },
  {
   "cell_type": "code",
   "execution_count": 31,
   "metadata": {
    "metadata": {}
   },
   "outputs": [],
   "source": [
    "for i in range(55):\n",
    "    if i==0:\n",
    "        df_syn = pd.read_pickle('salida/nuevo3/SNLI/TRAIN10000/TRAIN_'+str(i+1)+'.csv_Synonym.pickle')\n",
    "    else:\n",
    "        try:\n",
    "            temp = pd.read_pickle('salida/nuevo3/SNLI/TRAIN10000/TRAIN_'+str(i+1)+'.csv_Synonym.pickle')\n",
    "            df_syn=pd.concat([df_syn,temp])\n",
    "        except:\n",
    "            pass"
   ]
  },
  {
   "cell_type": "code",
   "execution_count": 32,
   "metadata": {
    "metadata": {}
   },
   "outputs": [
    {
     "data": {
      "text/html": [
       "<div>\n",
       "<style scoped>\n",
       "    .dataframe tbody tr th:only-of-type {\n",
       "        vertical-align: middle;\n",
       "    }\n",
       "\n",
       "    .dataframe tbody tr th {\n",
       "        vertical-align: top;\n",
       "    }\n",
       "\n",
       "    .dataframe thead th {\n",
       "        text-align: right;\n",
       "    }\n",
       "</style>\n",
       "<table border=\"1\" class=\"dataframe\">\n",
       "  <thead>\n",
       "    <tr style=\"text-align: right;\">\n",
       "      <th></th>\n",
       "      <th>word</th>\n",
       "      <th>Synonym</th>\n",
       "    </tr>\n",
       "  </thead>\n",
       "  <tbody>\n",
       "    <tr>\n",
       "      <th>0</th>\n",
       "      <td>sale</td>\n",
       "      <td>{sale, sales_agreement, sales_event, cut_rate_...</td>\n",
       "    </tr>\n",
       "    <tr>\n",
       "      <th>1</th>\n",
       "      <td>make</td>\n",
       "      <td>{relieve_oneself, produce, urinate, pretend, p...</td>\n",
       "    </tr>\n",
       "    <tr>\n",
       "      <th>2</th>\n",
       "      <td>pay</td>\n",
       "      <td>{ante_up, pay_up, compensate, fee, remuneratio...</td>\n",
       "    </tr>\n",
       "    <tr>\n",
       "      <th>3</th>\n",
       "      <td>yukos</td>\n",
       "      <td>{yukos}</td>\n",
       "    </tr>\n",
       "    <tr>\n",
       "      <th>4</th>\n",
       "      <td>27</td>\n",
       "      <td>{xxvii, 27, twenty_seven}</td>\n",
       "    </tr>\n",
       "    <tr>\n",
       "      <th>...</th>\n",
       "      <td>...</td>\n",
       "      <td>...</td>\n",
       "    </tr>\n",
       "    <tr>\n",
       "      <th>438405</th>\n",
       "      <td>hospice</td>\n",
       "      <td>{hospice}</td>\n",
       "    </tr>\n",
       "    <tr>\n",
       "      <th>438406</th>\n",
       "      <td>prformance</td>\n",
       "      <td>{prformance}</td>\n",
       "    </tr>\n",
       "    <tr>\n",
       "      <th>438407</th>\n",
       "      <td>interlace</td>\n",
       "      <td>{interlace, intertwine, lock}</td>\n",
       "    </tr>\n",
       "    <tr>\n",
       "      <th>438408</th>\n",
       "      <td>chilldren</td>\n",
       "      <td>{chilldren}</td>\n",
       "    </tr>\n",
       "    <tr>\n",
       "      <th>438409</th>\n",
       "      <td>terrace</td>\n",
       "      <td>{terrace, terrasse, patio, bench}</td>\n",
       "    </tr>\n",
       "  </tbody>\n",
       "</table>\n",
       "<p>438410 rows × 2 columns</p>\n",
       "</div>"
      ],
      "text/plain": [
       "              word                                            Synonym\n",
       "0             sale  {sale, sales_agreement, sales_event, cut_rate_...\n",
       "1             make  {relieve_oneself, produce, urinate, pretend, p...\n",
       "2              pay  {ante_up, pay_up, compensate, fee, remuneratio...\n",
       "3            yukos                                            {yukos}\n",
       "4               27                          {xxvii, 27, twenty_seven}\n",
       "...            ...                                                ...\n",
       "438405     hospice                                          {hospice}\n",
       "438406  prformance                                       {prformance}\n",
       "438407   interlace                      {interlace, intertwine, lock}\n",
       "438408   chilldren                                        {chilldren}\n",
       "438409     terrace                  {terrace, terrasse, patio, bench}\n",
       "\n",
       "[438410 rows x 2 columns]"
      ]
     },
     "execution_count": 32,
     "metadata": {},
     "output_type": "execute_result"
    }
   ],
   "source": [
    "df_syn = df_syn.reset_index(drop=True)\n",
    "df_syn"
   ]
  },
  {
   "cell_type": "code",
   "execution_count": 33,
   "metadata": {
    "metadata": {}
   },
   "outputs": [],
   "source": [
    "for index,strings in df_syn.iterrows():\n",
    "    dict_syns[strings['word']]=strings['Synonym']"
   ]
  },
  {
   "cell_type": "code",
   "execution_count": 34,
   "metadata": {
    "metadata": {}
   },
   "outputs": [
    {
     "data": {
      "text/plain": [
       "25181"
      ]
     },
     "execution_count": 34,
     "metadata": {},
     "output_type": "execute_result"
    }
   ],
   "source": [
    "len(dict_syns)"
   ]
  },
  {
   "cell_type": "code",
   "execution_count": 35,
   "metadata": {
    "metadata": {}
   },
   "outputs": [],
   "source": [
    "# actualizamos el dataframe de los conjuntos\n",
    "df = pd.DataFrame([[key, dict_syns[key]] for key in dict_syns.keys()], columns=['word', 'Synonym'])\n",
    "df.to_pickle(\"salida/nuevo3/Synonyms.pickle\")"
   ]
  },
  {
   "cell_type": "markdown",
   "metadata": {},
   "source": [
    "# actualizar hiperonimos de SNLI TRAIN"
   ]
  },
  {
   "cell_type": "code",
   "execution_count": 13,
   "metadata": {
    "metadata": {}
   },
   "outputs": [],
   "source": [
    "hyperonimos=dict()"
   ]
  },
  {
   "cell_type": "code",
   "execution_count": 14,
   "metadata": {
    "metadata": {}
   },
   "outputs": [
    {
     "data": {
      "text/html": [
       "<div>\n",
       "<style scoped>\n",
       "    .dataframe tbody tr th:only-of-type {\n",
       "        vertical-align: middle;\n",
       "    }\n",
       "\n",
       "    .dataframe tbody tr th {\n",
       "        vertical-align: top;\n",
       "    }\n",
       "\n",
       "    .dataframe thead th {\n",
       "        text-align: right;\n",
       "    }\n",
       "</style>\n",
       "<table border=\"1\" class=\"dataframe\">\n",
       "  <thead>\n",
       "    <tr style=\"text-align: right;\">\n",
       "      <th></th>\n",
       "      <th>word</th>\n",
       "      <th>Hyperonym</th>\n",
       "    </tr>\n",
       "  </thead>\n",
       "  <tbody>\n",
       "    <tr>\n",
       "      <th>0</th>\n",
       "      <td>sale</td>\n",
       "      <td>{shopping_bargain, store_clearance, solicitati...</td>\n",
       "    </tr>\n",
       "    <tr>\n",
       "      <th>1</th>\n",
       "      <td>make</td>\n",
       "      <td>{enact, force, pass, identification, virginity...</td>\n",
       "    </tr>\n",
       "    <tr>\n",
       "      <th>2</th>\n",
       "      <td>pay</td>\n",
       "      <td>{employee, cash_credit, for_work, settle_bill,...</td>\n",
       "    </tr>\n",
       "    <tr>\n",
       "      <th>3</th>\n",
       "      <td>yukos</td>\n",
       "      <td>{yuko, company}</td>\n",
       "    </tr>\n",
       "    <tr>\n",
       "      <th>4</th>\n",
       "      <td>27</td>\n",
       "      <td>{}</td>\n",
       "    </tr>\n",
       "    <tr>\n",
       "      <th>...</th>\n",
       "      <td>...</td>\n",
       "      <td>...</td>\n",
       "    </tr>\n",
       "    <tr>\n",
       "      <th>27760</th>\n",
       "      <td>romantically</td>\n",
       "      <td>{romantic}</td>\n",
       "    </tr>\n",
       "    <tr>\n",
       "      <th>27761</th>\n",
       "      <td>busker</td>\n",
       "      <td>{street, entertaining, busk, entertainer, stre...</td>\n",
       "    </tr>\n",
       "    <tr>\n",
       "      <th>27762</th>\n",
       "      <td>gondola_car</td>\n",
       "      <td>{freight_car}</td>\n",
       "    </tr>\n",
       "    <tr>\n",
       "      <th>27763</th>\n",
       "      <td>dishevel</td>\n",
       "      <td>{upheave}</td>\n",
       "    </tr>\n",
       "    <tr>\n",
       "      <th>27764</th>\n",
       "      <td>shabby</td>\n",
       "      <td>{worn, paltry, torn, shab, mean, unkempt, desp...</td>\n",
       "    </tr>\n",
       "  </tbody>\n",
       "</table>\n",
       "<p>27765 rows × 2 columns</p>\n",
       "</div>"
      ],
      "text/plain": [
       "               word                                          Hyperonym\n",
       "0              sale  {shopping_bargain, store_clearance, solicitati...\n",
       "1              make  {enact, force, pass, identification, virginity...\n",
       "2               pay  {employee, cash_credit, for_work, settle_bill,...\n",
       "3             yukos                                    {yuko, company}\n",
       "4                27                                                 {}\n",
       "...             ...                                                ...\n",
       "27760  romantically                                         {romantic}\n",
       "27761        busker  {street, entertaining, busk, entertainer, stre...\n",
       "27762   gondola_car                                      {freight_car}\n",
       "27763      dishevel                                          {upheave}\n",
       "27764        shabby  {worn, paltry, torn, shab, mean, unkempt, desp...\n",
       "\n",
       "[27765 rows x 2 columns]"
      ]
     },
     "execution_count": 14,
     "metadata": {},
     "output_type": "execute_result"
    }
   ],
   "source": [
    "df_hyp=pd.read_pickle(\"salida/nuevo3/Hyperonyms.pickle\")\n",
    "df_hyp"
   ]
  },
  {
   "cell_type": "code",
   "execution_count": 15,
   "metadata": {
    "metadata": {}
   },
   "outputs": [],
   "source": [
    "for index,strings in df_hyp.iterrows():\n",
    "    hyperonimos[strings['word']]=strings['Hyperonym']"
   ]
  },
  {
   "cell_type": "code",
   "execution_count": 16,
   "metadata": {
    "metadata": {}
   },
   "outputs": [
    {
     "data": {
      "text/plain": [
       "27765"
      ]
     },
     "execution_count": 16,
     "metadata": {},
     "output_type": "execute_result"
    }
   ],
   "source": [
    "len(hyperonimos)"
   ]
  },
  {
   "cell_type": "code",
   "execution_count": 18,
   "metadata": {
    "metadata": {}
   },
   "outputs": [],
   "source": [
    "for i in range(55):\n",
    "    if i==0:\n",
    "        df_syn = pd.read_pickle('salida/nuevo3/SNLI/TRAIN10000/TRAIN_'+str(i+1)+'.csv_Hyperonym.pickle')\n",
    "    else:\n",
    "        try:\n",
    "            temp = pd.read_pickle('salida/nuevo3/SNLI/TRAIN10000/TRAIN_'+str(i+1)+'.csv_Hyperonym.pickle')\n",
    "            df_syn=pd.concat([df_syn,temp])\n",
    "        except:\n",
    "            pass"
   ]
  },
  {
   "cell_type": "code",
   "execution_count": 19,
   "metadata": {
    "metadata": {}
   },
   "outputs": [
    {
     "data": {
      "text/html": [
       "<div>\n",
       "<style scoped>\n",
       "    .dataframe tbody tr th:only-of-type {\n",
       "        vertical-align: middle;\n",
       "    }\n",
       "\n",
       "    .dataframe tbody tr th {\n",
       "        vertical-align: top;\n",
       "    }\n",
       "\n",
       "    .dataframe thead th {\n",
       "        text-align: right;\n",
       "    }\n",
       "</style>\n",
       "<table border=\"1\" class=\"dataframe\">\n",
       "  <thead>\n",
       "    <tr style=\"text-align: right;\">\n",
       "      <th></th>\n",
       "      <th>word</th>\n",
       "      <th>Hyperonym</th>\n",
       "    </tr>\n",
       "  </thead>\n",
       "  <tbody>\n",
       "    <tr>\n",
       "      <th>0</th>\n",
       "      <td>sale</td>\n",
       "      <td>{shopping_bargain, store_clearance, solicitati...</td>\n",
       "    </tr>\n",
       "    <tr>\n",
       "      <th>1</th>\n",
       "      <td>make</td>\n",
       "      <td>{enact, force, pass, identification, virginity...</td>\n",
       "    </tr>\n",
       "    <tr>\n",
       "      <th>2</th>\n",
       "      <td>pay</td>\n",
       "      <td>{employee, cash_credit, for_work, settle_bill,...</td>\n",
       "    </tr>\n",
       "    <tr>\n",
       "      <th>3</th>\n",
       "      <td>yukos</td>\n",
       "      <td>{yuko, company}</td>\n",
       "    </tr>\n",
       "    <tr>\n",
       "      <th>4</th>\n",
       "      <td>27</td>\n",
       "      <td>{}</td>\n",
       "    </tr>\n",
       "    <tr>\n",
       "      <th>...</th>\n",
       "      <td>...</td>\n",
       "      <td>...</td>\n",
       "    </tr>\n",
       "    <tr>\n",
       "      <th>839999</th>\n",
       "      <td>galosh</td>\n",
       "      <td>{rain, wet, waterproof, muddy, snow, galoshe, ...</td>\n",
       "    </tr>\n",
       "    <tr>\n",
       "      <th>840000</th>\n",
       "      <td>golosh</td>\n",
       "      <td>{galosh}</td>\n",
       "    </tr>\n",
       "    <tr>\n",
       "      <th>840001</th>\n",
       "      <td>north_frigid_zone</td>\n",
       "      <td>{}</td>\n",
       "    </tr>\n",
       "    <tr>\n",
       "      <th>840002</th>\n",
       "      <td>north_polar</td>\n",
       "      <td>{}</td>\n",
       "    </tr>\n",
       "    <tr>\n",
       "      <th>840003</th>\n",
       "      <td>arctic_zone</td>\n",
       "      <td>{}</td>\n",
       "    </tr>\n",
       "  </tbody>\n",
       "</table>\n",
       "<p>840004 rows × 2 columns</p>\n",
       "</div>"
      ],
      "text/plain": [
       "                     word                                          Hyperonym\n",
       "0                    sale  {shopping_bargain, store_clearance, solicitati...\n",
       "1                    make  {enact, force, pass, identification, virginity...\n",
       "2                     pay  {employee, cash_credit, for_work, settle_bill,...\n",
       "3                   yukos                                    {yuko, company}\n",
       "4                      27                                                 {}\n",
       "...                   ...                                                ...\n",
       "839999             galosh  {rain, wet, waterproof, muddy, snow, galoshe, ...\n",
       "840000             golosh                                           {galosh}\n",
       "840001  north_frigid_zone                                                 {}\n",
       "840002        north_polar                                                 {}\n",
       "840003        arctic_zone                                                 {}\n",
       "\n",
       "[840004 rows x 2 columns]"
      ]
     },
     "execution_count": 19,
     "metadata": {},
     "output_type": "execute_result"
    }
   ],
   "source": [
    "df_syn = df_syn.reset_index(drop=True)\n",
    "df_syn"
   ]
  },
  {
   "cell_type": "code",
   "execution_count": 20,
   "metadata": {
    "metadata": {}
   },
   "outputs": [],
   "source": [
    "for index,strings in df_syn.iterrows():\n",
    "    hyperonimos[strings['word']]=strings['Hyperonym']"
   ]
  },
  {
   "cell_type": "code",
   "execution_count": 21,
   "metadata": {
    "metadata": {}
   },
   "outputs": [
    {
     "data": {
      "text/plain": [
       "42590"
      ]
     },
     "execution_count": 21,
     "metadata": {},
     "output_type": "execute_result"
    }
   ],
   "source": [
    "len(hyperonimos)"
   ]
  },
  {
   "cell_type": "code",
   "execution_count": 22,
   "metadata": {
    "metadata": {}
   },
   "outputs": [],
   "source": [
    "# actualizamos el dataframe de los conjuntos\n",
    "df = pd.DataFrame([[key, hyperonimos[key]] for key in hyperonimos.keys()], columns=['word', 'Hyperonym'])\n",
    "df.to_pickle(\"salida/nuevo3/Hyperonyms.pickle\")"
   ]
  },
  {
   "cell_type": "markdown",
   "metadata": {},
   "source": [
    "# agregar hiponimos del SNLI TRAIN"
   ]
  },
  {
   "cell_type": "code",
   "execution_count": 23,
   "metadata": {
    "metadata": {}
   },
   "outputs": [],
   "source": [
    "hyponimos=dict()"
   ]
  },
  {
   "cell_type": "code",
   "execution_count": 24,
   "metadata": {
    "metadata": {}
   },
   "outputs": [
    {
     "data": {
      "text/html": [
       "<div>\n",
       "<style scoped>\n",
       "    .dataframe tbody tr th:only-of-type {\n",
       "        vertical-align: middle;\n",
       "    }\n",
       "\n",
       "    .dataframe tbody tr th {\n",
       "        vertical-align: top;\n",
       "    }\n",
       "\n",
       "    .dataframe thead th {\n",
       "        text-align: right;\n",
       "    }\n",
       "</style>\n",
       "<table border=\"1\" class=\"dataframe\">\n",
       "  <thead>\n",
       "    <tr style=\"text-align: right;\">\n",
       "      <th></th>\n",
       "      <th>word</th>\n",
       "      <th>Hyponym</th>\n",
       "    </tr>\n",
       "  </thead>\n",
       "  <tbody>\n",
       "    <tr>\n",
       "      <th>0</th>\n",
       "      <td>sale</td>\n",
       "      <td>{telesale, auction, sales_target, sale_goer, s...</td>\n",
       "    </tr>\n",
       "    <tr>\n",
       "      <th>1</th>\n",
       "      <td>make</td>\n",
       "      <td>{short_circuit, premake, make_fray, formake, c...</td>\n",
       "    </tr>\n",
       "    <tr>\n",
       "      <th>2</th>\n",
       "      <td>pay</td>\n",
       "      <td>{refund, spend, payment, payless, paybook, pay...</td>\n",
       "    </tr>\n",
       "    <tr>\n",
       "      <th>3</th>\n",
       "      <td>yukos</td>\n",
       "      <td>{}</td>\n",
       "    </tr>\n",
       "    <tr>\n",
       "      <th>4</th>\n",
       "      <td>27</td>\n",
       "      <td>{}</td>\n",
       "    </tr>\n",
       "    <tr>\n",
       "      <th>...</th>\n",
       "      <td>...</td>\n",
       "      <td>...</td>\n",
       "    </tr>\n",
       "    <tr>\n",
       "      <th>30509</th>\n",
       "      <td>gorup</td>\n",
       "      <td>{}</td>\n",
       "    </tr>\n",
       "    <tr>\n",
       "      <th>30510</th>\n",
       "      <td>junpe</td>\n",
       "      <td>{}</td>\n",
       "    </tr>\n",
       "    <tr>\n",
       "      <th>30511</th>\n",
       "      <td>romantically</td>\n",
       "      <td>{}</td>\n",
       "    </tr>\n",
       "    <tr>\n",
       "      <th>30512</th>\n",
       "      <td>busker</td>\n",
       "      <td>{buskers}</td>\n",
       "    </tr>\n",
       "    <tr>\n",
       "      <th>30513</th>\n",
       "      <td>tousle</td>\n",
       "      <td>{tousles, touzle, tousel, tousle_headed, retou...</td>\n",
       "    </tr>\n",
       "  </tbody>\n",
       "</table>\n",
       "<p>30514 rows × 2 columns</p>\n",
       "</div>"
      ],
      "text/plain": [
       "               word                                            Hyponym\n",
       "0              sale  {telesale, auction, sales_target, sale_goer, s...\n",
       "1              make  {short_circuit, premake, make_fray, formake, c...\n",
       "2               pay  {refund, spend, payment, payless, paybook, pay...\n",
       "3             yukos                                                 {}\n",
       "4                27                                                 {}\n",
       "...             ...                                                ...\n",
       "30509         gorup                                                 {}\n",
       "30510         junpe                                                 {}\n",
       "30511  romantically                                                 {}\n",
       "30512        busker                                          {buskers}\n",
       "30513        tousle  {tousles, touzle, tousel, tousle_headed, retou...\n",
       "\n",
       "[30514 rows x 2 columns]"
      ]
     },
     "execution_count": 24,
     "metadata": {},
     "output_type": "execute_result"
    }
   ],
   "source": [
    "df_hyp=pd.read_pickle(\"salida/nuevo3/Hyponyms.pickle\")\n",
    "df_hyp"
   ]
  },
  {
   "cell_type": "code",
   "execution_count": 25,
   "metadata": {
    "metadata": {}
   },
   "outputs": [],
   "source": [
    "for index,strings in df_hyp.iterrows():\n",
    "    hyponimos[strings['word']]=strings['Hyponym']"
   ]
  },
  {
   "cell_type": "code",
   "execution_count": 26,
   "metadata": {
    "metadata": {}
   },
   "outputs": [
    {
     "data": {
      "text/plain": [
       "30514"
      ]
     },
     "execution_count": 26,
     "metadata": {},
     "output_type": "execute_result"
    }
   ],
   "source": [
    "len(hyponimos)"
   ]
  },
  {
   "cell_type": "code",
   "execution_count": 27,
   "metadata": {
    "metadata": {}
   },
   "outputs": [],
   "source": [
    "for i in range(55):\n",
    "    if i==0:\n",
    "        df_syn = pd.read_pickle('salida/nuevo3/SNLI/TRAIN10000/TRAIN_'+str(i+1)+'.csv_Hyponym.pickle')\n",
    "    else:\n",
    "        try:\n",
    "            temp = pd.read_pickle('salida/nuevo3/SNLI/TRAIN10000/TRAIN_'+str(i+1)+'.csv_Hyponym.pickle')\n",
    "            df_syn=pd.concat([df_syn,temp])\n",
    "        except:\n",
    "            pass"
   ]
  },
  {
   "cell_type": "code",
   "execution_count": 28,
   "metadata": {
    "metadata": {}
   },
   "outputs": [
    {
     "data": {
      "text/html": [
       "<div>\n",
       "<style scoped>\n",
       "    .dataframe tbody tr th:only-of-type {\n",
       "        vertical-align: middle;\n",
       "    }\n",
       "\n",
       "    .dataframe tbody tr th {\n",
       "        vertical-align: top;\n",
       "    }\n",
       "\n",
       "    .dataframe thead th {\n",
       "        text-align: right;\n",
       "    }\n",
       "</style>\n",
       "<table border=\"1\" class=\"dataframe\">\n",
       "  <thead>\n",
       "    <tr style=\"text-align: right;\">\n",
       "      <th></th>\n",
       "      <th>word</th>\n",
       "      <th>Hyponym</th>\n",
       "    </tr>\n",
       "  </thead>\n",
       "  <tbody>\n",
       "    <tr>\n",
       "      <th>0</th>\n",
       "      <td>sale</td>\n",
       "      <td>{telesale, auction, sales_target, sales_pitch,...</td>\n",
       "    </tr>\n",
       "    <tr>\n",
       "      <th>1</th>\n",
       "      <td>make</td>\n",
       "      <td>{short_circuit, make_fray, premake, formake, p...</td>\n",
       "    </tr>\n",
       "    <tr>\n",
       "      <th>2</th>\n",
       "      <td>pay</td>\n",
       "      <td>{refund, spend, payment, payless, paybook, pay...</td>\n",
       "    </tr>\n",
       "    <tr>\n",
       "      <th>3</th>\n",
       "      <td>yukos</td>\n",
       "      <td>{}</td>\n",
       "    </tr>\n",
       "    <tr>\n",
       "      <th>4</th>\n",
       "      <td>27</td>\n",
       "      <td>{}</td>\n",
       "    </tr>\n",
       "    <tr>\n",
       "      <th>...</th>\n",
       "      <td>...</td>\n",
       "      <td>...</td>\n",
       "    </tr>\n",
       "    <tr>\n",
       "      <th>934114</th>\n",
       "      <td>unlock</td>\n",
       "      <td>{reunlock, unlocker, ride_bicycle, unlockable,...</td>\n",
       "    </tr>\n",
       "    <tr>\n",
       "      <th>934115</th>\n",
       "      <td>hospice</td>\n",
       "      <td>{nonhospice, hospices}</td>\n",
       "    </tr>\n",
       "    <tr>\n",
       "      <th>934116</th>\n",
       "      <td>prformance</td>\n",
       "      <td>{}</td>\n",
       "    </tr>\n",
       "    <tr>\n",
       "      <th>934117</th>\n",
       "      <td>interlace</td>\n",
       "      <td>{deinterlace, interlacement, interlaced, inter...</td>\n",
       "    </tr>\n",
       "    <tr>\n",
       "      <th>934118</th>\n",
       "      <td>chilldren</td>\n",
       "      <td>{}</td>\n",
       "    </tr>\n",
       "  </tbody>\n",
       "</table>\n",
       "<p>934119 rows × 2 columns</p>\n",
       "</div>"
      ],
      "text/plain": [
       "              word                                            Hyponym\n",
       "0             sale  {telesale, auction, sales_target, sales_pitch,...\n",
       "1             make  {short_circuit, make_fray, premake, formake, p...\n",
       "2              pay  {refund, spend, payment, payless, paybook, pay...\n",
       "3            yukos                                                 {}\n",
       "4               27                                                 {}\n",
       "...            ...                                                ...\n",
       "934114      unlock  {reunlock, unlocker, ride_bicycle, unlockable,...\n",
       "934115     hospice                             {nonhospice, hospices}\n",
       "934116  prformance                                                 {}\n",
       "934117   interlace  {deinterlace, interlacement, interlaced, inter...\n",
       "934118   chilldren                                                 {}\n",
       "\n",
       "[934119 rows x 2 columns]"
      ]
     },
     "execution_count": 28,
     "metadata": {},
     "output_type": "execute_result"
    }
   ],
   "source": [
    "df_syn = df_syn.reset_index(drop=True)\n",
    "df_syn"
   ]
  },
  {
   "cell_type": "code",
   "execution_count": 29,
   "metadata": {
    "metadata": {}
   },
   "outputs": [],
   "source": [
    "for index,strings in df_syn.iterrows():\n",
    "    hyponimos[strings['word']]=strings['Hyponym']"
   ]
  },
  {
   "cell_type": "code",
   "execution_count": 30,
   "metadata": {
    "metadata": {}
   },
   "outputs": [
    {
     "data": {
      "text/plain": [
       "48755"
      ]
     },
     "execution_count": 30,
     "metadata": {},
     "output_type": "execute_result"
    }
   ],
   "source": [
    "len(hyponimos)"
   ]
  },
  {
   "cell_type": "code",
   "execution_count": 31,
   "metadata": {
    "metadata": {}
   },
   "outputs": [],
   "source": [
    "# actualizamos el dataframe de los conjuntos\n",
    "df = pd.DataFrame([[key, hyponimos[key]] for key in hyponimos.keys()], columns=['word', 'Hyponym'])\n",
    "df.to_pickle(\"salida/nuevo3/Hyponyms.pickle\")"
   ]
  },
  {
   "cell_type": "markdown",
   "metadata": {},
   "source": [
    "# Agregar sinonimos del corpus RTEGLUE"
   ]
  },
  {
   "cell_type": "code",
   "execution_count": 36,
   "metadata": {},
   "outputs": [],
   "source": [
    "dict_syns=dict()"
   ]
  },
  {
   "cell_type": "code",
   "execution_count": 37,
   "metadata": {},
   "outputs": [
    {
     "data": {
      "text/html": [
       "<div>\n",
       "<style scoped>\n",
       "    .dataframe tbody tr th:only-of-type {\n",
       "        vertical-align: middle;\n",
       "    }\n",
       "\n",
       "    .dataframe tbody tr th {\n",
       "        vertical-align: top;\n",
       "    }\n",
       "\n",
       "    .dataframe thead th {\n",
       "        text-align: right;\n",
       "    }\n",
       "</style>\n",
       "<table border=\"1\" class=\"dataframe\">\n",
       "  <thead>\n",
       "    <tr style=\"text-align: right;\">\n",
       "      <th></th>\n",
       "      <th>word</th>\n",
       "      <th>Synonym</th>\n",
       "    </tr>\n",
       "  </thead>\n",
       "  <tbody>\n",
       "    <tr>\n",
       "      <th>0</th>\n",
       "      <td>sale</td>\n",
       "      <td>{sale, sales_agreement, sales_event, cut_rate_...</td>\n",
       "    </tr>\n",
       "    <tr>\n",
       "      <th>1</th>\n",
       "      <td>make</td>\n",
       "      <td>{relieve_oneself, produce, urinate, pretend, p...</td>\n",
       "    </tr>\n",
       "    <tr>\n",
       "      <th>2</th>\n",
       "      <td>pay</td>\n",
       "      <td>{ante_up, compensate, pay_up, fee, remuneratio...</td>\n",
       "    </tr>\n",
       "    <tr>\n",
       "      <th>3</th>\n",
       "      <td>yukos</td>\n",
       "      <td>{yukos}</td>\n",
       "    </tr>\n",
       "    <tr>\n",
       "      <th>4</th>\n",
       "      <td>27</td>\n",
       "      <td>{27, twenty_seven, xxvii}</td>\n",
       "    </tr>\n",
       "    <tr>\n",
       "      <th>...</th>\n",
       "      <td>...</td>\n",
       "      <td>...</td>\n",
       "    </tr>\n",
       "    <tr>\n",
       "      <th>25176</th>\n",
       "      <td>hospice</td>\n",
       "      <td>{hospice}</td>\n",
       "    </tr>\n",
       "    <tr>\n",
       "      <th>25177</th>\n",
       "      <td>prformance</td>\n",
       "      <td>{prformance}</td>\n",
       "    </tr>\n",
       "    <tr>\n",
       "      <th>25178</th>\n",
       "      <td>interlace</td>\n",
       "      <td>{interlace, intertwine, lock}</td>\n",
       "    </tr>\n",
       "    <tr>\n",
       "      <th>25179</th>\n",
       "      <td>chilldren</td>\n",
       "      <td>{chilldren}</td>\n",
       "    </tr>\n",
       "    <tr>\n",
       "      <th>25180</th>\n",
       "      <td>absentmindedly</td>\n",
       "      <td>{inattentively, absently, absentmindedly, abst...</td>\n",
       "    </tr>\n",
       "  </tbody>\n",
       "</table>\n",
       "<p>25181 rows × 2 columns</p>\n",
       "</div>"
      ],
      "text/plain": [
       "                 word                                            Synonym\n",
       "0                sale  {sale, sales_agreement, sales_event, cut_rate_...\n",
       "1                make  {relieve_oneself, produce, urinate, pretend, p...\n",
       "2                 pay  {ante_up, compensate, pay_up, fee, remuneratio...\n",
       "3               yukos                                            {yukos}\n",
       "4                  27                          {27, twenty_seven, xxvii}\n",
       "...               ...                                                ...\n",
       "25176         hospice                                          {hospice}\n",
       "25177      prformance                                       {prformance}\n",
       "25178       interlace                      {interlace, intertwine, lock}\n",
       "25179       chilldren                                        {chilldren}\n",
       "25180  absentmindedly  {inattentively, absently, absentmindedly, abst...\n",
       "\n",
       "[25181 rows x 2 columns]"
      ]
     },
     "execution_count": 37,
     "metadata": {},
     "output_type": "execute_result"
    }
   ],
   "source": [
    "df_sinonimos=pd.read_pickle(\"salida/nuevo3/Synonyms.pickle\")\n",
    "df_sinonimos"
   ]
  },
  {
   "cell_type": "code",
   "execution_count": 38,
   "metadata": {},
   "outputs": [],
   "source": [
    "for index,strings in df_sinonimos.iterrows():\n",
    "    dict_syns[strings['word']]=strings['Synonym']"
   ]
  },
  {
   "cell_type": "code",
   "execution_count": 39,
   "metadata": {},
   "outputs": [],
   "source": [
    "for i in range(1):\n",
    "    if i==0:\n",
    "        df_syn = pd.read_pickle('salida/nuevo3/RTEGLUE/TRAIN_'+str(i+1)+'.csv_Synonym.pickle')\n",
    "    else:\n",
    "        try:\n",
    "            temp = pd.read_pickle('salida/nuevo3/RTEGLUE/TRAIN_'+str(i+1)+'.csv_Synonym.pickle')\n",
    "            df_syn=pd.concat([df_syn,temp])\n",
    "        except:\n",
    "            pass"
   ]
  },
  {
   "cell_type": "code",
   "execution_count": 40,
   "metadata": {},
   "outputs": [],
   "source": [
    "for i in range(1):\n",
    "    try:\n",
    "        temp = pd.read_pickle('salida/nuevo3/RTEGLUE/DEV_'+str(i+1)+'.csv_Synonym.pickle')\n",
    "        df_syn=pd.concat([df_syn,temp])\n",
    "    except:\n",
    "        pass"
   ]
  },
  {
   "cell_type": "code",
   "execution_count": 41,
   "metadata": {},
   "outputs": [
    {
     "data": {
      "text/html": [
       "<div>\n",
       "<style scoped>\n",
       "    .dataframe tbody tr th:only-of-type {\n",
       "        vertical-align: middle;\n",
       "    }\n",
       "\n",
       "    .dataframe tbody tr th {\n",
       "        vertical-align: top;\n",
       "    }\n",
       "\n",
       "    .dataframe thead th {\n",
       "        text-align: right;\n",
       "    }\n",
       "</style>\n",
       "<table border=\"1\" class=\"dataframe\">\n",
       "  <thead>\n",
       "    <tr style=\"text-align: right;\">\n",
       "      <th></th>\n",
       "      <th>word</th>\n",
       "      <th>Synonym</th>\n",
       "    </tr>\n",
       "  </thead>\n",
       "  <tbody>\n",
       "    <tr>\n",
       "      <th>0</th>\n",
       "      <td>sale</td>\n",
       "      <td>{sale, sales_agreement, sales_event, cut_rate_...</td>\n",
       "    </tr>\n",
       "    <tr>\n",
       "      <th>1</th>\n",
       "      <td>make</td>\n",
       "      <td>{relieve_oneself, produce, urinate, pretend, p...</td>\n",
       "    </tr>\n",
       "    <tr>\n",
       "      <th>2</th>\n",
       "      <td>pay</td>\n",
       "      <td>{ante_up, compensate, pay_up, fee, remuneratio...</td>\n",
       "    </tr>\n",
       "    <tr>\n",
       "      <th>3</th>\n",
       "      <td>yukos</td>\n",
       "      <td>{yukos}</td>\n",
       "    </tr>\n",
       "    <tr>\n",
       "      <th>4</th>\n",
       "      <td>27</td>\n",
       "      <td>{27, twenty_seven, xxvii}</td>\n",
       "    </tr>\n",
       "    <tr>\n",
       "      <th>...</th>\n",
       "      <td>...</td>\n",
       "      <td>...</td>\n",
       "    </tr>\n",
       "    <tr>\n",
       "      <th>54447</th>\n",
       "      <td>regimen</td>\n",
       "      <td>{medicine, regimen, regime}</td>\n",
       "    </tr>\n",
       "    <tr>\n",
       "      <th>54448</th>\n",
       "      <td>ljubljana</td>\n",
       "      <td>{ljubljana}</td>\n",
       "    </tr>\n",
       "    <tr>\n",
       "      <th>54449</th>\n",
       "      <td>kozlowski</td>\n",
       "      <td>{kozlowski}</td>\n",
       "    </tr>\n",
       "    <tr>\n",
       "      <th>54450</th>\n",
       "      <td>swartz</td>\n",
       "      <td>{swartz}</td>\n",
       "    </tr>\n",
       "    <tr>\n",
       "      <th>54451</th>\n",
       "      <td>parkin</td>\n",
       "      <td>{parkin}</td>\n",
       "    </tr>\n",
       "  </tbody>\n",
       "</table>\n",
       "<p>54452 rows × 2 columns</p>\n",
       "</div>"
      ],
      "text/plain": [
       "            word                                            Synonym\n",
       "0           sale  {sale, sales_agreement, sales_event, cut_rate_...\n",
       "1           make  {relieve_oneself, produce, urinate, pretend, p...\n",
       "2            pay  {ante_up, compensate, pay_up, fee, remuneratio...\n",
       "3          yukos                                            {yukos}\n",
       "4             27                          {27, twenty_seven, xxvii}\n",
       "...          ...                                                ...\n",
       "54447    regimen                        {medicine, regimen, regime}\n",
       "54448  ljubljana                                        {ljubljana}\n",
       "54449  kozlowski                                        {kozlowski}\n",
       "54450     swartz                                           {swartz}\n",
       "54451     parkin                                           {parkin}\n",
       "\n",
       "[54452 rows x 2 columns]"
      ]
     },
     "execution_count": 41,
     "metadata": {},
     "output_type": "execute_result"
    }
   ],
   "source": [
    "df_syn = df_syn.reset_index(drop=True)\n",
    "df_syn"
   ]
  },
  {
   "cell_type": "code",
   "execution_count": 42,
   "metadata": {},
   "outputs": [],
   "source": [
    "for index,strings in df_syn.iterrows():\n",
    "    dict_syns[strings['word']]=strings['Synonym']"
   ]
  },
  {
   "cell_type": "code",
   "execution_count": 43,
   "metadata": {},
   "outputs": [
    {
     "data": {
      "text/plain": [
       "29102"
      ]
     },
     "execution_count": 43,
     "metadata": {},
     "output_type": "execute_result"
    }
   ],
   "source": [
    "len(dict_syns)"
   ]
  },
  {
   "cell_type": "code",
   "execution_count": 44,
   "metadata": {},
   "outputs": [],
   "source": [
    "# actualizamos el dataframe de los conjuntos\n",
    "df = pd.DataFrame([[key, dict_syns[key]] for key in dict_syns.keys()], columns=['word', 'Synonym'])\n",
    "df.to_pickle(\"salida/nuevo3/Synonyms.pickle\")"
   ]
  },
  {
   "cell_type": "markdown",
   "metadata": {},
   "source": [
    "# Agregar hiperonimos del RTEGLUE"
   ]
  },
  {
   "cell_type": "code",
   "execution_count": 45,
   "metadata": {},
   "outputs": [],
   "source": [
    "hyperonimos=dict()"
   ]
  },
  {
   "cell_type": "code",
   "execution_count": 46,
   "metadata": {},
   "outputs": [
    {
     "data": {
      "text/html": [
       "<div>\n",
       "<style scoped>\n",
       "    .dataframe tbody tr th:only-of-type {\n",
       "        vertical-align: middle;\n",
       "    }\n",
       "\n",
       "    .dataframe tbody tr th {\n",
       "        vertical-align: top;\n",
       "    }\n",
       "\n",
       "    .dataframe thead th {\n",
       "        text-align: right;\n",
       "    }\n",
       "</style>\n",
       "<table border=\"1\" class=\"dataframe\">\n",
       "  <thead>\n",
       "    <tr style=\"text-align: right;\">\n",
       "      <th></th>\n",
       "      <th>word</th>\n",
       "      <th>Hyperonym</th>\n",
       "    </tr>\n",
       "  </thead>\n",
       "  <tbody>\n",
       "    <tr>\n",
       "      <th>0</th>\n",
       "      <td>sale</td>\n",
       "      <td>{discount, for_sell, occasion, cheap_price, di...</td>\n",
       "    </tr>\n",
       "    <tr>\n",
       "      <th>1</th>\n",
       "      <td>make</td>\n",
       "      <td>{general, see, brand, car, be, indicate, stuff...</td>\n",
       "    </tr>\n",
       "    <tr>\n",
       "      <th>2</th>\n",
       "      <td>pay</td>\n",
       "      <td>{money_for, employment, buying_things, work_fo...</td>\n",
       "    </tr>\n",
       "    <tr>\n",
       "      <th>3</th>\n",
       "      <td>yukos</td>\n",
       "      <td>{yuko, company}</td>\n",
       "    </tr>\n",
       "    <tr>\n",
       "      <th>4</th>\n",
       "      <td>27</td>\n",
       "      <td>{}</td>\n",
       "    </tr>\n",
       "    <tr>\n",
       "      <th>...</th>\n",
       "      <td>...</td>\n",
       "      <td>...</td>\n",
       "    </tr>\n",
       "    <tr>\n",
       "      <th>42585</th>\n",
       "      <td>daffo</td>\n",
       "      <td>{}</td>\n",
       "    </tr>\n",
       "    <tr>\n",
       "      <th>42586</th>\n",
       "      <td>research_octane_number</td>\n",
       "      <td>{antiknock, octane_number, octane_rating}</td>\n",
       "    </tr>\n",
       "    <tr>\n",
       "      <th>42587</th>\n",
       "      <td>hospice</td>\n",
       "      <td>{monastic, housing, medical_care, order, lodgi...</td>\n",
       "    </tr>\n",
       "    <tr>\n",
       "      <th>42588</th>\n",
       "      <td>prformance</td>\n",
       "      <td>{}</td>\n",
       "    </tr>\n",
       "    <tr>\n",
       "      <th>42589</th>\n",
       "      <td>chilldren</td>\n",
       "      <td>{}</td>\n",
       "    </tr>\n",
       "  </tbody>\n",
       "</table>\n",
       "<p>42590 rows × 2 columns</p>\n",
       "</div>"
      ],
      "text/plain": [
       "                         word  \\\n",
       "0                        sale   \n",
       "1                        make   \n",
       "2                         pay   \n",
       "3                       yukos   \n",
       "4                          27   \n",
       "...                       ...   \n",
       "42585                   daffo   \n",
       "42586  research_octane_number   \n",
       "42587                 hospice   \n",
       "42588              prformance   \n",
       "42589               chilldren   \n",
       "\n",
       "                                               Hyperonym  \n",
       "0      {discount, for_sell, occasion, cheap_price, di...  \n",
       "1      {general, see, brand, car, be, indicate, stuff...  \n",
       "2      {money_for, employment, buying_things, work_fo...  \n",
       "3                                        {yuko, company}  \n",
       "4                                                     {}  \n",
       "...                                                  ...  \n",
       "42585                                                 {}  \n",
       "42586          {antiknock, octane_number, octane_rating}  \n",
       "42587  {monastic, housing, medical_care, order, lodgi...  \n",
       "42588                                                 {}  \n",
       "42589                                                 {}  \n",
       "\n",
       "[42590 rows x 2 columns]"
      ]
     },
     "execution_count": 46,
     "metadata": {},
     "output_type": "execute_result"
    }
   ],
   "source": [
    "df_hyp=pd.read_pickle(\"salida/nuevo3/Hyperonyms.pickle\")\n",
    "df_hyp"
   ]
  },
  {
   "cell_type": "code",
   "execution_count": 47,
   "metadata": {},
   "outputs": [],
   "source": [
    "for index,strings in df_hyp.iterrows():\n",
    "    hyperonimos[strings['word']]=strings['Hyperonym']"
   ]
  },
  {
   "cell_type": "code",
   "execution_count": 48,
   "metadata": {},
   "outputs": [
    {
     "data": {
      "text/plain": [
       "42590"
      ]
     },
     "execution_count": 48,
     "metadata": {},
     "output_type": "execute_result"
    }
   ],
   "source": [
    "len(hyperonimos)"
   ]
  },
  {
   "cell_type": "code",
   "execution_count": 49,
   "metadata": {},
   "outputs": [],
   "source": [
    "for i in range(1):\n",
    "    if i==0:\n",
    "        df_syn = pd.read_pickle('salida/nuevo3/RTEGLUE/TRAIN_'+str(i+1)+'.csv_Hyperonym.pickle')\n",
    "    else:\n",
    "        try:\n",
    "            temp = pd.read_pickle('salida/nuevo3/RTEGLUE/TRAIN_'+str(i+1)+'.csv_Hyperonym.pickle')\n",
    "            df_syn=pd.concat([df_syn,temp])\n",
    "        except:\n",
    "            pass"
   ]
  },
  {
   "cell_type": "code",
   "execution_count": 50,
   "metadata": {},
   "outputs": [],
   "source": [
    "for i in range(1):\n",
    "    try:\n",
    "        temp = pd.read_pickle('salida/nuevo3/RTEGLUE/DEV_'+str(i+1)+'.csv_Hyperonym.pickle')\n",
    "        df_syn=pd.concat([df_syn,temp])\n",
    "    except:\n",
    "        pass"
   ]
  },
  {
   "cell_type": "code",
   "execution_count": 51,
   "metadata": {},
   "outputs": [
    {
     "data": {
      "text/html": [
       "<div>\n",
       "<style scoped>\n",
       "    .dataframe tbody tr th:only-of-type {\n",
       "        vertical-align: middle;\n",
       "    }\n",
       "\n",
       "    .dataframe tbody tr th {\n",
       "        vertical-align: top;\n",
       "    }\n",
       "\n",
       "    .dataframe thead th {\n",
       "        text-align: right;\n",
       "    }\n",
       "</style>\n",
       "<table border=\"1\" class=\"dataframe\">\n",
       "  <thead>\n",
       "    <tr style=\"text-align: right;\">\n",
       "      <th></th>\n",
       "      <th>word</th>\n",
       "      <th>Hyperonym</th>\n",
       "    </tr>\n",
       "  </thead>\n",
       "  <tbody>\n",
       "    <tr>\n",
       "      <th>0</th>\n",
       "      <td>sale</td>\n",
       "      <td>{discount, for_sell, occasion, cheap_price, di...</td>\n",
       "    </tr>\n",
       "    <tr>\n",
       "      <th>1</th>\n",
       "      <td>make</td>\n",
       "      <td>{general, see, brand, car, indicate, stuff, be...</td>\n",
       "    </tr>\n",
       "    <tr>\n",
       "      <th>2</th>\n",
       "      <td>pay</td>\n",
       "      <td>{money_for, employment, buying_things, work_fo...</td>\n",
       "    </tr>\n",
       "    <tr>\n",
       "      <th>3</th>\n",
       "      <td>yukos</td>\n",
       "      <td>{yuko, company}</td>\n",
       "    </tr>\n",
       "    <tr>\n",
       "      <th>4</th>\n",
       "      <td>27</td>\n",
       "      <td>{}</td>\n",
       "    </tr>\n",
       "    <tr>\n",
       "      <th>...</th>\n",
       "      <td>...</td>\n",
       "      <td>...</td>\n",
       "    </tr>\n",
       "    <tr>\n",
       "      <th>89269</th>\n",
       "      <td>as_often_as_not</td>\n",
       "      <td>{frequently, more_often_than_not, always, ofte...</td>\n",
       "    </tr>\n",
       "    <tr>\n",
       "      <th>89270</th>\n",
       "      <td>ljubljana</td>\n",
       "      <td>{city, slovenia}</td>\n",
       "    </tr>\n",
       "    <tr>\n",
       "      <th>89271</th>\n",
       "      <td>kozlowski</td>\n",
       "      <td>{}</td>\n",
       "    </tr>\n",
       "    <tr>\n",
       "      <th>89272</th>\n",
       "      <td>swartz</td>\n",
       "      <td>{}</td>\n",
       "    </tr>\n",
       "    <tr>\n",
       "      <th>89273</th>\n",
       "      <td>parkin</td>\n",
       "      <td>{oatmeal, protein, parkinson, traditional, par...</td>\n",
       "    </tr>\n",
       "  </tbody>\n",
       "</table>\n",
       "<p>89274 rows × 2 columns</p>\n",
       "</div>"
      ],
      "text/plain": [
       "                  word                                          Hyperonym\n",
       "0                 sale  {discount, for_sell, occasion, cheap_price, di...\n",
       "1                 make  {general, see, brand, car, indicate, stuff, be...\n",
       "2                  pay  {money_for, employment, buying_things, work_fo...\n",
       "3                yukos                                    {yuko, company}\n",
       "4                   27                                                 {}\n",
       "...                ...                                                ...\n",
       "89269  as_often_as_not  {frequently, more_often_than_not, always, ofte...\n",
       "89270        ljubljana                                   {city, slovenia}\n",
       "89271        kozlowski                                                 {}\n",
       "89272           swartz                                                 {}\n",
       "89273           parkin  {oatmeal, protein, parkinson, traditional, par...\n",
       "\n",
       "[89274 rows x 2 columns]"
      ]
     },
     "execution_count": 51,
     "metadata": {},
     "output_type": "execute_result"
    }
   ],
   "source": [
    "df_syn = df_syn.reset_index(drop=True)\n",
    "df_syn"
   ]
  },
  {
   "cell_type": "code",
   "execution_count": 52,
   "metadata": {},
   "outputs": [],
   "source": [
    "for index,strings in df_syn.iterrows():\n",
    "    hyperonimos[strings['word']]=strings['Hyperonym']"
   ]
  },
  {
   "cell_type": "code",
   "execution_count": 53,
   "metadata": {},
   "outputs": [
    {
     "data": {
      "text/plain": [
       "46524"
      ]
     },
     "execution_count": 53,
     "metadata": {},
     "output_type": "execute_result"
    }
   ],
   "source": [
    "len(hyperonimos)"
   ]
  },
  {
   "cell_type": "code",
   "execution_count": 54,
   "metadata": {},
   "outputs": [],
   "source": [
    "# actualizamos el dataframe de los conjuntos\n",
    "df = pd.DataFrame([[key, hyperonimos[key]] for key in hyperonimos.keys()], columns=['word', 'Hyperonym'])\n",
    "df.to_pickle(\"salida/nuevo3/Hyperonyms.pickle\")"
   ]
  },
  {
   "cell_type": "markdown",
   "metadata": {},
   "source": [
    "# agregar hiponimos del RTEGLUE"
   ]
  },
  {
   "cell_type": "code",
   "execution_count": 55,
   "metadata": {},
   "outputs": [],
   "source": [
    "hyponimos=dict()"
   ]
  },
  {
   "cell_type": "code",
   "execution_count": 56,
   "metadata": {},
   "outputs": [
    {
     "data": {
      "text/html": [
       "<div>\n",
       "<style scoped>\n",
       "    .dataframe tbody tr th:only-of-type {\n",
       "        vertical-align: middle;\n",
       "    }\n",
       "\n",
       "    .dataframe tbody tr th {\n",
       "        vertical-align: top;\n",
       "    }\n",
       "\n",
       "    .dataframe thead th {\n",
       "        text-align: right;\n",
       "    }\n",
       "</style>\n",
       "<table border=\"1\" class=\"dataframe\">\n",
       "  <thead>\n",
       "    <tr style=\"text-align: right;\">\n",
       "      <th></th>\n",
       "      <th>word</th>\n",
       "      <th>Hyponym</th>\n",
       "    </tr>\n",
       "  </thead>\n",
       "  <tbody>\n",
       "    <tr>\n",
       "      <th>0</th>\n",
       "      <td>sale</td>\n",
       "      <td>{sales_pitch, yardsale, conditional_sale, for_...</td>\n",
       "    </tr>\n",
       "    <tr>\n",
       "      <th>1</th>\n",
       "      <td>make</td>\n",
       "      <td>{press, meck, mackly, overdo, render, construc...</td>\n",
       "    </tr>\n",
       "    <tr>\n",
       "      <th>2</th>\n",
       "      <td>pay</td>\n",
       "      <td>{kick_back, pay_up, paysite, payrise, payline,...</td>\n",
       "    </tr>\n",
       "    <tr>\n",
       "      <th>3</th>\n",
       "      <td>yukos</td>\n",
       "      <td>{}</td>\n",
       "    </tr>\n",
       "    <tr>\n",
       "      <th>4</th>\n",
       "      <td>27</td>\n",
       "      <td>{}</td>\n",
       "    </tr>\n",
       "    <tr>\n",
       "      <th>...</th>\n",
       "      <td>...</td>\n",
       "      <td>...</td>\n",
       "    </tr>\n",
       "    <tr>\n",
       "      <th>48750</th>\n",
       "      <td>libertarian</td>\n",
       "      <td>{nonlibertarian, glibertarian, liberaltarian, ...</td>\n",
       "    </tr>\n",
       "    <tr>\n",
       "      <th>48751</th>\n",
       "      <td>eleutheromaniac</td>\n",
       "      <td>{eleutheromaniacs}</td>\n",
       "    </tr>\n",
       "    <tr>\n",
       "      <th>48752</th>\n",
       "      <td>hospice</td>\n",
       "      <td>{nonhospice, hospices}</td>\n",
       "    </tr>\n",
       "    <tr>\n",
       "      <th>48753</th>\n",
       "      <td>prformance</td>\n",
       "      <td>{}</td>\n",
       "    </tr>\n",
       "    <tr>\n",
       "      <th>48754</th>\n",
       "      <td>chilldren</td>\n",
       "      <td>{}</td>\n",
       "    </tr>\n",
       "  </tbody>\n",
       "</table>\n",
       "<p>48755 rows × 2 columns</p>\n",
       "</div>"
      ],
      "text/plain": [
       "                  word                                            Hyponym\n",
       "0                 sale  {sales_pitch, yardsale, conditional_sale, for_...\n",
       "1                 make  {press, meck, mackly, overdo, render, construc...\n",
       "2                  pay  {kick_back, pay_up, paysite, payrise, payline,...\n",
       "3                yukos                                                 {}\n",
       "4                   27                                                 {}\n",
       "...                ...                                                ...\n",
       "48750      libertarian  {nonlibertarian, glibertarian, liberaltarian, ...\n",
       "48751  eleutheromaniac                                 {eleutheromaniacs}\n",
       "48752          hospice                             {nonhospice, hospices}\n",
       "48753       prformance                                                 {}\n",
       "48754        chilldren                                                 {}\n",
       "\n",
       "[48755 rows x 2 columns]"
      ]
     },
     "execution_count": 56,
     "metadata": {},
     "output_type": "execute_result"
    }
   ],
   "source": [
    "df_hyp=pd.read_pickle(\"salida/nuevo3/Hyponyms.pickle\")\n",
    "df_hyp"
   ]
  },
  {
   "cell_type": "code",
   "execution_count": 57,
   "metadata": {},
   "outputs": [],
   "source": [
    "for index,strings in df_hyp.iterrows():\n",
    "    hyponimos[strings['word']]=strings['Hyponym']"
   ]
  },
  {
   "cell_type": "code",
   "execution_count": 58,
   "metadata": {},
   "outputs": [
    {
     "data": {
      "text/plain": [
       "48755"
      ]
     },
     "execution_count": 58,
     "metadata": {},
     "output_type": "execute_result"
    }
   ],
   "source": [
    "len(hyponimos)"
   ]
  },
  {
   "cell_type": "code",
   "execution_count": 63,
   "metadata": {},
   "outputs": [],
   "source": [
    "for i in range(1):\n",
    "    if i==0:\n",
    "        df_syn = pd.read_pickle('salida/nuevo3/RTEGLUE/TRAIN_'+str(i+1)+'.csv_Hyponym.pickle')\n",
    "    else:\n",
    "        try:\n",
    "            temp = pd.read_pickle('salida/nuevo3/RTEGLUE/TRAIN_'+str(i+1)+'.csv_Hyponym.pickle')\n",
    "            df_syn=pd.concat([df_syn,temp])\n",
    "        except:\n",
    "            pass"
   ]
  },
  {
   "cell_type": "code",
   "execution_count": 64,
   "metadata": {},
   "outputs": [],
   "source": [
    "for i in range(1):\n",
    "    try:\n",
    "        temp = pd.read_pickle('salida/nuevo3/RTEGLUE/DEV_'+str(i+1)+'.csv_Hyponym.pickle')\n",
    "        df_syn=pd.concat([df_syn,temp])\n",
    "    except:\n",
    "        pass"
   ]
  },
  {
   "cell_type": "code",
   "execution_count": 65,
   "metadata": {},
   "outputs": [
    {
     "data": {
      "text/html": [
       "<div>\n",
       "<style scoped>\n",
       "    .dataframe tbody tr th:only-of-type {\n",
       "        vertical-align: middle;\n",
       "    }\n",
       "\n",
       "    .dataframe tbody tr th {\n",
       "        vertical-align: top;\n",
       "    }\n",
       "\n",
       "    .dataframe thead th {\n",
       "        text-align: right;\n",
       "    }\n",
       "</style>\n",
       "<table border=\"1\" class=\"dataframe\">\n",
       "  <thead>\n",
       "    <tr style=\"text-align: right;\">\n",
       "      <th></th>\n",
       "      <th>word</th>\n",
       "      <th>Hyponym</th>\n",
       "    </tr>\n",
       "  </thead>\n",
       "  <tbody>\n",
       "    <tr>\n",
       "      <th>0</th>\n",
       "      <td>sale</td>\n",
       "      <td>{sales_pitch, yardsale, conditional_sale, for_...</td>\n",
       "    </tr>\n",
       "    <tr>\n",
       "      <th>1</th>\n",
       "      <td>make</td>\n",
       "      <td>{press, meck, mackly, overdo, construct, rende...</td>\n",
       "    </tr>\n",
       "    <tr>\n",
       "      <th>2</th>\n",
       "      <td>pay</td>\n",
       "      <td>{kick_back, pay_up, paysite, payrise, payline,...</td>\n",
       "    </tr>\n",
       "    <tr>\n",
       "      <th>3</th>\n",
       "      <td>yukos</td>\n",
       "      <td>{}</td>\n",
       "    </tr>\n",
       "    <tr>\n",
       "      <th>4</th>\n",
       "      <td>27</td>\n",
       "      <td>{}</td>\n",
       "    </tr>\n",
       "    <tr>\n",
       "      <th>...</th>\n",
       "      <td>...</td>\n",
       "      <td>...</td>\n",
       "    </tr>\n",
       "    <tr>\n",
       "      <th>101201</th>\n",
       "      <td>ljubljana</td>\n",
       "      <td>{ljubljanan, lyublyana}</td>\n",
       "    </tr>\n",
       "    <tr>\n",
       "      <th>101202</th>\n",
       "      <td>fantan</td>\n",
       "      <td>{}</td>\n",
       "    </tr>\n",
       "    <tr>\n",
       "      <th>101203</th>\n",
       "      <td>kozlowski</td>\n",
       "      <td>{}</td>\n",
       "    </tr>\n",
       "    <tr>\n",
       "      <th>101204</th>\n",
       "      <td>swartz</td>\n",
       "      <td>{swartzite}</td>\n",
       "    </tr>\n",
       "    <tr>\n",
       "      <th>101205</th>\n",
       "      <td>parkin</td>\n",
       "      <td>{parkins}</td>\n",
       "    </tr>\n",
       "  </tbody>\n",
       "</table>\n",
       "<p>101206 rows × 2 columns</p>\n",
       "</div>"
      ],
      "text/plain": [
       "             word                                            Hyponym\n",
       "0            sale  {sales_pitch, yardsale, conditional_sale, for_...\n",
       "1            make  {press, meck, mackly, overdo, construct, rende...\n",
       "2             pay  {kick_back, pay_up, paysite, payrise, payline,...\n",
       "3           yukos                                                 {}\n",
       "4              27                                                 {}\n",
       "...           ...                                                ...\n",
       "101201  ljubljana                            {ljubljanan, lyublyana}\n",
       "101202     fantan                                                 {}\n",
       "101203  kozlowski                                                 {}\n",
       "101204     swartz                                        {swartzite}\n",
       "101205     parkin                                          {parkins}\n",
       "\n",
       "[101206 rows x 2 columns]"
      ]
     },
     "execution_count": 65,
     "metadata": {},
     "output_type": "execute_result"
    }
   ],
   "source": [
    "df_syn = df_syn.reset_index(drop=True)\n",
    "df_syn"
   ]
  },
  {
   "cell_type": "code",
   "execution_count": 66,
   "metadata": {},
   "outputs": [],
   "source": [
    "for index,strings in df_syn.iterrows():\n",
    "    hyponimos[strings['word']]=strings['Hyponym']"
   ]
  },
  {
   "cell_type": "code",
   "execution_count": 67,
   "metadata": {},
   "outputs": [
    {
     "data": {
      "text/plain": [
       "52310"
      ]
     },
     "execution_count": 67,
     "metadata": {},
     "output_type": "execute_result"
    }
   ],
   "source": [
    "len(hyponimos)"
   ]
  },
  {
   "cell_type": "code",
   "execution_count": 68,
   "metadata": {},
   "outputs": [],
   "source": [
    "# actualizamos el dataframe de los conjuntos\n",
    "df = pd.DataFrame([[key, hyponimos[key]] for key in hyponimos.keys()], columns=['word', 'Hyponym'])\n",
    "df.to_pickle(\"salida/nuevo3/Hyponyms.pickle\")"
   ]
  }
 ],
 "metadata": {
  "kernelspec": {
   "display_name": "rit",
   "language": "python",
   "name": "python3"
  },
  "language_info": {
   "codemirror_mode": {
    "name": "ipython",
    "version": 3
   },
   "file_extension": ".py",
   "mimetype": "text/x-python",
   "name": "python",
   "nbconvert_exporter": "python",
   "pygments_lexer": "ipython3",
   "version": "3.9.13"
  }
 },
 "nbformat": 4,
 "nbformat_minor": 2
}
