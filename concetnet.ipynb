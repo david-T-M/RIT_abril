{
 "cells": [
  {
   "cell_type": "code",
   "execution_count": 1,
   "metadata": {},
   "outputs": [],
   "source": [
    "import conceptnet_lite\n",
    "conceptnet_lite.connect(\"../OPENAI/data/conceptnet.db\")"
   ]
  },
  {
   "cell_type": "code",
   "execution_count": 2,
   "metadata": {},
   "outputs": [
    {
     "name": "stdout",
     "output_type": "stream",
     "text": [
      "yes\n"
     ]
    }
   ],
   "source": [
    "from conceptnet_lite import Label, edges_for\n",
    "if(Label.get(text='bloodred', language='en').concepts):\n",
    "    print(\"yes\")"
   ]
  },
  {
   "cell_type": "code",
   "execution_count": 3,
   "metadata": {},
   "outputs": [
    {
     "name": "stdout",
     "output_type": "stream",
     "text": [
      "SELECT \"t1\".\"id\", \"t1\".\"label_id\", \"t1\".\"sense_label\" FROM \"concept\" AS \"t1\" WHERE (\"t1\".\"label_id\" = 1483978)\n"
     ]
    }
   ],
   "source": [
    "concepts = Label.get(text='bloodred', language='en').concepts\n",
    "print(concepts)"
   ]
  },
  {
   "cell_type": "code",
   "execution_count": 4,
   "metadata": {},
   "outputs": [],
   "source": [
    "from conceptnet_lite import Concept\n",
    "concept_object = Concept.get(uri='/c/en/bloodred')"
   ]
  },
  {
   "cell_type": "code",
   "execution_count": 5,
   "metadata": {},
   "outputs": [
    {
     "name": "stdout",
     "output_type": "stream",
     "text": [
      "/c/en/bloodred\n"
     ]
    }
   ],
   "source": [
    "print(concept_object)"
   ]
  },
  {
   "cell_type": "code",
   "execution_count": 6,
   "metadata": {},
   "outputs": [],
   "source": [
    "relaciones_generales=[\"is_a\",\"etymologically_related_to\",\"manner_of\",\"has_a\",\"derived_from\",\"has_property\",\"form_of\",\"causes\",\"has_prerequisite\",\"has_subevent\",\"has_first_subevent\"]"
   ]
  },
  {
   "cell_type": "code",
   "execution_count": 142,
   "metadata": {},
   "outputs": [
    {
     "ename": "LabelDoesNotExist",
     "evalue": "<Model: Label> instance matching query does not exist:\nSQL: SELECT \"t1\".\"id\", \"t1\".\"text\", \"t1\".\"language_id\" FROM \"label\" AS \"t1\" WHERE ((\"t1\".\"language_id\" = ?) AND (\"t1\".\"text\" = ?)) LIMIT ? OFFSET ?\nParams: [30, 'chiper', 1, 0]",
     "output_type": "error",
     "traceback": [
      "\u001b[0;31m---------------------------------------------------------------------------\u001b[0m",
      "\u001b[0;31mIndexError\u001b[0m                                Traceback (most recent call last)",
      "File \u001b[0;32m~/anaconda3/envs/rit/lib/python3.9/site-packages/peewee.py:7160\u001b[0m, in \u001b[0;36mBaseModelSelect.get\u001b[0;34m(self, database)\u001b[0m\n\u001b[1;32m   7159\u001b[0m \u001b[38;5;28;01mtry\u001b[39;00m:\n\u001b[0;32m-> 7160\u001b[0m     \u001b[38;5;28;01mreturn\u001b[39;00m \u001b[43mclone\u001b[49m\u001b[38;5;241;43m.\u001b[39;49m\u001b[43mexecute\u001b[49m\u001b[43m(\u001b[49m\u001b[43mdatabase\u001b[49m\u001b[43m)\u001b[49m\u001b[43m[\u001b[49m\u001b[38;5;241;43m0\u001b[39;49m\u001b[43m]\u001b[49m\n\u001b[1;32m   7161\u001b[0m \u001b[38;5;28;01mexcept\u001b[39;00m \u001b[38;5;167;01mIndexError\u001b[39;00m:\n",
      "File \u001b[0;32m~/anaconda3/envs/rit/lib/python3.9/site-packages/peewee.py:4510\u001b[0m, in \u001b[0;36mCursorWrapper.__getitem__\u001b[0;34m(self, item)\u001b[0m\n\u001b[1;32m   4509\u001b[0m     \u001b[38;5;28mself\u001b[39m\u001b[38;5;241m.\u001b[39mfill_cache(item \u001b[38;5;28;01mif\u001b[39;00m item \u001b[38;5;241m>\u001b[39m \u001b[38;5;241m0\u001b[39m \u001b[38;5;28;01melse\u001b[39;00m \u001b[38;5;241m0\u001b[39m)\n\u001b[0;32m-> 4510\u001b[0m     \u001b[38;5;28;01mreturn\u001b[39;00m \u001b[38;5;28;43mself\u001b[39;49m\u001b[38;5;241;43m.\u001b[39;49m\u001b[43mrow_cache\u001b[49m\u001b[43m[\u001b[49m\u001b[43mitem\u001b[49m\u001b[43m]\u001b[49m\n\u001b[1;32m   4511\u001b[0m \u001b[38;5;28;01melse\u001b[39;00m:\n",
      "\u001b[0;31mIndexError\u001b[0m: list index out of range",
      "\nDuring handling of the above exception, another exception occurred:\n",
      "\u001b[0;31mLabelDoesNotExist\u001b[0m                         Traceback (most recent call last)",
      "Cell \u001b[0;32mIn[142], line 4\u001b[0m\n\u001b[1;32m      2\u001b[0m wt\u001b[38;5;241m=\u001b[39m\u001b[38;5;124m\"\u001b[39m\u001b[38;5;124mchiper\u001b[39m\u001b[38;5;124m\"\u001b[39m\n\u001b[1;32m      3\u001b[0m wh\u001b[38;5;241m=\u001b[39m\u001b[38;5;124m\"\u001b[39m\u001b[38;5;124mwoman\u001b[39m\u001b[38;5;124m\"\u001b[39m\n\u001b[0;32m----> 4\u001b[0m concepts_wt \u001b[38;5;241m=\u001b[39m \u001b[43mLabel\u001b[49m\u001b[38;5;241;43m.\u001b[39;49m\u001b[43mget\u001b[49m\u001b[43m(\u001b[49m\u001b[43mtext\u001b[49m\u001b[38;5;241;43m=\u001b[39;49m\u001b[43mwt\u001b[49m\u001b[43m,\u001b[49m\u001b[43m \u001b[49m\u001b[43mlanguage\u001b[49m\u001b[38;5;241;43m=\u001b[39;49m\u001b[38;5;124;43m'\u001b[39;49m\u001b[38;5;124;43men\u001b[39;49m\u001b[38;5;124;43m'\u001b[39;49m\u001b[43m)\u001b[49m\u001b[38;5;241m.\u001b[39mconcepts\n\u001b[1;32m      5\u001b[0m concepts_wh \u001b[38;5;241m=\u001b[39m Label\u001b[38;5;241m.\u001b[39mget(text\u001b[38;5;241m=\u001b[39mwh, language\u001b[38;5;241m=\u001b[39m\u001b[38;5;124m'\u001b[39m\u001b[38;5;124men\u001b[39m\u001b[38;5;124m'\u001b[39m)\u001b[38;5;241m.\u001b[39mconcepts\n\u001b[1;32m      6\u001b[0m \u001b[38;5;28;01mfor\u001b[39;00m e \u001b[38;5;129;01min\u001b[39;00m edges_between(concepts_wt, concepts_wh,two_way\u001b[38;5;241m=\u001b[39m\u001b[38;5;28;01mTrue\u001b[39;00m):\n\u001b[1;32m      7\u001b[0m     \u001b[38;5;66;03m#if wt == e.start.text and e.relation.name in relaciones_generales:\u001b[39;00m\n",
      "File \u001b[0;32m~/anaconda3/envs/rit/lib/python3.9/site-packages/conceptnet_lite/db.py:118\u001b[0m, in \u001b[0;36mLabel.get\u001b[0;34m(cls, *query, **filters)\u001b[0m\n\u001b[1;32m    116\u001b[0m \u001b[38;5;28;01mif\u001b[39;00m \u001b[38;5;28misinstance\u001b[39m(filters\u001b[38;5;241m.\u001b[39mget(\u001b[38;5;124m'\u001b[39m\u001b[38;5;124mlanguage\u001b[39m\u001b[38;5;124m'\u001b[39m), \u001b[38;5;28mstr\u001b[39m):\n\u001b[1;32m    117\u001b[0m     filters[\u001b[38;5;124m'\u001b[39m\u001b[38;5;124mlanguage\u001b[39m\u001b[38;5;124m'\u001b[39m] \u001b[38;5;241m=\u001b[39m Language\u001b[38;5;241m.\u001b[39mget(name\u001b[38;5;241m=\u001b[39mfilters[\u001b[38;5;124m'\u001b[39m\u001b[38;5;124mlanguage\u001b[39m\u001b[38;5;124m'\u001b[39m])\n\u001b[0;32m--> 118\u001b[0m \u001b[38;5;28;01mreturn\u001b[39;00m \u001b[38;5;28;43msuper\u001b[39;49m\u001b[43m(\u001b[49m\u001b[43m)\u001b[49m\u001b[38;5;241;43m.\u001b[39;49m\u001b[43mget\u001b[49m\u001b[43m(\u001b[49m\u001b[38;5;241;43m*\u001b[39;49m\u001b[43mquery\u001b[49m\u001b[43m,\u001b[49m\u001b[43m \u001b[49m\u001b[38;5;241;43m*\u001b[39;49m\u001b[38;5;241;43m*\u001b[39;49m\u001b[43mfilters\u001b[49m\u001b[43m)\u001b[49m\n",
      "File \u001b[0;32m~/anaconda3/envs/rit/lib/python3.9/site-packages/peewee.py:6712\u001b[0m, in \u001b[0;36mModel.get\u001b[0;34m(cls, *query, **filters)\u001b[0m\n\u001b[1;32m   6710\u001b[0m \u001b[38;5;28;01mif\u001b[39;00m filters:\n\u001b[1;32m   6711\u001b[0m     sq \u001b[38;5;241m=\u001b[39m sq\u001b[38;5;241m.\u001b[39mfilter(\u001b[38;5;241m*\u001b[39m\u001b[38;5;241m*\u001b[39mfilters)\n\u001b[0;32m-> 6712\u001b[0m \u001b[38;5;28;01mreturn\u001b[39;00m \u001b[43msq\u001b[49m\u001b[38;5;241;43m.\u001b[39;49m\u001b[43mget\u001b[49m\u001b[43m(\u001b[49m\u001b[43m)\u001b[49m\n",
      "File \u001b[0;32m~/anaconda3/envs/rit/lib/python3.9/site-packages/peewee.py:7163\u001b[0m, in \u001b[0;36mBaseModelSelect.get\u001b[0;34m(self, database)\u001b[0m\n\u001b[1;32m   7161\u001b[0m \u001b[38;5;28;01mexcept\u001b[39;00m \u001b[38;5;167;01mIndexError\u001b[39;00m:\n\u001b[1;32m   7162\u001b[0m     sql, params \u001b[38;5;241m=\u001b[39m clone\u001b[38;5;241m.\u001b[39msql()\n\u001b[0;32m-> 7163\u001b[0m     \u001b[38;5;28;01mraise\u001b[39;00m \u001b[38;5;28mself\u001b[39m\u001b[38;5;241m.\u001b[39mmodel\u001b[38;5;241m.\u001b[39mDoesNotExist(\u001b[38;5;124m'\u001b[39m\u001b[38;5;132;01m%s\u001b[39;00m\u001b[38;5;124m instance matching query does \u001b[39m\u001b[38;5;124m'\u001b[39m\n\u001b[1;32m   7164\u001b[0m                                   \u001b[38;5;124m'\u001b[39m\u001b[38;5;124mnot exist:\u001b[39m\u001b[38;5;130;01m\\n\u001b[39;00m\u001b[38;5;124mSQL: \u001b[39m\u001b[38;5;132;01m%s\u001b[39;00m\u001b[38;5;130;01m\\n\u001b[39;00m\u001b[38;5;124mParams: \u001b[39m\u001b[38;5;132;01m%s\u001b[39;00m\u001b[38;5;124m'\u001b[39m \u001b[38;5;241m%\u001b[39m\n\u001b[1;32m   7165\u001b[0m                                   (clone\u001b[38;5;241m.\u001b[39mmodel, sql, params))\n",
      "\u001b[0;31mLabelDoesNotExist\u001b[0m: <Model: Label> instance matching query does not exist:\nSQL: SELECT \"t1\".\"id\", \"t1\".\"text\", \"t1\".\"language_id\" FROM \"label\" AS \"t1\" WHERE ((\"t1\".\"language_id\" = ?) AND (\"t1\".\"text\" = ?)) LIMIT ? OFFSET ?\nParams: [30, 'chiper', 1, 0]"
     ]
    }
   ],
   "source": [
    "from conceptnet_lite import Label, edges_for, edges_between\n",
    "wt=\"chiper\"\n",
    "wh=\"woman\"\n",
    "concepts_wt = Label.get(text=wt, language='en').concepts\n",
    "concepts_wh = Label.get(text=wh, language='en').concepts\n",
    "for e in edges_between(concepts_wt, concepts_wh,two_way=True):\n",
    "    #if wt == e.start.text and e.relation.name in relaciones_generales:\n",
    "        print(e.start.text, \"-\", e.end.text, \"|\", e.relation.name,e)\n",
    "    # elif wt == e.end.text:\n",
    "    #     print(e.start.text, \"-\", e.end.text, \"|\", e.relation.name,e)\n",
    "    #print(e.uri)"
   ]
  },
  {
   "cell_type": "markdown",
   "metadata": {},
   "source": [
    "# related to"
   ]
  },
  {
   "cell_type": "code",
   "execution_count": 147,
   "metadata": {},
   "outputs": [
    {
     "name": "stdout",
     "output_type": "stream",
     "text": [
      "crowd - nobody | antonym /a/[/r/antonym/,/c/en/crowd/,/c/en/nobody/]\n",
      "everybody - nobody | antonym /a/[/r/antonym/,/c/en/everybody/n/,/c/en/nobody/]\n",
      "person - nobody | antonym /a/[/r/antonym/,/c/en/person/,/c/en/nobody/]\n",
      "all - nobody | distinct_from /a/[/r/distinct_from/,/c/en/all/,/c/en/nobody/]\n",
      "any - nobody | distinct_from /a/[/r/distinct_from/,/c/en/any/r/,/c/en/nobody/]\n",
      "everybody - nobody | distinct_from /a/[/r/distinct_from/,/c/en/everybody/,/c/en/nobody/]\n",
      "everyone - nobody | distinct_from /a/[/r/distinct_from/,/c/en/everyone/,/c/en/nobody/]\n",
      "somebody - nobody | distinct_from /a/[/r/distinct_from/,/c/en/somebody/,/c/en/nobody/]\n",
      "someone - nobody | distinct_from /a/[/r/distinct_from/,/c/en/someone/,/c/en/nobody/]\n",
      "nobody - anybody | distinct_from /a/[/r/distinct_from/,/c/en/nobody/,/c/en/anybody/]\n",
      "nobody - somebody | distinct_from /a/[/r/distinct_from/,/c/en/nobody/,/c/en/somebody/]\n",
      "nobody - anybody | antonym /a/[/r/antonym/,/c/en/nobody/n/,/c/en/anybody/]\n",
      "nobody - everybody | antonym /a/[/r/antonym/,/c/en/nobody/n/,/c/en/everybody/]\n",
      "nobody - somebody | antonym /a/[/r/antonym/,/c/en/nobody/n/,/c/en/somebody/]\n"
     ]
    }
   ],
   "source": [
    "word_h=\"nobody\"\n",
    "for e in edges_for(Label.get(text=word_h, language='en').concepts, same_language=True):\n",
    "    if e.relation.name == \"antonym\" or e.relation.name == \"distinct_from\":\n",
    "        print(e.start.text, \"-\", e.end.text, \"|\", e.relation.name,e)"
   ]
  },
  {
   "cell_type": "code",
   "execution_count": null,
   "metadata": {},
   "outputs": [],
   "source": []
  },
  {
   "cell_type": "code",
   "execution_count": 9,
   "metadata": {},
   "outputs": [
    {
     "name": "stdout",
     "output_type": "stream",
     "text": [
      "blue - red | distinct_from /a/[/r/distinct_from/,/c/en/blue/,/c/en/red/]\n",
      "green - red | distinct_from /a/[/r/distinct_from/,/c/en/green/,/c/en/red/]\n",
      "yellow - red | distinct_from /a/[/r/distinct_from/,/c/en/yellow/,/c/en/red/]\n",
      "red - blue | distinct_from /a/[/r/distinct_from/,/c/en/red/,/c/en/blue/]\n"
     ]
    }
   ],
   "source": [
    "word_h=\"red\"\n",
    "for e in edges_for(Label.get(text=word_h, language='en').concepts, same_language=True):\n",
    "    if e.relation.name == \"distinct_from\":\n",
    "        print(e.start.text, \"-\", e.end.text, \"|\", e.relation.name,e)"
   ]
  },
  {
   "cell_type": "markdown",
   "metadata": {},
   "source": []
  },
  {
   "cell_type": "code",
   "execution_count": 10,
   "metadata": {},
   "outputs": [
    {
     "ename": "ConceptDoesNotExist",
     "evalue": "<Model: Concept> instance matching query does not exist:\nSQL: SELECT \"t1\".\"id\", \"t1\".\"label_id\", \"t1\".\"sense_label\" FROM \"concept\" AS \"t1\" WHERE ? LIMIT ? OFFSET ?\nParams: [False, 1, 0]",
     "output_type": "error",
     "traceback": [
      "\u001b[0;31m---------------------------------------------------------------------------\u001b[0m",
      "\u001b[0;31mIndexError\u001b[0m                                Traceback (most recent call last)",
      "File \u001b[0;32m~/anaconda3/envs/rit/lib/python3.9/site-packages/peewee.py:7160\u001b[0m, in \u001b[0;36mBaseModelSelect.get\u001b[0;34m(self, database)\u001b[0m\n\u001b[1;32m   7159\u001b[0m \u001b[38;5;28;01mtry\u001b[39;00m:\n\u001b[0;32m-> 7160\u001b[0m     \u001b[38;5;28;01mreturn\u001b[39;00m \u001b[43mclone\u001b[49m\u001b[38;5;241;43m.\u001b[39;49m\u001b[43mexecute\u001b[49m\u001b[43m(\u001b[49m\u001b[43mdatabase\u001b[49m\u001b[43m)\u001b[49m\u001b[43m[\u001b[49m\u001b[38;5;241;43m0\u001b[39;49m\u001b[43m]\u001b[49m\n\u001b[1;32m   7161\u001b[0m \u001b[38;5;28;01mexcept\u001b[39;00m \u001b[38;5;167;01mIndexError\u001b[39;00m:\n",
      "File \u001b[0;32m~/anaconda3/envs/rit/lib/python3.9/site-packages/peewee.py:4510\u001b[0m, in \u001b[0;36mCursorWrapper.__getitem__\u001b[0;34m(self, item)\u001b[0m\n\u001b[1;32m   4509\u001b[0m     \u001b[38;5;28mself\u001b[39m\u001b[38;5;241m.\u001b[39mfill_cache(item \u001b[38;5;28;01mif\u001b[39;00m item \u001b[38;5;241m>\u001b[39m \u001b[38;5;241m0\u001b[39m \u001b[38;5;28;01melse\u001b[39;00m \u001b[38;5;241m0\u001b[39m)\n\u001b[0;32m-> 4510\u001b[0m     \u001b[38;5;28;01mreturn\u001b[39;00m \u001b[38;5;28;43mself\u001b[39;49m\u001b[38;5;241;43m.\u001b[39;49m\u001b[43mrow_cache\u001b[49m\u001b[43m[\u001b[49m\u001b[43mitem\u001b[49m\u001b[43m]\u001b[49m\n\u001b[1;32m   4511\u001b[0m \u001b[38;5;28;01melse\u001b[39;00m:\n",
      "\u001b[0;31mIndexError\u001b[0m: list index out of range",
      "\nDuring handling of the above exception, another exception occurred:\n",
      "\u001b[0;31mConceptDoesNotExist\u001b[0m                       Traceback (most recent call last)",
      "Cell \u001b[0;32mIn[10], line 2\u001b[0m\n\u001b[1;32m      1\u001b[0m wt\u001b[38;5;241m=\u001b[39m\u001b[38;5;124m\"\u001b[39m\u001b[38;5;124mman\u001b[39m\u001b[38;5;124m\"\u001b[39m\n\u001b[0;32m----> 2\u001b[0m concepts_wt \u001b[38;5;241m=\u001b[39m \u001b[43mConcept\u001b[49m\u001b[38;5;241;43m.\u001b[39;49m\u001b[43mget\u001b[49m\u001b[43m(\u001b[49m\u001b[43mtext\u001b[49m\u001b[38;5;241;43m=\u001b[39;49m\u001b[43mwt\u001b[49m\u001b[43m,\u001b[49m\u001b[43m \u001b[49m\u001b[43mlanguage\u001b[49m\u001b[38;5;241;43m=\u001b[39;49m\u001b[38;5;124;43m'\u001b[39;49m\u001b[38;5;124;43men\u001b[39;49m\u001b[38;5;124;43m'\u001b[39;49m\u001b[43m)\u001b[49m\u001b[38;5;241m.\u001b[39mconcepts\n\u001b[1;32m      3\u001b[0m \u001b[38;5;28;01mfor\u001b[39;00m c \u001b[38;5;129;01min\u001b[39;00m concepts_wt:\n\u001b[1;32m      4\u001b[0m     \u001b[38;5;28mprint\u001b[39m(c)\n",
      "File \u001b[0;32m~/anaconda3/envs/rit/lib/python3.9/site-packages/conceptnet_lite/db.py:143\u001b[0m, in \u001b[0;36mConcept.get\u001b[0;34m(cls, *query, **filters)\u001b[0m\n\u001b[1;32m    141\u001b[0m     sense_label \u001b[38;5;241m=\u001b[39m \u001b[38;5;124m'\u001b[39m\u001b[38;5;124m'\u001b[39m \u001b[38;5;28;01mif\u001b[39;00m \u001b[38;5;28mlen\u001b[39m(split_uri) \u001b[38;5;241m==\u001b[39m \u001b[38;5;241m4\u001b[39m \u001b[38;5;28;01melse\u001b[39;00m split_uri[\u001b[38;5;241m4\u001b[39m]\n\u001b[1;32m    142\u001b[0m     \u001b[38;5;28;01mreturn\u001b[39;00m Concept\u001b[38;5;241m.\u001b[39mget(label\u001b[38;5;241m=\u001b[39mlabel, sense_label\u001b[38;5;241m=\u001b[39msense_label)\n\u001b[0;32m--> 143\u001b[0m \u001b[38;5;28;01mreturn\u001b[39;00m \u001b[38;5;28;43msuper\u001b[39;49m\u001b[43m(\u001b[49m\u001b[43m)\u001b[49m\u001b[38;5;241;43m.\u001b[39;49m\u001b[43mget\u001b[49m\u001b[43m(\u001b[49m\u001b[38;5;241;43m*\u001b[39;49m\u001b[43mquery\u001b[49m\u001b[43m,\u001b[49m\u001b[43m \u001b[49m\u001b[38;5;241;43m*\u001b[39;49m\u001b[38;5;241;43m*\u001b[39;49m\u001b[43mfilters\u001b[49m\u001b[43m)\u001b[49m\n",
      "File \u001b[0;32m~/anaconda3/envs/rit/lib/python3.9/site-packages/peewee.py:6712\u001b[0m, in \u001b[0;36mModel.get\u001b[0;34m(cls, *query, **filters)\u001b[0m\n\u001b[1;32m   6710\u001b[0m \u001b[38;5;28;01mif\u001b[39;00m filters:\n\u001b[1;32m   6711\u001b[0m     sq \u001b[38;5;241m=\u001b[39m sq\u001b[38;5;241m.\u001b[39mfilter(\u001b[38;5;241m*\u001b[39m\u001b[38;5;241m*\u001b[39mfilters)\n\u001b[0;32m-> 6712\u001b[0m \u001b[38;5;28;01mreturn\u001b[39;00m \u001b[43msq\u001b[49m\u001b[38;5;241;43m.\u001b[39;49m\u001b[43mget\u001b[49m\u001b[43m(\u001b[49m\u001b[43m)\u001b[49m\n",
      "File \u001b[0;32m~/anaconda3/envs/rit/lib/python3.9/site-packages/peewee.py:7163\u001b[0m, in \u001b[0;36mBaseModelSelect.get\u001b[0;34m(self, database)\u001b[0m\n\u001b[1;32m   7161\u001b[0m \u001b[38;5;28;01mexcept\u001b[39;00m \u001b[38;5;167;01mIndexError\u001b[39;00m:\n\u001b[1;32m   7162\u001b[0m     sql, params \u001b[38;5;241m=\u001b[39m clone\u001b[38;5;241m.\u001b[39msql()\n\u001b[0;32m-> 7163\u001b[0m     \u001b[38;5;28;01mraise\u001b[39;00m \u001b[38;5;28mself\u001b[39m\u001b[38;5;241m.\u001b[39mmodel\u001b[38;5;241m.\u001b[39mDoesNotExist(\u001b[38;5;124m'\u001b[39m\u001b[38;5;132;01m%s\u001b[39;00m\u001b[38;5;124m instance matching query does \u001b[39m\u001b[38;5;124m'\u001b[39m\n\u001b[1;32m   7164\u001b[0m                                   \u001b[38;5;124m'\u001b[39m\u001b[38;5;124mnot exist:\u001b[39m\u001b[38;5;130;01m\\n\u001b[39;00m\u001b[38;5;124mSQL: \u001b[39m\u001b[38;5;132;01m%s\u001b[39;00m\u001b[38;5;130;01m\\n\u001b[39;00m\u001b[38;5;124mParams: \u001b[39m\u001b[38;5;132;01m%s\u001b[39;00m\u001b[38;5;124m'\u001b[39m \u001b[38;5;241m%\u001b[39m\n\u001b[1;32m   7165\u001b[0m                                   (clone\u001b[38;5;241m.\u001b[39mmodel, sql, params))\n",
      "\u001b[0;31mConceptDoesNotExist\u001b[0m: <Model: Concept> instance matching query does not exist:\nSQL: SELECT \"t1\".\"id\", \"t1\".\"label_id\", \"t1\".\"sense_label\" FROM \"concept\" AS \"t1\" WHERE ? LIMIT ? OFFSET ?\nParams: [False, 1, 0]"
     ]
    }
   ],
   "source": [
    "wt=\"man\"\n",
    "concepts_wt = Concept.get(text=wt, language='en').concepts\n",
    "for c in concepts_wt:\n",
    "    print(c)\n"
   ]
  },
  {
   "cell_type": "code",
   "execution_count": 131,
   "metadata": {},
   "outputs": [],
   "source": [
    "relaciones_generales=[\"related_to\",\"is_a\",\"etymologically_related_to\",\"manner_of\",\"has_a\",\"derived_from\",\"has_property\",\"form_of\",\"causes\",\"has_prerequisite\",\"has_subevent\",\"has_first_subevent\",\"relate_to\",\"similar_to​\"]\n",
    "relaciones_especificas=[\"is_a\",\"manner_of\",\"has_a\",\"derived_from\",\"has_property\",\"form_of\",\"causes\",\"has_prerequisite\",\"has_subevent\",\"has_first_subevent\"]"
   ]
  },
  {
   "cell_type": "code",
   "execution_count": 120,
   "metadata": {},
   "outputs": [
    {
     "name": "stdout",
     "output_type": "stream",
     "text": [
      "produce - appear | causes /a/[/r/causes/,/c/en/produce/v/wn/perception/,/c/en/appear/v/wn/change/]\n",
      "produce - expose | manner_of /a/[/r/manner_of/,/c/en/produce/v/wn/perception/,/c/en/expose/v/wn/perception/]\n",
      "produce - output | is_a /a/[/r/is_a/,/c/en/produce/n/,/c/en/output/]\n",
      "produce - produce_market_category | is_a /a/[/r/is_a/,/c/en/produce/n/,/c/en/produce_market_category/n/]\n",
      "produce - raw_edibles | is_a /a/[/r/is_a/,/c/en/produce/n/,/c/en/raw_edibles/n/]\n",
      "produce - food | is_a /a/[/r/is_a/,/c/en/produce/n/wn/food/,/c/en/food/n/wn/food/]\n",
      "produce - make | manner_of /a/[/r/manner_of/,/c/en/produce/v/wn/creation/,/c/en/make/v/wn/creation/]\n"
     ]
    }
   ],
   "source": [
    "sinonimos=set()\n",
    "word_h=\"produce\"\n",
    "for e in edges_for(Label.get(text=word_h, language='en').concepts, same_language=True):\n",
    "    #if \"similarTo\"==e.relation.name:# and ¿\n",
    "    if e.relation.name in relaciones_generales:\n",
    "        if word_h== e.start.text:\n",
    "            print(e.start.text, \"-\", e.end.text, \"|\", e.relation.name,e)\n",
    "            sinonimos.add(e.end.text)"
   ]
  },
  {
   "cell_type": "code",
   "execution_count": 13,
   "metadata": {},
   "outputs": [
    {
     "name": "stdout",
     "output_type": "stream",
     "text": [
      "autorelease - release | derived_from\n",
      "corelease - release | derived_from\n",
      "cyclorelease - release | derived_from\n",
      "photorelease - release | derived_from\n",
      "postrelease - release | derived_from\n",
      "prerelease - release | derived_from\n",
      "radiorelease - release | derived_from\n",
      "releasable - release | derived_from\n",
      "releasee - release | derived_from\n",
      "releasement - release | derived_from\n",
      "releaser - release | derived_from\n",
      "releasest - release | derived_from\n",
      "releaseth - release | derived_from\n",
      "rerelease - release | derived_from\n",
      "unrelease - release | derived_from\n",
      "dot_release - release | etymologically_related_to\n",
      "released - release | form_of\n",
      "releases - release | form_of\n",
      "releases - release | form_of\n",
      "releasest - release | form_of\n",
      "releaseth - release | form_of\n",
      "releasing - release | form_of\n",
      "absolve - release | related_to\n",
      "acathexia - release | related_to\n",
      "acquittance - release | related_to\n",
      "acquitter - release | related_to\n",
      "allelopathy - release | related_to\n",
      "antiandrogen - release | related_to\n",
      "apneusis - release | related_to\n",
      "art - release | related_to\n",
      "aspirate - release | related_to\n",
      "assoil - release | related_to\n",
      "autodissemination - release | related_to\n",
      "autorelease - release | related_to\n",
      "bail - release | related_to\n",
      "bail_bandit - release | related_to\n",
      "bail_bond - release | related_to\n",
      "balloon_drop - release | related_to\n",
      "bandemia - release | related_to\n",
      "befree - release | related_to\n",
      "bioenergetics - release | related_to\n",
      "biological_pump - release | related_to\n",
      "biting_point - release | related_to\n",
      "blowout - release | related_to\n",
      "brisance - release | related_to\n",
      "catharsis - release | related_to\n",
      "cocktease - release | related_to\n",
      "containment - release | related_to\n",
      "corelease - release | related_to\n",
      "corelease - release | related_to\n",
      "corngate - release | related_to\n",
      "cry - release | related_to\n",
      "cuckolder - release | related_to\n",
      "cuckoldry - release | related_to\n",
      "dam - release | related_to\n",
      "deallocation - release | related_to\n",
      "dearrest - release | related_to\n",
      "debut - release | related_to\n",
      "dehypnotize - release | related_to\n",
      "demesmerization - release | related_to\n",
      "demo - release | related_to\n",
      "demob - release | related_to\n",
      "demob_happy - release | related_to\n",
      "demobilize - release | related_to\n",
      "derequisition - release | related_to\n",
      "desequestrate - release | related_to\n",
      "destructor - release | related_to\n",
      "development_hell - release | related_to\n",
      "dimit - release | related_to\n",
      "discharge - release | related_to\n",
      "discoverture - release | related_to\n",
      "disengagement - release | related_to\n",
      "disimprison - release | related_to\n",
      "disimprisonment - release | related_to\n",
      "disincarceration - release | related_to\n",
      "disintegration_energy - release | related_to\n",
      "dismissal - release | related_to\n",
      "disobligation - release | related_to\n",
      "disobligement - release | related_to\n",
      "drop - release | related_to\n",
      "drop_anchor - release | related_to\n",
      "drop_bomb - release | related_to\n",
      "drop_chalupa - release | related_to\n",
      "drop_deuce - release | related_to\n",
      "drop_kids_off_at_pool - release | related_to\n",
      "dry_bite - release | related_to\n",
      "dump - release | related_to\n",
      "dung - release | related_to\n",
      "electropositive - release | related_to\n",
      "enfranchisement - release | related_to\n",
      "enlarge - release | related_to\n",
      "exclaustration - release | related_to\n",
      "exeme - release | related_to\n",
      "exoergic - release | related_to\n",
      "finger_spin - release | related_to\n",
      "flywheel - release | related_to\n",
      "franchisement - release | related_to\n",
      "free - release | related_to\n",
      "fusion - release | related_to\n",
      "get_out - release | related_to\n",
      "give_forth - release | related_to\n",
      "go_gold - release | related_to\n",
      "heel_palm - release | related_to\n",
      "helper's_high - release | related_to\n",
      "heteroreceptor - release | related_to\n",
      "holocrine - release | related_to\n",
      "indispensable - release | related_to\n",
      "indulgence - release | related_to\n",
      "insulinotropic - release | related_to\n",
      "key_press - release | related_to\n",
      "keypress - release | related_to\n",
      "launch - release | related_to\n",
      "launch_party - release | related_to\n",
      "lawson_criterion - release | related_to\n",
      "lease - release | related_to\n",
      "leese - release | related_to\n",
      "let_fly - release | related_to\n",
      "let_go - release | related_to\n",
      "let_loose - release | related_to\n",
      "let_off - release | related_to\n",
      "let_out - release | related_to\n",
      "let_rip - release | related_to\n",
      "liberate - release | related_to\n",
      "liberin - release | related_to\n",
      "liss - release | related_to\n",
      "manumission - release | related_to\n",
      "manumit - release | related_to\n",
      "microencapsulation - release | related_to\n",
      "neurohypophysis - release | related_to\n",
      "neurosecretion - release | related_to\n",
      "newie - release | related_to\n",
      "nuclear_fusion - release | related_to\n",
      "nut - release | related_to\n",
      "outgassing - release | related_to\n",
      "outlet - release | related_to\n",
      "pardon - release | related_to\n",
      "parole - release | related_to\n",
      "parole_board - release | related_to\n",
      "pay_off - release | related_to\n",
      "photorelease - release | related_to\n",
      "photorespiration - release | related_to\n",
      "pick - release | related_to\n",
      "plunk - release | related_to\n",
      "point_release - release | related_to\n",
      "polychromasia - release | related_to\n",
      "postcytochrome - release | related_to\n",
      "postmarket - release | related_to\n",
      "postprison - release | related_to\n",
      "postrelease - release | related_to\n",
      "poundage - release | related_to\n",
      "prerelease - release | related_to\n",
      "prerelease - release | related_to\n",
      "quit - release | related_to\n",
      "quittance - release | related_to\n",
      "quorum_sensing - release | related_to\n",
      "radiorelease - release | related_to\n",
      "radiothermoluminescence - release | related_to\n",
      "reintroduction - release | related_to\n",
      "relaxation - release | related_to\n",
      "releasable - release | related_to\n",
      "releasably - release | related_to\n",
      "releasate - release | related_to\n",
      "release_warrant - release | related_to\n",
      "releasee - release | related_to\n",
      "releasement - release | related_to\n",
      "releaser - release | related_to\n",
      "releases - release | related_to\n",
      "releasing_hormone - release | related_to\n",
      "releasor - release | related_to\n",
      "relieve - release | related_to\n",
      "relinquish - release | related_to\n",
      "rerelease - release | related_to\n",
      "rescat - release | related_to\n",
      "rescat - release | related_to\n",
      "rescueless - release | related_to\n",
      "rhizodeposition - release | related_to\n",
      "rid - release | related_to\n",
      "roll_out - release | related_to\n",
      "rubygate - release | related_to\n",
      "rush_out - release | related_to\n",
      "set_free - release | related_to\n",
      "ship - release | related_to\n",
      "sigh_of_relief - release | related_to\n",
      "single - release | related_to\n",
      "sluice_gate - release | related_to\n",
      "snap - release | related_to\n",
      "spermiate - release | related_to\n",
      "spring - release | related_to\n",
      "statin - release | related_to\n",
      "stomp_rocket - release | related_to\n",
      "sulfonylurea - release | related_to\n",
      "superman - release | related_to\n",
      "swapper - release | related_to\n",
      "synapsin - release | related_to\n",
      "syndicate - release | related_to\n",
      "table_of_death - release | related_to\n",
      "thermoluminescence - release | related_to\n",
      "timed_exclusive - release | related_to\n",
      "train - release | related_to\n",
      "trip_out - release | related_to\n",
      "tripeptide_aminopeptidase - release | related_to\n",
      "turn_loose - release | related_to\n",
      "un - release | related_to\n",
      "unarrest - release | related_to\n",
      "unbrake - release | related_to\n",
      "uncatch - release | related_to\n",
      "unclip - release | related_to\n",
      "uncoating - release | related_to\n",
      "uncommit - release | related_to\n",
      "uncoop - release | related_to\n",
      "uncork - release | related_to\n",
      "uncorked - release | related_to\n",
      "unenchant - release | related_to\n",
      "unfast - release | related_to\n",
      "unfetter - release | related_to\n",
      "unfurl - release | related_to\n",
      "unget - release | related_to\n",
      "ungrab - release | related_to\n",
      "unhand - release | related_to\n",
      "unhold - release | related_to\n",
      "unimpale - release | related_to\n",
      "unimprison - release | related_to\n",
      "unleash - release | related_to\n",
      "unmanacle - release | related_to\n",
      "unmew - release | related_to\n",
      "unmortgage - release | related_to\n",
      "unpen - release | related_to\n",
      "unquarantine - release | related_to\n",
      "unreleasable - release | related_to\n",
      "unrelease - release | related_to\n",
      "unseize - release | related_to\n",
      "unshift - release | related_to\n",
      "unsnag - release | related_to\n",
      "unsnare - release | related_to\n",
      "unstay - release | related_to\n",
      "untrammel - release | related_to\n",
      "untrap - release | related_to\n",
      "voice_onset_time - release | related_to\n",
      "voice_over - release | related_to\n",
      "whew - release | related_to\n",
      "wrist_spin - release | related_to\n",
      "writ_of_privilege - release | related_to\n",
      "exemption - release | is_a\n",
      "plosion - release | is_a\n",
      "emission - release | is_a\n",
      "derequisition - release | manner_of\n",
      "sacrifice - release | manner_of\n",
      "released - release | form_of\n",
      "releases - release | form_of\n",
      "releasing - release | form_of\n",
      "releases - release | form_of\n"
     ]
    }
   ],
   "source": [
    "word_h=\"release\"\n",
    "sinonimos2=set()\n",
    "#\"is_a\",\"manner_of\",\"has_a\",\"derived_from\",\"used_for\",\"has_property\"\n",
    "for e in edges_for(Label.get(text=word_h, language='en').concepts, same_language=True):\n",
    "    #if \"similarTo\"==e.relation.name:# and ¿\n",
    "    if e.relation.name in relaciones_generales:\n",
    "        if word_h== e.end.text:\n",
    "            print(e.start.text, \"-\", e.end.text, \"|\", e.relation.name)\n",
    "            sinonimos2.add(e.start.text)"
   ]
  },
  {
   "cell_type": "code",
   "execution_count": 14,
   "metadata": {},
   "outputs": [
    {
     "data": {
      "text/plain": [
       "set()"
      ]
     },
     "execution_count": 14,
     "metadata": {},
     "output_type": "execute_result"
    }
   ],
   "source": [
    "sinonimos.intersection(sinonimos2)"
   ]
  },
  {
   "cell_type": "markdown",
   "metadata": {},
   "source": [
    "# Bolsas de sinonimos"
   ]
  },
  {
   "cell_type": "code",
   "execution_count": 15,
   "metadata": {},
   "outputs": [],
   "source": [
    "def bag_of_synonyms(word):\n",
    "    sinonimos=set()\n",
    "    try:\n",
    "        for e in edges_for(Label.get(text=word, language='en').concepts, same_language=True):\n",
    "            if e.relation.name == \"synonym\":\n",
    "                if word== e.start.text:\n",
    "                    sinonimos.add(e.end.text)\n",
    "                elif word== e.end.text:\n",
    "                    sinonimos.add(e.start.text)\n",
    "    except:\n",
    "        pass\n",
    "    sinonimos.add(word)\n",
    "    return sinonimos"
   ]
  },
  {
   "cell_type": "code",
   "execution_count": 16,
   "metadata": {},
   "outputs": [],
   "source": [
    "def bag_of_hyperonyms(word):\n",
    "    hiperonimos=set()\n",
    "    try:\n",
    "        for e in edges_for(Label.get(text=word, language='en').concepts, same_language=True):\n",
    "            if e.relation.name in relaciones_generales:\n",
    "                if word== e.start.text:\n",
    "                    hiperonimos.add(e.end.text)\n",
    "    except:\n",
    "        pass\n",
    "    return hiperonimos"
   ]
  },
  {
   "cell_type": "code",
   "execution_count": 17,
   "metadata": {},
   "outputs": [],
   "source": [
    "def bag_of_hyponyms(word):\n",
    "    hiponimos=set()\n",
    "    try:\n",
    "        for e in edges_for(Label.get(text=word, language='en').concepts, same_language=True):\n",
    "            if e.relation.name in relaciones_especificas:\n",
    "                if word== e.end.text:\n",
    "                    hiponimos.add(e.start.text)\n",
    "                    #print(e.relation.name,e.start.text)\n",
    "    except:\n",
    "        pass\n",
    "    return hiponimos"
   ]
  },
  {
   "cell_type": "code",
   "execution_count": 177,
   "metadata": {},
   "outputs": [],
   "source": [
    "def relacion_compatibilidad(w_t,w_h):\n",
    "    sin1=bag_of_synonyms(w_t)\n",
    "    sin2=bag_of_synonyms(w_h)\n",
    "    Hip1=set()\n",
    "    hip2=set()\n",
    "    for e in list(sin1):\n",
    "        Hip1=Hip1.union(bag_of_hyperonyms(e))\n",
    "    for e in list(sin2):\n",
    "        hip2=hip2.union(bag_of_hyponyms(e))\n",
    "    if(len(Hip1.intersection(sin2))>0 or len(sin1.intersection(hip2))>0 or len(sin1.intersection(sin2))>0):\n",
    "        print(\"compatibilidad\")"
   ]
  },
  {
   "cell_type": "code",
   "execution_count": 178,
   "metadata": {},
   "outputs": [
    {
     "name": "stdout",
     "output_type": "stream",
     "text": [
      "compatibilidad\n"
     ]
    }
   ],
   "source": [
    "relacion_compatibilidad(\"man\",\"guy\")"
   ]
  },
  {
   "cell_type": "code",
   "execution_count": 167,
   "metadata": {},
   "outputs": [],
   "source": []
  },
  {
   "cell_type": "code",
   "execution_count": 168,
   "metadata": {},
   "outputs": [],
   "source": [
    "# for e in list(sin1):\n",
    "#     sin1=sin1.union(bag_of_synonyms(e))\n",
    "# for e in list(sin2):\n",
    "#     sin2=sin2.union(bag_of_synonyms(e))"
   ]
  },
  {
   "cell_type": "code",
   "execution_count": 169,
   "metadata": {},
   "outputs": [
    {
     "data": {
      "text/plain": [
       "{'reef', 'rock', 'witwatersrand'}"
      ]
     },
     "execution_count": 169,
     "metadata": {},
     "output_type": "execute_result"
    }
   ],
   "source": [
    "sin1"
   ]
  },
  {
   "cell_type": "code",
   "execution_count": 170,
   "metadata": {},
   "outputs": [
    {
     "data": {
      "text/plain": [
       "{'acreage',\n",
       " 'area',\n",
       " 'cartogram',\n",
       " 'country',\n",
       " 'expanse',\n",
       " 'field',\n",
       " 'orb',\n",
       " 'region',\n",
       " 'sphere',\n",
       " 'surface_area',\n",
       " 'track',\n",
       " 'zone'}"
      ]
     },
     "execution_count": 170,
     "metadata": {},
     "output_type": "execute_result"
    }
   ],
   "source": [
    "sin2"
   ]
  },
  {
   "cell_type": "code",
   "execution_count": 171,
   "metadata": {},
   "outputs": [],
   "source": [
    "Hip1=set()\n",
    "#Hip2=set()\n",
    "for e in list(sin1):\n",
    "    Hip1=Hip1.union(bag_of_hyperonyms(e))\n",
    "#for e in list(sin2):\n",
    "#    Hip2=Hip2.union(bag_of_hyperonyms(e))"
   ]
  },
  {
   "cell_type": "code",
   "execution_count": 172,
   "metadata": {},
   "outputs": [],
   "source": [
    "#hip1=set()\n",
    "hip2=set()\n",
    "#for e in list(sin1):\n",
    "#    hip1=hip1.union(bag_of_hyponyms(e))\n",
    "for e in list(sin2):\n",
    "    hip2=hip2.union(bag_of_hyponyms(e))"
   ]
  },
  {
   "cell_type": "code",
   "execution_count": 173,
   "metadata": {},
   "outputs": [
    {
     "data": {
      "text/plain": [
       "{'4_4',\n",
       " 'afrikaner',\n",
       " 'aggregate',\n",
       " 'alcatraz',\n",
       " 'and_roll',\n",
       " 'auriferous',\n",
       " 'back_and_forth',\n",
       " 'basketball',\n",
       " 'bass_guitar',\n",
       " 'big',\n",
       " 'big_pebble',\n",
       " 'big_stone',\n",
       " 'bigger',\n",
       " 'bigger_stone',\n",
       " 'boulder',\n",
       " 'carry_off',\n",
       " 'cheap',\n",
       " 'cheap_mineral',\n",
       " 'coagulated',\n",
       " 'confectionery',\n",
       " 'conservative',\n",
       " 'crack_cocaine',\n",
       " 'cradle',\n",
       " 'crystallize',\n",
       " 'cube',\n",
       " 'dandruff',\n",
       " 'diamond',\n",
       " 'difficult_to_carve_by_hand',\n",
       " 'dirt',\n",
       " 'disorder',\n",
       " 'distaff',\n",
       " 'distress',\n",
       " 'disturb',\n",
       " 'do',\n",
       " 'driveway',\n",
       " 'driveway_pebble',\n",
       " 'earth',\n",
       " 'edges',\n",
       " 'emotional',\n",
       " 'england',\n",
       " 'equilibrium',\n",
       " 'eruptive',\n",
       " 'excel',\n",
       " 'excite',\n",
       " 'fantastic',\n",
       " 'favourable',\n",
       " 'fish',\n",
       " 'flax',\n",
       " 'float',\n",
       " 'formation',\n",
       " 'garden',\n",
       " 'gem',\n",
       " 'genre',\n",
       " 'genre_of_music',\n",
       " 'geographic',\n",
       " 'geographic_item',\n",
       " 'geological',\n",
       " 'geological_matter',\n",
       " 'geology',\n",
       " 'gibraltar',\n",
       " 'good_person',\n",
       " 'granite',\n",
       " 'gravel',\n",
       " 'ground',\n",
       " 'hand',\n",
       " 'handshape',\n",
       " 'hard',\n",
       " 'hard_as',\n",
       " 'hard_material',\n",
       " 'hard_music',\n",
       " 'hard_place',\n",
       " 'hard_stone',\n",
       " 'hard_substance',\n",
       " 'hardness',\n",
       " 'have_sex',\n",
       " 'heavy',\n",
       " 'heavy_metal',\n",
       " 'horse',\n",
       " 'huss',\n",
       " 'ice',\n",
       " 'igneous',\n",
       " 'impact',\n",
       " 'in_garden',\n",
       " 'inanimate_object',\n",
       " 'island',\n",
       " 'itch',\n",
       " 'item',\n",
       " 'land_topographical_feature',\n",
       " 'large',\n",
       " 'large_pebble',\n",
       " 'large_rough_stone',\n",
       " 'large_stone',\n",
       " 'lava',\n",
       " 'like',\n",
       " 'like_stone',\n",
       " 'limestone',\n",
       " 'lizard',\n",
       " 'lower',\n",
       " 'lurch',\n",
       " 'make_love',\n",
       " 'material',\n",
       " 'matter',\n",
       " 'metal',\n",
       " 'metal_music',\n",
       " 'mineral',\n",
       " 'mineral_substance',\n",
       " 'minerals',\n",
       " 'mountain',\n",
       " 'mountain_material',\n",
       " 'mountain_range',\n",
       " 'mountains',\n",
       " 'move',\n",
       " 'move_back_and_forth',\n",
       " 'music',\n",
       " 'music_genre',\n",
       " 'music_type',\n",
       " 'natural',\n",
       " 'natural_building_material',\n",
       " 'natural_material',\n",
       " 'natural_material_consisting_of_minerals',\n",
       " 'natural_object',\n",
       " 'natural_stone',\n",
       " 'natural_substance',\n",
       " 'newfoundland',\n",
       " 'newfoundland_and_labrador',\n",
       " 'nickname',\n",
       " 'oak',\n",
       " 'object',\n",
       " 'or_stone',\n",
       " 'paddle_wheel',\n",
       " 'pan',\n",
       " 'paper',\n",
       " 'paper_scissor',\n",
       " 'paper_scissors',\n",
       " 'pebble',\n",
       " 'pebble_boulder',\n",
       " 'pebble_stone',\n",
       " 'pebbles',\n",
       " 'pebbles_stone',\n",
       " 'place',\n",
       " 'pop',\n",
       " 'pop_music',\n",
       " 'popular',\n",
       " 'popular_music',\n",
       " 'prison',\n",
       " 'quartz',\n",
       " 'reef_knot',\n",
       " 'rib',\n",
       " 'ridge',\n",
       " 'riff',\n",
       " 'riffe',\n",
       " 'rock_and_roll',\n",
       " 'rock_paper_scissors_lizard_spock',\n",
       " 'rock_salmon',\n",
       " 'rocker',\n",
       " 'roll',\n",
       " 'roll_up',\n",
       " 'rough',\n",
       " 'rough_edges',\n",
       " 'sandstone',\n",
       " 'scabby',\n",
       " 'scissor',\n",
       " 'scissors',\n",
       " 'scurvy',\n",
       " 'sediment',\n",
       " 'sediment_coagulated',\n",
       " 'sedimentary',\n",
       " 'shake',\n",
       " 'shape',\n",
       " 'shrink',\n",
       " 'single',\n",
       " 'single_stone',\n",
       " 'skilful',\n",
       " 'skin',\n",
       " 'skipping',\n",
       " 'skipping_water',\n",
       " 'small',\n",
       " 'small_boulder',\n",
       " 'smaller',\n",
       " 'smaller_boulder',\n",
       " 'solid',\n",
       " 'solid_object',\n",
       " 'spock',\n",
       " 'stone',\n",
       " 'stone_pebble',\n",
       " 'stones',\n",
       " 'strip',\n",
       " 'striped_bass',\n",
       " 'strong',\n",
       " 'substance',\n",
       " 'sway',\n",
       " 'thrill',\n",
       " 'tilt',\n",
       " 'type',\n",
       " 'type_music',\n",
       " 'uluru',\n",
       " 'underwater',\n",
       " 'vein',\n",
       " 'very_heavy',\n",
       " 'village',\n",
       " 'wash',\n",
       " 'water',\n",
       " 'wear',\n",
       " 'wool'}"
      ]
     },
     "execution_count": 173,
     "metadata": {},
     "output_type": "execute_result"
    }
   ],
   "source": [
    "Hip1"
   ]
  },
  {
   "cell_type": "code",
   "execution_count": 174,
   "metadata": {},
   "outputs": [
    {
     "data": {
      "text/plain": [
       "set()"
      ]
     },
     "execution_count": 174,
     "metadata": {},
     "output_type": "execute_result"
    }
   ],
   "source": [
    "Hip1.intersection(sin2)"
   ]
  },
  {
   "cell_type": "code",
   "execution_count": 175,
   "metadata": {},
   "outputs": [
    {
     "data": {
      "text/plain": [
       "set()"
      ]
     },
     "execution_count": 175,
     "metadata": {},
     "output_type": "execute_result"
    }
   ],
   "source": [
    "sin1.intersection(hip2)"
   ]
  },
  {
   "cell_type": "code",
   "execution_count": 176,
   "metadata": {},
   "outputs": [
    {
     "data": {
      "text/plain": [
       "set()"
      ]
     },
     "execution_count": 176,
     "metadata": {},
     "output_type": "execute_result"
    }
   ],
   "source": [
    "sin1.intersection(sin2)"
   ]
  },
  {
   "cell_type": "markdown",
   "metadata": {},
   "source": [
    "# Sinonimos normales"
   ]
  },
  {
   "cell_type": "code",
   "execution_count": 35,
   "metadata": {},
   "outputs": [
    {
     "name": "stdout",
     "output_type": "stream",
     "text": [
      "stare - gaze | synonym\n"
     ]
    }
   ],
   "source": [
    "sinonimos1=set()\n",
    "word_h=\"stare\"\n",
    "for e in edges_for(Label.get(text=word_h, language='en').concepts, same_language=True):\n",
    "    #if \"similarTo\"==e.relation.name:# and ¿\n",
    "    if e.relation.name == \"synonym\":\n",
    "        print(e.start.text, \"-\", e.end.text, \"|\", e.relation.name)\n",
    "        if word_h== e.start.text:\n",
    "            sinonimos1.add(e.end.text)\n",
    "        elif word_h== e.end.text:\n",
    "            sinonimos1.add(e.start.text)"
   ]
  },
  {
   "cell_type": "code",
   "execution_count": 36,
   "metadata": {},
   "outputs": [
    {
     "name": "stdout",
     "output_type": "stream",
     "text": [
      "analyse - analyze | synonym\n",
      "break_down - analyze | synonym\n",
      "canvass - analyze | synonym\n",
      "dissect - analyze | synonym\n",
      "examine - analyze | synonym\n",
      "study - analyze | synonym\n",
      "take_apart - analyze | synonym\n",
      "analyse - analyze | synonym\n",
      "psychoanalyse - analyze | synonym\n",
      "psychoanalyze - analyze | synonym\n"
     ]
    }
   ],
   "source": [
    "sinonimos2=set()\n",
    "word_h=\"analyze\"\n",
    "for e in edges_for(Label.get(text=word_h, language='en').concepts, same_language=True):\n",
    "    #if \"similarTo\"==e.relation.name:# and ¿\n",
    "    if e.relation.name == \"synonym\":\n",
    "        print(e.start.text, \"-\", e.end.text, \"|\", e.relation.name)\n",
    "        if word_h== e.start.text:\n",
    "            sinonimos2.add(e.end.text)\n",
    "        elif word_h== e.end.text:\n",
    "            sinonimos2.add(e.start.text)"
   ]
  },
  {
   "cell_type": "code",
   "execution_count": 37,
   "metadata": {},
   "outputs": [
    {
     "data": {
      "text/plain": [
       "{'gaze'}"
      ]
     },
     "execution_count": 37,
     "metadata": {},
     "output_type": "execute_result"
    }
   ],
   "source": [
    "sinonimos1"
   ]
  },
  {
   "cell_type": "code",
   "execution_count": 38,
   "metadata": {},
   "outputs": [
    {
     "data": {
      "text/plain": [
       "{'analyse',\n",
       " 'break_down',\n",
       " 'canvass',\n",
       " 'dissect',\n",
       " 'examine',\n",
       " 'psychoanalyse',\n",
       " 'psychoanalyze',\n",
       " 'study',\n",
       " 'take_apart'}"
      ]
     },
     "execution_count": 38,
     "metadata": {},
     "output_type": "execute_result"
    }
   ],
   "source": [
    "sinonimos2"
   ]
  },
  {
   "cell_type": "code",
   "execution_count": 39,
   "metadata": {},
   "outputs": [
    {
     "data": {
      "text/plain": [
       "set()"
      ]
     },
     "execution_count": 39,
     "metadata": {},
     "output_type": "execute_result"
    }
   ],
   "source": [
    "sinonimos1.intersection(sinonimos2)"
   ]
  },
  {
   "cell_type": "code",
   "execution_count": 40,
   "metadata": {},
   "outputs": [
    {
     "data": {
      "text/plain": [
       "{'gaze'}"
      ]
     },
     "execution_count": 40,
     "metadata": {},
     "output_type": "execute_result"
    }
   ],
   "source": [
    "sinonimos1"
   ]
  },
  {
   "cell_type": "code",
   "execution_count": 41,
   "metadata": {},
   "outputs": [],
   "source": [
    "word_h=\"help\"\n",
    "for e1 in sinonimos1:\n",
    "    try:\n",
    "        wt=e1\n",
    "        wh=word_h\n",
    "        concepts_wt = Label.get(text=wt, language='en').concepts\n",
    "        concepts_wh = Label.get(text=wh, language='en').concepts\n",
    "        for e in edges_between(concepts_wt, concepts_wh, two_way=True):\n",
    "            print(wt,e.relation,wh,e.relation.name)\n",
    "    except:\n",
    "        pass"
   ]
  },
  {
   "cell_type": "code",
   "execution_count": 42,
   "metadata": {},
   "outputs": [
    {
     "name": "stdout",
     "output_type": "stream",
     "text": [
      "['aid', 'attend_to', 'benefit', 'daily', 'favor', 'give_hand', 'help', 'household_help', 'remedy', 'succor', 'aid', 'aid', 'assist', 'facilitate', 'aid', 'assistance', 'helper', 'servant', 'aid', 'assist', 'avert', 'give_hand', 'help_oneself', 'aid', 'aid', 'assist', 'contribute', 'aid', 'aid', 'avail', 'assistant', 'avail', 'serve']\n"
     ]
    }
   ],
   "source": [
    "word_h=\"help\"\n",
    "sinonimos=[]\n",
    "for e in edges_for(Label.get(text=word_h, language='en').concepts, same_language=True):\n",
    "    if \"synonym\"==e.relation.name:# and word_h== e.start.text: #and word_t== e.end.text:\n",
    "        if word_h == e.start.text:\n",
    "            #print(e.start.text, \"-\", e.end.text, \"|\", e.relation.name)\n",
    "            sinonimos.append(e.end.text)\n",
    "        elif word_h == e.end.text:\n",
    "            #print(e.start.text, \"-\", e.end.text, \"|\", e.relation.name)\n",
    "            sinonimos.append(e.start.text)\n",
    "print(sinonimos)"
   ]
  },
  {
   "cell_type": "code",
   "execution_count": 43,
   "metadata": {},
   "outputs": [
    {
     "name": "stdout",
     "output_type": "stream",
     "text": [
      "harm - help | antonym\n",
      "injure - help | antonym\n",
      "servant - help | antonym\n",
      "help_others_and_others - help | capable_of\n",
      "logic - help | capable_of\n",
      "policemen - help | capable_of\n",
      "policman - help | capable_of\n",
      "giving_assistance - help | causes\n",
      "being_good_samaritan - help | causes_desire\n",
      "being_human - help | causes_desire\n",
      "conscience - help | causes_desire\n",
      "crying - help | causes_desire\n",
      "generosity - help | causes_desire\n",
      "good_heart - help | causes_desire\n",
      "in_need - help | causes_desire\n",
      "kiss - help | causes_desire\n",
      "behelp - help | derived_from\n",
      "helpability - help | derived_from\n",
      "helpable - help | derived_from\n",
      "helpee - help | derived_from\n",
      "helpest - help | derived_from\n",
      "helpfile - help | derived_from\n",
      "helpful - help | derived_from\n",
      "helpless - help | derived_from\n",
      "helpline - help | derived_from\n",
      "helply - help | derived_from\n",
      "helpsheet - help | derived_from\n",
      "helpsome - help | derived_from\n",
      "helpworthy - help | derived_from\n",
      "overhelp - help | derived_from\n",
      "self_help - help | derived_from\n",
      "giving_assistance_for_people_who - help | desires\n",
      "person - help | desires\n",
      "helpmate - help | etymologically_related_to\n",
      "holpen - help | etymologically_related_to\n",
      "halp - help | form_of\n",
      "helped - help | form_of\n",
      "helpedst - help | form_of\n",
      "helpest - help | form_of\n",
      "helpeth - help | form_of\n",
      "helping - help | form_of\n",
      "helps - help | form_of\n",
      "helps - help | form_of\n",
      "helpt - help | form_of\n",
      "holp - help | form_of\n",
      "holpen - help | form_of\n",
      "aas - help | has_context\n",
      "give_assistance - help | has_prerequisite\n",
      "hurt_else - help | has_prerequisite\n",
      "improve_yourself - help | has_prerequisite\n",
      "keeping_things_orderly_and_tidy - help | has_prerequisite\n",
      "please_parents - help | has_prerequisite\n",
      "talking_with_far_away - help | has_prerequisite\n",
      "give_assistance - help | has_subevent\n",
      "give_clue - help | has_subevent\n",
      "see_needs_help - help | has_subevent\n",
      "create_to_help_other_people - help | motivated_by_goal\n",
      "give_assistance - help | motivated_by_goal\n",
      "serve_customers - help | motivated_by_goal\n",
      "teach_other_people - help | motivated_by_goal\n",
      "abet - help | related_to\n",
      "adjument - help | related_to\n",
      "adjutory - help | related_to\n",
      "adjuvate - help | related_to\n",
      "adminicular - help | related_to\n",
      "advice - help | related_to\n",
      "affordment - help | related_to\n",
      "aid - help | related_to\n",
      "aid - help | related_to\n",
      "assist - help | related_to\n",
      "assistance - help | related_to\n",
      "assistance - help | related_to\n",
      "assistant - help | related_to\n",
      "assistless - help | related_to\n",
      "auxiliarly - help | related_to\n",
      "auxiliatory - help | related_to\n",
      "beggars_can't_be_choosers - help | related_to\n",
      "behelp - help | related_to\n",
      "behelp - help | related_to\n",
      "belt - help | related_to\n",
      "benefit - help | related_to\n",
      "bestead - help | related_to\n",
      "besteading - help | related_to\n",
      "bield - help | related_to\n",
      "bootstrap - help | related_to\n",
      "by_oneself - help | related_to\n",
      "bystander_effect - help | related_to\n",
      "call_in - help | related_to\n",
      "can_you_help_me - help | related_to\n",
      "cannot_but - help | related_to\n",
      "care - help | related_to\n",
      "chaptzem - help | related_to\n",
      "chevisance - help | related_to\n",
      "chip_in - help | related_to\n",
      "coadjument - help | related_to\n",
      "come_forward - help | related_to\n",
      "comfort - help | related_to\n",
      "counterproductive - help | related_to\n",
      "crisis_center - help | related_to\n",
      "cry - help | related_to\n",
      "dictionary - help | related_to\n",
      "directional - help | related_to\n",
      "encourage - help | related_to\n",
      "explain - help | related_to\n",
      "facilitator - help | related_to\n",
      "favour - help | related_to\n",
      "filst - help | related_to\n",
      "filsten - help | related_to\n",
      "get_out - help | related_to\n",
      "give_someone_hand - help | related_to\n",
      "go_out_of_one's_way - help | related_to\n",
      "good_samaritan - help | related_to\n",
      "grip - help | related_to\n",
      "grip - help | related_to\n",
      "guideline - help | related_to\n",
      "hand - help | related_to\n",
      "handmaid - help | related_to\n",
      "harrow - help | related_to\n",
      "hearing_aid - help | related_to\n",
      "help_seeker - help | related_to\n",
      "helpability - help | related_to\n",
      "helpable - help | related_to\n",
      "helped - help | related_to\n",
      "helpee - help | related_to\n",
      "helper's_high - help | related_to\n",
      "helper - help | related_to\n",
      "helpest - help | related_to\n",
      "helpeth - help | related_to\n",
      "helpful - help | related_to\n",
      "helping - help | related_to\n",
      "helping_hand - help | related_to\n",
      "helpingly - help | related_to\n",
      "helpless - help | related_to\n",
      "helpmate - help | related_to\n",
      "helps - help | related_to\n",
      "helps - help | related_to\n",
      "helpsome - help | related_to\n",
      "helpt - help | related_to\n",
      "helpworthy - help | related_to\n",
      "indoor_relief - help | related_to\n",
      "inside_job - help | related_to\n",
      "invoke - help | related_to\n",
      "invoker - help | related_to\n",
      "ka - help | related_to\n",
      "leg_up - help | related_to\n",
      "lend_hand - help | related_to\n",
      "lend_helping_hand - help | related_to\n",
      "mend - help | related_to\n",
      "mnemonic - help | related_to\n",
      "moocher - help | related_to\n",
      "nasal_cannula - help | related_to\n",
      "offer - help | related_to\n",
      "opiferous - help | related_to\n",
      "opitulation - help | related_to\n",
      "outdoor_relief - help | related_to\n",
      "overhelp - help | related_to\n",
      "pay_forward - help | related_to\n",
      "pitch_in - help | related_to\n",
      "profit - help | related_to\n",
      "pull_oneself_up_by_one's_bootstraps - help | related_to\n",
      "put_to_sleep - help | related_to\n",
      "quiritation - help | related_to\n",
      "reach_out - help | related_to\n",
      "recourseless - help | related_to\n",
      "rede - help | related_to\n",
      "relief - help | related_to\n",
      "safety_coffin - help | related_to\n",
      "save - help | related_to\n",
      "self_sustaining - help | related_to\n",
      "servant - help | related_to\n",
      "servant - help | related_to\n",
      "sheet_anchor - help | related_to\n",
      "shuttle_box - help | related_to\n",
      "single_handed - help | related_to\n",
      "socialpreneur - help | related_to\n",
      "speed - help | related_to\n",
      "spirit_animal - help | related_to\n",
      "spotter - help | related_to\n",
      "stand_on_one's_own_two_feet - help | related_to\n",
      "stead - help | related_to\n",
      "subventitious - help | related_to\n",
      "succursal - help | related_to\n",
      "support - help | related_to\n",
      "trouble - help | related_to\n",
      "turn_to - help | related_to\n",
      "unaided - help | related_to\n",
      "uncle - help | related_to\n",
      "unhelp - help | related_to\n",
      "unhelp - help | related_to\n",
      "unhelpable - help | related_to\n",
      "unhelped - help | related_to\n",
      "unhelpful - help | related_to\n",
      "unholpen - help | related_to\n",
      "xy_problem - help | related_to\n",
      "aid - help | synonym\n",
      "attend_to - help | synonym\n",
      "benefit - help | synonym\n",
      "daily - help | synonym\n",
      "favor - help | synonym\n",
      "give_hand - help | synonym\n",
      "help - help | synonym\n",
      "household_help - help | synonym\n",
      "remedy - help | synonym\n",
      "succor - help | synonym\n",
      "book - help | used_for\n",
      "mayor - help | used_for\n",
      "neighbor - help | used_for\n",
      "people - help | used_for\n",
      "person - help | used_for\n",
      "robot - help | used_for\n",
      "secretary - help | used_for\n",
      "service_counter - help | used_for\n",
      "student - help | used_for\n",
      "success - help | used_for\n",
      "cry_for_help - help | derived_from\n",
      "helps - help | form_of\n",
      "help_out - help | derived_from\n",
      "helpable - help | derived_from\n",
      "unhelpable - help | derived_from\n",
      "unhelped - help | derived_from\n",
      "helped - help | form_of\n",
      "helping - help | form_of\n",
      "helps - help | form_of\n",
      "benefit - help | manner_of\n",
      "bring_around - help | manner_of\n",
      "aid - help | synonym\n",
      "avail - help | manner_of\n",
      "benefact - help | manner_of\n",
      "bootstrap - help | manner_of\n",
      "care - help | manner_of\n",
      "expedite - help | manner_of\n",
      "facilitate - help | manner_of\n",
      "help_out - help | manner_of\n",
      "serve - help | manner_of\n",
      "subserve - help | manner_of\n",
      "succor - help | manner_of\n",
      "aid - help | synonym\n",
      "assist - help | synonym\n",
      "crutch - help | used_for\n",
      "machine - help | used_for\n",
      "machinery - help | used_for\n",
      "mechanism - help | used_for\n",
      "facilitate - help | synonym\n",
      "means - help | used_for\n",
      "help - do | antonym\n",
      "help - do_nothing | antonym\n",
      "help - giving | antonym\n",
      "help - giving_trouble | antonym\n",
      "help - hinder | antonym\n",
      "help - hurt | antonym\n",
      "help - hurting | antonym\n",
      "help - leave | antonym\n",
      "help - leave_stranded | antonym\n",
      "help - nothing | antonym\n",
      "help - stranded | antonym\n",
      "help - trouble | antonym\n",
      "help - unhelpful | antonym\n",
      "help - primary_source_of_information_about_windows | defined_as\n",
      "help - ask_permission | has_first_subevent\n",
      "help - ask_what_person_needs | has_first_subevent\n",
      "help - decide_to_help | has_first_subevent\n",
      "help - find_out_problem | has_first_subevent\n",
      "help - find_out_what_need | has_first_subevent\n",
      "help - identify_needs | has_first_subevent\n",
      "help - notice_need_help | has_first_subevent\n",
      "help - see_needs_help | has_first_subevent\n",
      "help - accept_thanks | has_last_subevent\n",
      "help - make_sure_alright | has_last_subevent\n",
      "help - say_welcome | has_last_subevent\n",
      "help - aid | has_prerequisite\n",
      "help - altruist | has_prerequisite\n",
      "help - anticipate | has_prerequisite\n",
      "help - ask_first | has_prerequisite\n",
      "help - ask_if_need | has_prerequisite\n",
      "help - ask_if_need_help | has_prerequisite\n",
      "help - ask_questions | has_prerequisite\n",
      "help - ask_what_need | has_prerequisite\n",
      "help - assist | has_prerequisite\n",
      "help - become_saint | has_prerequisite\n",
      "help - become_samaratain | has_prerequisite\n",
      "help - become_samaratan | has_prerequisite\n",
      "help - determine_need | has_prerequisite\n",
      "help - do_nicely | has_prerequisite\n",
      "help - do_so | has_prerequisite\n",
      "help - find_out_exactly_what_need | has_prerequisite\n",
      "help - find_out_help_need | has_prerequisite\n",
      "help - find_out_what_need | has_prerequisite\n",
      "help - find_out_what_needs | has_prerequisite\n",
      "help - find_way_to_help | has_prerequisite\n",
      "help - find_with_problem | has_prerequisite\n",
      "help - give_boost | has_prerequisite\n",
      "help - give_hand | has_prerequisite\n",
      "help - give_money | has_prerequisite\n",
      "help - have_kind_heart | has_prerequisite\n",
      "help - hold_hand_through | has_prerequisite\n",
      "help - know_if_fearful | has_prerequisite\n",
      "help - know_if_guilty | has_prerequisite\n",
      "help - know_if_hungry | has_prerequisite\n",
      "help - know_if_sleepy | has_prerequisite\n",
      "help - know_if_thirsty | has_prerequisite\n",
      "help - know_if_tired | has_prerequisite\n",
      "help - know_what's_going_on | has_prerequisite\n",
      "help - know_what_emotions_experiencing | has_prerequisite\n",
      "help - know_what_helps | has_prerequisite\n",
      "help - lend_hand | has_prerequisite\n",
      "help - make_sure_needs_help | has_prerequisite\n",
      "help - observant | has_prerequisite\n",
      "help - offer | has_prerequisite\n",
      "help - offer_assistance | has_prerequisite\n",
      "help - put_yourself_in_shoes | has_prerequisite\n",
      "help - say_nicel | has_prerequisite\n",
      "help - see_what_need_assistance_with | has_prerequisite\n",
      "help - share_experiences | has_prerequisite\n",
      "help - show_how_to_help_themself | has_prerequisite\n",
      "help - stop_and_help | has_prerequisite\n",
      "help - stop_being_such_asshole | has_prerequisite\n",
      "help - talk_to_or | has_prerequisite\n",
      "help - teach | has_prerequisite\n",
      "help - teach_what_know | has_prerequisite\n",
      "help - volunteer | has_prerequisite\n",
      "help - volunteer_time | has_prerequisite\n",
      "help - worthy | has_prerequisite\n",
      "help - address_problem_having | has_subevent\n",
      "help - do_what_need_done | has_subevent\n",
      "help - feel_good | has_subevent\n",
      "help - helping_yourself | has_subevent\n",
      "help - inner_sense_of_reward | has_subevent\n",
      "help - make_lives_better | has_subevent\n",
      "help - may_take_advantage_of | has_subevent\n",
      "help - might_feel_better | has_subevent\n",
      "help - receive_thanks | has_subevent\n",
      "help - reward | has_subevent\n",
      "help - supporting | has_subevent\n",
      "help - take_advantage_of | has_subevent\n",
      "help - thank | has_subevent\n",
      "help - book | is_a\n",
      "help - accomplish_mutual_goal | motivated_by_goal\n",
      "help - become_friend | motivated_by_goal\n",
      "help - couldn't_do_for_themselves | motivated_by_goal\n",
      "help - express_altruism | motivated_by_goal\n",
      "help - feel_part_of_humanity | motivated_by_goal\n",
      "help - generous_person | motivated_by_goal\n",
      "help - have_compassion_for | motivated_by_goal\n",
      "help - help_in_return | motivated_by_goal\n",
      "help - helping_nice | motivated_by_goal\n",
      "help - helping_people_makes_one_feel_good | motivated_by_goal\n",
      "help - make_happy | motivated_by_goal\n",
      "help - makes_feel_good_inside | motivated_by_goal\n",
      "help - maximise_own_utility | motivated_by_goal\n",
      "help - nice | motivated_by_goal\n",
      "help - of_service_to | motivated_by_goal\n",
      "help - were_able_to_help | motivated_by_goal\n",
      "help - what_goes_around_comes_around | motivated_by_goal\n",
      "help - accessible_on_mountain_top | not_has_property\n",
      "help - good | receives_action\n",
      "help - abet | related_to\n",
      "help - action | related_to\n",
      "help - advice | related_to\n",
      "help - advise | related_to\n",
      "help - aid | related_to\n",
      "help - aid_abet | related_to\n",
      "help - aid_assist | related_to\n",
      "help - aid_me | related_to\n",
      "help - aid_request | related_to\n",
      "help - aid_someone | related_to\n",
      "help - aide | related_to\n",
      "help - album | related_to\n",
      "help - ask | related_to\n",
      "help - ask_assistance | related_to\n",
      "help - assist | related_to\n",
      "help - assist_someone | related_to\n",
      "help - assistance | related_to\n",
      "help - assistance_call | related_to\n",
      "help - assistance_cry | related_to\n",
      "help - assisting | related_to\n",
      "help - association | related_to\n",
      "help - beetle | related_to\n",
      "help - beetle_song | related_to\n",
      "help - call | related_to\n",
      "help - cry | related_to\n",
      "help - cry_for | related_to\n",
      "help - crying | related_to\n",
      "help - crying_out | related_to\n",
      "help - emergency | related_to\n",
      "help - friendly | related_to\n",
      "help - friendly_assistance | related_to\n",
      "help - friendly_gesture | related_to\n",
      "help - friendly_people | related_to\n",
      "help - gesture | related_to\n",
      "help - getting | related_to\n",
      "help - getting_assistance | related_to\n",
      "help - give | related_to\n",
      "help - give_aid | related_to\n",
      "help - give_hand | related_to\n",
      "help - giving | related_to\n",
      "help - giving_assistance | related_to\n",
      "help - hand | related_to\n",
      "help - in_need | related_to\n",
      "help - need | related_to\n",
      "help - need_assistance | related_to\n",
      "help - neediness | related_to\n",
      "help - offer | related_to\n",
      "help - offer_assistance | related_to\n",
      "help - offering | related_to\n",
      "help - offering_assistance | related_to\n",
      "help - out | related_to\n",
      "help - people | related_to\n",
      "help - plea | related_to\n",
      "help - providing | related_to\n",
      "help - providing_relief | related_to\n",
      "help - relief | related_to\n",
      "help - request | related_to\n",
      "help - require | related_to\n",
      "help - require_assistance | related_to\n",
      "help - rescue | related_to\n",
      "help - save | related_to\n",
      "help - save_me | related_to\n",
      "help - saving | related_to\n",
      "help - saving_someone | related_to\n",
      "help - someone | related_to\n",
      "help - song | related_to\n",
      "help - sos | related_to\n",
      "help - sos_call | related_to\n",
      "help - support | related_to\n",
      "help - teach | related_to\n",
      "help - body_heat | related_to\n",
      "help - conserve | related_to\n",
      "help - aid | synonym\n",
      "help - assistance | synonym\n",
      "help - helper | synonym\n",
      "help - servant | synonym\n",
      "help - aid | synonym\n",
      "help - assist | synonym\n",
      "help - avert | synonym\n",
      "help - give_hand | synonym\n",
      "help - better | manner_of\n",
      "help - better | manner_of\n",
      "help - promote | manner_of\n",
      "help - support | manner_of\n",
      "help - serve | manner_of\n",
      "help - help_oneself | synonym\n",
      "help - aid | related_to\n",
      "help - assistance | related_to\n",
      "help - computer | related_to\n",
      "help - documentation | related_to\n",
      "help - software | related_to\n",
      "help - aid | synonym\n",
      "help - assistance | related_to\n",
      "help - avoid | related_to\n",
      "help - can | related_to\n",
      "help - prevent | related_to\n",
      "help - refrain | related_to\n",
      "help - restrain | related_to\n",
      "help - aid | synonym\n",
      "help - assist | synonym\n",
      "help - contribute | synonym\n",
      "help - aid | synonym\n",
      "help - aid | synonym\n",
      "help - avail | synonym\n",
      "help - assistant | synonym\n",
      "help - avail | synonym\n",
      "help - serve | synonym\n"
     ]
    }
   ],
   "source": [
    "word_t=\"help\"\n",
    "sinonimos2=[]\n",
    "for e in edges_for(Label.get(text=word_t, language='en').concepts, same_language=True):\n",
    "    print(e.start.text, \"-\", e.end.text, \"|\", e.relation.name)"
   ]
  },
  {
   "cell_type": "code",
   "execution_count": 44,
   "metadata": {},
   "outputs": [
    {
     "name": "stdout",
     "output_type": "stream",
     "text": [
      "['linkage', 'tie', 'data_link', 'linkup', 'tie', 'tie_in', 'nexus', 'bond', 'connective', 'coupler', 'juncture', 'member', 'part', 'piece', 'radio_link', 'connection', 'liaison', 'connection', 'connection', 'yoke', 'associate', 'connect', 'connect']\n"
     ]
    }
   ],
   "source": [
    "word_t=\"link\"\n",
    "sinonimos2=[]\n",
    "for e in edges_for(Label.get(text=word_t, language='en').concepts, same_language=True):\n",
    "    if \"synonym\"==e.relation.name: #and word_t== e.end.text:\n",
    "        if word_t == e.start.text:\n",
    "            #print(e.start.text, \"-\", e.end.text, \"|\", e.relation.name)\n",
    "            sinonimos2.append(e.end.text)\n",
    "        elif word_t == e.end.text:\n",
    "            #print(e.start.text, \"-\", e.end.text, \"|\", e.relation.name)\n",
    "            sinonimos2.append(e.start.text)\n",
    "print(sinonimos2)"
   ]
  },
  {
   "cell_type": "code",
   "execution_count": 45,
   "metadata": {},
   "outputs": [
    {
     "data": {
      "text/plain": [
       "set()"
      ]
     },
     "execution_count": 45,
     "metadata": {},
     "output_type": "execute_result"
    }
   ],
   "source": [
    "set(sinonimos).intersection(set(sinonimos2))"
   ]
  },
  {
   "cell_type": "markdown",
   "metadata": {},
   "source": [
    "# IS A"
   ]
  },
  {
   "cell_type": "code",
   "execution_count": 46,
   "metadata": {},
   "outputs": [
    {
     "name": "stdout",
     "output_type": "stream",
     "text": [
      "coat - protective_covering | is_a\n",
      "armour - protective_covering | related_to\n",
      "armor - protective_covering | is_a\n",
      "car_seat_cover - protective_covering | is_a\n",
      "eyelid - protective_covering | is_a\n",
      "insulating_material - protective_covering | is_a\n",
      "kneecap - protective_covering | is_a\n",
      "lining - protective_covering | is_a\n",
      "mammal_hair - protective_covering | is_a\n",
      "opaque_covering - protective_covering | is_a\n",
      "payload_fairing - protective_covering | is_a\n",
      "physical_impact_buffer - protective_covering | is_a\n",
      "protective_garment - protective_covering | is_a\n",
      "shield - protective_covering | is_a\n",
      "slipcover - protective_covering | is_a\n",
      "swimming_pool_cover - protective_covering | is_a\n",
      "table_covering - protective_covering | is_a\n",
      "umbrella_used_as_covering - protective_covering | is_a\n",
      "upholstery - protective_covering | is_a\n",
      "weather_strip - protective_covering | is_a\n",
      "window_well_cover - protective_covering | is_a\n",
      "wool - protective_covering | is_a\n",
      "armor - protective_covering | is_a\n",
      "clypeus - protective_covering | is_a\n",
      "sclerite - protective_covering | is_a\n",
      "scute - protective_covering | is_a\n",
      "armor - protective_covering | is_a\n",
      "bell_jar - protective_covering | is_a\n",
      "binder - protective_covering | is_a\n",
      "binding - protective_covering | is_a\n",
      "blind - protective_covering | is_a\n",
      "bracer - protective_covering | is_a\n",
      "cap - protective_covering | is_a\n",
      "cloche - protective_covering | is_a\n",
      "coaster - protective_covering | is_a\n",
      "cold_frame - protective_covering | is_a\n",
      "crystal - protective_covering | is_a\n",
      "dust_cover - protective_covering | is_a\n",
      "faceplate - protective_covering | is_a\n",
      "facing - protective_covering | is_a\n",
      "fall_board - protective_covering | is_a\n",
      "finger_plate - protective_covering | is_a\n",
      "heat_shield - protective_covering | is_a\n",
      "hood - protective_covering | is_a\n",
      "housing - protective_covering | is_a\n",
      "lampshade - protective_covering | is_a\n",
      "lining - protective_covering | is_a\n",
      "mask - protective_covering | is_a\n",
      "mulch - protective_covering | is_a\n",
      "roof - protective_covering | is_a\n",
      "screen - protective_covering | is_a\n",
      "shade - protective_covering | is_a\n",
      "sheath - protective_covering | is_a\n",
      "sheathing - protective_covering | is_a\n",
      "shelter - protective_covering | is_a\n",
      "shield - protective_covering | is_a\n",
      "splashboard - protective_covering | is_a\n",
      "splasher - protective_covering | is_a\n",
      "testudo - protective_covering | is_a\n",
      "thumbstall - protective_covering | is_a\n",
      "toecap - protective_covering | is_a\n",
      "washboard - protective_covering | is_a\n",
      "protection - protective_covering | synonym\n",
      "protective_cover - protective_covering | synonym\n",
      "protective_covering - covering | is_a\n",
      "protective_covering - device | is_a\n",
      "protective_covering - non_agentive_artifact | is_a\n",
      "protective_covering - body_covering | is_a\n",
      "protective_covering - covering | is_a\n"
     ]
    }
   ],
   "source": [
    "word_h=\"protective_covering\"\n",
    "for e in edges_for(Label.get(text=word_h, language='en').concepts, same_language=True):\n",
    "    #if \"is_a\"==e.relation.name:# and word_h== e.end.text: #and word_t== e.end.text:\n",
    "        print(e.start.text, \"-\", e.end.text, \"|\", e.relation.name)"
   ]
  },
  {
   "cell_type": "code",
   "execution_count": 13,
   "metadata": {},
   "outputs": [
    {
     "name": "stdout",
     "output_type": "stream",
     "text": [
      "airplanes - wings | has_a\n",
      "angels - wings | has_a\n",
      "bat - wings | has_a\n",
      "bats - wings | has_a\n",
      "bird - wings | has_a\n",
      "birds - wings | has_a\n",
      "birds_and_airplanes - wings | has_a\n",
      "birds_fly_because - wings | has_a\n",
      "butterflies - wings | has_a\n",
      "butterfly - wings | has_a\n",
      "fairies - wings | has_a\n",
      "fly - wings | has_a\n",
      "most_birds - wings | has_a\n",
      "moths - wings | has_a\n",
      "parrots - wings | has_a\n",
      "people_fly_in_airplanes - wings | has_a\n",
      "planes - wings | has_a\n",
      "wings - higher_pressure_beneath | has_a\n"
     ]
    }
   ],
   "source": [
    "word_h=\"wings\"\n",
    "for e in edges_for(Label.get(text=word_h, language='en').concepts, same_language=True):\n",
    "    if \"has_a\"==e.relation.name:# and word_h== e.end.text: #and word_t== e.end.text:\n",
    "        print(e.start.text, \"-\", e.end.text, \"|\", e.relation.name)"
   ]
  },
  {
   "cell_type": "code",
   "execution_count": 14,
   "metadata": {},
   "outputs": [
    {
     "name": "stdout",
     "output_type": "stream",
     "text": [
      "blue - yellow | distinct_from\n",
      "green - yellow | distinct_from\n",
      "amber - yellow | synonym\n",
      "dilawan - yellow | synonym\n",
      "uncourageous - yellow | synonym\n",
      "yellow - yellow | synonym\n",
      "yellowness - yellow | synonym\n",
      "yellow - blue | distinct_from\n",
      "yellow - red | distinct_from\n",
      "yellow - achromatic | distinct_from\n",
      "yellow - courageous | distinct_from\n",
      "yellow - fearless | distinct_from\n",
      "yellow - cowardly | synonym\n",
      "yellow - fearful | synonym\n",
      "yellow - old | synonym\n",
      "yellow - xanthous | synonym\n",
      "yellow - yellowish | synonym\n",
      "yellow - amber | synonym\n",
      "yellow - yellowness | synonym\n",
      "yellow - chickenhearted | synonym\n",
      "yellow - icteric | synonym\n",
      "yellow - sensationalistic | synonym\n",
      "yellow - yellowed | synonym\n",
      "yellow - yellowish | synonym\n",
      "yellow - discolor | synonym\n",
      "yellow - turn_yellow | synonym\n"
     ]
    }
   ],
   "source": [
    "word_h=\"yellow\"\n",
    "for e in edges_for(Label.get(text=word_h, language='en').concepts, same_language=True):\n",
    "    if \"distinct_from\"==e.relation.name:# and word_h== e.end.text: #and word_t== e.end.text:\n",
    "        print(e.start.text, \"-\", e.end.text, \"|\", e.relation.name)\n",
    "    if \"synonym\"==e.relation.name:# and word_h== e.end.text: #and word_t== e.end.text:\n",
    "        print(e.start.text, \"-\", e.end.text, \"|\", e.relation.name)"
   ]
  },
  {
   "cell_type": "code",
   "execution_count": 15,
   "metadata": {},
   "outputs": [
    {
     "name": "stdout",
     "output_type": "stream",
     "text": [
      "adperson - person | derived_from\n",
      "alderperson - person | derived_from\n",
      "ambulanceperson - person | derived_from\n",
      "anchorperson - person | derived_from\n",
      "antiperson - person | derived_from\n",
      "assemblyperson - person | derived_from\n",
      "barperson - person | derived_from\n",
      "baseperson - person | derived_from\n",
      "bellperson - person | derived_from\n",
      "boatperson - person | derived_from\n",
      "bushperson - person | derived_from\n",
      "businessperson - person | derived_from\n",
      "cameraperson - person | derived_from\n",
      "catperson - person | derived_from\n",
      "cattleperson - person | derived_from\n",
      "caveperson - person | derived_from\n",
      "chairperson - person | derived_from\n",
      "churchperson - person | derived_from\n",
      "clergyperson - person | derived_from\n",
      "committeeperson - person | derived_from\n",
      "congressperson - person | derived_from\n",
      "conperson - person | derived_from\n",
      "corpsperson - person | derived_from\n",
      "councilperson - person | derived_from\n",
      "counterperson - person | derived_from\n"
     ]
    },
    {
     "name": "stdout",
     "output_type": "stream",
     "text": [
      "countryperson - person | derived_from\n",
      "cowperson - person | derived_from\n",
      "crewperson - person | derived_from\n",
      "cumberperson - person | derived_from\n",
      "cyberperson - person | derived_from\n",
      "deliveryperson - person | derived_from\n",
      "deperson - person | derived_from\n",
      "doorperson - person | derived_from\n",
      "dustperson - person | derived_from\n",
      "dutchperson - person | derived_from\n",
      "earthperson - person | derived_from\n",
      "englishperson - person | derived_from\n",
      "fireperson - person | derived_from\n",
      "fisherperson - person | derived_from\n",
      "flagperson - person | derived_from\n",
      "floorperson - person | derived_from\n",
      "foreperson - person | derived_from\n",
      "freedperson - person | derived_from\n",
      "frenchperson - person | derived_from\n",
      "freshperson - person | derived_from\n",
      "frontiersperson - person | derived_from\n",
      "frontperson - person | derived_from\n",
      "garbageperson - person | derived_from\n",
      "gunperson - person | derived_from\n",
      "handyperson - person | derived_from\n",
      "horseperson - person | derived_from\n",
      "houseperson - person | derived_from\n",
      "intraperson - person | derived_from\n",
      "ironperson - person | derived_from\n",
      "jazzperson - person | derived_from\n",
      "journeyperson - person | derived_from\n",
      "juryperson - person | derived_from\n",
      "layperson - person | derived_from\n",
      "lessperson - person | derived_from\n",
      "madperson - person | derived_from\n",
      "mailperson - person | derived_from\n",
      "mediaperson - person | derived_from\n",
      "merperson - person | derived_from\n",
      "middleperson - person | derived_from\n",
      "militiaperson - person | derived_from\n",
      "milkperson - person | derived_from\n",
      "misperson - person | derived_from\n",
      "multiperson - person | derived_from\n",
      "newspaperperson - person | derived_from\n",
      "newsperson - person | derived_from\n",
      "nonperson - person | derived_from\n",
      "nurseryperson - person | derived_from\n",
      "overperson - person | derived_from\n",
      "patrolperson - person | derived_from\n",
      "personable - person | derived_from\n",
      "personal - person | derived_from\n",
      "personative - person | derived_from\n",
      "personhood - person | derived_from\n",
      "personise - person | derived_from\n",
      "personish - person | derived_from\n",
      "personism - person | derived_from\n",
      "personist - person | derived_from\n",
      "personize - person | derived_from\n",
      "personkind - person | derived_from\n",
      "personness - person | derived_from\n",
      "personology - person | derived_from\n",
      "personpower - person | derived_from\n",
      "policeperson - person | derived_from\n",
      "postperson - person | derived_from\n",
      "pressperson - person | derived_from\n",
      "repairperson - person | derived_from\n",
      "salesperson - person | derived_from\n",
      "schoolperson - person | derived_from\n",
      "scotsperson - person | derived_from\n",
      "selectperson - person | derived_from\n",
      "serviceperson - person | derived_from\n",
      "showperson - person | derived_from\n",
      "sideperson - person | derived_from\n",
      "signalperson - person | derived_from\n",
      "slaughterperson - person | derived_from\n",
      "snowperson - person | derived_from\n",
      "soundperson - person | derived_from\n",
      "sportsperson - person | derived_from\n",
      "statesperson - person | derived_from\n",
      "stuntperson - person | derived_from\n",
      "superperson - person | derived_from\n",
      "theatreperson - person | derived_from\n",
      "tradesperson - person | derived_from\n",
      "underperson - person | derived_from\n",
      "unperson - person | derived_from\n",
      "venireperson - person | derived_from\n",
      "vestryperson - person | derived_from\n",
      "waitperson - person | derived_from\n",
      "weatherperson - person | derived_from\n",
      "workperson - person | derived_from\n",
      "yardperson - person | derived_from\n",
      "person_county - person | derived_from\n",
      "personnel - person | derived_from\n"
     ]
    }
   ],
   "source": [
    "word_h=\"person\"\n",
    "for e in edges_for(Label.get(text=word_h, language='en').concepts, same_language=True):\n",
    "    if \"derived_from\"==e.relation.name:# and word_h== e.end.text: #and word_t== e.end.text:\n",
    "        print(e.start.text, \"-\", e.end.text, \"|\", e.relation.name)"
   ]
  },
  {
   "cell_type": "code",
   "execution_count": 16,
   "metadata": {},
   "outputs": [
    {
     "name": "stdout",
     "output_type": "stream",
     "text": [
      "dressing_nice - ball | used_for\n",
      "ball - bearing | used_for\n",
      "ball - bearings | used_for\n",
      "ball - bouncing | used_for\n",
      "ball - bowling | used_for\n",
      "ball - catching | used_for\n",
      "ball - dancing_at | used_for\n",
      "ball - do_pilate_exercises | used_for\n",
      "ball - game | used_for\n",
      "ball - having_fun | used_for\n",
      "ball - hitting | used_for\n",
      "ball - inflating | used_for\n",
      "ball - kicking | used_for\n",
      "ball - play | used_for\n",
      "ball - play_golf | used_for\n",
      "ball - play_with_dog | used_for\n",
      "ball - playing_baseball | used_for\n",
      "ball - playing_basketball | used_for\n",
      "ball - playing_football | used_for\n",
      "ball - playing_game | used_for\n",
      "ball - playing_games | used_for\n",
      "ball - playing_soccer | used_for\n",
      "ball - rolling | used_for\n",
      "ball - tennis | used_for\n",
      "ball - throwing | used_for\n",
      "ball - bounce | used_for\n",
      "ball - roll | used_for\n"
     ]
    }
   ],
   "source": [
    "word_h=\"ball\"\n",
    "for e in edges_for(Label.get(text=word_h, language='en').concepts, same_language=True):\n",
    "    if \"used_for\"==e.relation.name:# and word_h== e.end.text: #and word_t== e.end.text:\n",
    "        print(e.start.text, \"-\", e.end.text, \"|\", e.relation.name)"
   ]
  },
  {
   "cell_type": "code",
   "execution_count": 17,
   "metadata": {},
   "outputs": [
    {
     "name": "stdout",
     "output_type": "stream",
     "text": [
      "apple - orange | distinct_from\n",
      "lemon - orange | distinct_from\n",
      "orangeness - orange | synonym\n",
      "orange_river - orange | synonym\n",
      "orange_tree - orange | synonym\n",
      "orange - orange | synonym\n",
      "orange - orange | synonym\n",
      "orange - apple | distinct_from\n",
      "orange - lemon | distinct_from\n",
      "orange - orangish | synonym\n"
     ]
    }
   ],
   "source": [
    "word_h=\"orange\"\n",
    "for e in edges_for(Label.get(text=word_h, language='en').concepts, same_language=True):\n",
    "    if \"distinct_from\"==e.relation.name:# and word_h== e.end.text: #and word_t== e.end.text:\n",
    "        print(e.start.text, \"-\", e.end.text, \"|\", e.relation.name)\n",
    "    if \"synonym\"==e.relation.name:# and word_h== e.end.text: #and word_t== e.end.text:\n",
    "        print(e.start.text, \"-\", e.end.text, \"|\", e.relation.name)"
   ]
  },
  {
   "cell_type": "code",
   "execution_count": 18,
   "metadata": {},
   "outputs": [
    {
     "data": {
      "text/plain": [
       "0"
      ]
     },
     "execution_count": 18,
     "metadata": {},
     "output_type": "execute_result"
    }
   ],
   "source": [
    "len(set(sinonimos).intersection(set(sinonimos2)))"
   ]
  },
  {
   "cell_type": "code",
   "execution_count": 19,
   "metadata": {},
   "outputs": [
    {
     "name": "stdout",
     "output_type": "stream",
     "text": [
      "An exception occurred\n"
     ]
    }
   ],
   "source": [
    "from conceptnet_lite import Label\n",
    "\n",
    "try:\n",
    "    cat_concepts = Label.get(text='blood-red').concepts  \n",
    "    for c in cat_concepts:\n",
    "        print(\"    Concept URI:\", c.uri)\n",
    "        print(\"    Concept text:\", c.text)\n",
    "except:\n",
    "  print(\"An exception occurred\")"
   ]
  },
  {
   "cell_type": "code",
   "execution_count": 20,
   "metadata": {},
   "outputs": [
    {
     "name": "stdout",
     "output_type": "stream",
     "text": [
      "0\n",
      "1\n",
      "Found\n",
      "2\n"
     ]
    }
   ],
   "source": [
    "list1 = [[1, 2, 3], [4, 5, 6], [7, 8, 9]]\n",
    "\n",
    "n = 9\n",
    "\n",
    "for x in range(3):\n",
    "    for y in range(3):\n",
    "        if list1[x][y] == n:\n",
    "            print(\"Found\")\n",
    "            break\n",
    "    print(x)\n",
    "    #break"
   ]
  },
  {
   "cell_type": "code",
   "execution_count": 21,
   "metadata": {},
   "outputs": [
    {
     "name": "stdout",
     "output_type": "stream",
     "text": [
      "ada\n"
     ]
    }
   ],
   "source": [
    "try:\n",
    "    print(\"ada\")\n",
    "except:\n",
    "    print()"
   ]
  }
 ],
 "metadata": {
  "kernelspec": {
   "display_name": "base",
   "language": "python",
   "name": "python3"
  },
  "language_info": {
   "codemirror_mode": {
    "name": "ipython",
    "version": 3
   },
   "file_extension": ".py",
   "mimetype": "text/x-python",
   "name": "python",
   "nbconvert_exporter": "python",
   "pygments_lexer": "ipython3",
   "version": "3.9.13"
  }
 },
 "nbformat": 4,
 "nbformat_minor": 2
}
