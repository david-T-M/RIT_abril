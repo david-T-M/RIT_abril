{
 "cells": [
  {
   "cell_type": "code",
   "execution_count": 1,
   "metadata": {},
   "outputs": [],
   "source": [
    "import pandas as pd"
   ]
  },
  {
   "cell_type": "code",
   "execution_count": 2,
   "metadata": {},
   "outputs": [],
   "source": [
    "synonyms=dict()"
   ]
  },
  {
   "cell_type": "code",
   "execution_count": 47,
   "metadata": {},
   "outputs": [],
   "source": [
    "for i in range(8):\n",
    "    if i==0:\n",
    "        df_syn = pd.read_pickle('salida/nuevo3/RTE3/DEV_'+str(i+1)+'.csv_Synonym.pickle')\n",
    "    else:\n",
    "        try:\n",
    "            temp = pd.read_pickle('salida/nuevo3/RTE3/DEV_'+str(i+1)+'.csv_Synonym.pickle')\n",
    "            df_syn=pd.concat([df_syn,temp])\n",
    "        except:\n",
    "            pass"
   ]
  },
  {
   "cell_type": "code",
   "execution_count": 48,
   "metadata": {},
   "outputs": [],
   "source": [
    "for i in range(8):\n",
    "    try:\n",
    "        temp = pd.read_pickle('salida/nuevo3/RTE3/TEST_'+str(i+1)+'.csv_Synonym.pickle')\n",
    "        df_syn=pd.concat([df_syn,temp])\n",
    "    except:\n",
    "        pass"
   ]
  },
  {
   "cell_type": "code",
   "execution_count": 49,
   "metadata": {},
   "outputs": [],
   "source": [
    "for i in range(8):\n",
    "    try:\n",
    "        temp = pd.read_pickle('salida/nuevo3/GHS/GHS_'+str(i+1)+'.csv_Synonym.pickle')\n",
    "        df_syn=pd.concat([df_syn,temp])\n",
    "    except:\n",
    "        pass"
   ]
  },
  {
   "cell_type": "code",
   "execution_count": 50,
   "metadata": {},
   "outputs": [],
   "source": [
    "for i in range(5):\n",
    "    try:\n",
    "        temp = pd.read_pickle('salida/nuevo3/SICK/DEV_'+str(i+1)+'.csv_Synonym.pickle')\n",
    "        df_syn=pd.concat([df_syn,temp])\n",
    "    except:\n",
    "        pass"
   ]
  },
  {
   "cell_type": "code",
   "execution_count": 51,
   "metadata": {},
   "outputs": [],
   "source": [
    "for i in range(45):\n",
    "    try:\n",
    "        temp = pd.read_pickle('salida/nuevo3/SICK/TRAIN_'+str(i+1)+'.csv_Synonym.pickle')\n",
    "        df_syn=pd.concat([df_syn,temp])\n",
    "    except:\n",
    "        pass"
   ]
  },
  {
   "cell_type": "code",
   "execution_count": 52,
   "metadata": {},
   "outputs": [],
   "source": [
    "for i in range(50):\n",
    "    try:\n",
    "        temp = pd.read_pickle('salida/nuevo3/SICK/TEST_'+str(i+1)+'.csv_Synonym.pickle')\n",
    "        df_syn=pd.concat([df_syn,temp])\n",
    "    except:\n",
    "        pass"
   ]
  },
  {
   "cell_type": "code",
   "execution_count": 53,
   "metadata": {},
   "outputs": [
    {
     "data": {
      "text/html": [
       "<div>\n",
       "<style scoped>\n",
       "    .dataframe tbody tr th:only-of-type {\n",
       "        vertical-align: middle;\n",
       "    }\n",
       "\n",
       "    .dataframe tbody tr th {\n",
       "        vertical-align: top;\n",
       "    }\n",
       "\n",
       "    .dataframe thead th {\n",
       "        text-align: right;\n",
       "    }\n",
       "</style>\n",
       "<table border=\"1\" class=\"dataframe\">\n",
       "  <thead>\n",
       "    <tr style=\"text-align: right;\">\n",
       "      <th></th>\n",
       "      <th>word</th>\n",
       "      <th>Synonym</th>\n",
       "    </tr>\n",
       "  </thead>\n",
       "  <tbody>\n",
       "    <tr>\n",
       "      <th>0</th>\n",
       "      <td>sale</td>\n",
       "      <td>{sales_agreement, sale, cut_rate_sale, sales_e...</td>\n",
       "    </tr>\n",
       "    <tr>\n",
       "      <th>1</th>\n",
       "      <td>make</td>\n",
       "      <td>{puddle, lay, fabricate, induce, urinate, turn...</td>\n",
       "    </tr>\n",
       "    <tr>\n",
       "      <th>2</th>\n",
       "      <td>pay</td>\n",
       "      <td>{compensation, fee, pay_off, compensate, actio...</td>\n",
       "    </tr>\n",
       "    <tr>\n",
       "      <th>3</th>\n",
       "      <td>yukos</td>\n",
       "      <td>{yukos}</td>\n",
       "    </tr>\n",
       "    <tr>\n",
       "      <th>4</th>\n",
       "      <td>27</td>\n",
       "      <td>{twenty_seven, 27, xxvii}</td>\n",
       "    </tr>\n",
       "    <tr>\n",
       "      <th>...</th>\n",
       "      <td>...</td>\n",
       "      <td>...</td>\n",
       "    </tr>\n",
       "    <tr>\n",
       "      <th>47966</th>\n",
       "      <td>wall</td>\n",
       "      <td>{surround, palisade, paries, wall, fence_in, r...</td>\n",
       "    </tr>\n",
       "    <tr>\n",
       "      <th>47967</th>\n",
       "      <td>snowboarder</td>\n",
       "      <td>{snowboarder}</td>\n",
       "    </tr>\n",
       "    <tr>\n",
       "      <th>47968</th>\n",
       "      <td>leap</td>\n",
       "      <td>{bound, jump, spring, pronk, saltation, pounce...</td>\n",
       "    </tr>\n",
       "    <tr>\n",
       "      <th>47969</th>\n",
       "      <td>fearlessly</td>\n",
       "      <td>{fearlessly, intrepidly, dauntlessly}</td>\n",
       "    </tr>\n",
       "    <tr>\n",
       "      <th>47970</th>\n",
       "      <td>snow</td>\n",
       "      <td>{snowfall, snow, charlie, coke, baron_snow_of_...</td>\n",
       "    </tr>\n",
       "  </tbody>\n",
       "</table>\n",
       "<p>47971 rows × 2 columns</p>\n",
       "</div>"
      ],
      "text/plain": [
       "              word                                            Synonym\n",
       "0             sale  {sales_agreement, sale, cut_rate_sale, sales_e...\n",
       "1             make  {puddle, lay, fabricate, induce, urinate, turn...\n",
       "2              pay  {compensation, fee, pay_off, compensate, actio...\n",
       "3            yukos                                            {yukos}\n",
       "4               27                          {twenty_seven, 27, xxvii}\n",
       "...            ...                                                ...\n",
       "47966         wall  {surround, palisade, paries, wall, fence_in, r...\n",
       "47967  snowboarder                                      {snowboarder}\n",
       "47968         leap  {bound, jump, spring, pronk, saltation, pounce...\n",
       "47969   fearlessly              {fearlessly, intrepidly, dauntlessly}\n",
       "47970         snow  {snowfall, snow, charlie, coke, baron_snow_of_...\n",
       "\n",
       "[47971 rows x 2 columns]"
      ]
     },
     "execution_count": 53,
     "metadata": {},
     "output_type": "execute_result"
    }
   ],
   "source": [
    "df_syn = df_syn.reset_index(drop=True)\n",
    "df_syn"
   ]
  },
  {
   "cell_type": "code",
   "execution_count": 54,
   "metadata": {},
   "outputs": [],
   "source": [
    "for index,strings in df_syn.iterrows():\n",
    "    synonyms[strings['word']]=strings['Synonym']"
   ]
  },
  {
   "cell_type": "code",
   "execution_count": 55,
   "metadata": {},
   "outputs": [
    {
     "data": {
      "text/plain": [
       "11543"
      ]
     },
     "execution_count": 55,
     "metadata": {},
     "output_type": "execute_result"
    }
   ],
   "source": [
    "len(synonyms)"
   ]
  },
  {
   "cell_type": "code",
   "execution_count": 56,
   "metadata": {},
   "outputs": [],
   "source": [
    "df = pd.DataFrame([[key, synonyms[key]] for key in synonyms.keys()], columns=['word', 'Synonym'])\n",
    "df.to_pickle(\"salida/nuevo3/Synonyms.pickle\")"
   ]
  },
  {
   "cell_type": "markdown",
   "metadata": {},
   "source": [
    "# Creación de pickle con hiperonimos"
   ]
  },
  {
   "cell_type": "code",
   "execution_count": 58,
   "metadata": {},
   "outputs": [],
   "source": [
    "hyperonimos=dict()"
   ]
  },
  {
   "cell_type": "code",
   "execution_count": 59,
   "metadata": {},
   "outputs": [],
   "source": [
    "for i in range(8):\n",
    "    if i==0:\n",
    "        df_syn = pd.read_pickle('salida/nuevo3/RTE3/DEV_'+str(i+1)+'.csv_Hyperonym.pickle')\n",
    "    else:\n",
    "        try:\n",
    "            temp = pd.read_pickle('salida/nuevo3/RTE3/DEV_'+str(i+1)+'.csv_Hyperonym.pickle')\n",
    "            df_syn=pd.concat([df_syn,temp])\n",
    "        except:\n",
    "            pass"
   ]
  },
  {
   "cell_type": "code",
   "execution_count": 60,
   "metadata": {},
   "outputs": [],
   "source": [
    "for i in range(8):\n",
    "    try:\n",
    "        temp = pd.read_pickle('salida/nuevo3/RTE3/TEST_'+str(i+1)+'.csv_Hyperonym.pickle')\n",
    "        df_syn=pd.concat([df_syn,temp])\n",
    "    except:\n",
    "        pass"
   ]
  },
  {
   "cell_type": "code",
   "execution_count": 61,
   "metadata": {},
   "outputs": [],
   "source": [
    "for i in range(8):\n",
    "    try:\n",
    "        temp = pd.read_pickle('salida/nuevo3/GHS/GHS_'+str(i+1)+'.csv_Hyperonym.pickle')\n",
    "        df_syn=pd.concat([df_syn,temp])\n",
    "    except:\n",
    "        pass"
   ]
  },
  {
   "cell_type": "code",
   "execution_count": 62,
   "metadata": {},
   "outputs": [],
   "source": [
    "for i in range(5):\n",
    "    try:\n",
    "        temp = pd.read_pickle('salida/nuevo3/SICK/DEV_'+str(i+1)+'.csv_Hyperonym.pickle')\n",
    "        df_syn=pd.concat([df_syn,temp])\n",
    "    except:\n",
    "        pass"
   ]
  },
  {
   "cell_type": "code",
   "execution_count": 63,
   "metadata": {},
   "outputs": [],
   "source": [
    "for i in range(45):\n",
    "    try:\n",
    "        temp = pd.read_pickle('salida/nuevo3/SICK/TRAIN_'+str(i+1)+'.csv_Hyperonym.pickle')\n",
    "        df_syn=pd.concat([df_syn,temp])\n",
    "    except:\n",
    "        pass"
   ]
  },
  {
   "cell_type": "code",
   "execution_count": 64,
   "metadata": {},
   "outputs": [],
   "source": [
    "for i in range(50):\n",
    "    try:\n",
    "        temp = pd.read_pickle('salida/nuevo3/SICK/TEST_'+str(i+1)+'.csv_Hyperonympickle')\n",
    "        df_syn=pd.concat([df_syn,temp])\n",
    "    except:\n",
    "        pass"
   ]
  },
  {
   "cell_type": "code",
   "execution_count": 65,
   "metadata": {},
   "outputs": [
    {
     "data": {
      "text/html": [
       "<div>\n",
       "<style scoped>\n",
       "    .dataframe tbody tr th:only-of-type {\n",
       "        vertical-align: middle;\n",
       "    }\n",
       "\n",
       "    .dataframe tbody tr th {\n",
       "        vertical-align: top;\n",
       "    }\n",
       "\n",
       "    .dataframe thead th {\n",
       "        text-align: right;\n",
       "    }\n",
       "</style>\n",
       "<table border=\"1\" class=\"dataframe\">\n",
       "  <thead>\n",
       "    <tr style=\"text-align: right;\">\n",
       "      <th></th>\n",
       "      <th>word</th>\n",
       "      <th>Hyperonym</th>\n",
       "    </tr>\n",
       "  </thead>\n",
       "  <tbody>\n",
       "    <tr>\n",
       "      <th>0</th>\n",
       "      <td>sale</td>\n",
       "      <td>{reduced_price, cheap_products, agreement, sto...</td>\n",
       "    </tr>\n",
       "    <tr>\n",
       "      <th>1</th>\n",
       "      <td>make</td>\n",
       "      <td>{kind, identification, doing, brand, utility, ...</td>\n",
       "    </tr>\n",
       "    <tr>\n",
       "      <th>2</th>\n",
       "      <td>pay</td>\n",
       "      <td>{money_owed, agreement, job_check, employee_mo...</td>\n",
       "    </tr>\n",
       "    <tr>\n",
       "      <th>3</th>\n",
       "      <td>yukos</td>\n",
       "      <td>{yuko, company}</td>\n",
       "    </tr>\n",
       "    <tr>\n",
       "      <th>4</th>\n",
       "      <td>27</td>\n",
       "      <td>{}</td>\n",
       "    </tr>\n",
       "    <tr>\n",
       "      <th>...</th>\n",
       "      <td>...</td>\n",
       "      <td>...</td>\n",
       "    </tr>\n",
       "    <tr>\n",
       "      <th>104934</th>\n",
       "      <td>lave</td>\n",
       "      <td>{launder, pour, hang, rest, crowd, belive, lad...</td>\n",
       "    </tr>\n",
       "    <tr>\n",
       "      <th>104935</th>\n",
       "      <td>remain</td>\n",
       "      <td>{still_here, human_being, await, still, whats,...</td>\n",
       "    </tr>\n",
       "    <tr>\n",
       "      <th>104936</th>\n",
       "      <td>take_breather</td>\n",
       "      <td>{pause, relax, catch_one's_breath, get_some_ai...</td>\n",
       "    </tr>\n",
       "    <tr>\n",
       "      <th>104937</th>\n",
       "      <td>eternal_rest</td>\n",
       "      <td>{}</td>\n",
       "    </tr>\n",
       "    <tr>\n",
       "      <th>104938</th>\n",
       "      <td>remaining</td>\n",
       "      <td>{remain, remnant}</td>\n",
       "    </tr>\n",
       "  </tbody>\n",
       "</table>\n",
       "<p>104939 rows × 2 columns</p>\n",
       "</div>"
      ],
      "text/plain": [
       "                 word                                          Hyperonym\n",
       "0                sale  {reduced_price, cheap_products, agreement, sto...\n",
       "1                make  {kind, identification, doing, brand, utility, ...\n",
       "2                 pay  {money_owed, agreement, job_check, employee_mo...\n",
       "3               yukos                                    {yuko, company}\n",
       "4                  27                                                 {}\n",
       "...               ...                                                ...\n",
       "104934           lave  {launder, pour, hang, rest, crowd, belive, lad...\n",
       "104935         remain  {still_here, human_being, await, still, whats,...\n",
       "104936  take_breather  {pause, relax, catch_one's_breath, get_some_ai...\n",
       "104937   eternal_rest                                                 {}\n",
       "104938      remaining                                  {remain, remnant}\n",
       "\n",
       "[104939 rows x 2 columns]"
      ]
     },
     "execution_count": 65,
     "metadata": {},
     "output_type": "execute_result"
    }
   ],
   "source": [
    "df_syn = df_syn.reset_index(drop=True)\n",
    "df_syn"
   ]
  },
  {
   "cell_type": "code",
   "execution_count": 66,
   "metadata": {},
   "outputs": [],
   "source": [
    "for index,strings in df_syn.iterrows():\n",
    "    hyperonimos[strings['word']]=strings['Hyperonym']"
   ]
  },
  {
   "cell_type": "code",
   "execution_count": 67,
   "metadata": {},
   "outputs": [
    {
     "data": {
      "text/plain": [
       "22365"
      ]
     },
     "execution_count": 67,
     "metadata": {},
     "output_type": "execute_result"
    }
   ],
   "source": [
    "len(hyperonimos)"
   ]
  },
  {
   "cell_type": "code",
   "execution_count": 68,
   "metadata": {},
   "outputs": [],
   "source": [
    "df = pd.DataFrame([[key, hyperonimos[key]] for key in hyperonimos.keys()], columns=['word', 'Hyperonym'])\n",
    "df.to_pickle(\"salida/nuevo3/Hyperonyms.pickle\")"
   ]
  },
  {
   "cell_type": "markdown",
   "metadata": {},
   "source": [
    "# Hyponyms"
   ]
  },
  {
   "cell_type": "code",
   "execution_count": 69,
   "metadata": {},
   "outputs": [],
   "source": [
    "hyponyms=dict()"
   ]
  },
  {
   "cell_type": "code",
   "execution_count": 70,
   "metadata": {},
   "outputs": [],
   "source": [
    "for i in range(8):\n",
    "    if i==0:\n",
    "        df_syn = pd.read_pickle('salida/nuevo3/RTE3/DEV_'+str(i+1)+'.csv_Hyponym.pickle')\n",
    "    else:\n",
    "        try:\n",
    "            temp = pd.read_pickle('salida/nuevo3/RTE3/DEV_'+str(i+1)+'.csv_Hyponym.pickle')\n",
    "            df_syn=pd.concat([df_syn,temp])\n",
    "        except:\n",
    "            pass"
   ]
  },
  {
   "cell_type": "code",
   "execution_count": 71,
   "metadata": {},
   "outputs": [],
   "source": [
    "for i in range(8):\n",
    "    try:\n",
    "        temp = pd.read_pickle('salida/nuevo3/RTE3/TEST_'+str(i+1)+'.csv_Hyponym.pickle')\n",
    "        df_syn=pd.concat([df_syn,temp])\n",
    "    except:\n",
    "        pass"
   ]
  },
  {
   "cell_type": "code",
   "execution_count": 72,
   "metadata": {},
   "outputs": [],
   "source": [
    "for i in range(8):\n",
    "    try:\n",
    "        temp = pd.read_pickle('salida/nuevo3/GHS/GHS_'+str(i+1)+'.csv_Hyponym.pickle')\n",
    "        df_syn=pd.concat([df_syn,temp])\n",
    "    except:\n",
    "        pass"
   ]
  },
  {
   "cell_type": "code",
   "execution_count": 73,
   "metadata": {},
   "outputs": [],
   "source": [
    "for i in range(5):\n",
    "    try:\n",
    "        temp = pd.read_pickle('salida/nuevo3/SICK/DEV_'+str(i+1)+'.csv_Hyponym.pickle')\n",
    "        df_syn=pd.concat([df_syn,temp])\n",
    "    except:\n",
    "        pass"
   ]
  },
  {
   "cell_type": "code",
   "execution_count": 74,
   "metadata": {},
   "outputs": [],
   "source": [
    "for i in range(45):\n",
    "    try:\n",
    "        temp = pd.read_pickle('salida/nuevo3/SICK/TRAIN_'+str(i+1)+'.csv_Hyponym.pickle')\n",
    "        df_syn=pd.concat([df_syn,temp])\n",
    "    except:\n",
    "        pass"
   ]
  },
  {
   "cell_type": "code",
   "execution_count": 75,
   "metadata": {},
   "outputs": [],
   "source": [
    "for i in range(50):\n",
    "    try:\n",
    "        temp = pd.read_pickle('salida/nuevo3/SICK/TEST_'+str(i+1)+'.csv_Hyponym.pickle')\n",
    "        df_syn=pd.concat([df_syn,temp])\n",
    "    except:\n",
    "        pass"
   ]
  },
  {
   "cell_type": "code",
   "execution_count": 76,
   "metadata": {},
   "outputs": [
    {
     "data": {
      "text/html": [
       "<div>\n",
       "<style scoped>\n",
       "    .dataframe tbody tr th:only-of-type {\n",
       "        vertical-align: middle;\n",
       "    }\n",
       "\n",
       "    .dataframe tbody tr th {\n",
       "        vertical-align: top;\n",
       "    }\n",
       "\n",
       "    .dataframe thead th {\n",
       "        text-align: right;\n",
       "    }\n",
       "</style>\n",
       "<table border=\"1\" class=\"dataframe\">\n",
       "  <thead>\n",
       "    <tr style=\"text-align: right;\">\n",
       "      <th></th>\n",
       "      <th>word</th>\n",
       "      <th>Hyponym</th>\n",
       "    </tr>\n",
       "  </thead>\n",
       "  <tbody>\n",
       "    <tr>\n",
       "      <th>0</th>\n",
       "      <td>sale</td>\n",
       "      <td>{presale, upsale, nonsale, salesperson, condit...</td>\n",
       "    </tr>\n",
       "    <tr>\n",
       "      <th>1</th>\n",
       "      <td>make</td>\n",
       "      <td>{matchless, makable, make_king, create_by_ment...</td>\n",
       "    </tr>\n",
       "    <tr>\n",
       "      <th>2</th>\n",
       "      <td>pay</td>\n",
       "      <td>{go_for_haircut, payware, paypal, keep_things_...</td>\n",
       "    </tr>\n",
       "    <tr>\n",
       "      <th>3</th>\n",
       "      <td>yukos</td>\n",
       "      <td>{}</td>\n",
       "    </tr>\n",
       "    <tr>\n",
       "      <th>4</th>\n",
       "      <td>27</td>\n",
       "      <td>{}</td>\n",
       "    </tr>\n",
       "    <tr>\n",
       "      <th>...</th>\n",
       "      <td>...</td>\n",
       "      <td>...</td>\n",
       "    </tr>\n",
       "    <tr>\n",
       "      <th>115052</th>\n",
       "      <td>baron_snow_of_leicester</td>\n",
       "      <td>{}</td>\n",
       "    </tr>\n",
       "    <tr>\n",
       "      <th>115053</th>\n",
       "      <td>snowfall</td>\n",
       "      <td>{snowfalls}</td>\n",
       "    </tr>\n",
       "    <tr>\n",
       "      <th>115054</th>\n",
       "      <td>coke</td>\n",
       "      <td>{coky, cokehead, biocoke, cokeless, mexicoke, ...</td>\n",
       "    </tr>\n",
       "    <tr>\n",
       "      <th>115055</th>\n",
       "      <td>bamboozle</td>\n",
       "      <td>{bamboozled, bamboozling, bamboozles, bamboozl...</td>\n",
       "    </tr>\n",
       "    <tr>\n",
       "      <th>115056</th>\n",
       "      <td>charlie</td>\n",
       "      <td>{charley, charlieplexing, charlies, charley_ho...</td>\n",
       "    </tr>\n",
       "  </tbody>\n",
       "</table>\n",
       "<p>115057 rows × 2 columns</p>\n",
       "</div>"
      ],
      "text/plain": [
       "                           word  \\\n",
       "0                          sale   \n",
       "1                          make   \n",
       "2                           pay   \n",
       "3                         yukos   \n",
       "4                            27   \n",
       "...                         ...   \n",
       "115052  baron_snow_of_leicester   \n",
       "115053                 snowfall   \n",
       "115054                     coke   \n",
       "115055                bamboozle   \n",
       "115056                  charlie   \n",
       "\n",
       "                                                  Hyponym  \n",
       "0       {presale, upsale, nonsale, salesperson, condit...  \n",
       "1       {matchless, makable, make_king, create_by_ment...  \n",
       "2       {go_for_haircut, payware, paypal, keep_things_...  \n",
       "3                                                      {}  \n",
       "4                                                      {}  \n",
       "...                                                   ...  \n",
       "115052                                                 {}  \n",
       "115053                                        {snowfalls}  \n",
       "115054  {coky, cokehead, biocoke, cokeless, mexicoke, ...  \n",
       "115055  {bamboozled, bamboozling, bamboozles, bamboozl...  \n",
       "115056  {charley, charlieplexing, charlies, charley_ho...  \n",
       "\n",
       "[115057 rows x 2 columns]"
      ]
     },
     "execution_count": 76,
     "metadata": {},
     "output_type": "execute_result"
    }
   ],
   "source": [
    "df_syn = df_syn.reset_index(drop=True)\n",
    "df_syn"
   ]
  },
  {
   "cell_type": "code",
   "execution_count": 77,
   "metadata": {},
   "outputs": [],
   "source": [
    "for index,strings in df_syn.iterrows():\n",
    "    hyponyms[strings['word']]=strings['Hyponym']"
   ]
  },
  {
   "cell_type": "code",
   "execution_count": 78,
   "metadata": {},
   "outputs": [
    {
     "data": {
      "text/plain": [
       "23424"
      ]
     },
     "execution_count": 78,
     "metadata": {},
     "output_type": "execute_result"
    }
   ],
   "source": [
    "len(hyponyms)"
   ]
  },
  {
   "cell_type": "code",
   "execution_count": 79,
   "metadata": {},
   "outputs": [],
   "source": [
    "df = pd.DataFrame([[key, hyponyms[key]] for key in hyponyms.keys()], columns=['word', 'Hyponym'])\n",
    "df.to_pickle(\"salida/nuevo3/Hyponyms.pickle\")"
   ]
  },
  {
   "cell_type": "code",
   "execution_count": null,
   "metadata": {},
   "outputs": [],
   "source": []
  },
  {
   "cell_type": "markdown",
   "metadata": {},
   "source": [
    "# cargar los conjuntos de sinonimia"
   ]
  },
  {
   "cell_type": "code",
   "execution_count": 26,
   "metadata": {},
   "outputs": [],
   "source": [
    "dict_syns = dict()"
   ]
  },
  {
   "cell_type": "code",
   "execution_count": 27,
   "metadata": {},
   "outputs": [
    {
     "data": {
      "text/html": [
       "<div>\n",
       "<style scoped>\n",
       "    .dataframe tbody tr th:only-of-type {\n",
       "        vertical-align: middle;\n",
       "    }\n",
       "\n",
       "    .dataframe tbody tr th {\n",
       "        vertical-align: top;\n",
       "    }\n",
       "\n",
       "    .dataframe thead th {\n",
       "        text-align: right;\n",
       "    }\n",
       "</style>\n",
       "<table border=\"1\" class=\"dataframe\">\n",
       "  <thead>\n",
       "    <tr style=\"text-align: right;\">\n",
       "      <th></th>\n",
       "      <th>word</th>\n",
       "      <th>Synonym</th>\n",
       "    </tr>\n",
       "  </thead>\n",
       "  <tbody>\n",
       "    <tr>\n",
       "      <th>0</th>\n",
       "      <td>sale</td>\n",
       "      <td>{sale, cut_rate_sale, sales_agreement, sales_e...</td>\n",
       "    </tr>\n",
       "    <tr>\n",
       "      <th>1</th>\n",
       "      <td>make</td>\n",
       "      <td>{spend_penny, name, lay_down, make_into, prete...</td>\n",
       "    </tr>\n",
       "    <tr>\n",
       "      <th>2</th>\n",
       "      <td>pay</td>\n",
       "      <td>{pay_up, remuneration, wage, give, pay_off, ma...</td>\n",
       "    </tr>\n",
       "    <tr>\n",
       "      <th>3</th>\n",
       "      <td>yukos</td>\n",
       "      <td>{yukos}</td>\n",
       "    </tr>\n",
       "    <tr>\n",
       "      <th>4</th>\n",
       "      <td>27</td>\n",
       "      <td>{xxvii, 27, twenty_seven}</td>\n",
       "    </tr>\n",
       "    <tr>\n",
       "      <th>...</th>\n",
       "      <td>...</td>\n",
       "      <td>...</td>\n",
       "    </tr>\n",
       "    <tr>\n",
       "      <th>13023</th>\n",
       "      <td>backside</td>\n",
       "      <td>{buttocks, backside, bottom, backhouse, hindqu...</td>\n",
       "    </tr>\n",
       "    <tr>\n",
       "      <th>13024</th>\n",
       "      <td>swimsuite</td>\n",
       "      <td>{swimsuite}</td>\n",
       "    </tr>\n",
       "    <tr>\n",
       "      <th>13025</th>\n",
       "      <td>grnad</td>\n",
       "      <td>{grnad}</td>\n",
       "    </tr>\n",
       "    <tr>\n",
       "      <th>13026</th>\n",
       "      <td>recliner</td>\n",
       "      <td>{reclining_chair, recliner, lounger}</td>\n",
       "    </tr>\n",
       "    <tr>\n",
       "      <th>13027</th>\n",
       "      <td>eatery</td>\n",
       "      <td>{eatery, restaurant}</td>\n",
       "    </tr>\n",
       "  </tbody>\n",
       "</table>\n",
       "<p>13028 rows × 2 columns</p>\n",
       "</div>"
      ],
      "text/plain": [
       "            word                                            Synonym\n",
       "0           sale  {sale, cut_rate_sale, sales_agreement, sales_e...\n",
       "1           make  {spend_penny, name, lay_down, make_into, prete...\n",
       "2            pay  {pay_up, remuneration, wage, give, pay_off, ma...\n",
       "3          yukos                                            {yukos}\n",
       "4             27                          {xxvii, 27, twenty_seven}\n",
       "...          ...                                                ...\n",
       "13023   backside  {buttocks, backside, bottom, backhouse, hindqu...\n",
       "13024  swimsuite                                        {swimsuite}\n",
       "13025      grnad                                            {grnad}\n",
       "13026   recliner               {reclining_chair, recliner, lounger}\n",
       "13027     eatery                               {eatery, restaurant}\n",
       "\n",
       "[13028 rows x 2 columns]"
      ]
     },
     "execution_count": 27,
     "metadata": {},
     "output_type": "execute_result"
    }
   ],
   "source": [
    "df_sinonimos=pd.read_pickle(\"salida/nuevo3/Synonyms.pickle\")\n",
    "df_sinonimos"
   ]
  },
  {
   "cell_type": "code",
   "execution_count": 28,
   "metadata": {},
   "outputs": [],
   "source": [
    "for index,strings in df_sinonimos.iterrows():\n",
    "    dict_syns[strings['word']]=strings['Synonym']"
   ]
  },
  {
   "cell_type": "code",
   "execution_count": 29,
   "metadata": {},
   "outputs": [
    {
     "data": {
      "text/plain": [
       "13028"
      ]
     },
     "execution_count": 29,
     "metadata": {},
     "output_type": "execute_result"
    }
   ],
   "source": [
    "len(dict_syns)"
   ]
  },
  {
   "cell_type": "markdown",
   "metadata": {},
   "source": [
    "# agregar diccionario de sinonimos del SNLI DEV y TEST"
   ]
  },
  {
   "cell_type": "code",
   "execution_count": 30,
   "metadata": {},
   "outputs": [],
   "source": [
    "synonyms=dict()"
   ]
  },
  {
   "cell_type": "code",
   "execution_count": 32,
   "metadata": {},
   "outputs": [],
   "source": [
    "for i in range(10):\n",
    "    if i==0:\n",
    "        df_syn = pd.read_pickle('salida/nuevo3/SNLI/DEV/DEV_'+str(i+1)+'.csv_Synonym.pickle')\n",
    "    else:\n",
    "        try:\n",
    "            temp = pd.read_pickle('salida/nuevo3/SNLI/DEV/DEV_'+str(i+1)+'.csv_Synonym.pickle')\n",
    "            df_syn=pd.concat([df_syn,temp])\n",
    "        except:\n",
    "            pass"
   ]
  },
  {
   "cell_type": "code",
   "execution_count": 33,
   "metadata": {},
   "outputs": [],
   "source": [
    "for i in range(10):\n",
    "    try:\n",
    "        temp = pd.read_pickle('salida/nuevo3/SNLI/TEST/TEST_'+str(i+1)+'.csv_Synonym.pickle')\n",
    "        df_syn=pd.concat([df_syn,temp])\n",
    "    except:\n",
    "        pass"
   ]
  },
  {
   "cell_type": "code",
   "execution_count": 34,
   "metadata": {},
   "outputs": [
    {
     "data": {
      "text/html": [
       "<div>\n",
       "<style scoped>\n",
       "    .dataframe tbody tr th:only-of-type {\n",
       "        vertical-align: middle;\n",
       "    }\n",
       "\n",
       "    .dataframe tbody tr th {\n",
       "        vertical-align: top;\n",
       "    }\n",
       "\n",
       "    .dataframe thead th {\n",
       "        text-align: right;\n",
       "    }\n",
       "</style>\n",
       "<table border=\"1\" class=\"dataframe\">\n",
       "  <thead>\n",
       "    <tr style=\"text-align: right;\">\n",
       "      <th></th>\n",
       "      <th>word</th>\n",
       "      <th>Synonym</th>\n",
       "    </tr>\n",
       "  </thead>\n",
       "  <tbody>\n",
       "    <tr>\n",
       "      <th>0</th>\n",
       "      <td>sale</td>\n",
       "      <td>{sales_event, cut_rate_sale, sales_agreement, ...</td>\n",
       "    </tr>\n",
       "    <tr>\n",
       "      <th>1</th>\n",
       "      <td>make</td>\n",
       "      <td>{spend_penny, name, lay_down, make_into, prete...</td>\n",
       "    </tr>\n",
       "    <tr>\n",
       "      <th>2</th>\n",
       "      <td>pay</td>\n",
       "      <td>{pay_up, remuneration, ante_up, give, pay_off,...</td>\n",
       "    </tr>\n",
       "    <tr>\n",
       "      <th>3</th>\n",
       "      <td>yukos</td>\n",
       "      <td>{yukos}</td>\n",
       "    </tr>\n",
       "    <tr>\n",
       "      <th>4</th>\n",
       "      <td>27</td>\n",
       "      <td>{xxvii, 27, twenty_seven}</td>\n",
       "    </tr>\n",
       "    <tr>\n",
       "      <th>...</th>\n",
       "      <td>...</td>\n",
       "      <td>...</td>\n",
       "    </tr>\n",
       "    <tr>\n",
       "      <th>236374</th>\n",
       "      <td>gondola</td>\n",
       "      <td>{cable_car, gondola, gondola_car, car}</td>\n",
       "    </tr>\n",
       "    <tr>\n",
       "      <th>236375</th>\n",
       "      <td>ragged</td>\n",
       "      <td>{mean, shabby, ragged}</td>\n",
       "    </tr>\n",
       "    <tr>\n",
       "      <th>236376</th>\n",
       "      <td>accompaniment</td>\n",
       "      <td>{accessory, accompaniment, attendant, compleme...</td>\n",
       "    </tr>\n",
       "    <tr>\n",
       "      <th>236377</th>\n",
       "      <td>dishevel</td>\n",
       "      <td>{dishevel, disarray, ruffle, tangle, jostle, t...</td>\n",
       "    </tr>\n",
       "    <tr>\n",
       "      <th>236378</th>\n",
       "      <td>kite</td>\n",
       "      <td>{sentry, kite}</td>\n",
       "    </tr>\n",
       "  </tbody>\n",
       "</table>\n",
       "<p>236379 rows × 2 columns</p>\n",
       "</div>"
      ],
      "text/plain": [
       "                 word                                            Synonym\n",
       "0                sale  {sales_event, cut_rate_sale, sales_agreement, ...\n",
       "1                make  {spend_penny, name, lay_down, make_into, prete...\n",
       "2                 pay  {pay_up, remuneration, ante_up, give, pay_off,...\n",
       "3               yukos                                            {yukos}\n",
       "4                  27                          {xxvii, 27, twenty_seven}\n",
       "...               ...                                                ...\n",
       "236374        gondola             {cable_car, gondola, gondola_car, car}\n",
       "236375         ragged                             {mean, shabby, ragged}\n",
       "236376  accompaniment  {accessory, accompaniment, attendant, compleme...\n",
       "236377       dishevel  {dishevel, disarray, ruffle, tangle, jostle, t...\n",
       "236378           kite                                     {sentry, kite}\n",
       "\n",
       "[236379 rows x 2 columns]"
      ]
     },
     "execution_count": 34,
     "metadata": {},
     "output_type": "execute_result"
    }
   ],
   "source": [
    "df_syn = df_syn.reset_index(drop=True)\n",
    "df_syn"
   ]
  },
  {
   "cell_type": "code",
   "execution_count": 35,
   "metadata": {},
   "outputs": [],
   "source": [
    "for index,strings in df_syn.iterrows():\n",
    "    dict_syns[strings['word']]=strings['Synonym']"
   ]
  },
  {
   "cell_type": "code",
   "execution_count": 36,
   "metadata": {},
   "outputs": [
    {
     "data": {
      "text/plain": [
       "14366"
      ]
     },
     "execution_count": 36,
     "metadata": {},
     "output_type": "execute_result"
    }
   ],
   "source": [
    "len(dict_syns)"
   ]
  },
  {
   "cell_type": "code",
   "execution_count": 37,
   "metadata": {},
   "outputs": [],
   "source": [
    "# actualizamos el dataframe de los conjuntos\n",
    "df = pd.DataFrame([[key, dict_syns[key]] for key in dict_syns.keys()], columns=['word', 'Synonym'])\n",
    "df.to_pickle(\"salida/nuevo3/Synonyms.pickle\")"
   ]
  },
  {
   "cell_type": "markdown",
   "metadata": {},
   "source": [
    "# actualizar hyperonimos con SNLI DEV y TEST"
   ]
  },
  {
   "cell_type": "code",
   "execution_count": 43,
   "metadata": {},
   "outputs": [],
   "source": [
    "hyperonimos=dict()"
   ]
  },
  {
   "cell_type": "code",
   "execution_count": 44,
   "metadata": {},
   "outputs": [
    {
     "data": {
      "text/html": [
       "<div>\n",
       "<style scoped>\n",
       "    .dataframe tbody tr th:only-of-type {\n",
       "        vertical-align: middle;\n",
       "    }\n",
       "\n",
       "    .dataframe tbody tr th {\n",
       "        vertical-align: top;\n",
       "    }\n",
       "\n",
       "    .dataframe thead th {\n",
       "        text-align: right;\n",
       "    }\n",
       "</style>\n",
       "<table border=\"1\" class=\"dataframe\">\n",
       "  <thead>\n",
       "    <tr style=\"text-align: right;\">\n",
       "      <th></th>\n",
       "      <th>word</th>\n",
       "      <th>Hyperonym</th>\n",
       "    </tr>\n",
       "  </thead>\n",
       "  <tbody>\n",
       "    <tr>\n",
       "      <th>0</th>\n",
       "      <td>sale</td>\n",
       "      <td>{off, cheap_prices, on_offer, in_shops, bargai...</td>\n",
       "    </tr>\n",
       "    <tr>\n",
       "      <th>1</th>\n",
       "      <td>make</td>\n",
       "      <td>{move, means_manufacture, name, excrete, trave...</td>\n",
       "    </tr>\n",
       "    <tr>\n",
       "      <th>2</th>\n",
       "      <td>pay</td>\n",
       "      <td>{monies, give_fee, exchange_money, work_money,...</td>\n",
       "    </tr>\n",
       "    <tr>\n",
       "      <th>3</th>\n",
       "      <td>yukos</td>\n",
       "      <td>{company, yuko}</td>\n",
       "    </tr>\n",
       "    <tr>\n",
       "      <th>4</th>\n",
       "      <td>27</td>\n",
       "      <td>{}</td>\n",
       "    </tr>\n",
       "    <tr>\n",
       "      <th>...</th>\n",
       "      <td>...</td>\n",
       "      <td>...</td>\n",
       "    </tr>\n",
       "    <tr>\n",
       "      <th>22360</th>\n",
       "      <td>okra_plant</td>\n",
       "      <td>{vegetable_plant, crop_plant, mallow_order}</td>\n",
       "    </tr>\n",
       "    <tr>\n",
       "      <th>22361</th>\n",
       "      <td>hibiscus_esculentus</td>\n",
       "      <td>{}</td>\n",
       "    </tr>\n",
       "    <tr>\n",
       "      <th>22362</th>\n",
       "      <td>gumbo</td>\n",
       "      <td>{vegetable, capsule, edible, okra, soil, plant...</td>\n",
       "    </tr>\n",
       "    <tr>\n",
       "      <th>22363</th>\n",
       "      <td>lady's_finger</td>\n",
       "      <td>{branchia, potato, kidney_vetch, cake, lobster...</td>\n",
       "    </tr>\n",
       "    <tr>\n",
       "      <th>22364</th>\n",
       "      <td>bhindi</td>\n",
       "      <td>{edible, capsule, plant}</td>\n",
       "    </tr>\n",
       "  </tbody>\n",
       "</table>\n",
       "<p>22365 rows × 2 columns</p>\n",
       "</div>"
      ],
      "text/plain": [
       "                      word                                          Hyperonym\n",
       "0                     sale  {off, cheap_prices, on_offer, in_shops, bargai...\n",
       "1                     make  {move, means_manufacture, name, excrete, trave...\n",
       "2                      pay  {monies, give_fee, exchange_money, work_money,...\n",
       "3                    yukos                                    {company, yuko}\n",
       "4                       27                                                 {}\n",
       "...                    ...                                                ...\n",
       "22360           okra_plant        {vegetable_plant, crop_plant, mallow_order}\n",
       "22361  hibiscus_esculentus                                                 {}\n",
       "22362                gumbo  {vegetable, capsule, edible, okra, soil, plant...\n",
       "22363        lady's_finger  {branchia, potato, kidney_vetch, cake, lobster...\n",
       "22364               bhindi                           {edible, capsule, plant}\n",
       "\n",
       "[22365 rows x 2 columns]"
      ]
     },
     "execution_count": 44,
     "metadata": {},
     "output_type": "execute_result"
    }
   ],
   "source": [
    "df_hyp=pd.read_pickle(\"salida/nuevo3/Hyperonyms.pickle\")\n",
    "df_hyp"
   ]
  },
  {
   "cell_type": "code",
   "execution_count": 46,
   "metadata": {},
   "outputs": [],
   "source": [
    "for index,strings in df_hyp.iterrows():\n",
    "    hyperonimos[strings['word']]=strings['Hyperonym']"
   ]
  },
  {
   "cell_type": "code",
   "execution_count": 47,
   "metadata": {},
   "outputs": [
    {
     "data": {
      "text/plain": [
       "22365"
      ]
     },
     "execution_count": 47,
     "metadata": {},
     "output_type": "execute_result"
    }
   ],
   "source": [
    "len(hyperonimos)"
   ]
  },
  {
   "cell_type": "code",
   "execution_count": 48,
   "metadata": {},
   "outputs": [],
   "source": [
    "for i in range(10):\n",
    "    if i==0:\n",
    "        df_syn = pd.read_pickle('salida/nuevo3/SNLI/DEV/DEV_'+str(i+1)+'.csv_Hyperonym.pickle')\n",
    "    else:\n",
    "        try:\n",
    "            temp = pd.read_pickle('salida/nuevo3/SNLI/DEV/DEV_'+str(i+1)+'.csv_Hyperonym.pickle')\n",
    "            df_syn=pd.concat([df_syn,temp])\n",
    "        except:\n",
    "            pass"
   ]
  },
  {
   "cell_type": "code",
   "execution_count": 49,
   "metadata": {},
   "outputs": [],
   "source": [
    "for i in range(10):\n",
    "    try:\n",
    "        temp = pd.read_pickle('salida/nuevo3/SNLI/TEST/TEST_'+str(i+1)+'.csv_Hyperonym.pickle')\n",
    "        df_syn=pd.concat([df_syn,temp])\n",
    "    except:\n",
    "        pass"
   ]
  },
  {
   "cell_type": "code",
   "execution_count": 50,
   "metadata": {},
   "outputs": [
    {
     "data": {
      "text/html": [
       "<div>\n",
       "<style scoped>\n",
       "    .dataframe tbody tr th:only-of-type {\n",
       "        vertical-align: middle;\n",
       "    }\n",
       "\n",
       "    .dataframe tbody tr th {\n",
       "        vertical-align: top;\n",
       "    }\n",
       "\n",
       "    .dataframe thead th {\n",
       "        text-align: right;\n",
       "    }\n",
       "</style>\n",
       "<table border=\"1\" class=\"dataframe\">\n",
       "  <thead>\n",
       "    <tr style=\"text-align: right;\">\n",
       "      <th></th>\n",
       "      <th>word</th>\n",
       "      <th>Hyperonym</th>\n",
       "    </tr>\n",
       "  </thead>\n",
       "  <tbody>\n",
       "    <tr>\n",
       "      <th>0</th>\n",
       "      <td>sale</td>\n",
       "      <td>{off, cheap_prices, on_offer, in_shops, bargai...</td>\n",
       "    </tr>\n",
       "    <tr>\n",
       "      <th>1</th>\n",
       "      <td>make</td>\n",
       "      <td>{move, means_manufacture, name, excrete, trave...</td>\n",
       "    </tr>\n",
       "    <tr>\n",
       "      <th>2</th>\n",
       "      <td>pay</td>\n",
       "      <td>{monies, give_fee, exchange_money, work_money,...</td>\n",
       "    </tr>\n",
       "    <tr>\n",
       "      <th>3</th>\n",
       "      <td>yukos</td>\n",
       "      <td>{company, yuko}</td>\n",
       "    </tr>\n",
       "    <tr>\n",
       "      <th>4</th>\n",
       "      <td>27</td>\n",
       "      <td>{}</td>\n",
       "    </tr>\n",
       "    <tr>\n",
       "      <th>...</th>\n",
       "      <td>...</td>\n",
       "      <td>...</td>\n",
       "    </tr>\n",
       "    <tr>\n",
       "      <th>459035</th>\n",
       "      <td>social_dancer</td>\n",
       "      <td>{}</td>\n",
       "    </tr>\n",
       "    <tr>\n",
       "      <th>459036</th>\n",
       "      <td>terpsichorean</td>\n",
       "      <td>{terpsichore, dance, dancing}</td>\n",
       "    </tr>\n",
       "    <tr>\n",
       "      <th>459037</th>\n",
       "      <td>exotic_dancer</td>\n",
       "      <td>{belly_dancer, exotic, pole_dancer, stripper}</td>\n",
       "    </tr>\n",
       "    <tr>\n",
       "      <th>459038</th>\n",
       "      <td>terpsichore</td>\n",
       "      <td>{muses, dramatic, dance, mnemosyne, chorus, as...</td>\n",
       "    </tr>\n",
       "    <tr>\n",
       "      <th>459039</th>\n",
       "      <td>kite</td>\n",
       "      <td>{soar, flier, deben, has_string, brill, child,...</td>\n",
       "    </tr>\n",
       "  </tbody>\n",
       "</table>\n",
       "<p>459040 rows × 2 columns</p>\n",
       "</div>"
      ],
      "text/plain": [
       "                 word                                          Hyperonym\n",
       "0                sale  {off, cheap_prices, on_offer, in_shops, bargai...\n",
       "1                make  {move, means_manufacture, name, excrete, trave...\n",
       "2                 pay  {monies, give_fee, exchange_money, work_money,...\n",
       "3               yukos                                    {company, yuko}\n",
       "4                  27                                                 {}\n",
       "...               ...                                                ...\n",
       "459035  social_dancer                                                 {}\n",
       "459036  terpsichorean                      {terpsichore, dance, dancing}\n",
       "459037  exotic_dancer      {belly_dancer, exotic, pole_dancer, stripper}\n",
       "459038    terpsichore  {muses, dramatic, dance, mnemosyne, chorus, as...\n",
       "459039           kite  {soar, flier, deben, has_string, brill, child,...\n",
       "\n",
       "[459040 rows x 2 columns]"
      ]
     },
     "execution_count": 50,
     "metadata": {},
     "output_type": "execute_result"
    }
   ],
   "source": [
    "df_syn = df_syn.reset_index(drop=True)\n",
    "df_syn"
   ]
  },
  {
   "cell_type": "code",
   "execution_count": 51,
   "metadata": {},
   "outputs": [],
   "source": [
    "for index,strings in df_syn.iterrows():\n",
    "    hyperonimos[strings['word']]=strings['Hyperonym']"
   ]
  },
  {
   "cell_type": "code",
   "execution_count": 52,
   "metadata": {},
   "outputs": [
    {
     "data": {
      "text/plain": [
       "27765"
      ]
     },
     "execution_count": 52,
     "metadata": {},
     "output_type": "execute_result"
    }
   ],
   "source": [
    "len(hyperonimos)"
   ]
  },
  {
   "cell_type": "code",
   "execution_count": 53,
   "metadata": {},
   "outputs": [],
   "source": [
    "# actualizamos el dataframe de los conjuntos\n",
    "df = pd.DataFrame([[key, hyperonimos[key]] for key in hyperonimos.keys()], columns=['word', 'Hyperonym'])\n",
    "df.to_pickle(\"salida/nuevo3/Hyperonyms.pickle\")"
   ]
  },
  {
   "cell_type": "markdown",
   "metadata": {},
   "source": [
    "# Actualizar Hyponyms con SNLI TEST y DEV"
   ]
  },
  {
   "cell_type": "code",
   "execution_count": 54,
   "metadata": {},
   "outputs": [],
   "source": [
    "hyponimos=dict()"
   ]
  },
  {
   "cell_type": "code",
   "execution_count": 55,
   "metadata": {},
   "outputs": [
    {
     "data": {
      "text/html": [
       "<div>\n",
       "<style scoped>\n",
       "    .dataframe tbody tr th:only-of-type {\n",
       "        vertical-align: middle;\n",
       "    }\n",
       "\n",
       "    .dataframe tbody tr th {\n",
       "        vertical-align: top;\n",
       "    }\n",
       "\n",
       "    .dataframe thead th {\n",
       "        text-align: right;\n",
       "    }\n",
       "</style>\n",
       "<table border=\"1\" class=\"dataframe\">\n",
       "  <thead>\n",
       "    <tr style=\"text-align: right;\">\n",
       "      <th></th>\n",
       "      <th>word</th>\n",
       "      <th>Hyponym</th>\n",
       "    </tr>\n",
       "  </thead>\n",
       "  <tbody>\n",
       "    <tr>\n",
       "      <th>0</th>\n",
       "      <td>sale</td>\n",
       "      <td>{rummage_sale, salesbook, for_sale, saleabilit...</td>\n",
       "    </tr>\n",
       "    <tr>\n",
       "      <th>1</th>\n",
       "      <td>make</td>\n",
       "      <td>{makeweight, fashion, lay_down, incorporate, m...</td>\n",
       "    </tr>\n",
       "    <tr>\n",
       "      <th>2</th>\n",
       "      <td>pay</td>\n",
       "      <td>{paidest, paysite, spend, prepay, underpay, re...</td>\n",
       "    </tr>\n",
       "    <tr>\n",
       "      <th>3</th>\n",
       "      <td>yukos</td>\n",
       "      <td>{}</td>\n",
       "    </tr>\n",
       "    <tr>\n",
       "      <th>4</th>\n",
       "      <td>27</td>\n",
       "      <td>{}</td>\n",
       "    </tr>\n",
       "    <tr>\n",
       "      <th>...</th>\n",
       "      <td>...</td>\n",
       "      <td>...</td>\n",
       "    </tr>\n",
       "    <tr>\n",
       "      <th>23419</th>\n",
       "      <td>inform_on</td>\n",
       "      <td>{}</td>\n",
       "    </tr>\n",
       "    <tr>\n",
       "      <th>23420</th>\n",
       "      <td>fingerbang</td>\n",
       "      <td>{fingerbangs, fingerbanging, fingerbanged, fin...</td>\n",
       "    </tr>\n",
       "    <tr>\n",
       "      <th>23421</th>\n",
       "      <td>heyday</td>\n",
       "      <td>{heydays, heydey, hayday}</td>\n",
       "    </tr>\n",
       "    <tr>\n",
       "      <th>23422</th>\n",
       "      <td>king_of_insects</td>\n",
       "      <td>{}</td>\n",
       "    </tr>\n",
       "    <tr>\n",
       "      <th>23423</th>\n",
       "      <td>bee_block</td>\n",
       "      <td>{}</td>\n",
       "    </tr>\n",
       "  </tbody>\n",
       "</table>\n",
       "<p>23424 rows × 2 columns</p>\n",
       "</div>"
      ],
      "text/plain": [
       "                  word                                            Hyponym\n",
       "0                 sale  {rummage_sale, salesbook, for_sale, saleabilit...\n",
       "1                 make  {makeweight, fashion, lay_down, incorporate, m...\n",
       "2                  pay  {paidest, paysite, spend, prepay, underpay, re...\n",
       "3                yukos                                                 {}\n",
       "4                   27                                                 {}\n",
       "...                ...                                                ...\n",
       "23419        inform_on                                                 {}\n",
       "23420       fingerbang  {fingerbangs, fingerbanging, fingerbanged, fin...\n",
       "23421           heyday                          {heydays, heydey, hayday}\n",
       "23422  king_of_insects                                                 {}\n",
       "23423        bee_block                                                 {}\n",
       "\n",
       "[23424 rows x 2 columns]"
      ]
     },
     "execution_count": 55,
     "metadata": {},
     "output_type": "execute_result"
    }
   ],
   "source": [
    "df_hyp=pd.read_pickle(\"salida/nuevo3/Hyponyms.pickle\")\n",
    "df_hyp"
   ]
  },
  {
   "cell_type": "code",
   "execution_count": 56,
   "metadata": {},
   "outputs": [],
   "source": [
    "for index,strings in df_hyp.iterrows():\n",
    "    hyponimos[strings['word']]=strings['Hyponym']"
   ]
  },
  {
   "cell_type": "code",
   "execution_count": 57,
   "metadata": {},
   "outputs": [
    {
     "data": {
      "text/plain": [
       "23424"
      ]
     },
     "execution_count": 57,
     "metadata": {},
     "output_type": "execute_result"
    }
   ],
   "source": [
    "len(hyponimos)"
   ]
  },
  {
   "cell_type": "code",
   "execution_count": 58,
   "metadata": {},
   "outputs": [],
   "source": [
    "for i in range(10):\n",
    "    if i==0:\n",
    "        df_syn = pd.read_pickle('salida/nuevo3/SNLI/DEV/DEV_'+str(i+1)+'.csv_Hyponym.pickle')\n",
    "    else:\n",
    "        try:\n",
    "            temp = pd.read_pickle('salida/nuevo3/SNLI/DEV/DEV_'+str(i+1)+'.csv_Hyponym.pickle')\n",
    "            df_syn=pd.concat([df_syn,temp])\n",
    "        except:\n",
    "            pass"
   ]
  },
  {
   "cell_type": "code",
   "execution_count": 59,
   "metadata": {},
   "outputs": [],
   "source": [
    "for i in range(10):\n",
    "    try:\n",
    "        temp = pd.read_pickle('salida/nuevo3/SNLI/TEST/TEST_'+str(i+1)+'.csv_Hyponym.pickle')\n",
    "        df_syn=pd.concat([df_syn,temp])\n",
    "    except:\n",
    "        pass"
   ]
  },
  {
   "cell_type": "code",
   "execution_count": 60,
   "metadata": {},
   "outputs": [
    {
     "data": {
      "text/html": [
       "<div>\n",
       "<style scoped>\n",
       "    .dataframe tbody tr th:only-of-type {\n",
       "        vertical-align: middle;\n",
       "    }\n",
       "\n",
       "    .dataframe tbody tr th {\n",
       "        vertical-align: top;\n",
       "    }\n",
       "\n",
       "    .dataframe thead th {\n",
       "        text-align: right;\n",
       "    }\n",
       "</style>\n",
       "<table border=\"1\" class=\"dataframe\">\n",
       "  <thead>\n",
       "    <tr style=\"text-align: right;\">\n",
       "      <th></th>\n",
       "      <th>word</th>\n",
       "      <th>Hyponym</th>\n",
       "    </tr>\n",
       "  </thead>\n",
       "  <tbody>\n",
       "    <tr>\n",
       "      <th>0</th>\n",
       "      <td>sale</td>\n",
       "      <td>{rummage_sale, salesbook, for_sale, saleabilit...</td>\n",
       "    </tr>\n",
       "    <tr>\n",
       "      <th>1</th>\n",
       "      <td>make</td>\n",
       "      <td>{makeweight, fashion, lay_down, incorporate, m...</td>\n",
       "    </tr>\n",
       "    <tr>\n",
       "      <th>2</th>\n",
       "      <td>pay</td>\n",
       "      <td>{paidest, paysite, spend, prepay, underpay, re...</td>\n",
       "    </tr>\n",
       "    <tr>\n",
       "      <th>3</th>\n",
       "      <td>yukos</td>\n",
       "      <td>{}</td>\n",
       "    </tr>\n",
       "    <tr>\n",
       "      <th>4</th>\n",
       "      <td>27</td>\n",
       "      <td>{}</td>\n",
       "    </tr>\n",
       "    <tr>\n",
       "      <th>...</th>\n",
       "      <td>...</td>\n",
       "      <td>...</td>\n",
       "    </tr>\n",
       "    <tr>\n",
       "      <th>483592</th>\n",
       "      <td>romantically</td>\n",
       "      <td>{}</td>\n",
       "    </tr>\n",
       "    <tr>\n",
       "      <th>483593</th>\n",
       "      <td>teal</td>\n",
       "      <td>{bluewing, garganey, tealness, teals, greenwing}</td>\n",
       "    </tr>\n",
       "    <tr>\n",
       "      <th>483594</th>\n",
       "      <td>busker</td>\n",
       "      <td>{buskers}</td>\n",
       "    </tr>\n",
       "    <tr>\n",
       "      <th>483595</th>\n",
       "      <td>tousle</td>\n",
       "      <td>{touzle, tousled, untousle, tousles, tousle_he...</td>\n",
       "    </tr>\n",
       "    <tr>\n",
       "      <th>483596</th>\n",
       "      <td>kite</td>\n",
       "      <td>{kitefin, parakite, check_kiting, sport_kite, ...</td>\n",
       "    </tr>\n",
       "  </tbody>\n",
       "</table>\n",
       "<p>483597 rows × 2 columns</p>\n",
       "</div>"
      ],
      "text/plain": [
       "                word                                            Hyponym\n",
       "0               sale  {rummage_sale, salesbook, for_sale, saleabilit...\n",
       "1               make  {makeweight, fashion, lay_down, incorporate, m...\n",
       "2                pay  {paidest, paysite, spend, prepay, underpay, re...\n",
       "3              yukos                                                 {}\n",
       "4                 27                                                 {}\n",
       "...              ...                                                ...\n",
       "483592  romantically                                                 {}\n",
       "483593          teal   {bluewing, garganey, tealness, teals, greenwing}\n",
       "483594        busker                                          {buskers}\n",
       "483595        tousle  {touzle, tousled, untousle, tousles, tousle_he...\n",
       "483596          kite  {kitefin, parakite, check_kiting, sport_kite, ...\n",
       "\n",
       "[483597 rows x 2 columns]"
      ]
     },
     "execution_count": 60,
     "metadata": {},
     "output_type": "execute_result"
    }
   ],
   "source": [
    "df_syn = df_syn.reset_index(drop=True)\n",
    "df_syn"
   ]
  },
  {
   "cell_type": "code",
   "execution_count": 61,
   "metadata": {},
   "outputs": [],
   "source": [
    "for index,strings in df_syn.iterrows():\n",
    "    hyponimos[strings['word']]=strings['Hyponym']"
   ]
  },
  {
   "cell_type": "code",
   "execution_count": 62,
   "metadata": {},
   "outputs": [
    {
     "data": {
      "text/plain": [
       "30514"
      ]
     },
     "execution_count": 62,
     "metadata": {},
     "output_type": "execute_result"
    }
   ],
   "source": [
    "len(hyponimos)"
   ]
  },
  {
   "cell_type": "code",
   "execution_count": 63,
   "metadata": {},
   "outputs": [],
   "source": [
    "# actualizamos el dataframe de los conjuntos\n",
    "df = pd.DataFrame([[key, hyponimos[key]] for key in hyponimos.keys()], columns=['word', 'Hyponym'])\n",
    "df.to_pickle(\"salida/nuevo3/Hyponyms.pickle\")"
   ]
  }
 ],
 "metadata": {
  "kernelspec": {
   "display_name": "rit",
   "language": "python",
   "name": "python3"
  },
  "language_info": {
   "codemirror_mode": {
    "name": "ipython",
    "version": 3
   },
   "file_extension": ".py",
   "mimetype": "text/x-python",
   "name": "python",
   "nbconvert_exporter": "python",
   "pygments_lexer": "ipython3",
   "version": "3.9.13"
  }
 },
 "nbformat": 4,
 "nbformat_minor": 2
}
