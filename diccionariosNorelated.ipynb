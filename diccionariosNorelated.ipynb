{
 "cells": [
  {
   "cell_type": "code",
   "execution_count": 1,
   "metadata": {},
   "outputs": [],
   "source": [
    "import pandas as pd"
   ]
  },
  {
   "cell_type": "markdown",
   "metadata": {},
   "source": [
    "# obtener sinonimos"
   ]
  },
  {
   "cell_type": "code",
   "execution_count": 2,
   "metadata": {},
   "outputs": [],
   "source": [
    "synonyms=dict()"
   ]
  },
  {
   "cell_type": "code",
   "execution_count": 27,
   "metadata": {},
   "outputs": [],
   "source": [
    "# df_sinonimos=pd.read_pickle(\"salida/nuevo4a/Synonyms.pickle\")\n",
    "# df_sinonimos"
   ]
  },
  {
   "cell_type": "code",
   "execution_count": 17,
   "metadata": {},
   "outputs": [],
   "source": [
    "# for index,strings in df_sinonimos.iterrows():\n",
    "#     synonyms[strings['word']]=strings['Synonym']"
   ]
  },
  {
   "cell_type": "code",
   "execution_count": 3,
   "metadata": {},
   "outputs": [],
   "source": [
    "for i in range(8):\n",
    "    if i==0:\n",
    "        df_syn = pd.read_pickle('salida/nuevo4a/RTE3/DEV_'+str(i+1)+'.csv_Synonym.pickle')\n",
    "    else:\n",
    "        try:\n",
    "            temp = pd.read_pickle('salida/nuevo4a/RTE3/DEV_'+str(i+1)+'.csv_Synonym.pickle')\n",
    "            df_syn=pd.concat([df_syn,temp])\n",
    "        except:\n",
    "            pass"
   ]
  },
  {
   "cell_type": "code",
   "execution_count": 4,
   "metadata": {},
   "outputs": [],
   "source": [
    "for i in range(8):\n",
    "    try:\n",
    "        temp = pd.read_pickle('salida/nuevo4a/RTE3/TEST_'+str(i+1)+'.csv_Synonym.pickle')\n",
    "        df_syn=pd.concat([df_syn,temp])\n",
    "    except:\n",
    "        pass"
   ]
  },
  {
   "cell_type": "code",
   "execution_count": 5,
   "metadata": {},
   "outputs": [],
   "source": [
    "for i in range(8):\n",
    "    try:\n",
    "        temp = pd.read_pickle('salida/nuevo4a/GHS/GHS_'+str(i+1)+'.csv_Synonym.pickle')\n",
    "        df_syn=pd.concat([df_syn,temp])\n",
    "    except:\n",
    "        pass"
   ]
  },
  {
   "cell_type": "code",
   "execution_count": 31,
   "metadata": {},
   "outputs": [],
   "source": [
    "for i in range(5):\n",
    "    try:\n",
    "        temp = pd.read_pickle('salida/nuevo4a/SICK/DEV_'+str(i+1)+'.csv_Synonym.pickle')\n",
    "        df_syn=pd.concat([df_syn,temp])\n",
    "    except:\n",
    "        pass"
   ]
  },
  {
   "cell_type": "code",
   "execution_count": 32,
   "metadata": {},
   "outputs": [],
   "source": [
    "for i in range(45):\n",
    "    try:\n",
    "        temp = pd.read_pickle('salida/nuevo4a/SICK/TRAIN_'+str(i+1)+'.csv_Synonym.pickle')\n",
    "        df_syn=pd.concat([df_syn,temp])\n",
    "    except:\n",
    "        pass"
   ]
  },
  {
   "cell_type": "code",
   "execution_count": 33,
   "metadata": {},
   "outputs": [],
   "source": [
    "for i in range(50):\n",
    "    try:\n",
    "        temp = pd.read_pickle('salida/nuevo4a/SICK/TEST_'+str(i+1)+'.csv_Synonym.pickle')\n",
    "        df_syn=pd.concat([df_syn,temp])\n",
    "    except:\n",
    "        pass"
   ]
  },
  {
   "cell_type": "code",
   "execution_count": 34,
   "metadata": {},
   "outputs": [],
   "source": [
    "for i in range(10):\n",
    "    try:\n",
    "        temp = pd.read_pickle('salida/nuevo4a/SNLI/DEV/DEV_'+str(i+1)+'.csv_Synonym.pickle')\n",
    "        df_syn=pd.concat([df_syn,temp])\n",
    "    except:\n",
    "        print(i+1)"
   ]
  },
  {
   "cell_type": "code",
   "execution_count": 6,
   "metadata": {},
   "outputs": [
    {
     "data": {
      "text/html": [
       "<div>\n",
       "<style scoped>\n",
       "    .dataframe tbody tr th:only-of-type {\n",
       "        vertical-align: middle;\n",
       "    }\n",
       "\n",
       "    .dataframe tbody tr th {\n",
       "        vertical-align: top;\n",
       "    }\n",
       "\n",
       "    .dataframe thead th {\n",
       "        text-align: right;\n",
       "    }\n",
       "</style>\n",
       "<table border=\"1\" class=\"dataframe\">\n",
       "  <thead>\n",
       "    <tr style=\"text-align: right;\">\n",
       "      <th></th>\n",
       "      <th>word</th>\n",
       "      <th>Synonym</th>\n",
       "    </tr>\n",
       "  </thead>\n",
       "  <tbody>\n",
       "    <tr>\n",
       "      <th>0</th>\n",
       "      <td>sale</td>\n",
       "      <td>{sale, sales_event, cut_rate_sale, sales_agree...</td>\n",
       "    </tr>\n",
       "    <tr>\n",
       "      <th>1</th>\n",
       "      <td>make</td>\n",
       "      <td>{making, make_believe, cook, brand, urinate, p...</td>\n",
       "    </tr>\n",
       "    <tr>\n",
       "      <th>2</th>\n",
       "      <td>pay</td>\n",
       "      <td>{compensate, make_up, pay_off, pay, remunerati...</td>\n",
       "    </tr>\n",
       "    <tr>\n",
       "      <th>3</th>\n",
       "      <td>yukos</td>\n",
       "      <td>{yukos}</td>\n",
       "    </tr>\n",
       "    <tr>\n",
       "      <th>4</th>\n",
       "      <td>27</td>\n",
       "      <td>{27, twenty_seven, xxvii}</td>\n",
       "    </tr>\n",
       "    <tr>\n",
       "      <th>...</th>\n",
       "      <td>...</td>\n",
       "      <td>...</td>\n",
       "    </tr>\n",
       "    <tr>\n",
       "      <th>32908</th>\n",
       "      <td>usa</td>\n",
       "      <td>{united_states_of_america, united_states, usan...</td>\n",
       "    </tr>\n",
       "    <tr>\n",
       "      <th>32909</th>\n",
       "      <td>information</td>\n",
       "      <td>{entropy, selective_information, information, ...</td>\n",
       "    </tr>\n",
       "    <tr>\n",
       "      <th>32910</th>\n",
       "      <td>dave</td>\n",
       "      <td>{dave}</td>\n",
       "    </tr>\n",
       "    <tr>\n",
       "      <th>32911</th>\n",
       "      <td>shaffer</td>\n",
       "      <td>{shaffer}</td>\n",
       "    </tr>\n",
       "    <tr>\n",
       "      <th>32912</th>\n",
       "      <td>thomson</td>\n",
       "      <td>{elihu_thomson, sir_george_paget_thomson, thom...</td>\n",
       "    </tr>\n",
       "  </tbody>\n",
       "</table>\n",
       "<p>32913 rows × 2 columns</p>\n",
       "</div>"
      ],
      "text/plain": [
       "              word                                            Synonym\n",
       "0             sale  {sale, sales_event, cut_rate_sale, sales_agree...\n",
       "1             make  {making, make_believe, cook, brand, urinate, p...\n",
       "2              pay  {compensate, make_up, pay_off, pay, remunerati...\n",
       "3            yukos                                            {yukos}\n",
       "4               27                          {27, twenty_seven, xxvii}\n",
       "...            ...                                                ...\n",
       "32908          usa  {united_states_of_america, united_states, usan...\n",
       "32909  information  {entropy, selective_information, information, ...\n",
       "32910         dave                                             {dave}\n",
       "32911      shaffer                                          {shaffer}\n",
       "32912      thomson  {elihu_thomson, sir_george_paget_thomson, thom...\n",
       "\n",
       "[32913 rows x 2 columns]"
      ]
     },
     "execution_count": 6,
     "metadata": {},
     "output_type": "execute_result"
    }
   ],
   "source": [
    "df_syn = df_syn.reset_index(drop=True)\n",
    "df_syn"
   ]
  },
  {
   "cell_type": "code",
   "execution_count": 7,
   "metadata": {},
   "outputs": [
    {
     "data": {
      "text/plain": [
       "10813"
      ]
     },
     "execution_count": 7,
     "metadata": {},
     "output_type": "execute_result"
    }
   ],
   "source": [
    "len(df_syn['word'].unique())"
   ]
  },
  {
   "cell_type": "code",
   "execution_count": 8,
   "metadata": {},
   "outputs": [],
   "source": [
    "df_syn=df_syn.drop_duplicates('word')"
   ]
  },
  {
   "cell_type": "code",
   "execution_count": 9,
   "metadata": {},
   "outputs": [],
   "source": [
    "for index,strings in df_syn.iterrows():\n",
    "    synonyms[strings['word']]=strings['Synonym']"
   ]
  },
  {
   "cell_type": "code",
   "execution_count": 10,
   "metadata": {},
   "outputs": [
    {
     "data": {
      "text/plain": [
       "10813"
      ]
     },
     "execution_count": 10,
     "metadata": {},
     "output_type": "execute_result"
    }
   ],
   "source": [
    "len(synonyms)"
   ]
  },
  {
   "cell_type": "code",
   "execution_count": 11,
   "metadata": {},
   "outputs": [],
   "source": [
    "df = pd.DataFrame([[key, synonyms[key]] for key in synonyms.keys()], columns=['word', 'Synonym'])\n",
    "df.to_pickle(\"salida/nuevo4a/Synonyms.pickle\")"
   ]
  },
  {
   "cell_type": "markdown",
   "metadata": {},
   "source": [
    "# Creación de pickle con hiperonimos"
   ]
  },
  {
   "cell_type": "code",
   "execution_count": 12,
   "metadata": {},
   "outputs": [],
   "source": [
    "hyperonimos=dict()"
   ]
  },
  {
   "cell_type": "code",
   "execution_count": 43,
   "metadata": {},
   "outputs": [],
   "source": [
    "# df_hyp=pd.read_pickle(\"salida/nuevo4a/Hyperonyms.pickle\")\n",
    "# df_hyp"
   ]
  },
  {
   "cell_type": "code",
   "execution_count": 4,
   "metadata": {},
   "outputs": [],
   "source": [
    "# for index,strings in df_hyp.iterrows():\n",
    "#     hyperonimos[strings['word']]=strings['Hyperonym']"
   ]
  },
  {
   "cell_type": "code",
   "execution_count": 13,
   "metadata": {},
   "outputs": [
    {
     "data": {
      "text/plain": [
       "0"
      ]
     },
     "execution_count": 13,
     "metadata": {},
     "output_type": "execute_result"
    }
   ],
   "source": [
    "len(hyperonimos)"
   ]
  },
  {
   "cell_type": "code",
   "execution_count": 14,
   "metadata": {},
   "outputs": [],
   "source": [
    "for i in range(8):\n",
    "    if i==0:\n",
    "        df_syn = pd.read_pickle('salida/nuevo4a/RTE3/DEV_'+str(i+1)+'.csv_Hyperonym.pickle')\n",
    "    else:\n",
    "        try:\n",
    "            temp = pd.read_pickle('salida/nuevo4a/RTE3/DEV_'+str(i+1)+'.csv_Hyperonym.pickle')\n",
    "            df_syn=pd.concat([df_syn,temp])\n",
    "        except:\n",
    "            pass"
   ]
  },
  {
   "cell_type": "code",
   "execution_count": 15,
   "metadata": {},
   "outputs": [],
   "source": [
    "for i in range(8):\n",
    "    try:\n",
    "        temp = pd.read_pickle('salida/nuevo4a/RTE3/TEST_'+str(i+1)+'.csv_Hyperonym.pickle')\n",
    "        df_syn=pd.concat([df_syn,temp])\n",
    "    except:\n",
    "        pass"
   ]
  },
  {
   "cell_type": "code",
   "execution_count": 16,
   "metadata": {},
   "outputs": [],
   "source": [
    "for i in range(8):\n",
    "    try:\n",
    "        temp = pd.read_pickle('salida/nuevo4a/GHS/GHS_'+str(i+1)+'.csv_Hyperonym.pickle')\n",
    "        df_syn=pd.concat([df_syn,temp])\n",
    "    except:\n",
    "        pass"
   ]
  },
  {
   "cell_type": "code",
   "execution_count": 52,
   "metadata": {},
   "outputs": [],
   "source": [
    "for i in range(5):\n",
    "    try:\n",
    "        temp = pd.read_pickle('salida/nuevo4a/SICK/DEV_'+str(i+1)+'.csv_Hyperonym.pickle')\n",
    "        df_syn=pd.concat([df_syn,temp])\n",
    "    except:\n",
    "        pass"
   ]
  },
  {
   "cell_type": "code",
   "execution_count": 53,
   "metadata": {},
   "outputs": [],
   "source": [
    "for i in range(45):\n",
    "    try:\n",
    "        temp = pd.read_pickle('salida/nuevo4a/SICK/TRAIN_'+str(i+1)+'.csv_Hyperonym.pickle')\n",
    "        df_syn=pd.concat([df_syn,temp])\n",
    "    except:\n",
    "        pass"
   ]
  },
  {
   "cell_type": "code",
   "execution_count": 54,
   "metadata": {},
   "outputs": [],
   "source": [
    "for i in range(50):\n",
    "    try:\n",
    "        temp = pd.read_pickle('salida/nuevo4a/SICK/TEST_'+str(i+1)+'.csv_Hyperonym.pickle')\n",
    "        df_syn=pd.concat([df_syn,temp])\n",
    "    except:\n",
    "        pass"
   ]
  },
  {
   "cell_type": "code",
   "execution_count": 55,
   "metadata": {},
   "outputs": [],
   "source": [
    "for i in range(10):\n",
    "    try:\n",
    "        temp = pd.read_pickle('salida/nuevo4a/SNLI/DEV/DEV_'+str(i+1)+'.csv_Hyperonym.pickle')\n",
    "        df_syn=pd.concat([df_syn,temp])\n",
    "    except:\n",
    "        print(i+1)"
   ]
  },
  {
   "cell_type": "code",
   "execution_count": 17,
   "metadata": {},
   "outputs": [
    {
     "data": {
      "text/html": [
       "<div>\n",
       "<style scoped>\n",
       "    .dataframe tbody tr th:only-of-type {\n",
       "        vertical-align: middle;\n",
       "    }\n",
       "\n",
       "    .dataframe tbody tr th {\n",
       "        vertical-align: top;\n",
       "    }\n",
       "\n",
       "    .dataframe thead th {\n",
       "        text-align: right;\n",
       "    }\n",
       "</style>\n",
       "<table border=\"1\" class=\"dataframe\">\n",
       "  <thead>\n",
       "    <tr style=\"text-align: right;\">\n",
       "      <th></th>\n",
       "      <th>word</th>\n",
       "      <th>Hyperonym</th>\n",
       "    </tr>\n",
       "  </thead>\n",
       "  <tbody>\n",
       "    <tr>\n",
       "      <th>0</th>\n",
       "      <td>sale</td>\n",
       "      <td>{exchange, good_for_business, merchantability,...</td>\n",
       "    </tr>\n",
       "    <tr>\n",
       "      <th>1</th>\n",
       "      <td>make</td>\n",
       "      <td>{total, perform, assemble, reach, become, soft...</td>\n",
       "    </tr>\n",
       "    <tr>\n",
       "      <th>2</th>\n",
       "      <td>pay</td>\n",
       "      <td>{make, compensate, digest, rise, requite, give...</td>\n",
       "    </tr>\n",
       "    <tr>\n",
       "      <th>3</th>\n",
       "      <td>yukos</td>\n",
       "      <td>{company, yuko}</td>\n",
       "    </tr>\n",
       "    <tr>\n",
       "      <th>4</th>\n",
       "      <td>27</td>\n",
       "      <td>{}</td>\n",
       "    </tr>\n",
       "    <tr>\n",
       "      <th>...</th>\n",
       "      <td>...</td>\n",
       "      <td>...</td>\n",
       "    </tr>\n",
       "    <tr>\n",
       "      <th>67518</th>\n",
       "      <td>conducting_wire</td>\n",
       "      <td>{}</td>\n",
       "    </tr>\n",
       "    <tr>\n",
       "      <th>67519</th>\n",
       "      <td>information</td>\n",
       "      <td>{information_measure, non_spatial_thing, commo...</td>\n",
       "    </tr>\n",
       "    <tr>\n",
       "      <th>67520</th>\n",
       "      <td>dave</td>\n",
       "      <td>{person, no_money, making_go_bowling, stinky_f...</td>\n",
       "    </tr>\n",
       "    <tr>\n",
       "      <th>67521</th>\n",
       "      <td>shaffer</td>\n",
       "      <td>{}</td>\n",
       "    </tr>\n",
       "    <tr>\n",
       "      <th>67522</th>\n",
       "      <td>thomson</td>\n",
       "      <td>{tom, son}</td>\n",
       "    </tr>\n",
       "  </tbody>\n",
       "</table>\n",
       "<p>67523 rows × 2 columns</p>\n",
       "</div>"
      ],
      "text/plain": [
       "                  word                                          Hyperonym\n",
       "0                 sale  {exchange, good_for_business, merchantability,...\n",
       "1                 make  {total, perform, assemble, reach, become, soft...\n",
       "2                  pay  {make, compensate, digest, rise, requite, give...\n",
       "3                yukos                                    {company, yuko}\n",
       "4                   27                                                 {}\n",
       "...                ...                                                ...\n",
       "67518  conducting_wire                                                 {}\n",
       "67519      information  {information_measure, non_spatial_thing, commo...\n",
       "67520             dave  {person, no_money, making_go_bowling, stinky_f...\n",
       "67521          shaffer                                                 {}\n",
       "67522          thomson                                         {tom, son}\n",
       "\n",
       "[67523 rows x 2 columns]"
      ]
     },
     "execution_count": 17,
     "metadata": {},
     "output_type": "execute_result"
    }
   ],
   "source": [
    "df_syn = df_syn.reset_index(drop=True)\n",
    "df_syn"
   ]
  },
  {
   "cell_type": "code",
   "execution_count": 18,
   "metadata": {},
   "outputs": [],
   "source": [
    "df_syn=df_syn.drop_duplicates('word')"
   ]
  },
  {
   "cell_type": "code",
   "execution_count": 19,
   "metadata": {},
   "outputs": [],
   "source": [
    "for index,strings in df_syn.iterrows():\n",
    "    hyperonimos[strings['word']]=strings['Hyperonym']"
   ]
  },
  {
   "cell_type": "code",
   "execution_count": 20,
   "metadata": {},
   "outputs": [
    {
     "data": {
      "text/plain": [
       "19714"
      ]
     },
     "execution_count": 20,
     "metadata": {},
     "output_type": "execute_result"
    }
   ],
   "source": [
    "len(hyperonimos)"
   ]
  },
  {
   "cell_type": "code",
   "execution_count": 21,
   "metadata": {},
   "outputs": [],
   "source": [
    "df = pd.DataFrame([[key, hyperonimos[key]] for key in hyperonimos.keys()], columns=['word', 'Hyperonym'])\n",
    "df.to_pickle(\"salida/nuevo4a/Hyperonyms.pickle\")"
   ]
  },
  {
   "cell_type": "markdown",
   "metadata": {},
   "source": [
    "# Hyponyms"
   ]
  },
  {
   "cell_type": "code",
   "execution_count": 22,
   "metadata": {},
   "outputs": [],
   "source": [
    "hyponyms=dict()"
   ]
  },
  {
   "cell_type": "code",
   "execution_count": 63,
   "metadata": {},
   "outputs": [],
   "source": [
    "# df_hyp=pd.read_pickle(\"salida/nuevo4a/Hyponyms.pickle\")\n",
    "# df_hyp"
   ]
  },
  {
   "cell_type": "code",
   "execution_count": 64,
   "metadata": {},
   "outputs": [],
   "source": [
    "# for index,strings in df_hyp.iterrows():\n",
    "#     hyponyms[strings['word']]=strings['Hyponym']"
   ]
  },
  {
   "cell_type": "code",
   "execution_count": 23,
   "metadata": {},
   "outputs": [],
   "source": [
    "for i in range(8):\n",
    "    if i==0:\n",
    "        df_syn = pd.read_pickle('salida/nuevo4a/RTE3/DEV_'+str(i+1)+'.csv_Hyponym.pickle')\n",
    "    else:\n",
    "        try:\n",
    "            temp = pd.read_pickle('salida/nuevo4a/RTE3/DEV_'+str(i+1)+'.csv_Hyponym.pickle')\n",
    "            df_syn=pd.concat([df_syn,temp])\n",
    "        except:\n",
    "            pass"
   ]
  },
  {
   "cell_type": "code",
   "execution_count": 24,
   "metadata": {},
   "outputs": [],
   "source": [
    "for i in range(8):\n",
    "    try:\n",
    "        temp = pd.read_pickle('salida/nuevo4a/RTE3/TEST_'+str(i+1)+'.csv_Hyponym.pickle')\n",
    "        df_syn=pd.concat([df_syn,temp])\n",
    "    except:\n",
    "        pass"
   ]
  },
  {
   "cell_type": "code",
   "execution_count": 25,
   "metadata": {},
   "outputs": [],
   "source": [
    "for i in range(8):\n",
    "    try:\n",
    "        temp = pd.read_pickle('salida/nuevo4a/GHS/GHS_'+str(i+1)+'.csv_Hyponym.pickle')\n",
    "        df_syn=pd.concat([df_syn,temp])\n",
    "    except:\n",
    "        pass"
   ]
  },
  {
   "cell_type": "code",
   "execution_count": 68,
   "metadata": {},
   "outputs": [],
   "source": [
    "for i in range(5):\n",
    "    try:\n",
    "        temp = pd.read_pickle('salida/nuevo4a/SICK/DEV_'+str(i+1)+'.csv_Hyponym.pickle')\n",
    "        df_syn=pd.concat([df_syn,temp])\n",
    "    except:\n",
    "        pass"
   ]
  },
  {
   "cell_type": "code",
   "execution_count": 69,
   "metadata": {},
   "outputs": [],
   "source": [
    "for i in range(45):\n",
    "    try:\n",
    "        temp = pd.read_pickle('salida/nuevo4a/SICK/TRAIN_'+str(i+1)+'.csv_Hyponym.pickle')\n",
    "        df_syn=pd.concat([df_syn,temp])\n",
    "    except:\n",
    "        pass"
   ]
  },
  {
   "cell_type": "code",
   "execution_count": 70,
   "metadata": {},
   "outputs": [],
   "source": [
    "for i in range(50):\n",
    "    try:\n",
    "        temp = pd.read_pickle('salida/nuevo4a/SICK/TEST_'+str(i+1)+'.csv_Hyponym.pickle')\n",
    "        df_syn=pd.concat([df_syn,temp])\n",
    "    except:\n",
    "        pass"
   ]
  },
  {
   "cell_type": "code",
   "execution_count": 71,
   "metadata": {},
   "outputs": [],
   "source": [
    "for i in range(10):\n",
    "    try:\n",
    "        temp = pd.read_pickle('salida/nuevo4a/SNLI/DEV/DEV_'+str(i+1)+'.csv_Hyponym.pickle')\n",
    "        df_syn=pd.concat([df_syn,temp])\n",
    "    except:\n",
    "        print(i+1)"
   ]
  },
  {
   "cell_type": "code",
   "execution_count": 26,
   "metadata": {},
   "outputs": [
    {
     "data": {
      "text/html": [
       "<div>\n",
       "<style scoped>\n",
       "    .dataframe tbody tr th:only-of-type {\n",
       "        vertical-align: middle;\n",
       "    }\n",
       "\n",
       "    .dataframe tbody tr th {\n",
       "        vertical-align: top;\n",
       "    }\n",
       "\n",
       "    .dataframe thead th {\n",
       "        text-align: right;\n",
       "    }\n",
       "</style>\n",
       "<table border=\"1\" class=\"dataframe\">\n",
       "  <thead>\n",
       "    <tr style=\"text-align: right;\">\n",
       "      <th></th>\n",
       "      <th>word</th>\n",
       "      <th>Hyponym</th>\n",
       "    </tr>\n",
       "  </thead>\n",
       "  <tbody>\n",
       "    <tr>\n",
       "      <th>0</th>\n",
       "      <td>sale</td>\n",
       "      <td>{saleworthy, rummage_sale, garage_sale, saleya...</td>\n",
       "    </tr>\n",
       "    <tr>\n",
       "      <th>1</th>\n",
       "      <td>make</td>\n",
       "      <td>{pay, newmake, make_fray, makeable, form, clea...</td>\n",
       "    </tr>\n",
       "    <tr>\n",
       "      <th>2</th>\n",
       "      <td>pay</td>\n",
       "      <td>{charge, payline, payeth, finance, pay_for, bu...</td>\n",
       "    </tr>\n",
       "    <tr>\n",
       "      <th>3</th>\n",
       "      <td>yukos</td>\n",
       "      <td>{}</td>\n",
       "    </tr>\n",
       "    <tr>\n",
       "      <th>4</th>\n",
       "      <td>27</td>\n",
       "      <td>{}</td>\n",
       "    </tr>\n",
       "    <tr>\n",
       "      <th>...</th>\n",
       "      <td>...</td>\n",
       "      <td>...</td>\n",
       "    </tr>\n",
       "    <tr>\n",
       "      <th>69961</th>\n",
       "      <td>get_on</td>\n",
       "      <td>{viewing_video, gets_on, gotten_on, got_on, ge...</td>\n",
       "    </tr>\n",
       "    <tr>\n",
       "      <th>69962</th>\n",
       "      <td>meal</td>\n",
       "      <td>{littlemeal, peasemeal, wholemeal, rockmeal, i...</td>\n",
       "    </tr>\n",
       "    <tr>\n",
       "      <th>69963</th>\n",
       "      <td>control_panel</td>\n",
       "      <td>{control_panels, dashboard}</td>\n",
       "    </tr>\n",
       "    <tr>\n",
       "      <th>69964</th>\n",
       "      <td>table</td>\n",
       "      <td>{tablework, eating_table, tabletopped, lifetab...</td>\n",
       "    </tr>\n",
       "    <tr>\n",
       "      <th>69965</th>\n",
       "      <td>cabinet</td>\n",
       "      <td>{china_cabinet, shadow_cabinet, british_cabine...</td>\n",
       "    </tr>\n",
       "  </tbody>\n",
       "</table>\n",
       "<p>69966 rows × 2 columns</p>\n",
       "</div>"
      ],
      "text/plain": [
       "                word                                            Hyponym\n",
       "0               sale  {saleworthy, rummage_sale, garage_sale, saleya...\n",
       "1               make  {pay, newmake, make_fray, makeable, form, clea...\n",
       "2                pay  {charge, payline, payeth, finance, pay_for, bu...\n",
       "3              yukos                                                 {}\n",
       "4                 27                                                 {}\n",
       "...              ...                                                ...\n",
       "69961         get_on  {viewing_video, gets_on, gotten_on, got_on, ge...\n",
       "69962           meal  {littlemeal, peasemeal, wholemeal, rockmeal, i...\n",
       "69963  control_panel                        {control_panels, dashboard}\n",
       "69964          table  {tablework, eating_table, tabletopped, lifetab...\n",
       "69965        cabinet  {china_cabinet, shadow_cabinet, british_cabine...\n",
       "\n",
       "[69966 rows x 2 columns]"
      ]
     },
     "execution_count": 26,
     "metadata": {},
     "output_type": "execute_result"
    }
   ],
   "source": [
    "df_syn = df_syn.reset_index(drop=True)\n",
    "df_syn"
   ]
  },
  {
   "cell_type": "code",
   "execution_count": 27,
   "metadata": {},
   "outputs": [],
   "source": [
    "df_syn=df_syn.drop_duplicates('word')"
   ]
  },
  {
   "cell_type": "code",
   "execution_count": 28,
   "metadata": {},
   "outputs": [],
   "source": [
    "for index,strings in df_syn.iterrows():\n",
    "    hyponyms[strings['word']]=strings['Hyponym']"
   ]
  },
  {
   "cell_type": "code",
   "execution_count": 29,
   "metadata": {},
   "outputs": [
    {
     "data": {
      "text/plain": [
       "21418"
      ]
     },
     "execution_count": 29,
     "metadata": {},
     "output_type": "execute_result"
    }
   ],
   "source": [
    "len(hyponyms)"
   ]
  },
  {
   "cell_type": "code",
   "execution_count": 30,
   "metadata": {},
   "outputs": [],
   "source": [
    "df = pd.DataFrame([[key, hyponyms[key]] for key in hyponyms.keys()], columns=['word', 'Hyponym'])\n",
    "df.to_pickle(\"salida/nuevo4a/Hyponyms.pickle\")"
   ]
  },
  {
   "cell_type": "code",
   "execution_count": null,
   "metadata": {},
   "outputs": [],
   "source": []
  },
  {
   "cell_type": "markdown",
   "metadata": {},
   "source": [
    "# cargar los conjuntos de sinonimia"
   ]
  },
  {
   "cell_type": "code",
   "execution_count": 18,
   "metadata": {},
   "outputs": [],
   "source": [
    "dict_syns = dict()"
   ]
  },
  {
   "cell_type": "code",
   "execution_count": 19,
   "metadata": {},
   "outputs": [
    {
     "data": {
      "text/html": [
       "<div>\n",
       "<style scoped>\n",
       "    .dataframe tbody tr th:only-of-type {\n",
       "        vertical-align: middle;\n",
       "    }\n",
       "\n",
       "    .dataframe tbody tr th {\n",
       "        vertical-align: top;\n",
       "    }\n",
       "\n",
       "    .dataframe thead th {\n",
       "        text-align: right;\n",
       "    }\n",
       "</style>\n",
       "<table border=\"1\" class=\"dataframe\">\n",
       "  <thead>\n",
       "    <tr style=\"text-align: right;\">\n",
       "      <th></th>\n",
       "      <th>word</th>\n",
       "      <th>Synonym</th>\n",
       "    </tr>\n",
       "  </thead>\n",
       "  <tbody>\n",
       "    <tr>\n",
       "      <th>0</th>\n",
       "      <td>sale</td>\n",
       "      <td>{sale, sales_agreement, sales_event, cut_rate_...</td>\n",
       "    </tr>\n",
       "    <tr>\n",
       "      <th>1</th>\n",
       "      <td>make</td>\n",
       "      <td>{relieve_oneself, produce, urinate, pretend, p...</td>\n",
       "    </tr>\n",
       "    <tr>\n",
       "      <th>2</th>\n",
       "      <td>pay</td>\n",
       "      <td>{ante_up, compensate, pay_up, fee, remuneratio...</td>\n",
       "    </tr>\n",
       "    <tr>\n",
       "      <th>3</th>\n",
       "      <td>yukos</td>\n",
       "      <td>{yukos}</td>\n",
       "    </tr>\n",
       "    <tr>\n",
       "      <th>4</th>\n",
       "      <td>27</td>\n",
       "      <td>{xxvii, 27, twenty_seven}</td>\n",
       "    </tr>\n",
       "    <tr>\n",
       "      <th>...</th>\n",
       "      <td>...</td>\n",
       "      <td>...</td>\n",
       "    </tr>\n",
       "    <tr>\n",
       "      <th>25176</th>\n",
       "      <td>hospice</td>\n",
       "      <td>{hospice}</td>\n",
       "    </tr>\n",
       "    <tr>\n",
       "      <th>25177</th>\n",
       "      <td>prformance</td>\n",
       "      <td>{prformance}</td>\n",
       "    </tr>\n",
       "    <tr>\n",
       "      <th>25178</th>\n",
       "      <td>interlace</td>\n",
       "      <td>{interlace, intertwine, lock}</td>\n",
       "    </tr>\n",
       "    <tr>\n",
       "      <th>25179</th>\n",
       "      <td>chilldren</td>\n",
       "      <td>{chilldren}</td>\n",
       "    </tr>\n",
       "    <tr>\n",
       "      <th>25180</th>\n",
       "      <td>absentmindedly</td>\n",
       "      <td>{inattentively, absently, absentmindedly, abst...</td>\n",
       "    </tr>\n",
       "  </tbody>\n",
       "</table>\n",
       "<p>25181 rows × 2 columns</p>\n",
       "</div>"
      ],
      "text/plain": [
       "                 word                                            Synonym\n",
       "0                sale  {sale, sales_agreement, sales_event, cut_rate_...\n",
       "1                make  {relieve_oneself, produce, urinate, pretend, p...\n",
       "2                 pay  {ante_up, compensate, pay_up, fee, remuneratio...\n",
       "3               yukos                                            {yukos}\n",
       "4                  27                          {xxvii, 27, twenty_seven}\n",
       "...               ...                                                ...\n",
       "25176         hospice                                          {hospice}\n",
       "25177      prformance                                       {prformance}\n",
       "25178       interlace                      {interlace, intertwine, lock}\n",
       "25179       chilldren                                        {chilldren}\n",
       "25180  absentmindedly  {inattentively, absently, absentmindedly, abst...\n",
       "\n",
       "[25181 rows x 2 columns]"
      ]
     },
     "execution_count": 19,
     "metadata": {},
     "output_type": "execute_result"
    }
   ],
   "source": [
    "df_sinonimos=pd.read_pickle(\"salida/nuevo3/Synonyms.pickle\")\n",
    "df_sinonimos"
   ]
  },
  {
   "cell_type": "code",
   "execution_count": 20,
   "metadata": {},
   "outputs": [],
   "source": [
    "for index,strings in df_sinonimos.iterrows():\n",
    "    dict_syns[strings['word']]=strings['Synonym']"
   ]
  },
  {
   "cell_type": "code",
   "execution_count": 21,
   "metadata": {},
   "outputs": [
    {
     "data": {
      "text/plain": [
       "25181"
      ]
     },
     "execution_count": 21,
     "metadata": {},
     "output_type": "execute_result"
    }
   ],
   "source": [
    "len(dict_syns)"
   ]
  },
  {
   "cell_type": "markdown",
   "metadata": {},
   "source": [
    "# agregar diccionario de sinonimos del SNLI DEV y TEST"
   ]
  },
  {
   "cell_type": "code",
   "execution_count": 22,
   "metadata": {},
   "outputs": [],
   "source": [
    "for i in range(10):\n",
    "    if i==0:\n",
    "        df_syn = pd.read_pickle('salida/nuevo3/SNLI/DEV/DEV_'+str(i+1)+'.csv_Synonym.pickle')\n",
    "    else:\n",
    "        try:\n",
    "            temp = pd.read_pickle('salida/nuevo3/SNLI/DEV/DEV_'+str(i+1)+'.csv_Synonym.pickle')\n",
    "            df_syn=pd.concat([df_syn,temp])\n",
    "        except:\n",
    "            pass"
   ]
  },
  {
   "cell_type": "code",
   "execution_count": 23,
   "metadata": {},
   "outputs": [],
   "source": [
    "for i in range(10):\n",
    "    try:\n",
    "        temp = pd.read_pickle('salida/nuevo3/SNLI/TEST/TEST_'+str(i+1)+'.csv_Synonym.pickle')\n",
    "        df_syn=pd.concat([df_syn,temp])\n",
    "    except:\n",
    "        pass"
   ]
  },
  {
   "cell_type": "code",
   "execution_count": 24,
   "metadata": {},
   "outputs": [
    {
     "data": {
      "text/html": [
       "<div>\n",
       "<style scoped>\n",
       "    .dataframe tbody tr th:only-of-type {\n",
       "        vertical-align: middle;\n",
       "    }\n",
       "\n",
       "    .dataframe tbody tr th {\n",
       "        vertical-align: top;\n",
       "    }\n",
       "\n",
       "    .dataframe thead th {\n",
       "        text-align: right;\n",
       "    }\n",
       "</style>\n",
       "<table border=\"1\" class=\"dataframe\">\n",
       "  <thead>\n",
       "    <tr style=\"text-align: right;\">\n",
       "      <th></th>\n",
       "      <th>word</th>\n",
       "      <th>Synonym</th>\n",
       "    </tr>\n",
       "  </thead>\n",
       "  <tbody>\n",
       "    <tr>\n",
       "      <th>0</th>\n",
       "      <td>sale</td>\n",
       "      <td>{sale, sales_agreement, sales_event, cut_rate_...</td>\n",
       "    </tr>\n",
       "    <tr>\n",
       "      <th>1</th>\n",
       "      <td>make</td>\n",
       "      <td>{relieve_oneself, produce, urinate, pretend, p...</td>\n",
       "    </tr>\n",
       "    <tr>\n",
       "      <th>2</th>\n",
       "      <td>pay</td>\n",
       "      <td>{pay_up, compensate, ante_up, fee, remuneratio...</td>\n",
       "    </tr>\n",
       "    <tr>\n",
       "      <th>3</th>\n",
       "      <td>yukos</td>\n",
       "      <td>{yukos}</td>\n",
       "    </tr>\n",
       "    <tr>\n",
       "      <th>4</th>\n",
       "      <td>27</td>\n",
       "      <td>{27, twenty_seven, xxvii}</td>\n",
       "    </tr>\n",
       "    <tr>\n",
       "      <th>...</th>\n",
       "      <td>...</td>\n",
       "      <td>...</td>\n",
       "    </tr>\n",
       "    <tr>\n",
       "      <th>236374</th>\n",
       "      <td>gondola</td>\n",
       "      <td>{car, gondola, cable_car, gondola_car}</td>\n",
       "    </tr>\n",
       "    <tr>\n",
       "      <th>236375</th>\n",
       "      <td>ragged</td>\n",
       "      <td>{mean, ragged, shabby}</td>\n",
       "    </tr>\n",
       "    <tr>\n",
       "      <th>236376</th>\n",
       "      <td>accompaniment</td>\n",
       "      <td>{accessory, accompaniment, co_occurrence, ento...</td>\n",
       "    </tr>\n",
       "    <tr>\n",
       "      <th>236377</th>\n",
       "      <td>dishevel</td>\n",
       "      <td>{tousle, dishevel, jostle, tangle, ruffle, dis...</td>\n",
       "    </tr>\n",
       "    <tr>\n",
       "      <th>236378</th>\n",
       "      <td>kite</td>\n",
       "      <td>{kite, sentry}</td>\n",
       "    </tr>\n",
       "  </tbody>\n",
       "</table>\n",
       "<p>236379 rows × 2 columns</p>\n",
       "</div>"
      ],
      "text/plain": [
       "                 word                                            Synonym\n",
       "0                sale  {sale, sales_agreement, sales_event, cut_rate_...\n",
       "1                make  {relieve_oneself, produce, urinate, pretend, p...\n",
       "2                 pay  {pay_up, compensate, ante_up, fee, remuneratio...\n",
       "3               yukos                                            {yukos}\n",
       "4                  27                          {27, twenty_seven, xxvii}\n",
       "...               ...                                                ...\n",
       "236374        gondola             {car, gondola, cable_car, gondola_car}\n",
       "236375         ragged                             {mean, ragged, shabby}\n",
       "236376  accompaniment  {accessory, accompaniment, co_occurrence, ento...\n",
       "236377       dishevel  {tousle, dishevel, jostle, tangle, ruffle, dis...\n",
       "236378           kite                                     {kite, sentry}\n",
       "\n",
       "[236379 rows x 2 columns]"
      ]
     },
     "execution_count": 24,
     "metadata": {},
     "output_type": "execute_result"
    }
   ],
   "source": [
    "df_syn = df_syn.reset_index(drop=True)\n",
    "df_syn"
   ]
  },
  {
   "cell_type": "code",
   "execution_count": 25,
   "metadata": {},
   "outputs": [],
   "source": [
    "for index,strings in df_syn.iterrows():\n",
    "    dict_syns[strings['word']]=strings['Synonym']"
   ]
  },
  {
   "cell_type": "code",
   "execution_count": 26,
   "metadata": {},
   "outputs": [
    {
     "data": {
      "text/plain": [
       "25181"
      ]
     },
     "execution_count": 26,
     "metadata": {},
     "output_type": "execute_result"
    }
   ],
   "source": [
    "len(dict_syns)"
   ]
  },
  {
   "cell_type": "code",
   "execution_count": 27,
   "metadata": {},
   "outputs": [],
   "source": [
    "# actualizamos el dataframe de los conjuntos\n",
    "df = pd.DataFrame([[key, dict_syns[key]] for key in dict_syns.keys()], columns=['word', 'Synonym'])\n",
    "df.to_pickle(\"salida/nuevo3/Synonyms.pickle\")"
   ]
  },
  {
   "cell_type": "markdown",
   "metadata": {},
   "source": [
    "# actualizar hyperonimos con SNLI DEV y TEST"
   ]
  },
  {
   "cell_type": "code",
   "execution_count": 43,
   "metadata": {},
   "outputs": [],
   "source": [
    "hyperonimos=dict()"
   ]
  },
  {
   "cell_type": "code",
   "execution_count": 44,
   "metadata": {},
   "outputs": [
    {
     "data": {
      "text/html": [
       "<div>\n",
       "<style scoped>\n",
       "    .dataframe tbody tr th:only-of-type {\n",
       "        vertical-align: middle;\n",
       "    }\n",
       "\n",
       "    .dataframe tbody tr th {\n",
       "        vertical-align: top;\n",
       "    }\n",
       "\n",
       "    .dataframe thead th {\n",
       "        text-align: right;\n",
       "    }\n",
       "</style>\n",
       "<table border=\"1\" class=\"dataframe\">\n",
       "  <thead>\n",
       "    <tr style=\"text-align: right;\">\n",
       "      <th></th>\n",
       "      <th>word</th>\n",
       "      <th>Hyperonym</th>\n",
       "    </tr>\n",
       "  </thead>\n",
       "  <tbody>\n",
       "    <tr>\n",
       "      <th>0</th>\n",
       "      <td>sale</td>\n",
       "      <td>{off, cheap_prices, on_offer, in_shops, bargai...</td>\n",
       "    </tr>\n",
       "    <tr>\n",
       "      <th>1</th>\n",
       "      <td>make</td>\n",
       "      <td>{move, means_manufacture, name, excrete, trave...</td>\n",
       "    </tr>\n",
       "    <tr>\n",
       "      <th>2</th>\n",
       "      <td>pay</td>\n",
       "      <td>{monies, give_fee, exchange_money, work_money,...</td>\n",
       "    </tr>\n",
       "    <tr>\n",
       "      <th>3</th>\n",
       "      <td>yukos</td>\n",
       "      <td>{company, yuko}</td>\n",
       "    </tr>\n",
       "    <tr>\n",
       "      <th>4</th>\n",
       "      <td>27</td>\n",
       "      <td>{}</td>\n",
       "    </tr>\n",
       "    <tr>\n",
       "      <th>...</th>\n",
       "      <td>...</td>\n",
       "      <td>...</td>\n",
       "    </tr>\n",
       "    <tr>\n",
       "      <th>22360</th>\n",
       "      <td>okra_plant</td>\n",
       "      <td>{vegetable_plant, crop_plant, mallow_order}</td>\n",
       "    </tr>\n",
       "    <tr>\n",
       "      <th>22361</th>\n",
       "      <td>hibiscus_esculentus</td>\n",
       "      <td>{}</td>\n",
       "    </tr>\n",
       "    <tr>\n",
       "      <th>22362</th>\n",
       "      <td>gumbo</td>\n",
       "      <td>{vegetable, capsule, edible, okra, soil, plant...</td>\n",
       "    </tr>\n",
       "    <tr>\n",
       "      <th>22363</th>\n",
       "      <td>lady's_finger</td>\n",
       "      <td>{branchia, potato, kidney_vetch, cake, lobster...</td>\n",
       "    </tr>\n",
       "    <tr>\n",
       "      <th>22364</th>\n",
       "      <td>bhindi</td>\n",
       "      <td>{edible, capsule, plant}</td>\n",
       "    </tr>\n",
       "  </tbody>\n",
       "</table>\n",
       "<p>22365 rows × 2 columns</p>\n",
       "</div>"
      ],
      "text/plain": [
       "                      word                                          Hyperonym\n",
       "0                     sale  {off, cheap_prices, on_offer, in_shops, bargai...\n",
       "1                     make  {move, means_manufacture, name, excrete, trave...\n",
       "2                      pay  {monies, give_fee, exchange_money, work_money,...\n",
       "3                    yukos                                    {company, yuko}\n",
       "4                       27                                                 {}\n",
       "...                    ...                                                ...\n",
       "22360           okra_plant        {vegetable_plant, crop_plant, mallow_order}\n",
       "22361  hibiscus_esculentus                                                 {}\n",
       "22362                gumbo  {vegetable, capsule, edible, okra, soil, plant...\n",
       "22363        lady's_finger  {branchia, potato, kidney_vetch, cake, lobster...\n",
       "22364               bhindi                           {edible, capsule, plant}\n",
       "\n",
       "[22365 rows x 2 columns]"
      ]
     },
     "execution_count": 44,
     "metadata": {},
     "output_type": "execute_result"
    }
   ],
   "source": [
    "df_hyp=pd.read_pickle(\"salida/nuevo3/Hyperonyms.pickle\")\n",
    "df_hyp"
   ]
  },
  {
   "cell_type": "code",
   "execution_count": 46,
   "metadata": {},
   "outputs": [],
   "source": [
    "for index,strings in df_hyp.iterrows():\n",
    "    hyperonimos[strings['word']]=strings['Hyperonym']"
   ]
  },
  {
   "cell_type": "code",
   "execution_count": 47,
   "metadata": {},
   "outputs": [
    {
     "data": {
      "text/plain": [
       "22365"
      ]
     },
     "execution_count": 47,
     "metadata": {},
     "output_type": "execute_result"
    }
   ],
   "source": [
    "len(hyperonimos)"
   ]
  },
  {
   "cell_type": "code",
   "execution_count": 48,
   "metadata": {},
   "outputs": [],
   "source": [
    "for i in range(10):\n",
    "    if i==0:\n",
    "        df_syn = pd.read_pickle('salida/nuevo3/SNLI/DEV/DEV_'+str(i+1)+'.csv_Hyperonym.pickle')\n",
    "    else:\n",
    "        try:\n",
    "            temp = pd.read_pickle('salida/nuevo3/SNLI/DEV/DEV_'+str(i+1)+'.csv_Hyperonym.pickle')\n",
    "            df_syn=pd.concat([df_syn,temp])\n",
    "        except:\n",
    "            pass"
   ]
  },
  {
   "cell_type": "code",
   "execution_count": 49,
   "metadata": {},
   "outputs": [],
   "source": [
    "for i in range(10):\n",
    "    try:\n",
    "        temp = pd.read_pickle('salida/nuevo3/SNLI/TEST/TEST_'+str(i+1)+'.csv_Hyperonym.pickle')\n",
    "        df_syn=pd.concat([df_syn,temp])\n",
    "    except:\n",
    "        pass"
   ]
  },
  {
   "cell_type": "code",
   "execution_count": 50,
   "metadata": {},
   "outputs": [
    {
     "data": {
      "text/html": [
       "<div>\n",
       "<style scoped>\n",
       "    .dataframe tbody tr th:only-of-type {\n",
       "        vertical-align: middle;\n",
       "    }\n",
       "\n",
       "    .dataframe tbody tr th {\n",
       "        vertical-align: top;\n",
       "    }\n",
       "\n",
       "    .dataframe thead th {\n",
       "        text-align: right;\n",
       "    }\n",
       "</style>\n",
       "<table border=\"1\" class=\"dataframe\">\n",
       "  <thead>\n",
       "    <tr style=\"text-align: right;\">\n",
       "      <th></th>\n",
       "      <th>word</th>\n",
       "      <th>Hyperonym</th>\n",
       "    </tr>\n",
       "  </thead>\n",
       "  <tbody>\n",
       "    <tr>\n",
       "      <th>0</th>\n",
       "      <td>sale</td>\n",
       "      <td>{off, cheap_prices, on_offer, in_shops, bargai...</td>\n",
       "    </tr>\n",
       "    <tr>\n",
       "      <th>1</th>\n",
       "      <td>make</td>\n",
       "      <td>{move, means_manufacture, name, excrete, trave...</td>\n",
       "    </tr>\n",
       "    <tr>\n",
       "      <th>2</th>\n",
       "      <td>pay</td>\n",
       "      <td>{monies, give_fee, exchange_money, work_money,...</td>\n",
       "    </tr>\n",
       "    <tr>\n",
       "      <th>3</th>\n",
       "      <td>yukos</td>\n",
       "      <td>{company, yuko}</td>\n",
       "    </tr>\n",
       "    <tr>\n",
       "      <th>4</th>\n",
       "      <td>27</td>\n",
       "      <td>{}</td>\n",
       "    </tr>\n",
       "    <tr>\n",
       "      <th>...</th>\n",
       "      <td>...</td>\n",
       "      <td>...</td>\n",
       "    </tr>\n",
       "    <tr>\n",
       "      <th>459035</th>\n",
       "      <td>social_dancer</td>\n",
       "      <td>{}</td>\n",
       "    </tr>\n",
       "    <tr>\n",
       "      <th>459036</th>\n",
       "      <td>terpsichorean</td>\n",
       "      <td>{terpsichore, dance, dancing}</td>\n",
       "    </tr>\n",
       "    <tr>\n",
       "      <th>459037</th>\n",
       "      <td>exotic_dancer</td>\n",
       "      <td>{belly_dancer, exotic, pole_dancer, stripper}</td>\n",
       "    </tr>\n",
       "    <tr>\n",
       "      <th>459038</th>\n",
       "      <td>terpsichore</td>\n",
       "      <td>{muses, dramatic, dance, mnemosyne, chorus, as...</td>\n",
       "    </tr>\n",
       "    <tr>\n",
       "      <th>459039</th>\n",
       "      <td>kite</td>\n",
       "      <td>{soar, flier, deben, has_string, brill, child,...</td>\n",
       "    </tr>\n",
       "  </tbody>\n",
       "</table>\n",
       "<p>459040 rows × 2 columns</p>\n",
       "</div>"
      ],
      "text/plain": [
       "                 word                                          Hyperonym\n",
       "0                sale  {off, cheap_prices, on_offer, in_shops, bargai...\n",
       "1                make  {move, means_manufacture, name, excrete, trave...\n",
       "2                 pay  {monies, give_fee, exchange_money, work_money,...\n",
       "3               yukos                                    {company, yuko}\n",
       "4                  27                                                 {}\n",
       "...               ...                                                ...\n",
       "459035  social_dancer                                                 {}\n",
       "459036  terpsichorean                      {terpsichore, dance, dancing}\n",
       "459037  exotic_dancer      {belly_dancer, exotic, pole_dancer, stripper}\n",
       "459038    terpsichore  {muses, dramatic, dance, mnemosyne, chorus, as...\n",
       "459039           kite  {soar, flier, deben, has_string, brill, child,...\n",
       "\n",
       "[459040 rows x 2 columns]"
      ]
     },
     "execution_count": 50,
     "metadata": {},
     "output_type": "execute_result"
    }
   ],
   "source": [
    "df_syn = df_syn.reset_index(drop=True)\n",
    "df_syn"
   ]
  },
  {
   "cell_type": "code",
   "execution_count": 51,
   "metadata": {},
   "outputs": [],
   "source": [
    "for index,strings in df_syn.iterrows():\n",
    "    hyperonimos[strings['word']]=strings['Hyperonym']"
   ]
  },
  {
   "cell_type": "code",
   "execution_count": 52,
   "metadata": {},
   "outputs": [
    {
     "data": {
      "text/plain": [
       "27765"
      ]
     },
     "execution_count": 52,
     "metadata": {},
     "output_type": "execute_result"
    }
   ],
   "source": [
    "len(hyperonimos)"
   ]
  },
  {
   "cell_type": "code",
   "execution_count": 53,
   "metadata": {},
   "outputs": [],
   "source": [
    "# actualizamos el dataframe de los conjuntos\n",
    "df = pd.DataFrame([[key, hyperonimos[key]] for key in hyperonimos.keys()], columns=['word', 'Hyperonym'])\n",
    "df.to_pickle(\"salida/nuevo3/Hyperonyms.pickle\")"
   ]
  },
  {
   "cell_type": "markdown",
   "metadata": {},
   "source": [
    "# Actualizar Hyponyms con SNLI TEST y DEV"
   ]
  },
  {
   "cell_type": "code",
   "execution_count": 54,
   "metadata": {},
   "outputs": [],
   "source": [
    "hyponimos=dict()"
   ]
  },
  {
   "cell_type": "code",
   "execution_count": 55,
   "metadata": {},
   "outputs": [
    {
     "data": {
      "text/html": [
       "<div>\n",
       "<style scoped>\n",
       "    .dataframe tbody tr th:only-of-type {\n",
       "        vertical-align: middle;\n",
       "    }\n",
       "\n",
       "    .dataframe tbody tr th {\n",
       "        vertical-align: top;\n",
       "    }\n",
       "\n",
       "    .dataframe thead th {\n",
       "        text-align: right;\n",
       "    }\n",
       "</style>\n",
       "<table border=\"1\" class=\"dataframe\">\n",
       "  <thead>\n",
       "    <tr style=\"text-align: right;\">\n",
       "      <th></th>\n",
       "      <th>word</th>\n",
       "      <th>Hyponym</th>\n",
       "    </tr>\n",
       "  </thead>\n",
       "  <tbody>\n",
       "    <tr>\n",
       "      <th>0</th>\n",
       "      <td>sale</td>\n",
       "      <td>{rummage_sale, salesbook, for_sale, saleabilit...</td>\n",
       "    </tr>\n",
       "    <tr>\n",
       "      <th>1</th>\n",
       "      <td>make</td>\n",
       "      <td>{makeweight, fashion, lay_down, incorporate, m...</td>\n",
       "    </tr>\n",
       "    <tr>\n",
       "      <th>2</th>\n",
       "      <td>pay</td>\n",
       "      <td>{paidest, paysite, spend, prepay, underpay, re...</td>\n",
       "    </tr>\n",
       "    <tr>\n",
       "      <th>3</th>\n",
       "      <td>yukos</td>\n",
       "      <td>{}</td>\n",
       "    </tr>\n",
       "    <tr>\n",
       "      <th>4</th>\n",
       "      <td>27</td>\n",
       "      <td>{}</td>\n",
       "    </tr>\n",
       "    <tr>\n",
       "      <th>...</th>\n",
       "      <td>...</td>\n",
       "      <td>...</td>\n",
       "    </tr>\n",
       "    <tr>\n",
       "      <th>23419</th>\n",
       "      <td>inform_on</td>\n",
       "      <td>{}</td>\n",
       "    </tr>\n",
       "    <tr>\n",
       "      <th>23420</th>\n",
       "      <td>fingerbang</td>\n",
       "      <td>{fingerbangs, fingerbanging, fingerbanged, fin...</td>\n",
       "    </tr>\n",
       "    <tr>\n",
       "      <th>23421</th>\n",
       "      <td>heyday</td>\n",
       "      <td>{heydays, heydey, hayday}</td>\n",
       "    </tr>\n",
       "    <tr>\n",
       "      <th>23422</th>\n",
       "      <td>king_of_insects</td>\n",
       "      <td>{}</td>\n",
       "    </tr>\n",
       "    <tr>\n",
       "      <th>23423</th>\n",
       "      <td>bee_block</td>\n",
       "      <td>{}</td>\n",
       "    </tr>\n",
       "  </tbody>\n",
       "</table>\n",
       "<p>23424 rows × 2 columns</p>\n",
       "</div>"
      ],
      "text/plain": [
       "                  word                                            Hyponym\n",
       "0                 sale  {rummage_sale, salesbook, for_sale, saleabilit...\n",
       "1                 make  {makeweight, fashion, lay_down, incorporate, m...\n",
       "2                  pay  {paidest, paysite, spend, prepay, underpay, re...\n",
       "3                yukos                                                 {}\n",
       "4                   27                                                 {}\n",
       "...                ...                                                ...\n",
       "23419        inform_on                                                 {}\n",
       "23420       fingerbang  {fingerbangs, fingerbanging, fingerbanged, fin...\n",
       "23421           heyday                          {heydays, heydey, hayday}\n",
       "23422  king_of_insects                                                 {}\n",
       "23423        bee_block                                                 {}\n",
       "\n",
       "[23424 rows x 2 columns]"
      ]
     },
     "execution_count": 55,
     "metadata": {},
     "output_type": "execute_result"
    }
   ],
   "source": [
    "df_hyp=pd.read_pickle(\"salida/nuevo3/Hyponyms.pickle\")\n",
    "df_hyp"
   ]
  },
  {
   "cell_type": "code",
   "execution_count": 56,
   "metadata": {},
   "outputs": [],
   "source": [
    "for index,strings in df_hyp.iterrows():\n",
    "    hyponimos[strings['word']]=strings['Hyponym']"
   ]
  },
  {
   "cell_type": "code",
   "execution_count": 57,
   "metadata": {},
   "outputs": [
    {
     "data": {
      "text/plain": [
       "23424"
      ]
     },
     "execution_count": 57,
     "metadata": {},
     "output_type": "execute_result"
    }
   ],
   "source": [
    "len(hyponimos)"
   ]
  },
  {
   "cell_type": "code",
   "execution_count": 58,
   "metadata": {},
   "outputs": [],
   "source": [
    "for i in range(10):\n",
    "    if i==0:\n",
    "        df_syn = pd.read_pickle('salida/nuevo3/SNLI/DEV/DEV_'+str(i+1)+'.csv_Hyponym.pickle')\n",
    "    else:\n",
    "        try:\n",
    "            temp = pd.read_pickle('salida/nuevo3/SNLI/DEV/DEV_'+str(i+1)+'.csv_Hyponym.pickle')\n",
    "            df_syn=pd.concat([df_syn,temp])\n",
    "        except:\n",
    "            pass"
   ]
  },
  {
   "cell_type": "code",
   "execution_count": 59,
   "metadata": {},
   "outputs": [],
   "source": [
    "for i in range(10):\n",
    "    try:\n",
    "        temp = pd.read_pickle('salida/nuevo3/SNLI/TEST/TEST_'+str(i+1)+'.csv_Hyponym.pickle')\n",
    "        df_syn=pd.concat([df_syn,temp])\n",
    "    except:\n",
    "        pass"
   ]
  },
  {
   "cell_type": "code",
   "execution_count": 60,
   "metadata": {},
   "outputs": [
    {
     "data": {
      "text/html": [
       "<div>\n",
       "<style scoped>\n",
       "    .dataframe tbody tr th:only-of-type {\n",
       "        vertical-align: middle;\n",
       "    }\n",
       "\n",
       "    .dataframe tbody tr th {\n",
       "        vertical-align: top;\n",
       "    }\n",
       "\n",
       "    .dataframe thead th {\n",
       "        text-align: right;\n",
       "    }\n",
       "</style>\n",
       "<table border=\"1\" class=\"dataframe\">\n",
       "  <thead>\n",
       "    <tr style=\"text-align: right;\">\n",
       "      <th></th>\n",
       "      <th>word</th>\n",
       "      <th>Hyponym</th>\n",
       "    </tr>\n",
       "  </thead>\n",
       "  <tbody>\n",
       "    <tr>\n",
       "      <th>0</th>\n",
       "      <td>sale</td>\n",
       "      <td>{rummage_sale, salesbook, for_sale, saleabilit...</td>\n",
       "    </tr>\n",
       "    <tr>\n",
       "      <th>1</th>\n",
       "      <td>make</td>\n",
       "      <td>{makeweight, fashion, lay_down, incorporate, m...</td>\n",
       "    </tr>\n",
       "    <tr>\n",
       "      <th>2</th>\n",
       "      <td>pay</td>\n",
       "      <td>{paidest, paysite, spend, prepay, underpay, re...</td>\n",
       "    </tr>\n",
       "    <tr>\n",
       "      <th>3</th>\n",
       "      <td>yukos</td>\n",
       "      <td>{}</td>\n",
       "    </tr>\n",
       "    <tr>\n",
       "      <th>4</th>\n",
       "      <td>27</td>\n",
       "      <td>{}</td>\n",
       "    </tr>\n",
       "    <tr>\n",
       "      <th>...</th>\n",
       "      <td>...</td>\n",
       "      <td>...</td>\n",
       "    </tr>\n",
       "    <tr>\n",
       "      <th>483592</th>\n",
       "      <td>romantically</td>\n",
       "      <td>{}</td>\n",
       "    </tr>\n",
       "    <tr>\n",
       "      <th>483593</th>\n",
       "      <td>teal</td>\n",
       "      <td>{bluewing, garganey, tealness, teals, greenwing}</td>\n",
       "    </tr>\n",
       "    <tr>\n",
       "      <th>483594</th>\n",
       "      <td>busker</td>\n",
       "      <td>{buskers}</td>\n",
       "    </tr>\n",
       "    <tr>\n",
       "      <th>483595</th>\n",
       "      <td>tousle</td>\n",
       "      <td>{touzle, tousled, untousle, tousles, tousle_he...</td>\n",
       "    </tr>\n",
       "    <tr>\n",
       "      <th>483596</th>\n",
       "      <td>kite</td>\n",
       "      <td>{kitefin, parakite, check_kiting, sport_kite, ...</td>\n",
       "    </tr>\n",
       "  </tbody>\n",
       "</table>\n",
       "<p>483597 rows × 2 columns</p>\n",
       "</div>"
      ],
      "text/plain": [
       "                word                                            Hyponym\n",
       "0               sale  {rummage_sale, salesbook, for_sale, saleabilit...\n",
       "1               make  {makeweight, fashion, lay_down, incorporate, m...\n",
       "2                pay  {paidest, paysite, spend, prepay, underpay, re...\n",
       "3              yukos                                                 {}\n",
       "4                 27                                                 {}\n",
       "...              ...                                                ...\n",
       "483592  romantically                                                 {}\n",
       "483593          teal   {bluewing, garganey, tealness, teals, greenwing}\n",
       "483594        busker                                          {buskers}\n",
       "483595        tousle  {touzle, tousled, untousle, tousles, tousle_he...\n",
       "483596          kite  {kitefin, parakite, check_kiting, sport_kite, ...\n",
       "\n",
       "[483597 rows x 2 columns]"
      ]
     },
     "execution_count": 60,
     "metadata": {},
     "output_type": "execute_result"
    }
   ],
   "source": [
    "df_syn = df_syn.reset_index(drop=True)\n",
    "df_syn"
   ]
  },
  {
   "cell_type": "code",
   "execution_count": 61,
   "metadata": {},
   "outputs": [],
   "source": [
    "for index,strings in df_syn.iterrows():\n",
    "    hyponimos[strings['word']]=strings['Hyponym']"
   ]
  },
  {
   "cell_type": "code",
   "execution_count": 62,
   "metadata": {},
   "outputs": [
    {
     "data": {
      "text/plain": [
       "30514"
      ]
     },
     "execution_count": 62,
     "metadata": {},
     "output_type": "execute_result"
    }
   ],
   "source": [
    "len(hyponimos)"
   ]
  },
  {
   "cell_type": "code",
   "execution_count": 63,
   "metadata": {},
   "outputs": [],
   "source": [
    "# actualizamos el dataframe de los conjuntos\n",
    "df = pd.DataFrame([[key, hyponimos[key]] for key in hyponimos.keys()], columns=['word', 'Hyponym'])\n",
    "df.to_pickle(\"salida/nuevo3/Hyponyms.pickle\")"
   ]
  },
  {
   "cell_type": "markdown",
   "metadata": {},
   "source": [
    "# agregar sinonimos del TRAIN SNLI"
   ]
  },
  {
   "cell_type": "code",
   "execution_count": 12,
   "metadata": {},
   "outputs": [],
   "source": [
    "import pandas as pd"
   ]
  },
  {
   "cell_type": "code",
   "execution_count": 13,
   "metadata": {
    "metadata": {}
   },
   "outputs": [],
   "source": [
    "dict_syns=dict()"
   ]
  },
  {
   "cell_type": "code",
   "execution_count": 14,
   "metadata": {},
   "outputs": [
    {
     "data": {
      "text/html": [
       "<div>\n",
       "<style scoped>\n",
       "    .dataframe tbody tr th:only-of-type {\n",
       "        vertical-align: middle;\n",
       "    }\n",
       "\n",
       "    .dataframe tbody tr th {\n",
       "        vertical-align: top;\n",
       "    }\n",
       "\n",
       "    .dataframe thead th {\n",
       "        text-align: right;\n",
       "    }\n",
       "</style>\n",
       "<table border=\"1\" class=\"dataframe\">\n",
       "  <thead>\n",
       "    <tr style=\"text-align: right;\">\n",
       "      <th></th>\n",
       "      <th>word</th>\n",
       "      <th>Synonym</th>\n",
       "    </tr>\n",
       "  </thead>\n",
       "  <tbody>\n",
       "    <tr>\n",
       "      <th>0</th>\n",
       "      <td>sale</td>\n",
       "      <td>{sales_agreement, cut_rate_sale, sales_event, ...</td>\n",
       "    </tr>\n",
       "    <tr>\n",
       "      <th>1</th>\n",
       "      <td>make</td>\n",
       "      <td>{piddle, cook, pee_pee, draw, drive, construct...</td>\n",
       "    </tr>\n",
       "    <tr>\n",
       "      <th>2</th>\n",
       "      <td>pay</td>\n",
       "      <td>{give, make_up, yield, pay_off, compensation, ...</td>\n",
       "    </tr>\n",
       "    <tr>\n",
       "      <th>3</th>\n",
       "      <td>yukos</td>\n",
       "      <td>{yukos}</td>\n",
       "    </tr>\n",
       "    <tr>\n",
       "      <th>4</th>\n",
       "      <td>27</td>\n",
       "      <td>{xxvii, twenty_seven, 27}</td>\n",
       "    </tr>\n",
       "    <tr>\n",
       "      <th>...</th>\n",
       "      <td>...</td>\n",
       "      <td>...</td>\n",
       "    </tr>\n",
       "    <tr>\n",
       "      <th>73831</th>\n",
       "      <td>guesstimate</td>\n",
       "      <td>{guesstimate, ballpark_figure, guestimate, edu...</td>\n",
       "    </tr>\n",
       "    <tr>\n",
       "      <th>73832</th>\n",
       "      <td>cgf</td>\n",
       "      <td>{cgf}</td>\n",
       "    </tr>\n",
       "    <tr>\n",
       "      <th>73833</th>\n",
       "      <td>complicatedly</td>\n",
       "      <td>{complicatedly}</td>\n",
       "    </tr>\n",
       "    <tr>\n",
       "      <th>73834</th>\n",
       "      <td>freira</td>\n",
       "      <td>{freira}</td>\n",
       "    </tr>\n",
       "    <tr>\n",
       "      <th>73835</th>\n",
       "      <td>handwash</td>\n",
       "      <td>{handwash, hand_wash}</td>\n",
       "    </tr>\n",
       "  </tbody>\n",
       "</table>\n",
       "<p>73836 rows × 2 columns</p>\n",
       "</div>"
      ],
      "text/plain": [
       "                word                                            Synonym\n",
       "0               sale  {sales_agreement, cut_rate_sale, sales_event, ...\n",
       "1               make  {piddle, cook, pee_pee, draw, drive, construct...\n",
       "2                pay  {give, make_up, yield, pay_off, compensation, ...\n",
       "3              yukos                                            {yukos}\n",
       "4                 27                          {xxvii, twenty_seven, 27}\n",
       "...              ...                                                ...\n",
       "73831    guesstimate  {guesstimate, ballpark_figure, guestimate, edu...\n",
       "73832            cgf                                              {cgf}\n",
       "73833  complicatedly                                    {complicatedly}\n",
       "73834         freira                                           {freira}\n",
       "73835       handwash                              {handwash, hand_wash}\n",
       "\n",
       "[73836 rows x 2 columns]"
      ]
     },
     "execution_count": 14,
     "metadata": {},
     "output_type": "execute_result"
    }
   ],
   "source": [
    "df_sinonimos=pd.read_pickle(\"salida/nuevo3/Synonyms.pickle\")\n",
    "df_sinonimos"
   ]
  },
  {
   "cell_type": "code",
   "execution_count": 15,
   "metadata": {},
   "outputs": [],
   "source": [
    "for index,strings in df_sinonimos.iterrows():\n",
    "    dict_syns[strings['word']]=strings['Synonym']"
   ]
  },
  {
   "cell_type": "code",
   "execution_count": 16,
   "metadata": {
    "metadata": {}
   },
   "outputs": [],
   "source": [
    "for i in range(55):\n",
    "    if i==0:\n",
    "        df_syn = pd.read_pickle('salida/nuevo7/SNLI/TRAIN10000/TRAIN_'+str(i+1)+'.csv_Synonym.pickle')\n",
    "    else:\n",
    "        try:\n",
    "            temp = pd.read_pickle('salida/nuevo7/SNLI/TRAIN10000/TRAIN_'+str(i+1)+'.csv_Synonym.pickle')\n",
    "            df_syn=pd.concat([df_syn,temp])\n",
    "        except:\n",
    "            pass"
   ]
  },
  {
   "cell_type": "code",
   "execution_count": 17,
   "metadata": {
    "metadata": {}
   },
   "outputs": [
    {
     "data": {
      "text/html": [
       "<div>\n",
       "<style scoped>\n",
       "    .dataframe tbody tr th:only-of-type {\n",
       "        vertical-align: middle;\n",
       "    }\n",
       "\n",
       "    .dataframe tbody tr th {\n",
       "        vertical-align: top;\n",
       "    }\n",
       "\n",
       "    .dataframe thead th {\n",
       "        text-align: right;\n",
       "    }\n",
       "</style>\n",
       "<table border=\"1\" class=\"dataframe\">\n",
       "  <thead>\n",
       "    <tr style=\"text-align: right;\">\n",
       "      <th></th>\n",
       "      <th>word</th>\n",
       "      <th>Synonym</th>\n",
       "    </tr>\n",
       "  </thead>\n",
       "  <tbody>\n",
       "    <tr>\n",
       "      <th>0</th>\n",
       "      <td>sale</td>\n",
       "      <td>{sales_agreement, cut_rate_sale, sales_event, ...</td>\n",
       "    </tr>\n",
       "    <tr>\n",
       "      <th>1</th>\n",
       "      <td>make</td>\n",
       "      <td>{piddle, cook, pee_pee, draw, drive, construct...</td>\n",
       "    </tr>\n",
       "    <tr>\n",
       "      <th>2</th>\n",
       "      <td>pay</td>\n",
       "      <td>{give, make_up, yield, pay_off, compensation, ...</td>\n",
       "    </tr>\n",
       "    <tr>\n",
       "      <th>3</th>\n",
       "      <td>yukos</td>\n",
       "      <td>{yukos}</td>\n",
       "    </tr>\n",
       "    <tr>\n",
       "      <th>4</th>\n",
       "      <td>27</td>\n",
       "      <td>{xxvii, twenty_seven, 27}</td>\n",
       "    </tr>\n",
       "    <tr>\n",
       "      <th>...</th>\n",
       "      <td>...</td>\n",
       "      <td>...</td>\n",
       "    </tr>\n",
       "    <tr>\n",
       "      <th>1808000</th>\n",
       "      <td>;</td>\n",
       "      <td>{;}</td>\n",
       "    </tr>\n",
       "    <tr>\n",
       "      <th>1808001</th>\n",
       "      <td>(</td>\n",
       "      <td>{(}</td>\n",
       "    </tr>\n",
       "    <tr>\n",
       "      <th>1808002</th>\n",
       "      <td>)</td>\n",
       "      <td>{)}</td>\n",
       "    </tr>\n",
       "    <tr>\n",
       "      <th>1808003</th>\n",
       "      <td>froma</td>\n",
       "      <td>{froma}</td>\n",
       "    </tr>\n",
       "    <tr>\n",
       "      <th>1808004</th>\n",
       "      <td>themself</td>\n",
       "      <td>{emself, hirself, perself, thonself, himself, ...</td>\n",
       "    </tr>\n",
       "  </tbody>\n",
       "</table>\n",
       "<p>1808005 rows × 2 columns</p>\n",
       "</div>"
      ],
      "text/plain": [
       "             word                                            Synonym\n",
       "0            sale  {sales_agreement, cut_rate_sale, sales_event, ...\n",
       "1            make  {piddle, cook, pee_pee, draw, drive, construct...\n",
       "2             pay  {give, make_up, yield, pay_off, compensation, ...\n",
       "3           yukos                                            {yukos}\n",
       "4              27                          {xxvii, twenty_seven, 27}\n",
       "...           ...                                                ...\n",
       "1808000         ;                                                {;}\n",
       "1808001         (                                                {(}\n",
       "1808002         )                                                {)}\n",
       "1808003     froma                                            {froma}\n",
       "1808004  themself  {emself, hirself, perself, thonself, himself, ...\n",
       "\n",
       "[1808005 rows x 2 columns]"
      ]
     },
     "execution_count": 17,
     "metadata": {},
     "output_type": "execute_result"
    }
   ],
   "source": [
    "df_syn = df_syn.reset_index(drop=True)\n",
    "df_syn"
   ]
  },
  {
   "cell_type": "code",
   "execution_count": 18,
   "metadata": {
    "metadata": {}
   },
   "outputs": [],
   "source": [
    "for index,strings in df_syn.iterrows():\n",
    "    dict_syns[strings['word']]=strings['Synonym']"
   ]
  },
  {
   "cell_type": "code",
   "execution_count": 19,
   "metadata": {
    "metadata": {}
   },
   "outputs": [
    {
     "data": {
      "text/plain": [
       "74100"
      ]
     },
     "execution_count": 19,
     "metadata": {},
     "output_type": "execute_result"
    }
   ],
   "source": [
    "len(dict_syns)"
   ]
  },
  {
   "cell_type": "code",
   "execution_count": 20,
   "metadata": {
    "metadata": {}
   },
   "outputs": [],
   "source": [
    "# actualizamos el dataframe de los conjuntos\n",
    "df = pd.DataFrame([[key, dict_syns[key]] for key in dict_syns.keys()], columns=['word', 'Synonym'])\n",
    "df.to_pickle(\"salida/nuevo3/Synonyms.pickle\")"
   ]
  },
  {
   "cell_type": "markdown",
   "metadata": {},
   "source": [
    "# actualizar hiperonimos de SNLI TRAIN"
   ]
  },
  {
   "cell_type": "code",
   "execution_count": 21,
   "metadata": {
    "metadata": {}
   },
   "outputs": [],
   "source": [
    "hyperonimos=dict()"
   ]
  },
  {
   "cell_type": "code",
   "execution_count": 22,
   "metadata": {
    "metadata": {}
   },
   "outputs": [
    {
     "data": {
      "text/html": [
       "<div>\n",
       "<style scoped>\n",
       "    .dataframe tbody tr th:only-of-type {\n",
       "        vertical-align: middle;\n",
       "    }\n",
       "\n",
       "    .dataframe tbody tr th {\n",
       "        vertical-align: top;\n",
       "    }\n",
       "\n",
       "    .dataframe thead th {\n",
       "        text-align: right;\n",
       "    }\n",
       "</style>\n",
       "<table border=\"1\" class=\"dataframe\">\n",
       "  <thead>\n",
       "    <tr style=\"text-align: right;\">\n",
       "      <th></th>\n",
       "      <th>word</th>\n",
       "      <th>Hyperonym</th>\n",
       "    </tr>\n",
       "  </thead>\n",
       "  <tbody>\n",
       "    <tr>\n",
       "      <th>0</th>\n",
       "      <td>sale</td>\n",
       "      <td>{sold, fifty, items, greater_manchester, cheap...</td>\n",
       "    </tr>\n",
       "    <tr>\n",
       "      <th>1</th>\n",
       "      <td>make</td>\n",
       "      <td>{recognise, means_manufacture, promotion, crea...</td>\n",
       "    </tr>\n",
       "    <tr>\n",
       "      <th>2</th>\n",
       "      <td>pay</td>\n",
       "      <td>{profitable, bill, receiving_money, financial,...</td>\n",
       "    </tr>\n",
       "    <tr>\n",
       "      <th>3</th>\n",
       "      <td>yukos</td>\n",
       "      <td>{company, yuko}</td>\n",
       "    </tr>\n",
       "    <tr>\n",
       "      <th>4</th>\n",
       "      <td>27</td>\n",
       "      <td>{}</td>\n",
       "    </tr>\n",
       "    <tr>\n",
       "      <th>...</th>\n",
       "      <td>...</td>\n",
       "      <td>...</td>\n",
       "    </tr>\n",
       "    <tr>\n",
       "      <th>98823</th>\n",
       "      <td>guesstimate</td>\n",
       "      <td>{guess, estimate}</td>\n",
       "    </tr>\n",
       "    <tr>\n",
       "      <th>98824</th>\n",
       "      <td>cgf</td>\n",
       "      <td>{}</td>\n",
       "    </tr>\n",
       "    <tr>\n",
       "      <th>98825</th>\n",
       "      <td>complicatedly</td>\n",
       "      <td>{complicated}</td>\n",
       "    </tr>\n",
       "    <tr>\n",
       "      <th>98826</th>\n",
       "      <td>freira</td>\n",
       "      <td>{}</td>\n",
       "    </tr>\n",
       "    <tr>\n",
       "      <th>98827</th>\n",
       "      <td>handwash</td>\n",
       "      <td>{wash, hand}</td>\n",
       "    </tr>\n",
       "  </tbody>\n",
       "</table>\n",
       "<p>98828 rows × 2 columns</p>\n",
       "</div>"
      ],
      "text/plain": [
       "                word                                          Hyperonym\n",
       "0               sale  {sold, fifty, items, greater_manchester, cheap...\n",
       "1               make  {recognise, means_manufacture, promotion, crea...\n",
       "2                pay  {profitable, bill, receiving_money, financial,...\n",
       "3              yukos                                    {company, yuko}\n",
       "4                 27                                                 {}\n",
       "...              ...                                                ...\n",
       "98823    guesstimate                                  {guess, estimate}\n",
       "98824            cgf                                                 {}\n",
       "98825  complicatedly                                      {complicated}\n",
       "98826         freira                                                 {}\n",
       "98827       handwash                                       {wash, hand}\n",
       "\n",
       "[98828 rows x 2 columns]"
      ]
     },
     "execution_count": 22,
     "metadata": {},
     "output_type": "execute_result"
    }
   ],
   "source": [
    "df_hyp=pd.read_pickle(\"salida/nuevo3/Hyperonyms.pickle\")\n",
    "df_hyp"
   ]
  },
  {
   "cell_type": "code",
   "execution_count": 23,
   "metadata": {
    "metadata": {}
   },
   "outputs": [],
   "source": [
    "for index,strings in df_hyp.iterrows():\n",
    "    hyperonimos[strings['word']]=strings['Hyperonym']"
   ]
  },
  {
   "cell_type": "code",
   "execution_count": 24,
   "metadata": {
    "metadata": {}
   },
   "outputs": [
    {
     "data": {
      "text/plain": [
       "98828"
      ]
     },
     "execution_count": 24,
     "metadata": {},
     "output_type": "execute_result"
    }
   ],
   "source": [
    "len(hyperonimos)"
   ]
  },
  {
   "cell_type": "code",
   "execution_count": 25,
   "metadata": {
    "metadata": {}
   },
   "outputs": [],
   "source": [
    "for i in range(55):\n",
    "    if i==0:\n",
    "        df_syn = pd.read_pickle('salida/nuevo7/SNLI/TRAIN10000/TRAIN_'+str(i+1)+'.csv_Hyperonym.pickle')\n",
    "    else:\n",
    "        try:\n",
    "            temp = pd.read_pickle('salida/nuevo7/SNLI/TRAIN10000/TRAIN_'+str(i+1)+'.csv_Hyperonym.pickle')\n",
    "            df_syn=pd.concat([df_syn,temp])\n",
    "        except:\n",
    "            pass"
   ]
  },
  {
   "cell_type": "code",
   "execution_count": 26,
   "metadata": {
    "metadata": {}
   },
   "outputs": [
    {
     "data": {
      "text/html": [
       "<div>\n",
       "<style scoped>\n",
       "    .dataframe tbody tr th:only-of-type {\n",
       "        vertical-align: middle;\n",
       "    }\n",
       "\n",
       "    .dataframe tbody tr th {\n",
       "        vertical-align: top;\n",
       "    }\n",
       "\n",
       "    .dataframe thead th {\n",
       "        text-align: right;\n",
       "    }\n",
       "</style>\n",
       "<table border=\"1\" class=\"dataframe\">\n",
       "  <thead>\n",
       "    <tr style=\"text-align: right;\">\n",
       "      <th></th>\n",
       "      <th>word</th>\n",
       "      <th>Hyperonym</th>\n",
       "    </tr>\n",
       "  </thead>\n",
       "  <tbody>\n",
       "    <tr>\n",
       "      <th>0</th>\n",
       "      <td>sale</td>\n",
       "      <td>{sold, fifty, items, greater_manchester, cheap...</td>\n",
       "    </tr>\n",
       "    <tr>\n",
       "      <th>1</th>\n",
       "      <td>make</td>\n",
       "      <td>{recognise, means_manufacture, creating_someth...</td>\n",
       "    </tr>\n",
       "    <tr>\n",
       "      <th>2</th>\n",
       "      <td>pay</td>\n",
       "      <td>{profitable, bill, receiving_money, financial,...</td>\n",
       "    </tr>\n",
       "    <tr>\n",
       "      <th>3</th>\n",
       "      <td>yukos</td>\n",
       "      <td>{company, yuko}</td>\n",
       "    </tr>\n",
       "    <tr>\n",
       "      <th>4</th>\n",
       "      <td>27</td>\n",
       "      <td>{}</td>\n",
       "    </tr>\n",
       "    <tr>\n",
       "      <th>...</th>\n",
       "      <td>...</td>\n",
       "      <td>...</td>\n",
       "    </tr>\n",
       "    <tr>\n",
       "      <th>2654036</th>\n",
       "      <td>surjective</td>\n",
       "      <td>{}</td>\n",
       "    </tr>\n",
       "    <tr>\n",
       "      <th>2654037</th>\n",
       "      <td>(</td>\n",
       "      <td>{}</td>\n",
       "    </tr>\n",
       "    <tr>\n",
       "      <th>2654038</th>\n",
       "      <td>)</td>\n",
       "      <td>{}</td>\n",
       "    </tr>\n",
       "    <tr>\n",
       "      <th>2654039</th>\n",
       "      <td>from_each_one</td>\n",
       "      <td>{}</td>\n",
       "    </tr>\n",
       "    <tr>\n",
       "      <th>2654040</th>\n",
       "      <td>froma</td>\n",
       "      <td>{}</td>\n",
       "    </tr>\n",
       "  </tbody>\n",
       "</table>\n",
       "<p>2654041 rows × 2 columns</p>\n",
       "</div>"
      ],
      "text/plain": [
       "                  word                                          Hyperonym\n",
       "0                 sale  {sold, fifty, items, greater_manchester, cheap...\n",
       "1                 make  {recognise, means_manufacture, creating_someth...\n",
       "2                  pay  {profitable, bill, receiving_money, financial,...\n",
       "3                yukos                                    {company, yuko}\n",
       "4                   27                                                 {}\n",
       "...                ...                                                ...\n",
       "2654036     surjective                                                 {}\n",
       "2654037              (                                                 {}\n",
       "2654038              )                                                 {}\n",
       "2654039  from_each_one                                                 {}\n",
       "2654040          froma                                                 {}\n",
       "\n",
       "[2654041 rows x 2 columns]"
      ]
     },
     "execution_count": 26,
     "metadata": {},
     "output_type": "execute_result"
    }
   ],
   "source": [
    "df_syn = df_syn.reset_index(drop=True)\n",
    "df_syn"
   ]
  },
  {
   "cell_type": "code",
   "execution_count": 27,
   "metadata": {
    "metadata": {}
   },
   "outputs": [],
   "source": [
    "for index,strings in df_syn.iterrows():\n",
    "    hyperonimos[strings['word']]=strings['Hyperonym']"
   ]
  },
  {
   "cell_type": "code",
   "execution_count": 28,
   "metadata": {
    "metadata": {}
   },
   "outputs": [
    {
     "data": {
      "text/plain": [
       "99102"
      ]
     },
     "execution_count": 28,
     "metadata": {},
     "output_type": "execute_result"
    }
   ],
   "source": [
    "len(hyperonimos)"
   ]
  },
  {
   "cell_type": "code",
   "execution_count": 29,
   "metadata": {
    "metadata": {}
   },
   "outputs": [],
   "source": [
    "# actualizamos el dataframe de los conjuntos\n",
    "df = pd.DataFrame([[key, hyperonimos[key]] for key in hyperonimos.keys()], columns=['word', 'Hyperonym'])\n",
    "df.to_pickle(\"salida/nuevo3/Hyperonyms.pickle\")"
   ]
  },
  {
   "cell_type": "markdown",
   "metadata": {},
   "source": [
    "# agregar hiponimos del SNLI TRAIN"
   ]
  },
  {
   "cell_type": "code",
   "execution_count": 30,
   "metadata": {
    "metadata": {}
   },
   "outputs": [],
   "source": [
    "hyponimos=dict()"
   ]
  },
  {
   "cell_type": "code",
   "execution_count": 31,
   "metadata": {
    "metadata": {}
   },
   "outputs": [
    {
     "data": {
      "text/html": [
       "<div>\n",
       "<style scoped>\n",
       "    .dataframe tbody tr th:only-of-type {\n",
       "        vertical-align: middle;\n",
       "    }\n",
       "\n",
       "    .dataframe tbody tr th {\n",
       "        vertical-align: top;\n",
       "    }\n",
       "\n",
       "    .dataframe thead th {\n",
       "        text-align: right;\n",
       "    }\n",
       "</style>\n",
       "<table border=\"1\" class=\"dataframe\">\n",
       "  <thead>\n",
       "    <tr style=\"text-align: right;\">\n",
       "      <th></th>\n",
       "      <th>word</th>\n",
       "      <th>Hyponym</th>\n",
       "    </tr>\n",
       "  </thead>\n",
       "  <tbody>\n",
       "    <tr>\n",
       "      <th>0</th>\n",
       "      <td>sale</td>\n",
       "      <td>{rummage_sale, salesperson, salesman, selloff,...</td>\n",
       "    </tr>\n",
       "    <tr>\n",
       "      <th>1</th>\n",
       "      <td>make</td>\n",
       "      <td>{arouse, newmake, remake, recreate, institute,...</td>\n",
       "    </tr>\n",
       "    <tr>\n",
       "      <th>2</th>\n",
       "      <td>pay</td>\n",
       "      <td>{paystreak, refund, payline, paypoint, paying,...</td>\n",
       "    </tr>\n",
       "    <tr>\n",
       "      <th>3</th>\n",
       "      <td>yukos</td>\n",
       "      <td>{}</td>\n",
       "    </tr>\n",
       "    <tr>\n",
       "      <th>4</th>\n",
       "      <td>27</td>\n",
       "      <td>{}</td>\n",
       "    </tr>\n",
       "    <tr>\n",
       "      <th>...</th>\n",
       "      <td>...</td>\n",
       "      <td>...</td>\n",
       "    </tr>\n",
       "    <tr>\n",
       "      <th>89420</th>\n",
       "      <td>obstetrics</td>\n",
       "      <td>{fetology, perinatology, ob_gyn}</td>\n",
       "    </tr>\n",
       "    <tr>\n",
       "      <th>89421</th>\n",
       "      <td>intoa</td>\n",
       "      <td>{}</td>\n",
       "    </tr>\n",
       "    <tr>\n",
       "      <th>89422</th>\n",
       "      <td>aross</td>\n",
       "      <td>{}</td>\n",
       "    </tr>\n",
       "    <tr>\n",
       "      <th>89423</th>\n",
       "      <td>kimora</td>\n",
       "      <td>{}</td>\n",
       "    </tr>\n",
       "    <tr>\n",
       "      <th>89424</th>\n",
       "      <td>dogwas</td>\n",
       "      <td>{}</td>\n",
       "    </tr>\n",
       "  </tbody>\n",
       "</table>\n",
       "<p>89425 rows × 2 columns</p>\n",
       "</div>"
      ],
      "text/plain": [
       "             word                                            Hyponym\n",
       "0            sale  {rummage_sale, salesperson, salesman, selloff,...\n",
       "1            make  {arouse, newmake, remake, recreate, institute,...\n",
       "2             pay  {paystreak, refund, payline, paypoint, paying,...\n",
       "3           yukos                                                 {}\n",
       "4              27                                                 {}\n",
       "...           ...                                                ...\n",
       "89420  obstetrics                   {fetology, perinatology, ob_gyn}\n",
       "89421       intoa                                                 {}\n",
       "89422       aross                                                 {}\n",
       "89423      kimora                                                 {}\n",
       "89424      dogwas                                                 {}\n",
       "\n",
       "[89425 rows x 2 columns]"
      ]
     },
     "execution_count": 31,
     "metadata": {},
     "output_type": "execute_result"
    }
   ],
   "source": [
    "df_hyp=pd.read_pickle(\"salida/nuevo3/Hyponyms.pickle\")\n",
    "df_hyp"
   ]
  },
  {
   "cell_type": "code",
   "execution_count": 32,
   "metadata": {
    "metadata": {}
   },
   "outputs": [],
   "source": [
    "for index,strings in df_hyp.iterrows():\n",
    "    hyponimos[strings['word']]=strings['Hyponym']"
   ]
  },
  {
   "cell_type": "code",
   "execution_count": 33,
   "metadata": {
    "metadata": {}
   },
   "outputs": [
    {
     "data": {
      "text/plain": [
       "89425"
      ]
     },
     "execution_count": 33,
     "metadata": {},
     "output_type": "execute_result"
    }
   ],
   "source": [
    "len(hyponimos)"
   ]
  },
  {
   "cell_type": "code",
   "execution_count": 34,
   "metadata": {
    "metadata": {}
   },
   "outputs": [],
   "source": [
    "for i in range(55):\n",
    "    if i==0:\n",
    "        df_syn = pd.read_pickle('salida/nuevo7/SNLI/TRAIN10000/TRAIN_'+str(i+1)+'.csv_Hyponym.pickle')\n",
    "    else:\n",
    "        try:\n",
    "            temp = pd.read_pickle('salida/nuevo7/SNLI/TRAIN10000/TRAIN_'+str(i+1)+'.csv_Hyponym.pickle')\n",
    "            df_syn=pd.concat([df_syn,temp])\n",
    "        except:\n",
    "            pass"
   ]
  },
  {
   "cell_type": "code",
   "execution_count": 35,
   "metadata": {
    "metadata": {}
   },
   "outputs": [
    {
     "data": {
      "text/html": [
       "<div>\n",
       "<style scoped>\n",
       "    .dataframe tbody tr th:only-of-type {\n",
       "        vertical-align: middle;\n",
       "    }\n",
       "\n",
       "    .dataframe tbody tr th {\n",
       "        vertical-align: top;\n",
       "    }\n",
       "\n",
       "    .dataframe thead th {\n",
       "        text-align: right;\n",
       "    }\n",
       "</style>\n",
       "<table border=\"1\" class=\"dataframe\">\n",
       "  <thead>\n",
       "    <tr style=\"text-align: right;\">\n",
       "      <th></th>\n",
       "      <th>word</th>\n",
       "      <th>Hyponym</th>\n",
       "    </tr>\n",
       "  </thead>\n",
       "  <tbody>\n",
       "    <tr>\n",
       "      <th>0</th>\n",
       "      <td>sale</td>\n",
       "      <td>{rummage_sale, salesperson, salesman, selloff,...</td>\n",
       "    </tr>\n",
       "    <tr>\n",
       "      <th>1</th>\n",
       "      <td>make</td>\n",
       "      <td>{arouse, newmake, remake, recreate, institute,...</td>\n",
       "    </tr>\n",
       "    <tr>\n",
       "      <th>2</th>\n",
       "      <td>pay</td>\n",
       "      <td>{paystreak, refund, payline, paypoint, paying,...</td>\n",
       "    </tr>\n",
       "    <tr>\n",
       "      <th>3</th>\n",
       "      <td>yukos</td>\n",
       "      <td>{}</td>\n",
       "    </tr>\n",
       "    <tr>\n",
       "      <th>4</th>\n",
       "      <td>27</td>\n",
       "      <td>{}</td>\n",
       "    </tr>\n",
       "    <tr>\n",
       "      <th>...</th>\n",
       "      <td>...</td>\n",
       "      <td>...</td>\n",
       "    </tr>\n",
       "    <tr>\n",
       "      <th>2959583</th>\n",
       "      <td>why_not</td>\n",
       "      <td>{}</td>\n",
       "    </tr>\n",
       "    <tr>\n",
       "      <th>2959584</th>\n",
       "      <td>how_come</td>\n",
       "      <td>{}</td>\n",
       "    </tr>\n",
       "    <tr>\n",
       "      <th>2959585</th>\n",
       "      <td>wherefore</td>\n",
       "      <td>{wherefor, wherefores, whys_and_wherefores}</td>\n",
       "    </tr>\n",
       "    <tr>\n",
       "      <th>2959586</th>\n",
       "      <td>what_for</td>\n",
       "      <td>{what_fors}</td>\n",
       "    </tr>\n",
       "    <tr>\n",
       "      <th>2959587</th>\n",
       "      <td>what's_up_with</td>\n",
       "      <td>{}</td>\n",
       "    </tr>\n",
       "  </tbody>\n",
       "</table>\n",
       "<p>2959588 rows × 2 columns</p>\n",
       "</div>"
      ],
      "text/plain": [
       "                   word                                            Hyponym\n",
       "0                  sale  {rummage_sale, salesperson, salesman, selloff,...\n",
       "1                  make  {arouse, newmake, remake, recreate, institute,...\n",
       "2                   pay  {paystreak, refund, payline, paypoint, paying,...\n",
       "3                 yukos                                                 {}\n",
       "4                    27                                                 {}\n",
       "...                 ...                                                ...\n",
       "2959583         why_not                                                 {}\n",
       "2959584        how_come                                                 {}\n",
       "2959585       wherefore        {wherefor, wherefores, whys_and_wherefores}\n",
       "2959586        what_for                                        {what_fors}\n",
       "2959587  what's_up_with                                                 {}\n",
       "\n",
       "[2959588 rows x 2 columns]"
      ]
     },
     "execution_count": 35,
     "metadata": {},
     "output_type": "execute_result"
    }
   ],
   "source": [
    "df_syn = df_syn.reset_index(drop=True)\n",
    "df_syn"
   ]
  },
  {
   "cell_type": "code",
   "execution_count": 36,
   "metadata": {
    "metadata": {}
   },
   "outputs": [],
   "source": [
    "for index,strings in df_syn.iterrows():\n",
    "    hyponimos[strings['word']]=strings['Hyponym']"
   ]
  },
  {
   "cell_type": "code",
   "execution_count": 38,
   "metadata": {
    "metadata": {}
   },
   "outputs": [
    {
     "data": {
      "text/plain": [
       "89779"
      ]
     },
     "execution_count": 38,
     "metadata": {},
     "output_type": "execute_result"
    }
   ],
   "source": [
    "len(hyponimos)"
   ]
  },
  {
   "cell_type": "code",
   "execution_count": 39,
   "metadata": {
    "metadata": {}
   },
   "outputs": [],
   "source": [
    "# actualizamos el dataframe de los conjuntos\n",
    "df = pd.DataFrame([[key, hyponimos[key]] for key in hyponimos.keys()], columns=['word', 'Hyponym'])\n",
    "df.to_pickle(\"salida/nuevo3/Hyponyms.pickle\")"
   ]
  },
  {
   "cell_type": "markdown",
   "metadata": {},
   "source": [
    "# Agregar sinonimos del corpus RTEGLUE"
   ]
  },
  {
   "cell_type": "code",
   "execution_count": 3,
   "metadata": {},
   "outputs": [],
   "source": [
    "import pandas as pd"
   ]
  },
  {
   "cell_type": "code",
   "execution_count": 4,
   "metadata": {},
   "outputs": [],
   "source": [
    "dict_syns=dict()"
   ]
  },
  {
   "cell_type": "code",
   "execution_count": 5,
   "metadata": {},
   "outputs": [
    {
     "data": {
      "text/html": [
       "<div>\n",
       "<style scoped>\n",
       "    .dataframe tbody tr th:only-of-type {\n",
       "        vertical-align: middle;\n",
       "    }\n",
       "\n",
       "    .dataframe tbody tr th {\n",
       "        vertical-align: top;\n",
       "    }\n",
       "\n",
       "    .dataframe thead th {\n",
       "        text-align: right;\n",
       "    }\n",
       "</style>\n",
       "<table border=\"1\" class=\"dataframe\">\n",
       "  <thead>\n",
       "    <tr style=\"text-align: right;\">\n",
       "      <th></th>\n",
       "      <th>word</th>\n",
       "      <th>Synonym</th>\n",
       "    </tr>\n",
       "  </thead>\n",
       "  <tbody>\n",
       "    <tr>\n",
       "      <th>0</th>\n",
       "      <td>sale</td>\n",
       "      <td>{sales_agreement, cut_rate_sale, sales_event, ...</td>\n",
       "    </tr>\n",
       "    <tr>\n",
       "      <th>1</th>\n",
       "      <td>make</td>\n",
       "      <td>{piddle, cook, pee_pee, draw, drive, construct...</td>\n",
       "    </tr>\n",
       "    <tr>\n",
       "      <th>2</th>\n",
       "      <td>pay</td>\n",
       "      <td>{give, make_up, yield, pay_off, compensation, ...</td>\n",
       "    </tr>\n",
       "    <tr>\n",
       "      <th>3</th>\n",
       "      <td>yukos</td>\n",
       "      <td>{yukos}</td>\n",
       "    </tr>\n",
       "    <tr>\n",
       "      <th>4</th>\n",
       "      <td>27</td>\n",
       "      <td>{xxvii, twenty_seven, 27}</td>\n",
       "    </tr>\n",
       "    <tr>\n",
       "      <th>...</th>\n",
       "      <td>...</td>\n",
       "      <td>...</td>\n",
       "    </tr>\n",
       "    <tr>\n",
       "      <th>73831</th>\n",
       "      <td>guesstimate</td>\n",
       "      <td>{guesstimate, ballpark_figure, guestimate, edu...</td>\n",
       "    </tr>\n",
       "    <tr>\n",
       "      <th>73832</th>\n",
       "      <td>cgf</td>\n",
       "      <td>{cgf}</td>\n",
       "    </tr>\n",
       "    <tr>\n",
       "      <th>73833</th>\n",
       "      <td>complicatedly</td>\n",
       "      <td>{complicatedly}</td>\n",
       "    </tr>\n",
       "    <tr>\n",
       "      <th>73834</th>\n",
       "      <td>freira</td>\n",
       "      <td>{freira}</td>\n",
       "    </tr>\n",
       "    <tr>\n",
       "      <th>73835</th>\n",
       "      <td>handwash</td>\n",
       "      <td>{handwash, hand_wash}</td>\n",
       "    </tr>\n",
       "  </tbody>\n",
       "</table>\n",
       "<p>73836 rows × 2 columns</p>\n",
       "</div>"
      ],
      "text/plain": [
       "                word                                            Synonym\n",
       "0               sale  {sales_agreement, cut_rate_sale, sales_event, ...\n",
       "1               make  {piddle, cook, pee_pee, draw, drive, construct...\n",
       "2                pay  {give, make_up, yield, pay_off, compensation, ...\n",
       "3              yukos                                            {yukos}\n",
       "4                 27                          {xxvii, twenty_seven, 27}\n",
       "...              ...                                                ...\n",
       "73831    guesstimate  {guesstimate, ballpark_figure, guestimate, edu...\n",
       "73832            cgf                                              {cgf}\n",
       "73833  complicatedly                                    {complicatedly}\n",
       "73834         freira                                           {freira}\n",
       "73835       handwash                              {handwash, hand_wash}\n",
       "\n",
       "[73836 rows x 2 columns]"
      ]
     },
     "execution_count": 5,
     "metadata": {},
     "output_type": "execute_result"
    }
   ],
   "source": [
    "df_sinonimos=pd.read_pickle(\"salida/nuevo3/Synonyms.pickle\")\n",
    "df_sinonimos"
   ]
  },
  {
   "cell_type": "code",
   "execution_count": 6,
   "metadata": {},
   "outputs": [],
   "source": [
    "for index,strings in df_sinonimos.iterrows():\n",
    "    dict_syns[strings['word']]=strings['Synonym']"
   ]
  },
  {
   "cell_type": "code",
   "execution_count": 7,
   "metadata": {},
   "outputs": [],
   "source": [
    "for i in range(1):\n",
    "    if i==0:\n",
    "        df_syn = pd.read_pickle('salida/nuevo6/RTEGLUE/TRAIN_'+str(i+1)+'.csv_Synonym.pickle')\n",
    "    else:\n",
    "        try:\n",
    "            temp = pd.read_pickle('salida/nuevo6/RTEGLUE/TRAIN_'+str(i+1)+'.csv_Synonym.pickle')\n",
    "            df_syn=pd.concat([df_syn,temp])\n",
    "        except:\n",
    "            pass"
   ]
  },
  {
   "cell_type": "code",
   "execution_count": 8,
   "metadata": {},
   "outputs": [],
   "source": [
    "for i in range(1):\n",
    "    try:\n",
    "        temp = pd.read_pickle('salida/nuevo6/RTEGLUE/DEV_'+str(i+1)+'.csv_Synonym.pickle')\n",
    "        df_syn=pd.concat([df_syn,temp])\n",
    "    except:\n",
    "        pass"
   ]
  },
  {
   "cell_type": "code",
   "execution_count": 9,
   "metadata": {},
   "outputs": [
    {
     "data": {
      "text/html": [
       "<div>\n",
       "<style scoped>\n",
       "    .dataframe tbody tr th:only-of-type {\n",
       "        vertical-align: middle;\n",
       "    }\n",
       "\n",
       "    .dataframe tbody tr th {\n",
       "        vertical-align: top;\n",
       "    }\n",
       "\n",
       "    .dataframe thead th {\n",
       "        text-align: right;\n",
       "    }\n",
       "</style>\n",
       "<table border=\"1\" class=\"dataframe\">\n",
       "  <thead>\n",
       "    <tr style=\"text-align: right;\">\n",
       "      <th></th>\n",
       "      <th>word</th>\n",
       "      <th>Synonym</th>\n",
       "    </tr>\n",
       "  </thead>\n",
       "  <tbody>\n",
       "    <tr>\n",
       "      <th>0</th>\n",
       "      <td>sale</td>\n",
       "      <td>{sales_agreement, cut_rate_sale, sales_event, ...</td>\n",
       "    </tr>\n",
       "    <tr>\n",
       "      <th>1</th>\n",
       "      <td>make</td>\n",
       "      <td>{piddle, cook, pee_pee, draw, drive, construct...</td>\n",
       "    </tr>\n",
       "    <tr>\n",
       "      <th>2</th>\n",
       "      <td>pay</td>\n",
       "      <td>{give, make_up, yield, pay_off, compensation, ...</td>\n",
       "    </tr>\n",
       "    <tr>\n",
       "      <th>3</th>\n",
       "      <td>yukos</td>\n",
       "      <td>{yukos}</td>\n",
       "    </tr>\n",
       "    <tr>\n",
       "      <th>4</th>\n",
       "      <td>27</td>\n",
       "      <td>{xxvii, twenty_seven, 27}</td>\n",
       "    </tr>\n",
       "    <tr>\n",
       "      <th>...</th>\n",
       "      <td>...</td>\n",
       "      <td>...</td>\n",
       "    </tr>\n",
       "    <tr>\n",
       "      <th>58337</th>\n",
       "      <td>unless</td>\n",
       "      <td>{unless, at_least_if}</td>\n",
       "    </tr>\n",
       "    <tr>\n",
       "      <th>58338</th>\n",
       "      <td>although</td>\n",
       "      <td>{notwithstanding, although, though, even_though}</td>\n",
       "    </tr>\n",
       "    <tr>\n",
       "      <th>58339</th>\n",
       "      <td>blithe</td>\n",
       "      <td>{light_hearted, blithe}</td>\n",
       "    </tr>\n",
       "    <tr>\n",
       "      <th>58340</th>\n",
       "      <td>why</td>\n",
       "      <td>{why, why_not, wherefore, what_for, how_come, ...</td>\n",
       "    </tr>\n",
       "    <tr>\n",
       "      <th>58341</th>\n",
       "      <td>whereas</td>\n",
       "      <td>{whereas}</td>\n",
       "    </tr>\n",
       "  </tbody>\n",
       "</table>\n",
       "<p>58342 rows × 2 columns</p>\n",
       "</div>"
      ],
      "text/plain": [
       "           word                                            Synonym\n",
       "0          sale  {sales_agreement, cut_rate_sale, sales_event, ...\n",
       "1          make  {piddle, cook, pee_pee, draw, drive, construct...\n",
       "2           pay  {give, make_up, yield, pay_off, compensation, ...\n",
       "3         yukos                                            {yukos}\n",
       "4            27                          {xxvii, twenty_seven, 27}\n",
       "...         ...                                                ...\n",
       "58337    unless                              {unless, at_least_if}\n",
       "58338  although   {notwithstanding, although, though, even_though}\n",
       "58339    blithe                            {light_hearted, blithe}\n",
       "58340       why  {why, why_not, wherefore, what_for, how_come, ...\n",
       "58341   whereas                                          {whereas}\n",
       "\n",
       "[58342 rows x 2 columns]"
      ]
     },
     "execution_count": 9,
     "metadata": {},
     "output_type": "execute_result"
    }
   ],
   "source": [
    "df_syn = df_syn.reset_index(drop=True)\n",
    "df_syn"
   ]
  },
  {
   "cell_type": "code",
   "execution_count": 10,
   "metadata": {},
   "outputs": [],
   "source": [
    "for index,strings in df_syn.iterrows():\n",
    "    dict_syns[strings['word']]=strings['Synonym']"
   ]
  },
  {
   "cell_type": "code",
   "execution_count": 11,
   "metadata": {},
   "outputs": [
    {
     "data": {
      "text/plain": [
       "73836"
      ]
     },
     "execution_count": 11,
     "metadata": {},
     "output_type": "execute_result"
    }
   ],
   "source": [
    "len(dict_syns)"
   ]
  },
  {
   "cell_type": "code",
   "execution_count": 10,
   "metadata": {},
   "outputs": [],
   "source": [
    "# actualizamos el dataframe de los conjuntos\n",
    "df = pd.DataFrame([[key, dict_syns[key]] for key in dict_syns.keys()], columns=['word', 'Synonym'])\n",
    "df.to_pickle(\"salida/nuevo3/Synonyms.pickle\")"
   ]
  },
  {
   "cell_type": "markdown",
   "metadata": {},
   "source": [
    "# Agregar hiperonimos del RTEGLUE"
   ]
  },
  {
   "cell_type": "code",
   "execution_count": 11,
   "metadata": {},
   "outputs": [],
   "source": [
    "hyperonimos=dict()"
   ]
  },
  {
   "cell_type": "code",
   "execution_count": 12,
   "metadata": {},
   "outputs": [
    {
     "data": {
      "text/html": [
       "<div>\n",
       "<style scoped>\n",
       "    .dataframe tbody tr th:only-of-type {\n",
       "        vertical-align: middle;\n",
       "    }\n",
       "\n",
       "    .dataframe tbody tr th {\n",
       "        vertical-align: top;\n",
       "    }\n",
       "\n",
       "    .dataframe thead th {\n",
       "        text-align: right;\n",
       "    }\n",
       "</style>\n",
       "<table border=\"1\" class=\"dataframe\">\n",
       "  <thead>\n",
       "    <tr style=\"text-align: right;\">\n",
       "      <th></th>\n",
       "      <th>word</th>\n",
       "      <th>Hyperonym</th>\n",
       "    </tr>\n",
       "  </thead>\n",
       "  <tbody>\n",
       "    <tr>\n",
       "      <th>0</th>\n",
       "      <td>sale</td>\n",
       "      <td>{bargain_shopping, discount_event, at_market, ...</td>\n",
       "    </tr>\n",
       "    <tr>\n",
       "      <th>1</th>\n",
       "      <td>make</td>\n",
       "      <td>{establish, constitute, pass, perpetrate, craf...</td>\n",
       "    </tr>\n",
       "    <tr>\n",
       "      <th>2</th>\n",
       "      <td>pay</td>\n",
       "      <td>{credit, shelling, earned_income, earnings_wag...</td>\n",
       "    </tr>\n",
       "    <tr>\n",
       "      <th>3</th>\n",
       "      <td>yukos</td>\n",
       "      <td>{yuko, company}</td>\n",
       "    </tr>\n",
       "    <tr>\n",
       "      <th>4</th>\n",
       "      <td>27</td>\n",
       "      <td>{}</td>\n",
       "    </tr>\n",
       "    <tr>\n",
       "      <th>...</th>\n",
       "      <td>...</td>\n",
       "      <td>...</td>\n",
       "    </tr>\n",
       "    <tr>\n",
       "      <th>46519</th>\n",
       "      <td>peptic</td>\n",
       "      <td>{agent, digestion, pepsin, promote, digestive,...</td>\n",
       "    </tr>\n",
       "    <tr>\n",
       "      <th>46520</th>\n",
       "      <td>ofttimes</td>\n",
       "      <td>{frequently, oft, times, often}</td>\n",
       "    </tr>\n",
       "    <tr>\n",
       "      <th>46521</th>\n",
       "      <td>as_often_as_not</td>\n",
       "      <td>{frequently, always, more_often_than_not, more...</td>\n",
       "    </tr>\n",
       "    <tr>\n",
       "      <th>46522</th>\n",
       "      <td>ljubljana</td>\n",
       "      <td>{slovenia, city}</td>\n",
       "    </tr>\n",
       "    <tr>\n",
       "      <th>46523</th>\n",
       "      <td>parkin</td>\n",
       "      <td>{parkins, protein, mutation, per, parkinson, t...</td>\n",
       "    </tr>\n",
       "  </tbody>\n",
       "</table>\n",
       "<p>46524 rows × 2 columns</p>\n",
       "</div>"
      ],
      "text/plain": [
       "                  word                                          Hyperonym\n",
       "0                 sale  {bargain_shopping, discount_event, at_market, ...\n",
       "1                 make  {establish, constitute, pass, perpetrate, craf...\n",
       "2                  pay  {credit, shelling, earned_income, earnings_wag...\n",
       "3                yukos                                    {yuko, company}\n",
       "4                   27                                                 {}\n",
       "...                ...                                                ...\n",
       "46519           peptic  {agent, digestion, pepsin, promote, digestive,...\n",
       "46520         ofttimes                    {frequently, oft, times, often}\n",
       "46521  as_often_as_not  {frequently, always, more_often_than_not, more...\n",
       "46522        ljubljana                                   {slovenia, city}\n",
       "46523           parkin  {parkins, protein, mutation, per, parkinson, t...\n",
       "\n",
       "[46524 rows x 2 columns]"
      ]
     },
     "execution_count": 12,
     "metadata": {},
     "output_type": "execute_result"
    }
   ],
   "source": [
    "df_hyp=pd.read_pickle(\"salida/nuevo3/Hyperonyms.pickle\")\n",
    "df_hyp"
   ]
  },
  {
   "cell_type": "code",
   "execution_count": 13,
   "metadata": {},
   "outputs": [],
   "source": [
    "for index,strings in df_hyp.iterrows():\n",
    "    hyperonimos[strings['word']]=strings['Hyperonym']"
   ]
  },
  {
   "cell_type": "code",
   "execution_count": 14,
   "metadata": {},
   "outputs": [
    {
     "data": {
      "text/plain": [
       "46524"
      ]
     },
     "execution_count": 14,
     "metadata": {},
     "output_type": "execute_result"
    }
   ],
   "source": [
    "len(hyperonimos)"
   ]
  },
  {
   "cell_type": "code",
   "execution_count": 15,
   "metadata": {},
   "outputs": [],
   "source": [
    "for i in range(1):\n",
    "    if i==0:\n",
    "        df_syn = pd.read_pickle('salida/nuevo6/RTEGLUE/TRAIN_'+str(i+1)+'.csv_Hyperonym.pickle')\n",
    "    else:\n",
    "        try:\n",
    "            temp = pd.read_pickle('salida/nuevo6/RTEGLUE/TRAIN_'+str(i+1)+'.csv_Hyperonym.pickle')\n",
    "            df_syn=pd.concat([df_syn,temp])\n",
    "        except:\n",
    "            pass"
   ]
  },
  {
   "cell_type": "code",
   "execution_count": 16,
   "metadata": {},
   "outputs": [],
   "source": [
    "for i in range(1):\n",
    "    try:\n",
    "        temp = pd.read_pickle('salida/nuevo6/RTEGLUE/DEV_'+str(i+1)+'.csv_Hyperonym.pickle')\n",
    "        df_syn=pd.concat([df_syn,temp])\n",
    "    except:\n",
    "        pass"
   ]
  },
  {
   "cell_type": "code",
   "execution_count": 17,
   "metadata": {},
   "outputs": [
    {
     "data": {
      "text/html": [
       "<div>\n",
       "<style scoped>\n",
       "    .dataframe tbody tr th:only-of-type {\n",
       "        vertical-align: middle;\n",
       "    }\n",
       "\n",
       "    .dataframe tbody tr th {\n",
       "        vertical-align: top;\n",
       "    }\n",
       "\n",
       "    .dataframe thead th {\n",
       "        text-align: right;\n",
       "    }\n",
       "</style>\n",
       "<table border=\"1\" class=\"dataframe\">\n",
       "  <thead>\n",
       "    <tr style=\"text-align: right;\">\n",
       "      <th></th>\n",
       "      <th>word</th>\n",
       "      <th>Hyperonym</th>\n",
       "    </tr>\n",
       "  </thead>\n",
       "  <tbody>\n",
       "    <tr>\n",
       "      <th>0</th>\n",
       "      <td>sale</td>\n",
       "      <td>{bargain_shopping, discount_event, at_market, ...</td>\n",
       "    </tr>\n",
       "    <tr>\n",
       "      <th>1</th>\n",
       "      <td>make</td>\n",
       "      <td>{establish, constitute, pass, perpetrate, craf...</td>\n",
       "    </tr>\n",
       "    <tr>\n",
       "      <th>2</th>\n",
       "      <td>pay</td>\n",
       "      <td>{credit, shelling, earned_income, earnings_wag...</td>\n",
       "    </tr>\n",
       "    <tr>\n",
       "      <th>3</th>\n",
       "      <td>yukos</td>\n",
       "      <td>{yuko, company}</td>\n",
       "    </tr>\n",
       "    <tr>\n",
       "      <th>4</th>\n",
       "      <td>27</td>\n",
       "      <td>{}</td>\n",
       "    </tr>\n",
       "    <tr>\n",
       "      <th>...</th>\n",
       "      <td>...</td>\n",
       "      <td>...</td>\n",
       "    </tr>\n",
       "    <tr>\n",
       "      <th>93330</th>\n",
       "      <td>blithe</td>\n",
       "      <td>{bliss}</td>\n",
       "    </tr>\n",
       "    <tr>\n",
       "      <th>93331</th>\n",
       "      <td>why</td>\n",
       "      <td>{reason, thy, eurovision_song_contest_entry, a...</td>\n",
       "    </tr>\n",
       "    <tr>\n",
       "      <th>93332</th>\n",
       "      <td>per_annum</td>\n",
       "      <td>{}</td>\n",
       "    </tr>\n",
       "    <tr>\n",
       "      <th>93333</th>\n",
       "      <td>whereas</td>\n",
       "      <td>{where}</td>\n",
       "    </tr>\n",
       "    <tr>\n",
       "      <th>93334</th>\n",
       "      <td>for_because</td>\n",
       "      <td>{}</td>\n",
       "    </tr>\n",
       "  </tbody>\n",
       "</table>\n",
       "<p>93335 rows × 2 columns</p>\n",
       "</div>"
      ],
      "text/plain": [
       "              word                                          Hyperonym\n",
       "0             sale  {bargain_shopping, discount_event, at_market, ...\n",
       "1             make  {establish, constitute, pass, perpetrate, craf...\n",
       "2              pay  {credit, shelling, earned_income, earnings_wag...\n",
       "3            yukos                                    {yuko, company}\n",
       "4               27                                                 {}\n",
       "...            ...                                                ...\n",
       "93330       blithe                                            {bliss}\n",
       "93331          why  {reason, thy, eurovision_song_contest_entry, a...\n",
       "93332    per_annum                                                 {}\n",
       "93333      whereas                                            {where}\n",
       "93334  for_because                                                 {}\n",
       "\n",
       "[93335 rows x 2 columns]"
      ]
     },
     "execution_count": 17,
     "metadata": {},
     "output_type": "execute_result"
    }
   ],
   "source": [
    "df_syn = df_syn.reset_index(drop=True)\n",
    "df_syn"
   ]
  },
  {
   "cell_type": "code",
   "execution_count": 18,
   "metadata": {},
   "outputs": [],
   "source": [
    "for index,strings in df_syn.iterrows():\n",
    "    hyperonimos[strings['word']]=strings['Hyperonym']"
   ]
  },
  {
   "cell_type": "code",
   "execution_count": 19,
   "metadata": {},
   "outputs": [
    {
     "data": {
      "text/plain": [
       "46744"
      ]
     },
     "execution_count": 19,
     "metadata": {},
     "output_type": "execute_result"
    }
   ],
   "source": [
    "len(hyperonimos)"
   ]
  },
  {
   "cell_type": "code",
   "execution_count": 20,
   "metadata": {},
   "outputs": [],
   "source": [
    "# actualizamos el dataframe de los conjuntos\n",
    "df = pd.DataFrame([[key, hyperonimos[key]] for key in hyperonimos.keys()], columns=['word', 'Hyperonym'])\n",
    "df.to_pickle(\"salida/nuevo3/Hyperonyms.pickle\")"
   ]
  },
  {
   "cell_type": "markdown",
   "metadata": {},
   "source": [
    "# agregar hiponimos del RTEGLUE"
   ]
  },
  {
   "cell_type": "code",
   "execution_count": 21,
   "metadata": {},
   "outputs": [],
   "source": [
    "hyponimos=dict()"
   ]
  },
  {
   "cell_type": "code",
   "execution_count": 22,
   "metadata": {},
   "outputs": [
    {
     "data": {
      "text/html": [
       "<div>\n",
       "<style scoped>\n",
       "    .dataframe tbody tr th:only-of-type {\n",
       "        vertical-align: middle;\n",
       "    }\n",
       "\n",
       "    .dataframe tbody tr th {\n",
       "        vertical-align: top;\n",
       "    }\n",
       "\n",
       "    .dataframe thead th {\n",
       "        text-align: right;\n",
       "    }\n",
       "</style>\n",
       "<table border=\"1\" class=\"dataframe\">\n",
       "  <thead>\n",
       "    <tr style=\"text-align: right;\">\n",
       "      <th></th>\n",
       "      <th>word</th>\n",
       "      <th>Hyponym</th>\n",
       "    </tr>\n",
       "  </thead>\n",
       "  <tbody>\n",
       "    <tr>\n",
       "      <th>0</th>\n",
       "      <td>sale</td>\n",
       "      <td>{fire_sale, upsale, auction, telesale, white_s...</td>\n",
       "    </tr>\n",
       "    <tr>\n",
       "      <th>1</th>\n",
       "      <td>make</td>\n",
       "      <td>{establish, upmake, meck, derive, matchmake, y...</td>\n",
       "    </tr>\n",
       "    <tr>\n",
       "      <th>2</th>\n",
       "      <td>pay</td>\n",
       "      <td>{buy_for_loved_one, postpay, go_for_haircut, p...</td>\n",
       "    </tr>\n",
       "    <tr>\n",
       "      <th>3</th>\n",
       "      <td>yukos</td>\n",
       "      <td>{}</td>\n",
       "    </tr>\n",
       "    <tr>\n",
       "      <th>4</th>\n",
       "      <td>27</td>\n",
       "      <td>{}</td>\n",
       "    </tr>\n",
       "    <tr>\n",
       "      <th>...</th>\n",
       "      <td>...</td>\n",
       "      <td>...</td>\n",
       "    </tr>\n",
       "    <tr>\n",
       "      <th>52305</th>\n",
       "      <td>zikuski</td>\n",
       "      <td>{}</td>\n",
       "    </tr>\n",
       "    <tr>\n",
       "      <th>52306</th>\n",
       "      <td>disjointed</td>\n",
       "      <td>{nondisjointed, disjointedly, disjointedness}</td>\n",
       "    </tr>\n",
       "    <tr>\n",
       "      <th>52307</th>\n",
       "      <td>peptic</td>\n",
       "      <td>{bradypeptic, acidopeptic, peptics, eupeptic, ...</td>\n",
       "    </tr>\n",
       "    <tr>\n",
       "      <th>52308</th>\n",
       "      <td>ljubljana</td>\n",
       "      <td>{ljubljanan, lyublyana}</td>\n",
       "    </tr>\n",
       "    <tr>\n",
       "      <th>52309</th>\n",
       "      <td>parkin</td>\n",
       "      <td>{parkins}</td>\n",
       "    </tr>\n",
       "  </tbody>\n",
       "</table>\n",
       "<p>52310 rows × 2 columns</p>\n",
       "</div>"
      ],
      "text/plain": [
       "             word                                            Hyponym\n",
       "0            sale  {fire_sale, upsale, auction, telesale, white_s...\n",
       "1            make  {establish, upmake, meck, derive, matchmake, y...\n",
       "2             pay  {buy_for_loved_one, postpay, go_for_haircut, p...\n",
       "3           yukos                                                 {}\n",
       "4              27                                                 {}\n",
       "...           ...                                                ...\n",
       "52305     zikuski                                                 {}\n",
       "52306  disjointed      {nondisjointed, disjointedly, disjointedness}\n",
       "52307      peptic  {bradypeptic, acidopeptic, peptics, eupeptic, ...\n",
       "52308   ljubljana                            {ljubljanan, lyublyana}\n",
       "52309      parkin                                          {parkins}\n",
       "\n",
       "[52310 rows x 2 columns]"
      ]
     },
     "execution_count": 22,
     "metadata": {},
     "output_type": "execute_result"
    }
   ],
   "source": [
    "df_hyp=pd.read_pickle(\"salida/nuevo3/Hyponyms.pickle\")\n",
    "df_hyp"
   ]
  },
  {
   "cell_type": "code",
   "execution_count": 23,
   "metadata": {},
   "outputs": [],
   "source": [
    "for index,strings in df_hyp.iterrows():\n",
    "    hyponimos[strings['word']]=strings['Hyponym']"
   ]
  },
  {
   "cell_type": "code",
   "execution_count": 24,
   "metadata": {},
   "outputs": [
    {
     "data": {
      "text/plain": [
       "52310"
      ]
     },
     "execution_count": 24,
     "metadata": {},
     "output_type": "execute_result"
    }
   ],
   "source": [
    "len(hyponimos)"
   ]
  },
  {
   "cell_type": "code",
   "execution_count": 25,
   "metadata": {},
   "outputs": [],
   "source": [
    "for i in range(1):\n",
    "    if i==0:\n",
    "        df_syn = pd.read_pickle('salida/nuevo6/RTEGLUE/TRAIN_'+str(i+1)+'.csv_Hyponym.pickle')\n",
    "    else:\n",
    "        try:\n",
    "            temp = pd.read_pickle('salida/nuevo6/RTEGLUE/TRAIN_'+str(i+1)+'.csv_Hyponym.pickle')\n",
    "            df_syn=pd.concat([df_syn,temp])\n",
    "        except:\n",
    "            pass"
   ]
  },
  {
   "cell_type": "code",
   "execution_count": 26,
   "metadata": {},
   "outputs": [],
   "source": [
    "for i in range(1):\n",
    "    try:\n",
    "        temp = pd.read_pickle('salida/nuevo6/RTEGLUE/DEV_'+str(i+1)+'.csv_Hyponym.pickle')\n",
    "        df_syn=pd.concat([df_syn,temp])\n",
    "    except:\n",
    "        pass"
   ]
  },
  {
   "cell_type": "code",
   "execution_count": 27,
   "metadata": {},
   "outputs": [
    {
     "data": {
      "text/html": [
       "<div>\n",
       "<style scoped>\n",
       "    .dataframe tbody tr th:only-of-type {\n",
       "        vertical-align: middle;\n",
       "    }\n",
       "\n",
       "    .dataframe tbody tr th {\n",
       "        vertical-align: top;\n",
       "    }\n",
       "\n",
       "    .dataframe thead th {\n",
       "        text-align: right;\n",
       "    }\n",
       "</style>\n",
       "<table border=\"1\" class=\"dataframe\">\n",
       "  <thead>\n",
       "    <tr style=\"text-align: right;\">\n",
       "      <th></th>\n",
       "      <th>word</th>\n",
       "      <th>Hyponym</th>\n",
       "    </tr>\n",
       "  </thead>\n",
       "  <tbody>\n",
       "    <tr>\n",
       "      <th>0</th>\n",
       "      <td>sale</td>\n",
       "      <td>{fire_sale, upsale, auction, telesale, white_s...</td>\n",
       "    </tr>\n",
       "    <tr>\n",
       "      <th>1</th>\n",
       "      <td>make</td>\n",
       "      <td>{establish, upmake, derive, matchmake, meck, y...</td>\n",
       "    </tr>\n",
       "    <tr>\n",
       "      <th>2</th>\n",
       "      <td>pay</td>\n",
       "      <td>{buy_for_loved_one, postpay, go_for_haircut, p...</td>\n",
       "    </tr>\n",
       "    <tr>\n",
       "      <th>3</th>\n",
       "      <td>yukos</td>\n",
       "      <td>{}</td>\n",
       "    </tr>\n",
       "    <tr>\n",
       "      <th>4</th>\n",
       "      <td>27</td>\n",
       "      <td>{}</td>\n",
       "    </tr>\n",
       "    <tr>\n",
       "      <th>...</th>\n",
       "      <td>...</td>\n",
       "      <td>...</td>\n",
       "    </tr>\n",
       "    <tr>\n",
       "      <th>104750</th>\n",
       "      <td>yinz</td>\n",
       "      <td>{yins, yinzer}</td>\n",
       "    </tr>\n",
       "    <tr>\n",
       "      <th>104751</th>\n",
       "      <td>blithe</td>\n",
       "      <td>{blitheful, blither, blitheness, blithen, blit...</td>\n",
       "    </tr>\n",
       "    <tr>\n",
       "      <th>104752</th>\n",
       "      <td>why</td>\n",
       "      <td>{whies, whyness, why_in_god's_name, why_not, s...</td>\n",
       "    </tr>\n",
       "    <tr>\n",
       "      <th>104753</th>\n",
       "      <td>whereas</td>\n",
       "      <td>{whereases}</td>\n",
       "    </tr>\n",
       "    <tr>\n",
       "      <th>104754</th>\n",
       "      <td>compared_with</td>\n",
       "      <td>{}</td>\n",
       "    </tr>\n",
       "  </tbody>\n",
       "</table>\n",
       "<p>104755 rows × 2 columns</p>\n",
       "</div>"
      ],
      "text/plain": [
       "                 word                                            Hyponym\n",
       "0                sale  {fire_sale, upsale, auction, telesale, white_s...\n",
       "1                make  {establish, upmake, derive, matchmake, meck, y...\n",
       "2                 pay  {buy_for_loved_one, postpay, go_for_haircut, p...\n",
       "3               yukos                                                 {}\n",
       "4                  27                                                 {}\n",
       "...               ...                                                ...\n",
       "104750           yinz                                     {yins, yinzer}\n",
       "104751         blithe  {blitheful, blither, blitheness, blithen, blit...\n",
       "104752            why  {whies, whyness, why_in_god's_name, why_not, s...\n",
       "104753        whereas                                        {whereases}\n",
       "104754  compared_with                                                 {}\n",
       "\n",
       "[104755 rows x 2 columns]"
      ]
     },
     "execution_count": 27,
     "metadata": {},
     "output_type": "execute_result"
    }
   ],
   "source": [
    "df_syn = df_syn.reset_index(drop=True)\n",
    "df_syn"
   ]
  },
  {
   "cell_type": "code",
   "execution_count": 28,
   "metadata": {},
   "outputs": [],
   "source": [
    "for index,strings in df_syn.iterrows():\n",
    "    hyponimos[strings['word']]=strings['Hyponym']"
   ]
  },
  {
   "cell_type": "code",
   "execution_count": 29,
   "metadata": {},
   "outputs": [
    {
     "data": {
      "text/plain": [
       "52399"
      ]
     },
     "execution_count": 29,
     "metadata": {},
     "output_type": "execute_result"
    }
   ],
   "source": [
    "len(hyponimos)"
   ]
  },
  {
   "cell_type": "code",
   "execution_count": 30,
   "metadata": {},
   "outputs": [],
   "source": [
    "# actualizamos el dataframe de los conjuntos\n",
    "df = pd.DataFrame([[key, hyponimos[key]] for key in hyponimos.keys()], columns=['word', 'Hyponym'])\n",
    "df.to_pickle(\"salida/nuevo3/Hyponyms.pickle\")"
   ]
  },
  {
   "cell_type": "markdown",
   "metadata": {},
   "source": [
    "# agregar sinonimos de MultiNLI"
   ]
  },
  {
   "cell_type": "code",
   "execution_count": 2,
   "metadata": {},
   "outputs": [],
   "source": [
    "dict_syns=dict()"
   ]
  },
  {
   "cell_type": "code",
   "execution_count": 3,
   "metadata": {},
   "outputs": [
    {
     "data": {
      "text/html": [
       "<div>\n",
       "<style scoped>\n",
       "    .dataframe tbody tr th:only-of-type {\n",
       "        vertical-align: middle;\n",
       "    }\n",
       "\n",
       "    .dataframe tbody tr th {\n",
       "        vertical-align: top;\n",
       "    }\n",
       "\n",
       "    .dataframe thead th {\n",
       "        text-align: right;\n",
       "    }\n",
       "</style>\n",
       "<table border=\"1\" class=\"dataframe\">\n",
       "  <thead>\n",
       "    <tr style=\"text-align: right;\">\n",
       "      <th></th>\n",
       "      <th>word</th>\n",
       "      <th>Synonym</th>\n",
       "    </tr>\n",
       "  </thead>\n",
       "  <tbody>\n",
       "    <tr>\n",
       "      <th>0</th>\n",
       "      <td>sale</td>\n",
       "      <td>{sale, sales_agreement, cut_rate_sale, sales_e...</td>\n",
       "    </tr>\n",
       "    <tr>\n",
       "      <th>1</th>\n",
       "      <td>make</td>\n",
       "      <td>{lay_down, construction, piddle, relieve_onese...</td>\n",
       "    </tr>\n",
       "    <tr>\n",
       "      <th>2</th>\n",
       "      <td>pay</td>\n",
       "      <td>{pay_off, yield, wage, compensate, pay_up, fee...</td>\n",
       "    </tr>\n",
       "    <tr>\n",
       "      <th>3</th>\n",
       "      <td>yukos</td>\n",
       "      <td>{yukos}</td>\n",
       "    </tr>\n",
       "    <tr>\n",
       "      <th>4</th>\n",
       "      <td>27</td>\n",
       "      <td>{twenty_seven, xxvii, 27}</td>\n",
       "    </tr>\n",
       "    <tr>\n",
       "      <th>...</th>\n",
       "      <td>...</td>\n",
       "      <td>...</td>\n",
       "    </tr>\n",
       "    <tr>\n",
       "      <th>64556</th>\n",
       "      <td>unpleased</td>\n",
       "      <td>{unpleased}</td>\n",
       "    </tr>\n",
       "    <tr>\n",
       "      <th>64557</th>\n",
       "      <td>intoa</td>\n",
       "      <td>{intoa}</td>\n",
       "    </tr>\n",
       "    <tr>\n",
       "      <th>64558</th>\n",
       "      <td>aross</td>\n",
       "      <td>{aross}</td>\n",
       "    </tr>\n",
       "    <tr>\n",
       "      <th>64559</th>\n",
       "      <td>kimora</td>\n",
       "      <td>{kimora}</td>\n",
       "    </tr>\n",
       "    <tr>\n",
       "      <th>64560</th>\n",
       "      <td>dogwas</td>\n",
       "      <td>{dogwas}</td>\n",
       "    </tr>\n",
       "  </tbody>\n",
       "</table>\n",
       "<p>64561 rows × 2 columns</p>\n",
       "</div>"
      ],
      "text/plain": [
       "            word                                            Synonym\n",
       "0           sale  {sale, sales_agreement, cut_rate_sale, sales_e...\n",
       "1           make  {lay_down, construction, piddle, relieve_onese...\n",
       "2            pay  {pay_off, yield, wage, compensate, pay_up, fee...\n",
       "3          yukos                                            {yukos}\n",
       "4             27                          {twenty_seven, xxvii, 27}\n",
       "...          ...                                                ...\n",
       "64556  unpleased                                        {unpleased}\n",
       "64557      intoa                                            {intoa}\n",
       "64558      aross                                            {aross}\n",
       "64559     kimora                                           {kimora}\n",
       "64560     dogwas                                           {dogwas}\n",
       "\n",
       "[64561 rows x 2 columns]"
      ]
     },
     "execution_count": 3,
     "metadata": {},
     "output_type": "execute_result"
    }
   ],
   "source": [
    "df_sinonimos=pd.read_pickle(\"salida/nuevo3/Synonyms.pickle\")\n",
    "df_sinonimos"
   ]
  },
  {
   "cell_type": "code",
   "execution_count": 4,
   "metadata": {},
   "outputs": [],
   "source": [
    "for index,strings in df_sinonimos.iterrows():\n",
    "    dict_syns[strings['word']]=strings['Synonym']"
   ]
  },
  {
   "cell_type": "code",
   "execution_count": 5,
   "metadata": {},
   "outputs": [],
   "source": [
    "for i in range(40):\n",
    "    if i==0:\n",
    "        df_syn = pd.read_pickle('salida/nuevo7/MultiNLI/TRAIN/TRAIN_'+str(i+1)+'.csv_Synonym.pickle')\n",
    "    else:\n",
    "        try:\n",
    "            temp = pd.read_pickle('salida/nuevo7/MultiNLI/TRAIN/TRAIN_'+str(i+1)+'.csv_Synonym.pickle')\n",
    "            df_syn=pd.concat([df_syn,temp])\n",
    "        except:\n",
    "            print(i+1)"
   ]
  },
  {
   "cell_type": "code",
   "execution_count": 6,
   "metadata": {},
   "outputs": [],
   "source": [
    "for i in range(1):\n",
    "    try:\n",
    "        temp = pd.read_pickle('salida/nuevo7/MultiNLI/DEVM/DEV_'+str(i+1)+'.csv_Synonym.pickle')\n",
    "        df_syn=pd.concat([df_syn,temp])\n",
    "    except:\n",
    "        pass"
   ]
  },
  {
   "cell_type": "code",
   "execution_count": 7,
   "metadata": {},
   "outputs": [
    {
     "data": {
      "text/html": [
       "<div>\n",
       "<style scoped>\n",
       "    .dataframe tbody tr th:only-of-type {\n",
       "        vertical-align: middle;\n",
       "    }\n",
       "\n",
       "    .dataframe tbody tr th {\n",
       "        vertical-align: top;\n",
       "    }\n",
       "\n",
       "    .dataframe thead th {\n",
       "        text-align: right;\n",
       "    }\n",
       "</style>\n",
       "<table border=\"1\" class=\"dataframe\">\n",
       "  <thead>\n",
       "    <tr style=\"text-align: right;\">\n",
       "      <th></th>\n",
       "      <th>word</th>\n",
       "      <th>Synonym</th>\n",
       "    </tr>\n",
       "  </thead>\n",
       "  <tbody>\n",
       "    <tr>\n",
       "      <th>0</th>\n",
       "      <td>sale</td>\n",
       "      <td>{sale, sales_agreement, cut_rate_sale, sales_e...</td>\n",
       "    </tr>\n",
       "    <tr>\n",
       "      <th>1</th>\n",
       "      <td>make</td>\n",
       "      <td>{lay_down, construction, piddle, relieve_onese...</td>\n",
       "    </tr>\n",
       "    <tr>\n",
       "      <th>2</th>\n",
       "      <td>pay</td>\n",
       "      <td>{pay_off, yield, wage, compensate, pay_up, fee...</td>\n",
       "    </tr>\n",
       "    <tr>\n",
       "      <th>3</th>\n",
       "      <td>yukos</td>\n",
       "      <td>{yukos}</td>\n",
       "    </tr>\n",
       "    <tr>\n",
       "      <th>4</th>\n",
       "      <td>27</td>\n",
       "      <td>{27, xxvii, twenty_seven}</td>\n",
       "    </tr>\n",
       "    <tr>\n",
       "      <th>...</th>\n",
       "      <td>...</td>\n",
       "      <td>...</td>\n",
       "    </tr>\n",
       "    <tr>\n",
       "      <th>2496637</th>\n",
       "      <td>oftentimes</td>\n",
       "      <td>{commonly, regularly, oftentime, ofttimes, oft...</td>\n",
       "    </tr>\n",
       "    <tr>\n",
       "      <th>2496638</th>\n",
       "      <td>acidity</td>\n",
       "      <td>{sharpness, acidity, sourness, acidulousness}</td>\n",
       "    </tr>\n",
       "    <tr>\n",
       "      <th>2496639</th>\n",
       "      <td>dormant</td>\n",
       "      <td>{dormant, sleeping, latent, abeyant, inactive,...</td>\n",
       "    </tr>\n",
       "    <tr>\n",
       "      <th>2496640</th>\n",
       "      <td>handwash</td>\n",
       "      <td>{hand_wash, handwash}</td>\n",
       "    </tr>\n",
       "    <tr>\n",
       "      <th>2496641</th>\n",
       "      <td>irrationally</td>\n",
       "      <td>{irrationally}</td>\n",
       "    </tr>\n",
       "  </tbody>\n",
       "</table>\n",
       "<p>2496642 rows × 2 columns</p>\n",
       "</div>"
      ],
      "text/plain": [
       "                 word                                            Synonym\n",
       "0                sale  {sale, sales_agreement, cut_rate_sale, sales_e...\n",
       "1                make  {lay_down, construction, piddle, relieve_onese...\n",
       "2                 pay  {pay_off, yield, wage, compensate, pay_up, fee...\n",
       "3               yukos                                            {yukos}\n",
       "4                  27                          {27, xxvii, twenty_seven}\n",
       "...               ...                                                ...\n",
       "2496637    oftentimes  {commonly, regularly, oftentime, ofttimes, oft...\n",
       "2496638       acidity      {sharpness, acidity, sourness, acidulousness}\n",
       "2496639       dormant  {dormant, sleeping, latent, abeyant, inactive,...\n",
       "2496640      handwash                              {hand_wash, handwash}\n",
       "2496641  irrationally                                     {irrationally}\n",
       "\n",
       "[2496642 rows x 2 columns]"
      ]
     },
     "execution_count": 7,
     "metadata": {},
     "output_type": "execute_result"
    }
   ],
   "source": [
    "df_syn = df_syn.reset_index(drop=True)\n",
    "df_syn"
   ]
  },
  {
   "cell_type": "code",
   "execution_count": 8,
   "metadata": {},
   "outputs": [],
   "source": [
    "for index,strings in df_syn.iterrows():\n",
    "    dict_syns[strings['word']]=strings['Synonym']"
   ]
  },
  {
   "cell_type": "code",
   "execution_count": 9,
   "metadata": {},
   "outputs": [
    {
     "data": {
      "text/plain": [
       "73836"
      ]
     },
     "execution_count": 9,
     "metadata": {},
     "output_type": "execute_result"
    }
   ],
   "source": [
    "len(dict_syns)"
   ]
  },
  {
   "cell_type": "code",
   "execution_count": 10,
   "metadata": {},
   "outputs": [],
   "source": [
    "# actualizamos el dataframe de los conjuntos\n",
    "df = pd.DataFrame([[key, dict_syns[key]] for key in dict_syns.keys()], columns=['word', 'Synonym'])\n",
    "df.to_pickle(\"salida/nuevo3/Synonyms.pickle\")"
   ]
  },
  {
   "cell_type": "markdown",
   "metadata": {},
   "source": [
    "# hiperonimos de MUlitNLI"
   ]
  },
  {
   "cell_type": "code",
   "execution_count": 11,
   "metadata": {},
   "outputs": [],
   "source": [
    "hyperonimos=dict()"
   ]
  },
  {
   "cell_type": "code",
   "execution_count": 12,
   "metadata": {},
   "outputs": [
    {
     "data": {
      "text/html": [
       "<div>\n",
       "<style scoped>\n",
       "    .dataframe tbody tr th:only-of-type {\n",
       "        vertical-align: middle;\n",
       "    }\n",
       "\n",
       "    .dataframe tbody tr th {\n",
       "        vertical-align: top;\n",
       "    }\n",
       "\n",
       "    .dataframe thead th {\n",
       "        text-align: right;\n",
       "    }\n",
       "</style>\n",
       "<table border=\"1\" class=\"dataframe\">\n",
       "  <thead>\n",
       "    <tr style=\"text-align: right;\">\n",
       "      <th></th>\n",
       "      <th>word</th>\n",
       "      <th>Hyperonym</th>\n",
       "    </tr>\n",
       "  </thead>\n",
       "  <tbody>\n",
       "    <tr>\n",
       "      <th>0</th>\n",
       "      <td>sale</td>\n",
       "      <td>{discount_event, products_cheap, good_price, d...</td>\n",
       "    </tr>\n",
       "    <tr>\n",
       "      <th>1</th>\n",
       "      <td>make</td>\n",
       "      <td>{disposition, interpret, car_model, behave, ut...</td>\n",
       "    </tr>\n",
       "    <tr>\n",
       "      <th>2</th>\n",
       "      <td>pay</td>\n",
       "      <td>{digest, employment_compensation, monetary_att...</td>\n",
       "    </tr>\n",
       "    <tr>\n",
       "      <th>3</th>\n",
       "      <td>yukos</td>\n",
       "      <td>{yuko, company}</td>\n",
       "    </tr>\n",
       "    <tr>\n",
       "      <th>4</th>\n",
       "      <td>27</td>\n",
       "      <td>{}</td>\n",
       "    </tr>\n",
       "    <tr>\n",
       "      <th>...</th>\n",
       "      <td>...</td>\n",
       "      <td>...</td>\n",
       "    </tr>\n",
       "    <tr>\n",
       "      <th>87418</th>\n",
       "      <td>unpleased</td>\n",
       "      <td>{pleased}</td>\n",
       "    </tr>\n",
       "    <tr>\n",
       "      <th>87419</th>\n",
       "      <td>intoa</td>\n",
       "      <td>{}</td>\n",
       "    </tr>\n",
       "    <tr>\n",
       "      <th>87420</th>\n",
       "      <td>aross</td>\n",
       "      <td>{}</td>\n",
       "    </tr>\n",
       "    <tr>\n",
       "      <th>87421</th>\n",
       "      <td>kimora</td>\n",
       "      <td>{}</td>\n",
       "    </tr>\n",
       "    <tr>\n",
       "      <th>87422</th>\n",
       "      <td>dogwas</td>\n",
       "      <td>{}</td>\n",
       "    </tr>\n",
       "  </tbody>\n",
       "</table>\n",
       "<p>87423 rows × 2 columns</p>\n",
       "</div>"
      ],
      "text/plain": [
       "            word                                          Hyperonym\n",
       "0           sale  {discount_event, products_cheap, good_price, d...\n",
       "1           make  {disposition, interpret, car_model, behave, ut...\n",
       "2            pay  {digest, employment_compensation, monetary_att...\n",
       "3          yukos                                    {yuko, company}\n",
       "4             27                                                 {}\n",
       "...          ...                                                ...\n",
       "87418  unpleased                                          {pleased}\n",
       "87419      intoa                                                 {}\n",
       "87420      aross                                                 {}\n",
       "87421     kimora                                                 {}\n",
       "87422     dogwas                                                 {}\n",
       "\n",
       "[87423 rows x 2 columns]"
      ]
     },
     "execution_count": 12,
     "metadata": {},
     "output_type": "execute_result"
    }
   ],
   "source": [
    "df_hyp=pd.read_pickle(\"salida/nuevo3/Hyperonyms.pickle\")\n",
    "df_hyp"
   ]
  },
  {
   "cell_type": "code",
   "execution_count": 13,
   "metadata": {},
   "outputs": [],
   "source": [
    "for index,strings in df_hyp.iterrows():\n",
    "    hyperonimos[strings['word']]=strings['Hyperonym']"
   ]
  },
  {
   "cell_type": "code",
   "execution_count": 14,
   "metadata": {},
   "outputs": [
    {
     "data": {
      "text/plain": [
       "87423"
      ]
     },
     "execution_count": 14,
     "metadata": {},
     "output_type": "execute_result"
    }
   ],
   "source": [
    "len(hyperonimos)"
   ]
  },
  {
   "cell_type": "code",
   "execution_count": 15,
   "metadata": {},
   "outputs": [],
   "source": [
    "for i in range(40):\n",
    "    if i==0:\n",
    "        df_syn = pd.read_pickle('salida/nuevo7/MultiNLI/TRAIN/TRAIN_'+str(i+1)+'.csv_Hyperonym.pickle')\n",
    "    else:\n",
    "        try:\n",
    "            temp = pd.read_pickle('salida/nuevo7/MultiNLI/TRAIN/TRAIN_'+str(i+1)+'.csv_Hyperonym.pickle')\n",
    "            df_syn=pd.concat([df_syn,temp])\n",
    "        except:\n",
    "            pass"
   ]
  },
  {
   "cell_type": "code",
   "execution_count": 16,
   "metadata": {},
   "outputs": [],
   "source": [
    "for i in range(1):\n",
    "    try:\n",
    "        temp = pd.read_pickle('salida/nuevo7/MultiNLI/DEVM/DEV_'+str(i+1)+'.csv_Hyperonym.pickle')\n",
    "        df_syn=pd.concat([df_syn,temp])\n",
    "    except:\n",
    "        pass"
   ]
  },
  {
   "cell_type": "code",
   "execution_count": 17,
   "metadata": {},
   "outputs": [
    {
     "data": {
      "text/html": [
       "<div>\n",
       "<style scoped>\n",
       "    .dataframe tbody tr th:only-of-type {\n",
       "        vertical-align: middle;\n",
       "    }\n",
       "\n",
       "    .dataframe tbody tr th {\n",
       "        vertical-align: top;\n",
       "    }\n",
       "\n",
       "    .dataframe thead th {\n",
       "        text-align: right;\n",
       "    }\n",
       "</style>\n",
       "<table border=\"1\" class=\"dataframe\">\n",
       "  <thead>\n",
       "    <tr style=\"text-align: right;\">\n",
       "      <th></th>\n",
       "      <th>word</th>\n",
       "      <th>Hyperonym</th>\n",
       "    </tr>\n",
       "  </thead>\n",
       "  <tbody>\n",
       "    <tr>\n",
       "      <th>0</th>\n",
       "      <td>sale</td>\n",
       "      <td>{discount_event, products_cheap, good_price, d...</td>\n",
       "    </tr>\n",
       "    <tr>\n",
       "      <th>1</th>\n",
       "      <td>make</td>\n",
       "      <td>{disposition, car_model, interpret, behave, ut...</td>\n",
       "    </tr>\n",
       "    <tr>\n",
       "      <th>2</th>\n",
       "      <td>pay</td>\n",
       "      <td>{digest, employment_compensation, monetary_att...</td>\n",
       "    </tr>\n",
       "    <tr>\n",
       "      <th>3</th>\n",
       "      <td>yukos</td>\n",
       "      <td>{yuko, company}</td>\n",
       "    </tr>\n",
       "    <tr>\n",
       "      <th>4</th>\n",
       "      <td>27</td>\n",
       "      <td>{}</td>\n",
       "    </tr>\n",
       "    <tr>\n",
       "      <th>...</th>\n",
       "      <td>...</td>\n",
       "      <td>...</td>\n",
       "    </tr>\n",
       "    <tr>\n",
       "      <th>3386310</th>\n",
       "      <td>asthma_attack</td>\n",
       "      <td>{illness, breathing_with_difficulty}</td>\n",
       "    </tr>\n",
       "    <tr>\n",
       "      <th>3386311</th>\n",
       "      <td>wheeziness</td>\n",
       "      <td>{wheezy, symptom}</td>\n",
       "    </tr>\n",
       "    <tr>\n",
       "      <th>3386312</th>\n",
       "      <td>bronchial_asthma</td>\n",
       "      <td>{}</td>\n",
       "    </tr>\n",
       "    <tr>\n",
       "      <th>3386313</th>\n",
       "      <td>defatigation</td>\n",
       "      <td>{defatigate}</td>\n",
       "    </tr>\n",
       "    <tr>\n",
       "      <th>3386314</th>\n",
       "      <td>irrationally</td>\n",
       "      <td>{irrational}</td>\n",
       "    </tr>\n",
       "  </tbody>\n",
       "</table>\n",
       "<p>3386315 rows × 2 columns</p>\n",
       "</div>"
      ],
      "text/plain": [
       "                     word                                          Hyperonym\n",
       "0                    sale  {discount_event, products_cheap, good_price, d...\n",
       "1                    make  {disposition, car_model, interpret, behave, ut...\n",
       "2                     pay  {digest, employment_compensation, monetary_att...\n",
       "3                   yukos                                    {yuko, company}\n",
       "4                      27                                                 {}\n",
       "...                   ...                                                ...\n",
       "3386310     asthma_attack               {illness, breathing_with_difficulty}\n",
       "3386311        wheeziness                                  {wheezy, symptom}\n",
       "3386312  bronchial_asthma                                                 {}\n",
       "3386313      defatigation                                       {defatigate}\n",
       "3386314      irrationally                                       {irrational}\n",
       "\n",
       "[3386315 rows x 2 columns]"
      ]
     },
     "execution_count": 17,
     "metadata": {},
     "output_type": "execute_result"
    }
   ],
   "source": [
    "df_syn = df_syn.reset_index(drop=True)\n",
    "df_syn"
   ]
  },
  {
   "cell_type": "code",
   "execution_count": 18,
   "metadata": {},
   "outputs": [],
   "source": [
    "for index,strings in df_syn.iterrows():\n",
    "    hyperonimos[strings['word']]=strings['Hyperonym']"
   ]
  },
  {
   "cell_type": "code",
   "execution_count": 19,
   "metadata": {},
   "outputs": [
    {
     "data": {
      "text/plain": [
       "98828"
      ]
     },
     "execution_count": 19,
     "metadata": {},
     "output_type": "execute_result"
    }
   ],
   "source": [
    "len(hyperonimos)"
   ]
  },
  {
   "cell_type": "code",
   "execution_count": 20,
   "metadata": {},
   "outputs": [],
   "source": [
    "# actualizamos el dataframe de los conjuntos\n",
    "df = pd.DataFrame([[key, hyperonimos[key]] for key in hyperonimos.keys()], columns=['word', 'Hyperonym'])\n",
    "df.to_pickle(\"salida/nuevo3/Hyperonyms.pickle\")"
   ]
  },
  {
   "cell_type": "markdown",
   "metadata": {},
   "source": [
    "# hyponym de MUltNLI"
   ]
  },
  {
   "cell_type": "code",
   "execution_count": 21,
   "metadata": {},
   "outputs": [],
   "source": [
    "hyponimos=dict()"
   ]
  },
  {
   "cell_type": "code",
   "execution_count": 22,
   "metadata": {},
   "outputs": [
    {
     "data": {
      "text/html": [
       "<div>\n",
       "<style scoped>\n",
       "    .dataframe tbody tr th:only-of-type {\n",
       "        vertical-align: middle;\n",
       "    }\n",
       "\n",
       "    .dataframe tbody tr th {\n",
       "        vertical-align: top;\n",
       "    }\n",
       "\n",
       "    .dataframe thead th {\n",
       "        text-align: right;\n",
       "    }\n",
       "</style>\n",
       "<table border=\"1\" class=\"dataframe\">\n",
       "  <thead>\n",
       "    <tr style=\"text-align: right;\">\n",
       "      <th></th>\n",
       "      <th>word</th>\n",
       "      <th>Hyponym</th>\n",
       "    </tr>\n",
       "  </thead>\n",
       "  <tbody>\n",
       "    <tr>\n",
       "      <th>0</th>\n",
       "      <td>sale</td>\n",
       "      <td>{closeout, presale, crowdsale, going_out_of_bu...</td>\n",
       "    </tr>\n",
       "    <tr>\n",
       "      <th>1</th>\n",
       "      <td>make</td>\n",
       "      <td>{generate, puncture, compile, matchless, overd...</td>\n",
       "    </tr>\n",
       "    <tr>\n",
       "      <th>2</th>\n",
       "      <td>pay</td>\n",
       "      <td>{payee, paypig, paythrough, danger_pay, pay_up...</td>\n",
       "    </tr>\n",
       "    <tr>\n",
       "      <th>3</th>\n",
       "      <td>yukos</td>\n",
       "      <td>{}</td>\n",
       "    </tr>\n",
       "    <tr>\n",
       "      <th>4</th>\n",
       "      <td>27</td>\n",
       "      <td>{}</td>\n",
       "    </tr>\n",
       "    <tr>\n",
       "      <th>...</th>\n",
       "      <td>...</td>\n",
       "      <td>...</td>\n",
       "    </tr>\n",
       "    <tr>\n",
       "      <th>89420</th>\n",
       "      <td>obstetrics</td>\n",
       "      <td>{ob_gyn, fetology, perinatology}</td>\n",
       "    </tr>\n",
       "    <tr>\n",
       "      <th>89421</th>\n",
       "      <td>intoa</td>\n",
       "      <td>{}</td>\n",
       "    </tr>\n",
       "    <tr>\n",
       "      <th>89422</th>\n",
       "      <td>aross</td>\n",
       "      <td>{}</td>\n",
       "    </tr>\n",
       "    <tr>\n",
       "      <th>89423</th>\n",
       "      <td>kimora</td>\n",
       "      <td>{}</td>\n",
       "    </tr>\n",
       "    <tr>\n",
       "      <th>89424</th>\n",
       "      <td>dogwas</td>\n",
       "      <td>{}</td>\n",
       "    </tr>\n",
       "  </tbody>\n",
       "</table>\n",
       "<p>89425 rows × 2 columns</p>\n",
       "</div>"
      ],
      "text/plain": [
       "             word                                            Hyponym\n",
       "0            sale  {closeout, presale, crowdsale, going_out_of_bu...\n",
       "1            make  {generate, puncture, compile, matchless, overd...\n",
       "2             pay  {payee, paypig, paythrough, danger_pay, pay_up...\n",
       "3           yukos                                                 {}\n",
       "4              27                                                 {}\n",
       "...           ...                                                ...\n",
       "89420  obstetrics                   {ob_gyn, fetology, perinatology}\n",
       "89421       intoa                                                 {}\n",
       "89422       aross                                                 {}\n",
       "89423      kimora                                                 {}\n",
       "89424      dogwas                                                 {}\n",
       "\n",
       "[89425 rows x 2 columns]"
      ]
     },
     "execution_count": 22,
     "metadata": {},
     "output_type": "execute_result"
    }
   ],
   "source": [
    "df_hyp=pd.read_pickle(\"salida/nuevo3/Hyponyms.pickle\")\n",
    "df_hyp"
   ]
  },
  {
   "cell_type": "code",
   "execution_count": 23,
   "metadata": {},
   "outputs": [],
   "source": [
    "for index,strings in df_hyp.iterrows():\n",
    "    hyponimos[strings['word']]=strings['Hyponym']"
   ]
  },
  {
   "cell_type": "code",
   "execution_count": 24,
   "metadata": {},
   "outputs": [
    {
     "data": {
      "text/plain": [
       "89425"
      ]
     },
     "execution_count": 24,
     "metadata": {},
     "output_type": "execute_result"
    }
   ],
   "source": [
    "len(hyponimos)"
   ]
  },
  {
   "cell_type": "code",
   "execution_count": 25,
   "metadata": {},
   "outputs": [],
   "source": [
    "for i in range(40):\n",
    "    if i==0:\n",
    "        df_syn = pd.read_pickle('salida/nuevo7/MultiNLI/TRAIN/TRAIN_'+str(i+1)+'.csv_Hyponym.pickle')\n",
    "    else:\n",
    "        try:\n",
    "            temp = pd.read_pickle('salida/nuevo7/MultiNLI/TRAIN/TRAIN_'+str(i+1)+'.csv_Hyponym.pickle')\n",
    "            df_syn=pd.concat([df_syn,temp])\n",
    "        except:\n",
    "            pass"
   ]
  },
  {
   "cell_type": "code",
   "execution_count": 26,
   "metadata": {},
   "outputs": [],
   "source": [
    "for i in range(1):\n",
    "    try:\n",
    "        temp = pd.read_pickle('salida/nuevo7/MultiNLI/DEVM/DEV_'+str(i+1)+'.csv_Hyponym.pickle')\n",
    "        df_syn=pd.concat([df_syn,temp])\n",
    "    except:\n",
    "        pass"
   ]
  },
  {
   "cell_type": "code",
   "execution_count": 27,
   "metadata": {},
   "outputs": [
    {
     "data": {
      "text/html": [
       "<div>\n",
       "<style scoped>\n",
       "    .dataframe tbody tr th:only-of-type {\n",
       "        vertical-align: middle;\n",
       "    }\n",
       "\n",
       "    .dataframe tbody tr th {\n",
       "        vertical-align: top;\n",
       "    }\n",
       "\n",
       "    .dataframe thead th {\n",
       "        text-align: right;\n",
       "    }\n",
       "</style>\n",
       "<table border=\"1\" class=\"dataframe\">\n",
       "  <thead>\n",
       "    <tr style=\"text-align: right;\">\n",
       "      <th></th>\n",
       "      <th>word</th>\n",
       "      <th>Hyponym</th>\n",
       "    </tr>\n",
       "  </thead>\n",
       "  <tbody>\n",
       "    <tr>\n",
       "      <th>0</th>\n",
       "      <td>sale</td>\n",
       "      <td>{closeout, presale, crowdsale, going_out_of_bu...</td>\n",
       "    </tr>\n",
       "    <tr>\n",
       "      <th>1</th>\n",
       "      <td>make</td>\n",
       "      <td>{generate, puncture, matchless, compile, overd...</td>\n",
       "    </tr>\n",
       "    <tr>\n",
       "      <th>2</th>\n",
       "      <td>pay</td>\n",
       "      <td>{payee, paypig, paythrough, danger_pay, pay_up...</td>\n",
       "    </tr>\n",
       "    <tr>\n",
       "      <th>3</th>\n",
       "      <td>yukos</td>\n",
       "      <td>{}</td>\n",
       "    </tr>\n",
       "    <tr>\n",
       "      <th>4</th>\n",
       "      <td>27</td>\n",
       "      <td>{}</td>\n",
       "    </tr>\n",
       "    <tr>\n",
       "      <th>...</th>\n",
       "      <td>...</td>\n",
       "      <td>...</td>\n",
       "    </tr>\n",
       "    <tr>\n",
       "      <th>3450599</th>\n",
       "      <td>abeyant</td>\n",
       "      <td>{}</td>\n",
       "    </tr>\n",
       "    <tr>\n",
       "      <th>3450600</th>\n",
       "      <td>handwash</td>\n",
       "      <td>{handwashes, hand_wash}</td>\n",
       "    </tr>\n",
       "    <tr>\n",
       "      <th>3450601</th>\n",
       "      <td>hand_wash</td>\n",
       "      <td>{}</td>\n",
       "    </tr>\n",
       "    <tr>\n",
       "      <th>3450602</th>\n",
       "      <td>predicate</td>\n",
       "      <td>{owl_ontology_property, vector_interval_slot, ...</td>\n",
       "    </tr>\n",
       "    <tr>\n",
       "      <th>3450603</th>\n",
       "      <td>irrationally</td>\n",
       "      <td>{}</td>\n",
       "    </tr>\n",
       "  </tbody>\n",
       "</table>\n",
       "<p>3450604 rows × 2 columns</p>\n",
       "</div>"
      ],
      "text/plain": [
       "                 word                                            Hyponym\n",
       "0                sale  {closeout, presale, crowdsale, going_out_of_bu...\n",
       "1                make  {generate, puncture, matchless, compile, overd...\n",
       "2                 pay  {payee, paypig, paythrough, danger_pay, pay_up...\n",
       "3               yukos                                                 {}\n",
       "4                  27                                                 {}\n",
       "...               ...                                                ...\n",
       "3450599       abeyant                                                 {}\n",
       "3450600      handwash                            {handwashes, hand_wash}\n",
       "3450601     hand_wash                                                 {}\n",
       "3450602     predicate  {owl_ontology_property, vector_interval_slot, ...\n",
       "3450603  irrationally                                                 {}\n",
       "\n",
       "[3450604 rows x 2 columns]"
      ]
     },
     "execution_count": 27,
     "metadata": {},
     "output_type": "execute_result"
    }
   ],
   "source": [
    "df_syn = df_syn.reset_index(drop=True)\n",
    "df_syn"
   ]
  },
  {
   "cell_type": "code",
   "execution_count": 28,
   "metadata": {},
   "outputs": [],
   "source": [
    "for index,strings in df_syn.iterrows():\n",
    "    hyponimos[strings['word']]=strings['Hyponym']"
   ]
  },
  {
   "cell_type": "code",
   "execution_count": 24,
   "metadata": {},
   "outputs": [
    {
     "data": {
      "text/plain": [
       "85025"
      ]
     },
     "execution_count": 24,
     "metadata": {},
     "output_type": "execute_result"
    }
   ],
   "source": [
    "len(hyponimos)"
   ]
  },
  {
   "cell_type": "code",
   "execution_count": 25,
   "metadata": {},
   "outputs": [],
   "source": [
    "# actualizamos el dataframe de los conjuntos\n",
    "df = pd.DataFrame([[key, hyponimos[key]] for key in hyponimos.keys()], columns=['word', 'Hyponym'])\n",
    "df.to_pickle(\"salida/nuevo3/Hyponyms.pickle\")"
   ]
  }
 ],
 "metadata": {
  "kernelspec": {
   "display_name": "rit",
   "language": "python",
   "name": "python3"
  },
  "language_info": {
   "codemirror_mode": {
    "name": "ipython",
    "version": 3
   },
   "file_extension": ".py",
   "mimetype": "text/x-python",
   "name": "python",
   "nbconvert_exporter": "python",
   "pygments_lexer": "ipython3",
   "version": "3.9.13"
  }
 },
 "nbformat": 4,
 "nbformat_minor": 2
}
