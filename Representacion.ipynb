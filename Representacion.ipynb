{
 "cells": [
  {
   "cell_type": "code",
   "execution_count": 3,
   "metadata": {},
   "outputs": [],
   "source": [
    "import conceptnet_lite\n",
    "conceptnet_lite.connect(\"../OPENAI/data/conceptnet.db\")\n",
    "from conceptnet_lite import Label, edges_for, edges_between"
   ]
  },
  {
   "cell_type": "code",
   "execution_count": 4,
   "metadata": {},
   "outputs": [
    {
     "name": "stderr",
     "output_type": "stream",
     "text": [
      "/home/david/anaconda3/envs/rit/lib/python3.9/site-packages/torch/cuda/__init__.py:138: UserWarning: CUDA initialization: The NVIDIA driver on your system is too old (found version 11060). Please update your GPU driver by downloading and installing a new version from the URL: http://www.nvidia.com/Download/index.aspx Alternatively, go to: https://pytorch.org to install a PyTorch version that has been compiled with your version of the CUDA driver. (Triggered internally at ../c10/cuda/CUDAFunctions.cpp:108.)\n",
      "  return torch._C._cuda_getDeviceCount() > 0\n"
     ]
    }
   ],
   "source": [
    "import spacy\n",
    "nlp = spacy.load(\"en_core_web_md\") # modelo de nlp"
   ]
  },
  {
   "cell_type": "code",
   "execution_count": 5,
   "metadata": {},
   "outputs": [],
   "source": [
    "import pandas as pd"
   ]
  },
  {
   "cell_type": "markdown",
   "metadata": {},
   "source": [
    "# procesamiento"
   ]
  },
  {
   "cell_type": "code",
   "execution_count": 10,
   "metadata": {},
   "outputs": [
    {
     "data": {
      "text/html": [
       "<div>\n",
       "<style scoped>\n",
       "    .dataframe tbody tr th:only-of-type {\n",
       "        vertical-align: middle;\n",
       "    }\n",
       "\n",
       "    .dataframe tbody tr th {\n",
       "        vertical-align: top;\n",
       "    }\n",
       "\n",
       "    .dataframe thead th {\n",
       "        text-align: right;\n",
       "    }\n",
       "</style>\n",
       "<table border=\"1\" class=\"dataframe\">\n",
       "  <thead>\n",
       "    <tr style=\"text-align: right;\">\n",
       "      <th></th>\n",
       "      <th>sentence1</th>\n",
       "      <th>sentence2</th>\n",
       "      <th>gold_label</th>\n",
       "      <th>genre</th>\n",
       "    </tr>\n",
       "  </thead>\n",
       "  <tbody>\n",
       "    <tr>\n",
       "      <th>0</th>\n",
       "      <td>Conceptually cream skimming has two basic dime...</td>\n",
       "      <td>Product and geography are what make cream skim...</td>\n",
       "      <td>1</td>\n",
       "      <td>government</td>\n",
       "    </tr>\n",
       "    <tr>\n",
       "      <th>1</th>\n",
       "      <td>you know during the season and i guess at at y...</td>\n",
       "      <td>You lose the things to the following level if ...</td>\n",
       "      <td>0</td>\n",
       "      <td>telephone</td>\n",
       "    </tr>\n",
       "    <tr>\n",
       "      <th>2</th>\n",
       "      <td>One of our number will carry out your instruct...</td>\n",
       "      <td>A member of my team will execute your orders w...</td>\n",
       "      <td>0</td>\n",
       "      <td>fiction</td>\n",
       "    </tr>\n",
       "    <tr>\n",
       "      <th>3</th>\n",
       "      <td>How do you know? All this is their information...</td>\n",
       "      <td>This information belongs to them.</td>\n",
       "      <td>0</td>\n",
       "      <td>fiction</td>\n",
       "    </tr>\n",
       "    <tr>\n",
       "      <th>4</th>\n",
       "      <td>yeah i tell you what though if you go price so...</td>\n",
       "      <td>The tennis shoes have a range of prices.</td>\n",
       "      <td>1</td>\n",
       "      <td>telephone</td>\n",
       "    </tr>\n",
       "    <tr>\n",
       "      <th>...</th>\n",
       "      <td>...</td>\n",
       "      <td>...</td>\n",
       "      <td>...</td>\n",
       "      <td>...</td>\n",
       "    </tr>\n",
       "    <tr>\n",
       "      <th>9995</th>\n",
       "      <td>Because, despite its monopoly power, Microsoft...</td>\n",
       "      <td>Microsoft owns 60 percent of all computer-rela...</td>\n",
       "      <td>1</td>\n",
       "      <td>slate</td>\n",
       "    </tr>\n",
       "    <tr>\n",
       "      <th>9996</th>\n",
       "      <td>'Right,' I mumbled.</td>\n",
       "      <td>'Wrong', I said.</td>\n",
       "      <td>2</td>\n",
       "      <td>fiction</td>\n",
       "    </tr>\n",
       "    <tr>\n",
       "      <th>9997</th>\n",
       "      <td>Thanks dad.</td>\n",
       "      <td>Thanks Obama.</td>\n",
       "      <td>2</td>\n",
       "      <td>fiction</td>\n",
       "    </tr>\n",
       "    <tr>\n",
       "      <th>9998</th>\n",
       "      <td>which is good</td>\n",
       "      <td>I don't think that's great</td>\n",
       "      <td>2</td>\n",
       "      <td>telephone</td>\n",
       "    </tr>\n",
       "    <tr>\n",
       "      <th>9999</th>\n",
       "      <td>Their breath came in clouds in the cool night ...</td>\n",
       "      <td>Their breath was invisible in the hot air.</td>\n",
       "      <td>2</td>\n",
       "      <td>fiction</td>\n",
       "    </tr>\n",
       "  </tbody>\n",
       "</table>\n",
       "<p>10000 rows × 4 columns</p>\n",
       "</div>"
      ],
      "text/plain": [
       "                                              sentence1  \\\n",
       "0     Conceptually cream skimming has two basic dime...   \n",
       "1     you know during the season and i guess at at y...   \n",
       "2     One of our number will carry out your instruct...   \n",
       "3     How do you know? All this is their information...   \n",
       "4     yeah i tell you what though if you go price so...   \n",
       "...                                                 ...   \n",
       "9995  Because, despite its monopoly power, Microsoft...   \n",
       "9996                                'Right,' I mumbled.   \n",
       "9997                                        Thanks dad.   \n",
       "9998                                      which is good   \n",
       "9999  Their breath came in clouds in the cool night ...   \n",
       "\n",
       "                                              sentence2  gold_label  \\\n",
       "0     Product and geography are what make cream skim...           1   \n",
       "1     You lose the things to the following level if ...           0   \n",
       "2     A member of my team will execute your orders w...           0   \n",
       "3                     This information belongs to them.           0   \n",
       "4              The tennis shoes have a range of prices.           1   \n",
       "...                                                 ...         ...   \n",
       "9995  Microsoft owns 60 percent of all computer-rela...           1   \n",
       "9996                                  'Wrong', I said.            2   \n",
       "9997                                     Thanks Obama.            2   \n",
       "9998                         I don't think that's great           2   \n",
       "9999         Their breath was invisible in the hot air.           2   \n",
       "\n",
       "           genre  \n",
       "0     government  \n",
       "1      telephone  \n",
       "2        fiction  \n",
       "3        fiction  \n",
       "4      telephone  \n",
       "...          ...  \n",
       "9995       slate  \n",
       "9996     fiction  \n",
       "9997     fiction  \n",
       "9998   telephone  \n",
       "9999     fiction  \n",
       "\n",
       "[10000 rows x 4 columns]"
      ]
     },
     "execution_count": 10,
     "metadata": {},
     "output_type": "execute_result"
    }
   ],
   "source": [
    "df = pd.read_csv(\"../OPENAI/data/MultiNLI/TRAIN/TRAIN_1.csv\")\n",
    "df"
   ]
  },
  {
   "cell_type": "code",
   "execution_count": 11,
   "metadata": {},
   "outputs": [],
   "source": [
    "a=df.at[118,\"sentence2\"]"
   ]
  },
  {
   "cell_type": "code",
   "execution_count": 12,
   "metadata": {},
   "outputs": [
    {
     "name": "stdout",
     "output_type": "stream",
     "text": [
      "nan <class 'float'>\n"
     ]
    }
   ],
   "source": [
    "print(a,type(a))"
   ]
  },
  {
   "cell_type": "code",
   "execution_count": 13,
   "metadata": {},
   "outputs": [],
   "source": [
    "b=1.0"
   ]
  },
  {
   "cell_type": "code",
   "execution_count": 14,
   "metadata": {},
   "outputs": [
    {
     "name": "stdout",
     "output_type": "stream",
     "text": [
      "no se puede\n"
     ]
    }
   ],
   "source": [
    "if (type(a)!=type(b)):\n",
    "    doc =nlp(a)\n",
    "else:\n",
    "    print(\"no se puede\")"
   ]
  },
  {
   "cell_type": "code",
   "execution_count": 15,
   "metadata": {},
   "outputs": [],
   "source": [
    "relaciones_generales=[\"is_a\",\"etymologically_related_to\",\"manner_of\",\"has_a\",\"derived_from\",\"has_property\",\"form_of\",\"causes\",\"has_prerequisite\",\"has_subevent\",\"has_first_subevent\",\"relate_to\",\"similar_to​\"]\n",
    "relaciones_especificas=[\"is_a\",\"manner_of\",\"has_a\",\"derived_from\",\"has_property\",\"form_of\",\"causes\",\"has_prerequisite\",\"has_subevent\",\"has_first_subevent\"]"
   ]
  },
  {
   "cell_type": "code",
   "execution_count": 16,
   "metadata": {},
   "outputs": [],
   "source": [
    "def bag_of_synonyms(word):\n",
    "    sinonimos=set()\n",
    "    try:\n",
    "        for e in edges_for(Label.get(text=word, language='en').concepts, same_language=True):\n",
    "            if e.relation.name == \"synonym\":\n",
    "                if word== e.start.text:\n",
    "                    sinonimos.add(e.end.text)\n",
    "                elif word== e.end.text:\n",
    "                    sinonimos.add(e.start.text)\n",
    "    except:\n",
    "        pass\n",
    "    sinonimos.add(word)\n",
    "    return sinonimos\n",
    "\n",
    "def bag_of_antonyms(word):\n",
    "    antonimos=set()\n",
    "    try:\n",
    "        for e in edges_for(Label.get(text=word, language='en').concepts, same_language=True):\n",
    "            if e.relation.name in [\"antonym\",\"distinc_from\"]:\n",
    "                print(e.start.text,e.relation.name,e.end.text,e.etc['weight'])\n",
    "                if word== e.start.text:\n",
    "                    antonimos.add(e.end.text)\n",
    "                elif word== e.end.text:\n",
    "                    antonimos.add(e.start.text)\n",
    "                \n",
    "    except:\n",
    "        pass\n",
    "    return antonimos\n",
    "\n",
    "def bag_of_hyperonyms(word):\n",
    "    hiperonimos=set()\n",
    "    try:\n",
    "        for e in edges_for(Label.get(text=word, language='en').concepts, same_language=True):\n",
    "            if e.relation.name in relaciones_generales:\n",
    "                if word== e.start.text:\n",
    "                    hiperonimos.add(e.end.text)\n",
    "    except:\n",
    "        pass\n",
    "    return hiperonimos\n",
    "\n",
    "def bag_of_hyponyms(word):\n",
    "    hiponimos=set()\n",
    "    try:\n",
    "        for e in edges_for(Label.get(text=word, language='en').concepts, same_language=True):\n",
    "            if e.relation.name in relaciones_especificas:\n",
    "                if word== e.end.text:\n",
    "                    hiponimos.add(e.start.text)\n",
    "                    print(e.relation.name,e.start.text)\n",
    "    except:\n",
    "        pass\n",
    "    return hiponimos"
   ]
  },
  {
   "cell_type": "code",
   "execution_count": 17,
   "metadata": {},
   "outputs": [],
   "source": [
    "texto=\"Fishermen using poison sodium cyanide have helped destroy estimated 70% reefs\"\n",
    "texto=\"There is no way Marlowe could legally leave Italy, especially after an arrest warrant has been issued for him by the authorities. Assisted by Zaleshoff, he succeeds in making his escape from Milan.\"\n",
    "hipotesis=\"Cyanide fishing linked destruction area reefs\"\n",
    "texto='Children smiling and waving at camera. They are smiling at their parents'"
   ]
  },
  {
   "cell_type": "code",
   "execution_count": 18,
   "metadata": {},
   "outputs": [
    {
     "name": "stdout",
     "output_type": "stream",
     "text": [
      "['Children', 'smiling', 'and', 'waving', 'at', 'camera', '.', 'They', 'are', 'smiling', 'at', 'their', 'parents', '</F>']\n",
      "['NOUN', 'VERB', 'CCONJ', 'VERB', 'ADP', 'NOUN', 'PUNCT', 'PRON', 'AUX', 'VERB', 'ADP', 'PRON', 'NOUN', '<F>']\n",
      "['child', 'smile', 'and', 'wave', 'at', 'camera', '.', 'they', 'be', 'smile', 'at', 'their', 'parent', '</F>']\n"
     ]
    }
   ],
   "source": [
    "doc = nlp(texto)\n",
    "poses=[]\n",
    "tokens=[]\n",
    "lemmas=[]\n",
    "for token in doc:\n",
    "    poses.append(token.pos_)\n",
    "    tokens.append(token.text)\n",
    "    lemmas.append(token.lemma_)\n",
    "    # if token.pos_ in [\"NOUN\",\"VERB\",\"ADJ\",\"ADV\",\"PRON\",\"PART\",\"PROPN\",\"ADP\",\"NUM\"] or token.dep_==\"neg\":\n",
    "    #     poses.append(token.pos_)\n",
    "    #     tokens.append(token.text)\n",
    "    #     lemmas.append(token.lemma_)\n",
    "    # elif token.text ==\".\":\n",
    "    #     poses.append(token.pos_)\n",
    "    #     tokens.append(token.text)\n",
    "    #     lemmas.append(token.lemma_)\n",
    "    # else:\n",
    "    #     print(token.text,token.pos_,token.dep_)\n",
    "poses.append(\"<F>\")\n",
    "tokens.append(\"</F>\")\n",
    "lemmas.append(\"</F>\")\n",
    "print(tokens)\n",
    "print(poses)\n",
    "print(lemmas)"
   ]
  },
  {
   "cell_type": "code",
   "execution_count": 20,
   "metadata": {},
   "outputs": [],
   "source": [
    "texto=\"Nobody in snowsuits is lying in the snow and making snow angels\""
   ]
  },
  {
   "cell_type": "code",
   "execution_count": 21,
   "metadata": {},
   "outputs": [
    {
     "name": "stdout",
     "output_type": "stream",
     "text": [
      "Noun phrases: ['Nobody', 'snowsuits', 'the snow', 'snow angels']\n",
      "Verbs: ['lie', 'make']\n"
     ]
    }
   ],
   "source": [
    "doc = nlp(texto)\n",
    "\n",
    "# Analyze syntax\n",
    "print(\"Noun phrases:\", [chunk.text for chunk in doc.noun_chunks])\n",
    "print(\"Verbs:\", [token.lemma_ for token in doc if token.pos_ == \"VERB\"])\n",
    "\n",
    "# Find named entities, phrases and concepts\n",
    "for entity in doc.ents:\n",
    "    print(entity.text, entity.label_)"
   ]
  },
  {
   "cell_type": "code",
   "execution_count": 22,
   "metadata": {},
   "outputs": [],
   "source": [
    "verbos_atributos=[\"use\",\"is\",\"dress\",\"in\",\"with\",\"wear\",\"by\",\"of\"]\n",
    "pos_excluyentes=[\"PUNCT\",\"DET\",\"CCONJ\"]"
   ]
  },
  {
   "cell_type": "code",
   "execution_count": 23,
   "metadata": {},
   "outputs": [],
   "source": [
    "def representacion(texto,nlp):\n",
    "    doc =nlp(texto)\n",
    "    poses=[]\n",
    "    tokens=[]\n",
    "    lemmas=[]\n",
    "    children=[]\n",
    "    verb_vincu=[]\n",
    "    for token in doc:\n",
    "        #print(token.text, token.dep_, token.head.text, token.head.pos_,\n",
    "        #    [child for child in token.children])\n",
    "        poses.append(token.pos_)\n",
    "        tokens.append(token.text)\n",
    "        lemmas.append(token.lemma_)\n",
    "        verb_vincu.append(token.head.lemma_)\n",
    "        children.append([child for child in token.children])\n",
    "    poses.append(\"<F>\")\n",
    "    tokens.append(\"</F>\")\n",
    "    lemmas.append(\"</F>\")\n",
    "    children.append(\"</F>\")\n",
    "    verb_vincu.append(\"</F>\")\n",
    "    print(\"tokens\",tokens)\n",
    "    print(\"poses\",poses)\n",
    "    print(\"lemmas\",lemmas)#\n",
    "    print(\"children\",children)\n",
    "    print(\"verbos_vinculantes\",verb_vincu)#\n",
    "    noun_phrase= [chunk.lemma_ for chunk in doc.noun_chunks]\n",
    "    verbs = [token.lemma_ for token in doc if token.pos_ == \"VERB\"]\n",
    "    for n_p in noun_phrase:\n",
    "        print(len(n_p.split(\" \")))\n",
    "        print(n_p)\n",
    "    # Find named entities, phrases and concepts\n",
    "    print(verbs)\n",
    "    for entity in doc.ents:\n",
    "        print(entity.text, entity.label_)\n",
    "    print(\"nodos\")\n",
    "    nodos=[]\n",
    "    i=0\n",
    "    bandera=True\n",
    "    for l in poses:\n",
    "        if bandera==False and l==\"VERB\":\n",
    "            bandera= True\n",
    "            print(\"cambio de direccion\",lemmas[i])\n",
    "        elif bandera==True and l==\"VERB\":\n",
    "            bandera=False\n",
    "            print(\"cambio de direccion\",lemmas[i])\n",
    "        if lemmas[i]!=verb_vincu[i] and poses[i] not in pos_excluyentes:\n",
    "            if bandera==False:\n",
    "                if lemmas[i] not in verbos_atributos and verb_vincu[i] not in verbos_atributos:\n",
    "                    print(lemmas[i],verb_vincu[i])\n",
    "                    nodos.append((lemmas[i],verb_vincu[i]))\n",
    "                elif lemmas[i] not in verbos_atributos and verb_vincu[i] in verbos_atributos:\n",
    "                #print(lemmas.index(verb_vincu[i]))\n",
    "                    print(\"a\",lemmas[i],verb_vincu[i])\n",
    "                    print(lemmas[i],verb_vincu[lemmas.index(verb_vincu[i])])\n",
    "                    nodos.append((lemmas[i],verb_vincu[lemmas.index(verb_vincu[i])]))\n",
    "            else:\n",
    "                if lemmas[i] not in verbos_atributos and verb_vincu[i] not in verbos_atributos:\n",
    "                    print(\"aq\",lemmas[i],verb_vincu[i])\n",
    "                    nodos.append((lemmas[i],verb_vincu[i]))\n",
    "                elif lemmas[i] not in verbos_atributos and verb_vincu[i] in verbos_atributos:\n",
    "                    print(verb_vincu[lemmas.index(verb_vincu[i])],lemmas[i])\n",
    "                    nodos.append((verb_vincu[lemmas.index(verb_vincu[i])],lemmas[i]))\n",
    "        i+=1\n",
    "    return tokens,nodos\n",
    "#    print(nodos)"
   ]
  },
  {
   "cell_type": "code",
   "execution_count": 24,
   "metadata": {},
   "outputs": [],
   "source": [
    "def representacion2(nlp,texto):\n",
    "    doc = nlp(texto.lower())\n",
    "    dir_sust=dict()\n",
    "    palabras=[]\n",
    "    noun_phrase= [chunk.lemma_ for chunk in doc.noun_chunks]\n",
    "    print(noun_phrase)\n",
    "    for token in doc:\n",
    "        print(token.pos_, token.dep_)\n",
    "    verbs = [token.lemma_ for token in doc if token.pos_ == \"VERB\"]\n",
    "    for chunk in doc.noun_chunks:\n",
    "        if chunk.root.lemma_!=chunk.lemma_:\n",
    "            dir_sust[chunk.root.lemma_]=','.join(chunk.lemma_.split()[:-1])\n",
    "        else:\n",
    "            dir_sust[chunk.root.lemma_]=\"NA\"\n",
    "    palabras.extend([chunk.root.lemma_ for chunk in doc.noun_chunks])\n",
    "    palabras.extend(verbs)\n",
    "    return dir_sust,palabras"
   ]
  },
  {
   "cell_type": "code",
   "execution_count": 25,
   "metadata": {},
   "outputs": [
    {
     "name": "stdout",
     "output_type": "stream",
     "text": [
      "['no way', 'marlowe', 'italy', 'an arrest warrant', 'he', 'the authority', 'zaleshoff', 'he', 'his escape', 'milan']\n",
      "PRON expl\n",
      "VERB ROOT\n",
      "DET det\n",
      "NOUN attr\n",
      "PROPN nsubj\n",
      "AUX aux\n",
      "ADV advmod\n",
      "VERB relcl\n",
      "PROPN dobj\n",
      "PUNCT punct\n",
      "ADV advmod\n",
      "SCONJ mark\n",
      "DET det\n",
      "NOUN compound\n",
      "NOUN nsubjpass\n",
      "AUX aux\n",
      "AUX auxpass\n",
      "VERB relcl\n",
      "ADP dative\n",
      "PRON pobj\n",
      "ADP agent\n",
      "DET det\n",
      "NOUN pobj\n",
      "PUNCT punct\n",
      "VERB advcl\n",
      "ADP agent\n",
      "PROPN pobj\n",
      "PUNCT punct\n",
      "PRON nsubj\n",
      "VERB ROOT\n",
      "ADP prep\n",
      "VERB pcomp\n",
      "PRON poss\n",
      "NOUN dobj\n",
      "ADP prep\n",
      "PROPN pobj\n",
      "PUNCT punct\n"
     ]
    },
    {
     "data": {
      "text/plain": [
       "({'way': 'no',\n",
       "  'marlowe': 'NA',\n",
       "  'italy': 'NA',\n",
       "  'warrant': 'an,arrest',\n",
       "  'he': 'NA',\n",
       "  'authority': 'the',\n",
       "  'zaleshoff': 'NA',\n",
       "  'escape': 'his',\n",
       "  'milan': 'NA'},\n",
       " ['way',\n",
       "  'marlowe',\n",
       "  'italy',\n",
       "  'warrant',\n",
       "  'he',\n",
       "  'authority',\n",
       "  'zaleshoff',\n",
       "  'he',\n",
       "  'escape',\n",
       "  'milan',\n",
       "  'be',\n",
       "  'leave',\n",
       "  'issue',\n",
       "  'assist',\n",
       "  'succeed',\n",
       "  'make'])"
      ]
     },
     "execution_count": 25,
     "metadata": {},
     "output_type": "execute_result"
    }
   ],
   "source": [
    "representacion2(nlp,\"There is no way Marlowe could legally leave Italy, especially after an arrest warrant has been issued for him by the authorities. Assisted by Zaleshoff, he succeeds in making his escape from Milan.\")"
   ]
  },
  {
   "cell_type": "code",
   "execution_count": 26,
   "metadata": {},
   "outputs": [
    {
     "data": {
      "text/plain": [
       "['nobody', 'snowsuit', 'the snow', 'snow angel']"
      ]
     },
     "execution_count": 26,
     "metadata": {},
     "output_type": "execute_result"
    }
   ],
   "source": [
    "[chunk.lemma_ for chunk in doc.noun_chunks]"
   ]
  },
  {
   "cell_type": "code",
   "execution_count": 27,
   "metadata": {},
   "outputs": [
    {
     "data": {
      "text/plain": [
       "dict"
      ]
     },
     "execution_count": 27,
     "metadata": {},
     "output_type": "execute_result"
    }
   ],
   "source": [
    "dict"
   ]
  },
  {
   "cell_type": "code",
   "execution_count": 28,
   "metadata": {},
   "outputs": [],
   "source": [
    "principales = [chunk.root.lemma_ for chunk in doc.noun_chunks]"
   ]
  },
  {
   "cell_type": "code",
   "execution_count": 29,
   "metadata": {},
   "outputs": [],
   "source": [
    "verbos= [token.lemma_ for token in doc if token.pos_ == \"VERB\"]"
   ]
  },
  {
   "cell_type": "code",
   "execution_count": 30,
   "metadata": {},
   "outputs": [],
   "source": [
    "principales.extend(verbos)"
   ]
  },
  {
   "cell_type": "code",
   "execution_count": 31,
   "metadata": {},
   "outputs": [
    {
     "data": {
      "text/plain": [
       "['nobody', 'snowsuit', 'snow', 'angel', 'lie', 'make']"
      ]
     },
     "execution_count": 31,
     "metadata": {},
     "output_type": "execute_result"
    }
   ],
   "source": [
    "principales"
   ]
  },
  {
   "cell_type": "code",
   "execution_count": null,
   "metadata": {},
   "outputs": [],
   "source": []
  },
  {
   "cell_type": "code",
   "execution_count": 22,
   "metadata": {},
   "outputs": [
    {
     "data": {
      "text/plain": [
       "['there',\n",
       " 'be',\n",
       " 'no',\n",
       " 'way',\n",
       " 'Marlowe',\n",
       " 'could',\n",
       " 'legally',\n",
       " 'leave',\n",
       " 'Italy',\n",
       " ',',\n",
       " 'especially',\n",
       " 'after',\n",
       " 'an',\n",
       " 'arrest',\n",
       " 'warrant',\n",
       " 'have',\n",
       " 'be',\n",
       " 'issue',\n",
       " 'for',\n",
       " 'he',\n",
       " 'by',\n",
       " 'the',\n",
       " 'authority',\n",
       " '.',\n",
       " 'assist',\n",
       " 'by',\n",
       " 'Zaleshoff',\n",
       " ',',\n",
       " 'he',\n",
       " 'succeed',\n",
       " 'in',\n",
       " 'make',\n",
       " 'his',\n",
       " 'escape',\n",
       " 'from',\n",
       " 'Milan',\n",
       " '.',\n",
       " '</F>']"
      ]
     },
     "execution_count": 22,
     "metadata": {},
     "output_type": "execute_result"
    }
   ],
   "source": [
    "lemmas"
   ]
  },
  {
   "cell_type": "code",
   "execution_count": null,
   "metadata": {},
   "outputs": [],
   "source": []
  },
  {
   "cell_type": "code",
   "execution_count": 23,
   "metadata": {},
   "outputs": [
    {
     "data": {
      "text/plain": [
       "[(), (), (), (), (), (), (), (), (), ()]"
      ]
     },
     "execution_count": 23,
     "metadata": {},
     "output_type": "execute_result"
    }
   ],
   "source": [
    "[chunk.conjuncts for chunk in doc.noun_chunks]"
   ]
  },
  {
   "cell_type": "code",
   "execution_count": 32,
   "metadata": {},
   "outputs": [],
   "source": [
    "texto=\"A man wearing a blue shirt, black apron, eyeglasses and a mask is handling food in a tray.\"\n",
    "#texto=\"A stuffed animal on the couch.\"\n",
    "# texto=\"The sale was made to pay Yuko's US$ 27.5 billion tax bill, Yuganskneftegaz was originally sold for US$ 9.4 billion to a little known company Baikalfinansgroup which was later bought by the Russian state-owned oil company Rosneft .\"\n",
    "#texto=\"Yuganskneftegaz cost US$ 27.5 billion.\"\n",
    "#texto=\"A group of four children pose on a muddy beach, smiling and making faces.\"\n",
    "# texto=\"A guy in glasses is biting into a pink marshmallow chick while somebody else is puckering their lips out wanting a bite.\"\n",
    "#texto=\"A person in appropriate institution protection works with meals.\"\n",
    "# texto=\"Someone splashing in the water.\"\n",
    "# #texto=\"Someone is having a picnic near the lake.\"\n",
    "# texto=\"Female mosquitoes become infected with the malaria parasite when they draw blood from humans with malaria. The insects can then pass this on to other humans they bite, but do not get sick themselves\"\n",
    "# texto=\"Two children play in the snow by the side of the road.\"\n",
    "#texto=\"A shirtless man with cropped hair smokes a cigarette and ties a plastic bag.\"\n",
    "#texto=\"The man is not wearing a shirt.\"\n",
    "# texto=\"A young dark-haired woman with red sun visor holding an open white umbrella amidst a crowd of people\"\n",
    "# texto=\"A raven haired woman is seen by the crowd holding a white opened umbrella.\"\n",
    "#texto=\"Fishermen using poison sodium cyanide have helped destroy estimated 70 reefs\"\n",
    "texto=\"Claude Chabrol (born June 24, 1930) is a French movie director and has become well-known in the 40 years since his first film, Le Beau Serge , for his chilling tales of murder, including Le Boucher .\"\n",
    "#texto=\"Le Beau Serge was directed by Chabrol.\"\n",
    "texto=\"Le Boucher was made by a French movie director.\""
   ]
  },
  {
   "cell_type": "code",
   "execution_count": 33,
   "metadata": {},
   "outputs": [
    {
     "name": "stdout",
     "output_type": "stream",
     "text": [
      "tokens ['le', 'boucher', 'was', 'made', 'by', 'a', 'french', 'movie', 'director', '.', '</F>']\n",
      "poses ['X', 'PROPN', 'AUX', 'VERB', 'ADP', 'DET', 'ADJ', 'NOUN', 'NOUN', 'PUNCT', '<F>']\n",
      "lemmas ['le', 'boucher', 'be', 'make', 'by', 'a', 'french', 'movie', 'director', '.', '</F>']\n",
      "children [[], [le], [], [boucher, was, by, .], [director], [], [], [], [a, french, movie], [], '</F>']\n",
      "verbos_vinculantes ['boucher', 'make', 'make', 'make', 'make', 'director', 'director', 'director', 'by', 'make', '</F>']\n",
      "2\n",
      "le boucher\n",
      "4\n",
      "a french movie director\n",
      "['make']\n",
      "le boucher PERSON\n",
      "french NORP\n",
      "nodos\n",
      "aq le boucher\n",
      "aq boucher make\n",
      "aq be make\n",
      "cambio de direccion make\n",
      "french director\n",
      "movie director\n",
      "a director by\n",
      "director make\n"
     ]
    }
   ],
   "source": [
    "tokens,nodos=representacion(texto.lower(),nlp)"
   ]
  },
  {
   "cell_type": "code",
   "execution_count": 35,
   "metadata": {},
   "outputs": [
    {
     "name": "stdout",
     "output_type": "stream",
     "text": [
      "['le boucher', 'a french movie director']\n",
      "X compound\n",
      "PROPN nsubjpass\n",
      "AUX auxpass\n",
      "VERB ROOT\n",
      "ADP agent\n",
      "DET det\n",
      "ADJ amod\n",
      "NOUN compound\n",
      "NOUN pobj\n",
      "PUNCT punct\n"
     ]
    },
    {
     "data": {
      "text/plain": [
       "({'boucher': 'le', 'director': 'a,french,movie'},\n",
       " ['boucher', 'director', 'make'])"
      ]
     },
     "execution_count": 35,
     "metadata": {},
     "output_type": "execute_result"
    }
   ],
   "source": [
    "representacion2(nlp,texto)"
   ]
  },
  {
   "cell_type": "code",
   "execution_count": 36,
   "metadata": {},
   "outputs": [],
   "source": [
    "h=\"Fishermen using poison sodium cyanide have helped destroy estimated 70 reefs\"\n",
    "h=\"Cyanide fishing linked destruction area reefs\"\n",
    "h=\"The woman is not going to finish the race.\"\n",
    "h=\"A gymnast using a set of paralleled bars.\"\n",
    "h=\"Claude Chabrol (born June 24, 1930) is a French movie director and has become well-known in the 40 years since his first film, Le Beau Serge , for his chilling tales of murder, including Le Boucher .\""
   ]
  },
  {
   "cell_type": "code",
   "execution_count": 37,
   "metadata": {},
   "outputs": [
    {
     "name": "stdout",
     "output_type": "stream",
     "text": [
      "tokens ['claude', 'chabrol', '(', 'born', 'june', '24', ',', '1930', ')', 'is', 'a', 'french', 'movie', 'director', 'and', 'has', 'become', 'well', '-', 'known', 'in', 'the', '40', 'years', 'since', 'his', 'first', 'film', ',', 'le', 'beau', 'serge', ',', 'for', 'his', 'chilling', 'tales', 'of', 'murder', ',', 'including', 'le', 'boucher', '.', '</F>']\n",
      "poses ['PROPN', 'PROPN', 'PUNCT', 'VERB', 'PROPN', 'NUM', 'PUNCT', 'NUM', 'PUNCT', 'AUX', 'DET', 'ADJ', 'NOUN', 'NOUN', 'CCONJ', 'AUX', 'VERB', 'ADV', 'PUNCT', 'VERB', 'ADP', 'DET', 'NUM', 'NOUN', 'SCONJ', 'PRON', 'ADJ', 'NOUN', 'PUNCT', 'PROPN', 'PROPN', 'PROPN', 'PUNCT', 'ADP', 'PRON', 'ADJ', 'NOUN', 'ADP', 'NOUN', 'PUNCT', 'VERB', 'X', 'PROPN', 'PUNCT', '<F>']\n",
      "lemmas ['claude', 'chabrol', '(', 'bear', 'june', '24', ',', '1930', ')', 'be', 'a', 'french', 'movie', 'director', 'and', 'have', 'become', 'well', '-', 'know', 'in', 'the', '40', 'year', 'since', 'his', 'first', 'film', ',', 'le', 'beau', 'serge', ',', 'for', 'his', 'chilling', 'tale', 'of', 'murder', ',', 'include', 'le', 'boucher', '.', '</F>']\n",
      "children [[], [claude, (, born, )], [], [june], [24, ,, 1930], [], [], [], [], [chabrol, director, and, become, .], [], [], [], [a, french, movie], [], [], [has, known, since], [], [], [well, -, in], [years], [], [], [the, 40], [film], [], [], [his, first, ,, serge, ,, for], [], [], [le], [beau], [], [tales], [], [], [his, chilling, of, ,, including], [murder], [], [], [boucher], [], [le], [], '</F>']\n",
      "verbos_vinculantes ['chabrol', 'be', 'chabrol', 'chabrol', 'bear', 'june', 'june', 'june', 'chabrol', 'be', 'director', 'director', 'director', 'be', 'be', 'become', 'be', 'know', 'know', 'become', 'know', 'year', 'year', 'in', 'become', 'film', 'film', 'since', 'film', 'beau', 'serge', 'film', 'film', 'film', 'tale', 'tale', 'for', 'tale', 'of', 'tale', 'tale', 'boucher', 'include', 'be', '</F>']\n",
      "2\n",
      "claude chabrol\n",
      "4\n",
      "a french movie director\n",
      "3\n",
      "the 40 year\n",
      "3\n",
      "his first film\n",
      "3\n",
      "le beau serge\n",
      "3\n",
      "his chilling tale\n",
      "1\n",
      "murder\n",
      "2\n",
      "le boucher\n",
      "['bear', 'become', 'know', 'include']\n",
      "claude chabrol PERSON\n",
      "june 24, 1930 DATE\n",
      "french NORP\n",
      "the 40 years DATE\n",
      "first ORDINAL\n",
      "le boucher PERSON\n",
      "nodos\n",
      "aq claude chabrol\n",
      "aq chabrol be\n",
      "cambio de direccion bear\n",
      "bear chabrol\n",
      "june bear\n",
      "24 june\n",
      "1930 june\n",
      "french director\n",
      "movie director\n",
      "director be\n",
      "have become\n",
      "cambio de direccion become\n",
      "aq become be\n",
      "aq well know\n",
      "cambio de direccion know\n",
      "know become\n",
      "40 year\n",
      "a year in\n",
      "year know\n",
      "since become\n",
      "his film\n",
      "first film\n",
      "film since\n",
      "le beau\n",
      "beau serge\n",
      "serge film\n",
      "for film\n",
      "his tale\n",
      "chilling tale\n",
      "tale for\n",
      "a murder of\n",
      "murder tale\n",
      "cambio de direccion include\n",
      "aq include tale\n",
      "aq le boucher\n",
      "aq boucher include\n"
     ]
    }
   ],
   "source": [
    "tokens,nodos=representacion(h.lower(),nlp)"
   ]
  },
  {
   "cell_type": "code",
   "execution_count": 38,
   "metadata": {},
   "outputs": [
    {
     "data": {
      "text/plain": [
       "['claude',\n",
       " 'chabrol',\n",
       " '(',\n",
       " 'born',\n",
       " 'june',\n",
       " '24',\n",
       " ',',\n",
       " '1930',\n",
       " ')',\n",
       " 'is',\n",
       " 'a',\n",
       " 'french',\n",
       " 'movie',\n",
       " 'director',\n",
       " 'and',\n",
       " 'has',\n",
       " 'become',\n",
       " 'well',\n",
       " '-',\n",
       " 'known',\n",
       " 'in',\n",
       " 'the',\n",
       " '40',\n",
       " 'years',\n",
       " 'since',\n",
       " 'his',\n",
       " 'first',\n",
       " 'film',\n",
       " ',',\n",
       " 'le',\n",
       " 'beau',\n",
       " 'serge',\n",
       " ',',\n",
       " 'for',\n",
       " 'his',\n",
       " 'chilling',\n",
       " 'tales',\n",
       " 'of',\n",
       " 'murder',\n",
       " ',',\n",
       " 'including',\n",
       " 'le',\n",
       " 'boucher',\n",
       " '.',\n",
       " '</F>']"
      ]
     },
     "execution_count": 38,
     "metadata": {},
     "output_type": "execute_result"
    }
   ],
   "source": [
    "tokens"
   ]
  },
  {
   "cell_type": "code",
   "execution_count": 39,
   "metadata": {},
   "outputs": [
    {
     "name": "stdout",
     "output_type": "stream",
     "text": [
      "Los vértices de G son ['claude', 'chabrol', 'be', 'bear', 'june', '24', '1930', 'french', 'director', 'movie', 'have', 'become', 'well', 'know', '40', 'year', 'since', 'his', 'film', 'first', 'le', 'beau', 'serge', 'for', 'tale', 'chilling', 'murder', 'include', 'boucher']\n",
      "Las aristas de G son [('claude', 'chabrol'), ('chabrol', 'be'), ('bear', 'chabrol'), ('june', 'bear'), ('24', 'june'), ('1930', 'june'), ('french', 'director'), ('director', 'be'), ('movie', 'director'), ('have', 'become'), ('become', 'be'), ('well', 'know'), ('know', 'become'), ('40', 'year'), ('year', 'know'), ('since', 'become'), ('his', 'film'), ('his', 'tale'), ('film', 'since'), ('first', 'film'), ('le', 'beau'), ('le', 'boucher'), ('beau', 'serge'), ('serge', 'film'), ('for', 'film'), ('tale', 'for'), ('chilling', 'tale'), ('murder', 'tale'), ('include', 'tale'), ('boucher', 'include')]\n"
     ]
    }
   ],
   "source": [
    "import networkx as nx\n",
    "\n",
    "G=nx.DiGraph()\n",
    "G.add_edges_from(nodos)\n",
    "\n",
    "print(\"Los vértices de G son {}\".format(list(G.nodes)))\n",
    "print(\"Las aristas de G son {}\".format(list(G.edges)))"
   ]
  },
  {
   "cell_type": "code",
   "execution_count": 40,
   "metadata": {},
   "outputs": [
    {
     "data": {
      "image/png": "[encoded data removed]",
      "text/plain": [
       "<Figure size 640x480 with 1 Axes>"
      ]
     },
     "metadata": {},
     "output_type": "display_data"
    }
   ],
   "source": [
    "nx.draw(G,with_labels=True)"
   ]
  },
  {
   "cell_type": "code",
   "execution_count": 41,
   "metadata": {},
   "outputs": [
    {
     "data": {
      "text/plain": [
       "('tale', 5)"
      ]
     },
     "execution_count": 41,
     "metadata": {},
     "output_type": "execute_result"
    }
   ],
   "source": [
    "def maximo_degree(G):\n",
    "    p=0\n",
    "    for n,w in list(G.degree()):\n",
    "        if p<=w:\n",
    "            max=n\n",
    "            p=w\n",
    "    return max,p\n",
    "maximo_degree(G)"
   ]
  },
  {
   "cell_type": "code",
   "execution_count": 42,
   "metadata": {},
   "outputs": [
    {
     "name": "stdout",
     "output_type": "stream",
     "text": [
      "('claude', 'chabrol')\n",
      "('chabrol', 'be')\n",
      "('bear', 'chabrol')\n",
      "('june', 'bear')\n",
      "('24', 'june')\n",
      "('1930', 'june')\n",
      "('french', 'director')\n",
      "('movie', 'director')\n",
      "('director', 'be')\n",
      "('have', 'become')\n",
      "('become', 'be')\n",
      "('well', 'know')\n",
      "('know', 'become')\n",
      "('40', 'year')\n",
      "('year', 'know')\n",
      "('since', 'become')\n",
      "('his', 'film')\n",
      "('first', 'film')\n",
      "('film', 'since')\n",
      "('le', 'beau')\n",
      "('beau', 'serge')\n",
      "('serge', 'film')\n",
      "('for', 'film')\n",
      "('his', 'tale')\n",
      "('chilling', 'tale')\n",
      "('tale', 'for')\n",
      "('murder', 'tale')\n",
      "('include', 'tale')\n",
      "('le', 'boucher')\n",
      "('boucher', 'include')\n"
     ]
    }
   ],
   "source": [
    "for n in nodos:\n",
    "    print(n)"
   ]
  },
  {
   "cell_type": "code",
   "execution_count": 43,
   "metadata": {},
   "outputs": [
    {
     "data": {
      "image/png": "[encoded data removed]",
      "text/plain": [
       "<Figure size 640x480 with 1 Axes>"
      ]
     },
     "metadata": {},
     "output_type": "display_data"
    }
   ],
   "source": [
    "nx.draw(G,with_labels=True)"
   ]
  },
  {
   "cell_type": "code",
   "execution_count": 44,
   "metadata": {},
   "outputs": [
    {
     "ename": "NetworkXError",
     "evalue": "The node yuganskneftegaz is not in the digraph.",
     "output_type": "error",
     "traceback": [
      "\u001b[0;31m---------------------------------------------------------------------------\u001b[0m",
      "\u001b[0;31mKeyError\u001b[0m                                  Traceback (most recent call last)",
      "File \u001b[0;32m~/anaconda3/envs/rit/lib/python3.9/site-packages/networkx/classes/digraph.py:899\u001b[0m, in \u001b[0;36mDiGraph.successors\u001b[0;34m(self, n)\u001b[0m\n\u001b[1;32m    898\u001b[0m \u001b[38;5;28;01mtry\u001b[39;00m:\n\u001b[0;32m--> 899\u001b[0m     \u001b[38;5;28;01mreturn\u001b[39;00m \u001b[38;5;28miter\u001b[39m(\u001b[38;5;28;43mself\u001b[39;49m\u001b[38;5;241;43m.\u001b[39;49m\u001b[43m_succ\u001b[49m\u001b[43m[\u001b[49m\u001b[43mn\u001b[49m\u001b[43m]\u001b[49m)\n\u001b[1;32m    900\u001b[0m \u001b[38;5;28;01mexcept\u001b[39;00m \u001b[38;5;167;01mKeyError\u001b[39;00m \u001b[38;5;28;01mas\u001b[39;00m err:\n",
      "\u001b[0;31mKeyError\u001b[0m: 'yuganskneftegaz'",
      "\nThe above exception was the direct cause of the following exception:\n",
      "\u001b[0;31mNetworkXError\u001b[0m                             Traceback (most recent call last)",
      "Cell \u001b[0;32mIn[44], line 1\u001b[0m\n\u001b[0;32m----> 1\u001b[0m \u001b[38;5;28mlist\u001b[39m(\u001b[43mG\u001b[49m\u001b[38;5;241;43m.\u001b[39;49m\u001b[43mneighbors\u001b[49m\u001b[43m(\u001b[49m\u001b[38;5;124;43m\"\u001b[39;49m\u001b[38;5;124;43myuganskneftegaz\u001b[39;49m\u001b[38;5;124;43m\"\u001b[39;49m\u001b[43m)\u001b[49m)\n",
      "File \u001b[0;32m~/anaconda3/envs/rit/lib/python3.9/site-packages/networkx/classes/digraph.py:901\u001b[0m, in \u001b[0;36mDiGraph.successors\u001b[0;34m(self, n)\u001b[0m\n\u001b[1;32m    899\u001b[0m     \u001b[38;5;28;01mreturn\u001b[39;00m \u001b[38;5;28miter\u001b[39m(\u001b[38;5;28mself\u001b[39m\u001b[38;5;241m.\u001b[39m_succ[n])\n\u001b[1;32m    900\u001b[0m \u001b[38;5;28;01mexcept\u001b[39;00m \u001b[38;5;167;01mKeyError\u001b[39;00m \u001b[38;5;28;01mas\u001b[39;00m err:\n\u001b[0;32m--> 901\u001b[0m     \u001b[38;5;28;01mraise\u001b[39;00m NetworkXError(\u001b[38;5;124mf\u001b[39m\u001b[38;5;124m\"\u001b[39m\u001b[38;5;124mThe node \u001b[39m\u001b[38;5;132;01m{\u001b[39;00mn\u001b[38;5;132;01m}\u001b[39;00m\u001b[38;5;124m is not in the digraph.\u001b[39m\u001b[38;5;124m\"\u001b[39m) \u001b[38;5;28;01mfrom\u001b[39;00m \u001b[38;5;21;01merr\u001b[39;00m\n",
      "\u001b[0;31mNetworkXError\u001b[0m: The node yuganskneftegaz is not in the digraph."
     ]
    }
   ],
   "source": [
    "list(G.neighbors(\"yuganskneftegaz\"))"
   ]
  },
  {
   "cell_type": "code",
   "execution_count": null,
   "metadata": {},
   "outputs": [
    {
     "ename": "NetworkXError",
     "evalue": "The node sell is not in the digraph.",
     "output_type": "error",
     "traceback": [
      "\u001b[0;31m---------------------------------------------------------------------------\u001b[0m",
      "\u001b[0;31mKeyError\u001b[0m                                  Traceback (most recent call last)",
      "File \u001b[0;32m~/anaconda3/envs/rit/lib/python3.9/site-packages/networkx/classes/digraph.py:927\u001b[0m, in \u001b[0;36mDiGraph.predecessors\u001b[0;34m(self, n)\u001b[0m\n\u001b[1;32m    926\u001b[0m \u001b[38;5;28;01mtry\u001b[39;00m:\n\u001b[0;32m--> 927\u001b[0m     \u001b[38;5;28;01mreturn\u001b[39;00m \u001b[38;5;28miter\u001b[39m(\u001b[38;5;28;43mself\u001b[39;49m\u001b[38;5;241;43m.\u001b[39;49m\u001b[43m_pred\u001b[49m\u001b[43m[\u001b[49m\u001b[43mn\u001b[49m\u001b[43m]\u001b[49m)\n\u001b[1;32m    928\u001b[0m \u001b[38;5;28;01mexcept\u001b[39;00m \u001b[38;5;167;01mKeyError\u001b[39;00m \u001b[38;5;28;01mas\u001b[39;00m err:\n",
      "\u001b[0;31mKeyError\u001b[0m: 'sell'",
      "\nThe above exception was the direct cause of the following exception:\n",
      "\u001b[0;31mNetworkXError\u001b[0m                             Traceback (most recent call last)",
      "Cell \u001b[0;32mIn[33], line 1\u001b[0m\n\u001b[0;32m----> 1\u001b[0m \u001b[38;5;28mlist\u001b[39m(\u001b[43mG\u001b[49m\u001b[38;5;241;43m.\u001b[39;49m\u001b[43mpredecessors\u001b[49m\u001b[43m(\u001b[49m\u001b[38;5;124;43m\"\u001b[39;49m\u001b[38;5;124;43msell\u001b[39;49m\u001b[38;5;124;43m\"\u001b[39;49m\u001b[43m)\u001b[49m)\n",
      "File \u001b[0;32m~/anaconda3/envs/rit/lib/python3.9/site-packages/networkx/classes/digraph.py:929\u001b[0m, in \u001b[0;36mDiGraph.predecessors\u001b[0;34m(self, n)\u001b[0m\n\u001b[1;32m    927\u001b[0m     \u001b[38;5;28;01mreturn\u001b[39;00m \u001b[38;5;28miter\u001b[39m(\u001b[38;5;28mself\u001b[39m\u001b[38;5;241m.\u001b[39m_pred[n])\n\u001b[1;32m    928\u001b[0m \u001b[38;5;28;01mexcept\u001b[39;00m \u001b[38;5;167;01mKeyError\u001b[39;00m \u001b[38;5;28;01mas\u001b[39;00m err:\n\u001b[0;32m--> 929\u001b[0m     \u001b[38;5;28;01mraise\u001b[39;00m NetworkXError(\u001b[38;5;124mf\u001b[39m\u001b[38;5;124m\"\u001b[39m\u001b[38;5;124mThe node \u001b[39m\u001b[38;5;132;01m{\u001b[39;00mn\u001b[38;5;132;01m}\u001b[39;00m\u001b[38;5;124m is not in the digraph.\u001b[39m\u001b[38;5;124m\"\u001b[39m) \u001b[38;5;28;01mfrom\u001b[39;00m \u001b[38;5;21;01merr\u001b[39;00m\n",
      "\u001b[0;31mNetworkXError\u001b[0m: The node sell is not in the digraph."
     ]
    }
   ],
   "source": [
    "list(G.predecessors(\"sell\"))"
   ]
  },
  {
   "cell_type": "code",
   "execution_count": 45,
   "metadata": {},
   "outputs": [
    {
     "ename": "NetworkXError",
     "evalue": "The node yuganskneftegaz is not in the digraph.",
     "output_type": "error",
     "traceback": [
      "\u001b[0;31m---------------------------------------------------------------------------\u001b[0m",
      "\u001b[0;31mKeyError\u001b[0m                                  Traceback (most recent call last)",
      "File \u001b[0;32m~/anaconda3/envs/rit/lib/python3.9/site-packages/networkx/classes/digraph.py:899\u001b[0m, in \u001b[0;36mDiGraph.successors\u001b[0;34m(self, n)\u001b[0m\n\u001b[1;32m    898\u001b[0m \u001b[38;5;28;01mtry\u001b[39;00m:\n\u001b[0;32m--> 899\u001b[0m     \u001b[38;5;28;01mreturn\u001b[39;00m \u001b[38;5;28miter\u001b[39m(\u001b[38;5;28;43mself\u001b[39;49m\u001b[38;5;241;43m.\u001b[39;49m\u001b[43m_succ\u001b[49m\u001b[43m[\u001b[49m\u001b[43mn\u001b[49m\u001b[43m]\u001b[49m)\n\u001b[1;32m    900\u001b[0m \u001b[38;5;28;01mexcept\u001b[39;00m \u001b[38;5;167;01mKeyError\u001b[39;00m \u001b[38;5;28;01mas\u001b[39;00m err:\n",
      "\u001b[0;31mKeyError\u001b[0m: 'yuganskneftegaz'",
      "\nThe above exception was the direct cause of the following exception:\n",
      "\u001b[0;31mNetworkXError\u001b[0m                             Traceback (most recent call last)",
      "Cell \u001b[0;32mIn[45], line 1\u001b[0m\n\u001b[0;32m----> 1\u001b[0m \u001b[38;5;28mlist\u001b[39m(\u001b[43mG\u001b[49m\u001b[38;5;241;43m.\u001b[39;49m\u001b[43msuccessors\u001b[49m\u001b[43m(\u001b[49m\u001b[38;5;124;43m\"\u001b[39;49m\u001b[38;5;124;43myuganskneftegaz\u001b[39;49m\u001b[38;5;124;43m\"\u001b[39;49m\u001b[43m)\u001b[49m)\n",
      "File \u001b[0;32m~/anaconda3/envs/rit/lib/python3.9/site-packages/networkx/classes/digraph.py:901\u001b[0m, in \u001b[0;36mDiGraph.successors\u001b[0;34m(self, n)\u001b[0m\n\u001b[1;32m    899\u001b[0m     \u001b[38;5;28;01mreturn\u001b[39;00m \u001b[38;5;28miter\u001b[39m(\u001b[38;5;28mself\u001b[39m\u001b[38;5;241m.\u001b[39m_succ[n])\n\u001b[1;32m    900\u001b[0m \u001b[38;5;28;01mexcept\u001b[39;00m \u001b[38;5;167;01mKeyError\u001b[39;00m \u001b[38;5;28;01mas\u001b[39;00m err:\n\u001b[0;32m--> 901\u001b[0m     \u001b[38;5;28;01mraise\u001b[39;00m NetworkXError(\u001b[38;5;124mf\u001b[39m\u001b[38;5;124m\"\u001b[39m\u001b[38;5;124mThe node \u001b[39m\u001b[38;5;132;01m{\u001b[39;00mn\u001b[38;5;132;01m}\u001b[39;00m\u001b[38;5;124m is not in the digraph.\u001b[39m\u001b[38;5;124m\"\u001b[39m) \u001b[38;5;28;01mfrom\u001b[39;00m \u001b[38;5;21;01merr\u001b[39;00m\n",
      "\u001b[0;31mNetworkXError\u001b[0m: The node yuganskneftegaz is not in the digraph."
     ]
    }
   ],
   "source": [
    "list(G.successors(\"yuganskneftegaz\"))"
   ]
  },
  {
   "cell_type": "code",
   "execution_count": 46,
   "metadata": {},
   "outputs": [],
   "source": [
    "texto=\"An old man with a package poses in front of an advertisement.\"\n",
    "texto=\"A man poses in front of an ad for beer.\"\n",
    "texto=\"A man wearing a blue shirt, black apron, eyeglasses, and a mask is handling food in a tray.\"\n",
    "texto=\"A man dressed in a red shirt and black tie stands up at a wedding reception to make a speech.\"\n",
    "texto=\"Two children play in the snow by the side of the road.\"\n",
    "texto=\"A child in a maroon shirt playing next to a fountain.\"\n",
    "#texto=\"The child is getting wet from the fountain.\"\n",
    "# texto=\"The man is not wearing a shirt.\"\n",
    "# texto=\"The father and son are repairing the sign.\"\n",
    "# texto=\"A man and a child painting a post.\"\n",
    "# texto=\"A group of people stares at a wall that is filled with drawings in a building.\"\n",
    "# #texto=\"A group of people analyze art together\"\n",
    "# texto=\"A person obscured in shadow in a gymnasium.\"\n",
    "# texto=\"The person is trying to be sneaky.\"\n",
    "texto=\"A man wearing a blue shirt, black apron, eyeglasses, and a mask is handling food in a tray.\"\n",
    "texto=\"a guy in a red top and tie makes a speech\"\n",
    "texto=\"A man dressed in a red shirt and black tie stands up at a wedding reception to make a speech.\"\n",
    "texto=\"A young boy runs across a road in front of a sky blue building with barred windows.\"\n",
    "texto=\"An Asian woman in a purple shirt preparing a bowl of food for the younger Asian boy sitting near buy, while an Asian man eats a roll and prepares to take some food up with his chopsticks.\"\n",
    "#texto=\"A woman is preparing food for a child.\"\n",
    "texto=\"Fishermen using poison sodium cyanide have helped destroy estimated 70 reefs\"\n",
    "texto=\"The woman is not going to finish the race.\"\n",
    "#texto=\"Cyanide fishing linked destruction area reefs\"\n",
    "texto=\"Dr Wood led a courageous and committed team in the fight to save 28 patients suffering from between two and 92 per cent body burns, deadly infections and delayed shock. As well as receiving much praise from both her own patients and the media, she also attracted controversy among other burns surgeons due to the fact that spray-on skin had not yet been subjected to clinical trials.\"\n",
    "texto=\"Born near Yirrkala in the Northern Territory, Yunupingu is one of the Gumatj clan of the Yolngu people.\"\n",
    "#texto=\"Yunupingu is a member of the Yolngu people.\"\n",
    "texto=\"In the Super Nintendo Entertainment System release of the game as Final Fantasy III , Biggs' name was Vicks.\"\n",
    "texto=\"Final Fantasy III is produced by the Super Nintendo Entertainment System.\"\n",
    "texto=\"A gymnast using a set of paralleled bars.\"\n",
    "texto=\"A young gymnast is performing.\"\n",
    "texto=\"Claude Chabrol (born June 24, 1930) is a French movie director and has become well-known in the 40 years since his first film, Le Beau Serge , for his chilling tales of murder, including Le Boucher .\"\n",
    "texto=\"Le Beau Serge was directed by Chabrol.\""
   ]
  },
  {
   "cell_type": "code",
   "execution_count": 47,
   "metadata": {},
   "outputs": [],
   "source": [
    "doc = nlp(texto)"
   ]
  },
  {
   "cell_type": "code",
   "execution_count": 48,
   "metadata": {},
   "outputs": [
    {
     "data": {
      "text/plain": [
       "'Le Beau Serge was directed by Chabrol.'"
      ]
     },
     "execution_count": 48,
     "metadata": {},
     "output_type": "execute_result"
    }
   ],
   "source": [
    "texto"
   ]
  },
  {
   "cell_type": "code",
   "execution_count": 49,
   "metadata": {},
   "outputs": [
    {
     "name": "stdout",
     "output_type": "stream",
     "text": [
      "Le compound Beau PROPN [] [Beau, Serge, directed]\n",
      "Beau compound Serge PROPN [Le] [Serge, directed]\n",
      "Serge nsubjpass directed VERB [Beau] [directed]\n",
      "was auxpass directed VERB [] [directed]\n",
      "directed ROOT directed VERB [Serge, was, by, .] []\n",
      "by agent directed VERB [Chabrol] [directed]\n",
      "Chabrol pobj by ADP [] [by, directed]\n",
      ". punct directed VERB [] [directed]\n"
     ]
    }
   ],
   "source": [
    "for token in doc: #revisar esta dbido a que vincula los verbos para hacer el procesamiento\n",
    "    print(token.text, token.dep_, token.head.text, token.head.pos_,\n",
    "            [child for child in token.children],[f for f in token.ancestors])"
   ]
  },
  {
   "cell_type": "code",
   "execution_count": 50,
   "metadata": {},
   "outputs": [],
   "source": [
    "tags=[ 'acl',\n",
    " 'acomp',\n",
    " 'advcl',\n",
    " 'advmod',\n",
    " 'amod',\n",
    " 'appos',\n",
    " 'ccomp',\n",
    " 'complm',\n",
    " 'compound',\n",
    " 'conj',\n",
    " 'infmod',\n",
    " 'meta',\n",
    " 'neg',\n",
    " 'nmod',\n",
    " 'nn',\n",
    " 'npadvmod',\n",
    " 'nounmod',\n",
    " 'npmod',\n",
    " 'num',\n",
    " 'number',\n",
    " 'nummod',\n",
    " 'partmod',\n",
    " 'pcomp',\n",
    " 'poss',\n",
    " 'possessive',\n",
    " 'prep',\n",
    " 'quantmod',\n",
    " 'rcmod',\n",
    " 'relcl',\n",
    " 'xcomp',\n",
    " 'adc',\n",
    " 'avc',\n",
    " 'mnr',\n",
    " 'mo',\n",
    " 'ng',\n",
    " 'nmc'\n",
    "]"
   ]
  },
  {
   "cell_type": "code",
   "execution_count": 51,
   "metadata": {},
   "outputs": [],
   "source": [
    "#tags=['compound','acomp','xcomp']"
   ]
  },
  {
   "cell_type": "code",
   "execution_count": 52,
   "metadata": {},
   "outputs": [
    {
     "name": "stdout",
     "output_type": "stream",
     "text": [
      "Le Le PROPN compound Beau Beau PROPN []\n",
      "Beau Beau PROPN compound Serge Serge PROPN [Le]\n",
      "Serge Serge PROPN nsubjpass\n",
      "directed direct VERB ROOT\n",
      "Chabrol Chabrol PROPN pobj\n",
      "['Beau', 'Serge', 'Serge', 'direct', 'Chabrol']\n",
      "{'Beau': 'Le', 'Serge': 'Beau', 'direct': 'NA', 'Chabrol': 'NA'}\n"
     ]
    }
   ],
   "source": [
    "sustantivos=[]\n",
    "dir_sust=dict()\n",
    "values=[]\n",
    "for token in doc:\n",
    "    if token.dep_ in tags or \"mod\" in token.dep_ or \"comp\" in token.dep_:\n",
    "        print(token.text, token.lemma_, token.pos_,token.dep_,token.head.text,token.head.lemma_, token.head.pos_,\n",
    "            [child for child in token.children])\n",
    "        sustantivos.append(token.head.lemma_)\n",
    "        if token.head.lemma_ in dir_sust:\n",
    "            if dir_sust[token.head.lemma_]==\"NA\":\n",
    "                dir_sust[token.head.lemma_]=token.lemma_\n",
    "                values.append(token.lemma_)\n",
    "            else:\n",
    "                dir_sust[token.head.lemma_]=dir_sust[token.head.lemma_]+\",\"+token.lemma_\n",
    "                values.append(token.lemma_)\n",
    "        else:\n",
    "            dir_sust[token.head.lemma_]=token.lemma_\n",
    "    # elif token.dep_ == \"neg\":\n",
    "    #     print(\"negado\",token.head.text,token.head.lemma_)\n",
    "    #     antonimos=bag_of_antonyms('go')\n",
    "    #     print(antonimos)\n",
    "    elif token.pos_ in [\"NOUN\",\"PROPN\"]:\n",
    "        print(token.text,token.lemma_, token.pos_,token.dep_)\n",
    "        sustantivos.append(token.lemma_)\n",
    "        if token.lemma_ not in dir_sust:\n",
    "            dir_sust[token.lemma_]=\"NA\"\n",
    "    elif token.pos_ in [\"VERB\"]:\n",
    "        print(token.text, token.lemma_,token.pos_,token.dep_)\n",
    "        sustantivos.append(token.lemma_)\n",
    "        if token.lemma_ not in dir_sust:\n",
    "            dir_sust[token.lemma_]=\"NA\"\n",
    "print(sustantivos)\n",
    "print(dir_sust)"
   ]
  },
  {
   "cell_type": "code",
   "execution_count": 53,
   "metadata": {},
   "outputs": [
    {
     "data": {
      "text/plain": [
       "['Beau', 'Serge', 'direct', 'Chabrol']"
      ]
     },
     "execution_count": 53,
     "metadata": {},
     "output_type": "execute_result"
    }
   ],
   "source": [
    "list(dir_sust.keys())"
   ]
  },
  {
   "cell_type": "code",
   "execution_count": 54,
   "metadata": {},
   "outputs": [],
   "source": [
    "limpieza_sustantivos=[]\n",
    "for e in sustantivos:\n",
    "    limpieza_sustantivos"
   ]
  },
  {
   "cell_type": "code",
   "execution_count": 55,
   "metadata": {},
   "outputs": [],
   "source": [
    "from spacy import glossary"
   ]
  },
  {
   "cell_type": "code",
   "execution_count": 56,
   "metadata": {},
   "outputs": [
    {
     "data": {
      "text/plain": [
       "{'ADJ': 'adjective',\n",
       " 'ADP': 'adposition',\n",
       " 'ADV': 'adverb',\n",
       " 'AUX': 'auxiliary',\n",
       " 'CONJ': 'conjunction',\n",
       " 'CCONJ': 'coordinating conjunction',\n",
       " 'DET': 'determiner',\n",
       " 'INTJ': 'interjection',\n",
       " 'NOUN': 'noun',\n",
       " 'NUM': 'numeral',\n",
       " 'PART': 'particle',\n",
       " 'PRON': 'pronoun',\n",
       " 'PROPN': 'proper noun',\n",
       " 'PUNCT': 'punctuation',\n",
       " 'SCONJ': 'subordinating conjunction',\n",
       " 'SYM': 'symbol',\n",
       " 'VERB': 'verb',\n",
       " 'X': 'other',\n",
       " 'EOL': 'end of line',\n",
       " 'SPACE': 'space',\n",
       " '.': 'punctuation mark, sentence closer',\n",
       " ',': 'punctuation mark, comma',\n",
       " '-LRB-': 'left round bracket',\n",
       " '-RRB-': 'right round bracket',\n",
       " '``': 'opening quotation mark',\n",
       " '\"\"': 'closing quotation mark',\n",
       " \"''\": 'closing quotation mark',\n",
       " ':': 'punctuation mark, colon or ellipsis',\n",
       " '$': 'symbol, currency',\n",
       " '#': 'symbol, number sign',\n",
       " 'AFX': 'affix',\n",
       " 'CC': 'conjunction, coordinating',\n",
       " 'CD': 'cardinal number',\n",
       " 'DT': 'determiner',\n",
       " 'EX': 'existential there',\n",
       " 'FW': 'foreign word',\n",
       " 'HYPH': 'punctuation mark, hyphen',\n",
       " 'IN': 'conjunction, subordinating or preposition',\n",
       " 'JJ': 'adjective (English), other noun-modifier (Chinese)',\n",
       " 'JJR': 'adjective, comparative',\n",
       " 'JJS': 'adjective, superlative',\n",
       " 'LS': 'list item marker',\n",
       " 'MD': 'verb, modal auxiliary',\n",
       " 'NIL': 'missing tag',\n",
       " 'NN': 'noun, singular or mass',\n",
       " 'NNP': 'noun, proper singular',\n",
       " 'NNPS': 'noun, proper plural',\n",
       " 'NNS': 'noun, plural',\n",
       " 'PDT': 'predeterminer',\n",
       " 'POS': 'possessive ending',\n",
       " 'PRP': 'pronoun, personal',\n",
       " 'PRP$': 'pronoun, possessive',\n",
       " 'RB': 'adverb',\n",
       " 'RBR': 'adverb, comparative',\n",
       " 'RBS': 'adverb, superlative',\n",
       " 'RP': 'adverb, particle',\n",
       " 'TO': 'infinitival \"to\"',\n",
       " 'UH': 'interjection',\n",
       " 'VB': 'verb, base form',\n",
       " 'VBD': 'verb, past tense',\n",
       " 'VBG': 'verb, gerund or present participle',\n",
       " 'VBN': 'verb, past participle',\n",
       " 'VBP': 'verb, non-3rd person singular present',\n",
       " 'VBZ': 'verb, 3rd person singular present',\n",
       " 'WDT': 'wh-determiner',\n",
       " 'WP': 'wh-pronoun, personal',\n",
       " 'WP$': 'wh-pronoun, possessive',\n",
       " 'WRB': 'wh-adverb',\n",
       " 'SP': 'space (English), sentence-final particle (Chinese)',\n",
       " 'ADD': 'email',\n",
       " 'NFP': 'superfluous punctuation',\n",
       " 'GW': 'additional word in multi-word expression',\n",
       " 'XX': 'unknown',\n",
       " 'BES': 'auxiliary \"be\"',\n",
       " 'HVS': 'forms of \"have\"',\n",
       " '_SP': 'whitespace',\n",
       " '$(': 'other sentence-internal punctuation mark',\n",
       " '$,': 'comma',\n",
       " '$.': 'sentence-final punctuation mark',\n",
       " 'ADJA': 'adjective, attributive',\n",
       " 'ADJD': 'adjective, adverbial or predicative',\n",
       " 'APPO': 'postposition',\n",
       " 'APPR': 'preposition; circumposition left',\n",
       " 'APPRART': 'preposition with article',\n",
       " 'APZR': 'circumposition right',\n",
       " 'ART': 'definite or indefinite article',\n",
       " 'CARD': 'cardinal number',\n",
       " 'FM': 'foreign language material',\n",
       " 'ITJ': 'interjection',\n",
       " 'KOKOM': 'comparative conjunction',\n",
       " 'KON': 'coordinate conjunction',\n",
       " 'KOUI': 'subordinate conjunction with \"zu\" and infinitive',\n",
       " 'KOUS': 'subordinate conjunction with sentence',\n",
       " 'NE': 'proper noun',\n",
       " 'NNE': 'proper noun',\n",
       " 'PAV': 'pronominal adverb',\n",
       " 'PROAV': 'pronominal adverb',\n",
       " 'PDAT': 'attributive demonstrative pronoun',\n",
       " 'PDS': 'substituting demonstrative pronoun',\n",
       " 'PIAT': 'attributive indefinite pronoun without determiner',\n",
       " 'PIDAT': 'attributive indefinite pronoun with determiner',\n",
       " 'PIS': 'substituting indefinite pronoun',\n",
       " 'PPER': 'non-reflexive personal pronoun',\n",
       " 'PPOSAT': 'attributive possessive pronoun',\n",
       " 'PPOSS': 'substituting possessive pronoun',\n",
       " 'PRELAT': 'attributive relative pronoun',\n",
       " 'PRELS': 'substituting relative pronoun',\n",
       " 'PRF': 'reflexive personal pronoun',\n",
       " 'PTKA': 'particle with adjective or adverb',\n",
       " 'PTKANT': 'answer particle',\n",
       " 'PTKNEG': 'negative particle',\n",
       " 'PTKVZ': 'separable verbal particle',\n",
       " 'PTKZU': '\"zu\" before infinitive',\n",
       " 'PWAT': 'attributive interrogative pronoun',\n",
       " 'PWAV': 'adverbial interrogative or relative pronoun',\n",
       " 'PWS': 'substituting interrogative pronoun',\n",
       " 'TRUNC': 'word remnant',\n",
       " 'VAFIN': 'finite verb, auxiliary',\n",
       " 'VAIMP': 'imperative, auxiliary',\n",
       " 'VAINF': 'infinitive, auxiliary',\n",
       " 'VAPP': 'perfect participle, auxiliary',\n",
       " 'VMFIN': 'finite verb, modal',\n",
       " 'VMINF': 'infinitive, modal',\n",
       " 'VMPP': 'perfect participle, modal',\n",
       " 'VVFIN': 'finite verb, full',\n",
       " 'VVIMP': 'imperative, full',\n",
       " 'VVINF': 'infinitive, full',\n",
       " 'VVIZU': 'infinitive with \"zu\", full',\n",
       " 'VVPP': 'perfect participle, full',\n",
       " 'XY': 'non-word containing non-letter',\n",
       " 'AD': 'adverb',\n",
       " 'AS': 'aspect marker',\n",
       " 'BA': '把 in ba-construction',\n",
       " 'CS': 'subordinating conjunction',\n",
       " 'DEC': '的 in a relative clause',\n",
       " 'DEG': 'associative 的',\n",
       " 'DER': '得 in V-de const. and V-de-R',\n",
       " 'DEV': '地 before VP',\n",
       " 'ETC': 'for words 等, 等等',\n",
       " 'IJ': 'interjection',\n",
       " 'LB': '被 in long bei-const',\n",
       " 'LC': 'localizer',\n",
       " 'M': 'measure word',\n",
       " 'MSP': 'other particle',\n",
       " 'NR': 'proper noun',\n",
       " 'NT': 'temporal noun',\n",
       " 'OD': 'ordinal number',\n",
       " 'ON': 'onomatopoeia',\n",
       " 'P': 'preposition excluding 把 and 被',\n",
       " 'PN': 'pronoun',\n",
       " 'PU': 'punctuation',\n",
       " 'SB': '被 in short bei-const',\n",
       " 'VA': 'predicative adjective',\n",
       " 'VC': '是 (copula)',\n",
       " 'VE': '有 as the main verb',\n",
       " 'VV': 'other verb',\n",
       " 'NP': 'noun phrase',\n",
       " 'PP': 'prepositional phrase',\n",
       " 'VP': 'verb phrase',\n",
       " 'ADVP': 'adverb phrase',\n",
       " 'ADJP': 'adjective phrase',\n",
       " 'SBAR': 'subordinating conjunction',\n",
       " 'PRT': 'particle',\n",
       " 'PNP': 'prepositional noun phrase',\n",
       " 'acl': 'clausal modifier of noun (adjectival clause)',\n",
       " 'acomp': 'adjectival complement',\n",
       " 'advcl': 'adverbial clause modifier',\n",
       " 'advmod': 'adverbial modifier',\n",
       " 'agent': 'agent',\n",
       " 'amod': 'adjectival modifier',\n",
       " 'appos': 'appositional modifier',\n",
       " 'attr': 'attribute',\n",
       " 'aux': 'auxiliary',\n",
       " 'auxpass': 'auxiliary (passive)',\n",
       " 'case': 'case marking',\n",
       " 'cc': 'coordinating conjunction',\n",
       " 'ccomp': 'clausal complement',\n",
       " 'clf': 'classifier',\n",
       " 'complm': 'complementizer',\n",
       " 'compound': 'compound',\n",
       " 'conj': 'conjunct',\n",
       " 'cop': 'copula',\n",
       " 'csubj': 'clausal subject',\n",
       " 'csubjpass': 'clausal subject (passive)',\n",
       " 'dative': 'dative',\n",
       " 'dep': 'unclassified dependent',\n",
       " 'det': 'determiner',\n",
       " 'discourse': 'discourse element',\n",
       " 'dislocated': 'dislocated elements',\n",
       " 'dobj': 'direct object',\n",
       " 'expl': 'expletive',\n",
       " 'fixed': 'fixed multiword expression',\n",
       " 'flat': 'flat multiword expression',\n",
       " 'goeswith': 'goes with',\n",
       " 'hmod': 'modifier in hyphenation',\n",
       " 'hyph': 'hyphen',\n",
       " 'infmod': 'infinitival modifier',\n",
       " 'intj': 'interjection',\n",
       " 'iobj': 'indirect object',\n",
       " 'list': 'list',\n",
       " 'mark': 'marker',\n",
       " 'meta': 'meta modifier',\n",
       " 'neg': 'negation modifier',\n",
       " 'nmod': 'modifier of nominal',\n",
       " 'nn': 'noun compound modifier',\n",
       " 'npadvmod': 'noun phrase as adverbial modifier',\n",
       " 'nsubj': 'nominal subject',\n",
       " 'nsubjpass': 'nominal subject (passive)',\n",
       " 'nounmod': 'modifier of nominal',\n",
       " 'npmod': 'noun phrase as adverbial modifier',\n",
       " 'num': 'number modifier',\n",
       " 'number': 'number compound modifier',\n",
       " 'nummod': 'numeric modifier',\n",
       " 'oprd': 'object predicate',\n",
       " 'obj': 'object',\n",
       " 'obl': 'oblique nominal',\n",
       " 'orphan': 'orphan',\n",
       " 'parataxis': 'parataxis',\n",
       " 'partmod': 'participal modifier',\n",
       " 'pcomp': 'complement of preposition',\n",
       " 'pobj': 'object of preposition',\n",
       " 'poss': 'possession modifier',\n",
       " 'possessive': 'possessive modifier',\n",
       " 'preconj': 'pre-correlative conjunction',\n",
       " 'prep': 'prepositional modifier',\n",
       " 'prt': 'particle',\n",
       " 'punct': 'punctuation',\n",
       " 'quantmod': 'modifier of quantifier',\n",
       " 'rcmod': 'relative clause modifier',\n",
       " 'relcl': 'relative clause modifier',\n",
       " 'reparandum': 'overridden disfluency',\n",
       " 'root': 'root',\n",
       " 'ROOT': 'root',\n",
       " 'vocative': 'vocative',\n",
       " 'xcomp': 'open clausal complement',\n",
       " 'ac': 'adpositional case marker',\n",
       " 'adc': 'adjective component',\n",
       " 'ag': 'genitive attribute',\n",
       " 'ams': 'measure argument of adjective',\n",
       " 'app': 'apposition',\n",
       " 'avc': 'adverbial phrase component',\n",
       " 'cd': 'coordinating conjunction',\n",
       " 'cj': 'conjunct',\n",
       " 'cm': 'comparative conjunction',\n",
       " 'cp': 'complementizer',\n",
       " 'cvc': 'collocational verb construction',\n",
       " 'da': 'dative',\n",
       " 'dh': 'discourse-level head',\n",
       " 'dm': 'discourse marker',\n",
       " 'ep': 'expletive es',\n",
       " 'hd': 'head',\n",
       " 'ju': 'junctor',\n",
       " 'mnr': 'postnominal modifier',\n",
       " 'mo': 'modifier',\n",
       " 'ng': 'negation',\n",
       " 'nk': 'noun kernel element',\n",
       " 'nmc': 'numerical component',\n",
       " 'oa': 'accusative object',\n",
       " 'oc': 'clausal object',\n",
       " 'og': 'genitive object',\n",
       " 'op': 'prepositional object',\n",
       " 'par': 'parenthetical element',\n",
       " 'pd': 'predicate',\n",
       " 'pg': 'phrasal genitive',\n",
       " 'ph': 'placeholder',\n",
       " 'pm': 'morphological particle',\n",
       " 'pnc': 'proper noun component',\n",
       " 'rc': 'relative clause',\n",
       " 're': 'repeated element',\n",
       " 'rs': 'reported speech',\n",
       " 'sb': 'subject',\n",
       " 'sbp': 'passivized subject (PP)',\n",
       " 'sp': 'subject or predicate',\n",
       " 'svp': 'separable verb prefix',\n",
       " 'uc': 'unit component',\n",
       " 'vo': 'vocative',\n",
       " 'PERSON': 'People, including fictional',\n",
       " 'NORP': 'Nationalities or religious or political groups',\n",
       " 'FACILITY': 'Buildings, airports, highways, bridges, etc.',\n",
       " 'FAC': 'Buildings, airports, highways, bridges, etc.',\n",
       " 'ORG': 'Companies, agencies, institutions, etc.',\n",
       " 'GPE': 'Countries, cities, states',\n",
       " 'LOC': 'Non-GPE locations, mountain ranges, bodies of water',\n",
       " 'PRODUCT': 'Objects, vehicles, foods, etc. (not services)',\n",
       " 'EVENT': 'Named hurricanes, battles, wars, sports events, etc.',\n",
       " 'WORK_OF_ART': 'Titles of books, songs, etc.',\n",
       " 'LAW': 'Named documents made into laws.',\n",
       " 'LANGUAGE': 'Any named language',\n",
       " 'DATE': 'Absolute or relative dates or periods',\n",
       " 'TIME': 'Times smaller than a day',\n",
       " 'PERCENT': 'Percentage, including \"%\"',\n",
       " 'MONEY': 'Monetary values, including unit',\n",
       " 'QUANTITY': 'Measurements, as of weight or distance',\n",
       " 'ORDINAL': '\"first\", \"second\", etc.',\n",
       " 'CARDINAL': 'Numerals that do not fall under another type',\n",
       " 'PER': 'Named person or family.',\n",
       " 'MISC': 'Miscellaneous entities, e.g. events, nationalities, products or works of art',\n",
       " 'EVT': 'Festivals, cultural events, sports events, weather phenomena, wars, etc.',\n",
       " 'PROD': 'Product, i.e. artificially produced entities including speeches, radio shows, programming languages, contracts, laws and ideas',\n",
       " 'DRV': \"Words (and phrases?) that are dervied from a name, but not a name in themselves, e.g. 'Oslo-mannen' ('the man from Oslo')\",\n",
       " 'GPE_LOC': \"Geo-political entity, with a locative sense, e.g. 'John lives in Spain'\",\n",
       " 'GPE_ORG': \"Geo-political entity, with an organisation sense, e.g. 'Spain declined to meet with Belgium'\"}"
      ]
     },
     "execution_count": 56,
     "metadata": {},
     "output_type": "execute_result"
    }
   ],
   "source": [
    "glossary.GLOSSARY"
   ]
  },
  {
   "cell_type": "code",
   "execution_count": 57,
   "metadata": {},
   "outputs": [
    {
     "data": {
      "text/plain": [
       "'open clausal complement'"
      ]
     },
     "execution_count": 57,
     "metadata": {},
     "output_type": "execute_result"
    }
   ],
   "source": [
    "tag = 'xcomp'\n",
    "glossary.explain(tag)"
   ]
  },
  {
   "cell_type": "code",
   "execution_count": 58,
   "metadata": {},
   "outputs": [],
   "source": [
    "doc = nlp(\"Children smiling and waving at camera. They are smiling at their parents\")"
   ]
  },
  {
   "cell_type": "code",
   "execution_count": 59,
   "metadata": {},
   "outputs": [
    {
     "data": {
      "text/html": [
       "<span class=\"tex2jax_ignore\"><svg xmlns=\"http://www.w3.org/2000/svg\" xmlns:xlink=\"http://www.w3.org/1999/xlink\" xml:lang=\"en\" id=\"0a44b09c087c42a9badc9b05aacc7494-0\" class=\"displacy\" width=\"2150\" height=\"312.0\" direction=\"ltr\" style=\"max-width: none; height: 312.0px; color: #000000; background: #ffffff; font-family: Arial; direction: ltr\">\n",
       "<text class=\"displacy-token\" fill=\"currentColor\" text-anchor=\"middle\" y=\"222.0\">\n",
       "    <tspan class=\"displacy-word\" fill=\"currentColor\" x=\"50\">Children</tspan>\n",
       "    <tspan class=\"displacy-tag\" dy=\"2em\" fill=\"currentColor\" x=\"50\">NOUN</tspan>\n",
       "</text>\n",
       "\n",
       "<text class=\"displacy-token\" fill=\"currentColor\" text-anchor=\"middle\" y=\"222.0\">\n",
       "    <tspan class=\"displacy-word\" fill=\"currentColor\" x=\"225\">smiling</tspan>\n",
       "    <tspan class=\"displacy-tag\" dy=\"2em\" fill=\"currentColor\" x=\"225\">VERB</tspan>\n",
       "</text>\n",
       "\n",
       "<text class=\"displacy-token\" fill=\"currentColor\" text-anchor=\"middle\" y=\"222.0\">\n",
       "    <tspan class=\"displacy-word\" fill=\"currentColor\" x=\"400\">and</tspan>\n",
       "    <tspan class=\"displacy-tag\" dy=\"2em\" fill=\"currentColor\" x=\"400\">CCONJ</tspan>\n",
       "</text>\n",
       "\n",
       "<text class=\"displacy-token\" fill=\"currentColor\" text-anchor=\"middle\" y=\"222.0\">\n",
       "    <tspan class=\"displacy-word\" fill=\"currentColor\" x=\"575\">waving</tspan>\n",
       "    <tspan class=\"displacy-tag\" dy=\"2em\" fill=\"currentColor\" x=\"575\">VERB</tspan>\n",
       "</text>\n",
       "\n",
       "<text class=\"displacy-token\" fill=\"currentColor\" text-anchor=\"middle\" y=\"222.0\">\n",
       "    <tspan class=\"displacy-word\" fill=\"currentColor\" x=\"750\">at</tspan>\n",
       "    <tspan class=\"displacy-tag\" dy=\"2em\" fill=\"currentColor\" x=\"750\">ADP</tspan>\n",
       "</text>\n",
       "\n",
       "<text class=\"displacy-token\" fill=\"currentColor\" text-anchor=\"middle\" y=\"222.0\">\n",
       "    <tspan class=\"displacy-word\" fill=\"currentColor\" x=\"925\">camera.</tspan>\n",
       "    <tspan class=\"displacy-tag\" dy=\"2em\" fill=\"currentColor\" x=\"925\">NOUN</tspan>\n",
       "</text>\n",
       "\n",
       "<text class=\"displacy-token\" fill=\"currentColor\" text-anchor=\"middle\" y=\"222.0\">\n",
       "    <tspan class=\"displacy-word\" fill=\"currentColor\" x=\"1100\">They</tspan>\n",
       "    <tspan class=\"displacy-tag\" dy=\"2em\" fill=\"currentColor\" x=\"1100\">PRON</tspan>\n",
       "</text>\n",
       "\n",
       "<text class=\"displacy-token\" fill=\"currentColor\" text-anchor=\"middle\" y=\"222.0\">\n",
       "    <tspan class=\"displacy-word\" fill=\"currentColor\" x=\"1275\">are</tspan>\n",
       "    <tspan class=\"displacy-tag\" dy=\"2em\" fill=\"currentColor\" x=\"1275\">AUX</tspan>\n",
       "</text>\n",
       "\n",
       "<text class=\"displacy-token\" fill=\"currentColor\" text-anchor=\"middle\" y=\"222.0\">\n",
       "    <tspan class=\"displacy-word\" fill=\"currentColor\" x=\"1450\">smiling</tspan>\n",
       "    <tspan class=\"displacy-tag\" dy=\"2em\" fill=\"currentColor\" x=\"1450\">VERB</tspan>\n",
       "</text>\n",
       "\n",
       "<text class=\"displacy-token\" fill=\"currentColor\" text-anchor=\"middle\" y=\"222.0\">\n",
       "    <tspan class=\"displacy-word\" fill=\"currentColor\" x=\"1625\">at</tspan>\n",
       "    <tspan class=\"displacy-tag\" dy=\"2em\" fill=\"currentColor\" x=\"1625\">ADP</tspan>\n",
       "</text>\n",
       "\n",
       "<text class=\"displacy-token\" fill=\"currentColor\" text-anchor=\"middle\" y=\"222.0\">\n",
       "    <tspan class=\"displacy-word\" fill=\"currentColor\" x=\"1800\">their</tspan>\n",
       "    <tspan class=\"displacy-tag\" dy=\"2em\" fill=\"currentColor\" x=\"1800\">PRON</tspan>\n",
       "</text>\n",
       "\n",
       "<text class=\"displacy-token\" fill=\"currentColor\" text-anchor=\"middle\" y=\"222.0\">\n",
       "    <tspan class=\"displacy-word\" fill=\"currentColor\" x=\"1975\">parents</tspan>\n",
       "    <tspan class=\"displacy-tag\" dy=\"2em\" fill=\"currentColor\" x=\"1975\">NOUN</tspan>\n",
       "</text>\n",
       "\n",
       "<g class=\"displacy-arrow\">\n",
       "    <path class=\"displacy-arc\" id=\"arrow-0a44b09c087c42a9badc9b05aacc7494-0-0\" stroke-width=\"2px\" d=\"M70,177.0 C70,89.5 220.0,89.5 220.0,177.0\" fill=\"none\" stroke=\"currentColor\"/>\n",
       "    <text dy=\"1.25em\" style=\"font-size: 0.8em; letter-spacing: 1px\">\n",
       "        <textPath xlink:href=\"#arrow-0a44b09c087c42a9badc9b05aacc7494-0-0\" class=\"displacy-label\" startOffset=\"50%\" side=\"left\" fill=\"currentColor\" text-anchor=\"middle\">acl</textPath>\n",
       "    </text>\n",
       "    <path class=\"displacy-arrowhead\" d=\"M220.0,179.0 L228.0,167.0 212.0,167.0\" fill=\"currentColor\"/>\n",
       "</g>\n",
       "\n",
       "<g class=\"displacy-arrow\">\n",
       "    <path class=\"displacy-arc\" id=\"arrow-0a44b09c087c42a9badc9b05aacc7494-0-1\" stroke-width=\"2px\" d=\"M245,177.0 C245,89.5 395.0,89.5 395.0,177.0\" fill=\"none\" stroke=\"currentColor\"/>\n",
       "    <text dy=\"1.25em\" style=\"font-size: 0.8em; letter-spacing: 1px\">\n",
       "        <textPath xlink:href=\"#arrow-0a44b09c087c42a9badc9b05aacc7494-0-1\" class=\"displacy-label\" startOffset=\"50%\" side=\"left\" fill=\"currentColor\" text-anchor=\"middle\">cc</textPath>\n",
       "    </text>\n",
       "    <path class=\"displacy-arrowhead\" d=\"M395.0,179.0 L403.0,167.0 387.0,167.0\" fill=\"currentColor\"/>\n",
       "</g>\n",
       "\n",
       "<g class=\"displacy-arrow\">\n",
       "    <path class=\"displacy-arc\" id=\"arrow-0a44b09c087c42a9badc9b05aacc7494-0-2\" stroke-width=\"2px\" d=\"M245,177.0 C245,2.0 575.0,2.0 575.0,177.0\" fill=\"none\" stroke=\"currentColor\"/>\n",
       "    <text dy=\"1.25em\" style=\"font-size: 0.8em; letter-spacing: 1px\">\n",
       "        <textPath xlink:href=\"#arrow-0a44b09c087c42a9badc9b05aacc7494-0-2\" class=\"displacy-label\" startOffset=\"50%\" side=\"left\" fill=\"currentColor\" text-anchor=\"middle\">conj</textPath>\n",
       "    </text>\n",
       "    <path class=\"displacy-arrowhead\" d=\"M575.0,179.0 L583.0,167.0 567.0,167.0\" fill=\"currentColor\"/>\n",
       "</g>\n",
       "\n",
       "<g class=\"displacy-arrow\">\n",
       "    <path class=\"displacy-arc\" id=\"arrow-0a44b09c087c42a9badc9b05aacc7494-0-3\" stroke-width=\"2px\" d=\"M595,177.0 C595,89.5 745.0,89.5 745.0,177.0\" fill=\"none\" stroke=\"currentColor\"/>\n",
       "    <text dy=\"1.25em\" style=\"font-size: 0.8em; letter-spacing: 1px\">\n",
       "        <textPath xlink:href=\"#arrow-0a44b09c087c42a9badc9b05aacc7494-0-3\" class=\"displacy-label\" startOffset=\"50%\" side=\"left\" fill=\"currentColor\" text-anchor=\"middle\">prep</textPath>\n",
       "    </text>\n",
       "    <path class=\"displacy-arrowhead\" d=\"M745.0,179.0 L753.0,167.0 737.0,167.0\" fill=\"currentColor\"/>\n",
       "</g>\n",
       "\n",
       "<g class=\"displacy-arrow\">\n",
       "    <path class=\"displacy-arc\" id=\"arrow-0a44b09c087c42a9badc9b05aacc7494-0-4\" stroke-width=\"2px\" d=\"M770,177.0 C770,89.5 920.0,89.5 920.0,177.0\" fill=\"none\" stroke=\"currentColor\"/>\n",
       "    <text dy=\"1.25em\" style=\"font-size: 0.8em; letter-spacing: 1px\">\n",
       "        <textPath xlink:href=\"#arrow-0a44b09c087c42a9badc9b05aacc7494-0-4\" class=\"displacy-label\" startOffset=\"50%\" side=\"left\" fill=\"currentColor\" text-anchor=\"middle\">pobj</textPath>\n",
       "    </text>\n",
       "    <path class=\"displacy-arrowhead\" d=\"M920.0,179.0 L928.0,167.0 912.0,167.0\" fill=\"currentColor\"/>\n",
       "</g>\n",
       "\n",
       "<g class=\"displacy-arrow\">\n",
       "    <path class=\"displacy-arc\" id=\"arrow-0a44b09c087c42a9badc9b05aacc7494-0-5\" stroke-width=\"2px\" d=\"M1120,177.0 C1120,2.0 1450.0,2.0 1450.0,177.0\" fill=\"none\" stroke=\"currentColor\"/>\n",
       "    <text dy=\"1.25em\" style=\"font-size: 0.8em; letter-spacing: 1px\">\n",
       "        <textPath xlink:href=\"#arrow-0a44b09c087c42a9badc9b05aacc7494-0-5\" class=\"displacy-label\" startOffset=\"50%\" side=\"left\" fill=\"currentColor\" text-anchor=\"middle\">nsubj</textPath>\n",
       "    </text>\n",
       "    <path class=\"displacy-arrowhead\" d=\"M1120,179.0 L1112,167.0 1128,167.0\" fill=\"currentColor\"/>\n",
       "</g>\n",
       "\n",
       "<g class=\"displacy-arrow\">\n",
       "    <path class=\"displacy-arc\" id=\"arrow-0a44b09c087c42a9badc9b05aacc7494-0-6\" stroke-width=\"2px\" d=\"M1295,177.0 C1295,89.5 1445.0,89.5 1445.0,177.0\" fill=\"none\" stroke=\"currentColor\"/>\n",
       "    <text dy=\"1.25em\" style=\"font-size: 0.8em; letter-spacing: 1px\">\n",
       "        <textPath xlink:href=\"#arrow-0a44b09c087c42a9badc9b05aacc7494-0-6\" class=\"displacy-label\" startOffset=\"50%\" side=\"left\" fill=\"currentColor\" text-anchor=\"middle\">aux</textPath>\n",
       "    </text>\n",
       "    <path class=\"displacy-arrowhead\" d=\"M1295,179.0 L1287,167.0 1303,167.0\" fill=\"currentColor\"/>\n",
       "</g>\n",
       "\n",
       "<g class=\"displacy-arrow\">\n",
       "    <path class=\"displacy-arc\" id=\"arrow-0a44b09c087c42a9badc9b05aacc7494-0-7\" stroke-width=\"2px\" d=\"M1470,177.0 C1470,89.5 1620.0,89.5 1620.0,177.0\" fill=\"none\" stroke=\"currentColor\"/>\n",
       "    <text dy=\"1.25em\" style=\"font-size: 0.8em; letter-spacing: 1px\">\n",
       "        <textPath xlink:href=\"#arrow-0a44b09c087c42a9badc9b05aacc7494-0-7\" class=\"displacy-label\" startOffset=\"50%\" side=\"left\" fill=\"currentColor\" text-anchor=\"middle\">prep</textPath>\n",
       "    </text>\n",
       "    <path class=\"displacy-arrowhead\" d=\"M1620.0,179.0 L1628.0,167.0 1612.0,167.0\" fill=\"currentColor\"/>\n",
       "</g>\n",
       "\n",
       "<g class=\"displacy-arrow\">\n",
       "    <path class=\"displacy-arc\" id=\"arrow-0a44b09c087c42a9badc9b05aacc7494-0-8\" stroke-width=\"2px\" d=\"M1820,177.0 C1820,89.5 1970.0,89.5 1970.0,177.0\" fill=\"none\" stroke=\"currentColor\"/>\n",
       "    <text dy=\"1.25em\" style=\"font-size: 0.8em; letter-spacing: 1px\">\n",
       "        <textPath xlink:href=\"#arrow-0a44b09c087c42a9badc9b05aacc7494-0-8\" class=\"displacy-label\" startOffset=\"50%\" side=\"left\" fill=\"currentColor\" text-anchor=\"middle\">poss</textPath>\n",
       "    </text>\n",
       "    <path class=\"displacy-arrowhead\" d=\"M1820,179.0 L1812,167.0 1828,167.0\" fill=\"currentColor\"/>\n",
       "</g>\n",
       "\n",
       "<g class=\"displacy-arrow\">\n",
       "    <path class=\"displacy-arc\" id=\"arrow-0a44b09c087c42a9badc9b05aacc7494-0-9\" stroke-width=\"2px\" d=\"M1645,177.0 C1645,2.0 1975.0,2.0 1975.0,177.0\" fill=\"none\" stroke=\"currentColor\"/>\n",
       "    <text dy=\"1.25em\" style=\"font-size: 0.8em; letter-spacing: 1px\">\n",
       "        <textPath xlink:href=\"#arrow-0a44b09c087c42a9badc9b05aacc7494-0-9\" class=\"displacy-label\" startOffset=\"50%\" side=\"left\" fill=\"currentColor\" text-anchor=\"middle\">pobj</textPath>\n",
       "    </text>\n",
       "    <path class=\"displacy-arrowhead\" d=\"M1975.0,179.0 L1983.0,167.0 1967.0,167.0\" fill=\"currentColor\"/>\n",
       "</g>\n",
       "</svg></span>"
      ],
      "text/plain": [
       "<IPython.core.display.HTML object>"
      ]
     },
     "metadata": {},
     "output_type": "display_data"
    }
   ],
   "source": [
    "from spacy import displacy\n",
    "displacy.render(doc, style='dep')"
   ]
  },
  {
   "cell_type": "code",
   "execution_count": 60,
   "metadata": {},
   "outputs": [
    {
     "name": "stderr",
     "output_type": "stream",
     "text": [
      "/home/david/anaconda3/envs/rit/lib/python3.9/site-packages/tqdm/auto.py:21: TqdmWarning: IProgress not found. Please update jupyter and ipywidgets. See https://ipywidgets.readthedocs.io/en/stable/user_install.html\n",
      "  from .autonotebook import tqdm as notebook_tqdm\n"
     ]
    },
    {
     "name": "stderr",
     "output_type": "stream",
     "text": [
      "Downloading https://raw.githubusercontent.com/stanfordnlp/stanza-resources/main/resources_1.8.0.json: 379kB [00:00, 11.5MB/s]                    \n",
      "2024-05-16 15:39:07 INFO: Downloaded file to /home/david/stanza_resources/resources.json\n",
      "2024-05-16 15:39:07 INFO: Downloading default packages for language: en (English) ...\n",
      "2024-05-16 15:39:10 INFO: File exists: /home/david/stanza_resources/en/default.zip\n",
      "2024-05-16 15:39:27 INFO: Finished downloading models and saved to /home/david/stanza_resources\n",
      "2024-05-16 15:39:27 INFO: Checking for updates to resources.json in case models have been updated.  Note: this behavior can be turned off with download_method=None or download_method=DownloadMethod.REUSE_RESOURCES\n",
      "Downloading https://raw.githubusercontent.com/stanfordnlp/stanza-resources/main/resources_1.8.0.json: 379kB [00:00, 9.95MB/s]                    \n",
      "2024-05-16 15:39:27 INFO: Downloaded file to /home/david/stanza_resources/resources.json\n",
      "2024-05-16 15:39:30 INFO: Loading these models for language: en (English):\n",
      "============================================\n",
      "| Processor    | Package                   |\n",
      "--------------------------------------------\n",
      "| tokenize     | combined                  |\n",
      "| mwt          | combined                  |\n",
      "| pos          | combined_charlm           |\n",
      "| lemma        | combined_nocharlm         |\n",
      "| constituency | ptb3-revised_charlm       |\n",
      "| depparse     | combined_charlm           |\n",
      "| sentiment    | sstplus_charlm            |\n",
      "| ner          | ontonotes-ww-multi_charlm |\n",
      "============================================\n",
      "\n",
      "2024-05-16 15:39:30 INFO: Using device: cpu\n",
      "2024-05-16 15:39:30 INFO: Loading: tokenize\n",
      "2024-05-16 15:39:32 INFO: Loading: mwt\n",
      "2024-05-16 15:39:32 INFO: Loading: pos\n",
      "2024-05-16 15:39:35 INFO: Loading: lemma\n",
      "2024-05-16 15:39:36 INFO: Loading: constituency\n",
      "2024-05-16 15:39:39 INFO: Loading: depparse\n",
      "2024-05-16 15:39:43 INFO: Loading: sentiment\n",
      "2024-05-16 15:39:44 INFO: Loading: ner\n",
      "2024-05-16 15:39:47 INFO: Done loading processors!\n"
     ]
    },
    {
     "name": "stdout",
     "output_type": "stream",
     "text": [
      "('Children', 2, 'nsubj')\n",
      "('smiling', 0, 'root')\n",
      "('and', 4, 'cc')\n",
      "('waving', 2, 'conj')\n",
      "('at', 6, 'case')\n",
      "('camera', 4, 'obl')\n",
      "('.', 2, 'punct')\n"
     ]
    }
   ],
   "source": [
    "import stanza\n",
    "stanza.download('en')       # This downloads the English models for the neural pipeline\n",
    "nlp_stanza = stanza.Pipeline('en') # This sets up a default neural pipeline in English\n",
    "doc_stanza = nlp_stanza(\"Children smiling and waving at camera. They are smiling at their parents\")\n",
    "doc_stanza.sentences[0].print_dependencies()\n"
   ]
  },
  {
   "cell_type": "code",
   "execution_count": 61,
   "metadata": {},
   "outputs": [
    {
     "name": "stdout",
     "output_type": "stream",
     "text": [
      "('Children', 2, 'nsubj')\n",
      "('smiling', 0, 'root')\n",
      "('and', 4, 'cc')\n",
      "('waving', 2, 'conj')\n",
      "('at', 6, 'case')\n",
      "('camera', 4, 'obl')\n",
      "('.', 2, 'punct')\n"
     ]
    }
   ],
   "source": [
    "doc_stanza = nlp_stanza(\"Children smiling and waving at camera. They are smiling at their parents\")\n",
    "doc_stanza.sentences[0].print_dependencies()"
   ]
  },
  {
   "cell_type": "code",
   "execution_count": 62,
   "metadata": {},
   "outputs": [
    {
     "name": "stdout",
     "output_type": "stream",
     "text": [
      "Children\n",
      "camera\n",
      "They\n",
      "parents\n"
     ]
    }
   ],
   "source": [
    "for sent in doc_stanza.sentences:\n",
    "    for dep in sent.dependencies:\n",
    "        #print(dep[1])\n",
    "        if dep[1] == 'amod' or dep[1] == 'nummod' or dep[1] == 'nmod' or dep[1] == 'compound':\n",
    "            if dep[2].text=='wearing':\n",
    "                print(dep[2].text)\n",
    "            else:                \n",
    "                print(dep[2].text, dep[0].text)\n",
    "        elif dep[1]=='obl' or dep[1]=='nsubj':\n",
    "            print(dep[2].text)"
   ]
  },
  {
   "cell_type": "code",
   "execution_count": 63,
   "metadata": {},
   "outputs": [
    {
     "name": "stdout",
     "output_type": "stream",
     "text": [
      "1\n"
     ]
    },
    {
     "name": "stderr",
     "output_type": "stream",
     "text": [
      "/home/david/anaconda3/envs/rit/lib/python3.9/site-packages/scipy/spatial/distance.py:636: RuntimeWarning: invalid value encountered in scalar divide\n",
      "  dist = 1.0 - uv / np.sqrt(uu * vv)\n"
     ]
    }
   ],
   "source": [
    "from scipy import spatial\n",
    "\n",
    "List1 = [0, 0, 0, 0]\n",
    "List2 = [0, 0, 0, 0]\n",
    "result = 1 - spatial.distance.cosine(List1, List2)\n",
    "print(result)"
   ]
  },
  {
   "cell_type": "markdown",
   "metadata": {},
   "source": [
    "# entidades "
   ]
  },
  {
   "cell_type": "code",
   "execution_count": 64,
   "metadata": {},
   "outputs": [],
   "source": [
    "def representacion(nlp,texto):\n",
    "    doc =nlp(texto)\n",
    "    # poses=[]\n",
    "    # tokens=[]\n",
    "    # lemmas=[]\n",
    "    # children=[]\n",
    "    # verb_vincu=[]\n",
    "    # deps=[]\n",
    "    dir_sust=dict()\n",
    "    palabras=[]\n",
    "    frase=\"\"\n",
    "    anterior=\"det\"\n",
    "    nsubj=\"\"\n",
    "    for token in doc:\n",
    "        #print(token.text, token.dep_, token.head.text, token.head.pos_,\n",
    "        #    [child for child in token.children])\n",
    "        # poses.append(token.pos_)\n",
    "        # tokens.append(token.text)\n",
    "        # lemmas.append(token.lemma_)\n",
    "        # verb_vincu.append(token.head.lemma_)\n",
    "        # deps.append(token.dep_)\n",
    "        # children.append([child for child in token.children])\n",
    "        # print(token.text,token.pos_,token.dep_)\n",
    "        if token.lemma_ not in palabras_no:\n",
    "            if token.dep_ in deps_tags or (token.dep_==\"ROOT\" and token.pos_==\"NOUN\"):\n",
    "                if token.dep_==\"nsubj\": \n",
    "                    if nsubj==\"\":\n",
    "                        frase= frase + \" \" + token.lemma_ \n",
    "                        nsubj=token.lemma_\n",
    "                    else:\n",
    "                        if frase!=\"\":\n",
    "                            palabras.append(frase.split()[-1])\n",
    "                            if len(frase.split())>1:\n",
    "                                dir_sust[frase.split()[-1]]=','.join(frase.split()[0:-1])\n",
    "                            else:\n",
    "                                dir_sust[frase.split()[-1]]=\"NA\"\n",
    "                        frase=\"\"\n",
    "                elif token.dep_==\"prep\":\n",
    "                    if token.lemma_ not in [\"in\",\"at\",\"on\",\"with\",\"from\",\"to\",\"for\",\"since\"]:    \n",
    "                        frase= frase + token.lemma_ + \" \"\n",
    "                    else:\n",
    "                        if frase!=\"\":\n",
    "                            palabras.append(frase.split()[-1])\n",
    "                            if len(frase.split())>1:\n",
    "                                dir_sust[frase.split()[-1]]=','.join(frase.split()[0:-1])\n",
    "                            else:\n",
    "                                dir_sust[frase.split()[-1]]=\"NA\"\n",
    "                        frase=\"\"\n",
    "                elif token.dep_==\"neg\":\n",
    "                    frase= frase + \" \"+ token.lemma_\n",
    "                else:\n",
    "                    \n",
    "                    frase= frase + \" \"+ token.lemma_\n",
    "            elif token.dep_ in [\"ROOT\"] and token.pos_ in [\"VERB\"] and anterior==\"NUM\":\n",
    "                #palabras.append(frase+\" \"+token.lemma_)\n",
    "                palabras.append(token.lemma_)\n",
    "                frase=\"\"\n",
    "            elif token.dep_ in [\"ROOT\"] and token.pos_ in [\"VERB\"]:\n",
    "                if frase!=\"\":\n",
    "                    palabras.append(frase.split()[-1])\n",
    "                    if len(frase.split())>1:\n",
    "                        dir_sust[frase.split()[-1]]=','.join(frase.split()[0:-1])\n",
    "                    else:\n",
    "                        dir_sust[frase.split()[-1]]=\"NA\"\n",
    "                    palabras.append(token.lemma_)\n",
    "                    dir_sust[token.lemma_]=\"NA\"\n",
    "                else:\n",
    "                    palabras.append(token.lemma_)\n",
    "                    dir_sust[token.lemma_]=\"NA\"\n",
    "                frase=\"\"\n",
    "            else:\n",
    "                #print(frase)\n",
    "                if frase!=\"\":\n",
    "                    palabras.append(frase.split()[-1])\n",
    "                    if len(frase.split())>1:\n",
    "                        dir_sust[frase.split()[-1]]=','.join(frase.split()[0:-1])\n",
    "                    else:\n",
    "                        dir_sust[frase.split()[-1]]=\"NA\"\n",
    "                frase=\"\"\n",
    "        anterior=token.pos_\n",
    "    if frase!=\"\":\n",
    "        palabras.append(frase.split()[-1])\n",
    "        if len(frase.split())>1:\n",
    "            dir_sust[frase.split()[-1]]=','.join(frase.split()[0:-1])\n",
    "        else:\n",
    "            dir_sust[frase.split()[-1]]=\"NA\"\n",
    "    # poses.append(\"<F>\")\n",
    "    # tokens.append(\"</F>\")\n",
    "    # lemmas.append(\"</F>\")\n",
    "    # children.append(\"</F>\")\n",
    "    # verb_vincu.append(\"</F>\")\n",
    "    # deps.append(\"</F>\")\n",
    "    # print(\"tokens\",tokens)\n",
    "    # print(\"poses\",poses)\n",
    "    # print(\"lemmas\",lemmas)#\n",
    "    # print(\"children\",children)\n",
    "    # print(\"verbos_vinculantes\",verb_vincu)#\n",
    "    # print(\"deps\",deps)\n",
    "    return dir_sust,palabras\n",
    "\n",
    "def relacion_entailment(wt,wh):\n",
    "    try:\n",
    "        concepts_wt = Label.get(text=wt, language='en').concepts\n",
    "        concepts_wh = Label.get(text=wh, language='en').concepts\n",
    "        for e in edges_between(concepts_wt, concepts_wh):\n",
    "            if wt == e.start.text and e.relation.name in relaciones_generales:\n",
    "                print(e.start.text, \"-\", e.end.text, \"|\", e.relation.name,e)\n",
    "                return True\n",
    "    except:\n",
    "        pass\n",
    "    return False"
   ]
  },
  {
   "cell_type": "code",
   "execution_count": 65,
   "metadata": {},
   "outputs": [],
   "source": [
    "relaciones_generales=[\"is_a\",\"etymologically_related_to\",\"manner_of\",\"has_a\",\"derived_from\",\"has_property\",\"form_of\",\"causes\",\"has_prerequisite\",\"has_subevent\",\"has_first_subevent\"]\n",
    "relaciones_especificas=[\"is_a\",\"manner_of\",\"has_a\",\"derived_from\",\"has_property\",\"form_of\",\"causes\",\"has_prerequisite\",\"has_subevent\",\"has_first_subevent\"]\n",
    "\n",
    "def bag_of_synonyms(word):\n",
    "    sinonimos=set()\n",
    "    try:\n",
    "        for e in edges_for(Label.get(text=word, language='en').concepts, same_language=True):\n",
    "            if e.relation.name == \"synonym\":\n",
    "                if word== e.start.text:\n",
    "                    sinonimos.add(e.end.text)\n",
    "                elif word== e.end.text:\n",
    "                    sinonimos.add(e.start.text)\n",
    "    except:\n",
    "        pass\n",
    "    sinonimos.add(word)\n",
    "    return sinonimos\n",
    "\n",
    "def bag_of_antonyms(word):\n",
    "    antonimos=set()\n",
    "    try:\n",
    "        for e in edges_for(Label.get(text=word, language='en').concepts, same_language=True):\n",
    "            if e.relation.name in [\"antonym\",\"distinc_from\"]:\n",
    "                if word== e.start.text:\n",
    "                    antonimos.add(e.end.text)\n",
    "                elif word== e.end.text:\n",
    "                    antonimos.add(e.start.text)\n",
    "    except:\n",
    "        pass\n",
    "    return antonimos\n",
    "\n",
    "def bag_of_hyperonyms(word):\n",
    "    hiperonimos=set()\n",
    "    try:\n",
    "        for e in edges_for(Label.get(text=word, language='en').concepts, same_language=True):\n",
    "            if e.relation.name in relaciones_generales:\n",
    "                if word== e.start.text:\n",
    "                    hiperonimos.add(e.end.text)\n",
    "    except:\n",
    "        pass\n",
    "    return hiperonimos\n",
    "\n",
    "def bag_of_hyponyms(word):\n",
    "    hiponimos=set()\n",
    "    try:\n",
    "        for e in edges_for(Label.get(text=word, language='en').concepts, same_language=True):\n",
    "            if e.relation.name in relaciones_especificas:\n",
    "                if word== e.end.text:\n",
    "                    hiponimos.add(e.start.text)\n",
    "                    #print(e.relation.name,e.start.text)\n",
    "    except:\n",
    "        pass\n",
    "    return hiponimos"
   ]
  },
  {
   "cell_type": "code",
   "execution_count": 66,
   "metadata": {},
   "outputs": [],
   "source": [
    "deps_tags=[\"relcl\",\"prep\",\"amod\",\"compound\",\"pobj\",\"conj\",\"nsubj\",\"advcl\",\"dobj\",\"neg\",'acomp',\"attr\", 'nummod',\"oprd\",\"npadvmod\"]\n",
    "palabras_no=[\"wear\",\"dress\",\"clothe\"]"
   ]
  },
  {
   "cell_type": "code",
   "execution_count": 67,
   "metadata": {},
   "outputs": [],
   "source": [
    "def overlap_entities(r_t,t_clean,r_h,h_clean,dic_sin,dic_hipe,dic_hipo):\n",
    "    c_compatibilidad=0\n",
    "    c_incompatibilidad=0\n",
    "\n",
    "    for eh in h_clean:\n",
    "        for et in t_clean:\n",
    "            print(\"revisar\",eh,et)\n",
    "            if eh==et: ## Si son palabras identicas entonces no hacemos más proceso\n",
    "                print(et,eh,\"misma palabra\")\n",
    "                if 'NA'!=r_h[eh]:\n",
    "                    for mod_h in r_h[eh].split(\",\"):\n",
    "                        for mod_t in r_t[et].split(\",\"):\n",
    "                            if(relacion_entailment(mod_t,mod_h)):\n",
    "                                print(mod_t,mod_h,relacion_entailment(mod_t,mod_h))\n",
    "                                c_compatibilidad+=1\n",
    "                            elif(mod_t==mod_h):\n",
    "                                print(mod_t,mod_h,\"la misma\")\n",
    "                                c_compatibilidad+=1\n",
    "                else:\n",
    "                    print(\"no hay atributos\")\n",
    "                    c_compatibilidad+=1\n",
    "                    break\n",
    "            else:\n",
    "                print(\"en otro caso buscamos una relación de generalidad\")\n",
    "                print(r_t[et].split(\",\"))\n",
    "                print(r_h[eh].split(\",\"))\n",
    "                r_e = relacion_entailment(et,eh)\n",
    "                if r_e:\n",
    "                    print(et,eh, r_e)\n",
    "                    print(\"checar atributos\")\n",
    "                    if 'NA' !=r_h[eh]:\n",
    "                        print(\"lo que tiene:\",eh,r_h[eh])\n",
    "                        for mod_h in r_h[eh].split(\",\"):\n",
    "                            if 'NA'!=r_t[et]:\n",
    "                                for mod_t in r_t[et].split(\",\"):\n",
    "                                    print(mod_h,mod_t)\n",
    "                                    if mod_h==mod_t:\n",
    "                                        print(mod_t,mod_h,True)\n",
    "                                        c_compatibilidad+=1\n",
    "                                    else:\n",
    "                                        if(relacion_entailment(mod_t,mod_h)):\n",
    "                                            print(mod_t,mod_h,relacion_entailment(mod_t,mod_h))\n",
    "                                            c_compatibilidad+=1\n",
    "                                           \n",
    "                    else:\n",
    "                        c_compatibilidad+=1\n",
    "                        print(\"no hay atributos\")\n",
    "                        break\n",
    "                else:\n",
    "                    print(\"Proceso de conjuntos\")\n",
    "                    sin1=dic_sin[et]\n",
    "                    sin2=dic_sin[eh]\n",
    "                    if len(sin1.intersection(sin2))>0:\n",
    "                        print(et,eh,\"conjuntos de sinonimos\",sin1.intersection(sin2))\n",
    "                        print(\"checar atributos\")\n",
    "                        if 'NA'!=r_h[eh]:\n",
    "                            print(\"lo que tiene:\",eh,r_h[eh])\n",
    "                            for mod_h in r_h[eh].split(\",\"):\n",
    "                                if 'NA'!=r_t[eh]:\n",
    "                                    for mod_t in r_t[et].split(\",\"):\n",
    "                                        print(mod_h,mod_t)\n",
    "                                        if mod_h==mod_t:\n",
    "                                            print(mod_t,mod_h,True)\n",
    "                                            c_compatibilidad+=1\n",
    "                                            \n",
    "                                        else:\n",
    "                                            if(relacion_entailment(mod_t,mod_h)):\n",
    "                                                print(mod_t,mod_h,relacion_entailment(mod_t,mod_h))\n",
    "                                                c_compatibilidad+=1\n",
    "                                                \n",
    "                        else:\n",
    "                            print(\"no hay atributos\")\n",
    "                            c_compatibilidad+=1\n",
    "                            break\n",
    "                    else:\n",
    "                        Hip1=set()\n",
    "                        for e in list(sin1):\n",
    "                            Hip1=Hip1.union(dic_hipe[e])\n",
    "                        if len(Hip1.intersection(sin2))>0:\n",
    "                            print(et,eh,\"Hiperonimos y sinonimos\",Hip1.intersection(sin2))\n",
    "                            print(\"checar atributos\")\n",
    "                            if 'NA'!=r_h[eh]:\n",
    "                                print(\"lo que tiene:\",eh,r_h[eh])\n",
    "                                for mod_h in r_h[eh].split(\",\"):\n",
    "                                    if 'NA'!=r_t[et]:\n",
    "                                        for mod_t in r_t[et].split(\",\"):\n",
    "                                            print(mod_h,mod_t)\n",
    "                                            if mod_h==mod_t:\n",
    "                                                print(mod_t,mod_h,True)\n",
    "                                                c_compatibilidad+=1\n",
    "                                                \n",
    "                                            else:\n",
    "                                                if(relacion_entailment(mod_t,mod_h)):\n",
    "                                                    print(mod_t,mod_h,relacion_entailment(mod_t,mod_h))\n",
    "                                                    c_compatibilidad+=1\n",
    "                                                    \n",
    "                            else:\n",
    "                                print(\"no hay atributos\")\n",
    "                                c_compatibilidad+=1\n",
    "                                break\n",
    "                        else:\n",
    "                            hip2=set()\n",
    "                            for e in list(sin2):\n",
    "                                hip2=hip2.union(dic_hipo[e])\n",
    "                            if len(sin1.intersection(hip2))>0:\n",
    "                                print(et,eh,\"Sinonimos e hiponimos\",sin1.intersection(hip2))\n",
    "                                print(\"checar atributos\")\n",
    "                                if 'NA'!=r_h[eh]:\n",
    "                                    for mod_h in r_h[eh].split(\",\"):\n",
    "                                        if 'NA'!=r_t[et]:\n",
    "                                            for mod_t in r_t[et].split(\",\"):\n",
    "                                                #print(mod_h,mod_t)\n",
    "                                                if mod_h==mod_t:\n",
    "                                                    print(mod_t,mod_h,True)\n",
    "                                                    c_compatibilidad+=1\n",
    "                                                    \n",
    "                                                else:\n",
    "                                                    if(relacion_entailment(mod_t,mod_h)):\n",
    "                                                        #print(mod_t,mod_h,relacion_entailment(mod_t,mod_h))\n",
    "                                                        c_compatibilidad+=1\n",
    "                                                        \n",
    "                                else:\n",
    "                                    print(\"no hay atributos\")\n",
    "                                    c_compatibilidad+=1\n",
    "                                    break\n",
    "                                    "
   ]
  },
  {
   "cell_type": "code",
   "execution_count": 68,
   "metadata": {},
   "outputs": [],
   "source": [
    "texto=\"A stuffed animal on the couch.\"\n",
    "# texto=\"The sale was made to pay Yuko's US$ 27.5 billion tax bill, Yuganskneftegaz was originally sold for US$ 9.4 billion to a little known company Baikalfinansgroup which was later bought by the Russian state-owned oil company Rosneft .\"\n",
    "#texto=\"Yuganskneftegaz cost US$ 27.5 billion.\"\n",
    "#texto=\"A group of four children pose on a muddy beach, smiling and making faces.\"\n",
    "# texto=\"A guy in glasses is biting into a pink marshmallow chick while somebody else is puckering their lips out wanting a bite.\"\n",
    "texto=\"A person in appropriate institution protection works with meals.\"\n",
    "# texto=\"Someone splashing in the water.\"\n",
    "# #texto=\"Someone is having a picnic near the lake.\""
   ]
  },
  {
   "cell_type": "code",
   "execution_count": 69,
   "metadata": {},
   "outputs": [],
   "source": [
    "r_h,h_clean_m = representacion(nlp,texto)"
   ]
  },
  {
   "cell_type": "code",
   "execution_count": 70,
   "metadata": {},
   "outputs": [
    {
     "data": {
      "text/plain": [
       "{'person': 'NA',\n",
       " 'protection': 'appropriate,institution',\n",
       " 'work': 'NA',\n",
       " 'meal': 'NA'}"
      ]
     },
     "execution_count": 70,
     "metadata": {},
     "output_type": "execute_result"
    }
   ],
   "source": [
    "r_h"
   ]
  },
  {
   "cell_type": "code",
   "execution_count": 26,
   "metadata": {},
   "outputs": [
    {
     "data": {
      "text/plain": [
       "['person', 'protection', 'work', 'meal']"
      ]
     },
     "execution_count": 26,
     "metadata": {},
     "output_type": "execute_result"
    }
   ],
   "source": [
    "h_clean_m"
   ]
  },
  {
   "cell_type": "code",
   "execution_count": 27,
   "metadata": {},
   "outputs": [],
   "source": [
    "textoT=\"A man wearing a blue shirt, black apron, eyeglasses and a mask is handling food in a tray.\"\n"
   ]
  },
  {
   "cell_type": "code",
   "execution_count": 28,
   "metadata": {},
   "outputs": [],
   "source": [
    "r_t,t_clean_m = representacion(nlp,textoT)"
   ]
  },
  {
   "cell_type": "code",
   "execution_count": 29,
   "metadata": {},
   "outputs": [
    {
     "data": {
      "text/plain": [
       "{'man': 'NA',\n",
       " 'shirt': 'blue',\n",
       " 'apron': 'black',\n",
       " 'eyeglass': 'NA',\n",
       " 'mask': 'NA',\n",
       " 'handle': 'NA',\n",
       " 'food': 'NA',\n",
       " 'tray': 'NA'}"
      ]
     },
     "execution_count": 29,
     "metadata": {},
     "output_type": "execute_result"
    }
   ],
   "source": [
    "r_t"
   ]
  },
  {
   "cell_type": "code",
   "execution_count": 30,
   "metadata": {},
   "outputs": [
    {
     "data": {
      "text/plain": [
       "['man', 'shirt', 'apron', 'eyeglass', 'mask', 'handle', 'food', 'tray']"
      ]
     },
     "execution_count": 30,
     "metadata": {},
     "output_type": "execute_result"
    }
   ],
   "source": [
    "t_clean_m"
   ]
  },
  {
   "cell_type": "code",
   "execution_count": 31,
   "metadata": {},
   "outputs": [],
   "source": [
    "diccionario_sinonimos=dict()\n",
    "diccionario_hiperonimos=dict()\n",
    "diccionario_hyponimos=dict()"
   ]
  },
  {
   "cell_type": "code",
   "execution_count": 32,
   "metadata": {},
   "outputs": [],
   "source": [
    "df_temp=pd.read_pickle(\"salida/nuevo3/Synonyms.pickle\")\n",
    "for index,strings in df_temp.iterrows():\n",
    "    diccionario_sinonimos[strings['word']]=strings['Synonym']\n",
    "\n",
    "df_temp=pd.read_pickle(\"salida/nuevo3/Hyperonyms.pickle\")\n",
    "for index,strings in df_temp.iterrows():\n",
    "    diccionario_hiperonimos[strings['word']]=strings['Hyperonym']\n",
    "\n",
    "df_temp=pd.read_pickle(\"salida/nuevo3/Hyponyms.pickle\")\n",
    "for index,strings in df_temp.iterrows():\n",
    "    diccionario_hyponimos[strings['word']]=strings['Hyponym']"
   ]
  },
  {
   "cell_type": "code",
   "execution_count": 37,
   "metadata": {},
   "outputs": [
    {
     "name": "stdout",
     "output_type": "stream",
     "text": [
      "revisar person man\n",
      "en otro caso buscamos una relación de generalidad\n",
      "['NA']\n",
      "['NA']\n",
      "man - person | is_a /a/[/r/is_a/,/c/en/man/,/c/en/person/]\n",
      "man person True\n",
      "checar atributos\n",
      "no hay atributos\n",
      "revisar protection man\n",
      "en otro caso buscamos una relación de generalidad\n",
      "['NA']\n",
      "['appropriate', 'institution']\n",
      "Proceso de conjuntos\n",
      "revisar protection shirt\n",
      "en otro caso buscamos una relación de generalidad\n",
      "['blue']\n",
      "['appropriate', 'institution']\n",
      "Proceso de conjuntos\n",
      "revisar protection apron\n",
      "en otro caso buscamos una relación de generalidad\n",
      "['black']\n",
      "['appropriate', 'institution']\n",
      "Proceso de conjuntos\n",
      "revisar protection eyeglass\n",
      "en otro caso buscamos una relación de generalidad\n",
      "['NA']\n",
      "['appropriate', 'institution']\n",
      "Proceso de conjuntos\n",
      "revisar protection mask\n",
      "en otro caso buscamos una relación de generalidad\n",
      "['NA']\n",
      "['appropriate', 'institution']\n",
      "Proceso de conjuntos\n",
      "mask protection Hiperonimos y sinonimos {'protective_covering', 'protection'}\n",
      "checar atributos\n",
      "lo que tiene: protection appropriate,institution\n",
      "revisar protection handle\n",
      "en otro caso buscamos una relación de generalidad\n",
      "['NA']\n",
      "['appropriate', 'institution']\n",
      "Proceso de conjuntos\n",
      "handle protection Hiperonimos y sinonimos {'umbrella', 'protection', 'shelter', 'tribute', 'guard'}\n",
      "checar atributos\n",
      "lo que tiene: protection appropriate,institution\n",
      "revisar protection food\n",
      "en otro caso buscamos una relación de generalidad\n",
      "['NA']\n",
      "['appropriate', 'institution']\n",
      "Proceso de conjuntos\n",
      "revisar protection tray\n",
      "en otro caso buscamos una relación de generalidad\n",
      "['NA']\n",
      "['appropriate', 'institution']\n",
      "Proceso de conjuntos\n",
      "revisar work man\n",
      "en otro caso buscamos una relación de generalidad\n",
      "['NA']\n",
      "['NA']\n",
      "man - work | manner_of /a/[/r/manner_of/,/c/en/man/v/wn/social/,/c/en/work/v/wn/social/]\n",
      "man work True\n",
      "checar atributos\n",
      "no hay atributos\n",
      "revisar meal man\n",
      "en otro caso buscamos una relación de generalidad\n",
      "['NA']\n",
      "['NA']\n",
      "Proceso de conjuntos\n",
      "revisar meal shirt\n",
      "en otro caso buscamos una relación de generalidad\n",
      "['blue']\n",
      "['NA']\n",
      "Proceso de conjuntos\n",
      "revisar meal apron\n",
      "en otro caso buscamos una relación de generalidad\n",
      "['black']\n",
      "['NA']\n",
      "Proceso de conjuntos\n",
      "revisar meal eyeglass\n",
      "en otro caso buscamos una relación de generalidad\n",
      "['NA']\n",
      "['NA']\n",
      "Proceso de conjuntos\n",
      "revisar meal mask\n",
      "en otro caso buscamos una relación de generalidad\n",
      "['NA']\n",
      "['NA']\n",
      "Proceso de conjuntos\n",
      "revisar meal handle\n",
      "en otro caso buscamos una relación de generalidad\n",
      "['NA']\n",
      "['NA']\n",
      "Proceso de conjuntos\n",
      "handle meal Hiperonimos y sinonimos {'board'}\n",
      "checar atributos\n",
      "no hay atributos\n"
     ]
    }
   ],
   "source": [
    "overlap_entities(r_t,t_clean_m,r_h,h_clean_m,diccionario_sinonimos,diccionario_hiperonimos,diccionario_hyponimos)"
   ]
  },
  {
   "cell_type": "code",
   "execution_count": 33,
   "metadata": {},
   "outputs": [],
   "source": [
    "def representacion(nlp,texto):\n",
    "    dir_sust=dict()\n",
    "    palabras=[]\n",
    "    b=1.0\n",
    "    if (type(texto)==type(b) or texto==\"\" or texto==\"n/a\" or texto==\"nan\"):\n",
    "        return dir_sust,palabras\n",
    "    doc =nlp(texto.lower())\n",
    "    poses=[]\n",
    "    tokens=[]\n",
    "    lemmas=[]\n",
    "    children=[]\n",
    "    verb_vincu=[]\n",
    "    deps=[]\n",
    "    dir_sust=dict()\n",
    "    palabras=[]\n",
    "    frase=\"\"\n",
    "    anterior=\"det\"\n",
    "    nsubj=\"\"\n",
    "    for token in doc:\n",
    "        #print(token.text, token.dep_, token.head.text, token.head.pos_,\n",
    "        #    [child for child in token.children])\n",
    "        poses.append(token.pos_)\n",
    "        tokens.append(token.text)\n",
    "        lemmas.append(token.lemma_)\n",
    "        verb_vincu.append(token.head.lemma_)\n",
    "        deps.append(token.dep_)\n",
    "        children.append([child for child in token.children])\n",
    "        # print(token.text,token.pos_,token.dep_)\n",
    "        if token.lemma_ not in palabras_no:\n",
    "            if token.dep_ in deps_tags or (token.dep_==\"ROOT\" and token.pos_==\"NOUN\"):\n",
    "                if token.dep_==\"nsubj\" or token.dep_ ==\"nsubjpass\": \n",
    "                    if nsubj==\"\":\n",
    "                        frase= frase + \" \" + token.lemma_ \n",
    "                        nsubj=token.lemma_\n",
    "                    else:\n",
    "                        if frase!=\"\":\n",
    "                            palabras.append(frase.split()[-1])\n",
    "                            if len(frase.split())>1:\n",
    "                                dir_sust[frase.split()[-1]]=','.join(frase.split()[0:-1])\n",
    "                            else:\n",
    "                                dir_sust[frase.split()[-1]]=\"NA\"\n",
    "                        frase=\"\"\n",
    "                elif token.dep_==\"prep\":\n",
    "                    if token.lemma_ not in [\"in\",\"at\",\"on\",\"with\",\"from\",\"to\",\"for\",\"since\",\"of\",\"follow\"]:\n",
    "                        frase= frase + token.lemma_ + \" \"\n",
    "                    else:\n",
    "                        if frase!=\"\":\n",
    "                            palabras.append(frase.split()[-1])\n",
    "                            if len(frase.split())>1:\n",
    "                                dir_sust[frase.split()[-1]]=','.join(frase.split()[0:-1])\n",
    "                            else:\n",
    "                                dir_sust[frase.split()[-1]]=\"NA\"\n",
    "                        frase=\"\"\n",
    "                elif token.dep_==\"neg\":\n",
    "                    frase= frase + \" \"+ token.lemma_\n",
    "                else:\n",
    "                    frase= frase + \" \"+ token.lemma_\n",
    "            elif token.dep_ in [\"ROOT\"] and token.pos_ in [\"VERB\"] and anterior==\"NUM\":\n",
    "                #palabras.append(frase+\" \"+token.lemma_)\n",
    "                palabras.append(token.lemma_)\n",
    "                frase=\"\"\n",
    "            elif token.dep_ in [\"ROOT\"] and token.pos_ in [\"VERB\"]:\n",
    "                if frase!=\"\":\n",
    "                    palabras.append(frase.split()[-1])\n",
    "                    if len(frase.split())>1:\n",
    "                        dir_sust[frase.split()[-1]]=','.join(frase.split()[0:-1])\n",
    "                    else:\n",
    "                        dir_sust[frase.split()[-1]]=\"NA\"\n",
    "                    palabras.append(token.lemma_)\n",
    "                    dir_sust[token.lemma_]=\"NA\"\n",
    "                else:\n",
    "                    palabras.append(token.lemma_)\n",
    "                    dir_sust[token.lemma_]=\"NA\"\n",
    "                frase=\"\"\n",
    "            else:\n",
    "                #print(frase)\n",
    "                if frase!=\"\":\n",
    "                    palabras.append(frase.split()[-1])\n",
    "                    if len(frase.split())>1:\n",
    "                        dir_sust[frase.split()[-1]]=','.join(frase.split()[0:-1])\n",
    "                    else:\n",
    "                        dir_sust[frase.split()[-1]]=\"NA\"\n",
    "                frase=\"\"\n",
    "        anterior=token.pos_\n",
    "    if frase!=\"\":\n",
    "        palabras.append(frase.split()[-1])\n",
    "        if len(frase.split())>1:\n",
    "            dir_sust[frase.split()[-1]]=','.join(frase.split()[0:-1])\n",
    "        else:\n",
    "            dir_sust[frase.split()[-1]]=\"NA\"\n",
    "    poses.append(\"<F>\")\n",
    "    tokens.append(\"</F>\")\n",
    "    lemmas.append(\"</F>\")\n",
    "    children.append(\"</F>\")\n",
    "    verb_vincu.append(\"</F>\")\n",
    "    deps.append(\"</F>\")\n",
    "    print(\"tokens\",tokens)\n",
    "    print(\"poses\",poses)\n",
    "    print(\"lemmas\",lemmas)#\n",
    "    print(\"children\",children)\n",
    "    print(\"verbos_vinculantes\",verb_vincu)#\n",
    "    print(\"deps\",deps)\n",
    "    return dir_sust,palabras"
   ]
  },
  {
   "cell_type": "code",
   "execution_count": null,
   "metadata": {},
   "outputs": [],
   "source": []
  },
  {
   "cell_type": "code",
   "execution_count": 34,
   "metadata": {},
   "outputs": [],
   "source": [
    "deps_tags=[\"relcl\",\"prep\",\"amod\",\"compound\",\"pobj\",\"conj\",\"nsubj\",\"advcl\",\"dobj\",\"neg\",'acomp',\"attr\", 'nummod',\"oprd\",\"npadvmod\"]\n",
    "palabras_no=[\"wear\",\"dress\",\"clothe\"]"
   ]
  },
  {
   "cell_type": "code",
   "execution_count": 35,
   "metadata": {},
   "outputs": [],
   "source": [
    "textoT=\"Kelvin MacKenzie, chief executive of TalkSport's parent company, the Wireless Group, was then forced to reinstate his former employee following an outcry from TalkSport listeners.\"\n"
   ]
  },
  {
   "cell_type": "code",
   "execution_count": 36,
   "metadata": {},
   "outputs": [
    {
     "name": "stdout",
     "output_type": "stream",
     "text": [
      "tokens ['kelvin', 'mackenzie', ',', 'chief', 'executive', 'of', 'talksport', \"'s\", 'parent', 'company', ',', 'the', 'wireless', 'group', ',', 'was', 'then', 'forced', 'to', 'reinstate', 'his', 'former', 'employee', 'following', 'an', 'outcry', 'from', 'talksport', 'listeners', '.', '</F>']\n",
      "poses ['PROPN', 'PROPN', 'PUNCT', 'ADJ', 'NOUN', 'ADP', 'PROPN', 'PART', 'NOUN', 'NOUN', 'PUNCT', 'DET', 'ADJ', 'NOUN', 'PUNCT', 'AUX', 'ADV', 'VERB', 'PART', 'VERB', 'PRON', 'ADJ', 'NOUN', 'VERB', 'DET', 'NOUN', 'ADP', 'NOUN', 'NOUN', 'PUNCT', '<F>']\n",
      "lemmas ['kelvin', 'mackenzie', ',', 'chief', 'executive', 'of', 'talksport', \"'s\", 'parent', 'company', ',', 'the', 'wireless', 'group', ',', 'be', 'then', 'force', 'to', 'reinstate', 'his', 'former', 'employee', 'follow', 'an', 'outcry', 'from', 'talksport', 'listener', '.', '</F>']\n",
      "children [[], [kelvin, ,, executive, ,], [], [], [chief, of], [company], ['s], [], [], [talksport, parent, ,, group], [], [], [], [the, wireless], [], [], [], [mackenzie, was, then, reinstate, .], [], [to, employee, following], [], [], [his, former], [outcry], [], [an, from], [listeners], [], [talksport], [], '</F>']\n",
      "verbos_vinculantes ['mackenzie', 'force', 'mackenzie', 'executive', 'mackenzie', 'executive', 'company', 'talksport', 'company', 'of', 'company', 'group', 'group', 'company', 'mackenzie', 'force', 'force', 'force', 'reinstate', 'force', 'employee', 'employee', 'reinstate', 'reinstate', 'outcry', 'follow', 'outcry', 'listener', 'from', 'force', '</F>']\n",
      "deps ['compound', 'nsubjpass', 'punct', 'amod', 'appos', 'prep', 'poss', 'case', 'compound', 'pobj', 'punct', 'det', 'amod', 'appos', 'punct', 'auxpass', 'advmod', 'ROOT', 'aux', 'xcomp', 'poss', 'amod', 'dobj', 'prep', 'det', 'pobj', 'prep', 'compound', 'pobj', 'punct', '</F>']\n"
     ]
    }
   ],
   "source": [
    "r_t,t_clean_m = representacion(nlp,textoT)"
   ]
  },
  {
   "cell_type": "code",
   "execution_count": 37,
   "metadata": {},
   "outputs": [
    {
     "ename": "NameError",
     "evalue": "name 'tokens' is not defined",
     "output_type": "error",
     "traceback": [
      "\u001b[0;31m---------------------------------------------------------------------------\u001b[0m",
      "\u001b[0;31mNameError\u001b[0m                                 Traceback (most recent call last)",
      "Cell \u001b[0;32mIn[37], line 1\u001b[0m\n\u001b[0;32m----> 1\u001b[0m \u001b[43mtokens\u001b[49m[\u001b[38;5;241m10\u001b[39m]\n",
      "\u001b[0;31mNameError\u001b[0m: name 'tokens' is not defined"
     ]
    }
   ],
   "source": [
    "tokens[10]"
   ]
  },
  {
   "cell_type": "code",
   "execution_count": 38,
   "metadata": {},
   "outputs": [
    {
     "data": {
      "text/plain": [
       "{'kelvin': 'NA',\n",
       " 'chief': 'NA',\n",
       " 'company': 'parent',\n",
       " 'wireless': 'NA',\n",
       " 'force': 'NA',\n",
       " 'employee': 'former',\n",
       " 'outcry': 'NA',\n",
       " 'listener': 'talksport'}"
      ]
     },
     "execution_count": 38,
     "metadata": {},
     "output_type": "execute_result"
    }
   ],
   "source": [
    "r_t"
   ]
  },
  {
   "cell_type": "code",
   "execution_count": 39,
   "metadata": {},
   "outputs": [
    {
     "data": {
      "text/plain": [
       "['kelvin',\n",
       " 'chief',\n",
       " 'company',\n",
       " 'wireless',\n",
       " 'force',\n",
       " 'employee',\n",
       " 'outcry',\n",
       " 'listener']"
      ]
     },
     "execution_count": 39,
     "metadata": {},
     "output_type": "execute_result"
    }
   ],
   "source": [
    "t_clean_m"
   ]
  },
  {
   "cell_type": "code",
   "execution_count": 40,
   "metadata": {},
   "outputs": [],
   "source": [
    "\n",
    "def representacion_entidades(nlp,texto):\n",
    "    doc = nlp(texto.lower())\n",
    "    dir_sust=dict()\n",
    "    palabras=[]\n",
    "    for token in doc:\n",
    "        if token.dep_ in tags:\n",
    "            #print(token.text, token.lemma_, token.pos_,token.dep_,token.head.text,token.head.lemma_, token.head.pos_,\n",
    "            #    [child for child in token.children])\n",
    "            #sustantivos.append(token.head.lemma_)\n",
    "            if token.head.lemma_ in dir_sust:\n",
    "                if dir_sust[token.head.lemma_]==\"NA\":\n",
    "                    dir_sust[token.head.lemma_]=token.lemma_\n",
    "                    if token.head not in palabras:\n",
    "                        palabras.append(token.head)\n",
    "                else:\n",
    "                    dir_sust[token.head.lemma_]=dir_sust[token.head.lemma_]+\",\"+token.lemma_\n",
    "                    if token.head not in palabras:\n",
    "                        palabras.append(token.head)\n",
    "            else:\n",
    "                dir_sust[token.head.lemma_]=token.lemma_\n",
    "                if token.head not in palabras:\n",
    "                    palabras.append(token.head)\n",
    "        elif token.pos_ in [\"NOUN\",\"PROPN\"]:\n",
    "            #print(token.text,token.lemma_, token.pos_,token.dep_)\n",
    "            #sustantivos.append(token.lemma_)\n",
    "            if token.lemma_ not in dir_sust:\n",
    "                dir_sust[token.lemma_]=\"NA\"\n",
    "                if token not in palabras:\n",
    "                    palabras.append(token)\n",
    "        elif token.pos_ in [\"VERB\"]:\n",
    "            #print(token.text, token.lemma_,token.pos_,token.dep_)\n",
    "            #sustantivos.append(token.lemma_)\n",
    "            if token.lemma_ not in dir_sust:\n",
    "                dir_sust[token.lemma_]=\"NA\"\n",
    "                if token not in palabras:\n",
    "                    palabras.append(token)\n",
    "    return dir_sust,palabras"
   ]
  },
  {
   "cell_type": "code",
   "execution_count": 42,
   "metadata": {},
   "outputs": [],
   "source": [
    "\n",
    "tags=[ 'acl',\n",
    " 'acomp',\n",
    " 'advcl',\n",
    " 'advmod',\n",
    " 'amod',\n",
    " 'appos',\n",
    " 'ccomp',\n",
    " 'complm',\n",
    " 'compound',\n",
    " 'conj',\n",
    " 'infmod',\n",
    " 'meta',\n",
    " 'neg',\n",
    " 'nmod',\n",
    " 'nn',\n",
    " 'npadvmod',\n",
    " 'nounmod',\n",
    " 'npmod',\n",
    " 'num',\n",
    " 'number',\n",
    " 'nummod',\n",
    " 'partmod',\n",
    " 'pcomp',\n",
    " 'poss',\n",
    " 'possessive',\n",
    " 'prep',\n",
    " 'quantmod',\n",
    " 'rcmod',\n",
    " 'relcl',\n",
    " 'xcomp',\n",
    " 'adc',\n",
    " 'avc',\n",
    " 'mnr',\n",
    " 'mo',\n",
    " 'ng',\n",
    " 'nmc'\n",
    "]"
   ]
  },
  {
   "cell_type": "code",
   "execution_count": 43,
   "metadata": {},
   "outputs": [],
   "source": [
    "r_t,t_clean_m = representacion_entidades(nlp,textoT)"
   ]
  },
  {
   "cell_type": "code",
   "execution_count": 44,
   "metadata": {},
   "outputs": [
    {
     "data": {
      "text/plain": [
       "{'mackenzie': 'kelvin,executive',\n",
       " 'executive': 'chief,of',\n",
       " 'company': 'talksport,parent,group',\n",
       " 'group': 'wireless',\n",
       " 'force': 'then,reinstate',\n",
       " 'employee': 'his,former',\n",
       " 'reinstate': 'follow',\n",
       " 'outcry': 'from',\n",
       " 'listener': 'talksport'}"
      ]
     },
     "execution_count": 44,
     "metadata": {},
     "output_type": "execute_result"
    }
   ],
   "source": [
    "r_t"
   ]
  },
  {
   "cell_type": "markdown",
   "metadata": {},
   "source": []
  },
  {
   "cell_type": "code",
   "execution_count": 1,
   "metadata": {},
   "outputs": [],
   "source": [
    "from scipy.stats import entropy\n",
    "import numpy as np"
   ]
  },
  {
   "cell_type": "code",
   "execution_count": 9,
   "metadata": {},
   "outputs": [],
   "source": [
    "base = 2  # work in units of bits\n",
    "pk = np.array([2/3, 1/3,0.0,0.0])  # fair coin\n",
    "H = entropy(pk, base=base)"
   ]
  },
  {
   "cell_type": "code",
   "execution_count": 10,
   "metadata": {},
   "outputs": [
    {
     "data": {
      "text/plain": [
       "0.9182958340544894"
      ]
     },
     "execution_count": 10,
     "metadata": {},
     "output_type": "execute_result"
    }
   ],
   "source": [
    "H"
   ]
  },
  {
   "cell_type": "code",
   "execution_count": 4,
   "metadata": {},
   "outputs": [
    {
     "data": {
      "text/plain": [
       "0.5849625007211562"
      ]
     },
     "execution_count": 4,
     "metadata": {},
     "output_type": "execute_result"
    }
   ],
   "source": [
    "qk = np.array([1, 0])  # fair coin\n",
    "entropy(qk,pk,base=base)"
   ]
  },
  {
   "cell_type": "code",
   "execution_count": 5,
   "metadata": {},
   "outputs": [
    {
     "data": {
      "text/plain": [
       "1.5849625007211563"
      ]
     },
     "execution_count": 5,
     "metadata": {},
     "output_type": "execute_result"
    }
   ],
   "source": [
    "qk = np.array([0, 1])  # fair coin\n",
    "entropy(qk,pk,base=base)"
   ]
  },
  {
   "cell_type": "code",
   "execution_count": 6,
   "metadata": {},
   "outputs": [
    {
     "data": {
      "text/plain": [
       "0.0817041659455104"
      ]
     },
     "execution_count": 6,
     "metadata": {},
     "output_type": "execute_result"
    }
   ],
   "source": [
    "qk = np.array([1/2, 1/2])  # fair coin\n",
    "entropy(pk,qk,base=base)"
   ]
  },
  {
   "cell_type": "code",
   "execution_count": 11,
   "metadata": {},
   "outputs": [
    {
     "data": {
      "text/plain": [
       "1"
      ]
     },
     "execution_count": 11,
     "metadata": {},
     "output_type": "execute_result"
    }
   ],
   "source": [
    "a=[0,1,2,3]\n",
    "a.count(1)"
   ]
  },
  {
   "cell_type": "code",
   "execution_count": 12,
   "metadata": {},
   "outputs": [
    {
     "data": {
      "text/plain": [
       "0"
      ]
     },
     "execution_count": 12,
     "metadata": {},
     "output_type": "execute_result"
    }
   ],
   "source": [
    "a.count(4)"
   ]
  }
 ],
 "metadata": {
  "kernelspec": {
   "display_name": "rit",
   "language": "python",
   "name": "python3"
  },
  "language_info": {
   "codemirror_mode": {
    "name": "ipython",
    "version": 3
   },
   "file_extension": ".py",
   "mimetype": "text/x-python",
   "name": "python",
   "nbconvert_exporter": "python",
   "pygments_lexer": "ipython3",
   "version": "3.9.13"
  }
 },
 "nbformat": 4,
 "nbformat_minor": 2
}
