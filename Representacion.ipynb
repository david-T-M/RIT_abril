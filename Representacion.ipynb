{
 "cells": [
  {
   "cell_type": "code",
   "execution_count": 1,
   "metadata": {},
   "outputs": [],
   "source": [
    "import conceptnet_lite\n",
    "conceptnet_lite.connect(\"../OPENAI/data/conceptnet.db\")\n",
    "from conceptnet_lite import Label, edges_for, edges_between"
   ]
  },
  {
   "cell_type": "code",
   "execution_count": 2,
   "metadata": {},
   "outputs": [
    {
     "name": "stderr",
     "output_type": "stream",
     "text": [
      "/home/david/anaconda3/envs/rit/lib/python3.9/site-packages/torch/cuda/__init__.py:138: UserWarning: CUDA initialization: The NVIDIA driver on your system is too old (found version 11060). Please update your GPU driver by downloading and installing a new version from the URL: http://www.nvidia.com/Download/index.aspx Alternatively, go to: https://pytorch.org to install a PyTorch version that has been compiled with your version of the CUDA driver. (Triggered internally at ../c10/cuda/CUDAFunctions.cpp:108.)\n",
      "  return torch._C._cuda_getDeviceCount() > 0\n"
     ]
    }
   ],
   "source": [
    "import spacy\n",
    "nlp = spacy.load(\"en_core_web_md\") # modelo de nlp"
   ]
  },
  {
   "cell_type": "code",
   "execution_count": 3,
   "metadata": {},
   "outputs": [],
   "source": [
    "relaciones_generales=[\"is_a\",\"etymologically_related_to\",\"manner_of\",\"has_a\",\"derived_from\",\"has_property\",\"form_of\",\"causes\",\"has_prerequisite\",\"has_subevent\",\"has_first_subevent\",\"relate_to\",\"similar_to​\"]\n",
    "relaciones_especificas=[\"is_a\",\"manner_of\",\"has_a\",\"derived_from\",\"has_property\",\"form_of\",\"causes\",\"has_prerequisite\",\"has_subevent\",\"has_first_subevent\"]"
   ]
  },
  {
   "cell_type": "code",
   "execution_count": 4,
   "metadata": {},
   "outputs": [],
   "source": [
    "def bag_of_synonyms(word):\n",
    "    sinonimos=set()\n",
    "    try:\n",
    "        for e in edges_for(Label.get(text=word, language='en').concepts, same_language=True):\n",
    "            if e.relation.name == \"synonym\":\n",
    "                if word== e.start.text:\n",
    "                    sinonimos.add(e.end.text)\n",
    "                elif word== e.end.text:\n",
    "                    sinonimos.add(e.start.text)\n",
    "    except:\n",
    "        pass\n",
    "    sinonimos.add(word)\n",
    "    return sinonimos\n",
    "\n",
    "def bag_of_antonyms(word):\n",
    "    antonimos=set()\n",
    "    try:\n",
    "        for e in edges_for(Label.get(text=word, language='en').concepts, same_language=True):\n",
    "            if e.relation.name in [\"antonym\",\"distinc_from\"]:\n",
    "                print(e.start.text,e.relation.name,e.end.text,e.etc['weight'])\n",
    "                if word== e.start.text:\n",
    "                    antonimos.add(e.end.text)\n",
    "                elif word== e.end.text:\n",
    "                    antonimos.add(e.start.text)\n",
    "                \n",
    "    except:\n",
    "        pass\n",
    "    return antonimos\n",
    "\n",
    "def bag_of_hyperonyms(word):\n",
    "    hiperonimos=set()\n",
    "    try:\n",
    "        for e in edges_for(Label.get(text=word, language='en').concepts, same_language=True):\n",
    "            if e.relation.name in relaciones_generales:\n",
    "                if word== e.start.text:\n",
    "                    hiperonimos.add(e.end.text)\n",
    "    except:\n",
    "        pass\n",
    "    return hiperonimos\n",
    "\n",
    "def bag_of_hyponyms(word):\n",
    "    hiponimos=set()\n",
    "    try:\n",
    "        for e in edges_for(Label.get(text=word, language='en').concepts, same_language=True):\n",
    "            if e.relation.name in relaciones_especificas:\n",
    "                if word== e.end.text:\n",
    "                    hiponimos.add(e.start.text)\n",
    "                    print(e.relation.name,e.start.text)\n",
    "    except:\n",
    "        pass\n",
    "    return hiponimos"
   ]
  },
  {
   "cell_type": "code",
   "execution_count": 8,
   "metadata": {},
   "outputs": [],
   "source": [
    "texto=\"Fishermen using poison sodium cyanide have helped destroy estimated 70% reefs\"\n",
    "texto=\"There is no way Marlowe could legally leave Italy, especially after an arrest warrant has been issued for him by the authorities. Assisted by Zaleshoff, he succeeds in making his escape from Milan.\"\n",
    "hipotesis=\"Cyanide fishing linked destruction area reefs\""
   ]
  },
  {
   "cell_type": "code",
   "execution_count": 9,
   "metadata": {},
   "outputs": [
    {
     "name": "stdout",
     "output_type": "stream",
     "text": [
      "['There', 'is', 'no', 'way', 'Marlowe', 'could', 'legally', 'leave', 'Italy', ',', 'especially', 'after', 'an', 'arrest', 'warrant', 'has', 'been', 'issued', 'for', 'him', 'by', 'the', 'authorities', '.', 'Assisted', 'by', 'Zaleshoff', ',', 'he', 'succeeds', 'in', 'making', 'his', 'escape', 'from', 'Milan', '.', '</F>']\n",
      "['PRON', 'VERB', 'DET', 'NOUN', 'PROPN', 'AUX', 'ADV', 'VERB', 'PROPN', 'PUNCT', 'ADV', 'SCONJ', 'DET', 'NOUN', 'NOUN', 'AUX', 'AUX', 'VERB', 'ADP', 'PRON', 'ADP', 'DET', 'NOUN', 'PUNCT', 'VERB', 'ADP', 'PROPN', 'PUNCT', 'PRON', 'VERB', 'ADP', 'VERB', 'PRON', 'NOUN', 'ADP', 'PROPN', 'PUNCT', '<F>']\n",
      "['there', 'be', 'no', 'way', 'Marlowe', 'could', 'legally', 'leave', 'Italy', ',', 'especially', 'after', 'an', 'arrest', 'warrant', 'have', 'be', 'issue', 'for', 'he', 'by', 'the', 'authority', '.', 'assist', 'by', 'Zaleshoff', ',', 'he', 'succeed', 'in', 'make', 'his', 'escape', 'from', 'Milan', '.', '</F>']\n"
     ]
    }
   ],
   "source": [
    "doc = nlp(texto)\n",
    "poses=[]\n",
    "tokens=[]\n",
    "lemmas=[]\n",
    "for token in doc:\n",
    "    poses.append(token.pos_)\n",
    "    tokens.append(token.text)\n",
    "    lemmas.append(token.lemma_)\n",
    "    # if token.pos_ in [\"NOUN\",\"VERB\",\"ADJ\",\"ADV\",\"PRON\",\"PART\",\"PROPN\",\"ADP\",\"NUM\"] or token.dep_==\"neg\":\n",
    "    #     poses.append(token.pos_)\n",
    "    #     tokens.append(token.text)\n",
    "    #     lemmas.append(token.lemma_)\n",
    "    # elif token.text ==\".\":\n",
    "    #     poses.append(token.pos_)\n",
    "    #     tokens.append(token.text)\n",
    "    #     lemmas.append(token.lemma_)\n",
    "    # else:\n",
    "    #     print(token.text,token.pos_,token.dep_)\n",
    "poses.append(\"<F>\")\n",
    "tokens.append(\"</F>\")\n",
    "lemmas.append(\"</F>\")\n",
    "print(tokens)\n",
    "print(poses)\n",
    "print(lemmas)"
   ]
  },
  {
   "cell_type": "code",
   "execution_count": 10,
   "metadata": {},
   "outputs": [
    {
     "name": "stdout",
     "output_type": "stream",
     "text": [
      "Noun phrases: ['no way', 'Marlowe', 'Italy', 'an arrest warrant', 'him', 'the authorities', 'Zaleshoff', 'he', 'his escape', 'Milan']\n",
      "Verbs: ['be', 'leave', 'issue', 'assist', 'succeed', 'make']\n",
      "Marlowe PERSON\n",
      "Italy GPE\n",
      "Zaleshoff ORG\n",
      "Milan GPE\n"
     ]
    }
   ],
   "source": [
    "doc = nlp(texto)\n",
    "\n",
    "# Analyze syntax\n",
    "print(\"Noun phrases:\", [chunk.text for chunk in doc.noun_chunks])\n",
    "print(\"Verbs:\", [token.lemma_ for token in doc if token.pos_ == \"VERB\"])\n",
    "\n",
    "# Find named entities, phrases and concepts\n",
    "for entity in doc.ents:\n",
    "    print(entity.text, entity.label_)"
   ]
  },
  {
   "cell_type": "code",
   "execution_count": 11,
   "metadata": {},
   "outputs": [],
   "source": [
    "verbos_atributos=[\"use\",\"is\",\"dress\",\"in\",\"with\",\"wear\",\"by\",\"of\"]\n",
    "pos_excluyentes=[\"PUNCT\",\"DET\",\"CCONJ\"]"
   ]
  },
  {
   "cell_type": "code",
   "execution_count": 12,
   "metadata": {},
   "outputs": [],
   "source": [
    "def representacion(texto,nlp):\n",
    "    doc =nlp(texto)\n",
    "    poses=[]\n",
    "    tokens=[]\n",
    "    lemmas=[]\n",
    "    children=[]\n",
    "    verb_vincu=[]\n",
    "    for token in doc:\n",
    "        #print(token.text, token.dep_, token.head.text, token.head.pos_,\n",
    "        #    [child for child in token.children])\n",
    "        poses.append(token.pos_)\n",
    "        tokens.append(token.text)\n",
    "        lemmas.append(token.lemma_)\n",
    "        verb_vincu.append(token.head.lemma_)\n",
    "        children.append([child for child in token.children])\n",
    "    poses.append(\"<F>\")\n",
    "    tokens.append(\"</F>\")\n",
    "    lemmas.append(\"</F>\")\n",
    "    children.append(\"</F>\")\n",
    "    verb_vincu.append(\"</F>\")\n",
    "    print(\"tokens\",tokens)\n",
    "    print(\"poses\",poses)\n",
    "    print(\"lemmas\",lemmas)#\n",
    "    print(\"children\",children)\n",
    "    print(\"verbos_vinculantes\",verb_vincu)#\n",
    "    noun_phrase= [chunk.lemma_ for chunk in doc.noun_chunks]\n",
    "    verbs = [token.lemma_ for token in doc if token.pos_ == \"VERB\"]\n",
    "    for n_p in noun_phrase:\n",
    "        print(len(n_p.split(\" \")))\n",
    "        print(n_p)\n",
    "    # Find named entities, phrases and concepts\n",
    "    print(verbs)\n",
    "    for entity in doc.ents:\n",
    "        print(entity.text, entity.label_)\n",
    "    print(\"nodos\")\n",
    "    nodos=[]\n",
    "    i=0\n",
    "    bandera=True\n",
    "    for l in poses:\n",
    "        if bandera==False and l==\"VERB\":\n",
    "            bandera= True\n",
    "            print(\"cambio de direccion\",lemmas[i])\n",
    "        elif bandera==True and l==\"VERB\":\n",
    "            bandera=False\n",
    "            print(\"cambio de direccion\",lemmas[i])\n",
    "        if lemmas[i]!=verb_vincu[i] and poses[i] not in pos_excluyentes:\n",
    "            if bandera==False:\n",
    "                if lemmas[i] not in verbos_atributos and verb_vincu[i] not in verbos_atributos:\n",
    "                    print(lemmas[i],verb_vincu[i])\n",
    "                    nodos.append((lemmas[i],verb_vincu[i]))\n",
    "                elif lemmas[i] not in verbos_atributos and verb_vincu[i] in verbos_atributos:\n",
    "                #print(lemmas.index(verb_vincu[i]))\n",
    "                    print(\"a\",lemmas[i],verb_vincu[i])\n",
    "                    print(lemmas[i],verb_vincu[lemmas.index(verb_vincu[i])])\n",
    "                    nodos.append((lemmas[i],verb_vincu[lemmas.index(verb_vincu[i])]))\n",
    "            else:\n",
    "                if lemmas[i] not in verbos_atributos and verb_vincu[i] not in verbos_atributos:\n",
    "                    print(\"aq\",lemmas[i],verb_vincu[i])\n",
    "                    nodos.append((lemmas[i],verb_vincu[i]))\n",
    "                elif lemmas[i] not in verbos_atributos and verb_vincu[i] in verbos_atributos:\n",
    "                    print(verb_vincu[lemmas.index(verb_vincu[i])],lemmas[i])\n",
    "                    nodos.append((verb_vincu[lemmas.index(verb_vincu[i])],lemmas[i]))\n",
    "        i+=1\n",
    "    return tokens,nodos\n",
    "#    print(nodos)"
   ]
  },
  {
   "cell_type": "code",
   "execution_count": 13,
   "metadata": {},
   "outputs": [],
   "source": [
    "def representacion2(nlp,texto):\n",
    "    doc = nlp(texto.lower())\n",
    "    dir_sust=dict()\n",
    "    palabras=[]\n",
    "    noun_phrase= [chunk.lemma_ for chunk in doc.noun_chunks]\n",
    "    print(noun_phrase)\n",
    "    for token in doc:\n",
    "        print(token.pos_, token.dep_)\n",
    "    verbs = [token.lemma_ for token in doc if token.pos_ == \"VERB\"]\n",
    "    for chunk in doc.noun_chunks:\n",
    "        if chunk.root.lemma_!=chunk.lemma_:\n",
    "            dir_sust[chunk.root.lemma_]=','.join(chunk.lemma_.split()[:-1])\n",
    "        else:\n",
    "            dir_sust[chunk.root.lemma_]=\"NA\"\n",
    "    palabras.extend([chunk.root.lemma_ for chunk in doc.noun_chunks])\n",
    "    palabras.extend(verbs)\n",
    "    return dir_sust,palabras"
   ]
  },
  {
   "cell_type": "code",
   "execution_count": 15,
   "metadata": {},
   "outputs": [
    {
     "name": "stdout",
     "output_type": "stream",
     "text": [
      "['no way', 'marlowe', 'italy', 'an arrest warrant', 'he', 'the authority', 'zaleshoff', 'he', 'his escape', 'milan']\n",
      "PRON expl\n",
      "VERB ROOT\n",
      "DET det\n",
      "NOUN attr\n",
      "PROPN nsubj\n",
      "AUX aux\n",
      "ADV advmod\n",
      "VERB relcl\n",
      "PROPN dobj\n",
      "PUNCT punct\n",
      "ADV advmod\n",
      "SCONJ mark\n",
      "DET det\n",
      "NOUN compound\n",
      "NOUN nsubjpass\n",
      "AUX aux\n",
      "AUX auxpass\n",
      "VERB relcl\n",
      "ADP dative\n",
      "PRON pobj\n",
      "ADP agent\n",
      "DET det\n",
      "NOUN pobj\n",
      "PUNCT punct\n",
      "VERB advcl\n",
      "ADP agent\n",
      "PROPN pobj\n",
      "PUNCT punct\n",
      "PRON nsubj\n",
      "VERB ROOT\n",
      "ADP prep\n",
      "VERB pcomp\n",
      "PRON poss\n",
      "NOUN dobj\n",
      "ADP prep\n",
      "PROPN pobj\n",
      "PUNCT punct\n"
     ]
    },
    {
     "data": {
      "text/plain": [
       "({'way': 'no',\n",
       "  'marlowe': 'NA',\n",
       "  'italy': 'NA',\n",
       "  'warrant': 'an,arrest',\n",
       "  'he': 'NA',\n",
       "  'authority': 'the',\n",
       "  'zaleshoff': 'NA',\n",
       "  'escape': 'his',\n",
       "  'milan': 'NA'},\n",
       " ['way',\n",
       "  'marlowe',\n",
       "  'italy',\n",
       "  'warrant',\n",
       "  'he',\n",
       "  'authority',\n",
       "  'zaleshoff',\n",
       "  'he',\n",
       "  'escape',\n",
       "  'milan',\n",
       "  'be',\n",
       "  'leave',\n",
       "  'issue',\n",
       "  'assist',\n",
       "  'succeed',\n",
       "  'make'])"
      ]
     },
     "execution_count": 15,
     "metadata": {},
     "output_type": "execute_result"
    }
   ],
   "source": [
    "representacion2(nlp,\"There is no way Marlowe could legally leave Italy, especially after an arrest warrant has been issued for him by the authorities. Assisted by Zaleshoff, he succeeds in making his escape from Milan.\")"
   ]
  },
  {
   "cell_type": "code",
   "execution_count": 16,
   "metadata": {},
   "outputs": [
    {
     "data": {
      "text/plain": [
       "['no way',\n",
       " 'Marlowe',\n",
       " 'Italy',\n",
       " 'an arrest warrant',\n",
       " 'he',\n",
       " 'the authority',\n",
       " 'Zaleshoff',\n",
       " 'he',\n",
       " 'his escape',\n",
       " 'Milan']"
      ]
     },
     "execution_count": 16,
     "metadata": {},
     "output_type": "execute_result"
    }
   ],
   "source": [
    "[chunk.lemma_ for chunk in doc.noun_chunks]"
   ]
  },
  {
   "cell_type": "code",
   "execution_count": 17,
   "metadata": {},
   "outputs": [
    {
     "data": {
      "text/plain": [
       "dict"
      ]
     },
     "execution_count": 17,
     "metadata": {},
     "output_type": "execute_result"
    }
   ],
   "source": [
    "dict"
   ]
  },
  {
   "cell_type": "code",
   "execution_count": 18,
   "metadata": {},
   "outputs": [],
   "source": [
    "principales = [chunk.root.lemma_ for chunk in doc.noun_chunks]"
   ]
  },
  {
   "cell_type": "code",
   "execution_count": 19,
   "metadata": {},
   "outputs": [],
   "source": [
    "verbos= [token.lemma_ for token in doc if token.pos_ == \"VERB\"]"
   ]
  },
  {
   "cell_type": "code",
   "execution_count": 20,
   "metadata": {},
   "outputs": [],
   "source": [
    "principales.extend(verbos)"
   ]
  },
  {
   "cell_type": "code",
   "execution_count": 21,
   "metadata": {},
   "outputs": [
    {
     "data": {
      "text/plain": [
       "['way',\n",
       " 'Marlowe',\n",
       " 'Italy',\n",
       " 'warrant',\n",
       " 'he',\n",
       " 'authority',\n",
       " 'Zaleshoff',\n",
       " 'he',\n",
       " 'escape',\n",
       " 'Milan',\n",
       " 'be',\n",
       " 'leave',\n",
       " 'issue',\n",
       " 'assist',\n",
       " 'succeed',\n",
       " 'make']"
      ]
     },
     "execution_count": 21,
     "metadata": {},
     "output_type": "execute_result"
    }
   ],
   "source": [
    "principales"
   ]
  },
  {
   "cell_type": "code",
   "execution_count": null,
   "metadata": {},
   "outputs": [],
   "source": []
  },
  {
   "cell_type": "code",
   "execution_count": 22,
   "metadata": {},
   "outputs": [
    {
     "data": {
      "text/plain": [
       "['there',\n",
       " 'be',\n",
       " 'no',\n",
       " 'way',\n",
       " 'Marlowe',\n",
       " 'could',\n",
       " 'legally',\n",
       " 'leave',\n",
       " 'Italy',\n",
       " ',',\n",
       " 'especially',\n",
       " 'after',\n",
       " 'an',\n",
       " 'arrest',\n",
       " 'warrant',\n",
       " 'have',\n",
       " 'be',\n",
       " 'issue',\n",
       " 'for',\n",
       " 'he',\n",
       " 'by',\n",
       " 'the',\n",
       " 'authority',\n",
       " '.',\n",
       " 'assist',\n",
       " 'by',\n",
       " 'Zaleshoff',\n",
       " ',',\n",
       " 'he',\n",
       " 'succeed',\n",
       " 'in',\n",
       " 'make',\n",
       " 'his',\n",
       " 'escape',\n",
       " 'from',\n",
       " 'Milan',\n",
       " '.',\n",
       " '</F>']"
      ]
     },
     "execution_count": 22,
     "metadata": {},
     "output_type": "execute_result"
    }
   ],
   "source": [
    "lemmas"
   ]
  },
  {
   "cell_type": "code",
   "execution_count": null,
   "metadata": {},
   "outputs": [],
   "source": []
  },
  {
   "cell_type": "code",
   "execution_count": 23,
   "metadata": {},
   "outputs": [
    {
     "data": {
      "text/plain": [
       "[(), (), (), (), (), (), (), (), (), ()]"
      ]
     },
     "execution_count": 23,
     "metadata": {},
     "output_type": "execute_result"
    }
   ],
   "source": [
    "[chunk.conjuncts for chunk in doc.noun_chunks]"
   ]
  },
  {
   "cell_type": "code",
   "execution_count": 24,
   "metadata": {},
   "outputs": [],
   "source": [
    "texto=\"A man wearing a blue shirt, black apron, eyeglasses and a mask is handling food in a tray.\"\n",
    "#texto=\"A stuffed animal on the couch.\"\n",
    "# texto=\"The sale was made to pay Yuko's US$ 27.5 billion tax bill, Yuganskneftegaz was originally sold for US$ 9.4 billion to a little known company Baikalfinansgroup which was later bought by the Russian state-owned oil company Rosneft .\"\n",
    "#texto=\"Yuganskneftegaz cost US$ 27.5 billion.\"\n",
    "#texto=\"A group of four children pose on a muddy beach, smiling and making faces.\"\n",
    "# texto=\"A guy in glasses is biting into a pink marshmallow chick while somebody else is puckering their lips out wanting a bite.\"\n",
    "#texto=\"A person in appropriate institution protection works with meals.\"\n",
    "# texto=\"Someone splashing in the water.\"\n",
    "# #texto=\"Someone is having a picnic near the lake.\"\n",
    "# texto=\"Female mosquitoes become infected with the malaria parasite when they draw blood from humans with malaria. The insects can then pass this on to other humans they bite, but do not get sick themselves\"\n",
    "# texto=\"Two children play in the snow by the side of the road.\"\n",
    "#texto=\"A shirtless man with cropped hair smokes a cigarette and ties a plastic bag.\"\n",
    "#texto=\"The man is not wearing a shirt.\"\n",
    "# texto=\"A young dark-haired woman with red sun visor holding an open white umbrella amidst a crowd of people\"\n",
    "# texto=\"A raven haired woman is seen by the crowd holding a white opened umbrella.\"\n",
    "#texto=\"Fishermen using poison sodium cyanide have helped destroy estimated 70 reefs\"\n",
    "texto=\"Claude Chabrol (born June 24, 1930) is a French movie director and has become well-known in the 40 years since his first film, Le Beau Serge , for his chilling tales of murder, including Le Boucher .\"\n",
    "#texto=\"Le Beau Serge was directed by Chabrol.\"\n",
    "texto=\"Le Boucher was made by a French movie director.\""
   ]
  },
  {
   "cell_type": "code",
   "execution_count": 25,
   "metadata": {},
   "outputs": [
    {
     "name": "stdout",
     "output_type": "stream",
     "text": [
      "tokens ['le', 'boucher', 'was', 'made', 'by', 'a', 'french', 'movie', 'director', '.', '</F>']\n",
      "poses ['X', 'PROPN', 'AUX', 'VERB', 'ADP', 'DET', 'ADJ', 'NOUN', 'NOUN', 'PUNCT', '<F>']\n",
      "lemmas ['le', 'boucher', 'be', 'make', 'by', 'a', 'french', 'movie', 'director', '.', '</F>']\n",
      "children [[], [le], [], [boucher, was, by, .], [director], [], [], [], [a, french, movie], [], '</F>']\n",
      "verbos_vinculantes ['boucher', 'make', 'make', 'make', 'make', 'director', 'director', 'director', 'by', 'make', '</F>']\n",
      "2\n",
      "le boucher\n",
      "4\n",
      "a french movie director\n",
      "['make']\n",
      "le boucher PERSON\n",
      "french NORP\n",
      "nodos\n",
      "aq le boucher\n",
      "aq boucher make\n",
      "aq be make\n",
      "cambio de direccion make\n",
      "french director\n",
      "movie director\n",
      "a director by\n",
      "director make\n"
     ]
    }
   ],
   "source": [
    "tokens,nodos=representacion(texto.lower(),nlp)"
   ]
  },
  {
   "cell_type": "code",
   "execution_count": 26,
   "metadata": {},
   "outputs": [
    {
     "name": "stdout",
     "output_type": "stream",
     "text": [
      "['le boucher', 'a french movie director']\n",
      "X compound\n",
      "PROPN nsubjpass\n",
      "AUX auxpass\n",
      "VERB ROOT\n",
      "ADP agent\n",
      "DET det\n",
      "ADJ amod\n",
      "NOUN compound\n",
      "NOUN pobj\n",
      "PUNCT punct\n"
     ]
    },
    {
     "data": {
      "text/plain": [
       "({'boucher': 'le', 'director': 'a,french,movie'},\n",
       " ['boucher', 'director', 'make'])"
      ]
     },
     "execution_count": 26,
     "metadata": {},
     "output_type": "execute_result"
    }
   ],
   "source": [
    "representacion2(nlp,texto)"
   ]
  },
  {
   "cell_type": "code",
   "execution_count": 27,
   "metadata": {},
   "outputs": [],
   "source": [
    "h=\"Fishermen using poison sodium cyanide have helped destroy estimated 70 reefs\"\n",
    "h=\"Cyanide fishing linked destruction area reefs\"\n",
    "h=\"The woman is not going to finish the race.\"\n",
    "h=\"A gymnast using a set of paralleled bars.\"\n",
    "h=\"Claude Chabrol (born June 24, 1930) is a French movie director and has become well-known in the 40 years since his first film, Le Beau Serge , for his chilling tales of murder, including Le Boucher .\""
   ]
  },
  {
   "cell_type": "code",
   "execution_count": 28,
   "metadata": {},
   "outputs": [
    {
     "name": "stdout",
     "output_type": "stream",
     "text": [
      "tokens ['claude', 'chabrol', '(', 'born', 'june', '24', ',', '1930', ')', 'is', 'a', 'french', 'movie', 'director', 'and', 'has', 'become', 'well', '-', 'known', 'in', 'the', '40', 'years', 'since', 'his', 'first', 'film', ',', 'le', 'beau', 'serge', ',', 'for', 'his', 'chilling', 'tales', 'of', 'murder', ',', 'including', 'le', 'boucher', '.', '</F>']\n",
      "poses ['PROPN', 'PROPN', 'PUNCT', 'VERB', 'PROPN', 'NUM', 'PUNCT', 'NUM', 'PUNCT', 'AUX', 'DET', 'ADJ', 'NOUN', 'NOUN', 'CCONJ', 'AUX', 'VERB', 'ADV', 'PUNCT', 'VERB', 'ADP', 'DET', 'NUM', 'NOUN', 'SCONJ', 'PRON', 'ADJ', 'NOUN', 'PUNCT', 'PROPN', 'PROPN', 'PROPN', 'PUNCT', 'ADP', 'PRON', 'ADJ', 'NOUN', 'ADP', 'NOUN', 'PUNCT', 'VERB', 'X', 'PROPN', 'PUNCT', '<F>']\n",
      "lemmas ['claude', 'chabrol', '(', 'bear', 'june', '24', ',', '1930', ')', 'be', 'a', 'french', 'movie', 'director', 'and', 'have', 'become', 'well', '-', 'know', 'in', 'the', '40', 'year', 'since', 'his', 'first', 'film', ',', 'le', 'beau', 'serge', ',', 'for', 'his', 'chilling', 'tale', 'of', 'murder', ',', 'include', 'le', 'boucher', '.', '</F>']\n",
      "children [[], [claude, (, born, )], [], [june], [24, ,, 1930], [], [], [], [], [chabrol, director, and, become, .], [], [], [], [a, french, movie], [], [], [has, known, since], [], [], [well, -, in], [years], [], [], [the, 40], [film], [], [], [his, first, ,, serge, ,, for], [], [], [le], [beau], [], [tales], [], [], [his, chilling, of, ,, including], [murder], [], [], [boucher], [], [le], [], '</F>']\n",
      "verbos_vinculantes ['chabrol', 'be', 'chabrol', 'chabrol', 'bear', 'june', 'june', 'june', 'chabrol', 'be', 'director', 'director', 'director', 'be', 'be', 'become', 'be', 'know', 'know', 'become', 'know', 'year', 'year', 'in', 'become', 'film', 'film', 'since', 'film', 'beau', 'serge', 'film', 'film', 'film', 'tale', 'tale', 'for', 'tale', 'of', 'tale', 'tale', 'boucher', 'include', 'be', '</F>']\n",
      "2\n",
      "claude chabrol\n",
      "4\n",
      "a french movie director\n",
      "3\n",
      "the 40 year\n",
      "3\n",
      "his first film\n",
      "3\n",
      "le beau serge\n",
      "3\n",
      "his chilling tale\n",
      "1\n",
      "murder\n",
      "2\n",
      "le boucher\n",
      "['bear', 'become', 'know', 'include']\n",
      "claude chabrol PERSON\n",
      "june 24, 1930 DATE\n",
      "french NORP\n",
      "the 40 years DATE\n",
      "first ORDINAL\n",
      "le boucher PERSON\n",
      "nodos\n",
      "aq claude chabrol\n",
      "aq chabrol be\n",
      "cambio de direccion bear\n",
      "bear chabrol\n",
      "june bear\n",
      "24 june\n",
      "1930 june\n",
      "french director\n",
      "movie director\n",
      "director be\n",
      "have become\n",
      "cambio de direccion become\n",
      "aq become be\n",
      "aq well know\n",
      "cambio de direccion know\n",
      "know become\n",
      "40 year\n",
      "a year in\n",
      "year know\n",
      "since become\n",
      "his film\n",
      "first film\n",
      "film since\n",
      "le beau\n",
      "beau serge\n",
      "serge film\n",
      "for film\n",
      "his tale\n",
      "chilling tale\n",
      "tale for\n",
      "a murder of\n",
      "murder tale\n",
      "cambio de direccion include\n",
      "aq include tale\n",
      "aq le boucher\n",
      "aq boucher include\n"
     ]
    }
   ],
   "source": [
    "tokens,nodos=representacion(h.lower(),nlp)"
   ]
  },
  {
   "cell_type": "code",
   "execution_count": 29,
   "metadata": {},
   "outputs": [
    {
     "data": {
      "text/plain": [
       "['claude',\n",
       " 'chabrol',\n",
       " '(',\n",
       " 'born',\n",
       " 'june',\n",
       " '24',\n",
       " ',',\n",
       " '1930',\n",
       " ')',\n",
       " 'is',\n",
       " 'a',\n",
       " 'french',\n",
       " 'movie',\n",
       " 'director',\n",
       " 'and',\n",
       " 'has',\n",
       " 'become',\n",
       " 'well',\n",
       " '-',\n",
       " 'known',\n",
       " 'in',\n",
       " 'the',\n",
       " '40',\n",
       " 'years',\n",
       " 'since',\n",
       " 'his',\n",
       " 'first',\n",
       " 'film',\n",
       " ',',\n",
       " 'le',\n",
       " 'beau',\n",
       " 'serge',\n",
       " ',',\n",
       " 'for',\n",
       " 'his',\n",
       " 'chilling',\n",
       " 'tales',\n",
       " 'of',\n",
       " 'murder',\n",
       " ',',\n",
       " 'including',\n",
       " 'le',\n",
       " 'boucher',\n",
       " '.',\n",
       " '</F>']"
      ]
     },
     "execution_count": 29,
     "metadata": {},
     "output_type": "execute_result"
    }
   ],
   "source": [
    "tokens"
   ]
  },
  {
   "cell_type": "code",
   "execution_count": 30,
   "metadata": {},
   "outputs": [
    {
     "name": "stdout",
     "output_type": "stream",
     "text": [
      "Los vértices de G son ['claude', 'chabrol', 'be', 'bear', 'june', '24', '1930', 'french', 'director', 'movie', 'have', 'become', 'well', 'know', '40', 'year', 'since', 'his', 'film', 'first', 'le', 'beau', 'serge', 'for', 'tale', 'chilling', 'murder', 'include', 'boucher']\n",
      "Las aristas de G son [('claude', 'chabrol'), ('chabrol', 'be'), ('bear', 'chabrol'), ('june', 'bear'), ('24', 'june'), ('1930', 'june'), ('french', 'director'), ('director', 'be'), ('movie', 'director'), ('have', 'become'), ('become', 'be'), ('well', 'know'), ('know', 'become'), ('40', 'year'), ('year', 'know'), ('since', 'become'), ('his', 'film'), ('his', 'tale'), ('film', 'since'), ('first', 'film'), ('le', 'beau'), ('le', 'boucher'), ('beau', 'serge'), ('serge', 'film'), ('for', 'film'), ('tale', 'for'), ('chilling', 'tale'), ('murder', 'tale'), ('include', 'tale'), ('boucher', 'include')]\n"
     ]
    }
   ],
   "source": [
    "import networkx as nx\n",
    "\n",
    "G=nx.DiGraph()\n",
    "G.add_edges_from(nodos)\n",
    "\n",
    "print(\"Los vértices de G son {}\".format(list(G.nodes)))\n",
    "print(\"Las aristas de G son {}\".format(list(G.edges)))"
   ]
  },
  {
   "cell_type": "code",
   "execution_count": 31,
   "metadata": {},
   "outputs": [
    {
     "data": {
      "image/png": "[encoded data removed]",
      "text/plain": [
       "<Figure size 640x480 with 1 Axes>"
      ]
     },
     "metadata": {},
     "output_type": "display_data"
    }
   ],
   "source": [
    "nx.draw(G,with_labels=True)"
   ]
  },
  {
   "cell_type": "code",
   "execution_count": 32,
   "metadata": {},
   "outputs": [
    {
     "data": {
      "text/plain": [
       "('tale', 5)"
      ]
     },
     "execution_count": 32,
     "metadata": {},
     "output_type": "execute_result"
    }
   ],
   "source": [
    "def maximo_degree(G):\n",
    "    p=0\n",
    "    for n,w in list(G.degree()):\n",
    "        if p<=w:\n",
    "            max=n\n",
    "            p=w\n",
    "    return max,p\n",
    "maximo_degree(G)"
   ]
  },
  {
   "cell_type": "code",
   "execution_count": 33,
   "metadata": {},
   "outputs": [
    {
     "name": "stdout",
     "output_type": "stream",
     "text": [
      "('claude', 'chabrol')\n",
      "('chabrol', 'be')\n",
      "('bear', 'chabrol')\n",
      "('june', 'bear')\n",
      "('24', 'june')\n",
      "('1930', 'june')\n",
      "('french', 'director')\n",
      "('movie', 'director')\n",
      "('director', 'be')\n",
      "('have', 'become')\n",
      "('become', 'be')\n",
      "('well', 'know')\n",
      "('know', 'become')\n",
      "('40', 'year')\n",
      "('year', 'know')\n",
      "('since', 'become')\n",
      "('his', 'film')\n",
      "('first', 'film')\n",
      "('film', 'since')\n",
      "('le', 'beau')\n",
      "('beau', 'serge')\n",
      "('serge', 'film')\n",
      "('for', 'film')\n",
      "('his', 'tale')\n",
      "('chilling', 'tale')\n",
      "('tale', 'for')\n",
      "('murder', 'tale')\n",
      "('include', 'tale')\n",
      "('le', 'boucher')\n",
      "('boucher', 'include')\n"
     ]
    }
   ],
   "source": [
    "for n in nodos:\n",
    "    print(n)"
   ]
  },
  {
   "cell_type": "code",
   "execution_count": 31,
   "metadata": {},
   "outputs": [
    {
     "data": {
      "image/png": "[encoded data removed]",
      "text/plain": [
       "<Figure size 640x480 with 1 Axes>"
      ]
     },
     "metadata": {},
     "output_type": "display_data"
    }
   ],
   "source": [
    "nx.draw(G,with_labels=True)"
   ]
  },
  {
   "cell_type": "code",
   "execution_count": 32,
   "metadata": {},
   "outputs": [
    {
     "ename": "NetworkXError",
     "evalue": "The node yuganskneftegaz is not in the digraph.",
     "output_type": "error",
     "traceback": [
      "\u001b[0;31m---------------------------------------------------------------------------\u001b[0m",
      "\u001b[0;31mKeyError\u001b[0m                                  Traceback (most recent call last)",
      "File \u001b[0;32m~/anaconda3/envs/rit/lib/python3.9/site-packages/networkx/classes/digraph.py:899\u001b[0m, in \u001b[0;36mDiGraph.successors\u001b[0;34m(self, n)\u001b[0m\n\u001b[1;32m    898\u001b[0m \u001b[38;5;28;01mtry\u001b[39;00m:\n\u001b[0;32m--> 899\u001b[0m     \u001b[38;5;28;01mreturn\u001b[39;00m \u001b[38;5;28miter\u001b[39m(\u001b[38;5;28;43mself\u001b[39;49m\u001b[38;5;241;43m.\u001b[39;49m\u001b[43m_succ\u001b[49m\u001b[43m[\u001b[49m\u001b[43mn\u001b[49m\u001b[43m]\u001b[49m)\n\u001b[1;32m    900\u001b[0m \u001b[38;5;28;01mexcept\u001b[39;00m \u001b[38;5;167;01mKeyError\u001b[39;00m \u001b[38;5;28;01mas\u001b[39;00m err:\n",
      "\u001b[0;31mKeyError\u001b[0m: 'yuganskneftegaz'",
      "\nThe above exception was the direct cause of the following exception:\n",
      "\u001b[0;31mNetworkXError\u001b[0m                             Traceback (most recent call last)",
      "Cell \u001b[0;32mIn[32], line 1\u001b[0m\n\u001b[0;32m----> 1\u001b[0m \u001b[38;5;28mlist\u001b[39m(\u001b[43mG\u001b[49m\u001b[38;5;241;43m.\u001b[39;49m\u001b[43mneighbors\u001b[49m\u001b[43m(\u001b[49m\u001b[38;5;124;43m\"\u001b[39;49m\u001b[38;5;124;43myuganskneftegaz\u001b[39;49m\u001b[38;5;124;43m\"\u001b[39;49m\u001b[43m)\u001b[49m)\n",
      "File \u001b[0;32m~/anaconda3/envs/rit/lib/python3.9/site-packages/networkx/classes/digraph.py:901\u001b[0m, in \u001b[0;36mDiGraph.successors\u001b[0;34m(self, n)\u001b[0m\n\u001b[1;32m    899\u001b[0m     \u001b[38;5;28;01mreturn\u001b[39;00m \u001b[38;5;28miter\u001b[39m(\u001b[38;5;28mself\u001b[39m\u001b[38;5;241m.\u001b[39m_succ[n])\n\u001b[1;32m    900\u001b[0m \u001b[38;5;28;01mexcept\u001b[39;00m \u001b[38;5;167;01mKeyError\u001b[39;00m \u001b[38;5;28;01mas\u001b[39;00m err:\n\u001b[0;32m--> 901\u001b[0m     \u001b[38;5;28;01mraise\u001b[39;00m NetworkXError(\u001b[38;5;124mf\u001b[39m\u001b[38;5;124m\"\u001b[39m\u001b[38;5;124mThe node \u001b[39m\u001b[38;5;132;01m{\u001b[39;00mn\u001b[38;5;132;01m}\u001b[39;00m\u001b[38;5;124m is not in the digraph.\u001b[39m\u001b[38;5;124m\"\u001b[39m) \u001b[38;5;28;01mfrom\u001b[39;00m \u001b[38;5;21;01merr\u001b[39;00m\n",
      "\u001b[0;31mNetworkXError\u001b[0m: The node yuganskneftegaz is not in the digraph."
     ]
    }
   ],
   "source": [
    "list(G.neighbors(\"yuganskneftegaz\"))"
   ]
  },
  {
   "cell_type": "code",
   "execution_count": 33,
   "metadata": {},
   "outputs": [
    {
     "ename": "NetworkXError",
     "evalue": "The node sell is not in the digraph.",
     "output_type": "error",
     "traceback": [
      "\u001b[0;31m---------------------------------------------------------------------------\u001b[0m",
      "\u001b[0;31mKeyError\u001b[0m                                  Traceback (most recent call last)",
      "File \u001b[0;32m~/anaconda3/envs/rit/lib/python3.9/site-packages/networkx/classes/digraph.py:927\u001b[0m, in \u001b[0;36mDiGraph.predecessors\u001b[0;34m(self, n)\u001b[0m\n\u001b[1;32m    926\u001b[0m \u001b[38;5;28;01mtry\u001b[39;00m:\n\u001b[0;32m--> 927\u001b[0m     \u001b[38;5;28;01mreturn\u001b[39;00m \u001b[38;5;28miter\u001b[39m(\u001b[38;5;28;43mself\u001b[39;49m\u001b[38;5;241;43m.\u001b[39;49m\u001b[43m_pred\u001b[49m\u001b[43m[\u001b[49m\u001b[43mn\u001b[49m\u001b[43m]\u001b[49m)\n\u001b[1;32m    928\u001b[0m \u001b[38;5;28;01mexcept\u001b[39;00m \u001b[38;5;167;01mKeyError\u001b[39;00m \u001b[38;5;28;01mas\u001b[39;00m err:\n",
      "\u001b[0;31mKeyError\u001b[0m: 'sell'",
      "\nThe above exception was the direct cause of the following exception:\n",
      "\u001b[0;31mNetworkXError\u001b[0m                             Traceback (most recent call last)",
      "Cell \u001b[0;32mIn[33], line 1\u001b[0m\n\u001b[0;32m----> 1\u001b[0m \u001b[38;5;28mlist\u001b[39m(\u001b[43mG\u001b[49m\u001b[38;5;241;43m.\u001b[39;49m\u001b[43mpredecessors\u001b[49m\u001b[43m(\u001b[49m\u001b[38;5;124;43m\"\u001b[39;49m\u001b[38;5;124;43msell\u001b[39;49m\u001b[38;5;124;43m\"\u001b[39;49m\u001b[43m)\u001b[49m)\n",
      "File \u001b[0;32m~/anaconda3/envs/rit/lib/python3.9/site-packages/networkx/classes/digraph.py:929\u001b[0m, in \u001b[0;36mDiGraph.predecessors\u001b[0;34m(self, n)\u001b[0m\n\u001b[1;32m    927\u001b[0m     \u001b[38;5;28;01mreturn\u001b[39;00m \u001b[38;5;28miter\u001b[39m(\u001b[38;5;28mself\u001b[39m\u001b[38;5;241m.\u001b[39m_pred[n])\n\u001b[1;32m    928\u001b[0m \u001b[38;5;28;01mexcept\u001b[39;00m \u001b[38;5;167;01mKeyError\u001b[39;00m \u001b[38;5;28;01mas\u001b[39;00m err:\n\u001b[0;32m--> 929\u001b[0m     \u001b[38;5;28;01mraise\u001b[39;00m NetworkXError(\u001b[38;5;124mf\u001b[39m\u001b[38;5;124m\"\u001b[39m\u001b[38;5;124mThe node \u001b[39m\u001b[38;5;132;01m{\u001b[39;00mn\u001b[38;5;132;01m}\u001b[39;00m\u001b[38;5;124m is not in the digraph.\u001b[39m\u001b[38;5;124m\"\u001b[39m) \u001b[38;5;28;01mfrom\u001b[39;00m \u001b[38;5;21;01merr\u001b[39;00m\n",
      "\u001b[0;31mNetworkXError\u001b[0m: The node sell is not in the digraph."
     ]
    }
   ],
   "source": [
    "list(G.predecessors(\"sell\"))"
   ]
  },
  {
   "cell_type": "code",
   "execution_count": 34,
   "metadata": {},
   "outputs": [
    {
     "ename": "NetworkXError",
     "evalue": "The node yuganskneftegaz is not in the digraph.",
     "output_type": "error",
     "traceback": [
      "\u001b[0;31m---------------------------------------------------------------------------\u001b[0m",
      "\u001b[0;31mKeyError\u001b[0m                                  Traceback (most recent call last)",
      "File \u001b[0;32m~/anaconda3/envs/rit/lib/python3.9/site-packages/networkx/classes/digraph.py:899\u001b[0m, in \u001b[0;36mDiGraph.successors\u001b[0;34m(self, n)\u001b[0m\n\u001b[1;32m    898\u001b[0m \u001b[38;5;28;01mtry\u001b[39;00m:\n\u001b[0;32m--> 899\u001b[0m     \u001b[38;5;28;01mreturn\u001b[39;00m \u001b[38;5;28miter\u001b[39m(\u001b[38;5;28;43mself\u001b[39;49m\u001b[38;5;241;43m.\u001b[39;49m\u001b[43m_succ\u001b[49m\u001b[43m[\u001b[49m\u001b[43mn\u001b[49m\u001b[43m]\u001b[49m)\n\u001b[1;32m    900\u001b[0m \u001b[38;5;28;01mexcept\u001b[39;00m \u001b[38;5;167;01mKeyError\u001b[39;00m \u001b[38;5;28;01mas\u001b[39;00m err:\n",
      "\u001b[0;31mKeyError\u001b[0m: 'yuganskneftegaz'",
      "\nThe above exception was the direct cause of the following exception:\n",
      "\u001b[0;31mNetworkXError\u001b[0m                             Traceback (most recent call last)",
      "Cell \u001b[0;32mIn[34], line 1\u001b[0m\n\u001b[0;32m----> 1\u001b[0m \u001b[38;5;28mlist\u001b[39m(\u001b[43mG\u001b[49m\u001b[38;5;241;43m.\u001b[39;49m\u001b[43msuccessors\u001b[49m\u001b[43m(\u001b[49m\u001b[38;5;124;43m\"\u001b[39;49m\u001b[38;5;124;43myuganskneftegaz\u001b[39;49m\u001b[38;5;124;43m\"\u001b[39;49m\u001b[43m)\u001b[49m)\n",
      "File \u001b[0;32m~/anaconda3/envs/rit/lib/python3.9/site-packages/networkx/classes/digraph.py:901\u001b[0m, in \u001b[0;36mDiGraph.successors\u001b[0;34m(self, n)\u001b[0m\n\u001b[1;32m    899\u001b[0m     \u001b[38;5;28;01mreturn\u001b[39;00m \u001b[38;5;28miter\u001b[39m(\u001b[38;5;28mself\u001b[39m\u001b[38;5;241m.\u001b[39m_succ[n])\n\u001b[1;32m    900\u001b[0m \u001b[38;5;28;01mexcept\u001b[39;00m \u001b[38;5;167;01mKeyError\u001b[39;00m \u001b[38;5;28;01mas\u001b[39;00m err:\n\u001b[0;32m--> 901\u001b[0m     \u001b[38;5;28;01mraise\u001b[39;00m NetworkXError(\u001b[38;5;124mf\u001b[39m\u001b[38;5;124m\"\u001b[39m\u001b[38;5;124mThe node \u001b[39m\u001b[38;5;132;01m{\u001b[39;00mn\u001b[38;5;132;01m}\u001b[39;00m\u001b[38;5;124m is not in the digraph.\u001b[39m\u001b[38;5;124m\"\u001b[39m) \u001b[38;5;28;01mfrom\u001b[39;00m \u001b[38;5;21;01merr\u001b[39;00m\n",
      "\u001b[0;31mNetworkXError\u001b[0m: The node yuganskneftegaz is not in the digraph."
     ]
    }
   ],
   "source": [
    "list(G.successors(\"yuganskneftegaz\"))"
   ]
  },
  {
   "cell_type": "code",
   "execution_count": 34,
   "metadata": {},
   "outputs": [],
   "source": [
    "texto=\"An old man with a package poses in front of an advertisement.\"\n",
    "texto=\"A man poses in front of an ad for beer.\"\n",
    "texto=\"A man wearing a blue shirt, black apron, eyeglasses, and a mask is handling food in a tray.\"\n",
    "texto=\"A man dressed in a red shirt and black tie stands up at a wedding reception to make a speech.\"\n",
    "texto=\"Two children play in the snow by the side of the road.\"\n",
    "texto=\"A child in a maroon shirt playing next to a fountain.\"\n",
    "#texto=\"The child is getting wet from the fountain.\"\n",
    "# texto=\"The man is not wearing a shirt.\"\n",
    "# texto=\"The father and son are repairing the sign.\"\n",
    "# texto=\"A man and a child painting a post.\"\n",
    "# texto=\"A group of people stares at a wall that is filled with drawings in a building.\"\n",
    "# #texto=\"A group of people analyze art together\"\n",
    "# texto=\"A person obscured in shadow in a gymnasium.\"\n",
    "# texto=\"The person is trying to be sneaky.\"\n",
    "texto=\"A man wearing a blue shirt, black apron, eyeglasses, and a mask is handling food in a tray.\"\n",
    "texto=\"a guy in a red top and tie makes a speech\"\n",
    "texto=\"A man dressed in a red shirt and black tie stands up at a wedding reception to make a speech.\"\n",
    "texto=\"A young boy runs across a road in front of a sky blue building with barred windows.\"\n",
    "texto=\"An Asian woman in a purple shirt preparing a bowl of food for the younger Asian boy sitting near buy, while an Asian man eats a roll and prepares to take some food up with his chopsticks.\"\n",
    "#texto=\"A woman is preparing food for a child.\"\n",
    "texto=\"Fishermen using poison sodium cyanide have helped destroy estimated 70 reefs\"\n",
    "texto=\"The woman is not going to finish the race.\"\n",
    "#texto=\"Cyanide fishing linked destruction area reefs\"\n",
    "texto=\"Dr Wood led a courageous and committed team in the fight to save 28 patients suffering from between two and 92 per cent body burns, deadly infections and delayed shock. As well as receiving much praise from both her own patients and the media, she also attracted controversy among other burns surgeons due to the fact that spray-on skin had not yet been subjected to clinical trials.\"\n",
    "texto=\"Born near Yirrkala in the Northern Territory, Yunupingu is one of the Gumatj clan of the Yolngu people.\"\n",
    "#texto=\"Yunupingu is a member of the Yolngu people.\"\n",
    "texto=\"In the Super Nintendo Entertainment System release of the game as Final Fantasy III , Biggs' name was Vicks.\"\n",
    "texto=\"Final Fantasy III is produced by the Super Nintendo Entertainment System.\"\n",
    "texto=\"A gymnast using a set of paralleled bars.\"\n",
    "texto=\"A young gymnast is performing.\"\n",
    "texto=\"Claude Chabrol (born June 24, 1930) is a French movie director and has become well-known in the 40 years since his first film, Le Beau Serge , for his chilling tales of murder, including Le Boucher .\"\n",
    "texto=\"Le Beau Serge was directed by Chabrol.\""
   ]
  },
  {
   "cell_type": "code",
   "execution_count": 35,
   "metadata": {},
   "outputs": [],
   "source": [
    "doc = nlp(texto)"
   ]
  },
  {
   "cell_type": "code",
   "execution_count": 36,
   "metadata": {},
   "outputs": [
    {
     "data": {
      "text/plain": [
       "'Le Beau Serge was directed by Chabrol.'"
      ]
     },
     "execution_count": 36,
     "metadata": {},
     "output_type": "execute_result"
    }
   ],
   "source": [
    "texto"
   ]
  },
  {
   "cell_type": "code",
   "execution_count": 37,
   "metadata": {},
   "outputs": [
    {
     "name": "stdout",
     "output_type": "stream",
     "text": [
      "Le compound Beau PROPN [] [Beau, Serge, directed]\n",
      "Beau compound Serge PROPN [Le] [Serge, directed]\n",
      "Serge nsubjpass directed VERB [Beau] [directed]\n",
      "was auxpass directed VERB [] [directed]\n",
      "directed ROOT directed VERB [Serge, was, by, .] []\n",
      "by agent directed VERB [Chabrol] [directed]\n",
      "Chabrol pobj by ADP [] [by, directed]\n",
      ". punct directed VERB [] [directed]\n"
     ]
    }
   ],
   "source": [
    "for token in doc: #revisar esta dbido a que vincula los verbos para hacer el procesamiento\n",
    "    print(token.text, token.dep_, token.head.text, token.head.pos_,\n",
    "            [child for child in token.children],[f for f in token.ancestors])"
   ]
  },
  {
   "cell_type": "code",
   "execution_count": 38,
   "metadata": {},
   "outputs": [],
   "source": [
    "tags=[ 'acl',\n",
    " 'acomp',\n",
    " 'advcl',\n",
    " 'advmod',\n",
    " 'amod',\n",
    " 'appos',\n",
    " 'ccomp',\n",
    " 'complm',\n",
    " 'compound',\n",
    " 'conj',\n",
    " 'infmod',\n",
    " 'meta',\n",
    " 'neg',\n",
    " 'nmod',\n",
    " 'nn',\n",
    " 'npadvmod',\n",
    " 'nounmod',\n",
    " 'npmod',\n",
    " 'num',\n",
    " 'number',\n",
    " 'nummod',\n",
    " 'partmod',\n",
    " 'pcomp',\n",
    " 'poss',\n",
    " 'possessive',\n",
    " 'prep',\n",
    " 'quantmod',\n",
    " 'rcmod',\n",
    " 'relcl',\n",
    " 'xcomp',\n",
    " 'adc',\n",
    " 'avc',\n",
    " 'mnr',\n",
    " 'mo',\n",
    " 'ng',\n",
    " 'nmc'\n",
    "]"
   ]
  },
  {
   "cell_type": "code",
   "execution_count": 40,
   "metadata": {},
   "outputs": [],
   "source": [
    "#tags=['compound','acomp','xcomp']"
   ]
  },
  {
   "cell_type": "code",
   "execution_count": 39,
   "metadata": {},
   "outputs": [
    {
     "name": "stdout",
     "output_type": "stream",
     "text": [
      "Le Le PROPN compound Beau Beau PROPN []\n",
      "Beau Beau PROPN compound Serge Serge PROPN [Le]\n",
      "Serge Serge PROPN nsubjpass\n",
      "directed direct VERB ROOT\n",
      "Chabrol Chabrol PROPN pobj\n",
      "['Beau', 'Serge', 'Serge', 'direct', 'Chabrol']\n",
      "{'Beau': 'Le', 'Serge': 'Beau', 'direct': 'NA', 'Chabrol': 'NA'}\n"
     ]
    }
   ],
   "source": [
    "sustantivos=[]\n",
    "dir_sust=dict()\n",
    "values=[]\n",
    "for token in doc:\n",
    "    if token.dep_ in tags or \"mod\" in token.dep_ or \"comp\" in token.dep_:\n",
    "        print(token.text, token.lemma_, token.pos_,token.dep_,token.head.text,token.head.lemma_, token.head.pos_,\n",
    "            [child for child in token.children])\n",
    "        sustantivos.append(token.head.lemma_)\n",
    "        if token.head.lemma_ in dir_sust:\n",
    "            if dir_sust[token.head.lemma_]==\"NA\":\n",
    "                dir_sust[token.head.lemma_]=token.lemma_\n",
    "                values.append(token.lemma_)\n",
    "            else:\n",
    "                dir_sust[token.head.lemma_]=dir_sust[token.head.lemma_]+\",\"+token.lemma_\n",
    "                values.append(token.lemma_)\n",
    "        else:\n",
    "            dir_sust[token.head.lemma_]=token.lemma_\n",
    "    # elif token.dep_ == \"neg\":\n",
    "    #     print(\"negado\",token.head.text,token.head.lemma_)\n",
    "    #     antonimos=bag_of_antonyms('go')\n",
    "    #     print(antonimos)\n",
    "    elif token.pos_ in [\"NOUN\",\"PROPN\"]:\n",
    "        print(token.text,token.lemma_, token.pos_,token.dep_)\n",
    "        sustantivos.append(token.lemma_)\n",
    "        if token.lemma_ not in dir_sust:\n",
    "            dir_sust[token.lemma_]=\"NA\"\n",
    "    elif token.pos_ in [\"VERB\"]:\n",
    "        print(token.text, token.lemma_,token.pos_,token.dep_)\n",
    "        sustantivos.append(token.lemma_)\n",
    "        if token.lemma_ not in dir_sust:\n",
    "            dir_sust[token.lemma_]=\"NA\"\n",
    "print(sustantivos)\n",
    "print(dir_sust)"
   ]
  },
  {
   "cell_type": "code",
   "execution_count": 40,
   "metadata": {},
   "outputs": [
    {
     "data": {
      "text/plain": [
       "['Beau', 'Serge', 'direct', 'Chabrol']"
      ]
     },
     "execution_count": 40,
     "metadata": {},
     "output_type": "execute_result"
    }
   ],
   "source": [
    "list(dir_sust.keys())"
   ]
  },
  {
   "cell_type": "code",
   "execution_count": 41,
   "metadata": {},
   "outputs": [],
   "source": [
    "limpieza_sustantivos=[]\n",
    "for e in sustantivos:\n",
    "    limpieza_sustantivos"
   ]
  },
  {
   "cell_type": "code",
   "execution_count": 42,
   "metadata": {},
   "outputs": [],
   "source": [
    "from spacy import glossary"
   ]
  },
  {
   "cell_type": "code",
   "execution_count": 43,
   "metadata": {},
   "outputs": [
    {
     "data": {
      "text/plain": [
       "{'ADJ': 'adjective',\n",
       " 'ADP': 'adposition',\n",
       " 'ADV': 'adverb',\n",
       " 'AUX': 'auxiliary',\n",
       " 'CONJ': 'conjunction',\n",
       " 'CCONJ': 'coordinating conjunction',\n",
       " 'DET': 'determiner',\n",
       " 'INTJ': 'interjection',\n",
       " 'NOUN': 'noun',\n",
       " 'NUM': 'numeral',\n",
       " 'PART': 'particle',\n",
       " 'PRON': 'pronoun',\n",
       " 'PROPN': 'proper noun',\n",
       " 'PUNCT': 'punctuation',\n",
       " 'SCONJ': 'subordinating conjunction',\n",
       " 'SYM': 'symbol',\n",
       " 'VERB': 'verb',\n",
       " 'X': 'other',\n",
       " 'EOL': 'end of line',\n",
       " 'SPACE': 'space',\n",
       " '.': 'punctuation mark, sentence closer',\n",
       " ',': 'punctuation mark, comma',\n",
       " '-LRB-': 'left round bracket',\n",
       " '-RRB-': 'right round bracket',\n",
       " '``': 'opening quotation mark',\n",
       " '\"\"': 'closing quotation mark',\n",
       " \"''\": 'closing quotation mark',\n",
       " ':': 'punctuation mark, colon or ellipsis',\n",
       " '$': 'symbol, currency',\n",
       " '#': 'symbol, number sign',\n",
       " 'AFX': 'affix',\n",
       " 'CC': 'conjunction, coordinating',\n",
       " 'CD': 'cardinal number',\n",
       " 'DT': 'determiner',\n",
       " 'EX': 'existential there',\n",
       " 'FW': 'foreign word',\n",
       " 'HYPH': 'punctuation mark, hyphen',\n",
       " 'IN': 'conjunction, subordinating or preposition',\n",
       " 'JJ': 'adjective (English), other noun-modifier (Chinese)',\n",
       " 'JJR': 'adjective, comparative',\n",
       " 'JJS': 'adjective, superlative',\n",
       " 'LS': 'list item marker',\n",
       " 'MD': 'verb, modal auxiliary',\n",
       " 'NIL': 'missing tag',\n",
       " 'NN': 'noun, singular or mass',\n",
       " 'NNP': 'noun, proper singular',\n",
       " 'NNPS': 'noun, proper plural',\n",
       " 'NNS': 'noun, plural',\n",
       " 'PDT': 'predeterminer',\n",
       " 'POS': 'possessive ending',\n",
       " 'PRP': 'pronoun, personal',\n",
       " 'PRP$': 'pronoun, possessive',\n",
       " 'RB': 'adverb',\n",
       " 'RBR': 'adverb, comparative',\n",
       " 'RBS': 'adverb, superlative',\n",
       " 'RP': 'adverb, particle',\n",
       " 'TO': 'infinitival \"to\"',\n",
       " 'UH': 'interjection',\n",
       " 'VB': 'verb, base form',\n",
       " 'VBD': 'verb, past tense',\n",
       " 'VBG': 'verb, gerund or present participle',\n",
       " 'VBN': 'verb, past participle',\n",
       " 'VBP': 'verb, non-3rd person singular present',\n",
       " 'VBZ': 'verb, 3rd person singular present',\n",
       " 'WDT': 'wh-determiner',\n",
       " 'WP': 'wh-pronoun, personal',\n",
       " 'WP$': 'wh-pronoun, possessive',\n",
       " 'WRB': 'wh-adverb',\n",
       " 'SP': 'space (English), sentence-final particle (Chinese)',\n",
       " 'ADD': 'email',\n",
       " 'NFP': 'superfluous punctuation',\n",
       " 'GW': 'additional word in multi-word expression',\n",
       " 'XX': 'unknown',\n",
       " 'BES': 'auxiliary \"be\"',\n",
       " 'HVS': 'forms of \"have\"',\n",
       " '_SP': 'whitespace',\n",
       " '$(': 'other sentence-internal punctuation mark',\n",
       " '$,': 'comma',\n",
       " '$.': 'sentence-final punctuation mark',\n",
       " 'ADJA': 'adjective, attributive',\n",
       " 'ADJD': 'adjective, adverbial or predicative',\n",
       " 'APPO': 'postposition',\n",
       " 'APPR': 'preposition; circumposition left',\n",
       " 'APPRART': 'preposition with article',\n",
       " 'APZR': 'circumposition right',\n",
       " 'ART': 'definite or indefinite article',\n",
       " 'CARD': 'cardinal number',\n",
       " 'FM': 'foreign language material',\n",
       " 'ITJ': 'interjection',\n",
       " 'KOKOM': 'comparative conjunction',\n",
       " 'KON': 'coordinate conjunction',\n",
       " 'KOUI': 'subordinate conjunction with \"zu\" and infinitive',\n",
       " 'KOUS': 'subordinate conjunction with sentence',\n",
       " 'NE': 'proper noun',\n",
       " 'NNE': 'proper noun',\n",
       " 'PAV': 'pronominal adverb',\n",
       " 'PROAV': 'pronominal adverb',\n",
       " 'PDAT': 'attributive demonstrative pronoun',\n",
       " 'PDS': 'substituting demonstrative pronoun',\n",
       " 'PIAT': 'attributive indefinite pronoun without determiner',\n",
       " 'PIDAT': 'attributive indefinite pronoun with determiner',\n",
       " 'PIS': 'substituting indefinite pronoun',\n",
       " 'PPER': 'non-reflexive personal pronoun',\n",
       " 'PPOSAT': 'attributive possessive pronoun',\n",
       " 'PPOSS': 'substituting possessive pronoun',\n",
       " 'PRELAT': 'attributive relative pronoun',\n",
       " 'PRELS': 'substituting relative pronoun',\n",
       " 'PRF': 'reflexive personal pronoun',\n",
       " 'PTKA': 'particle with adjective or adverb',\n",
       " 'PTKANT': 'answer particle',\n",
       " 'PTKNEG': 'negative particle',\n",
       " 'PTKVZ': 'separable verbal particle',\n",
       " 'PTKZU': '\"zu\" before infinitive',\n",
       " 'PWAT': 'attributive interrogative pronoun',\n",
       " 'PWAV': 'adverbial interrogative or relative pronoun',\n",
       " 'PWS': 'substituting interrogative pronoun',\n",
       " 'TRUNC': 'word remnant',\n",
       " 'VAFIN': 'finite verb, auxiliary',\n",
       " 'VAIMP': 'imperative, auxiliary',\n",
       " 'VAINF': 'infinitive, auxiliary',\n",
       " 'VAPP': 'perfect participle, auxiliary',\n",
       " 'VMFIN': 'finite verb, modal',\n",
       " 'VMINF': 'infinitive, modal',\n",
       " 'VMPP': 'perfect participle, modal',\n",
       " 'VVFIN': 'finite verb, full',\n",
       " 'VVIMP': 'imperative, full',\n",
       " 'VVINF': 'infinitive, full',\n",
       " 'VVIZU': 'infinitive with \"zu\", full',\n",
       " 'VVPP': 'perfect participle, full',\n",
       " 'XY': 'non-word containing non-letter',\n",
       " 'AD': 'adverb',\n",
       " 'AS': 'aspect marker',\n",
       " 'BA': '把 in ba-construction',\n",
       " 'CS': 'subordinating conjunction',\n",
       " 'DEC': '的 in a relative clause',\n",
       " 'DEG': 'associative 的',\n",
       " 'DER': '得 in V-de const. and V-de-R',\n",
       " 'DEV': '地 before VP',\n",
       " 'ETC': 'for words 等, 等等',\n",
       " 'IJ': 'interjection',\n",
       " 'LB': '被 in long bei-const',\n",
       " 'LC': 'localizer',\n",
       " 'M': 'measure word',\n",
       " 'MSP': 'other particle',\n",
       " 'NR': 'proper noun',\n",
       " 'NT': 'temporal noun',\n",
       " 'OD': 'ordinal number',\n",
       " 'ON': 'onomatopoeia',\n",
       " 'P': 'preposition excluding 把 and 被',\n",
       " 'PN': 'pronoun',\n",
       " 'PU': 'punctuation',\n",
       " 'SB': '被 in short bei-const',\n",
       " 'VA': 'predicative adjective',\n",
       " 'VC': '是 (copula)',\n",
       " 'VE': '有 as the main verb',\n",
       " 'VV': 'other verb',\n",
       " 'NP': 'noun phrase',\n",
       " 'PP': 'prepositional phrase',\n",
       " 'VP': 'verb phrase',\n",
       " 'ADVP': 'adverb phrase',\n",
       " 'ADJP': 'adjective phrase',\n",
       " 'SBAR': 'subordinating conjunction',\n",
       " 'PRT': 'particle',\n",
       " 'PNP': 'prepositional noun phrase',\n",
       " 'acl': 'clausal modifier of noun (adjectival clause)',\n",
       " 'acomp': 'adjectival complement',\n",
       " 'advcl': 'adverbial clause modifier',\n",
       " 'advmod': 'adverbial modifier',\n",
       " 'agent': 'agent',\n",
       " 'amod': 'adjectival modifier',\n",
       " 'appos': 'appositional modifier',\n",
       " 'attr': 'attribute',\n",
       " 'aux': 'auxiliary',\n",
       " 'auxpass': 'auxiliary (passive)',\n",
       " 'case': 'case marking',\n",
       " 'cc': 'coordinating conjunction',\n",
       " 'ccomp': 'clausal complement',\n",
       " 'clf': 'classifier',\n",
       " 'complm': 'complementizer',\n",
       " 'compound': 'compound',\n",
       " 'conj': 'conjunct',\n",
       " 'cop': 'copula',\n",
       " 'csubj': 'clausal subject',\n",
       " 'csubjpass': 'clausal subject (passive)',\n",
       " 'dative': 'dative',\n",
       " 'dep': 'unclassified dependent',\n",
       " 'det': 'determiner',\n",
       " 'discourse': 'discourse element',\n",
       " 'dislocated': 'dislocated elements',\n",
       " 'dobj': 'direct object',\n",
       " 'expl': 'expletive',\n",
       " 'fixed': 'fixed multiword expression',\n",
       " 'flat': 'flat multiword expression',\n",
       " 'goeswith': 'goes with',\n",
       " 'hmod': 'modifier in hyphenation',\n",
       " 'hyph': 'hyphen',\n",
       " 'infmod': 'infinitival modifier',\n",
       " 'intj': 'interjection',\n",
       " 'iobj': 'indirect object',\n",
       " 'list': 'list',\n",
       " 'mark': 'marker',\n",
       " 'meta': 'meta modifier',\n",
       " 'neg': 'negation modifier',\n",
       " 'nmod': 'modifier of nominal',\n",
       " 'nn': 'noun compound modifier',\n",
       " 'npadvmod': 'noun phrase as adverbial modifier',\n",
       " 'nsubj': 'nominal subject',\n",
       " 'nsubjpass': 'nominal subject (passive)',\n",
       " 'nounmod': 'modifier of nominal',\n",
       " 'npmod': 'noun phrase as adverbial modifier',\n",
       " 'num': 'number modifier',\n",
       " 'number': 'number compound modifier',\n",
       " 'nummod': 'numeric modifier',\n",
       " 'oprd': 'object predicate',\n",
       " 'obj': 'object',\n",
       " 'obl': 'oblique nominal',\n",
       " 'orphan': 'orphan',\n",
       " 'parataxis': 'parataxis',\n",
       " 'partmod': 'participal modifier',\n",
       " 'pcomp': 'complement of preposition',\n",
       " 'pobj': 'object of preposition',\n",
       " 'poss': 'possession modifier',\n",
       " 'possessive': 'possessive modifier',\n",
       " 'preconj': 'pre-correlative conjunction',\n",
       " 'prep': 'prepositional modifier',\n",
       " 'prt': 'particle',\n",
       " 'punct': 'punctuation',\n",
       " 'quantmod': 'modifier of quantifier',\n",
       " 'rcmod': 'relative clause modifier',\n",
       " 'relcl': 'relative clause modifier',\n",
       " 'reparandum': 'overridden disfluency',\n",
       " 'root': 'root',\n",
       " 'ROOT': 'root',\n",
       " 'vocative': 'vocative',\n",
       " 'xcomp': 'open clausal complement',\n",
       " 'ac': 'adpositional case marker',\n",
       " 'adc': 'adjective component',\n",
       " 'ag': 'genitive attribute',\n",
       " 'ams': 'measure argument of adjective',\n",
       " 'app': 'apposition',\n",
       " 'avc': 'adverbial phrase component',\n",
       " 'cd': 'coordinating conjunction',\n",
       " 'cj': 'conjunct',\n",
       " 'cm': 'comparative conjunction',\n",
       " 'cp': 'complementizer',\n",
       " 'cvc': 'collocational verb construction',\n",
       " 'da': 'dative',\n",
       " 'dh': 'discourse-level head',\n",
       " 'dm': 'discourse marker',\n",
       " 'ep': 'expletive es',\n",
       " 'hd': 'head',\n",
       " 'ju': 'junctor',\n",
       " 'mnr': 'postnominal modifier',\n",
       " 'mo': 'modifier',\n",
       " 'ng': 'negation',\n",
       " 'nk': 'noun kernel element',\n",
       " 'nmc': 'numerical component',\n",
       " 'oa': 'accusative object',\n",
       " 'oc': 'clausal object',\n",
       " 'og': 'genitive object',\n",
       " 'op': 'prepositional object',\n",
       " 'par': 'parenthetical element',\n",
       " 'pd': 'predicate',\n",
       " 'pg': 'phrasal genitive',\n",
       " 'ph': 'placeholder',\n",
       " 'pm': 'morphological particle',\n",
       " 'pnc': 'proper noun component',\n",
       " 'rc': 'relative clause',\n",
       " 're': 'repeated element',\n",
       " 'rs': 'reported speech',\n",
       " 'sb': 'subject',\n",
       " 'sbp': 'passivized subject (PP)',\n",
       " 'sp': 'subject or predicate',\n",
       " 'svp': 'separable verb prefix',\n",
       " 'uc': 'unit component',\n",
       " 'vo': 'vocative',\n",
       " 'PERSON': 'People, including fictional',\n",
       " 'NORP': 'Nationalities or religious or political groups',\n",
       " 'FACILITY': 'Buildings, airports, highways, bridges, etc.',\n",
       " 'FAC': 'Buildings, airports, highways, bridges, etc.',\n",
       " 'ORG': 'Companies, agencies, institutions, etc.',\n",
       " 'GPE': 'Countries, cities, states',\n",
       " 'LOC': 'Non-GPE locations, mountain ranges, bodies of water',\n",
       " 'PRODUCT': 'Objects, vehicles, foods, etc. (not services)',\n",
       " 'EVENT': 'Named hurricanes, battles, wars, sports events, etc.',\n",
       " 'WORK_OF_ART': 'Titles of books, songs, etc.',\n",
       " 'LAW': 'Named documents made into laws.',\n",
       " 'LANGUAGE': 'Any named language',\n",
       " 'DATE': 'Absolute or relative dates or periods',\n",
       " 'TIME': 'Times smaller than a day',\n",
       " 'PERCENT': 'Percentage, including \"%\"',\n",
       " 'MONEY': 'Monetary values, including unit',\n",
       " 'QUANTITY': 'Measurements, as of weight or distance',\n",
       " 'ORDINAL': '\"first\", \"second\", etc.',\n",
       " 'CARDINAL': 'Numerals that do not fall under another type',\n",
       " 'PER': 'Named person or family.',\n",
       " 'MISC': 'Miscellaneous entities, e.g. events, nationalities, products or works of art',\n",
       " 'EVT': 'Festivals, cultural events, sports events, weather phenomena, wars, etc.',\n",
       " 'PROD': 'Product, i.e. artificially produced entities including speeches, radio shows, programming languages, contracts, laws and ideas',\n",
       " 'DRV': \"Words (and phrases?) that are dervied from a name, but not a name in themselves, e.g. 'Oslo-mannen' ('the man from Oslo')\",\n",
       " 'GPE_LOC': \"Geo-political entity, with a locative sense, e.g. 'John lives in Spain'\",\n",
       " 'GPE_ORG': \"Geo-political entity, with an organisation sense, e.g. 'Spain declined to meet with Belgium'\"}"
      ]
     },
     "execution_count": 43,
     "metadata": {},
     "output_type": "execute_result"
    }
   ],
   "source": [
    "glossary.GLOSSARY"
   ]
  },
  {
   "cell_type": "code",
   "execution_count": 46,
   "metadata": {},
   "outputs": [
    {
     "data": {
      "text/plain": [
       "'open clausal complement'"
      ]
     },
     "execution_count": 46,
     "metadata": {},
     "output_type": "execute_result"
    }
   ],
   "source": [
    "tag = 'xcomp'\n",
    "glossary.explain(tag)"
   ]
  },
  {
   "cell_type": "code",
   "execution_count": 44,
   "metadata": {},
   "outputs": [],
   "source": [
    "doc = nlp(\"There is no way Marlowe could legally leave Italy, especially after an arrest warrant has been issued for him by the authorities. Assisted by Zaleshoff, he succeeds in making his escape from Milan.\")"
   ]
  },
  {
   "cell_type": "code",
   "execution_count": 45,
   "metadata": {},
   "outputs": [
    {
     "data": {
      "text/html": [
       "<span class=\"tex2jax_ignore\"><svg xmlns=\"http://www.w3.org/2000/svg\" xmlns:xlink=\"http://www.w3.org/1999/xlink\" xml:lang=\"en\" id=\"e6acdab24879483ba98885ad9ac19577-0\" class=\"displacy\" width=\"5825\" height=\"662.0\" direction=\"ltr\" style=\"max-width: none; height: 662.0px; color: #000000; background: #ffffff; font-family: Arial; direction: ltr\">\n",
       "<text class=\"displacy-token\" fill=\"currentColor\" text-anchor=\"middle\" y=\"572.0\">\n",
       "    <tspan class=\"displacy-word\" fill=\"currentColor\" x=\"50\">There</tspan>\n",
       "    <tspan class=\"displacy-tag\" dy=\"2em\" fill=\"currentColor\" x=\"50\">PRON</tspan>\n",
       "</text>\n",
       "\n",
       "<text class=\"displacy-token\" fill=\"currentColor\" text-anchor=\"middle\" y=\"572.0\">\n",
       "    <tspan class=\"displacy-word\" fill=\"currentColor\" x=\"225\">is</tspan>\n",
       "    <tspan class=\"displacy-tag\" dy=\"2em\" fill=\"currentColor\" x=\"225\">VERB</tspan>\n",
       "</text>\n",
       "\n",
       "<text class=\"displacy-token\" fill=\"currentColor\" text-anchor=\"middle\" y=\"572.0\">\n",
       "    <tspan class=\"displacy-word\" fill=\"currentColor\" x=\"400\">no</tspan>\n",
       "    <tspan class=\"displacy-tag\" dy=\"2em\" fill=\"currentColor\" x=\"400\">DET</tspan>\n",
       "</text>\n",
       "\n",
       "<text class=\"displacy-token\" fill=\"currentColor\" text-anchor=\"middle\" y=\"572.0\">\n",
       "    <tspan class=\"displacy-word\" fill=\"currentColor\" x=\"575\">way</tspan>\n",
       "    <tspan class=\"displacy-tag\" dy=\"2em\" fill=\"currentColor\" x=\"575\">NOUN</tspan>\n",
       "</text>\n",
       "\n",
       "<text class=\"displacy-token\" fill=\"currentColor\" text-anchor=\"middle\" y=\"572.0\">\n",
       "    <tspan class=\"displacy-word\" fill=\"currentColor\" x=\"750\">Marlowe</tspan>\n",
       "    <tspan class=\"displacy-tag\" dy=\"2em\" fill=\"currentColor\" x=\"750\">PROPN</tspan>\n",
       "</text>\n",
       "\n",
       "<text class=\"displacy-token\" fill=\"currentColor\" text-anchor=\"middle\" y=\"572.0\">\n",
       "    <tspan class=\"displacy-word\" fill=\"currentColor\" x=\"925\">could</tspan>\n",
       "    <tspan class=\"displacy-tag\" dy=\"2em\" fill=\"currentColor\" x=\"925\">AUX</tspan>\n",
       "</text>\n",
       "\n",
       "<text class=\"displacy-token\" fill=\"currentColor\" text-anchor=\"middle\" y=\"572.0\">\n",
       "    <tspan class=\"displacy-word\" fill=\"currentColor\" x=\"1100\">legally</tspan>\n",
       "    <tspan class=\"displacy-tag\" dy=\"2em\" fill=\"currentColor\" x=\"1100\">ADV</tspan>\n",
       "</text>\n",
       "\n",
       "<text class=\"displacy-token\" fill=\"currentColor\" text-anchor=\"middle\" y=\"572.0\">\n",
       "    <tspan class=\"displacy-word\" fill=\"currentColor\" x=\"1275\">leave</tspan>\n",
       "    <tspan class=\"displacy-tag\" dy=\"2em\" fill=\"currentColor\" x=\"1275\">VERB</tspan>\n",
       "</text>\n",
       "\n",
       "<text class=\"displacy-token\" fill=\"currentColor\" text-anchor=\"middle\" y=\"572.0\">\n",
       "    <tspan class=\"displacy-word\" fill=\"currentColor\" x=\"1450\">Italy,</tspan>\n",
       "    <tspan class=\"displacy-tag\" dy=\"2em\" fill=\"currentColor\" x=\"1450\">PROPN</tspan>\n",
       "</text>\n",
       "\n",
       "<text class=\"displacy-token\" fill=\"currentColor\" text-anchor=\"middle\" y=\"572.0\">\n",
       "    <tspan class=\"displacy-word\" fill=\"currentColor\" x=\"1625\">especially</tspan>\n",
       "    <tspan class=\"displacy-tag\" dy=\"2em\" fill=\"currentColor\" x=\"1625\">ADV</tspan>\n",
       "</text>\n",
       "\n",
       "<text class=\"displacy-token\" fill=\"currentColor\" text-anchor=\"middle\" y=\"572.0\">\n",
       "    <tspan class=\"displacy-word\" fill=\"currentColor\" x=\"1800\">after</tspan>\n",
       "    <tspan class=\"displacy-tag\" dy=\"2em\" fill=\"currentColor\" x=\"1800\">SCONJ</tspan>\n",
       "</text>\n",
       "\n",
       "<text class=\"displacy-token\" fill=\"currentColor\" text-anchor=\"middle\" y=\"572.0\">\n",
       "    <tspan class=\"displacy-word\" fill=\"currentColor\" x=\"1975\">an</tspan>\n",
       "    <tspan class=\"displacy-tag\" dy=\"2em\" fill=\"currentColor\" x=\"1975\">DET</tspan>\n",
       "</text>\n",
       "\n",
       "<text class=\"displacy-token\" fill=\"currentColor\" text-anchor=\"middle\" y=\"572.0\">\n",
       "    <tspan class=\"displacy-word\" fill=\"currentColor\" x=\"2150\">arrest</tspan>\n",
       "    <tspan class=\"displacy-tag\" dy=\"2em\" fill=\"currentColor\" x=\"2150\">NOUN</tspan>\n",
       "</text>\n",
       "\n",
       "<text class=\"displacy-token\" fill=\"currentColor\" text-anchor=\"middle\" y=\"572.0\">\n",
       "    <tspan class=\"displacy-word\" fill=\"currentColor\" x=\"2325\">warrant</tspan>\n",
       "    <tspan class=\"displacy-tag\" dy=\"2em\" fill=\"currentColor\" x=\"2325\">NOUN</tspan>\n",
       "</text>\n",
       "\n",
       "<text class=\"displacy-token\" fill=\"currentColor\" text-anchor=\"middle\" y=\"572.0\">\n",
       "    <tspan class=\"displacy-word\" fill=\"currentColor\" x=\"2500\">has</tspan>\n",
       "    <tspan class=\"displacy-tag\" dy=\"2em\" fill=\"currentColor\" x=\"2500\">AUX</tspan>\n",
       "</text>\n",
       "\n",
       "<text class=\"displacy-token\" fill=\"currentColor\" text-anchor=\"middle\" y=\"572.0\">\n",
       "    <tspan class=\"displacy-word\" fill=\"currentColor\" x=\"2675\">been</tspan>\n",
       "    <tspan class=\"displacy-tag\" dy=\"2em\" fill=\"currentColor\" x=\"2675\">AUX</tspan>\n",
       "</text>\n",
       "\n",
       "<text class=\"displacy-token\" fill=\"currentColor\" text-anchor=\"middle\" y=\"572.0\">\n",
       "    <tspan class=\"displacy-word\" fill=\"currentColor\" x=\"2850\">issued</tspan>\n",
       "    <tspan class=\"displacy-tag\" dy=\"2em\" fill=\"currentColor\" x=\"2850\">VERB</tspan>\n",
       "</text>\n",
       "\n",
       "<text class=\"displacy-token\" fill=\"currentColor\" text-anchor=\"middle\" y=\"572.0\">\n",
       "    <tspan class=\"displacy-word\" fill=\"currentColor\" x=\"3025\">for</tspan>\n",
       "    <tspan class=\"displacy-tag\" dy=\"2em\" fill=\"currentColor\" x=\"3025\">ADP</tspan>\n",
       "</text>\n",
       "\n",
       "<text class=\"displacy-token\" fill=\"currentColor\" text-anchor=\"middle\" y=\"572.0\">\n",
       "    <tspan class=\"displacy-word\" fill=\"currentColor\" x=\"3200\">him</tspan>\n",
       "    <tspan class=\"displacy-tag\" dy=\"2em\" fill=\"currentColor\" x=\"3200\">PRON</tspan>\n",
       "</text>\n",
       "\n",
       "<text class=\"displacy-token\" fill=\"currentColor\" text-anchor=\"middle\" y=\"572.0\">\n",
       "    <tspan class=\"displacy-word\" fill=\"currentColor\" x=\"3375\">by</tspan>\n",
       "    <tspan class=\"displacy-tag\" dy=\"2em\" fill=\"currentColor\" x=\"3375\">ADP</tspan>\n",
       "</text>\n",
       "\n",
       "<text class=\"displacy-token\" fill=\"currentColor\" text-anchor=\"middle\" y=\"572.0\">\n",
       "    <tspan class=\"displacy-word\" fill=\"currentColor\" x=\"3550\">the</tspan>\n",
       "    <tspan class=\"displacy-tag\" dy=\"2em\" fill=\"currentColor\" x=\"3550\">DET</tspan>\n",
       "</text>\n",
       "\n",
       "<text class=\"displacy-token\" fill=\"currentColor\" text-anchor=\"middle\" y=\"572.0\">\n",
       "    <tspan class=\"displacy-word\" fill=\"currentColor\" x=\"3725\">authorities.</tspan>\n",
       "    <tspan class=\"displacy-tag\" dy=\"2em\" fill=\"currentColor\" x=\"3725\">NOUN</tspan>\n",
       "</text>\n",
       "\n",
       "<text class=\"displacy-token\" fill=\"currentColor\" text-anchor=\"middle\" y=\"572.0\">\n",
       "    <tspan class=\"displacy-word\" fill=\"currentColor\" x=\"3900\">Assisted</tspan>\n",
       "    <tspan class=\"displacy-tag\" dy=\"2em\" fill=\"currentColor\" x=\"3900\">VERB</tspan>\n",
       "</text>\n",
       "\n",
       "<text class=\"displacy-token\" fill=\"currentColor\" text-anchor=\"middle\" y=\"572.0\">\n",
       "    <tspan class=\"displacy-word\" fill=\"currentColor\" x=\"4075\">by</tspan>\n",
       "    <tspan class=\"displacy-tag\" dy=\"2em\" fill=\"currentColor\" x=\"4075\">ADP</tspan>\n",
       "</text>\n",
       "\n",
       "<text class=\"displacy-token\" fill=\"currentColor\" text-anchor=\"middle\" y=\"572.0\">\n",
       "    <tspan class=\"displacy-word\" fill=\"currentColor\" x=\"4250\">Zaleshoff,</tspan>\n",
       "    <tspan class=\"displacy-tag\" dy=\"2em\" fill=\"currentColor\" x=\"4250\">PROPN</tspan>\n",
       "</text>\n",
       "\n",
       "<text class=\"displacy-token\" fill=\"currentColor\" text-anchor=\"middle\" y=\"572.0\">\n",
       "    <tspan class=\"displacy-word\" fill=\"currentColor\" x=\"4425\">he</tspan>\n",
       "    <tspan class=\"displacy-tag\" dy=\"2em\" fill=\"currentColor\" x=\"4425\">PRON</tspan>\n",
       "</text>\n",
       "\n",
       "<text class=\"displacy-token\" fill=\"currentColor\" text-anchor=\"middle\" y=\"572.0\">\n",
       "    <tspan class=\"displacy-word\" fill=\"currentColor\" x=\"4600\">succeeds</tspan>\n",
       "    <tspan class=\"displacy-tag\" dy=\"2em\" fill=\"currentColor\" x=\"4600\">VERB</tspan>\n",
       "</text>\n",
       "\n",
       "<text class=\"displacy-token\" fill=\"currentColor\" text-anchor=\"middle\" y=\"572.0\">\n",
       "    <tspan class=\"displacy-word\" fill=\"currentColor\" x=\"4775\">in</tspan>\n",
       "    <tspan class=\"displacy-tag\" dy=\"2em\" fill=\"currentColor\" x=\"4775\">ADP</tspan>\n",
       "</text>\n",
       "\n",
       "<text class=\"displacy-token\" fill=\"currentColor\" text-anchor=\"middle\" y=\"572.0\">\n",
       "    <tspan class=\"displacy-word\" fill=\"currentColor\" x=\"4950\">making</tspan>\n",
       "    <tspan class=\"displacy-tag\" dy=\"2em\" fill=\"currentColor\" x=\"4950\">VERB</tspan>\n",
       "</text>\n",
       "\n",
       "<text class=\"displacy-token\" fill=\"currentColor\" text-anchor=\"middle\" y=\"572.0\">\n",
       "    <tspan class=\"displacy-word\" fill=\"currentColor\" x=\"5125\">his</tspan>\n",
       "    <tspan class=\"displacy-tag\" dy=\"2em\" fill=\"currentColor\" x=\"5125\">PRON</tspan>\n",
       "</text>\n",
       "\n",
       "<text class=\"displacy-token\" fill=\"currentColor\" text-anchor=\"middle\" y=\"572.0\">\n",
       "    <tspan class=\"displacy-word\" fill=\"currentColor\" x=\"5300\">escape</tspan>\n",
       "    <tspan class=\"displacy-tag\" dy=\"2em\" fill=\"currentColor\" x=\"5300\">NOUN</tspan>\n",
       "</text>\n",
       "\n",
       "<text class=\"displacy-token\" fill=\"currentColor\" text-anchor=\"middle\" y=\"572.0\">\n",
       "    <tspan class=\"displacy-word\" fill=\"currentColor\" x=\"5475\">from</tspan>\n",
       "    <tspan class=\"displacy-tag\" dy=\"2em\" fill=\"currentColor\" x=\"5475\">ADP</tspan>\n",
       "</text>\n",
       "\n",
       "<text class=\"displacy-token\" fill=\"currentColor\" text-anchor=\"middle\" y=\"572.0\">\n",
       "    <tspan class=\"displacy-word\" fill=\"currentColor\" x=\"5650\">Milan.</tspan>\n",
       "    <tspan class=\"displacy-tag\" dy=\"2em\" fill=\"currentColor\" x=\"5650\">PROPN</tspan>\n",
       "</text>\n",
       "\n",
       "<g class=\"displacy-arrow\">\n",
       "    <path class=\"displacy-arc\" id=\"arrow-e6acdab24879483ba98885ad9ac19577-0-0\" stroke-width=\"2px\" d=\"M70,527.0 C70,439.5 200.0,439.5 200.0,527.0\" fill=\"none\" stroke=\"currentColor\"/>\n",
       "    <text dy=\"1.25em\" style=\"font-size: 0.8em; letter-spacing: 1px\">\n",
       "        <textPath xlink:href=\"#arrow-e6acdab24879483ba98885ad9ac19577-0-0\" class=\"displacy-label\" startOffset=\"50%\" side=\"left\" fill=\"currentColor\" text-anchor=\"middle\">expl</textPath>\n",
       "    </text>\n",
       "    <path class=\"displacy-arrowhead\" d=\"M70,529.0 L62,517.0 78,517.0\" fill=\"currentColor\"/>\n",
       "</g>\n",
       "\n",
       "<g class=\"displacy-arrow\">\n",
       "    <path class=\"displacy-arc\" id=\"arrow-e6acdab24879483ba98885ad9ac19577-0-1\" stroke-width=\"2px\" d=\"M420,527.0 C420,439.5 550.0,439.5 550.0,527.0\" fill=\"none\" stroke=\"currentColor\"/>\n",
       "    <text dy=\"1.25em\" style=\"font-size: 0.8em; letter-spacing: 1px\">\n",
       "        <textPath xlink:href=\"#arrow-e6acdab24879483ba98885ad9ac19577-0-1\" class=\"displacy-label\" startOffset=\"50%\" side=\"left\" fill=\"currentColor\" text-anchor=\"middle\">det</textPath>\n",
       "    </text>\n",
       "    <path class=\"displacy-arrowhead\" d=\"M420,529.0 L412,517.0 428,517.0\" fill=\"currentColor\"/>\n",
       "</g>\n",
       "\n",
       "<g class=\"displacy-arrow\">\n",
       "    <path class=\"displacy-arc\" id=\"arrow-e6acdab24879483ba98885ad9ac19577-0-2\" stroke-width=\"2px\" d=\"M245,527.0 C245,352.0 555.0,352.0 555.0,527.0\" fill=\"none\" stroke=\"currentColor\"/>\n",
       "    <text dy=\"1.25em\" style=\"font-size: 0.8em; letter-spacing: 1px\">\n",
       "        <textPath xlink:href=\"#arrow-e6acdab24879483ba98885ad9ac19577-0-2\" class=\"displacy-label\" startOffset=\"50%\" side=\"left\" fill=\"currentColor\" text-anchor=\"middle\">attr</textPath>\n",
       "    </text>\n",
       "    <path class=\"displacy-arrowhead\" d=\"M555.0,529.0 L563.0,517.0 547.0,517.0\" fill=\"currentColor\"/>\n",
       "</g>\n",
       "\n",
       "<g class=\"displacy-arrow\">\n",
       "    <path class=\"displacy-arc\" id=\"arrow-e6acdab24879483ba98885ad9ac19577-0-3\" stroke-width=\"2px\" d=\"M770,527.0 C770,264.5 1260.0,264.5 1260.0,527.0\" fill=\"none\" stroke=\"currentColor\"/>\n",
       "    <text dy=\"1.25em\" style=\"font-size: 0.8em; letter-spacing: 1px\">\n",
       "        <textPath xlink:href=\"#arrow-e6acdab24879483ba98885ad9ac19577-0-3\" class=\"displacy-label\" startOffset=\"50%\" side=\"left\" fill=\"currentColor\" text-anchor=\"middle\">nsubj</textPath>\n",
       "    </text>\n",
       "    <path class=\"displacy-arrowhead\" d=\"M770,529.0 L762,517.0 778,517.0\" fill=\"currentColor\"/>\n",
       "</g>\n",
       "\n",
       "<g class=\"displacy-arrow\">\n",
       "    <path class=\"displacy-arc\" id=\"arrow-e6acdab24879483ba98885ad9ac19577-0-4\" stroke-width=\"2px\" d=\"M945,527.0 C945,352.0 1255.0,352.0 1255.0,527.0\" fill=\"none\" stroke=\"currentColor\"/>\n",
       "    <text dy=\"1.25em\" style=\"font-size: 0.8em; letter-spacing: 1px\">\n",
       "        <textPath xlink:href=\"#arrow-e6acdab24879483ba98885ad9ac19577-0-4\" class=\"displacy-label\" startOffset=\"50%\" side=\"left\" fill=\"currentColor\" text-anchor=\"middle\">aux</textPath>\n",
       "    </text>\n",
       "    <path class=\"displacy-arrowhead\" d=\"M945,529.0 L937,517.0 953,517.0\" fill=\"currentColor\"/>\n",
       "</g>\n",
       "\n",
       "<g class=\"displacy-arrow\">\n",
       "    <path class=\"displacy-arc\" id=\"arrow-e6acdab24879483ba98885ad9ac19577-0-5\" stroke-width=\"2px\" d=\"M1120,527.0 C1120,439.5 1250.0,439.5 1250.0,527.0\" fill=\"none\" stroke=\"currentColor\"/>\n",
       "    <text dy=\"1.25em\" style=\"font-size: 0.8em; letter-spacing: 1px\">\n",
       "        <textPath xlink:href=\"#arrow-e6acdab24879483ba98885ad9ac19577-0-5\" class=\"displacy-label\" startOffset=\"50%\" side=\"left\" fill=\"currentColor\" text-anchor=\"middle\">advmod</textPath>\n",
       "    </text>\n",
       "    <path class=\"displacy-arrowhead\" d=\"M1120,529.0 L1112,517.0 1128,517.0\" fill=\"currentColor\"/>\n",
       "</g>\n",
       "\n",
       "<g class=\"displacy-arrow\">\n",
       "    <path class=\"displacy-arc\" id=\"arrow-e6acdab24879483ba98885ad9ac19577-0-6\" stroke-width=\"2px\" d=\"M595,527.0 C595,177.0 1265.0,177.0 1265.0,527.0\" fill=\"none\" stroke=\"currentColor\"/>\n",
       "    <text dy=\"1.25em\" style=\"font-size: 0.8em; letter-spacing: 1px\">\n",
       "        <textPath xlink:href=\"#arrow-e6acdab24879483ba98885ad9ac19577-0-6\" class=\"displacy-label\" startOffset=\"50%\" side=\"left\" fill=\"currentColor\" text-anchor=\"middle\">relcl</textPath>\n",
       "    </text>\n",
       "    <path class=\"displacy-arrowhead\" d=\"M1265.0,529.0 L1273.0,517.0 1257.0,517.0\" fill=\"currentColor\"/>\n",
       "</g>\n",
       "\n",
       "<g class=\"displacy-arrow\">\n",
       "    <path class=\"displacy-arc\" id=\"arrow-e6acdab24879483ba98885ad9ac19577-0-7\" stroke-width=\"2px\" d=\"M1295,527.0 C1295,439.5 1425.0,439.5 1425.0,527.0\" fill=\"none\" stroke=\"currentColor\"/>\n",
       "    <text dy=\"1.25em\" style=\"font-size: 0.8em; letter-spacing: 1px\">\n",
       "        <textPath xlink:href=\"#arrow-e6acdab24879483ba98885ad9ac19577-0-7\" class=\"displacy-label\" startOffset=\"50%\" side=\"left\" fill=\"currentColor\" text-anchor=\"middle\">dobj</textPath>\n",
       "    </text>\n",
       "    <path class=\"displacy-arrowhead\" d=\"M1425.0,529.0 L1433.0,517.0 1417.0,517.0\" fill=\"currentColor\"/>\n",
       "</g>\n",
       "\n",
       "<g class=\"displacy-arrow\">\n",
       "    <path class=\"displacy-arc\" id=\"arrow-e6acdab24879483ba98885ad9ac19577-0-8\" stroke-width=\"2px\" d=\"M1645,527.0 C1645,89.5 2845.0,89.5 2845.0,527.0\" fill=\"none\" stroke=\"currentColor\"/>\n",
       "    <text dy=\"1.25em\" style=\"font-size: 0.8em; letter-spacing: 1px\">\n",
       "        <textPath xlink:href=\"#arrow-e6acdab24879483ba98885ad9ac19577-0-8\" class=\"displacy-label\" startOffset=\"50%\" side=\"left\" fill=\"currentColor\" text-anchor=\"middle\">advmod</textPath>\n",
       "    </text>\n",
       "    <path class=\"displacy-arrowhead\" d=\"M1645,529.0 L1637,517.0 1653,517.0\" fill=\"currentColor\"/>\n",
       "</g>\n",
       "\n",
       "<g class=\"displacy-arrow\">\n",
       "    <path class=\"displacy-arc\" id=\"arrow-e6acdab24879483ba98885ad9ac19577-0-9\" stroke-width=\"2px\" d=\"M1820,527.0 C1820,177.0 2840.0,177.0 2840.0,527.0\" fill=\"none\" stroke=\"currentColor\"/>\n",
       "    <text dy=\"1.25em\" style=\"font-size: 0.8em; letter-spacing: 1px\">\n",
       "        <textPath xlink:href=\"#arrow-e6acdab24879483ba98885ad9ac19577-0-9\" class=\"displacy-label\" startOffset=\"50%\" side=\"left\" fill=\"currentColor\" text-anchor=\"middle\">mark</textPath>\n",
       "    </text>\n",
       "    <path class=\"displacy-arrowhead\" d=\"M1820,529.0 L1812,517.0 1828,517.0\" fill=\"currentColor\"/>\n",
       "</g>\n",
       "\n",
       "<g class=\"displacy-arrow\">\n",
       "    <path class=\"displacy-arc\" id=\"arrow-e6acdab24879483ba98885ad9ac19577-0-10\" stroke-width=\"2px\" d=\"M1995,527.0 C1995,352.0 2305.0,352.0 2305.0,527.0\" fill=\"none\" stroke=\"currentColor\"/>\n",
       "    <text dy=\"1.25em\" style=\"font-size: 0.8em; letter-spacing: 1px\">\n",
       "        <textPath xlink:href=\"#arrow-e6acdab24879483ba98885ad9ac19577-0-10\" class=\"displacy-label\" startOffset=\"50%\" side=\"left\" fill=\"currentColor\" text-anchor=\"middle\">det</textPath>\n",
       "    </text>\n",
       "    <path class=\"displacy-arrowhead\" d=\"M1995,529.0 L1987,517.0 2003,517.0\" fill=\"currentColor\"/>\n",
       "</g>\n",
       "\n",
       "<g class=\"displacy-arrow\">\n",
       "    <path class=\"displacy-arc\" id=\"arrow-e6acdab24879483ba98885ad9ac19577-0-11\" stroke-width=\"2px\" d=\"M2170,527.0 C2170,439.5 2300.0,439.5 2300.0,527.0\" fill=\"none\" stroke=\"currentColor\"/>\n",
       "    <text dy=\"1.25em\" style=\"font-size: 0.8em; letter-spacing: 1px\">\n",
       "        <textPath xlink:href=\"#arrow-e6acdab24879483ba98885ad9ac19577-0-11\" class=\"displacy-label\" startOffset=\"50%\" side=\"left\" fill=\"currentColor\" text-anchor=\"middle\">compound</textPath>\n",
       "    </text>\n",
       "    <path class=\"displacy-arrowhead\" d=\"M2170,529.0 L2162,517.0 2178,517.0\" fill=\"currentColor\"/>\n",
       "</g>\n",
       "\n",
       "<g class=\"displacy-arrow\">\n",
       "    <path class=\"displacy-arc\" id=\"arrow-e6acdab24879483ba98885ad9ac19577-0-12\" stroke-width=\"2px\" d=\"M2345,527.0 C2345,264.5 2835.0,264.5 2835.0,527.0\" fill=\"none\" stroke=\"currentColor\"/>\n",
       "    <text dy=\"1.25em\" style=\"font-size: 0.8em; letter-spacing: 1px\">\n",
       "        <textPath xlink:href=\"#arrow-e6acdab24879483ba98885ad9ac19577-0-12\" class=\"displacy-label\" startOffset=\"50%\" side=\"left\" fill=\"currentColor\" text-anchor=\"middle\">nsubjpass</textPath>\n",
       "    </text>\n",
       "    <path class=\"displacy-arrowhead\" d=\"M2345,529.0 L2337,517.0 2353,517.0\" fill=\"currentColor\"/>\n",
       "</g>\n",
       "\n",
       "<g class=\"displacy-arrow\">\n",
       "    <path class=\"displacy-arc\" id=\"arrow-e6acdab24879483ba98885ad9ac19577-0-13\" stroke-width=\"2px\" d=\"M2520,527.0 C2520,352.0 2830.0,352.0 2830.0,527.0\" fill=\"none\" stroke=\"currentColor\"/>\n",
       "    <text dy=\"1.25em\" style=\"font-size: 0.8em; letter-spacing: 1px\">\n",
       "        <textPath xlink:href=\"#arrow-e6acdab24879483ba98885ad9ac19577-0-13\" class=\"displacy-label\" startOffset=\"50%\" side=\"left\" fill=\"currentColor\" text-anchor=\"middle\">aux</textPath>\n",
       "    </text>\n",
       "    <path class=\"displacy-arrowhead\" d=\"M2520,529.0 L2512,517.0 2528,517.0\" fill=\"currentColor\"/>\n",
       "</g>\n",
       "\n",
       "<g class=\"displacy-arrow\">\n",
       "    <path class=\"displacy-arc\" id=\"arrow-e6acdab24879483ba98885ad9ac19577-0-14\" stroke-width=\"2px\" d=\"M2695,527.0 C2695,439.5 2825.0,439.5 2825.0,527.0\" fill=\"none\" stroke=\"currentColor\"/>\n",
       "    <text dy=\"1.25em\" style=\"font-size: 0.8em; letter-spacing: 1px\">\n",
       "        <textPath xlink:href=\"#arrow-e6acdab24879483ba98885ad9ac19577-0-14\" class=\"displacy-label\" startOffset=\"50%\" side=\"left\" fill=\"currentColor\" text-anchor=\"middle\">auxpass</textPath>\n",
       "    </text>\n",
       "    <path class=\"displacy-arrowhead\" d=\"M2695,529.0 L2687,517.0 2703,517.0\" fill=\"currentColor\"/>\n",
       "</g>\n",
       "\n",
       "<g class=\"displacy-arrow\">\n",
       "    <path class=\"displacy-arc\" id=\"arrow-e6acdab24879483ba98885ad9ac19577-0-15\" stroke-width=\"2px\" d=\"M595,527.0 C595,2.0 2850.0,2.0 2850.0,527.0\" fill=\"none\" stroke=\"currentColor\"/>\n",
       "    <text dy=\"1.25em\" style=\"font-size: 0.8em; letter-spacing: 1px\">\n",
       "        <textPath xlink:href=\"#arrow-e6acdab24879483ba98885ad9ac19577-0-15\" class=\"displacy-label\" startOffset=\"50%\" side=\"left\" fill=\"currentColor\" text-anchor=\"middle\">relcl</textPath>\n",
       "    </text>\n",
       "    <path class=\"displacy-arrowhead\" d=\"M2850.0,529.0 L2858.0,517.0 2842.0,517.0\" fill=\"currentColor\"/>\n",
       "</g>\n",
       "\n",
       "<g class=\"displacy-arrow\">\n",
       "    <path class=\"displacy-arc\" id=\"arrow-e6acdab24879483ba98885ad9ac19577-0-16\" stroke-width=\"2px\" d=\"M2870,527.0 C2870,439.5 3000.0,439.5 3000.0,527.0\" fill=\"none\" stroke=\"currentColor\"/>\n",
       "    <text dy=\"1.25em\" style=\"font-size: 0.8em; letter-spacing: 1px\">\n",
       "        <textPath xlink:href=\"#arrow-e6acdab24879483ba98885ad9ac19577-0-16\" class=\"displacy-label\" startOffset=\"50%\" side=\"left\" fill=\"currentColor\" text-anchor=\"middle\">dative</textPath>\n",
       "    </text>\n",
       "    <path class=\"displacy-arrowhead\" d=\"M3000.0,529.0 L3008.0,517.0 2992.0,517.0\" fill=\"currentColor\"/>\n",
       "</g>\n",
       "\n",
       "<g class=\"displacy-arrow\">\n",
       "    <path class=\"displacy-arc\" id=\"arrow-e6acdab24879483ba98885ad9ac19577-0-17\" stroke-width=\"2px\" d=\"M3045,527.0 C3045,439.5 3175.0,439.5 3175.0,527.0\" fill=\"none\" stroke=\"currentColor\"/>\n",
       "    <text dy=\"1.25em\" style=\"font-size: 0.8em; letter-spacing: 1px\">\n",
       "        <textPath xlink:href=\"#arrow-e6acdab24879483ba98885ad9ac19577-0-17\" class=\"displacy-label\" startOffset=\"50%\" side=\"left\" fill=\"currentColor\" text-anchor=\"middle\">pobj</textPath>\n",
       "    </text>\n",
       "    <path class=\"displacy-arrowhead\" d=\"M3175.0,529.0 L3183.0,517.0 3167.0,517.0\" fill=\"currentColor\"/>\n",
       "</g>\n",
       "\n",
       "<g class=\"displacy-arrow\">\n",
       "    <path class=\"displacy-arc\" id=\"arrow-e6acdab24879483ba98885ad9ac19577-0-18\" stroke-width=\"2px\" d=\"M2870,527.0 C2870,352.0 3355.0,352.0 3355.0,527.0\" fill=\"none\" stroke=\"currentColor\"/>\n",
       "    <text dy=\"1.25em\" style=\"font-size: 0.8em; letter-spacing: 1px\">\n",
       "        <textPath xlink:href=\"#arrow-e6acdab24879483ba98885ad9ac19577-0-18\" class=\"displacy-label\" startOffset=\"50%\" side=\"left\" fill=\"currentColor\" text-anchor=\"middle\">agent</textPath>\n",
       "    </text>\n",
       "    <path class=\"displacy-arrowhead\" d=\"M3355.0,529.0 L3363.0,517.0 3347.0,517.0\" fill=\"currentColor\"/>\n",
       "</g>\n",
       "\n",
       "<g class=\"displacy-arrow\">\n",
       "    <path class=\"displacy-arc\" id=\"arrow-e6acdab24879483ba98885ad9ac19577-0-19\" stroke-width=\"2px\" d=\"M3570,527.0 C3570,439.5 3700.0,439.5 3700.0,527.0\" fill=\"none\" stroke=\"currentColor\"/>\n",
       "    <text dy=\"1.25em\" style=\"font-size: 0.8em; letter-spacing: 1px\">\n",
       "        <textPath xlink:href=\"#arrow-e6acdab24879483ba98885ad9ac19577-0-19\" class=\"displacy-label\" startOffset=\"50%\" side=\"left\" fill=\"currentColor\" text-anchor=\"middle\">det</textPath>\n",
       "    </text>\n",
       "    <path class=\"displacy-arrowhead\" d=\"M3570,529.0 L3562,517.0 3578,517.0\" fill=\"currentColor\"/>\n",
       "</g>\n",
       "\n",
       "<g class=\"displacy-arrow\">\n",
       "    <path class=\"displacy-arc\" id=\"arrow-e6acdab24879483ba98885ad9ac19577-0-20\" stroke-width=\"2px\" d=\"M3395,527.0 C3395,352.0 3705.0,352.0 3705.0,527.0\" fill=\"none\" stroke=\"currentColor\"/>\n",
       "    <text dy=\"1.25em\" style=\"font-size: 0.8em; letter-spacing: 1px\">\n",
       "        <textPath xlink:href=\"#arrow-e6acdab24879483ba98885ad9ac19577-0-20\" class=\"displacy-label\" startOffset=\"50%\" side=\"left\" fill=\"currentColor\" text-anchor=\"middle\">pobj</textPath>\n",
       "    </text>\n",
       "    <path class=\"displacy-arrowhead\" d=\"M3705.0,529.0 L3713.0,517.0 3697.0,517.0\" fill=\"currentColor\"/>\n",
       "</g>\n",
       "\n",
       "<g class=\"displacy-arrow\">\n",
       "    <path class=\"displacy-arc\" id=\"arrow-e6acdab24879483ba98885ad9ac19577-0-21\" stroke-width=\"2px\" d=\"M3920,527.0 C3920,352.0 4580.0,352.0 4580.0,527.0\" fill=\"none\" stroke=\"currentColor\"/>\n",
       "    <text dy=\"1.25em\" style=\"font-size: 0.8em; letter-spacing: 1px\">\n",
       "        <textPath xlink:href=\"#arrow-e6acdab24879483ba98885ad9ac19577-0-21\" class=\"displacy-label\" startOffset=\"50%\" side=\"left\" fill=\"currentColor\" text-anchor=\"middle\">advcl</textPath>\n",
       "    </text>\n",
       "    <path class=\"displacy-arrowhead\" d=\"M3920,529.0 L3912,517.0 3928,517.0\" fill=\"currentColor\"/>\n",
       "</g>\n",
       "\n",
       "<g class=\"displacy-arrow\">\n",
       "    <path class=\"displacy-arc\" id=\"arrow-e6acdab24879483ba98885ad9ac19577-0-22\" stroke-width=\"2px\" d=\"M3920,527.0 C3920,439.5 4050.0,439.5 4050.0,527.0\" fill=\"none\" stroke=\"currentColor\"/>\n",
       "    <text dy=\"1.25em\" style=\"font-size: 0.8em; letter-spacing: 1px\">\n",
       "        <textPath xlink:href=\"#arrow-e6acdab24879483ba98885ad9ac19577-0-22\" class=\"displacy-label\" startOffset=\"50%\" side=\"left\" fill=\"currentColor\" text-anchor=\"middle\">agent</textPath>\n",
       "    </text>\n",
       "    <path class=\"displacy-arrowhead\" d=\"M4050.0,529.0 L4058.0,517.0 4042.0,517.0\" fill=\"currentColor\"/>\n",
       "</g>\n",
       "\n",
       "<g class=\"displacy-arrow\">\n",
       "    <path class=\"displacy-arc\" id=\"arrow-e6acdab24879483ba98885ad9ac19577-0-23\" stroke-width=\"2px\" d=\"M4095,527.0 C4095,439.5 4225.0,439.5 4225.0,527.0\" fill=\"none\" stroke=\"currentColor\"/>\n",
       "    <text dy=\"1.25em\" style=\"font-size: 0.8em; letter-spacing: 1px\">\n",
       "        <textPath xlink:href=\"#arrow-e6acdab24879483ba98885ad9ac19577-0-23\" class=\"displacy-label\" startOffset=\"50%\" side=\"left\" fill=\"currentColor\" text-anchor=\"middle\">pobj</textPath>\n",
       "    </text>\n",
       "    <path class=\"displacy-arrowhead\" d=\"M4225.0,529.0 L4233.0,517.0 4217.0,517.0\" fill=\"currentColor\"/>\n",
       "</g>\n",
       "\n",
       "<g class=\"displacy-arrow\">\n",
       "    <path class=\"displacy-arc\" id=\"arrow-e6acdab24879483ba98885ad9ac19577-0-24\" stroke-width=\"2px\" d=\"M4445,527.0 C4445,439.5 4575.0,439.5 4575.0,527.0\" fill=\"none\" stroke=\"currentColor\"/>\n",
       "    <text dy=\"1.25em\" style=\"font-size: 0.8em; letter-spacing: 1px\">\n",
       "        <textPath xlink:href=\"#arrow-e6acdab24879483ba98885ad9ac19577-0-24\" class=\"displacy-label\" startOffset=\"50%\" side=\"left\" fill=\"currentColor\" text-anchor=\"middle\">nsubj</textPath>\n",
       "    </text>\n",
       "    <path class=\"displacy-arrowhead\" d=\"M4445,529.0 L4437,517.0 4453,517.0\" fill=\"currentColor\"/>\n",
       "</g>\n",
       "\n",
       "<g class=\"displacy-arrow\">\n",
       "    <path class=\"displacy-arc\" id=\"arrow-e6acdab24879483ba98885ad9ac19577-0-25\" stroke-width=\"2px\" d=\"M4620,527.0 C4620,439.5 4750.0,439.5 4750.0,527.0\" fill=\"none\" stroke=\"currentColor\"/>\n",
       "    <text dy=\"1.25em\" style=\"font-size: 0.8em; letter-spacing: 1px\">\n",
       "        <textPath xlink:href=\"#arrow-e6acdab24879483ba98885ad9ac19577-0-25\" class=\"displacy-label\" startOffset=\"50%\" side=\"left\" fill=\"currentColor\" text-anchor=\"middle\">prep</textPath>\n",
       "    </text>\n",
       "    <path class=\"displacy-arrowhead\" d=\"M4750.0,529.0 L4758.0,517.0 4742.0,517.0\" fill=\"currentColor\"/>\n",
       "</g>\n",
       "\n",
       "<g class=\"displacy-arrow\">\n",
       "    <path class=\"displacy-arc\" id=\"arrow-e6acdab24879483ba98885ad9ac19577-0-26\" stroke-width=\"2px\" d=\"M4795,527.0 C4795,439.5 4925.0,439.5 4925.0,527.0\" fill=\"none\" stroke=\"currentColor\"/>\n",
       "    <text dy=\"1.25em\" style=\"font-size: 0.8em; letter-spacing: 1px\">\n",
       "        <textPath xlink:href=\"#arrow-e6acdab24879483ba98885ad9ac19577-0-26\" class=\"displacy-label\" startOffset=\"50%\" side=\"left\" fill=\"currentColor\" text-anchor=\"middle\">pcomp</textPath>\n",
       "    </text>\n",
       "    <path class=\"displacy-arrowhead\" d=\"M4925.0,529.0 L4933.0,517.0 4917.0,517.0\" fill=\"currentColor\"/>\n",
       "</g>\n",
       "\n",
       "<g class=\"displacy-arrow\">\n",
       "    <path class=\"displacy-arc\" id=\"arrow-e6acdab24879483ba98885ad9ac19577-0-27\" stroke-width=\"2px\" d=\"M5145,527.0 C5145,439.5 5275.0,439.5 5275.0,527.0\" fill=\"none\" stroke=\"currentColor\"/>\n",
       "    <text dy=\"1.25em\" style=\"font-size: 0.8em; letter-spacing: 1px\">\n",
       "        <textPath xlink:href=\"#arrow-e6acdab24879483ba98885ad9ac19577-0-27\" class=\"displacy-label\" startOffset=\"50%\" side=\"left\" fill=\"currentColor\" text-anchor=\"middle\">poss</textPath>\n",
       "    </text>\n",
       "    <path class=\"displacy-arrowhead\" d=\"M5145,529.0 L5137,517.0 5153,517.0\" fill=\"currentColor\"/>\n",
       "</g>\n",
       "\n",
       "<g class=\"displacy-arrow\">\n",
       "    <path class=\"displacy-arc\" id=\"arrow-e6acdab24879483ba98885ad9ac19577-0-28\" stroke-width=\"2px\" d=\"M4970,527.0 C4970,352.0 5280.0,352.0 5280.0,527.0\" fill=\"none\" stroke=\"currentColor\"/>\n",
       "    <text dy=\"1.25em\" style=\"font-size: 0.8em; letter-spacing: 1px\">\n",
       "        <textPath xlink:href=\"#arrow-e6acdab24879483ba98885ad9ac19577-0-28\" class=\"displacy-label\" startOffset=\"50%\" side=\"left\" fill=\"currentColor\" text-anchor=\"middle\">dobj</textPath>\n",
       "    </text>\n",
       "    <path class=\"displacy-arrowhead\" d=\"M5280.0,529.0 L5288.0,517.0 5272.0,517.0\" fill=\"currentColor\"/>\n",
       "</g>\n",
       "\n",
       "<g class=\"displacy-arrow\">\n",
       "    <path class=\"displacy-arc\" id=\"arrow-e6acdab24879483ba98885ad9ac19577-0-29\" stroke-width=\"2px\" d=\"M5320,527.0 C5320,439.5 5450.0,439.5 5450.0,527.0\" fill=\"none\" stroke=\"currentColor\"/>\n",
       "    <text dy=\"1.25em\" style=\"font-size: 0.8em; letter-spacing: 1px\">\n",
       "        <textPath xlink:href=\"#arrow-e6acdab24879483ba98885ad9ac19577-0-29\" class=\"displacy-label\" startOffset=\"50%\" side=\"left\" fill=\"currentColor\" text-anchor=\"middle\">prep</textPath>\n",
       "    </text>\n",
       "    <path class=\"displacy-arrowhead\" d=\"M5450.0,529.0 L5458.0,517.0 5442.0,517.0\" fill=\"currentColor\"/>\n",
       "</g>\n",
       "\n",
       "<g class=\"displacy-arrow\">\n",
       "    <path class=\"displacy-arc\" id=\"arrow-e6acdab24879483ba98885ad9ac19577-0-30\" stroke-width=\"2px\" d=\"M5495,527.0 C5495,439.5 5625.0,439.5 5625.0,527.0\" fill=\"none\" stroke=\"currentColor\"/>\n",
       "    <text dy=\"1.25em\" style=\"font-size: 0.8em; letter-spacing: 1px\">\n",
       "        <textPath xlink:href=\"#arrow-e6acdab24879483ba98885ad9ac19577-0-30\" class=\"displacy-label\" startOffset=\"50%\" side=\"left\" fill=\"currentColor\" text-anchor=\"middle\">pobj</textPath>\n",
       "    </text>\n",
       "    <path class=\"displacy-arrowhead\" d=\"M5625.0,529.0 L5633.0,517.0 5617.0,517.0\" fill=\"currentColor\"/>\n",
       "</g>\n",
       "</svg></span>"
      ],
      "text/plain": [
       "<IPython.core.display.HTML object>"
      ]
     },
     "metadata": {},
     "output_type": "display_data"
    }
   ],
   "source": [
    "from spacy import displacy\n",
    "displacy.render(doc, style='dep')"
   ]
  },
  {
   "cell_type": "code",
   "execution_count": null,
   "metadata": {},
   "outputs": [],
   "source": []
  },
  {
   "cell_type": "code",
   "execution_count": 95,
   "metadata": {},
   "outputs": [
    {
     "name": "stderr",
     "output_type": "stream",
     "text": [
      "/home/david/anaconda3/envs/rit/lib/python3.9/site-packages/tqdm/auto.py:21: TqdmWarning: IProgress not found. Please update jupyter and ipywidgets. See https://ipywidgets.readthedocs.io/en/stable/user_install.html\n",
      "  from .autonotebook import tqdm as notebook_tqdm\n",
      "Downloading https://raw.githubusercontent.com/stanfordnlp/stanza-resources/main/resources_1.8.0.json: 379kB [00:00, 76.9MB/s]                    \n",
      "2024-04-25 11:37:57 INFO: Downloaded file to /home/david/stanza_resources/resources.json\n",
      "2024-04-25 11:37:57 INFO: Downloading default packages for language: en (English) ...\n",
      "2024-04-25 11:37:58 INFO: File exists: /home/david/stanza_resources/en/default.zip\n",
      "2024-04-25 11:38:05 INFO: Finished downloading models and saved to /home/david/stanza_resources\n",
      "2024-04-25 11:38:05 INFO: Checking for updates to resources.json in case models have been updated.  Note: this behavior can be turned off with download_method=None or download_method=DownloadMethod.REUSE_RESOURCES\n",
      "Downloading https://raw.githubusercontent.com/stanfordnlp/stanza-resources/main/resources_1.8.0.json: 379kB [00:00, 8.60MB/s]                    \n",
      "2024-04-25 11:38:06 INFO: Downloaded file to /home/david/stanza_resources/resources.json\n",
      "2024-04-25 11:38:07 INFO: Loading these models for language: en (English):\n",
      "============================================\n",
      "| Processor    | Package                   |\n",
      "--------------------------------------------\n",
      "| tokenize     | combined                  |\n",
      "| mwt          | combined                  |\n",
      "| pos          | combined_charlm           |\n",
      "| lemma        | combined_nocharlm         |\n",
      "| constituency | ptb3-revised_charlm       |\n",
      "| depparse     | combined_charlm           |\n",
      "| sentiment    | sstplus_charlm            |\n",
      "| ner          | ontonotes-ww-multi_charlm |\n",
      "============================================\n",
      "\n",
      "2024-04-25 11:38:07 INFO: Using device: cpu\n",
      "2024-04-25 11:38:07 INFO: Loading: tokenize\n",
      "2024-04-25 11:38:08 INFO: Loading: mwt\n",
      "2024-04-25 11:38:08 INFO: Loading: pos\n",
      "2024-04-25 11:38:09 INFO: Loading: lemma\n",
      "2024-04-25 11:38:09 INFO: Loading: constituency\n",
      "2024-04-25 11:38:11 INFO: Loading: depparse\n",
      "2024-04-25 11:38:12 INFO: Loading: sentiment\n",
      "2024-04-25 11:38:13 INFO: Loading: ner\n",
      "2024-04-25 11:38:15 INFO: Done loading processors!\n"
     ]
    },
    {
     "name": "stdout",
     "output_type": "stream",
     "text": [
      "('Barack', 4, 'nsubj:pass')\n",
      "('Obama', 1, 'flat')\n",
      "('was', 4, 'aux:pass')\n",
      "('born', 0, 'root')\n",
      "('in', 6, 'case')\n",
      "('Hawaii', 4, 'obl')\n",
      "('.', 4, 'punct')\n"
     ]
    }
   ],
   "source": [
    "import stanza\n",
    "stanza.download('en')       # This downloads the English models for the neural pipeline\n",
    "nlp_stanza = stanza.Pipeline('en') # This sets up a default neural pipeline in English\n",
    "doc_stanza = nlp_stanza(\"Barack Obama was born in Hawaii.  He was elected president in 2008.\")\n",
    "doc_stanza.sentences[0].print_dependencies()\n"
   ]
  },
  {
   "cell_type": "code",
   "execution_count": 96,
   "metadata": {},
   "outputs": [
    {
     "name": "stdout",
     "output_type": "stream",
     "text": [
      "('People', 7, 'nsubj')\n",
      "('dressed', 1, 'acl')\n",
      "('in', 6, 'case')\n",
      "('traditional', 6, 'amod')\n",
      "('Japanese', 6, 'amod')\n",
      "('garb', 2, 'obl')\n",
      "('walk', 0, 'root')\n",
      "('in', 10, 'case')\n",
      "('a', 10, 'det')\n",
      "('procession', 7, 'obl')\n",
      "('through', 13, 'case')\n",
      "('a', 13, 'det')\n",
      "('courtyard', 7, 'obl')\n",
      "('paved', 13, 'acl')\n",
      "('with', 17, 'case')\n",
      "('paving', 17, 'amod')\n",
      "('stones', 14, 'obl')\n",
      "('.', 7, 'punct')\n"
     ]
    }
   ],
   "source": [
    "doc_stanza = nlp_stanza(\"The woman is not going to finish the race.\")\n",
    "doc_stanza.sentences[0].print_dependencies()"
   ]
  },
  {
   "cell_type": "code",
   "execution_count": 44,
   "metadata": {},
   "outputs": [
    {
     "name": "stdout",
     "output_type": "stream",
     "text": [
      "People\n",
      "traditional garb\n",
      "Japanese garb\n",
      "garb\n",
      "procession\n",
      "courtyard\n",
      "paving stones\n",
      "stones\n"
     ]
    }
   ],
   "source": [
    "for sent in doc_stanza.sentences:\n",
    "    for dep in sent.dependencies:\n",
    "        #print(dep[1])\n",
    "        if dep[1] == 'amod' or dep[1] == 'nummod' or dep[1] == 'nmod' or dep[1] == 'compound':\n",
    "            if dep[2].text=='wearing':\n",
    "                print(dep[2].text)\n",
    "            else:                \n",
    "                print(dep[2].text, dep[0].text)\n",
    "        elif dep[1]=='obl' or dep[1]=='nsubj':\n",
    "            print(dep[2].text)"
   ]
  },
  {
   "cell_type": "code",
   "execution_count": 48,
   "metadata": {},
   "outputs": [
    {
     "name": "stdout",
     "output_type": "stream",
     "text": [
      "1\n"
     ]
    },
    {
     "name": "stderr",
     "output_type": "stream",
     "text": [
      "/home/david/anaconda3/envs/rit/lib/python3.9/site-packages/scipy/spatial/distance.py:636: RuntimeWarning: invalid value encountered in scalar divide\n",
      "  dist = 1.0 - uv / np.sqrt(uu * vv)\n"
     ]
    }
   ],
   "source": [
    "from scipy import spatial\n",
    "\n",
    "List1 = [0, 0, 0, 0]\n",
    "List2 = [0, 0, 0, 0]\n",
    "result = 1 - spatial.distance.cosine(List1, List2)\n",
    "print(result)"
   ]
  }
 ],
 "metadata": {
  "kernelspec": {
   "display_name": "rit",
   "language": "python",
   "name": "python3"
  },
  "language_info": {
   "codemirror_mode": {
    "name": "ipython",
    "version": 3
   },
   "file_extension": ".py",
   "mimetype": "text/x-python",
   "name": "python",
   "nbconvert_exporter": "python",
   "pygments_lexer": "ipython3",
   "version": "3.9.13"
  }
 },
 "nbformat": 4,
 "nbformat_minor": 2
}
